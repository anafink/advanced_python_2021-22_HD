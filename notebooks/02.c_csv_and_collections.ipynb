{
 "cells": [
  {
   "cell_type": "code",
   "execution_count": null,
   "id": "detailed-traveler",
   "metadata": {
    "slideshow": {
     "slide_type": "slide"
    }
   },
   "outputs": [],
   "source": [
    "import course;course.header()"
   ]
  },
  {
   "cell_type": "markdown",
   "id": "described-genius",
   "metadata": {
    "slideshow": {
     "slide_type": "slide"
    }
   },
   "source": [
    "# The csv module"
   ]
  },
  {
   "cell_type": "markdown",
   "metadata": {},
   "source": [
    "\n",
    "There are several ways to interact with files that contain data in a \"comma separated value\" format.\n",
    "\n",
    "We cover the [basic csv module](https://docs.python.org/3/library/csv.html), as it is sometimes really helpful to retain only a fraction of the information of a csv to avoid memory overflow."
   ]
  },
  {
   "cell_type": "code",
   "execution_count": 6,
   "id": "inclusive-employment",
   "metadata": {},
   "outputs": [
    {
     "ename": "FileNotFoundError",
     "evalue": "[Errno 2] No such file or directory: '../data/amino_acid_properties.csv'",
     "output_type": "error",
     "traceback": [
      "\u001b[0;31m---------------------------------------------------------------------------\u001b[0m",
      "\u001b[0;31mFileNotFoundError\u001b[0m                         Traceback (most recent call last)",
      "\u001b[0;32m/var/folders/vt/szjx9jz17v3fmxv01s8bfkg40000gn/T/ipykernel_36657/149802858.py\u001b[0m in \u001b[0;36m<module>\u001b[0;34m\u001b[0m\n\u001b[1;32m      1\u001b[0m \u001b[0;32mimport\u001b[0m \u001b[0mcsv\u001b[0m\u001b[0;34m\u001b[0m\u001b[0;34m\u001b[0m\u001b[0m\n\u001b[1;32m      2\u001b[0m \u001b[0;34m\u001b[0m\u001b[0m\n\u001b[0;32m----> 3\u001b[0;31m \u001b[0;32mwith\u001b[0m \u001b[0mopen\u001b[0m\u001b[0;34m(\u001b[0m\u001b[0;34m\"../data/amino_acid_properties.csv\"\u001b[0m\u001b[0;34m)\u001b[0m \u001b[0;32mas\u001b[0m \u001b[0maap\u001b[0m\u001b[0;34m:\u001b[0m\u001b[0;34m\u001b[0m\u001b[0;34m\u001b[0m\u001b[0m\n\u001b[0m\u001b[1;32m      4\u001b[0m     \u001b[0maap_reader\u001b[0m \u001b[0;34m=\u001b[0m \u001b[0mcsv\u001b[0m\u001b[0;34m.\u001b[0m\u001b[0mDictReader\u001b[0m\u001b[0;34m(\u001b[0m\u001b[0maap\u001b[0m\u001b[0;34m,\u001b[0m \u001b[0mdelimiter\u001b[0m\u001b[0;34m=\u001b[0m\u001b[0;34m\",\"\u001b[0m\u001b[0;34m)\u001b[0m\u001b[0;34m\u001b[0m\u001b[0;34m\u001b[0m\u001b[0m\n\u001b[1;32m      5\u001b[0m     \u001b[0;32mfor\u001b[0m \u001b[0mline_dict\u001b[0m \u001b[0;32min\u001b[0m \u001b[0maap_reader\u001b[0m\u001b[0;34m:\u001b[0m\u001b[0;34m\u001b[0m\u001b[0;34m\u001b[0m\u001b[0m\n",
      "\u001b[0;31mFileNotFoundError\u001b[0m: [Errno 2] No such file or directory: '../data/amino_acid_properties.csv'"
     ]
    }
   ],
   "source": [
    "import csv\n",
    "\n",
    "with open(\"../data/amino_acid_properties.csv\") as aap:\n",
    "    aap_reader = csv.DictReader(aap, delimiter=\",\") \n",
    "    for line_dict in aap_reader:\n",
    "        print(line_dict)\n",
    "        break"
   ]
  },
  {
   "cell_type": "markdown",
   "metadata": {},
   "source": [
    "Print not always very readable - use pretty print! :)"
   ]
  },
  {
   "cell_type": "code",
   "execution_count": null,
   "metadata": {},
   "outputs": [],
   "source": [
    "import pprint\n",
    "pprint.pprint(line_dict)"
   ]
  },
  {
   "cell_type": "markdown",
   "metadata": {},
   "source": [
    "The hydropathy index is the energy released or required ot transfer the amino acid from water to a hydrophobic environment.\n",
    "\n",
    " - Arg: +4.5 kcal/mol\n",
    " - Ile: -4.5 kcal/mol"
   ]
  },
  {
   "cell_type": "markdown",
   "id": "educated-sender",
   "metadata": {},
   "source": [
    "We can also use the csv module to write csvs, or tab separated value files if we change the delimiter to \"\\t\""
   ]
  },
  {
   "cell_type": "code",
   "execution_count": null,
   "id": "presidential-aerospace",
   "metadata": {
    "slideshow": {
     "slide_type": "subslide"
    }
   },
   "outputs": [],
   "source": [
    "with open(\"../data/test.csv\", \"w\") as output:\n",
    "    aap_writer = csv.DictWriter(output, fieldnames=[\"Name\", \"3-letter code\"]) \n",
    "    aap_writer.writeheader()\n",
    "    aap_writer.writerow({\"Name\": \"Alanine\", \"3-letter code\": \"Ala\", \"1-letter code\": \"A\"})"
   ]
  },
  {
   "cell_type": "code",
   "execution_count": null,
   "id": "first-functionality",
   "metadata": {},
   "outputs": [],
   "source": [
    "!cat ../data/test.csv"
   ]
  },
  {
   "cell_type": "markdown",
   "metadata": {},
   "source": [
    "## Fix it!"
   ]
  },
  {
   "cell_type": "code",
   "execution_count": null,
   "id": "through-intent",
   "metadata": {
    "slideshow": {
     "slide_type": "subslide"
    }
   },
   "outputs": [],
   "source": [
    "# fix it\n",
    "with open(\"c\", \"w\") as output:\n",
    "    aap_writer = csv.DictWriter(output, fieldnames=[\"Name\", \"3-letter code\"], extrasaction='ignore')\n",
    "    aap_writer.writeheader()\n",
    "    aap_writer.writerow({\"Name\": \"Alanine\", \"3-letter code\": \"Ala\", \"1-letter code\": \"A\"})"
   ]
  },
  {
   "cell_type": "markdown",
   "id": "chemical-blast",
   "metadata": {
    "slideshow": {
     "slide_type": "slide"
    }
   },
   "source": [
    "# Collections - high performance containers ... sorta"
   ]
  },
  {
   "cell_type": "markdown",
   "id": "indirect-turtle",
   "metadata": {
    "slideshow": {
     "slide_type": "-"
    }
   },
   "source": [
    "## [collections.Counter](https://docs.python.org/3.7/library/collections.html#counter-objects)\n",
    "A counter tool is provided to support convenient and rapid tallies. For example"
   ]
  },
  {
   "cell_type": "code",
   "execution_count": 5,
   "id": "simplified-hearts",
   "metadata": {},
   "outputs": [
    {
     "data": {
      "text/plain": [
       "Counter({'\\n': 7,\n",
       "         'M': 8,\n",
       "         'Q': 14,\n",
       "         'R': 20,\n",
       "         'L': 24,\n",
       "         'A': 29,\n",
       "         'T': 28,\n",
       "         'S': 23,\n",
       "         'G': 20,\n",
       "         'C': 1,\n",
       "         'V': 31,\n",
       "         'N': 16,\n",
       "         'P': 17,\n",
       "         'D': 28,\n",
       "         'H': 10,\n",
       "         'K': 18,\n",
       "         'W': 3,\n",
       "         'I': 23,\n",
       "         'E': 21,\n",
       "         'Y': 13,\n",
       "         'F': 13,\n",
       "         ' ': 1})"
      ]
     },
     "execution_count": 5,
     "metadata": {},
     "output_type": "execute_result"
    }
   ],
   "source": [
    "from collections import Counter\n",
    "s = \"\"\"\n",
    "MQRLMMLLATSGACLGLLAVAAVAAAGANPAQRDTHSLLPTHRRQKRDWIWNQMHIDEEK\n",
    "NTSLPHHVGKIKSSVSRKNAKYLLKGEYVGKVFRVDAETGDVFAIERLDRENISEYHLTA\n",
    "VIVDKDTGENLETPSSFTIKVHDVNDNWPVFTHRLFNASVPESSAVGTSVISVTAVDADD\n",
    "PTVGDHASVMYQILKGKEYFAIDNSGRIITITKSLDREKQARYEIVVEARDAQGLRGDSG\n",
    "TATVLVTLQDINDNFPFFTQTKYTFVVPEDTRVGTSVGSLFVEDPDEPQNRMTKYSILRG\n",
    "DYQDAFTIETNPAHNEGIIKPMKPLDYEYIQQYSFIVEATDPTIDL RYMSPPAGNRAQVI\n",
    "\"\"\"\n",
    "Counter(s)"
   ]
  },
  {
   "cell_type": "code",
   "execution_count": null,
   "id": "fleet-spirituality",
   "metadata": {
    "slideshow": {
     "slide_type": "subslide"
    }
   },
   "outputs": [],
   "source": [
    "# Counter objects can be added together\n",
    "Counter(\"AABB\") + Counter(\"BBCC\")"
   ]
  },
  {
   "cell_type": "code",
   "execution_count": null,
   "id": "quarterly-reviewer",
   "metadata": {},
   "outputs": [],
   "source": [
    "# Works with any type of object that are comparable\n",
    "Counter([(1, 1), (1, 2), (2, 1), (1, 1)])"
   ]
  },
  {
   "cell_type": "markdown",
   "id": "thorough-credits",
   "metadata": {
    "slideshow": {
     "slide_type": "slide"
    }
   },
   "source": [
    "## [collections.deque](https://docs.python.org/3.7/library/collections.html#deque-objects)\n",
    "Deque \\[deck\\] or double-ended queue can be used for many tasks, e.g. building a sliding window"
   ]
  },
  {
   "cell_type": "code",
   "execution_count": 1,
   "id": "nervous-template",
   "metadata": {},
   "outputs": [],
   "source": [
    "from collections import deque\n",
    "s = \"\"\"MQRLMMLLATSGACLGLLAVAAVAAAGANPAQRDTHSLLPTHRRQKRDWIWNQMHIDEEKNTSLPHHVGKIKSSVSRKNAKYLLKGEYVGKVFRVDAETGDVFAIERLDRENISEYHLTA\"\"\"\n",
    "window = deque([], maxlen=5)"
   ]
  },
  {
   "cell_type": "code",
   "execution_count": 2,
   "id": "criminal-spare",
   "metadata": {},
   "outputs": [
    {
     "name": "stdout",
     "output_type": "stream",
     "text": [
      "deque(['M'], maxlen=5)\n",
      "deque(['M', 'Q'], maxlen=5)\n",
      "deque(['M', 'Q', 'R'], maxlen=5)\n",
      "deque(['M', 'Q', 'R', 'L'], maxlen=5)\n",
      "deque(['M', 'Q', 'R', 'L', 'M'], maxlen=5)\n",
      "deque(['Q', 'R', 'L', 'M', 'M'], maxlen=5)\n",
      "deque(['R', 'L', 'M', 'M', 'L'], maxlen=5)\n",
      "deque(['L', 'M', 'M', 'L', 'L'], maxlen=5)\n",
      "deque(['M', 'M', 'L', 'L', 'A'], maxlen=5)\n"
     ]
    }
   ],
   "source": [
    "for pos, aa in enumerate(s):\n",
    "    window.append(aa)\n",
    "    print(window)\n",
    "    if pos > 7:\n",
    "        break"
   ]
  },
  {
   "cell_type": "code",
   "execution_count": 4,
   "id": "acoustic-worcester",
   "metadata": {},
   "outputs": [
    {
     "ename": "NameError",
     "evalue": "name 'counter' is not defined",
     "output_type": "error",
     "traceback": [
      "\u001b[0;31m---------------------------------------------------------------------------\u001b[0m",
      "\u001b[0;31mNameError\u001b[0m                                 Traceback (most recent call last)",
      "\u001b[0;32m/var/folders/vt/szjx9jz17v3fmxv01s8bfkg40000gn/T/ipykernel_36657/98503103.py\u001b[0m in \u001b[0;36m<module>\u001b[0;34m\u001b[0m\n\u001b[0;32m----> 1\u001b[0;31m \u001b[0mcounter\u001b[0m\u001b[0;34m(\u001b[0m\u001b[0mwindow\u001b[0m\u001b[0;34m)\u001b[0m\u001b[0;34m\u001b[0m\u001b[0;34m\u001b[0m\u001b[0m\n\u001b[0m",
      "\u001b[0;31mNameError\u001b[0m: name 'counter' is not defined"
     ]
    }
   ],
   "source": [
    "Counter(window)"
   ]
  },
  {
   "cell_type": "markdown",
   "id": "civilian-profit",
   "metadata": {
    "slideshow": {
     "slide_type": "slide"
    }
   },
   "source": [
    "## [collections.defaultdicts](https://docs.python.org/3.7/library/collections.html#defaultdict-objects)\n",
    "Defaultdicts are like dicts yet they treat missing values not with an error, thus testing if key exists is not neccessary and makes life easier :) Ofcourse, one needs to define the default value that is taken if a key is not existent. "
   ]
  },
  {
   "cell_type": "markdown",
   "metadata": {},
   "source": [
    "\n",
    "I use it a lot for counting \n",
    "```python\n",
    "counter[\"error\"] += 1\n",
    "```\n",
    "or collecting elements in lists\n",
    "```python\n",
    "sorter[\"typeA\"].append({\"name\": \"John\"})\n",
    "```\n",
    "\n",
    "No more, let's check if I have the key and if not I need to initialize."
   ]
  },
  {
   "cell_type": "code",
   "execution_count": null,
   "id": "southeast-federal",
   "metadata": {},
   "outputs": [],
   "source": [
    "from collections import defaultdict\n",
    "\n",
    "ddict_int = defaultdict(int)\n",
    "#                        ^---- default factory\n",
    "ddict_list = defaultdict(list)"
   ]
  },
  {
   "cell_type": "code",
   "execution_count": null,
   "id": "modified-ivory",
   "metadata": {},
   "outputs": [],
   "source": [
    "ddict_int[10] += 10\n",
    "ddict_int"
   ]
  },
  {
   "cell_type": "code",
   "execution_count": null,
   "id": "subsequent-screw",
   "metadata": {},
   "outputs": [],
   "source": [
    "ddict_int[0]"
   ]
  },
  {
   "cell_type": "code",
   "execution_count": null,
   "id": "organized-theorem",
   "metadata": {},
   "outputs": [],
   "source": [
    "def default_factory_with_prefilled_dictionary():\n",
    "    return {\"__name\": \"our custom dict\", \"errors\": 0}\n",
    "ddict_custom = defaultdict(default_factory_with_prefilled_dictionary)\n"
   ]
  },
  {
   "cell_type": "markdown",
   "metadata": {},
   "source": [
    "Does that work?"
   ]
  },
  {
   "cell_type": "code",
   "execution_count": null,
   "id": "interior-phenomenon",
   "metadata": {},
   "outputs": [],
   "source": [
    "ddict_custom[10] += 10"
   ]
  },
  {
   "cell_type": "code",
   "execution_count": null,
   "id": "proper-lucas",
   "metadata": {},
   "outputs": [],
   "source": [
    "ddict_custom[\"what_ever_key\"]"
   ]
  },
  {
   "cell_type": "code",
   "execution_count": null,
   "id": "biblical-eligibility",
   "metadata": {},
   "outputs": [],
   "source": [
    "ddict_custom[10]['errors'] += 10"
   ]
  },
  {
   "cell_type": "code",
   "execution_count": null,
   "id": "stylish-energy",
   "metadata": {},
   "outputs": [],
   "source": [
    "ddict_custom"
   ]
  },
  {
   "cell_type": "code",
   "execution_count": null,
   "id": "awful-heath",
   "metadata": {},
   "outputs": [],
   "source": []
  }
 ],
 "metadata": {
  "celltoolbar": "Slideshow",
  "interpreter": {
   "hash": "2ade816e66443935280e5e219ac7556cd7d6953df572d910affd836bc1933d6b"
  },
  "kernelspec": {
   "display_name": "Python 3.9.1 64-bit ('.venv': venv)",
   "name": "python3"
  },
  "language_info": {
   "codemirror_mode": {
    "name": "ipython",
    "version": 3
   },
   "file_extension": ".py",
   "mimetype": "text/x-python",
   "name": "python",
   "nbconvert_exporter": "python",
   "pygments_lexer": "ipython3",
   "version": "3.8.9"
  }
 },
 "nbformat": 4,
 "nbformat_minor": 5
}
