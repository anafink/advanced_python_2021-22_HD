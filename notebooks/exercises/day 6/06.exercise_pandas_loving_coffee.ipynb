{
 "cells": [
  {
   "cell_type": "code",
   "execution_count": 118,
   "id": "9bd573c6",
   "metadata": {},
   "outputs": [],
   "source": [
    "import pandas as pd\n",
    "import plotly\n",
    "import plotly.express as px\n",
    "import numpy as np"
   ]
  },
  {
   "cell_type": "markdown",
   "id": "sealed-nothing",
   "metadata": {},
   "source": [
    "### Read the arabica data set into a dataframe\n",
    "You will notice an \"Unnamed: 0\" column. Where does it come from, how can one get \"rid\" of it?"
   ]
  },
  {
   "cell_type": "code",
   "execution_count": 119,
   "id": "11f23482",
   "metadata": {},
   "outputs": [
    {
     "data": {
      "text/html": [
       "<div>\n",
       "<style scoped>\n",
       "    .dataframe tbody tr th:only-of-type {\n",
       "        vertical-align: middle;\n",
       "    }\n",
       "\n",
       "    .dataframe tbody tr th {\n",
       "        vertical-align: top;\n",
       "    }\n",
       "\n",
       "    .dataframe thead th {\n",
       "        text-align: right;\n",
       "    }\n",
       "</style>\n",
       "<table border=\"1\" class=\"dataframe\">\n",
       "  <thead>\n",
       "    <tr style=\"text-align: right;\">\n",
       "      <th></th>\n",
       "      <th>Unnamed: 0</th>\n",
       "      <th>Species</th>\n",
       "      <th>Owner</th>\n",
       "      <th>Country.of.Origin</th>\n",
       "      <th>Farm.Name</th>\n",
       "      <th>Lot.Number</th>\n",
       "      <th>Mill</th>\n",
       "      <th>ICO.Number</th>\n",
       "      <th>Company</th>\n",
       "      <th>Altitude</th>\n",
       "      <th>...</th>\n",
       "      <th>Color</th>\n",
       "      <th>Category.Two.Defects</th>\n",
       "      <th>Expiration</th>\n",
       "      <th>Certification.Body</th>\n",
       "      <th>Certification.Address</th>\n",
       "      <th>Certification.Contact</th>\n",
       "      <th>unit_of_measurement</th>\n",
       "      <th>altitude_low_meters</th>\n",
       "      <th>altitude_high_meters</th>\n",
       "      <th>altitude_mean_meters</th>\n",
       "    </tr>\n",
       "  </thead>\n",
       "  <tbody>\n",
       "    <tr>\n",
       "      <th>0</th>\n",
       "      <td>1</td>\n",
       "      <td>Arabica</td>\n",
       "      <td>metad plc</td>\n",
       "      <td>Ethiopia</td>\n",
       "      <td>metad plc</td>\n",
       "      <td>NaN</td>\n",
       "      <td>metad plc</td>\n",
       "      <td>2014/2015</td>\n",
       "      <td>metad agricultural developmet plc</td>\n",
       "      <td>1950-2200</td>\n",
       "      <td>...</td>\n",
       "      <td>Green</td>\n",
       "      <td>0</td>\n",
       "      <td>April 3rd, 2016</td>\n",
       "      <td>METAD Agricultural Development plc</td>\n",
       "      <td>309fcf77415a3661ae83e027f7e5f05dad786e44</td>\n",
       "      <td>19fef5a731de2db57d16da10287413f5f99bc2dd</td>\n",
       "      <td>m</td>\n",
       "      <td>1950.0</td>\n",
       "      <td>2200.0</td>\n",
       "      <td>2075.0</td>\n",
       "    </tr>\n",
       "    <tr>\n",
       "      <th>1</th>\n",
       "      <td>2</td>\n",
       "      <td>Arabica</td>\n",
       "      <td>metad plc</td>\n",
       "      <td>Ethiopia</td>\n",
       "      <td>metad plc</td>\n",
       "      <td>NaN</td>\n",
       "      <td>metad plc</td>\n",
       "      <td>2014/2015</td>\n",
       "      <td>metad agricultural developmet plc</td>\n",
       "      <td>1950-2200</td>\n",
       "      <td>...</td>\n",
       "      <td>Green</td>\n",
       "      <td>1</td>\n",
       "      <td>April 3rd, 2016</td>\n",
       "      <td>METAD Agricultural Development plc</td>\n",
       "      <td>309fcf77415a3661ae83e027f7e5f05dad786e44</td>\n",
       "      <td>19fef5a731de2db57d16da10287413f5f99bc2dd</td>\n",
       "      <td>m</td>\n",
       "      <td>1950.0</td>\n",
       "      <td>2200.0</td>\n",
       "      <td>2075.0</td>\n",
       "    </tr>\n",
       "    <tr>\n",
       "      <th>2</th>\n",
       "      <td>3</td>\n",
       "      <td>Arabica</td>\n",
       "      <td>grounds for health admin</td>\n",
       "      <td>Guatemala</td>\n",
       "      <td>san marcos barrancas \"san cristobal cuch</td>\n",
       "      <td>NaN</td>\n",
       "      <td>NaN</td>\n",
       "      <td>NaN</td>\n",
       "      <td>NaN</td>\n",
       "      <td>1600 - 1800 m</td>\n",
       "      <td>...</td>\n",
       "      <td>NaN</td>\n",
       "      <td>0</td>\n",
       "      <td>May 31st, 2011</td>\n",
       "      <td>Specialty Coffee Association</td>\n",
       "      <td>36d0d00a3724338ba7937c52a378d085f2172daa</td>\n",
       "      <td>0878a7d4b9d35ddbf0fe2ce69a2062cceb45a660</td>\n",
       "      <td>m</td>\n",
       "      <td>1600.0</td>\n",
       "      <td>1800.0</td>\n",
       "      <td>1700.0</td>\n",
       "    </tr>\n",
       "    <tr>\n",
       "      <th>3</th>\n",
       "      <td>4</td>\n",
       "      <td>Arabica</td>\n",
       "      <td>yidnekachew dabessa</td>\n",
       "      <td>Ethiopia</td>\n",
       "      <td>yidnekachew dabessa coffee plantation</td>\n",
       "      <td>NaN</td>\n",
       "      <td>wolensu</td>\n",
       "      <td>NaN</td>\n",
       "      <td>yidnekachew debessa coffee plantation</td>\n",
       "      <td>1800-2200</td>\n",
       "      <td>...</td>\n",
       "      <td>Green</td>\n",
       "      <td>2</td>\n",
       "      <td>March 25th, 2016</td>\n",
       "      <td>METAD Agricultural Development plc</td>\n",
       "      <td>309fcf77415a3661ae83e027f7e5f05dad786e44</td>\n",
       "      <td>19fef5a731de2db57d16da10287413f5f99bc2dd</td>\n",
       "      <td>m</td>\n",
       "      <td>1800.0</td>\n",
       "      <td>2200.0</td>\n",
       "      <td>2000.0</td>\n",
       "    </tr>\n",
       "    <tr>\n",
       "      <th>4</th>\n",
       "      <td>5</td>\n",
       "      <td>Arabica</td>\n",
       "      <td>metad plc</td>\n",
       "      <td>Ethiopia</td>\n",
       "      <td>metad plc</td>\n",
       "      <td>NaN</td>\n",
       "      <td>metad plc</td>\n",
       "      <td>2014/2015</td>\n",
       "      <td>metad agricultural developmet plc</td>\n",
       "      <td>1950-2200</td>\n",
       "      <td>...</td>\n",
       "      <td>Green</td>\n",
       "      <td>2</td>\n",
       "      <td>April 3rd, 2016</td>\n",
       "      <td>METAD Agricultural Development plc</td>\n",
       "      <td>309fcf77415a3661ae83e027f7e5f05dad786e44</td>\n",
       "      <td>19fef5a731de2db57d16da10287413f5f99bc2dd</td>\n",
       "      <td>m</td>\n",
       "      <td>1950.0</td>\n",
       "      <td>2200.0</td>\n",
       "      <td>2075.0</td>\n",
       "    </tr>\n",
       "  </tbody>\n",
       "</table>\n",
       "<p>5 rows × 44 columns</p>\n",
       "</div>"
      ],
      "text/plain": [
       "   Unnamed: 0  Species                     Owner Country.of.Origin  \\\n",
       "0           1  Arabica                 metad plc          Ethiopia   \n",
       "1           2  Arabica                 metad plc          Ethiopia   \n",
       "2           3  Arabica  grounds for health admin         Guatemala   \n",
       "3           4  Arabica       yidnekachew dabessa          Ethiopia   \n",
       "4           5  Arabica                 metad plc          Ethiopia   \n",
       "\n",
       "                                  Farm.Name Lot.Number       Mill ICO.Number  \\\n",
       "0                                 metad plc        NaN  metad plc  2014/2015   \n",
       "1                                 metad plc        NaN  metad plc  2014/2015   \n",
       "2  san marcos barrancas \"san cristobal cuch        NaN        NaN        NaN   \n",
       "3     yidnekachew dabessa coffee plantation        NaN    wolensu        NaN   \n",
       "4                                 metad plc        NaN  metad plc  2014/2015   \n",
       "\n",
       "                                 Company       Altitude  ...  Color  \\\n",
       "0      metad agricultural developmet plc      1950-2200  ...  Green   \n",
       "1      metad agricultural developmet plc      1950-2200  ...  Green   \n",
       "2                                    NaN  1600 - 1800 m  ...    NaN   \n",
       "3  yidnekachew debessa coffee plantation      1800-2200  ...  Green   \n",
       "4      metad agricultural developmet plc      1950-2200  ...  Green   \n",
       "\n",
       "  Category.Two.Defects        Expiration                  Certification.Body  \\\n",
       "0                    0   April 3rd, 2016  METAD Agricultural Development plc   \n",
       "1                    1   April 3rd, 2016  METAD Agricultural Development plc   \n",
       "2                    0    May 31st, 2011        Specialty Coffee Association   \n",
       "3                    2  March 25th, 2016  METAD Agricultural Development plc   \n",
       "4                    2   April 3rd, 2016  METAD Agricultural Development plc   \n",
       "\n",
       "                      Certification.Address  \\\n",
       "0  309fcf77415a3661ae83e027f7e5f05dad786e44   \n",
       "1  309fcf77415a3661ae83e027f7e5f05dad786e44   \n",
       "2  36d0d00a3724338ba7937c52a378d085f2172daa   \n",
       "3  309fcf77415a3661ae83e027f7e5f05dad786e44   \n",
       "4  309fcf77415a3661ae83e027f7e5f05dad786e44   \n",
       "\n",
       "                      Certification.Contact unit_of_measurement  \\\n",
       "0  19fef5a731de2db57d16da10287413f5f99bc2dd                   m   \n",
       "1  19fef5a731de2db57d16da10287413f5f99bc2dd                   m   \n",
       "2  0878a7d4b9d35ddbf0fe2ce69a2062cceb45a660                   m   \n",
       "3  19fef5a731de2db57d16da10287413f5f99bc2dd                   m   \n",
       "4  19fef5a731de2db57d16da10287413f5f99bc2dd                   m   \n",
       "\n",
       "  altitude_low_meters altitude_high_meters altitude_mean_meters  \n",
       "0              1950.0               2200.0               2075.0  \n",
       "1              1950.0               2200.0               2075.0  \n",
       "2              1600.0               1800.0               1700.0  \n",
       "3              1800.0               2200.0               2000.0  \n",
       "4              1950.0               2200.0               2075.0  \n",
       "\n",
       "[5 rows x 44 columns]"
      ]
     },
     "execution_count": 119,
     "metadata": {},
     "output_type": "execute_result"
    }
   ],
   "source": [
    "coffee_df = pd.read_csv(\"../../../data/arabica_data_cleaned.csv\")\n",
    "coffee_df.head()"
   ]
  },
  {
   "cell_type": "code",
   "execution_count": 120,
   "id": "9cfb4fef",
   "metadata": {},
   "outputs": [
    {
     "data": {
      "text/html": [
       "<div>\n",
       "<style scoped>\n",
       "    .dataframe tbody tr th:only-of-type {\n",
       "        vertical-align: middle;\n",
       "    }\n",
       "\n",
       "    .dataframe tbody tr th {\n",
       "        vertical-align: top;\n",
       "    }\n",
       "\n",
       "    .dataframe thead th {\n",
       "        text-align: right;\n",
       "    }\n",
       "</style>\n",
       "<table border=\"1\" class=\"dataframe\">\n",
       "  <thead>\n",
       "    <tr style=\"text-align: right;\">\n",
       "      <th></th>\n",
       "      <th>Species</th>\n",
       "      <th>Owner</th>\n",
       "      <th>Country.of.Origin</th>\n",
       "      <th>Farm.Name</th>\n",
       "      <th>Lot.Number</th>\n",
       "      <th>Mill</th>\n",
       "      <th>ICO.Number</th>\n",
       "      <th>Company</th>\n",
       "      <th>Altitude</th>\n",
       "      <th>Region</th>\n",
       "      <th>...</th>\n",
       "      <th>Color</th>\n",
       "      <th>Category.Two.Defects</th>\n",
       "      <th>Expiration</th>\n",
       "      <th>Certification.Body</th>\n",
       "      <th>Certification.Address</th>\n",
       "      <th>Certification.Contact</th>\n",
       "      <th>unit_of_measurement</th>\n",
       "      <th>altitude_low_meters</th>\n",
       "      <th>altitude_high_meters</th>\n",
       "      <th>altitude_mean_meters</th>\n",
       "    </tr>\n",
       "  </thead>\n",
       "  <tbody>\n",
       "    <tr>\n",
       "      <th>1</th>\n",
       "      <td>Arabica</td>\n",
       "      <td>metad plc</td>\n",
       "      <td>Ethiopia</td>\n",
       "      <td>metad plc</td>\n",
       "      <td>NaN</td>\n",
       "      <td>metad plc</td>\n",
       "      <td>2014/2015</td>\n",
       "      <td>metad agricultural developmet plc</td>\n",
       "      <td>1950-2200</td>\n",
       "      <td>guji-hambela</td>\n",
       "      <td>...</td>\n",
       "      <td>Green</td>\n",
       "      <td>0</td>\n",
       "      <td>April 3rd, 2016</td>\n",
       "      <td>METAD Agricultural Development plc</td>\n",
       "      <td>309fcf77415a3661ae83e027f7e5f05dad786e44</td>\n",
       "      <td>19fef5a731de2db57d16da10287413f5f99bc2dd</td>\n",
       "      <td>m</td>\n",
       "      <td>1950.0</td>\n",
       "      <td>2200.0</td>\n",
       "      <td>2075.0</td>\n",
       "    </tr>\n",
       "    <tr>\n",
       "      <th>2</th>\n",
       "      <td>Arabica</td>\n",
       "      <td>metad plc</td>\n",
       "      <td>Ethiopia</td>\n",
       "      <td>metad plc</td>\n",
       "      <td>NaN</td>\n",
       "      <td>metad plc</td>\n",
       "      <td>2014/2015</td>\n",
       "      <td>metad agricultural developmet plc</td>\n",
       "      <td>1950-2200</td>\n",
       "      <td>guji-hambela</td>\n",
       "      <td>...</td>\n",
       "      <td>Green</td>\n",
       "      <td>1</td>\n",
       "      <td>April 3rd, 2016</td>\n",
       "      <td>METAD Agricultural Development plc</td>\n",
       "      <td>309fcf77415a3661ae83e027f7e5f05dad786e44</td>\n",
       "      <td>19fef5a731de2db57d16da10287413f5f99bc2dd</td>\n",
       "      <td>m</td>\n",
       "      <td>1950.0</td>\n",
       "      <td>2200.0</td>\n",
       "      <td>2075.0</td>\n",
       "    </tr>\n",
       "    <tr>\n",
       "      <th>3</th>\n",
       "      <td>Arabica</td>\n",
       "      <td>grounds for health admin</td>\n",
       "      <td>Guatemala</td>\n",
       "      <td>san marcos barrancas \"san cristobal cuch</td>\n",
       "      <td>NaN</td>\n",
       "      <td>NaN</td>\n",
       "      <td>NaN</td>\n",
       "      <td>NaN</td>\n",
       "      <td>1600 - 1800 m</td>\n",
       "      <td>NaN</td>\n",
       "      <td>...</td>\n",
       "      <td>NaN</td>\n",
       "      <td>0</td>\n",
       "      <td>May 31st, 2011</td>\n",
       "      <td>Specialty Coffee Association</td>\n",
       "      <td>36d0d00a3724338ba7937c52a378d085f2172daa</td>\n",
       "      <td>0878a7d4b9d35ddbf0fe2ce69a2062cceb45a660</td>\n",
       "      <td>m</td>\n",
       "      <td>1600.0</td>\n",
       "      <td>1800.0</td>\n",
       "      <td>1700.0</td>\n",
       "    </tr>\n",
       "    <tr>\n",
       "      <th>4</th>\n",
       "      <td>Arabica</td>\n",
       "      <td>yidnekachew dabessa</td>\n",
       "      <td>Ethiopia</td>\n",
       "      <td>yidnekachew dabessa coffee plantation</td>\n",
       "      <td>NaN</td>\n",
       "      <td>wolensu</td>\n",
       "      <td>NaN</td>\n",
       "      <td>yidnekachew debessa coffee plantation</td>\n",
       "      <td>1800-2200</td>\n",
       "      <td>oromia</td>\n",
       "      <td>...</td>\n",
       "      <td>Green</td>\n",
       "      <td>2</td>\n",
       "      <td>March 25th, 2016</td>\n",
       "      <td>METAD Agricultural Development plc</td>\n",
       "      <td>309fcf77415a3661ae83e027f7e5f05dad786e44</td>\n",
       "      <td>19fef5a731de2db57d16da10287413f5f99bc2dd</td>\n",
       "      <td>m</td>\n",
       "      <td>1800.0</td>\n",
       "      <td>2200.0</td>\n",
       "      <td>2000.0</td>\n",
       "    </tr>\n",
       "    <tr>\n",
       "      <th>5</th>\n",
       "      <td>Arabica</td>\n",
       "      <td>metad plc</td>\n",
       "      <td>Ethiopia</td>\n",
       "      <td>metad plc</td>\n",
       "      <td>NaN</td>\n",
       "      <td>metad plc</td>\n",
       "      <td>2014/2015</td>\n",
       "      <td>metad agricultural developmet plc</td>\n",
       "      <td>1950-2200</td>\n",
       "      <td>guji-hambela</td>\n",
       "      <td>...</td>\n",
       "      <td>Green</td>\n",
       "      <td>2</td>\n",
       "      <td>April 3rd, 2016</td>\n",
       "      <td>METAD Agricultural Development plc</td>\n",
       "      <td>309fcf77415a3661ae83e027f7e5f05dad786e44</td>\n",
       "      <td>19fef5a731de2db57d16da10287413f5f99bc2dd</td>\n",
       "      <td>m</td>\n",
       "      <td>1950.0</td>\n",
       "      <td>2200.0</td>\n",
       "      <td>2075.0</td>\n",
       "    </tr>\n",
       "  </tbody>\n",
       "</table>\n",
       "<p>5 rows × 43 columns</p>\n",
       "</div>"
      ],
      "text/plain": [
       "   Species                     Owner Country.of.Origin  \\\n",
       "1  Arabica                 metad plc          Ethiopia   \n",
       "2  Arabica                 metad plc          Ethiopia   \n",
       "3  Arabica  grounds for health admin         Guatemala   \n",
       "4  Arabica       yidnekachew dabessa          Ethiopia   \n",
       "5  Arabica                 metad plc          Ethiopia   \n",
       "\n",
       "                                  Farm.Name Lot.Number       Mill ICO.Number  \\\n",
       "1                                 metad plc        NaN  metad plc  2014/2015   \n",
       "2                                 metad plc        NaN  metad plc  2014/2015   \n",
       "3  san marcos barrancas \"san cristobal cuch        NaN        NaN        NaN   \n",
       "4     yidnekachew dabessa coffee plantation        NaN    wolensu        NaN   \n",
       "5                                 metad plc        NaN  metad plc  2014/2015   \n",
       "\n",
       "                                 Company       Altitude        Region  ...  \\\n",
       "1      metad agricultural developmet plc      1950-2200  guji-hambela  ...   \n",
       "2      metad agricultural developmet plc      1950-2200  guji-hambela  ...   \n",
       "3                                    NaN  1600 - 1800 m           NaN  ...   \n",
       "4  yidnekachew debessa coffee plantation      1800-2200        oromia  ...   \n",
       "5      metad agricultural developmet plc      1950-2200  guji-hambela  ...   \n",
       "\n",
       "   Color  Category.Two.Defects        Expiration  \\\n",
       "1  Green                     0   April 3rd, 2016   \n",
       "2  Green                     1   April 3rd, 2016   \n",
       "3    NaN                     0    May 31st, 2011   \n",
       "4  Green                     2  March 25th, 2016   \n",
       "5  Green                     2   April 3rd, 2016   \n",
       "\n",
       "                   Certification.Body  \\\n",
       "1  METAD Agricultural Development plc   \n",
       "2  METAD Agricultural Development plc   \n",
       "3        Specialty Coffee Association   \n",
       "4  METAD Agricultural Development plc   \n",
       "5  METAD Agricultural Development plc   \n",
       "\n",
       "                      Certification.Address  \\\n",
       "1  309fcf77415a3661ae83e027f7e5f05dad786e44   \n",
       "2  309fcf77415a3661ae83e027f7e5f05dad786e44   \n",
       "3  36d0d00a3724338ba7937c52a378d085f2172daa   \n",
       "4  309fcf77415a3661ae83e027f7e5f05dad786e44   \n",
       "5  309fcf77415a3661ae83e027f7e5f05dad786e44   \n",
       "\n",
       "                      Certification.Contact unit_of_measurement  \\\n",
       "1  19fef5a731de2db57d16da10287413f5f99bc2dd                   m   \n",
       "2  19fef5a731de2db57d16da10287413f5f99bc2dd                   m   \n",
       "3  0878a7d4b9d35ddbf0fe2ce69a2062cceb45a660                   m   \n",
       "4  19fef5a731de2db57d16da10287413f5f99bc2dd                   m   \n",
       "5  19fef5a731de2db57d16da10287413f5f99bc2dd                   m   \n",
       "\n",
       "  altitude_low_meters altitude_high_meters  altitude_mean_meters  \n",
       "1              1950.0               2200.0                2075.0  \n",
       "2              1950.0               2200.0                2075.0  \n",
       "3              1600.0               1800.0                1700.0  \n",
       "4              1800.0               2200.0                2000.0  \n",
       "5              1950.0               2200.0                2075.0  \n",
       "\n",
       "[5 rows x 43 columns]"
      ]
     },
     "execution_count": 120,
     "metadata": {},
     "output_type": "execute_result"
    }
   ],
   "source": [
    "coffee_df = coffee_df.set_index(\"Unnamed: 0\")\n",
    "coffee_df.index.name = None\n",
    "coffee_df.head()"
   ]
  },
  {
   "cell_type": "markdown",
   "id": "sexual-contribution",
   "metadata": {},
   "source": [
    "## Drop some categorical columns\n",
    "The dataset is rich in meta data, however we just want to keep \"Country.of.Origin\", \"Producer\", \"Processing.Method\". How to drop the rest?\n",
    "While you're at it rename the three columns we want to keep so they do not have dots but space in their name. "
   ]
  },
  {
   "cell_type": "code",
   "execution_count": 121,
   "id": "210ffd3c",
   "metadata": {},
   "outputs": [
    {
     "data": {
      "text/html": [
       "<div>\n",
       "<style scoped>\n",
       "    .dataframe tbody tr th:only-of-type {\n",
       "        vertical-align: middle;\n",
       "    }\n",
       "\n",
       "    .dataframe tbody tr th {\n",
       "        vertical-align: top;\n",
       "    }\n",
       "\n",
       "    .dataframe thead th {\n",
       "        text-align: right;\n",
       "    }\n",
       "</style>\n",
       "<table border=\"1\" class=\"dataframe\">\n",
       "  <thead>\n",
       "    <tr style=\"text-align: right;\">\n",
       "      <th></th>\n",
       "      <th>Country.of.Origin</th>\n",
       "      <th>Producer</th>\n",
       "      <th>Processing.Method</th>\n",
       "      <th>Number.of.Bags</th>\n",
       "      <th>Aroma</th>\n",
       "      <th>Flavor</th>\n",
       "      <th>Aftertaste</th>\n",
       "      <th>Acidity</th>\n",
       "      <th>Body</th>\n",
       "      <th>Balance</th>\n",
       "      <th>...</th>\n",
       "      <th>Sweetness</th>\n",
       "      <th>Cupper.Points</th>\n",
       "      <th>Total.Cup.Points</th>\n",
       "      <th>Moisture</th>\n",
       "      <th>Category.One.Defects</th>\n",
       "      <th>Quakers</th>\n",
       "      <th>Category.Two.Defects</th>\n",
       "      <th>altitude_low_meters</th>\n",
       "      <th>altitude_high_meters</th>\n",
       "      <th>altitude_mean_meters</th>\n",
       "    </tr>\n",
       "  </thead>\n",
       "  <tbody>\n",
       "    <tr>\n",
       "      <th>1</th>\n",
       "      <td>Ethiopia</td>\n",
       "      <td>METAD PLC</td>\n",
       "      <td>Washed / Wet</td>\n",
       "      <td>300</td>\n",
       "      <td>8.67</td>\n",
       "      <td>8.83</td>\n",
       "      <td>8.67</td>\n",
       "      <td>8.75</td>\n",
       "      <td>8.50</td>\n",
       "      <td>8.42</td>\n",
       "      <td>...</td>\n",
       "      <td>10.0</td>\n",
       "      <td>8.75</td>\n",
       "      <td>90.58</td>\n",
       "      <td>0.12</td>\n",
       "      <td>0</td>\n",
       "      <td>0.0</td>\n",
       "      <td>0</td>\n",
       "      <td>1950.0</td>\n",
       "      <td>2200.0</td>\n",
       "      <td>2075.0</td>\n",
       "    </tr>\n",
       "    <tr>\n",
       "      <th>2</th>\n",
       "      <td>Ethiopia</td>\n",
       "      <td>METAD PLC</td>\n",
       "      <td>Washed / Wet</td>\n",
       "      <td>300</td>\n",
       "      <td>8.75</td>\n",
       "      <td>8.67</td>\n",
       "      <td>8.50</td>\n",
       "      <td>8.58</td>\n",
       "      <td>8.42</td>\n",
       "      <td>8.42</td>\n",
       "      <td>...</td>\n",
       "      <td>10.0</td>\n",
       "      <td>8.58</td>\n",
       "      <td>89.92</td>\n",
       "      <td>0.12</td>\n",
       "      <td>0</td>\n",
       "      <td>0.0</td>\n",
       "      <td>1</td>\n",
       "      <td>1950.0</td>\n",
       "      <td>2200.0</td>\n",
       "      <td>2075.0</td>\n",
       "    </tr>\n",
       "    <tr>\n",
       "      <th>3</th>\n",
       "      <td>Guatemala</td>\n",
       "      <td>NaN</td>\n",
       "      <td>NaN</td>\n",
       "      <td>5</td>\n",
       "      <td>8.42</td>\n",
       "      <td>8.50</td>\n",
       "      <td>8.42</td>\n",
       "      <td>8.42</td>\n",
       "      <td>8.33</td>\n",
       "      <td>8.42</td>\n",
       "      <td>...</td>\n",
       "      <td>10.0</td>\n",
       "      <td>9.25</td>\n",
       "      <td>89.75</td>\n",
       "      <td>0.00</td>\n",
       "      <td>0</td>\n",
       "      <td>0.0</td>\n",
       "      <td>0</td>\n",
       "      <td>1600.0</td>\n",
       "      <td>1800.0</td>\n",
       "      <td>1700.0</td>\n",
       "    </tr>\n",
       "    <tr>\n",
       "      <th>4</th>\n",
       "      <td>Ethiopia</td>\n",
       "      <td>Yidnekachew Dabessa Coffee Plantation</td>\n",
       "      <td>Natural / Dry</td>\n",
       "      <td>320</td>\n",
       "      <td>8.17</td>\n",
       "      <td>8.58</td>\n",
       "      <td>8.42</td>\n",
       "      <td>8.42</td>\n",
       "      <td>8.50</td>\n",
       "      <td>8.25</td>\n",
       "      <td>...</td>\n",
       "      <td>10.0</td>\n",
       "      <td>8.67</td>\n",
       "      <td>89.00</td>\n",
       "      <td>0.11</td>\n",
       "      <td>0</td>\n",
       "      <td>0.0</td>\n",
       "      <td>2</td>\n",
       "      <td>1800.0</td>\n",
       "      <td>2200.0</td>\n",
       "      <td>2000.0</td>\n",
       "    </tr>\n",
       "    <tr>\n",
       "      <th>5</th>\n",
       "      <td>Ethiopia</td>\n",
       "      <td>METAD PLC</td>\n",
       "      <td>Washed / Wet</td>\n",
       "      <td>300</td>\n",
       "      <td>8.25</td>\n",
       "      <td>8.50</td>\n",
       "      <td>8.25</td>\n",
       "      <td>8.50</td>\n",
       "      <td>8.42</td>\n",
       "      <td>8.33</td>\n",
       "      <td>...</td>\n",
       "      <td>10.0</td>\n",
       "      <td>8.58</td>\n",
       "      <td>88.83</td>\n",
       "      <td>0.12</td>\n",
       "      <td>0</td>\n",
       "      <td>0.0</td>\n",
       "      <td>2</td>\n",
       "      <td>1950.0</td>\n",
       "      <td>2200.0</td>\n",
       "      <td>2075.0</td>\n",
       "    </tr>\n",
       "  </tbody>\n",
       "</table>\n",
       "<p>5 rows × 22 columns</p>\n",
       "</div>"
      ],
      "text/plain": [
       "  Country.of.Origin                               Producer Processing.Method  \\\n",
       "1          Ethiopia                              METAD PLC      Washed / Wet   \n",
       "2          Ethiopia                              METAD PLC      Washed / Wet   \n",
       "3         Guatemala                                    NaN               NaN   \n",
       "4          Ethiopia  Yidnekachew Dabessa Coffee Plantation     Natural / Dry   \n",
       "5          Ethiopia                              METAD PLC      Washed / Wet   \n",
       "\n",
       "   Number.of.Bags  Aroma  Flavor  Aftertaste  Acidity  Body  Balance  ...  \\\n",
       "1             300   8.67    8.83        8.67     8.75  8.50     8.42  ...   \n",
       "2             300   8.75    8.67        8.50     8.58  8.42     8.42  ...   \n",
       "3               5   8.42    8.50        8.42     8.42  8.33     8.42  ...   \n",
       "4             320   8.17    8.58        8.42     8.42  8.50     8.25  ...   \n",
       "5             300   8.25    8.50        8.25     8.50  8.42     8.33  ...   \n",
       "\n",
       "   Sweetness  Cupper.Points  Total.Cup.Points  Moisture  Category.One.Defects  \\\n",
       "1       10.0           8.75             90.58      0.12                     0   \n",
       "2       10.0           8.58             89.92      0.12                     0   \n",
       "3       10.0           9.25             89.75      0.00                     0   \n",
       "4       10.0           8.67             89.00      0.11                     0   \n",
       "5       10.0           8.58             88.83      0.12                     0   \n",
       "\n",
       "   Quakers  Category.Two.Defects  altitude_low_meters  altitude_high_meters  \\\n",
       "1      0.0                     0               1950.0                2200.0   \n",
       "2      0.0                     1               1950.0                2200.0   \n",
       "3      0.0                     0               1600.0                1800.0   \n",
       "4      0.0                     2               1800.0                2200.0   \n",
       "5      0.0                     2               1950.0                2200.0   \n",
       "\n",
       "   altitude_mean_meters  \n",
       "1                2075.0  \n",
       "2                2075.0  \n",
       "3                1700.0  \n",
       "4                2000.0  \n",
       "5                2075.0  \n",
       "\n",
       "[5 rows x 22 columns]"
      ]
     },
     "execution_count": 121,
     "metadata": {},
     "output_type": "execute_result"
    }
   ],
   "source": [
    "coffee_num = coffee_df.select_dtypes(exclude = object)\n",
    "coffee_objects = [coffee_df[\"Country.of.Origin\"], coffee_df[\"Producer\"], coffee_df[\"Processing.Method\"]]\n",
    "headers = [\"Country.of.Origin\",\"Producer\",\"Processing.Method\"]\n",
    "df_reduced = pd.concat(coffee_objects, axis = 1, keys = headers)\n",
    "\n",
    "coffee_df_reduced = df_reduced.join(coffee_num)\n",
    "coffee_df_reduced.head()"
   ]
  },
  {
   "cell_type": "code",
   "execution_count": 122,
   "id": "2ee4d95b",
   "metadata": {},
   "outputs": [
    {
     "data": {
      "text/html": [
       "<div>\n",
       "<style scoped>\n",
       "    .dataframe tbody tr th:only-of-type {\n",
       "        vertical-align: middle;\n",
       "    }\n",
       "\n",
       "    .dataframe tbody tr th {\n",
       "        vertical-align: top;\n",
       "    }\n",
       "\n",
       "    .dataframe thead th {\n",
       "        text-align: right;\n",
       "    }\n",
       "</style>\n",
       "<table border=\"1\" class=\"dataframe\">\n",
       "  <thead>\n",
       "    <tr style=\"text-align: right;\">\n",
       "      <th></th>\n",
       "      <th>Country of Origin</th>\n",
       "      <th>Producer</th>\n",
       "      <th>Processing Method</th>\n",
       "      <th>Number of Bags</th>\n",
       "      <th>Aroma</th>\n",
       "      <th>Flavor</th>\n",
       "      <th>Aftertaste</th>\n",
       "      <th>Acidity</th>\n",
       "      <th>Body</th>\n",
       "      <th>Balance</th>\n",
       "      <th>...</th>\n",
       "      <th>Sweetness</th>\n",
       "      <th>Cupper Points</th>\n",
       "      <th>Total Cup Points</th>\n",
       "      <th>Moisture</th>\n",
       "      <th>Category One Defects</th>\n",
       "      <th>Quakers</th>\n",
       "      <th>Category Two Defects</th>\n",
       "      <th>altitude low meters</th>\n",
       "      <th>altitude high meters</th>\n",
       "      <th>altitude mean meters</th>\n",
       "    </tr>\n",
       "  </thead>\n",
       "  <tbody>\n",
       "    <tr>\n",
       "      <th>1</th>\n",
       "      <td>Ethiopia</td>\n",
       "      <td>METAD PLC</td>\n",
       "      <td>Washed / Wet</td>\n",
       "      <td>300</td>\n",
       "      <td>8.67</td>\n",
       "      <td>8.83</td>\n",
       "      <td>8.67</td>\n",
       "      <td>8.75</td>\n",
       "      <td>8.50</td>\n",
       "      <td>8.42</td>\n",
       "      <td>...</td>\n",
       "      <td>10.0</td>\n",
       "      <td>8.75</td>\n",
       "      <td>90.58</td>\n",
       "      <td>0.12</td>\n",
       "      <td>0</td>\n",
       "      <td>0.0</td>\n",
       "      <td>0</td>\n",
       "      <td>1950.0</td>\n",
       "      <td>2200.0</td>\n",
       "      <td>2075.0</td>\n",
       "    </tr>\n",
       "    <tr>\n",
       "      <th>2</th>\n",
       "      <td>Ethiopia</td>\n",
       "      <td>METAD PLC</td>\n",
       "      <td>Washed / Wet</td>\n",
       "      <td>300</td>\n",
       "      <td>8.75</td>\n",
       "      <td>8.67</td>\n",
       "      <td>8.50</td>\n",
       "      <td>8.58</td>\n",
       "      <td>8.42</td>\n",
       "      <td>8.42</td>\n",
       "      <td>...</td>\n",
       "      <td>10.0</td>\n",
       "      <td>8.58</td>\n",
       "      <td>89.92</td>\n",
       "      <td>0.12</td>\n",
       "      <td>0</td>\n",
       "      <td>0.0</td>\n",
       "      <td>1</td>\n",
       "      <td>1950.0</td>\n",
       "      <td>2200.0</td>\n",
       "      <td>2075.0</td>\n",
       "    </tr>\n",
       "    <tr>\n",
       "      <th>3</th>\n",
       "      <td>Guatemala</td>\n",
       "      <td>NaN</td>\n",
       "      <td>NaN</td>\n",
       "      <td>5</td>\n",
       "      <td>8.42</td>\n",
       "      <td>8.50</td>\n",
       "      <td>8.42</td>\n",
       "      <td>8.42</td>\n",
       "      <td>8.33</td>\n",
       "      <td>8.42</td>\n",
       "      <td>...</td>\n",
       "      <td>10.0</td>\n",
       "      <td>9.25</td>\n",
       "      <td>89.75</td>\n",
       "      <td>0.00</td>\n",
       "      <td>0</td>\n",
       "      <td>0.0</td>\n",
       "      <td>0</td>\n",
       "      <td>1600.0</td>\n",
       "      <td>1800.0</td>\n",
       "      <td>1700.0</td>\n",
       "    </tr>\n",
       "    <tr>\n",
       "      <th>4</th>\n",
       "      <td>Ethiopia</td>\n",
       "      <td>Yidnekachew Dabessa Coffee Plantation</td>\n",
       "      <td>Natural / Dry</td>\n",
       "      <td>320</td>\n",
       "      <td>8.17</td>\n",
       "      <td>8.58</td>\n",
       "      <td>8.42</td>\n",
       "      <td>8.42</td>\n",
       "      <td>8.50</td>\n",
       "      <td>8.25</td>\n",
       "      <td>...</td>\n",
       "      <td>10.0</td>\n",
       "      <td>8.67</td>\n",
       "      <td>89.00</td>\n",
       "      <td>0.11</td>\n",
       "      <td>0</td>\n",
       "      <td>0.0</td>\n",
       "      <td>2</td>\n",
       "      <td>1800.0</td>\n",
       "      <td>2200.0</td>\n",
       "      <td>2000.0</td>\n",
       "    </tr>\n",
       "    <tr>\n",
       "      <th>5</th>\n",
       "      <td>Ethiopia</td>\n",
       "      <td>METAD PLC</td>\n",
       "      <td>Washed / Wet</td>\n",
       "      <td>300</td>\n",
       "      <td>8.25</td>\n",
       "      <td>8.50</td>\n",
       "      <td>8.25</td>\n",
       "      <td>8.50</td>\n",
       "      <td>8.42</td>\n",
       "      <td>8.33</td>\n",
       "      <td>...</td>\n",
       "      <td>10.0</td>\n",
       "      <td>8.58</td>\n",
       "      <td>88.83</td>\n",
       "      <td>0.12</td>\n",
       "      <td>0</td>\n",
       "      <td>0.0</td>\n",
       "      <td>2</td>\n",
       "      <td>1950.0</td>\n",
       "      <td>2200.0</td>\n",
       "      <td>2075.0</td>\n",
       "    </tr>\n",
       "  </tbody>\n",
       "</table>\n",
       "<p>5 rows × 22 columns</p>\n",
       "</div>"
      ],
      "text/plain": [
       "  Country of Origin                               Producer Processing Method  \\\n",
       "1          Ethiopia                              METAD PLC      Washed / Wet   \n",
       "2          Ethiopia                              METAD PLC      Washed / Wet   \n",
       "3         Guatemala                                    NaN               NaN   \n",
       "4          Ethiopia  Yidnekachew Dabessa Coffee Plantation     Natural / Dry   \n",
       "5          Ethiopia                              METAD PLC      Washed / Wet   \n",
       "\n",
       "   Number of Bags  Aroma  Flavor  Aftertaste  Acidity  Body  Balance  ...  \\\n",
       "1             300   8.67    8.83        8.67     8.75  8.50     8.42  ...   \n",
       "2             300   8.75    8.67        8.50     8.58  8.42     8.42  ...   \n",
       "3               5   8.42    8.50        8.42     8.42  8.33     8.42  ...   \n",
       "4             320   8.17    8.58        8.42     8.42  8.50     8.25  ...   \n",
       "5             300   8.25    8.50        8.25     8.50  8.42     8.33  ...   \n",
       "\n",
       "   Sweetness  Cupper Points  Total Cup Points  Moisture  Category One Defects  \\\n",
       "1       10.0           8.75             90.58      0.12                     0   \n",
       "2       10.0           8.58             89.92      0.12                     0   \n",
       "3       10.0           9.25             89.75      0.00                     0   \n",
       "4       10.0           8.67             89.00      0.11                     0   \n",
       "5       10.0           8.58             88.83      0.12                     0   \n",
       "\n",
       "   Quakers  Category Two Defects  altitude low meters  altitude high meters  \\\n",
       "1      0.0                     0               1950.0                2200.0   \n",
       "2      0.0                     1               1950.0                2200.0   \n",
       "3      0.0                     0               1600.0                1800.0   \n",
       "4      0.0                     2               1800.0                2200.0   \n",
       "5      0.0                     2               1950.0                2200.0   \n",
       "\n",
       "   altitude mean meters  \n",
       "1                2075.0  \n",
       "2                2075.0  \n",
       "3                1700.0  \n",
       "4                2000.0  \n",
       "5                2075.0  \n",
       "\n",
       "[5 rows x 22 columns]"
      ]
     },
     "execution_count": 122,
     "metadata": {},
     "output_type": "execute_result"
    }
   ],
   "source": [
    "coffee_df_reduced.rename(columns = {col:col.replace('_', ' ') for col in coffee_df_reduced.columns}, inplace=True)\n",
    "coffee_df_reduced.rename(columns = {col:col.replace('.', ' ') for col in coffee_df_reduced.columns}, inplace=True)\n",
    "\n",
    "coffee_df_reduced.head()"
   ]
  },
  {
   "cell_type": "markdown",
   "id": "recovered-manitoba",
   "metadata": {},
   "source": [
    "## Clean the data set\n",
    "The dataset does not seem to be as clean as the filename might suggest. How can you get a quick overview over the data and identify which columns have extreme outliers? If you cannot using pd commands, try to plot (see next question)!"
   ]
  },
  {
   "cell_type": "code",
   "execution_count": 123,
   "id": "1570aece",
   "metadata": {},
   "outputs": [
    {
     "data": {
      "text/html": [
       "<div>\n",
       "<style scoped>\n",
       "    .dataframe tbody tr th:only-of-type {\n",
       "        vertical-align: middle;\n",
       "    }\n",
       "\n",
       "    .dataframe tbody tr th {\n",
       "        vertical-align: top;\n",
       "    }\n",
       "\n",
       "    .dataframe thead th {\n",
       "        text-align: right;\n",
       "    }\n",
       "</style>\n",
       "<table border=\"1\" class=\"dataframe\">\n",
       "  <thead>\n",
       "    <tr style=\"text-align: right;\">\n",
       "      <th></th>\n",
       "      <th>Number of Bags</th>\n",
       "      <th>Aroma</th>\n",
       "      <th>Flavor</th>\n",
       "      <th>Aftertaste</th>\n",
       "      <th>Acidity</th>\n",
       "      <th>Body</th>\n",
       "      <th>Balance</th>\n",
       "      <th>Uniformity</th>\n",
       "      <th>Clean Cup</th>\n",
       "      <th>Sweetness</th>\n",
       "      <th>Cupper Points</th>\n",
       "      <th>Total Cup Points</th>\n",
       "      <th>Moisture</th>\n",
       "      <th>Category One Defects</th>\n",
       "      <th>Quakers</th>\n",
       "      <th>Category Two Defects</th>\n",
       "      <th>altitude low meters</th>\n",
       "      <th>altitude high meters</th>\n",
       "      <th>altitude mean meters</th>\n",
       "    </tr>\n",
       "  </thead>\n",
       "  <tbody>\n",
       "    <tr>\n",
       "      <th>count</th>\n",
       "      <td>1311.000000</td>\n",
       "      <td>1311.000000</td>\n",
       "      <td>1311.000000</td>\n",
       "      <td>1311.000000</td>\n",
       "      <td>1311.000000</td>\n",
       "      <td>1311.000000</td>\n",
       "      <td>1311.000000</td>\n",
       "      <td>1311.000000</td>\n",
       "      <td>1311.00000</td>\n",
       "      <td>1311.000000</td>\n",
       "      <td>1311.000000</td>\n",
       "      <td>1311.000000</td>\n",
       "      <td>1311.000000</td>\n",
       "      <td>1311.000000</td>\n",
       "      <td>1310.000000</td>\n",
       "      <td>1311.000000</td>\n",
       "      <td>1084.000000</td>\n",
       "      <td>1084.000000</td>\n",
       "      <td>1084.000000</td>\n",
       "    </tr>\n",
       "    <tr>\n",
       "      <th>mean</th>\n",
       "      <td>153.887872</td>\n",
       "      <td>7.563806</td>\n",
       "      <td>7.518070</td>\n",
       "      <td>7.397696</td>\n",
       "      <td>7.533112</td>\n",
       "      <td>7.517727</td>\n",
       "      <td>7.517506</td>\n",
       "      <td>9.833394</td>\n",
       "      <td>9.83312</td>\n",
       "      <td>9.903272</td>\n",
       "      <td>7.497864</td>\n",
       "      <td>82.115927</td>\n",
       "      <td>0.088863</td>\n",
       "      <td>0.426392</td>\n",
       "      <td>0.177099</td>\n",
       "      <td>3.591915</td>\n",
       "      <td>1759.548954</td>\n",
       "      <td>1808.843803</td>\n",
       "      <td>1784.196379</td>\n",
       "    </tr>\n",
       "    <tr>\n",
       "      <th>std</th>\n",
       "      <td>129.733734</td>\n",
       "      <td>0.378666</td>\n",
       "      <td>0.399979</td>\n",
       "      <td>0.405119</td>\n",
       "      <td>0.381599</td>\n",
       "      <td>0.359213</td>\n",
       "      <td>0.406316</td>\n",
       "      <td>0.559343</td>\n",
       "      <td>0.77135</td>\n",
       "      <td>0.530832</td>\n",
       "      <td>0.474610</td>\n",
       "      <td>3.515761</td>\n",
       "      <td>0.047957</td>\n",
       "      <td>1.832415</td>\n",
       "      <td>0.840583</td>\n",
       "      <td>5.350371</td>\n",
       "      <td>8767.847252</td>\n",
       "      <td>8767.187498</td>\n",
       "      <td>8767.016913</td>\n",
       "    </tr>\n",
       "    <tr>\n",
       "      <th>min</th>\n",
       "      <td>0.000000</td>\n",
       "      <td>0.000000</td>\n",
       "      <td>0.000000</td>\n",
       "      <td>0.000000</td>\n",
       "      <td>0.000000</td>\n",
       "      <td>0.000000</td>\n",
       "      <td>0.000000</td>\n",
       "      <td>0.000000</td>\n",
       "      <td>0.00000</td>\n",
       "      <td>0.000000</td>\n",
       "      <td>0.000000</td>\n",
       "      <td>0.000000</td>\n",
       "      <td>0.000000</td>\n",
       "      <td>0.000000</td>\n",
       "      <td>0.000000</td>\n",
       "      <td>0.000000</td>\n",
       "      <td>1.000000</td>\n",
       "      <td>1.000000</td>\n",
       "      <td>1.000000</td>\n",
       "    </tr>\n",
       "    <tr>\n",
       "      <th>25%</th>\n",
       "      <td>14.500000</td>\n",
       "      <td>7.420000</td>\n",
       "      <td>7.330000</td>\n",
       "      <td>7.250000</td>\n",
       "      <td>7.330000</td>\n",
       "      <td>7.330000</td>\n",
       "      <td>7.330000</td>\n",
       "      <td>10.000000</td>\n",
       "      <td>10.00000</td>\n",
       "      <td>10.000000</td>\n",
       "      <td>7.250000</td>\n",
       "      <td>81.170000</td>\n",
       "      <td>0.090000</td>\n",
       "      <td>0.000000</td>\n",
       "      <td>0.000000</td>\n",
       "      <td>0.000000</td>\n",
       "      <td>1100.000000</td>\n",
       "      <td>1100.000000</td>\n",
       "      <td>1100.000000</td>\n",
       "    </tr>\n",
       "    <tr>\n",
       "      <th>50%</th>\n",
       "      <td>175.000000</td>\n",
       "      <td>7.580000</td>\n",
       "      <td>7.580000</td>\n",
       "      <td>7.420000</td>\n",
       "      <td>7.500000</td>\n",
       "      <td>7.500000</td>\n",
       "      <td>7.500000</td>\n",
       "      <td>10.000000</td>\n",
       "      <td>10.00000</td>\n",
       "      <td>10.000000</td>\n",
       "      <td>7.500000</td>\n",
       "      <td>82.500000</td>\n",
       "      <td>0.110000</td>\n",
       "      <td>0.000000</td>\n",
       "      <td>0.000000</td>\n",
       "      <td>2.000000</td>\n",
       "      <td>1310.640000</td>\n",
       "      <td>1350.000000</td>\n",
       "      <td>1310.640000</td>\n",
       "    </tr>\n",
       "    <tr>\n",
       "      <th>75%</th>\n",
       "      <td>275.000000</td>\n",
       "      <td>7.750000</td>\n",
       "      <td>7.750000</td>\n",
       "      <td>7.580000</td>\n",
       "      <td>7.750000</td>\n",
       "      <td>7.670000</td>\n",
       "      <td>7.750000</td>\n",
       "      <td>10.000000</td>\n",
       "      <td>10.00000</td>\n",
       "      <td>10.000000</td>\n",
       "      <td>7.750000</td>\n",
       "      <td>83.670000</td>\n",
       "      <td>0.120000</td>\n",
       "      <td>0.000000</td>\n",
       "      <td>0.000000</td>\n",
       "      <td>4.000000</td>\n",
       "      <td>1600.000000</td>\n",
       "      <td>1650.000000</td>\n",
       "      <td>1600.000000</td>\n",
       "    </tr>\n",
       "    <tr>\n",
       "      <th>max</th>\n",
       "      <td>1062.000000</td>\n",
       "      <td>8.750000</td>\n",
       "      <td>8.830000</td>\n",
       "      <td>8.670000</td>\n",
       "      <td>8.750000</td>\n",
       "      <td>8.580000</td>\n",
       "      <td>8.750000</td>\n",
       "      <td>10.000000</td>\n",
       "      <td>10.00000</td>\n",
       "      <td>10.000000</td>\n",
       "      <td>10.000000</td>\n",
       "      <td>90.580000</td>\n",
       "      <td>0.280000</td>\n",
       "      <td>31.000000</td>\n",
       "      <td>11.000000</td>\n",
       "      <td>55.000000</td>\n",
       "      <td>190164.000000</td>\n",
       "      <td>190164.000000</td>\n",
       "      <td>190164.000000</td>\n",
       "    </tr>\n",
       "  </tbody>\n",
       "</table>\n",
       "</div>"
      ],
      "text/plain": [
       "       Number of Bags        Aroma       Flavor   Aftertaste      Acidity  \\\n",
       "count     1311.000000  1311.000000  1311.000000  1311.000000  1311.000000   \n",
       "mean       153.887872     7.563806     7.518070     7.397696     7.533112   \n",
       "std        129.733734     0.378666     0.399979     0.405119     0.381599   \n",
       "min          0.000000     0.000000     0.000000     0.000000     0.000000   \n",
       "25%         14.500000     7.420000     7.330000     7.250000     7.330000   \n",
       "50%        175.000000     7.580000     7.580000     7.420000     7.500000   \n",
       "75%        275.000000     7.750000     7.750000     7.580000     7.750000   \n",
       "max       1062.000000     8.750000     8.830000     8.670000     8.750000   \n",
       "\n",
       "              Body      Balance   Uniformity   Clean Cup    Sweetness  \\\n",
       "count  1311.000000  1311.000000  1311.000000  1311.00000  1311.000000   \n",
       "mean      7.517727     7.517506     9.833394     9.83312     9.903272   \n",
       "std       0.359213     0.406316     0.559343     0.77135     0.530832   \n",
       "min       0.000000     0.000000     0.000000     0.00000     0.000000   \n",
       "25%       7.330000     7.330000    10.000000    10.00000    10.000000   \n",
       "50%       7.500000     7.500000    10.000000    10.00000    10.000000   \n",
       "75%       7.670000     7.750000    10.000000    10.00000    10.000000   \n",
       "max       8.580000     8.750000    10.000000    10.00000    10.000000   \n",
       "\n",
       "       Cupper Points  Total Cup Points     Moisture  Category One Defects  \\\n",
       "count    1311.000000       1311.000000  1311.000000           1311.000000   \n",
       "mean        7.497864         82.115927     0.088863              0.426392   \n",
       "std         0.474610          3.515761     0.047957              1.832415   \n",
       "min         0.000000          0.000000     0.000000              0.000000   \n",
       "25%         7.250000         81.170000     0.090000              0.000000   \n",
       "50%         7.500000         82.500000     0.110000              0.000000   \n",
       "75%         7.750000         83.670000     0.120000              0.000000   \n",
       "max        10.000000         90.580000     0.280000             31.000000   \n",
       "\n",
       "           Quakers  Category Two Defects  altitude low meters  \\\n",
       "count  1310.000000           1311.000000          1084.000000   \n",
       "mean      0.177099              3.591915          1759.548954   \n",
       "std       0.840583              5.350371          8767.847252   \n",
       "min       0.000000              0.000000             1.000000   \n",
       "25%       0.000000              0.000000          1100.000000   \n",
       "50%       0.000000              2.000000          1310.640000   \n",
       "75%       0.000000              4.000000          1600.000000   \n",
       "max      11.000000             55.000000        190164.000000   \n",
       "\n",
       "       altitude high meters  altitude mean meters  \n",
       "count           1084.000000           1084.000000  \n",
       "mean            1808.843803           1784.196379  \n",
       "std             8767.187498           8767.016913  \n",
       "min                1.000000              1.000000  \n",
       "25%             1100.000000           1100.000000  \n",
       "50%             1350.000000           1310.640000  \n",
       "75%             1650.000000           1600.000000  \n",
       "max           190164.000000         190164.000000  "
      ]
     },
     "execution_count": 123,
     "metadata": {},
     "output_type": "execute_result"
    }
   ],
   "source": [
    "coffee_df_reduced.describe()"
   ]
  },
  {
   "cell_type": "code",
   "execution_count": 124,
   "id": "c15c972f",
   "metadata": {},
   "outputs": [
    {
     "name": "stdout",
     "output_type": "stream",
     "text": [
      "<class 'pandas.core.frame.DataFrame'>\n",
      "Int64Index: 1311 entries, 1 to 1312\n",
      "Data columns (total 22 columns):\n",
      " #   Column                Non-Null Count  Dtype  \n",
      "---  ------                --------------  -----  \n",
      " 0   Country of Origin     1310 non-null   object \n",
      " 1   Producer              1081 non-null   object \n",
      " 2   Processing Method     1159 non-null   object \n",
      " 3   Number of Bags        1311 non-null   int64  \n",
      " 4   Aroma                 1311 non-null   float64\n",
      " 5   Flavor                1311 non-null   float64\n",
      " 6   Aftertaste            1311 non-null   float64\n",
      " 7   Acidity               1311 non-null   float64\n",
      " 8   Body                  1311 non-null   float64\n",
      " 9   Balance               1311 non-null   float64\n",
      " 10  Uniformity            1311 non-null   float64\n",
      " 11  Clean Cup             1311 non-null   float64\n",
      " 12  Sweetness             1311 non-null   float64\n",
      " 13  Cupper Points         1311 non-null   float64\n",
      " 14  Total Cup Points      1311 non-null   float64\n",
      " 15  Moisture              1311 non-null   float64\n",
      " 16  Category One Defects  1311 non-null   int64  \n",
      " 17  Quakers               1310 non-null   float64\n",
      " 18  Category Two Defects  1311 non-null   int64  \n",
      " 19  altitude low meters   1084 non-null   float64\n",
      " 20  altitude high meters  1084 non-null   float64\n",
      " 21  altitude mean meters  1084 non-null   float64\n",
      "dtypes: float64(16), int64(3), object(3)\n",
      "memory usage: 267.9+ KB\n"
     ]
    }
   ],
   "source": [
    "coffee_df_reduced.info()"
   ]
  },
  {
   "cell_type": "code",
   "execution_count": 125,
   "id": "27857d5d",
   "metadata": {},
   "outputs": [
    {
     "name": "stdout",
     "output_type": "stream",
     "text": [
      "<class 'pandas.core.frame.DataFrame'>\n",
      "Int64Index: 924 entries, 1 to 1310\n",
      "Data columns (total 22 columns):\n",
      " #   Column                Non-Null Count  Dtype  \n",
      "---  ------                --------------  -----  \n",
      " 0   Country of Origin     924 non-null    object \n",
      " 1   Producer              924 non-null    object \n",
      " 2   Processing Method     924 non-null    object \n",
      " 3   Number of Bags        924 non-null    int64  \n",
      " 4   Aroma                 924 non-null    float64\n",
      " 5   Flavor                924 non-null    float64\n",
      " 6   Aftertaste            924 non-null    float64\n",
      " 7   Acidity               924 non-null    float64\n",
      " 8   Body                  924 non-null    float64\n",
      " 9   Balance               924 non-null    float64\n",
      " 10  Uniformity            924 non-null    float64\n",
      " 11  Clean Cup             924 non-null    float64\n",
      " 12  Sweetness             924 non-null    float64\n",
      " 13  Cupper Points         924 non-null    float64\n",
      " 14  Total Cup Points      924 non-null    float64\n",
      " 15  Moisture              924 non-null    float64\n",
      " 16  Category One Defects  924 non-null    int64  \n",
      " 17  Quakers               924 non-null    float64\n",
      " 18  Category Two Defects  924 non-null    int64  \n",
      " 19  altitude low meters   924 non-null    float64\n",
      " 20  altitude high meters  924 non-null    float64\n",
      " 21  altitude mean meters  924 non-null    float64\n",
      "dtypes: float64(16), int64(3), object(3)\n",
      "memory usage: 166.0+ KB\n"
     ]
    }
   ],
   "source": [
    "coffee_df_reduced.dropna(inplace = True , axis = 0)\n",
    "coffee_df_reduced.info()"
   ]
  },
  {
   "cell_type": "markdown",
   "id": "automated-complaint",
   "metadata": {},
   "source": [
    "## Plot \n",
    "Plot a plotly histogram for each of the remaining columns. Can you write a loop?"
   ]
  },
  {
   "cell_type": "code",
   "execution_count": 126,
   "id": "56c6ae5f",
   "metadata": {},
   "outputs": [
    {
     "data": {
      "application/vnd.plotly.v1+json": {
       "config": {
        "plotlyServerURL": "https://plot.ly"
       },
       "data": [
        {
         "alignmentgroup": "True",
         "bingroup": "x",
         "hovertemplate": "Country of Origin=%{x}<br>count=%{y}<extra></extra>",
         "legendgroup": "",
         "marker": {
          "color": "#636efa",
          "pattern": {
           "shape": ""
          }
         },
         "name": "",
         "offsetgroup": "",
         "orientation": "v",
         "showlegend": false,
         "type": "histogram",
         "x": [
          "Ethiopia",
          "Ethiopia",
          "Ethiopia",
          "Ethiopia",
          "Ethiopia",
          "Ethiopia",
          "United States",
          "United States",
          "United States",
          "China",
          "Ethiopia",
          "United States",
          "Costa Rica",
          "Mexico",
          "United States",
          "Brazil",
          "Uganda",
          "Taiwan",
          "Brazil",
          "Costa Rica",
          "Ethiopia",
          "Kenya",
          "United States",
          "Thailand",
          "Taiwan",
          "Kenya",
          "Brazil",
          "Uganda",
          "Uganda",
          "Panama",
          "Ethiopia",
          "Guatemala",
          "Guatemala",
          "Papua New Guinea",
          "El Salvador",
          "El Salvador",
          "Panama",
          "Ethiopia",
          "Uganda",
          "Guatemala",
          "Ethiopia",
          "Uganda",
          "Brazil",
          "China",
          "Guatemala",
          "Costa Rica",
          "Costa Rica",
          "Kenya",
          "Kenya",
          "Colombia",
          "Guatemala",
          "Colombia",
          "Ethiopia",
          "Colombia",
          "Uganda",
          "Costa Rica",
          "Mexico",
          "Brazil",
          "Colombia",
          "Taiwan",
          "Tanzania, United Republic Of",
          "Colombia",
          "Mexico",
          "Brazil",
          "Brazil",
          "Taiwan",
          "Uganda",
          "Kenya",
          "Honduras",
          "El Salvador",
          "Indonesia",
          "Japan",
          "Costa Rica",
          "Guatemala",
          "Costa Rica",
          "Ethiopia",
          "Costa Rica",
          "Costa Rica",
          "Taiwan",
          "Kenya",
          "Guatemala",
          "Guatemala",
          "Mexico",
          "Kenya",
          "Kenya",
          "Guatemala",
          "Guatemala",
          "Colombia",
          "Colombia",
          "Brazil",
          "Brazil",
          "Costa Rica",
          "Uganda",
          "China",
          "Costa Rica",
          "China",
          "Guatemala",
          "Mexico",
          "Mexico",
          "Costa Rica",
          "Indonesia",
          "Colombia",
          "Taiwan",
          "Mexico",
          "Kenya",
          "Honduras",
          "Colombia",
          "Mexico",
          "Taiwan",
          "Thailand",
          "Colombia",
          "Guatemala",
          "Guatemala",
          "China",
          "Colombia",
          "Colombia",
          "Colombia",
          "Tanzania, United Republic Of",
          "Tanzania, United Republic Of",
          "Guatemala",
          "Mexico",
          "Mexico",
          "Mexico",
          "Guatemala",
          "Costa Rica",
          "Guatemala",
          "Guatemala",
          "Guatemala",
          "Colombia",
          "Nicaragua",
          "Brazil",
          "Costa Rica",
          "Ethiopia",
          "Tanzania, United Republic Of",
          "Brazil",
          "Guatemala",
          "El Salvador",
          "Colombia",
          "Taiwan",
          "Colombia",
          "Guatemala",
          "Mexico",
          "Ethiopia",
          "Honduras",
          "Guatemala",
          "Guatemala",
          "Guatemala",
          "Colombia",
          "Brazil",
          "Kenya",
          "Kenya",
          "Brazil",
          "Mexico",
          "Thailand",
          "Brazil",
          "Taiwan",
          "Colombia",
          "Taiwan",
          "Mexico",
          "Mexico",
          "Mexico",
          "Colombia",
          "Costa Rica",
          "Guatemala",
          "Brazil",
          "Taiwan",
          "Ethiopia",
          "Brazil",
          "Costa Rica",
          "Guatemala",
          "Brazil",
          "Guatemala",
          "Mexico",
          "Mexico",
          "Brazil",
          "Kenya",
          "Brazil",
          "Colombia",
          "Taiwan",
          "China",
          "Colombia",
          "Uganda",
          "United States (Puerto Rico)",
          "Colombia",
          "Mexico",
          "Guatemala",
          "Brazil",
          "Kenya",
          "Honduras",
          "Nicaragua",
          "Brazil",
          "Taiwan",
          "Thailand",
          "Colombia",
          "Guatemala",
          "Colombia",
          "Guatemala",
          "Guatemala",
          "Guatemala",
          "Guatemala",
          "Mexico",
          "Indonesia",
          "Guatemala",
          "Brazil",
          "Guatemala",
          "China",
          "Colombia",
          "Mexico",
          "Ethiopia",
          "Uganda",
          "Taiwan",
          "Colombia",
          "Mexico",
          "Colombia",
          "Brazil",
          "Colombia",
          "Costa Rica",
          "Colombia",
          "Guatemala",
          "Colombia",
          "Tanzania, United Republic Of",
          "Indonesia",
          "Ethiopia",
          "Guatemala",
          "Honduras",
          "Mexico",
          "Mexico",
          "Mexico",
          "Guatemala",
          "Colombia",
          "Guatemala",
          "Colombia",
          "Guatemala",
          "Colombia",
          "Costa Rica",
          "Uganda",
          "Thailand",
          "El Salvador",
          "Colombia",
          "Tanzania, United Republic Of",
          "Guatemala",
          "Guatemala",
          "Guatemala",
          "Colombia",
          "Colombia",
          "Brazil",
          "Mexico",
          "Colombia",
          "Tanzania, United Republic Of",
          "Mexico",
          "Costa Rica",
          "Costa Rica",
          "Haiti",
          "Colombia",
          "Guatemala",
          "Colombia",
          "Mexico",
          "Costa Rica",
          "Guatemala",
          "Colombia",
          "Mexico",
          "Taiwan",
          "Taiwan",
          "Guatemala",
          "Mexico",
          "Mexico",
          "Guatemala",
          "Brazil",
          "Colombia",
          "Brazil",
          "Guatemala",
          "Tanzania, United Republic Of",
          "Vietnam",
          "Guatemala",
          "Honduras",
          "China",
          "China",
          "El Salvador",
          "Guatemala",
          "Guatemala",
          "Thailand",
          "Tanzania, United Republic Of",
          "Colombia",
          "Uganda",
          "Honduras",
          "Honduras",
          "Guatemala",
          "Guatemala",
          "Mexico",
          "Mexico",
          "Mexico",
          "Colombia",
          "Mexico",
          "Mexico",
          "Brazil",
          "Brazil",
          "Guatemala",
          "Brazil",
          "Colombia",
          "Brazil",
          "Brazil",
          "Taiwan",
          "Brazil",
          "Costa Rica",
          "Taiwan",
          "Mexico",
          "Brazil",
          "Brazil",
          "Brazil",
          "Uganda",
          "Uganda",
          "Vietnam",
          "Guatemala",
          "Guatemala",
          "Guatemala",
          "Brazil",
          "Taiwan",
          "Uganda",
          "United States (Puerto Rico)",
          "Guatemala",
          "Costa Rica",
          "Brazil",
          "Colombia",
          "Colombia",
          "Colombia",
          "Colombia",
          "Mexico",
          "Mexico",
          "Mexico",
          "Colombia",
          "Guatemala",
          "Colombia",
          "Brazil",
          "El Salvador",
          "Taiwan",
          "Ethiopia",
          "Taiwan",
          "Philippines",
          "Philippines",
          "Mexico",
          "Mexico",
          "Brazil",
          "Uganda",
          "Uganda",
          "Guatemala",
          "Guatemala",
          "Guatemala",
          "Mexico",
          "Vietnam",
          "Mexico",
          "Kenya",
          "Guatemala",
          "Brazil",
          "El Salvador",
          "Rwanda",
          "Vietnam",
          "Guatemala",
          "Brazil",
          "Colombia",
          "United States",
          "Guatemala",
          "Colombia",
          "Colombia",
          "Tanzania, United Republic Of",
          "Mexico",
          "Mexico",
          "Guatemala",
          "Mexico",
          "Guatemala",
          "Guatemala",
          "Guatemala",
          "Guatemala",
          "Guatemala",
          "Indonesia",
          "Guatemala",
          "Taiwan",
          "El Salvador",
          "Costa Rica",
          "Honduras",
          "Brazil",
          "China",
          "China",
          "Colombia",
          "Malawi",
          "Guatemala",
          "Colombia",
          "Mexico",
          "Mexico",
          "Mexico",
          "Colombia",
          "Colombia",
          "Panama",
          "Brazil",
          "Brazil",
          "Laos",
          "El Salvador",
          "Brazil",
          "Tanzania, United Republic Of",
          "Tanzania, United Republic Of",
          "Taiwan",
          "Mexico",
          "Uganda",
          "Taiwan",
          "Thailand",
          "Guatemala",
          "Mexico",
          "Mexico",
          "Guatemala",
          "Taiwan",
          "Indonesia",
          "Thailand",
          "Thailand",
          "Tanzania, United Republic Of",
          "Uganda",
          "Costa Rica",
          "Colombia",
          "Colombia",
          "Mexico",
          "Mexico",
          "Colombia",
          "Brazil",
          "Indonesia",
          "Honduras",
          "Guatemala",
          "Thailand",
          "Thailand",
          "Tanzania, United Republic Of",
          "Mexico",
          "Brazil",
          "Guatemala",
          "Guatemala",
          "Mexico",
          "Mexico",
          "Mexico",
          "Brazil",
          "Colombia",
          "Honduras",
          "Guatemala",
          "Guatemala",
          "Guatemala",
          "China",
          "Tanzania, United Republic Of",
          "Brazil",
          "Guatemala",
          "Mexico",
          "Brazil",
          "Brazil",
          "Mexico",
          "Mexico",
          "Mexico",
          "Mexico",
          "Mexico",
          "Mexico",
          "Mexico",
          "Mexico",
          "Mexico",
          "Mexico",
          "Colombia",
          "Honduras",
          "Brazil",
          "Brazil",
          "Costa Rica",
          "Costa Rica",
          "China",
          "Brazil",
          "Guatemala",
          "Malawi",
          "Brazil",
          "Guatemala",
          "Colombia",
          "Taiwan",
          "Taiwan",
          "Guatemala",
          "Mexico",
          "Guatemala",
          "Mexico",
          "Mexico",
          "Guatemala",
          "Brazil",
          "Mexico",
          "Brazil",
          "Colombia",
          "Brazil",
          "Guatemala",
          "Brazil",
          "El Salvador",
          "Honduras",
          "Malawi",
          "Brazil",
          "Taiwan",
          "Mexico",
          "Mexico",
          "Guatemala",
          "Mexico",
          "Mexico",
          "Mexico",
          "Mexico",
          "Colombia",
          "Brazil",
          "Honduras",
          "Tanzania, United Republic Of",
          "Brazil",
          "Thailand",
          "Honduras",
          "Tanzania, United Republic Of",
          "Mexico",
          "Mexico",
          "Taiwan",
          "Taiwan",
          "Mexico",
          "Guatemala",
          "Mexico",
          "Mexico",
          "Indonesia",
          "Brazil",
          "Brazil",
          "Costa Rica",
          "Tanzania, United Republic Of",
          "Tanzania, United Republic Of",
          "Costa Rica",
          "Mexico",
          "Mexico",
          "Mexico",
          "Vietnam",
          "Mexico",
          "Honduras",
          "Honduras",
          "Brazil",
          "Tanzania, United Republic Of",
          "Laos",
          "Tanzania, United Republic Of",
          "Malawi",
          "Taiwan",
          "Thailand",
          "Costa Rica",
          "Honduras",
          "Taiwan",
          "Brazil",
          "Mexico",
          "Brazil",
          "Brazil",
          "Brazil",
          "Guatemala",
          "Guatemala",
          "Guatemala",
          "Honduras",
          "Brazil",
          "El Salvador",
          "Guatemala",
          "Tanzania, United Republic Of",
          "Taiwan",
          "Mexico",
          "Mexico",
          "Mexico",
          "Mexico",
          "Mexico",
          "Brazil",
          "Guatemala",
          "Costa Rica",
          "Brazil",
          "Indonesia",
          "Guatemala",
          "Brazil",
          "Brazil",
          "Myanmar",
          "Mexico",
          "Honduras",
          "Costa Rica",
          "Taiwan",
          "Malawi",
          "Brazil",
          "Honduras",
          "Mexico",
          "Colombia",
          "Brazil",
          "Guatemala",
          "Mexico",
          "Mexico",
          "Guatemala",
          "Vietnam",
          "Tanzania, United Republic Of",
          "Mexico",
          "Mexico",
          "Mexico",
          "Mexico",
          "Mexico",
          "Brazil",
          "Guatemala",
          "Guatemala",
          "Honduras",
          "Brazil",
          "Tanzania, United Republic Of",
          "Tanzania, United Republic Of",
          "Brazil",
          "Honduras",
          "Costa Rica",
          "Taiwan",
          "Taiwan",
          "Mexico",
          "Guatemala",
          "Mexico",
          "Mexico",
          "Mexico",
          "Mexico",
          "Mexico",
          "Honduras",
          "Guatemala",
          "Taiwan",
          "Costa Rica",
          "Tanzania, United Republic Of",
          "Malawi",
          "Taiwan",
          "Brazil",
          "Guatemala",
          "Mexico",
          "Mexico",
          "Mexico",
          "Guatemala",
          "Nicaragua",
          "Honduras",
          "Taiwan",
          "Myanmar",
          "Costa Rica",
          "Malawi",
          "Guatemala",
          "Taiwan",
          "Brazil",
          "Haiti",
          "Taiwan",
          "Mexico",
          "Mexico",
          "Mexico",
          "Mexico",
          "Mexico",
          "Mexico",
          "Indonesia",
          "Brazil",
          "Mexico",
          "Guatemala",
          "Brazil",
          "Honduras",
          "Taiwan",
          "Malawi",
          "Brazil",
          "Guatemala",
          "Mexico",
          "Guatemala",
          "Mexico",
          "Mexico",
          "Colombia",
          "Honduras",
          "Brazil",
          "Honduras",
          "Brazil",
          "Philippines",
          "Malawi",
          "Honduras",
          "Mexico",
          "Mexico",
          "Brazil",
          "Taiwan",
          "Brazil",
          "Nicaragua",
          "Honduras",
          "Guatemala",
          "Tanzania, United Republic Of",
          "Taiwan",
          "Guatemala",
          "Mexico",
          "Nicaragua",
          "Tanzania, United Republic Of",
          "Mexico",
          "Costa Rica",
          "Honduras",
          "Thailand",
          "Philippines",
          "Tanzania, United Republic Of",
          "Malawi",
          "Costa Rica",
          "Mexico",
          "Guatemala",
          "Brazil",
          "Brazil",
          "Nicaragua",
          "United States",
          "Tanzania, United Republic Of",
          "Costa Rica",
          "United States (Puerto Rico)",
          "Mexico",
          "Mexico",
          "Mexico",
          "Mexico",
          "El Salvador",
          "Guatemala",
          "Guatemala",
          "Taiwan",
          "Honduras",
          "Tanzania, United Republic Of",
          "Uganda",
          "Taiwan",
          "Thailand",
          "Mexico",
          "Mexico",
          "Taiwan",
          "Guatemala",
          "Kenya",
          "Mexico",
          "Myanmar",
          "Tanzania, United Republic Of",
          "Brazil",
          "Taiwan",
          "Brazil",
          "Guatemala",
          "Taiwan",
          "Taiwan",
          "Taiwan",
          "Mexico",
          "Laos",
          "Guatemala",
          "Mexico",
          "Mexico",
          "Mexico",
          "Myanmar",
          "Guatemala",
          "Nicaragua",
          "Honduras",
          "Panama",
          "Honduras",
          "Honduras",
          "Costa Rica",
          "Mexico",
          "Haiti",
          "Indonesia",
          "Guatemala",
          "Costa Rica",
          "Malawi",
          "Mexico",
          "Guatemala",
          "Tanzania, United Republic Of",
          "Brazil",
          "Honduras",
          "Guatemala",
          "Taiwan",
          "Guatemala",
          "Honduras",
          "Brazil",
          "Myanmar",
          "Guatemala",
          "Brazil",
          "Guatemala",
          "Mexico",
          "Taiwan",
          "El Salvador",
          "China",
          "Taiwan",
          "Mexico",
          "Mexico",
          "Tanzania, United Republic Of",
          "Taiwan",
          "Guatemala",
          "Mexico",
          "Brazil",
          "Honduras",
          "Mexico",
          "Myanmar",
          "Myanmar",
          "Nicaragua",
          "Taiwan",
          "Guatemala",
          "Mexico",
          "Vietnam",
          "Nicaragua",
          "Honduras",
          "Guatemala",
          "Mexico",
          "Mexico",
          "Mexico",
          "Guatemala",
          "Taiwan",
          "Taiwan",
          "Taiwan",
          "Taiwan",
          "Mexico",
          "Mexico",
          "Nicaragua",
          "Myanmar",
          "Mexico",
          "Taiwan",
          "Thailand",
          "Mexico",
          "Mexico",
          "Mexico",
          "Mexico",
          "Mexico",
          "Mexico",
          "Mexico",
          "Mexico",
          "Kenya",
          "Guatemala",
          "Nicaragua",
          "Mexico",
          "Guatemala",
          "Taiwan",
          "Taiwan",
          "Thailand",
          "Costa Rica",
          "Mexico",
          "Mexico",
          "Mexico",
          "Mexico",
          "Mexico",
          "Mexico",
          "Guatemala",
          "El Salvador",
          "Thailand",
          "Guatemala",
          "Mexico",
          "Mexico",
          "Mexico",
          "Mexico",
          "Mexico",
          "Nicaragua",
          "Taiwan",
          "Mexico",
          "Mexico",
          "Guatemala",
          "Guatemala",
          "Mexico",
          "Cote d?Ivoire",
          "Colombia",
          "Mexico",
          "Mexico",
          "Taiwan",
          "Mexico",
          "Guatemala",
          "Honduras",
          "Guatemala",
          "Guatemala",
          "Mexico",
          "Mexico",
          "Guatemala",
          "United States (Puerto Rico)",
          "Mexico",
          "Mexico",
          "Mexico",
          "Guatemala",
          "Honduras",
          "Peru",
          "Mexico",
          "Mexico",
          "Mexico",
          "Mexico",
          "Mexico",
          "Nicaragua",
          "Guatemala",
          "Mexico",
          "Mexico",
          "Mexico",
          "China",
          "Mexico",
          "Guatemala",
          "Taiwan",
          "Mexico",
          "Mexico",
          "Mexico",
          "Mexico",
          "Mexico",
          "Mexico",
          "Guatemala",
          "Guatemala",
          "Mexico",
          "Indonesia",
          "Mexico",
          "Taiwan",
          "Honduras",
          "Guatemala",
          "China",
          "Guatemala",
          "Mexico",
          "Costa Rica",
          "Mexico",
          "Guatemala",
          "Taiwan",
          "Mexico",
          "Guatemala",
          "Brazil",
          "Guatemala",
          "Mexico",
          "Haiti",
          "Mexico",
          "Peru",
          "Mexico",
          "Guatemala",
          "Mexico",
          "Indonesia",
          "Mexico",
          "Honduras",
          "Philippines",
          "Guatemala",
          "Mexico",
          "Mexico",
          "Mexico",
          "Mexico",
          "Mexico",
          "Mexico",
          "Mexico",
          "Mexico",
          "Guatemala",
          "Mexico",
          "Mexico",
          "Mexico",
          "Honduras",
          "Mexico",
          "Costa Rica",
          "Mexico",
          "Mexico",
          "Mexico",
          "Honduras",
          "Honduras",
          "Honduras",
          "Mexico",
          "Haiti",
          "Nicaragua",
          "Guatemala"
         ],
         "xaxis": "x",
         "yaxis": "y"
        }
       ],
       "layout": {
        "barmode": "relative",
        "legend": {
         "tracegroupgap": 0
        },
        "template": {
         "data": {
          "bar": [
           {
            "error_x": {
             "color": "#2a3f5f"
            },
            "error_y": {
             "color": "#2a3f5f"
            },
            "marker": {
             "line": {
              "color": "#E5ECF6",
              "width": 0.5
             },
             "pattern": {
              "fillmode": "overlay",
              "size": 10,
              "solidity": 0.2
             }
            },
            "type": "bar"
           }
          ],
          "barpolar": [
           {
            "marker": {
             "line": {
              "color": "#E5ECF6",
              "width": 0.5
             },
             "pattern": {
              "fillmode": "overlay",
              "size": 10,
              "solidity": 0.2
             }
            },
            "type": "barpolar"
           }
          ],
          "carpet": [
           {
            "aaxis": {
             "endlinecolor": "#2a3f5f",
             "gridcolor": "white",
             "linecolor": "white",
             "minorgridcolor": "white",
             "startlinecolor": "#2a3f5f"
            },
            "baxis": {
             "endlinecolor": "#2a3f5f",
             "gridcolor": "white",
             "linecolor": "white",
             "minorgridcolor": "white",
             "startlinecolor": "#2a3f5f"
            },
            "type": "carpet"
           }
          ],
          "choropleth": [
           {
            "colorbar": {
             "outlinewidth": 0,
             "ticks": ""
            },
            "type": "choropleth"
           }
          ],
          "contour": [
           {
            "colorbar": {
             "outlinewidth": 0,
             "ticks": ""
            },
            "colorscale": [
             [
              0,
              "#0d0887"
             ],
             [
              0.1111111111111111,
              "#46039f"
             ],
             [
              0.2222222222222222,
              "#7201a8"
             ],
             [
              0.3333333333333333,
              "#9c179e"
             ],
             [
              0.4444444444444444,
              "#bd3786"
             ],
             [
              0.5555555555555556,
              "#d8576b"
             ],
             [
              0.6666666666666666,
              "#ed7953"
             ],
             [
              0.7777777777777778,
              "#fb9f3a"
             ],
             [
              0.8888888888888888,
              "#fdca26"
             ],
             [
              1,
              "#f0f921"
             ]
            ],
            "type": "contour"
           }
          ],
          "contourcarpet": [
           {
            "colorbar": {
             "outlinewidth": 0,
             "ticks": ""
            },
            "type": "contourcarpet"
           }
          ],
          "heatmap": [
           {
            "colorbar": {
             "outlinewidth": 0,
             "ticks": ""
            },
            "colorscale": [
             [
              0,
              "#0d0887"
             ],
             [
              0.1111111111111111,
              "#46039f"
             ],
             [
              0.2222222222222222,
              "#7201a8"
             ],
             [
              0.3333333333333333,
              "#9c179e"
             ],
             [
              0.4444444444444444,
              "#bd3786"
             ],
             [
              0.5555555555555556,
              "#d8576b"
             ],
             [
              0.6666666666666666,
              "#ed7953"
             ],
             [
              0.7777777777777778,
              "#fb9f3a"
             ],
             [
              0.8888888888888888,
              "#fdca26"
             ],
             [
              1,
              "#f0f921"
             ]
            ],
            "type": "heatmap"
           }
          ],
          "heatmapgl": [
           {
            "colorbar": {
             "outlinewidth": 0,
             "ticks": ""
            },
            "colorscale": [
             [
              0,
              "#0d0887"
             ],
             [
              0.1111111111111111,
              "#46039f"
             ],
             [
              0.2222222222222222,
              "#7201a8"
             ],
             [
              0.3333333333333333,
              "#9c179e"
             ],
             [
              0.4444444444444444,
              "#bd3786"
             ],
             [
              0.5555555555555556,
              "#d8576b"
             ],
             [
              0.6666666666666666,
              "#ed7953"
             ],
             [
              0.7777777777777778,
              "#fb9f3a"
             ],
             [
              0.8888888888888888,
              "#fdca26"
             ],
             [
              1,
              "#f0f921"
             ]
            ],
            "type": "heatmapgl"
           }
          ],
          "histogram": [
           {
            "marker": {
             "pattern": {
              "fillmode": "overlay",
              "size": 10,
              "solidity": 0.2
             }
            },
            "type": "histogram"
           }
          ],
          "histogram2d": [
           {
            "colorbar": {
             "outlinewidth": 0,
             "ticks": ""
            },
            "colorscale": [
             [
              0,
              "#0d0887"
             ],
             [
              0.1111111111111111,
              "#46039f"
             ],
             [
              0.2222222222222222,
              "#7201a8"
             ],
             [
              0.3333333333333333,
              "#9c179e"
             ],
             [
              0.4444444444444444,
              "#bd3786"
             ],
             [
              0.5555555555555556,
              "#d8576b"
             ],
             [
              0.6666666666666666,
              "#ed7953"
             ],
             [
              0.7777777777777778,
              "#fb9f3a"
             ],
             [
              0.8888888888888888,
              "#fdca26"
             ],
             [
              1,
              "#f0f921"
             ]
            ],
            "type": "histogram2d"
           }
          ],
          "histogram2dcontour": [
           {
            "colorbar": {
             "outlinewidth": 0,
             "ticks": ""
            },
            "colorscale": [
             [
              0,
              "#0d0887"
             ],
             [
              0.1111111111111111,
              "#46039f"
             ],
             [
              0.2222222222222222,
              "#7201a8"
             ],
             [
              0.3333333333333333,
              "#9c179e"
             ],
             [
              0.4444444444444444,
              "#bd3786"
             ],
             [
              0.5555555555555556,
              "#d8576b"
             ],
             [
              0.6666666666666666,
              "#ed7953"
             ],
             [
              0.7777777777777778,
              "#fb9f3a"
             ],
             [
              0.8888888888888888,
              "#fdca26"
             ],
             [
              1,
              "#f0f921"
             ]
            ],
            "type": "histogram2dcontour"
           }
          ],
          "mesh3d": [
           {
            "colorbar": {
             "outlinewidth": 0,
             "ticks": ""
            },
            "type": "mesh3d"
           }
          ],
          "parcoords": [
           {
            "line": {
             "colorbar": {
              "outlinewidth": 0,
              "ticks": ""
             }
            },
            "type": "parcoords"
           }
          ],
          "pie": [
           {
            "automargin": true,
            "type": "pie"
           }
          ],
          "scatter": [
           {
            "marker": {
             "colorbar": {
              "outlinewidth": 0,
              "ticks": ""
             }
            },
            "type": "scatter"
           }
          ],
          "scatter3d": [
           {
            "line": {
             "colorbar": {
              "outlinewidth": 0,
              "ticks": ""
             }
            },
            "marker": {
             "colorbar": {
              "outlinewidth": 0,
              "ticks": ""
             }
            },
            "type": "scatter3d"
           }
          ],
          "scattercarpet": [
           {
            "marker": {
             "colorbar": {
              "outlinewidth": 0,
              "ticks": ""
             }
            },
            "type": "scattercarpet"
           }
          ],
          "scattergeo": [
           {
            "marker": {
             "colorbar": {
              "outlinewidth": 0,
              "ticks": ""
             }
            },
            "type": "scattergeo"
           }
          ],
          "scattergl": [
           {
            "marker": {
             "colorbar": {
              "outlinewidth": 0,
              "ticks": ""
             }
            },
            "type": "scattergl"
           }
          ],
          "scattermapbox": [
           {
            "marker": {
             "colorbar": {
              "outlinewidth": 0,
              "ticks": ""
             }
            },
            "type": "scattermapbox"
           }
          ],
          "scatterpolar": [
           {
            "marker": {
             "colorbar": {
              "outlinewidth": 0,
              "ticks": ""
             }
            },
            "type": "scatterpolar"
           }
          ],
          "scatterpolargl": [
           {
            "marker": {
             "colorbar": {
              "outlinewidth": 0,
              "ticks": ""
             }
            },
            "type": "scatterpolargl"
           }
          ],
          "scatterternary": [
           {
            "marker": {
             "colorbar": {
              "outlinewidth": 0,
              "ticks": ""
             }
            },
            "type": "scatterternary"
           }
          ],
          "surface": [
           {
            "colorbar": {
             "outlinewidth": 0,
             "ticks": ""
            },
            "colorscale": [
             [
              0,
              "#0d0887"
             ],
             [
              0.1111111111111111,
              "#46039f"
             ],
             [
              0.2222222222222222,
              "#7201a8"
             ],
             [
              0.3333333333333333,
              "#9c179e"
             ],
             [
              0.4444444444444444,
              "#bd3786"
             ],
             [
              0.5555555555555556,
              "#d8576b"
             ],
             [
              0.6666666666666666,
              "#ed7953"
             ],
             [
              0.7777777777777778,
              "#fb9f3a"
             ],
             [
              0.8888888888888888,
              "#fdca26"
             ],
             [
              1,
              "#f0f921"
             ]
            ],
            "type": "surface"
           }
          ],
          "table": [
           {
            "cells": {
             "fill": {
              "color": "#EBF0F8"
             },
             "line": {
              "color": "white"
             }
            },
            "header": {
             "fill": {
              "color": "#C8D4E3"
             },
             "line": {
              "color": "white"
             }
            },
            "type": "table"
           }
          ]
         },
         "layout": {
          "annotationdefaults": {
           "arrowcolor": "#2a3f5f",
           "arrowhead": 0,
           "arrowwidth": 1
          },
          "autotypenumbers": "strict",
          "coloraxis": {
           "colorbar": {
            "outlinewidth": 0,
            "ticks": ""
           }
          },
          "colorscale": {
           "diverging": [
            [
             0,
             "#8e0152"
            ],
            [
             0.1,
             "#c51b7d"
            ],
            [
             0.2,
             "#de77ae"
            ],
            [
             0.3,
             "#f1b6da"
            ],
            [
             0.4,
             "#fde0ef"
            ],
            [
             0.5,
             "#f7f7f7"
            ],
            [
             0.6,
             "#e6f5d0"
            ],
            [
             0.7,
             "#b8e186"
            ],
            [
             0.8,
             "#7fbc41"
            ],
            [
             0.9,
             "#4d9221"
            ],
            [
             1,
             "#276419"
            ]
           ],
           "sequential": [
            [
             0,
             "#0d0887"
            ],
            [
             0.1111111111111111,
             "#46039f"
            ],
            [
             0.2222222222222222,
             "#7201a8"
            ],
            [
             0.3333333333333333,
             "#9c179e"
            ],
            [
             0.4444444444444444,
             "#bd3786"
            ],
            [
             0.5555555555555556,
             "#d8576b"
            ],
            [
             0.6666666666666666,
             "#ed7953"
            ],
            [
             0.7777777777777778,
             "#fb9f3a"
            ],
            [
             0.8888888888888888,
             "#fdca26"
            ],
            [
             1,
             "#f0f921"
            ]
           ],
           "sequentialminus": [
            [
             0,
             "#0d0887"
            ],
            [
             0.1111111111111111,
             "#46039f"
            ],
            [
             0.2222222222222222,
             "#7201a8"
            ],
            [
             0.3333333333333333,
             "#9c179e"
            ],
            [
             0.4444444444444444,
             "#bd3786"
            ],
            [
             0.5555555555555556,
             "#d8576b"
            ],
            [
             0.6666666666666666,
             "#ed7953"
            ],
            [
             0.7777777777777778,
             "#fb9f3a"
            ],
            [
             0.8888888888888888,
             "#fdca26"
            ],
            [
             1,
             "#f0f921"
            ]
           ]
          },
          "colorway": [
           "#636efa",
           "#EF553B",
           "#00cc96",
           "#ab63fa",
           "#FFA15A",
           "#19d3f3",
           "#FF6692",
           "#B6E880",
           "#FF97FF",
           "#FECB52"
          ],
          "font": {
           "color": "#2a3f5f"
          },
          "geo": {
           "bgcolor": "white",
           "lakecolor": "white",
           "landcolor": "#E5ECF6",
           "showlakes": true,
           "showland": true,
           "subunitcolor": "white"
          },
          "hoverlabel": {
           "align": "left"
          },
          "hovermode": "closest",
          "mapbox": {
           "style": "light"
          },
          "paper_bgcolor": "white",
          "plot_bgcolor": "#E5ECF6",
          "polar": {
           "angularaxis": {
            "gridcolor": "white",
            "linecolor": "white",
            "ticks": ""
           },
           "bgcolor": "#E5ECF6",
           "radialaxis": {
            "gridcolor": "white",
            "linecolor": "white",
            "ticks": ""
           }
          },
          "scene": {
           "xaxis": {
            "backgroundcolor": "#E5ECF6",
            "gridcolor": "white",
            "gridwidth": 2,
            "linecolor": "white",
            "showbackground": true,
            "ticks": "",
            "zerolinecolor": "white"
           },
           "yaxis": {
            "backgroundcolor": "#E5ECF6",
            "gridcolor": "white",
            "gridwidth": 2,
            "linecolor": "white",
            "showbackground": true,
            "ticks": "",
            "zerolinecolor": "white"
           },
           "zaxis": {
            "backgroundcolor": "#E5ECF6",
            "gridcolor": "white",
            "gridwidth": 2,
            "linecolor": "white",
            "showbackground": true,
            "ticks": "",
            "zerolinecolor": "white"
           }
          },
          "shapedefaults": {
           "line": {
            "color": "#2a3f5f"
           }
          },
          "ternary": {
           "aaxis": {
            "gridcolor": "white",
            "linecolor": "white",
            "ticks": ""
           },
           "baxis": {
            "gridcolor": "white",
            "linecolor": "white",
            "ticks": ""
           },
           "bgcolor": "#E5ECF6",
           "caxis": {
            "gridcolor": "white",
            "linecolor": "white",
            "ticks": ""
           }
          },
          "title": {
           "x": 0.05
          },
          "xaxis": {
           "automargin": true,
           "gridcolor": "white",
           "linecolor": "white",
           "ticks": "",
           "title": {
            "standoff": 15
           },
           "zerolinecolor": "white",
           "zerolinewidth": 2
          },
          "yaxis": {
           "automargin": true,
           "gridcolor": "white",
           "linecolor": "white",
           "ticks": "",
           "title": {
            "standoff": 15
           },
           "zerolinecolor": "white",
           "zerolinewidth": 2
          }
         }
        },
        "title": {
         "text": "Coffee: Country of Origin"
        },
        "xaxis": {
         "anchor": "y",
         "domain": [
          0,
          1
         ],
         "title": {
          "text": "Country of Origin"
         }
        },
        "yaxis": {
         "anchor": "x",
         "domain": [
          0,
          1
         ],
         "title": {
          "text": "count"
         }
        }
       }
      }
     },
     "metadata": {},
     "output_type": "display_data"
    },
    {
     "data": {
      "application/vnd.plotly.v1+json": {
       "config": {
        "plotlyServerURL": "https://plot.ly"
       },
       "data": [
        {
         "alignmentgroup": "True",
         "bingroup": "x",
         "hovertemplate": "Producer=%{x}<br>count=%{y}<extra></extra>",
         "legendgroup": "",
         "marker": {
          "color": "#636efa",
          "pattern": {
           "shape": ""
          }
         },
         "name": "",
         "offsetgroup": "",
         "orientation": "v",
         "showlegend": false,
         "type": "histogram",
         "x": [
          "METAD PLC",
          "METAD PLC",
          "Yidnekachew Dabessa Coffee Plantation",
          "METAD PLC",
          "Diamond Enterprise Plc",
          "Fahem Coffee Plantation",
          "Alfredo De Jesús López Pérez",
          "Jorge Walter Restrepo",
          "María Leticia Diosa",
          "Echo Coffee",
          "LevelUp",
          "Nicolás Rueda Urrego",
          "SEVERAL",
          "ROBERTO LICONA FRANCO",
          "Silvia Elena Higuita",
          "Ralph Junqueira",
          "Kabum trading company",
          "FANG,ZHENG-LUN 方政倫",
          "Homero Texeira de Macedo Junior",
          "Exclusive Coffees S.A.",
          "Haider Abamecha Abadiko",
          "Kangunu",
          "Hugo Sepúlveda Montoya",
          "ITDP",
          "LIN YEN CHIEN 林言謙",
          "JUNGLE ESTATE",
          "Ralph Junqueira",
          "Kawacom",
          "Kawacom (U)Ltd",
          "Plinio Ruiz",
          "Ibrahim Hussien Specialty Coffee Producer and Exporter",
          "SERTRASA",
          "WILLIAM ESTUARDO MARTINEZ PACHECO",
          "Colbran CoffeeLands, Ltd.",
          "Aida Batlle",
          "Oscar Roberto Murgas Linares",
          "Lamastus",
          "Assefa Belay Coffee Producer",
          "Kyagalanyi coffee Ltd",
          "ASOCIACION DE PERMACULTORES DE CUILCO (SANTOS LOPEZ MEJIA)",
          "Assefa Belay Coffee Producer",
          "Chesiyo Farmer group",
          "José Vagner Ribeiro Junqueira",
          "Pu'er City Longke Coffee Co.Ltd",
          "Arturo Aguirre",
          "Cafe Altura de San Ramon",
          "SEVERAL",
          "Kianjogu - Rutuma F.C.S. Ltd.",
          "Blend from various Producers",
          "varios",
          "Coop. Hoja Blanca - Fedecocagua",
          "JOSE ALBEIRO GOMEZ / LUIS JABER REALPE",
          "BNT",
          "ORLANDO ORTIZ /WILSON ORTIZ/GILBERTO ACOSTA",
          "Kyagalanyi Coffee Ltd",
          "Manuel Montero",
          "Varios productores minifundistas",
          "Idalina M. De Andrade Ferreira",
          "La Plata",
          "SU CHUEN SHIAN 蘇春賢",
          "Hasambo AMCOS",
          "LA PLATA",
          "ARTEMIO ZAPATA TEJEDA",
          "Glaucio Carneiro Pinto",
          "Ricardo Luiz Ferreira",
          "Wang Chao Yung 王超永",
          "Sipi organic coffee project",
          "KARATINA",
          "Omar Acosta",
          "J.J. Borja Nathan",
          "PT. Shriya Artha Nusantara",
          "Taijiro TOKUDA",
          "Johanna",
          "JUAN BOCK",
          "Coopetarrazú",
          "Moplaco",
          "Maria Elena Castro",
          "CORICAFE BLEND",
          "Gu yong long 古永龍",
          "Sasini",
          "AGROPECUARIA QUIAGRAL",
          "SERTRASA",
          "JORGE TORRES BELTRAN, VICENTE HERNANDEZ OCHOA, IGNACIO TORRES",
          "JUNGLE ESTATE",
          "BLEND",
          "ROBERTO MONTERROSO",
          "AMILCAR LAPOLA",
          "La Plata",
          "varios",
          "Homero Texeira de Macedo Junior",
          "Geraldo Paixão",
          "Various",
          "Kawacom Uganda Ltd",
          "Menglian Ban’an Coffee Processing Factory",
          "Coopetarrazú",
          "PUER JIANGCHENG FUWANG COFFEE BIOTECHNOLOGY CO., LTD",
          "LUIS RODRIGUEZ",
          "MARIA IMELDA USCANGA MARTINEZ",
          "SANTIAGO JOSE ARGUELLO CAMPOS",
          "Beneficio San Diego",
          "Surbakti",
          "La Plata",
          "Kao Ming Lee",
          "MARIA AMALIA GUADALUPE TORIELLO ELORZA",
          "mutheka",
          "Reinerio Zepeda",
          "FRANKLIN DUSSAN / ANDRES RODRIGUEZ/HIPOLITO TORRES",
          "VICTOR HUGO MELCHOR CORDOVA",
          "黃美桃 Huang Mei Tao",
          "Matsuzawa Coffee",
          "JOSE ALBEIRO GOMEZ",
          "FINCA MEDINA",
          "HORACIO CIFUENTES MARTINEZ",
          "Menglian County Nayun Town Mangzhang Coffee Farm",
          "La Plata",
          "La Plata",
          "FRANKLIN DUSSAN/ANDRES RODRIGUEZ/HIPOLITO TORRES",
          "Tembo Coffee Company Ltd",
          "Taylor Winch (T) ltd",
          "AMILCAR LAPOLA",
          "JESUS SALAZAR VELASCO",
          "MANUEL HERRERA JUAREZ",
          "ERNST POHLENZ AGUILAR",
          "JORGE LEAL",
          "Los Angeles Micro-Mill (Ricardo Calderón)",
          "DARY COLMAN ALVARADO VILLATORO",
          "FERNANDO FAHSEN",
          "CHAPULTEPEC",
          "La Plata",
          "COOPERATIVA EL GORRION RL",
          "MAURO GALHERI",
          "Martin Gutierrez",
          "Tariku Oljira",
          "Selian Coffee Estate",
          "Café do Paraíso",
          "AGRICOLA MONTE VERDE, S.A.",
          "Aida Batlle",
          "FRANKLIN DUSSAN / HIPOLITO TORRES",
          "CHANG YU LIANG 張玉良",
          "La Plata",
          "Asociacion de Productores de Cafe de la Region Ixil",
          "ANDRES MARTINEZ LEON",
          "Kerchanshe Trading P.L.C",
          "Nahun Maldonado",
          "OTONIEL VILLATORO LOPEZ",
          "AMILCAR LAPOLA",
          "AMILCAR LAPOLA",
          "La Plata",
          "Ipanema Coffees",
          "Blend of various producers",
          "-",
          "Ipanema Agricola S.A",
          "CAFES TOMARI SA DE CV",
          "Phatang, Saveg",
          "Ipanema Agricola",
          "FANG,ZHENG-LUN 方政倫",
          "La Plata",
          "張瑞宏",
          "OSCAR ORTEGA CARBALLO",
          "ARTURO LIEVANO MORENO",
          "coop",
          "Jose Albeiro gomez",
          "Martin Gutierrez",
          "FINCA MEDINA",
          "Ipanema Agrícola SA",
          "ZENG JIAN NAN 曾建男",
          "Sumeya Yasin",
          "Ipanema Agrícola SA",
          "VARIOS",
          "AMILCAR LAPOLA",
          "Ipanema Coffees",
          "ROBERTO MONTERROSO",
          "FILEMON MENDOZA CAMPOS",
          "ERNST POHLENZ AGUILAR",
          "Nazareth Dias Pereira",
          "KAROGOTO",
          "Ipanema Agricola S.A",
          "FRANKLIN DUSSAN / HIPOLITO TORRES",
          "曾如楓 & 郭俊宏 (Tseng Ju Feng & Kuo Jun Hong)",
          "Pu’er Specialty Coffee Cupping Center",
          "FRANKLIN DUSSAN",
          "Nile Highland Arabica Coffee Farmers",
          "Hacienda Alto Grande",
          "La Plata",
          "MARTINEZ MAGDALENA, AGAPITA",
          "Several producres",
          "Ipanema Agricola S.A",
          "NCHOROIBORO / KIRIANI FACTORY",
          "Reinerio Zepeda",
          "RONALDO LACAYO CARDENAL",
          "Ipanema Agricola",
          "FANG,ZHENG-LUN 方政倫",
          "Doi Tung Development Project",
          "Agrotello Coop",
          "FRANCISCO LUIS MARTINEZ LOPEZ",
          "Huila",
          "AGRICOLA MONTE VERDE, S.A.",
          "LUIS RODRIGUEZ",
          "Finca Quequesquez",
          "AGROPECUARIA QUIAGRAL",
          "JUAN LUIS ORTEGA CARBALLO",
          "PT. Perkebunan Nusantara XII",
          "SIEMBRAS VISION, S.A",
          "Ipanema Agricola S.A",
          "JUAN RAMIREZ MORALES",
          "Menglian Mang Pan Professional Cooperative",
          "La Plata",
          "Exportadora Café California",
          "LevelUp",
          "Bulamburi coffee farmers association",
          "Gu zhi min 古智閔",
          "LA PLATA",
          "JULIAN ALBERTO URRUTIA MOYA",
          "ORLANDO ORTIZ/WILSON SANCHEZ/GILBERTO ACOSTA",
          "Alvaro Resende Aguiar",
          "Orlando Moreno / Willson Sanchez",
          "Martin Gutierrez",
          "Mecias Urbano / Yaniver Alvarez",
          "MARGARITA AVILA DE NUYENS",
          "La Plata",
          "Mr & Mrs Damari Absalome",
          "Yusrin",
          "Debesa",
          "UNEX",
          "Reynerio Zepeda",
          "MANUEL HERRERA JUAREZ",
          "ARMANDO GUTIERREZ GUZMAN",
          "GABRIEL BERNARD RIVAS ROSS",
          "RNP SANTO TOMAS PACHUJ / KANEMATSU CORPORATION",
          "La Plata",
          "ConquistaMorito",
          "FRANKLIN DUSSAN / HIPOLITO TORRES",
          "JORGE LEAL",
          "FRANKLIN DUSSAN / HIPOLOTO TORRES",
          "Martin Gutierrez",
          "Bulago & Buginyanya",
          "Matsuzawa Coffee",
          "Ibero El Salvador, S.A. de C.V.",
          "FRANKLIN DUSSAN/ANDRES RODRIGUEZ/HIPOLITO TORRES",
          "Ngila Estate Ltd",
          "AMILCAR LAPOLA",
          "SIEMBRAS VISIÓN, S.A.",
          "ROBERTO MONTERROSO",
          "Exportadora de cafe condor",
          "various",
          "Ipanema Agrícola SA",
          "ECC",
          "varios",
          "Mondul Coffee Estate",
          "JOSÉ LUIS ANDRADE SANDARA",
          "SEVERAL",
          "CORICAFE BLEND",
          "COOPCAB",
          "ORLANDO ORTIZ / HIPOLITO TORRES",
          "LUIS RODRIGUEZ",
          "condor",
          "BALBINO RAMIREZ FLORES",
          "Manuel Montero",
          "PABLO CHUY",
          "FRANKLIN DUSSAN",
          "Rafael Arroyo Zoto",
          "LIN YEN CHIEN 林言謙",
          "蘇詠晴",
          "SIEMBRAS VISIÓN, S.A.",
          "VRIOS PRODUCTORES",
          "MODESTO LANDEROS FLORES",
          "AGROPECUARIA QUIAGRAL",
          "Eliane de Andrade Cyrino Noqueira",
          "La Plata",
          "Ipanema Agricola S.A",
          "AGROINDUSTRIAS CAFETALERAS",
          "Mamsera",
          "Yeh, Li Chuan",
          "FINCA MEDINA",
          "JOSE OMAR ACOSTA",
          "Mojiang Jinggong Estate Speciality Development Co.Ltd",
          "Yunnan Success Trade Co.Ltd",
          "Ecom Agroindustrial Corp. Ltd.",
          "FINCA MEDINA",
          "PAPATURRO",
          "Doi Tung Development Project",
          "Tutunze Kahawa Ltd",
          "La Plata",
          "Kabum Trading Company",
          "Nelson Melgar Melgar",
          "Reynerio Zepeda",
          "AGRICOLA NUEVA GRANADA, S.A.",
          "ROBERTO MONTERROSO",
          "MARGARITO ROBLERO VAZQUEZ",
          "AMADOR HERNANDEZ DIONICIO",
          "TREJO VELASCO, ROMAN",
          "LA PLATA",
          "FERNANDO MENDOZA APARICIO",
          "OCTAVIO MOGUEL FARRERA",
          "Giovane Senna Bonacorssi",
          "Maria Aparecida Ferreira Azevedo",
          "Conquista / Morito",
          "Andrea Galvão Noqueira",
          "Orlando Moreno / Willson Sanchez",
          "Ipanema Agricola",
          "Ipanema Agrícola SA",
          "Tseng ju feng / Kuo jun hong 曾如楓 / 郭俊宏",
          "Ipanema Agrícola SA",
          "VARIOS",
          "Fang zheng lun 方政倫",
          "MARIA LUISA DEL CARMEN ROJAS NARVAEZ",
          "Ipanema Agricola S.A",
          "Ipanema Agricola",
          "Ipanema Agricola",
          "Xavier Baluku",
          "Emmanuel Munaaba",
          "Yeh, Li Chuan.",
          "OVIDIO CARDONA",
          "Agricola Nueva Granada, S. A.",
          "FINCA MEDINA",
          "João Alves Toledo",
          "雅慕伊",
          "Kucofa farmers group",
          "Hacienda Alto Grande",
          "GRUPO MEDINA",
          "CORICAFE BLEND",
          "NAZARETH DIAS PEREIRA",
          "La Plata",
          "COFFEE COMPANY / CAFECOL",
          "ORLANDO ORTOZ / HIPOLITO TORRES",
          "LA PLATA",
          "GONZALO RIVERO PUERTO",
          "SANTIAGO SOLIS AYERDI",
          "FRANCO COLORADO DOMINGUEZ",
          "varios",
          "NUEVOS MERCADOS, S.A.",
          "LA PLATA",
          "Ipanema Agricola S.A",
          "Balcanes Coffee Estates, S.A. de C.V.",
          "Wang Chao Yung 王超永",
          "-",
          "許文郎",
          "Hineleban Foundation",
          "Ephemera Traders",
          "Catalina Rodriguez Mayorga",
          "FIECH",
          "GERSON NAIMEG",
          "Sipi organic coffee project",
          "Nyapea coffee farmers association",
          "SIEMBRAS VISION, S.A.",
          "SIEMBRAS VISIÓN, S.A.",
          "OTTONIEL VILLATORO LOPEZ",
          "MARIA GUADALUPE GOMEZ ANZO",
          "Apollo Co., Ltd.",
          "WERCLEIN HERNANDEZ SERRANO ID.-1506728641",
          "KEREMARA LIMITED",
          "JORGE LEAL",
          "Ipanema Agricola",
          "El Barbaro, S.A. de C.V.",
          "Bufcoffee_Gicumbi",
          "Yeh, Li Chuan",
          "AMILCAR LAPOLA",
          "Antonio Batista Francisquine",
          "Mercedes Narvaez",
          "PT. Olam Indonesia",
          "SIEMBRAS VISIÓN, S.A.",
          "Mrs. Galeano",
          "La Plata",
          "BURKA COFFEE ESTATE",
          "ARMANDO LUIS POHLENZ MARTINEZ",
          "OLIVIA HERNANDEZ VIRUES",
          "AGROPECUARIA QUIAGRAL",
          "OCTAVIO MOGUEL FARRERA",
          "PLANTACIONES AGROPECUARIAS S.A",
          "PABLO ARTURO CHUY FLORES",
          "ANGEL DE LEON",
          "OTTO BECKER",
          "JESUS RAMIREZ",
          "vary farm",
          "JESUS RAMIREZ",
          "林俊吉( Lin, Chun-Chi)",
          "Soc. Coop. de Caf. de Ciudad Barrios de R.L.",
          "Martin Gutierrez",
          "Reinerio Zepeda",
          "Ipanema Agricola",
          "Puwen Lvyou Coffee Co.,Ltd",
          "Pu'er Lingdu Yunlin Coffee Co.LTD",
          "La Plata",
          "Mzuzu Coffee Planters Coop Union",
          "ROBERTO MONTERROSO",
          "several",
          "CARLOS O. VELAZCO LOPEZ",
          "FRANCISCO R. DE LA VEQUIA BERNARDI",
          "ROMULO BELLO FLORES",
          "Supply Chain ECOM CCA S.A.",
          "LA PLATA",
          "Price Peterson",
          "Ipanema Agricola S.A",
          "Ipanema Agricola",
          "Paksong,Laos",
          "El Barbaro, S.A. de C.V.",
          "Ipanema Agrícola SA",
          "Nitin Coffee Estate",
          "Taylor Winch (T) ltd",
          "林道明",
          "AVELINO CHAVEZ REYNA",
          "Kawacom Uganda Ltd",
          "Xu ding ye 許定燁",
          "Koju Matsuzawa",
          "-",
          "AMIN JAVIER MOISES CEJA",
          "MARIA DE LOURDES ANCIRA ELIZONDO",
          "JESUS RAMIREZ",
          "林文弘 Lin Wen Hong",
          "SMALL HOLDERS FARMER",
          "Doi Tung Development Project",
          "Coffeas Co., Ltd.",
          "Tembo Coffee Company Ltd",
          "Sipi organic coffee project",
          "VARIOS",
          "varios",
          "varios",
          "GUILLERMO ROJAS SALDAÑA",
          "FEDERICO ENCISO MICHEL; LEODAN ENCISO FIGUEROA; JAIME LOPEZ LOPEZ",
          "LA PLATA",
          "Ipanema Agricola S.A",
          "vary",
          "Nahun Maldonado",
          "MARGARITA AVILA DE NUYENS",
          "Doi Tung Development Project",
          "Coffeas Co., Ltd.",
          "Shah Plantations",
          "Santiago & Rosaura Arguello Campos",
          "Ipanema Coffees",
          "AGRICOLA MONTE VERDE, S.A.",
          "MARGARITA DE NUYENS",
          "VELASCO SAN AGUSTIN, NAZARIO",
          "ENRIQUE MITRE LOPEZ",
          "SUSANA LETICIA LOPEZ AGUILAR",
          "Nazareth Dias Pereira",
          "LA PLATA",
          "Danilo Carrillo",
          "JORGE LEAL",
          "ANGEL DE LEON",
          "JESUS RAMIREZ",
          "Menglian Gao Sanlin Coffee Factory",
          "GLADNESS OBED PALLANGYO",
          "Ipanema Agrícola SA",
          "UNEX",
          "AVELINO CHAVEZ REYNA",
          "Betina Vilela Reis",
          "Ipanema Coffees",
          "MANUEL HERRERA JUAREZ",
          "EMPERATRIZ GARCIA MUÑOZ",
          "VICTOR MANUEL LOPEZ VAZQUEZ",
          "GIBRAN LEONARDO CERVANTES COVARRUBIAS",
          "MANUEL HERRERA JUAREZ",
          "DARIO FRANCISCO GALEANA SOLIS",
          "JOSE DANIEL COBILT CASTRO",
          "ALVARO QUIROS PEREZ, MIGUEL QUIROZ PEREZ",
          "OLIVIA HERNANDEZ VIRVES",
          "ROBIN CLEAVER",
          "JAIME PULIDO / ALBINO MAHECHA / FREDDY MENDEZ",
          "Reinerio Zepeda",
          "Tulio Taft Bovaretto",
          "Ipanema Agricola",
          "Martin Gutierrez",
          "Johanna",
          "Yun Lan Coffee Co. Ltd",
          "Ipanema Agrícola SA",
          "AMANCIO DEL VALLE CARRILLO",
          "Mzuzu Coffee Planters Coop Union",
          "Ipanema Agrícola SA",
          "ROBERTO MONTERROSO",
          "SEVERAL",
          "Zhang shui sheng 張水勝",
          "Lin yu ding 林玉定",
          "ROBERTO MONTERROSO",
          "AGROINDUSTRIAS UNIDAS DE MEXICO SA DE CV",
          "CAFE MOLINO MONTERROSO P,J. ROBERTO",
          "SALAZAR HERNANDEZ, ROBERTO",
          "MANUEL HERRERA JUAREZ",
          "AGROPECUARIA QUIAGRAL",
          "José Malagutti",
          "MARIA LUISA DELCARMEN ROJAS NARVAEZ",
          "José Alberto dos Santos",
          "JAIME PULIDO / ERMILSON RAMOS",
          "NAGIPE VIANA KLEM",
          "PABLO CHUY",
          "Ipanema Agrícola SA",
          "Tropical Farm Management El Salvador, S.A. de C.V.",
          "Omar Acosta",
          "Mzuzu Coffee Coop Union",
          "Ipanema Agrícola SA",
          "Lin yu tang 林玉堂",
          "MARIA DEL ROSARIO IRAIS VALDIVIA ORTIZ",
          "FELIX DE LA CRUZ CASIMIRO",
          "SIEMBRAS VISION, S.A.",
          "MANUEL HERRERA JUAREZ",
          "GUILLERMO ROJAS SALDAÑA",
          "SERGIO DE LA VEQUIA BERNARDI",
          "COOP",
          "La Plata",
          "Ipanema Agricola",
          "Nahun Maldonado",
          "Langiro farm group",
          "Ipanema Agrícola SA",
          "Doi Tung Development Project",
          "Omar Acosta",
          "Tembo Coffee Company Ltd",
          "JOSÉ LUIS ANDRADE SANDARA",
          "Union Ramal Santa Cruz",
          "Guo Zhang Sheng 郭章盛",
          "Jufeng-Tseng 曾如楓",
          "AVILA MARTINEZ ADOLFO",
          "Several producers",
          "SALVADOR CARO CARRION",
          "OSCAR TORRES OCHOCA, GENARO MATA CAMBEROS, MANUEL DUARTE MUNGUIA",
          "Various Farms",
          "Ipanema Agricola",
          "Ipanema Agrícola SA",
          "JOSE FRANCISCO GONZALEZ",
          "AMPCG",
          "Ngorogoro Convenant Estate",
          "Cafetalera Aquiares",
          "GIBRAN LEONARDO CERVANTES COVARRUBIAS",
          "ISMAM SAN ISIDRO LABRADOR S. DE S.S.",
          "ROSA AURORA FALCON FERNANDEZ",
          "Apollo Co., LTd.",
          "RAMIRO DE LA VEQUIA BERNARDI",
          "Santos Fonseca",
          "Santos Fonseca",
          "Ipanema Agricola",
          "Mr & Mrs Didas Mallya",
          "HanYong Choi",
          "Finca Estate",
          "Mzuzu Coffee Coop Union",
          "Chen Jin Lin 陳金璘",
          "Doi Tung Development Project",
          "VARIOS",
          "BSR",
          "Lin Huang, A-Mien 黃阿綿",
          "Café do Paraíso",
          "JORGE OCTAVIO ESCAMILLA PRADO",
          "Vander Bonaccorsi",
          "José Hiroiti",
          "Maria da Gloria Junqueira",
          "Conquista/Morito",
          "AGRICOLA EL PILAR, S.A.",
          "OTTO BECKER",
          "Reinerio Zepeda",
          "Múcio Cardoso",
          "Comercial Exportadora, S.A. de C.V.",
          "OVIDIO CARDONA",
          "Mcomafa",
          "Chen gui jiao 陳桂嬌",
          "VARIOS PRODUCTORES",
          "PONCE RUBIO, VENANCIO",
          "FRANCISCO SAENZ, FERNANDO",
          "JUAN HERMILIO SAMPIERI CARCAMO",
          "MODESTO LANDEROS FLORES",
          "Fioravante Malagutti",
          "JESUS RAMIREZ",
          "Manuel Montero",
          "Helena Pingnatti Ricci",
          "MUDAR",
          "CHAPULTEPEC",
          "Ipanema Agrícola SA",
          "Ipanema Agrícola SA",
          "U Mg Mg",
          "MARTINIANO A. MORENO ALVARADO",
          "JOSE OMAR ACOSTA",
          "JOSE FRANCISCO GONZALEZ",
          "LIN SIN JI 林信吉",
          "Mzuzu Coffee Coop Union",
          "Ipanema Agrícola SA",
          "Tomás Sosa, Juan Damaso",
          "various small producers",
          "LA PLATA",
          "NAZARETH DIAS PEREIRA",
          "LUIS RODRIGUEZ",
          "MARIA MAGDALENA LUETHJE Y GRIS",
          "JORGE FRANCISCO MARTINEZ HACHITY",
          "ANGEL DE LEON",
          "Richard Yeh",
          "Ngorogoro Convenant Estate",
          "PEREZ LEMUS, FELIX",
          "SERGIO LANDA ALARCON",
          "CENEN TORRES CORTES, AVELINO TORES CORTES, JUAN VENTURA GUZMAN",
          "ARMANDO LUIS POHLENZ MARTINEZ",
          "GRACIELA AGUILAR PERALTA",
          "Ipanema Agricola S.A",
          "ANGEL DE LEON",
          "JESUS RAMIREZ",
          "JOSE OMAR ACOSTA",
          "Ipanema Agrícola SA",
          "DAE Ltd",
          "Tembo Coffee Company Ltd",
          "Ipanema Agrícola SA",
          "Tomás Sosa, Juan Damaso",
          "Martin Gutierrez",
          "Zhang ming fu 張明福",
          "Wu cai jin 吳蔡錦",
          "UNION RAMAL SANTA CRUZ",
          "CAFE MOLINO MONTERROSO P,J. ROBERTO",
          "PRODUCTORA AGRICOLA Y GANADERA FINCA LA SUIZA",
          "MAYA BINIK",
          "CESAR SANTIZ LOPEZ",
          "OCTAVIO MOGUEL FARRERA",
          "ARMANDO GUTIEREZ GUZMÁN",
          "Cafes Finos de Corquin",
          "AGRICOLA EL PILAR, SA.",
          "蘇晉寬 Su Jin Kuan",
          "Cafetalera Aquiares",
          "Acacia Hills Ltd",
          "Mzuzu Coffee Coop Union",
          "CHIU WEI LUN 邱偉倫",
          "Ipanema Coffees",
          "ROBERTO MONTERROSO",
          "UNION RAMAL SANTA CRUZ",
          "LUIS ANTONIO LOPEZ AGUILAR",
          "ENRIQUE EDUARDO LOPEZ AGUILAR",
          "OTTO BECKER",
          "Teófilo Narváez :",
          "NAHUN MALDONADO",
          "劉易騰",
          "Genius Coffee Estate",
          "Beneficio la Eva S.A.",
          "Mzuzu Coffee Coop Union        ",
          "VARIOS",
          "HUANG MEI TAO 黃美桃        ",
          "MARIA ROGERIA COSTA PEREIRA",
          "Mixed",
          "Xu yuan zhang 徐源漳",
          "AGROINDUSTRIAS UNIDAS DE MEXICO SA DE CV",
          "JORGE HERNANDEZ MONTEJO",
          "ZENOBIO MARTINEZ CANO",
          "MANUEL DUARTE MUNGUIA",
          "TOMAS EDELMANN BLASS",
          "MARIA DE LA PAZ AGUILAR GUILLEN",
          "PT. Perkebunan Nusantara XII",
          "Nazareth Dias Pereira",
          "Cafes tomari sa de cv",
          "AGRICOLA NUEVA GRANADA, S.A.",
          "INACIO URBAN",
          "Jose Omar Acosta",
          "謝文品",
          "Mzuzu Coffee Coop Union",
          "Ipanema Agrícola SA",
          "PACHUJ, S. A.",
          "various small producers",
          "OTTO BECKER",
          "MARTINEZ BAUTISTA, NICOLAS",
          "MARIA DE LOUDES ANCIRA ELIZONDO",
          "Exportadora de cafe condor s.a",
          "Nahun Maldonado",
          "NELSON AZEVEDO FRANÇA",
          "Jose Omar Acosta",
          "NAZARETH DIAS PEREIRA",
          "COFFEE FOR PEACE,INC.",
          "Mzuzu Coffee Coop Union",
          "Nelson Melgar Melgar",
          "ISMAM SAN ISIDRO LABRADOR S. DE S.S.",
          "HECTOR GABRIEL BARREDA NADER",
          "NAGIPE VIANA KLEM       ",
          "Hu Guei Jing 胡桂青",
          "Ipanema Agrícola SA",
          "Rolando Lacayo",
          "JOSE OMAR ACOSTA",
          "El Injerto S.A.",
          "Shangrilla Estate",
          "Liu ying wu 劉穎悟",
          "SIEMBRAS VISION, S.A.",
          "FRANCISCO J. CONTRERAS MARTINEZ DE ESCOBAR",
          "GONZALO CASTILLO",
          "Immaculata John",
          "Exportadora Café California",
          "JOSE FRANCISCO GONZALEZ",
          "Reinerio Zepeda",
          "Coffeas Co., Ltd.",
          "COFFEE FOR PEACE,INC.",
          "Taylor Winch (T) ltd",
          "R.W.J. Wallace Ltd",
          "VARIOS",
          "ISMAM SAN ISIDRO LABRADOR S. DE S.S.",
          "Finca Quequesquez",
          "Bruno de Andrade Frota",
          "José Olavo Boechat",
          "ROLANDO LACAYO",
          "JuanAna Coffee Association",
          "Taylor Winch (T) ltd",
          "Several",
          "Hacienda Alto Grande",
          "MEDINA PEDRERO PRODUCTOS AGRÍCOLAS SA DE CV",
          "DIEGO MANUEL WOOLRICH RAMIREZ, ALFREDO FERNANDO WOOLRICH RAMIREZ",
          "ETMAR DIDIER ROBLERO LOPEZ",
          "BALBINO RAMIREZ FLORES",
          "Balcanes Coffee Estates, S.A. de C.V.",
          "CHAPULTEPEC",
          "AMILCAR LAPOLA",
          "HU KUEI CHING 胡桂青",
          "NELSON MELGAR & REGINO MELGAL",
          "Mlimani Ngarashi",
          "Kyagalanyi coffee Ltd",
          "Zhou hong xiu 周紅秀",
          "Doi Tung Development Project",
          "MARTHA PALACIOS",
          "COOP",
          "蕭閔家",
          "AGRICOLA EL PILAR, S.A.",
          "thiririka/Thima",
          "Jose Oscar Garza Sardaneta",
          "Min Hlaing",
          "Karatu Estate",
          "NAZARETH DIAS PEREIRA",
          "張文進",
          "Ipanema Agrícola SA",
          "ROBERTO MONTERROSO",
          "Lu bi yun呂碧云",
          "Ding jin cai 丁金財",
          "Lu xing hui 呂星輝",
          "EDUARDO LUIS AUGUSTO VELAZQUEZ SOLIS",
          "Paksong,Laos",
          "several",
          "DOMINGO MUGUIRA REVUELTA",
          "JUAN JOSE CASAS BLANCO",
          "MOISES GUILLERMO CARRERA MONTES",
          "U Soe",
          "OTTONIEL VILLATORO LOPEZ",
          "ROLANDO LACAYO",
          "La Gran Manzana",
          "Lamastus",
          "Jose Omar Acosta",
          "Reinerio Zepeda",
          "SEVERAL",
          "JOSE RIOS LARA, APOLONIA FRANCO TORRES, JENARO GONZALES MENDOZA",
          "COOPAIMAR Copperative Agro Industriel de Marmelade",
          "Surbakti",
          "FINCA MEDINA",
          "Martin Gutierrez",
          "R.W.J. Wallace Ltd",
          "BALBINO RAMIREZ FLORES",
          "PACHUJ, S.A",
          "Burka Coffee Estates",
          "Ipanema Agrícola SA",
          "BSR",
          "BYRON ALONZO SOLIS",
          "王秋金",
          "EDWIN MUÑOZ",
          "Jorge Alfredo Pinto",
          "Lindolpho de Carvalho Dias",
          "Shwe Yin Mar",
          "VARIOS",
          "MARIA ROGERIA COSTA PEREIRA",
          "IDMAR DE JESUS VELASQUEZ CALDERON",
          "HERAS HERNANDEZ GAUDENCIO",
          "曾林春英",
          "Luis, Rafael and Carmen Silva Hoff",
          "Alicia's Farm",
          "Huang san lang 黃三郎        ",
          "CARLOS ALBERTO GOMEZ",
          "ARMANDO LUIS POHLENZ MARTINEZ",
          "Delfina Leon Shine",
          "Wu yi ting 吳伊婷",
          "AGRIPEC DE LA VEGA Y CIA.",
          "ARMANDO GUTIERREZ GUZMAN",
          "Luiz Augusto Pereira Moguilod",
          "Yamilet Lope",
          "Balbino Ramirez Flores",
          "Waylead Co, Ltd",
          "U Htun Htun",
          "GLORIA ANTONIETA ESCOBAR URRUTIA",
          "Weng hui ling 翁惠鈴",
          "UNEX",
          "HERNANDEZ PACHECO, TIMOTEO",
          "Yeh, Li Chuan",
          "Sheldom La rue",
          "Jose Omar Acosta",
          "ROBERTO MONTERROSO",
          "PABLO ENRIQUE MARTINEZ GAMA",
          "CIRILO JOSE JOSE",
          "MARCO VIRGILIO RAMIREZ TELIZ",
          "AGROPECUARIA QUIAGRAL",
          "簡義榮",
          "Du zheng ru 杜政儒",
          "Zheng zhao ming 鄭昭明",
          "Wu kun shan 吳焜山",
          "ALBERTA TEODORO ANALCO",
          "FEDERICO PACHECO PEREZ",
          "RONALDO LACAYO CARDENAL",
          "Ngu Shwe Li Coffee Estate",
          "various small producers",
          "Zhang xian tong 張献銅",
          "Doi Tung Development Project",
          "PABLO ENRIQUE MARTINEZ GAMA",
          "SEMIRAMIS CASAS VELAZQUEZ",
          "VARIOS PRODUCTORES",
          "MARTHA PALACIOS",
          "DELMAR MORENO GUILLEN",
          "MARIA ELENA TERESA FERNANDEZ CEJA",
          "PABLO ENRIQUE MARTINEZ GAMA",
          "MARIA DEL ROSARIO IRAIS VALDIVIA ORTIZ",
          "YARA / BENVAR",
          "JORGE LEAL",
          "Asociación Aldea Global Jinotega",
          "CIRO DE LA VEQUIA CESSA",
          "AGRICOLA EL PILAR, S.A.",
          "Wei-Chieh ( Jack ) Hua",
          "LIN REN FU 林人富",
          "Doi Tung Development Project",
          "Coopeagri",
          "UNION RAMAL SANTA CRUZ",
          "COMONYAJ NOPTIC S DE SS",
          "VARIOS PRODUCTORES",
          "MINERVA ZUÑIGA GARCIA",
          "ANGEL GONZALES",
          "ALFREDO MOISES CEJA",
          "JESUS RAMIREZ",
          "Sociedad Cooperativa de Cafetaleros de Ciudad Barrios de R.L.",
          "Doi Tung Development Project",
          "AGRIPEC DE LA VEGA Y CIA.",
          "UNION RAMAL SANTA CRUZ",
          "GOMEZ GRANILLO, VERONICO",
          "CECILIA AVILA CAMBEROS",
          "ROGELIO JACOME MORALES",
          "ARMANDO LUIS POHLENZ MARTINEZ",
          "Cooperativa de Servicio Múltiples el Gorrión R.L",
          "張素真",
          "ARMANDO LUIS POHLENZ MARTINEZ",
          "MARIA DE LA LUZ SANCHEZ TODD",
          "AMILCAR LAPOLA",
          "VARIOS",
          "ADRIANA TORRES RICO QUEVEDO",
          "CNRA",
          "Spot",
          "ERIC JESUS CORDOBA ARROYO",
          "ANTONIO CORDOBA MURILLO",
          "WU SHU YI 巫叔憶",
          "MARCO VIRGILIO RAMIREZ TELIZ",
          "OTTO BECKER",
          "Jorge Alfredo Pinto",
          "CHAPULTEPEC",
          "OVIDIO CARDONA",
          "HILARIO GARCÍA SANDOVAL",
          "SOCIEADAD COOPERATIVA INDUSTRIAL CAFES YAJALON S. C. L.",
          "ANGEL DE LEON",
          "Hacienda Alto Grande",
          "GUADALUPE HERAS HERNANDEZ",
          "JUANA RODRIGUEZ GUTIERREZ",
          "BALBINO RAMIREZ FLORES",
          "Varios",
          "Cooperativa Coaquil",
          "Frontera",
          "GONZALO DE AQUINO FLORES",
          "JUAN CRUZ RIAÑO",
          "JUAN AVENAMAR RODRIGUEZ FUNEZ",
          "AGROINDUSTRIAS UNIDAS DE MEXICO SA DE CV",
          "LUISA ZUÑIGA GARCÍA",
          "Teófilo Narváez",
          "AGRIPEC DE LA VEGA Y CIA.",
          "JOSE VAZQUEZ CANTON, JOSE ANTONIO JIMENEZ GONZALEZ, IRENEO GARCIA VALDIVIA",
          "DAMASO MARTINEZ PEREZ",
          "PEDRO HERRERA GUZMAN, AURELIO GABRIEL HERNANDEZ ,MARIA DE LOURDES DERISTAIN TRESS",
          "Yunnan Louis Herbs R&D Center",
          "JUAN GARCIA HERNANDEZ",
          "VARIOS",
          "GUO JIUN HUNG 郭俊宏 & TSENG RU FENG 曾如楓",
          "EPIFANIO GARCIA DE MIGUEL",
          "J. CARMEN GUZMAN CONCEPCION, IGNACIO RAMIREZ BARAJAS, DIONICIO GARCIA RAMIREZ",
          "Various small producers",
          "REYNALDO OLIVERA RIOS",
          "FRANCISCO RUIZ NUÑEZ",
          "LAMBERTO JOSÉ GARCÍA",
          "VARIOS",
          "LUIS RODRIGUEZ",
          "PABLO CERVANTES MORELOS        ",
          "vary farms",
          "CONSUELO GONZALEZ GOMEZ",
          "林俊吉( Lin, Chun-Chi)",
          "Cooperativa Coaquil",
          "VARIOS",
          "GreenHouse Coffee",
          "AGRICOLA MONTE VERDE, S.A.",
          "MARIO GARCÍA",
          "Beneficio la Eva S.A.",
          "GUSTAVO ABARCA SOLIS",
          "LUIS RODRIGUEZ",
          "Chen Shuei Lian 陳水連",
          "RUBRIA OCHOA BELLO",
          "MARGARITA DE NUYENS Y/O CARLOS NUYENS",
          "Ipanema Agricola S.A",
          "VARIOS",
          "AQUILINO GARCÍA RIAÑO",
          "Mixed",
          "ALEJANDRO GARCÍA PALACIOS",
          "Sol y Cafe",
          "CASTULO GUTIERREZ",
          "AGROPECUARIA QUIAGRAL",
          "ISIDORA HERAS HERNANDEZ",
          "1",
          "GUILLERMO EDUARDO BOBADILLA MUGUIRA",
          "Cooperativa Coaquil",
          "various smallholders",
          "AGROPECUARIA QUIAGRAL",
          "JUANA RODRIGUEZ GUTIERREZ",
          "SPOSEL S. DE S.S.",
          "SURAYA MAGDALENA LOTFE CALDERON",
          "MARTÍN JIMENEZ CASIANO, PAULINA CERQUEDA ALVAREZ, JULIO MARTINEZ TERAN",
          "MIGUEL LOPEZ TIRZO",
          "GEREMIAS RIAÑO LOPEZ",
          "PABLO ENRIQUE MARTINEZ GAMA",
          "CESMACH (VARIOS)",
          "AGRIPEC DE LA VEGA Y CIA.",
          "JORGE OCTAVIO ESCAMILLA PRADO",
          "MYRNA ROXANA GÁLVEZ GONZÁLEZ",
          "EUGENE HOLMAN PEW",
          "Cooperativa Coaquil",
          "various small producers",
          "Beneficio la Eva S.A.",
          "JOSÉ ARMANDO NORBERTO BORZANI LEMINI",
          "RICARDO AARON SAMPIERI MARINI",
          "various small producers",
          "Omar Acosta",
          "Omar Acosta",
          "Omar Acosta",
          "JUAN CARLOS GARCÍA LOPEZ",
          "COEB Koperativ Ekselsyo Basen",
          "Teófilo Narváez",
          "WILLIAM ESTUARDO MARTINEZ PACHECO"
         ],
         "xaxis": "x",
         "yaxis": "y"
        }
       ],
       "layout": {
        "barmode": "relative",
        "legend": {
         "tracegroupgap": 0
        },
        "template": {
         "data": {
          "bar": [
           {
            "error_x": {
             "color": "#2a3f5f"
            },
            "error_y": {
             "color": "#2a3f5f"
            },
            "marker": {
             "line": {
              "color": "#E5ECF6",
              "width": 0.5
             },
             "pattern": {
              "fillmode": "overlay",
              "size": 10,
              "solidity": 0.2
             }
            },
            "type": "bar"
           }
          ],
          "barpolar": [
           {
            "marker": {
             "line": {
              "color": "#E5ECF6",
              "width": 0.5
             },
             "pattern": {
              "fillmode": "overlay",
              "size": 10,
              "solidity": 0.2
             }
            },
            "type": "barpolar"
           }
          ],
          "carpet": [
           {
            "aaxis": {
             "endlinecolor": "#2a3f5f",
             "gridcolor": "white",
             "linecolor": "white",
             "minorgridcolor": "white",
             "startlinecolor": "#2a3f5f"
            },
            "baxis": {
             "endlinecolor": "#2a3f5f",
             "gridcolor": "white",
             "linecolor": "white",
             "minorgridcolor": "white",
             "startlinecolor": "#2a3f5f"
            },
            "type": "carpet"
           }
          ],
          "choropleth": [
           {
            "colorbar": {
             "outlinewidth": 0,
             "ticks": ""
            },
            "type": "choropleth"
           }
          ],
          "contour": [
           {
            "colorbar": {
             "outlinewidth": 0,
             "ticks": ""
            },
            "colorscale": [
             [
              0,
              "#0d0887"
             ],
             [
              0.1111111111111111,
              "#46039f"
             ],
             [
              0.2222222222222222,
              "#7201a8"
             ],
             [
              0.3333333333333333,
              "#9c179e"
             ],
             [
              0.4444444444444444,
              "#bd3786"
             ],
             [
              0.5555555555555556,
              "#d8576b"
             ],
             [
              0.6666666666666666,
              "#ed7953"
             ],
             [
              0.7777777777777778,
              "#fb9f3a"
             ],
             [
              0.8888888888888888,
              "#fdca26"
             ],
             [
              1,
              "#f0f921"
             ]
            ],
            "type": "contour"
           }
          ],
          "contourcarpet": [
           {
            "colorbar": {
             "outlinewidth": 0,
             "ticks": ""
            },
            "type": "contourcarpet"
           }
          ],
          "heatmap": [
           {
            "colorbar": {
             "outlinewidth": 0,
             "ticks": ""
            },
            "colorscale": [
             [
              0,
              "#0d0887"
             ],
             [
              0.1111111111111111,
              "#46039f"
             ],
             [
              0.2222222222222222,
              "#7201a8"
             ],
             [
              0.3333333333333333,
              "#9c179e"
             ],
             [
              0.4444444444444444,
              "#bd3786"
             ],
             [
              0.5555555555555556,
              "#d8576b"
             ],
             [
              0.6666666666666666,
              "#ed7953"
             ],
             [
              0.7777777777777778,
              "#fb9f3a"
             ],
             [
              0.8888888888888888,
              "#fdca26"
             ],
             [
              1,
              "#f0f921"
             ]
            ],
            "type": "heatmap"
           }
          ],
          "heatmapgl": [
           {
            "colorbar": {
             "outlinewidth": 0,
             "ticks": ""
            },
            "colorscale": [
             [
              0,
              "#0d0887"
             ],
             [
              0.1111111111111111,
              "#46039f"
             ],
             [
              0.2222222222222222,
              "#7201a8"
             ],
             [
              0.3333333333333333,
              "#9c179e"
             ],
             [
              0.4444444444444444,
              "#bd3786"
             ],
             [
              0.5555555555555556,
              "#d8576b"
             ],
             [
              0.6666666666666666,
              "#ed7953"
             ],
             [
              0.7777777777777778,
              "#fb9f3a"
             ],
             [
              0.8888888888888888,
              "#fdca26"
             ],
             [
              1,
              "#f0f921"
             ]
            ],
            "type": "heatmapgl"
           }
          ],
          "histogram": [
           {
            "marker": {
             "pattern": {
              "fillmode": "overlay",
              "size": 10,
              "solidity": 0.2
             }
            },
            "type": "histogram"
           }
          ],
          "histogram2d": [
           {
            "colorbar": {
             "outlinewidth": 0,
             "ticks": ""
            },
            "colorscale": [
             [
              0,
              "#0d0887"
             ],
             [
              0.1111111111111111,
              "#46039f"
             ],
             [
              0.2222222222222222,
              "#7201a8"
             ],
             [
              0.3333333333333333,
              "#9c179e"
             ],
             [
              0.4444444444444444,
              "#bd3786"
             ],
             [
              0.5555555555555556,
              "#d8576b"
             ],
             [
              0.6666666666666666,
              "#ed7953"
             ],
             [
              0.7777777777777778,
              "#fb9f3a"
             ],
             [
              0.8888888888888888,
              "#fdca26"
             ],
             [
              1,
              "#f0f921"
             ]
            ],
            "type": "histogram2d"
           }
          ],
          "histogram2dcontour": [
           {
            "colorbar": {
             "outlinewidth": 0,
             "ticks": ""
            },
            "colorscale": [
             [
              0,
              "#0d0887"
             ],
             [
              0.1111111111111111,
              "#46039f"
             ],
             [
              0.2222222222222222,
              "#7201a8"
             ],
             [
              0.3333333333333333,
              "#9c179e"
             ],
             [
              0.4444444444444444,
              "#bd3786"
             ],
             [
              0.5555555555555556,
              "#d8576b"
             ],
             [
              0.6666666666666666,
              "#ed7953"
             ],
             [
              0.7777777777777778,
              "#fb9f3a"
             ],
             [
              0.8888888888888888,
              "#fdca26"
             ],
             [
              1,
              "#f0f921"
             ]
            ],
            "type": "histogram2dcontour"
           }
          ],
          "mesh3d": [
           {
            "colorbar": {
             "outlinewidth": 0,
             "ticks": ""
            },
            "type": "mesh3d"
           }
          ],
          "parcoords": [
           {
            "line": {
             "colorbar": {
              "outlinewidth": 0,
              "ticks": ""
             }
            },
            "type": "parcoords"
           }
          ],
          "pie": [
           {
            "automargin": true,
            "type": "pie"
           }
          ],
          "scatter": [
           {
            "marker": {
             "colorbar": {
              "outlinewidth": 0,
              "ticks": ""
             }
            },
            "type": "scatter"
           }
          ],
          "scatter3d": [
           {
            "line": {
             "colorbar": {
              "outlinewidth": 0,
              "ticks": ""
             }
            },
            "marker": {
             "colorbar": {
              "outlinewidth": 0,
              "ticks": ""
             }
            },
            "type": "scatter3d"
           }
          ],
          "scattercarpet": [
           {
            "marker": {
             "colorbar": {
              "outlinewidth": 0,
              "ticks": ""
             }
            },
            "type": "scattercarpet"
           }
          ],
          "scattergeo": [
           {
            "marker": {
             "colorbar": {
              "outlinewidth": 0,
              "ticks": ""
             }
            },
            "type": "scattergeo"
           }
          ],
          "scattergl": [
           {
            "marker": {
             "colorbar": {
              "outlinewidth": 0,
              "ticks": ""
             }
            },
            "type": "scattergl"
           }
          ],
          "scattermapbox": [
           {
            "marker": {
             "colorbar": {
              "outlinewidth": 0,
              "ticks": ""
             }
            },
            "type": "scattermapbox"
           }
          ],
          "scatterpolar": [
           {
            "marker": {
             "colorbar": {
              "outlinewidth": 0,
              "ticks": ""
             }
            },
            "type": "scatterpolar"
           }
          ],
          "scatterpolargl": [
           {
            "marker": {
             "colorbar": {
              "outlinewidth": 0,
              "ticks": ""
             }
            },
            "type": "scatterpolargl"
           }
          ],
          "scatterternary": [
           {
            "marker": {
             "colorbar": {
              "outlinewidth": 0,
              "ticks": ""
             }
            },
            "type": "scatterternary"
           }
          ],
          "surface": [
           {
            "colorbar": {
             "outlinewidth": 0,
             "ticks": ""
            },
            "colorscale": [
             [
              0,
              "#0d0887"
             ],
             [
              0.1111111111111111,
              "#46039f"
             ],
             [
              0.2222222222222222,
              "#7201a8"
             ],
             [
              0.3333333333333333,
              "#9c179e"
             ],
             [
              0.4444444444444444,
              "#bd3786"
             ],
             [
              0.5555555555555556,
              "#d8576b"
             ],
             [
              0.6666666666666666,
              "#ed7953"
             ],
             [
              0.7777777777777778,
              "#fb9f3a"
             ],
             [
              0.8888888888888888,
              "#fdca26"
             ],
             [
              1,
              "#f0f921"
             ]
            ],
            "type": "surface"
           }
          ],
          "table": [
           {
            "cells": {
             "fill": {
              "color": "#EBF0F8"
             },
             "line": {
              "color": "white"
             }
            },
            "header": {
             "fill": {
              "color": "#C8D4E3"
             },
             "line": {
              "color": "white"
             }
            },
            "type": "table"
           }
          ]
         },
         "layout": {
          "annotationdefaults": {
           "arrowcolor": "#2a3f5f",
           "arrowhead": 0,
           "arrowwidth": 1
          },
          "autotypenumbers": "strict",
          "coloraxis": {
           "colorbar": {
            "outlinewidth": 0,
            "ticks": ""
           }
          },
          "colorscale": {
           "diverging": [
            [
             0,
             "#8e0152"
            ],
            [
             0.1,
             "#c51b7d"
            ],
            [
             0.2,
             "#de77ae"
            ],
            [
             0.3,
             "#f1b6da"
            ],
            [
             0.4,
             "#fde0ef"
            ],
            [
             0.5,
             "#f7f7f7"
            ],
            [
             0.6,
             "#e6f5d0"
            ],
            [
             0.7,
             "#b8e186"
            ],
            [
             0.8,
             "#7fbc41"
            ],
            [
             0.9,
             "#4d9221"
            ],
            [
             1,
             "#276419"
            ]
           ],
           "sequential": [
            [
             0,
             "#0d0887"
            ],
            [
             0.1111111111111111,
             "#46039f"
            ],
            [
             0.2222222222222222,
             "#7201a8"
            ],
            [
             0.3333333333333333,
             "#9c179e"
            ],
            [
             0.4444444444444444,
             "#bd3786"
            ],
            [
             0.5555555555555556,
             "#d8576b"
            ],
            [
             0.6666666666666666,
             "#ed7953"
            ],
            [
             0.7777777777777778,
             "#fb9f3a"
            ],
            [
             0.8888888888888888,
             "#fdca26"
            ],
            [
             1,
             "#f0f921"
            ]
           ],
           "sequentialminus": [
            [
             0,
             "#0d0887"
            ],
            [
             0.1111111111111111,
             "#46039f"
            ],
            [
             0.2222222222222222,
             "#7201a8"
            ],
            [
             0.3333333333333333,
             "#9c179e"
            ],
            [
             0.4444444444444444,
             "#bd3786"
            ],
            [
             0.5555555555555556,
             "#d8576b"
            ],
            [
             0.6666666666666666,
             "#ed7953"
            ],
            [
             0.7777777777777778,
             "#fb9f3a"
            ],
            [
             0.8888888888888888,
             "#fdca26"
            ],
            [
             1,
             "#f0f921"
            ]
           ]
          },
          "colorway": [
           "#636efa",
           "#EF553B",
           "#00cc96",
           "#ab63fa",
           "#FFA15A",
           "#19d3f3",
           "#FF6692",
           "#B6E880",
           "#FF97FF",
           "#FECB52"
          ],
          "font": {
           "color": "#2a3f5f"
          },
          "geo": {
           "bgcolor": "white",
           "lakecolor": "white",
           "landcolor": "#E5ECF6",
           "showlakes": true,
           "showland": true,
           "subunitcolor": "white"
          },
          "hoverlabel": {
           "align": "left"
          },
          "hovermode": "closest",
          "mapbox": {
           "style": "light"
          },
          "paper_bgcolor": "white",
          "plot_bgcolor": "#E5ECF6",
          "polar": {
           "angularaxis": {
            "gridcolor": "white",
            "linecolor": "white",
            "ticks": ""
           },
           "bgcolor": "#E5ECF6",
           "radialaxis": {
            "gridcolor": "white",
            "linecolor": "white",
            "ticks": ""
           }
          },
          "scene": {
           "xaxis": {
            "backgroundcolor": "#E5ECF6",
            "gridcolor": "white",
            "gridwidth": 2,
            "linecolor": "white",
            "showbackground": true,
            "ticks": "",
            "zerolinecolor": "white"
           },
           "yaxis": {
            "backgroundcolor": "#E5ECF6",
            "gridcolor": "white",
            "gridwidth": 2,
            "linecolor": "white",
            "showbackground": true,
            "ticks": "",
            "zerolinecolor": "white"
           },
           "zaxis": {
            "backgroundcolor": "#E5ECF6",
            "gridcolor": "white",
            "gridwidth": 2,
            "linecolor": "white",
            "showbackground": true,
            "ticks": "",
            "zerolinecolor": "white"
           }
          },
          "shapedefaults": {
           "line": {
            "color": "#2a3f5f"
           }
          },
          "ternary": {
           "aaxis": {
            "gridcolor": "white",
            "linecolor": "white",
            "ticks": ""
           },
           "baxis": {
            "gridcolor": "white",
            "linecolor": "white",
            "ticks": ""
           },
           "bgcolor": "#E5ECF6",
           "caxis": {
            "gridcolor": "white",
            "linecolor": "white",
            "ticks": ""
           }
          },
          "title": {
           "x": 0.05
          },
          "xaxis": {
           "automargin": true,
           "gridcolor": "white",
           "linecolor": "white",
           "ticks": "",
           "title": {
            "standoff": 15
           },
           "zerolinecolor": "white",
           "zerolinewidth": 2
          },
          "yaxis": {
           "automargin": true,
           "gridcolor": "white",
           "linecolor": "white",
           "ticks": "",
           "title": {
            "standoff": 15
           },
           "zerolinecolor": "white",
           "zerolinewidth": 2
          }
         }
        },
        "title": {
         "text": "Coffee: Producer"
        },
        "xaxis": {
         "anchor": "y",
         "domain": [
          0,
          1
         ],
         "title": {
          "text": "Producer"
         }
        },
        "yaxis": {
         "anchor": "x",
         "domain": [
          0,
          1
         ],
         "title": {
          "text": "count"
         }
        }
       }
      }
     },
     "metadata": {},
     "output_type": "display_data"
    },
    {
     "data": {
      "application/vnd.plotly.v1+json": {
       "config": {
        "plotlyServerURL": "https://plot.ly"
       },
       "data": [
        {
         "alignmentgroup": "True",
         "bingroup": "x",
         "hovertemplate": "Processing Method=%{x}<br>count=%{y}<extra></extra>",
         "legendgroup": "",
         "marker": {
          "color": "#636efa",
          "pattern": {
           "shape": ""
          }
         },
         "name": "",
         "offsetgroup": "",
         "orientation": "v",
         "showlegend": false,
         "type": "histogram",
         "x": [
          "Washed / Wet",
          "Washed / Wet",
          "Natural / Dry",
          "Washed / Wet",
          "Natural / Dry",
          "Natural / Dry",
          "Washed / Wet",
          "Washed / Wet",
          "Washed / Wet",
          "Washed / Wet",
          "Natural / Dry",
          "Washed / Wet",
          "Washed / Wet",
          "Washed / Wet",
          "Washed / Wet",
          "Natural / Dry",
          "Washed / Wet",
          "Pulped natural / honey",
          "Natural / Dry",
          "Washed / Wet",
          "Natural / Dry",
          "Washed / Wet",
          "Washed / Wet",
          "Washed / Wet",
          "Semi-washed / Semi-pulped",
          "Natural / Dry",
          "Semi-washed / Semi-pulped",
          "Washed / Wet",
          "Natural / Dry",
          "Washed / Wet",
          "Washed / Wet",
          "Washed / Wet",
          "Washed / Wet",
          "Washed / Wet",
          "Washed / Wet",
          "Semi-washed / Semi-pulped",
          "Natural / Dry",
          "Natural / Dry",
          "Washed / Wet",
          "Washed / Wet",
          "Washed / Wet",
          "Washed / Wet",
          "Semi-washed / Semi-pulped",
          "Natural / Dry",
          "Natural / Dry",
          "Washed / Wet",
          "Washed / Wet",
          "Washed / Wet",
          "Washed / Wet",
          "Washed / Wet",
          "Washed / Wet",
          "Natural / Dry",
          "Natural / Dry",
          "Natural / Dry",
          "Washed / Wet",
          "Washed / Wet",
          "Washed / Wet",
          "Natural / Dry",
          "Washed / Wet",
          "Semi-washed / Semi-pulped",
          "Washed / Wet",
          "Washed / Wet",
          "Semi-washed / Semi-pulped",
          "Natural / Dry",
          "Natural / Dry",
          "Natural / Dry",
          "Natural / Dry",
          "Washed / Wet",
          "Washed / Wet",
          "Washed / Wet",
          "Washed / Wet",
          "Pulped natural / honey",
          "Washed / Wet",
          "Washed / Wet",
          "Washed / Wet",
          "Washed / Wet",
          "Other",
          "Washed / Wet",
          "Washed / Wet",
          "Washed / Wet",
          "Washed / Wet",
          "Washed / Wet",
          "Washed / Wet",
          "Washed / Wet",
          "Washed / Wet",
          "Washed / Wet",
          "Washed / Wet",
          "Washed / Wet",
          "Washed / Wet",
          "Semi-washed / Semi-pulped",
          "Semi-washed / Semi-pulped",
          "Washed / Wet",
          "Washed / Wet",
          "Washed / Wet",
          "Washed / Wet",
          "Washed / Wet",
          "Washed / Wet",
          "Washed / Wet",
          "Washed / Wet",
          "Washed / Wet",
          "Other",
          "Washed / Wet",
          "Washed / Wet",
          "Washed / Wet",
          "Washed / Wet",
          "Washed / Wet",
          "Natural / Dry",
          "Washed / Wet",
          "Washed / Wet",
          "Natural / Dry",
          "Natural / Dry",
          "Washed / Wet",
          "Washed / Wet",
          "Natural / Dry",
          "Washed / Wet",
          "Washed / Wet",
          "Natural / Dry",
          "Washed / Wet",
          "Washed / Wet",
          "Other",
          "Semi-washed / Semi-pulped",
          "Washed / Wet",
          "Washed / Wet",
          "Washed / Wet",
          "Washed / Wet",
          "Washed / Wet",
          "Washed / Wet",
          "Washed / Wet",
          "Washed / Wet",
          "Natural / Dry",
          "Natural / Dry",
          "Washed / Wet",
          "Natural / Dry",
          "Washed / Wet",
          "Natural / Dry",
          "Washed / Wet",
          "Natural / Dry",
          "Washed / Wet",
          "Washed / Wet",
          "Washed / Wet",
          "Washed / Wet",
          "Washed / Wet",
          "Natural / Dry",
          "Washed / Wet",
          "Washed / Wet",
          "Natural / Dry",
          "Other",
          "Washed / Wet",
          "Natural / Dry",
          "Washed / Wet",
          "Washed / Wet",
          "Natural / Dry",
          "Washed / Wet",
          "Natural / Dry",
          "Natural / Dry",
          "Washed / Wet",
          "Washed / Wet",
          "Washed / Wet",
          "Washed / Wet",
          "Washed / Wet",
          "Washed / Wet",
          "Washed / Wet",
          "Washed / Wet",
          "Washed / Wet",
          "Natural / Dry",
          "Washed / Wet",
          "Natural / Dry",
          "Semi-washed / Semi-pulped",
          "Washed / Wet",
          "Washed / Wet",
          "Natural / Dry",
          "Washed / Wet",
          "Natural / Dry",
          "Natural / Dry",
          "Semi-washed / Semi-pulped",
          "Washed / Wet",
          "Natural / Dry",
          "Washed / Wet",
          "Natural / Dry",
          "Washed / Wet",
          "Natural / Dry",
          "Natural / Dry",
          "Washed / Wet",
          "Washed / Wet",
          "Natural / Dry",
          "Washed / Wet",
          "Natural / Dry",
          "Washed / Wet",
          "Washed / Wet",
          "Washed / Wet",
          "Natural / Dry",
          "Natural / Dry",
          "Washed / Wet",
          "Washed / Wet",
          "Washed / Wet",
          "Washed / Wet",
          "Washed / Wet",
          "Washed / Wet",
          "Natural / Dry",
          "Washed / Wet",
          "Washed / Wet",
          "Washed / Wet",
          "Washed / Wet",
          "Natural / Dry",
          "Washed / Wet",
          "Washed / Wet",
          "Washed / Wet",
          "Washed / Wet",
          "Washed / Wet",
          "Washed / Wet",
          "Other",
          "Washed / Wet",
          "Washed / Wet",
          "Natural / Dry",
          "Semi-washed / Semi-pulped",
          "Washed / Wet",
          "Washed / Wet",
          "Natural / Dry",
          "Washed / Wet",
          "Washed / Wet",
          "Washed / Wet",
          "Semi-washed / Semi-pulped",
          "Natural / Dry",
          "Washed / Wet",
          "Natural / Dry",
          "Natural / Dry",
          "Semi-washed / Semi-pulped",
          "Washed / Wet",
          "Washed / Wet",
          "Washed / Wet",
          "Washed / Wet",
          "Washed / Wet",
          "Washed / Wet",
          "Washed / Wet",
          "Washed / Wet",
          "Washed / Wet",
          "Washed / Wet",
          "Washed / Wet",
          "Natural / Dry",
          "Washed / Wet",
          "Natural / Dry",
          "Washed / Wet",
          "Washed / Wet",
          "Washed / Wet",
          "Washed / Wet",
          "Semi-washed / Semi-pulped",
          "Washed / Wet",
          "Washed / Wet",
          "Semi-washed / Semi-pulped",
          "Washed / Wet",
          "Washed / Wet",
          "Washed / Wet",
          "Washed / Wet",
          "Natural / Dry",
          "Washed / Wet",
          "Washed / Wet",
          "Washed / Wet",
          "Pulped natural / honey",
          "Washed / Wet",
          "Natural / Dry",
          "Natural / Dry",
          "Washed / Wet",
          "Washed / Wet",
          "Washed / Wet",
          "Washed / Wet",
          "Washed / Wet",
          "Washed / Wet",
          "Semi-washed / Semi-pulped",
          "Washed / Wet",
          "Natural / Dry",
          "Washed / Wet",
          "Washed / Wet",
          "Natural / Dry",
          "Washed / Wet",
          "Washed / Wet",
          "Washed / Wet",
          "Washed / Wet",
          "Washed / Wet",
          "Washed / Wet",
          "Washed / Wet",
          "Washed / Wet",
          "Washed / Wet",
          "Washed / Wet",
          "Washed / Wet",
          "Natural / Dry",
          "Natural / Dry",
          "Washed / Wet",
          "Washed / Wet",
          "Washed / Wet",
          "Washed / Wet",
          "Washed / Wet",
          "Washed / Wet",
          "Washed / Wet",
          "Washed / Wet",
          "Natural / Dry",
          "Natural / Dry",
          "Washed / Wet",
          "Semi-washed / Semi-pulped",
          "Washed / Wet",
          "Pulped natural / honey",
          "Natural / Dry",
          "Natural / Dry",
          "Washed / Wet",
          "Washed / Wet",
          "Other",
          "Washed / Wet",
          "Natural / Dry",
          "Natural / Dry",
          "Natural / Dry",
          "Washed / Wet",
          "Natural / Dry",
          "Other",
          "Washed / Wet",
          "Washed / Wet",
          "Washed / Wet",
          "Natural / Dry",
          "Washed / Wet",
          "Washed / Wet",
          "Washed / Wet",
          "Washed / Wet",
          "Washed / Wet",
          "Semi-washed / Semi-pulped",
          "Washed / Wet",
          "Natural / Dry",
          "Natural / Dry",
          "Washed / Wet",
          "Washed / Wet",
          "Semi-washed / Semi-pulped",
          "Washed / Wet",
          "Washed / Wet",
          "Washed / Wet",
          "Washed / Wet",
          "Natural / Dry",
          "Washed / Wet",
          "Natural / Dry",
          "Washed / Wet",
          "Natural / Dry",
          "Washed / Wet",
          "Washed / Wet",
          "Natural / Dry",
          "Washed / Wet",
          "Semi-washed / Semi-pulped",
          "Washed / Wet",
          "Washed / Wet",
          "Washed / Wet",
          "Natural / Dry",
          "Washed / Wet",
          "Natural / Dry",
          "Natural / Dry",
          "Washed / Wet",
          "Washed / Wet",
          "Washed / Wet",
          "Pulped natural / honey",
          "Washed / Wet",
          "Washed / Wet",
          "Other",
          "Washed / Wet",
          "Natural / Dry",
          "Washed / Wet",
          "Other",
          "Washed / Wet",
          "Natural / Dry",
          "Washed / Wet",
          "Washed / Wet",
          "Washed / Wet",
          "Washed / Wet",
          "Washed / Wet",
          "Washed / Wet",
          "Washed / Wet",
          "Washed / Wet",
          "Washed / Wet",
          "Washed / Wet",
          "Washed / Wet",
          "Other",
          "Washed / Wet",
          "Natural / Dry",
          "Washed / Wet",
          "Washed / Wet",
          "Natural / Dry",
          "Pulped natural / honey",
          "Natural / Dry",
          "Washed / Wet",
          "Washed / Wet",
          "Washed / Wet",
          "Washed / Wet",
          "Washed / Wet",
          "Washed / Wet",
          "Washed / Wet",
          "Natural / Dry",
          "Washed / Wet",
          "Washed / Wet",
          "Washed / Wet",
          "Natural / Dry",
          "Natural / Dry",
          "Washed / Wet",
          "Washed / Wet",
          "Natural / Dry",
          "Washed / Wet",
          "Washed / Wet",
          "Washed / Wet",
          "Natural / Dry",
          "Washed / Wet",
          "Washed / Wet",
          "Washed / Wet",
          "Washed / Wet",
          "Washed / Wet",
          "Washed / Wet",
          "Washed / Wet",
          "Pulped natural / honey",
          "Semi-washed / Semi-pulped",
          "Washed / Wet",
          "Washed / Wet",
          "Washed / Wet",
          "Natural / Dry",
          "Washed / Wet",
          "Washed / Wet",
          "Washed / Wet",
          "Washed / Wet",
          "Washed / Wet",
          "Washed / Wet",
          "Natural / Dry",
          "Washed / Wet",
          "Washed / Wet",
          "Washed / Wet",
          "Washed / Wet",
          "Washed / Wet",
          "Washed / Wet",
          "Washed / Wet",
          "Semi-washed / Semi-pulped",
          "Washed / Wet",
          "Washed / Wet",
          "Washed / Wet",
          "Washed / Wet",
          "Semi-washed / Semi-pulped",
          "Semi-washed / Semi-pulped",
          "Washed / Wet",
          "Washed / Wet",
          "Washed / Wet",
          "Washed / Wet",
          "Washed / Wet",
          "Washed / Wet",
          "Washed / Wet",
          "Natural / Dry",
          "Washed / Wet",
          "Washed / Wet",
          "Semi-washed / Semi-pulped",
          "Natural / Dry",
          "Washed / Wet",
          "Washed / Wet",
          "Semi-washed / Semi-pulped",
          "Washed / Wet",
          "Washed / Wet",
          "Washed / Wet",
          "Washed / Wet",
          "Washed / Wet",
          "Washed / Wet",
          "Washed / Wet",
          "Natural / Dry",
          "Washed / Wet",
          "Natural / Dry",
          "Natural / Dry",
          "Washed / Wet",
          "Washed / Wet",
          "Pulped natural / honey",
          "Natural / Dry",
          "Washed / Wet",
          "Washed / Wet",
          "Natural / Dry",
          "Washed / Wet",
          "Washed / Wet",
          "Semi-washed / Semi-pulped",
          "Washed / Wet",
          "Washed / Wet",
          "Washed / Wet",
          "Washed / Wet",
          "Natural / Dry",
          "Washed / Wet",
          "Washed / Wet",
          "Natural / Dry",
          "Washed / Wet",
          "Washed / Wet",
          "Natural / Dry",
          "Washed / Wet",
          "Washed / Wet",
          "Natural / Dry",
          "Washed / Wet",
          "Washed / Wet",
          "Washed / Wet",
          "Natural / Dry",
          "Washed / Wet",
          "Washed / Wet",
          "Washed / Wet",
          "Washed / Wet",
          "Washed / Wet",
          "Washed / Wet",
          "Washed / Wet",
          "Washed / Wet",
          "Washed / Wet",
          "Natural / Dry",
          "Washed / Wet",
          "Washed / Wet",
          "Natural / Dry",
          "Washed / Wet",
          "Washed / Wet",
          "Washed / Wet",
          "Washed / Wet",
          "Washed / Wet",
          "Other",
          "Washed / Wet",
          "Washed / Wet",
          "Washed / Wet",
          "Washed / Wet",
          "Washed / Wet",
          "Washed / Wet",
          "Natural / Dry",
          "Natural / Dry",
          "Washed / Wet",
          "Washed / Wet",
          "Washed / Wet",
          "Washed / Wet",
          "Washed / Wet",
          "Washed / Wet",
          "Washed / Wet",
          "Natural / Dry",
          "Washed / Wet",
          "Washed / Wet",
          "Natural / Dry",
          "Natural / Dry",
          "Washed / Wet",
          "Washed / Wet",
          "Washed / Wet",
          "Washed / Wet",
          "Washed / Wet",
          "Washed / Wet",
          "Washed / Wet",
          "Washed / Wet",
          "Washed / Wet",
          "Natural / Dry",
          "Washed / Wet",
          "Natural / Dry",
          "Semi-washed / Semi-pulped",
          "Semi-washed / Semi-pulped",
          "Washed / Wet",
          "Washed / Wet",
          "Washed / Wet",
          "Washed / Wet",
          "Natural / Dry",
          "Washed / Wet",
          "Washed / Wet",
          "Washed / Wet",
          "Other",
          "Washed / Wet",
          "Semi-washed / Semi-pulped",
          "Washed / Wet",
          "Washed / Wet",
          "Washed / Wet",
          "Natural / Dry",
          "Washed / Wet",
          "Pulped natural / honey",
          "Natural / Dry",
          "Other",
          "Washed / Wet",
          "Natural / Dry",
          "Natural / Dry",
          "Washed / Wet",
          "Washed / Wet",
          "Washed / Wet",
          "Washed / Wet",
          "Washed / Wet",
          "Washed / Wet",
          "Natural / Dry",
          "Natural / Dry",
          "Washed / Wet",
          "Washed / Wet",
          "Semi-washed / Semi-pulped",
          "Washed / Wet",
          "Washed / Wet",
          "Semi-washed / Semi-pulped",
          "Washed / Wet",
          "Washed / Wet",
          "Washed / Wet",
          "Washed / Wet",
          "Washed / Wet",
          "Washed / Wet",
          "Washed / Wet",
          "Washed / Wet",
          "Natural / Dry",
          "Washed / Wet",
          "Washed / Wet",
          "Washed / Wet",
          "Natural / Dry",
          "Washed / Wet",
          "Washed / Wet",
          "Washed / Wet",
          "Natural / Dry",
          "Washed / Wet",
          "Semi-washed / Semi-pulped",
          "Washed / Wet",
          "Washed / Wet",
          "Washed / Wet",
          "Washed / Wet",
          "Washed / Wet",
          "Washed / Wet",
          "Washed / Wet",
          "Semi-washed / Semi-pulped",
          "Washed / Wet",
          "Washed / Wet",
          "Washed / Wet",
          "Washed / Wet",
          "Washed / Wet",
          "Washed / Wet",
          "Semi-washed / Semi-pulped",
          "Washed / Wet",
          "Washed / Wet",
          "Washed / Wet",
          "Natural / Dry",
          "Natural / Dry",
          "Washed / Wet",
          "Other",
          "Washed / Wet",
          "Natural / Dry",
          "Washed / Wet",
          "Washed / Wet",
          "Washed / Wet",
          "Washed / Wet",
          "Washed / Wet",
          "Semi-washed / Semi-pulped",
          "Washed / Wet",
          "Other",
          "Washed / Wet",
          "Washed / Wet",
          "Washed / Wet",
          "Semi-washed / Semi-pulped",
          "Washed / Wet",
          "Natural / Dry",
          "Washed / Wet",
          "Semi-washed / Semi-pulped",
          "Washed / Wet",
          "Washed / Wet",
          "Natural / Dry",
          "Washed / Wet",
          "Washed / Wet",
          "Washed / Wet",
          "Natural / Dry",
          "Washed / Wet",
          "Washed / Wet",
          "Washed / Wet",
          "Washed / Wet",
          "Washed / Wet",
          "Natural / Dry",
          "Washed / Wet",
          "Natural / Dry",
          "Washed / Wet",
          "Other",
          "Washed / Wet",
          "Washed / Wet",
          "Washed / Wet",
          "Washed / Wet",
          "Washed / Wet",
          "Natural / Dry",
          "Natural / Dry",
          "Natural / Dry",
          "Washed / Wet",
          "Washed / Wet",
          "Washed / Wet",
          "Washed / Wet",
          "Semi-washed / Semi-pulped",
          "Washed / Wet",
          "Washed / Wet",
          "Washed / Wet",
          "Washed / Wet",
          "Washed / Wet",
          "Washed / Wet",
          "Natural / Dry",
          "Washed / Wet",
          "Natural / Dry",
          "Washed / Wet",
          "Washed / Wet",
          "Washed / Wet",
          "Natural / Dry",
          "Washed / Wet",
          "Natural / Dry",
          "Natural / Dry",
          "Washed / Wet",
          "Natural / Dry",
          "Washed / Wet",
          "Washed / Wet",
          "Washed / Wet",
          "Washed / Wet",
          "Washed / Wet",
          "Washed / Wet",
          "Washed / Wet",
          "Washed / Wet",
          "Washed / Wet",
          "Washed / Wet",
          "Washed / Wet",
          "Natural / Dry",
          "Washed / Wet",
          "Natural / Dry",
          "Semi-washed / Semi-pulped",
          "Washed / Wet",
          "Washed / Wet",
          "Washed / Wet",
          "Washed / Wet",
          "Washed / Wet",
          "Washed / Wet",
          "Washed / Wet",
          "Other",
          "Washed / Wet",
          "Natural / Dry",
          "Washed / Wet",
          "Natural / Dry",
          "Washed / Wet",
          "Washed / Wet",
          "Other",
          "Washed / Wet",
          "Washed / Wet",
          "Washed / Wet",
          "Washed / Wet",
          "Semi-washed / Semi-pulped",
          "Washed / Wet",
          "Washed / Wet",
          "Washed / Wet",
          "Washed / Wet",
          "Washed / Wet",
          "Natural / Dry",
          "Other",
          "Washed / Wet",
          "Natural / Dry",
          "Washed / Wet",
          "Washed / Wet",
          "Washed / Wet",
          "Semi-washed / Semi-pulped",
          "Washed / Wet",
          "Washed / Wet",
          "Washed / Wet",
          "Washed / Wet",
          "Washed / Wet",
          "Washed / Wet",
          "Semi-washed / Semi-pulped",
          "Washed / Wet",
          "Natural / Dry",
          "Natural / Dry",
          "Washed / Wet",
          "Washed / Wet",
          "Semi-washed / Semi-pulped",
          "Washed / Wet",
          "Washed / Wet",
          "Semi-washed / Semi-pulped",
          "Washed / Wet",
          "Washed / Wet",
          "Washed / Wet",
          "Washed / Wet",
          "Washed / Wet",
          "Washed / Wet",
          "Washed / Wet",
          "Washed / Wet",
          "Washed / Wet",
          "Other",
          "Washed / Wet",
          "Semi-washed / Semi-pulped",
          "Natural / Dry",
          "Natural / Dry",
          "Washed / Wet",
          "Natural / Dry",
          "Natural / Dry",
          "Washed / Wet",
          "Semi-washed / Semi-pulped",
          "Washed / Wet",
          "Washed / Wet",
          "Other",
          "Washed / Wet",
          "Washed / Wet",
          "Washed / Wet",
          "Washed / Wet",
          "Washed / Wet",
          "Washed / Wet",
          "Washed / Wet",
          "Washed / Wet",
          "Other",
          "Washed / Wet",
          "Semi-washed / Semi-pulped",
          "Washed / Wet",
          "Washed / Wet",
          "Washed / Wet",
          "Washed / Wet",
          "Washed / Wet",
          "Washed / Wet",
          "Washed / Wet",
          "Washed / Wet",
          "Washed / Wet",
          "Washed / Wet",
          "Washed / Wet",
          "Washed / Wet",
          "Washed / Wet",
          "Natural / Dry",
          "Washed / Wet",
          "Washed / Wet",
          "Washed / Wet",
          "Washed / Wet",
          "Washed / Wet",
          "Washed / Wet",
          "Natural / Dry",
          "Washed / Wet",
          "Washed / Wet",
          "Washed / Wet",
          "Washed / Wet",
          "Washed / Wet",
          "Washed / Wet",
          "Washed / Wet",
          "Washed / Wet",
          "Washed / Wet",
          "Washed / Wet",
          "Washed / Wet",
          "Washed / Wet",
          "Washed / Wet",
          "Washed / Wet",
          "Washed / Wet",
          "Washed / Wet",
          "Washed / Wet",
          "Washed / Wet",
          "Natural / Dry",
          "Natural / Dry",
          "Washed / Wet",
          "Washed / Wet",
          "Washed / Wet",
          "Washed / Wet",
          "Washed / Wet",
          "Washed / Wet",
          "Washed / Wet",
          "Washed / Wet",
          "Washed / Wet",
          "Washed / Wet",
          "Washed / Wet",
          "Washed / Wet",
          "Washed / Wet",
          "Washed / Wet",
          "Washed / Wet",
          "Washed / Wet",
          "Washed / Wet",
          "Washed / Wet",
          "Washed / Wet",
          "Washed / Wet",
          "Washed / Wet",
          "Washed / Wet",
          "Washed / Wet",
          "Washed / Wet",
          "Washed / Wet",
          "Natural / Dry",
          "Semi-washed / Semi-pulped",
          "Washed / Wet",
          "Washed / Wet",
          "Washed / Wet",
          "Other",
          "Washed / Wet",
          "Washed / Wet",
          "Semi-washed / Semi-pulped",
          "Washed / Wet",
          "Washed / Wet",
          "Washed / Wet",
          "Washed / Wet",
          "Washed / Wet",
          "Washed / Wet",
          "Washed / Wet",
          "Washed / Wet",
          "Washed / Wet",
          "Washed / Wet",
          "Washed / Wet",
          "Washed / Wet",
          "Washed / Wet",
          "Natural / Dry",
          "Washed / Wet",
          "Washed / Wet",
          "Washed / Wet",
          "Natural / Dry",
          "Washed / Wet",
          "Washed / Wet",
          "Washed / Wet",
          "Washed / Wet",
          "Washed / Wet",
          "Washed / Wet",
          "Washed / Wet",
          "Washed / Wet",
          "Washed / Wet",
          "Washed / Wet",
          "Natural / Dry",
          "Washed / Wet",
          "Washed / Wet",
          "Washed / Wet",
          "Washed / Wet",
          "Washed / Wet",
          "Washed / Wet",
          "Washed / Wet",
          "Washed / Wet",
          "Natural / Dry",
          "Washed / Wet",
          "Natural / Dry",
          "Washed / Wet",
          "Washed / Wet",
          "Washed / Wet",
          "Washed / Wet",
          "Washed / Wet",
          "Washed / Wet",
          "Washed / Wet",
          "Washed / Wet",
          "Washed / Wet",
          "Washed / Wet",
          "Washed / Wet",
          "Washed / Wet",
          "Washed / Wet",
          "Washed / Wet",
          "Washed / Wet",
          "Washed / Wet",
          "Washed / Wet",
          "Washed / Wet",
          "Washed / Wet",
          "Washed / Wet",
          "Washed / Wet",
          "Washed / Wet",
          "Washed / Wet",
          "Washed / Wet",
          "Natural / Dry",
          "Other",
          "Washed / Wet"
         ],
         "xaxis": "x",
         "yaxis": "y"
        }
       ],
       "layout": {
        "barmode": "relative",
        "legend": {
         "tracegroupgap": 0
        },
        "template": {
         "data": {
          "bar": [
           {
            "error_x": {
             "color": "#2a3f5f"
            },
            "error_y": {
             "color": "#2a3f5f"
            },
            "marker": {
             "line": {
              "color": "#E5ECF6",
              "width": 0.5
             },
             "pattern": {
              "fillmode": "overlay",
              "size": 10,
              "solidity": 0.2
             }
            },
            "type": "bar"
           }
          ],
          "barpolar": [
           {
            "marker": {
             "line": {
              "color": "#E5ECF6",
              "width": 0.5
             },
             "pattern": {
              "fillmode": "overlay",
              "size": 10,
              "solidity": 0.2
             }
            },
            "type": "barpolar"
           }
          ],
          "carpet": [
           {
            "aaxis": {
             "endlinecolor": "#2a3f5f",
             "gridcolor": "white",
             "linecolor": "white",
             "minorgridcolor": "white",
             "startlinecolor": "#2a3f5f"
            },
            "baxis": {
             "endlinecolor": "#2a3f5f",
             "gridcolor": "white",
             "linecolor": "white",
             "minorgridcolor": "white",
             "startlinecolor": "#2a3f5f"
            },
            "type": "carpet"
           }
          ],
          "choropleth": [
           {
            "colorbar": {
             "outlinewidth": 0,
             "ticks": ""
            },
            "type": "choropleth"
           }
          ],
          "contour": [
           {
            "colorbar": {
             "outlinewidth": 0,
             "ticks": ""
            },
            "colorscale": [
             [
              0,
              "#0d0887"
             ],
             [
              0.1111111111111111,
              "#46039f"
             ],
             [
              0.2222222222222222,
              "#7201a8"
             ],
             [
              0.3333333333333333,
              "#9c179e"
             ],
             [
              0.4444444444444444,
              "#bd3786"
             ],
             [
              0.5555555555555556,
              "#d8576b"
             ],
             [
              0.6666666666666666,
              "#ed7953"
             ],
             [
              0.7777777777777778,
              "#fb9f3a"
             ],
             [
              0.8888888888888888,
              "#fdca26"
             ],
             [
              1,
              "#f0f921"
             ]
            ],
            "type": "contour"
           }
          ],
          "contourcarpet": [
           {
            "colorbar": {
             "outlinewidth": 0,
             "ticks": ""
            },
            "type": "contourcarpet"
           }
          ],
          "heatmap": [
           {
            "colorbar": {
             "outlinewidth": 0,
             "ticks": ""
            },
            "colorscale": [
             [
              0,
              "#0d0887"
             ],
             [
              0.1111111111111111,
              "#46039f"
             ],
             [
              0.2222222222222222,
              "#7201a8"
             ],
             [
              0.3333333333333333,
              "#9c179e"
             ],
             [
              0.4444444444444444,
              "#bd3786"
             ],
             [
              0.5555555555555556,
              "#d8576b"
             ],
             [
              0.6666666666666666,
              "#ed7953"
             ],
             [
              0.7777777777777778,
              "#fb9f3a"
             ],
             [
              0.8888888888888888,
              "#fdca26"
             ],
             [
              1,
              "#f0f921"
             ]
            ],
            "type": "heatmap"
           }
          ],
          "heatmapgl": [
           {
            "colorbar": {
             "outlinewidth": 0,
             "ticks": ""
            },
            "colorscale": [
             [
              0,
              "#0d0887"
             ],
             [
              0.1111111111111111,
              "#46039f"
             ],
             [
              0.2222222222222222,
              "#7201a8"
             ],
             [
              0.3333333333333333,
              "#9c179e"
             ],
             [
              0.4444444444444444,
              "#bd3786"
             ],
             [
              0.5555555555555556,
              "#d8576b"
             ],
             [
              0.6666666666666666,
              "#ed7953"
             ],
             [
              0.7777777777777778,
              "#fb9f3a"
             ],
             [
              0.8888888888888888,
              "#fdca26"
             ],
             [
              1,
              "#f0f921"
             ]
            ],
            "type": "heatmapgl"
           }
          ],
          "histogram": [
           {
            "marker": {
             "pattern": {
              "fillmode": "overlay",
              "size": 10,
              "solidity": 0.2
             }
            },
            "type": "histogram"
           }
          ],
          "histogram2d": [
           {
            "colorbar": {
             "outlinewidth": 0,
             "ticks": ""
            },
            "colorscale": [
             [
              0,
              "#0d0887"
             ],
             [
              0.1111111111111111,
              "#46039f"
             ],
             [
              0.2222222222222222,
              "#7201a8"
             ],
             [
              0.3333333333333333,
              "#9c179e"
             ],
             [
              0.4444444444444444,
              "#bd3786"
             ],
             [
              0.5555555555555556,
              "#d8576b"
             ],
             [
              0.6666666666666666,
              "#ed7953"
             ],
             [
              0.7777777777777778,
              "#fb9f3a"
             ],
             [
              0.8888888888888888,
              "#fdca26"
             ],
             [
              1,
              "#f0f921"
             ]
            ],
            "type": "histogram2d"
           }
          ],
          "histogram2dcontour": [
           {
            "colorbar": {
             "outlinewidth": 0,
             "ticks": ""
            },
            "colorscale": [
             [
              0,
              "#0d0887"
             ],
             [
              0.1111111111111111,
              "#46039f"
             ],
             [
              0.2222222222222222,
              "#7201a8"
             ],
             [
              0.3333333333333333,
              "#9c179e"
             ],
             [
              0.4444444444444444,
              "#bd3786"
             ],
             [
              0.5555555555555556,
              "#d8576b"
             ],
             [
              0.6666666666666666,
              "#ed7953"
             ],
             [
              0.7777777777777778,
              "#fb9f3a"
             ],
             [
              0.8888888888888888,
              "#fdca26"
             ],
             [
              1,
              "#f0f921"
             ]
            ],
            "type": "histogram2dcontour"
           }
          ],
          "mesh3d": [
           {
            "colorbar": {
             "outlinewidth": 0,
             "ticks": ""
            },
            "type": "mesh3d"
           }
          ],
          "parcoords": [
           {
            "line": {
             "colorbar": {
              "outlinewidth": 0,
              "ticks": ""
             }
            },
            "type": "parcoords"
           }
          ],
          "pie": [
           {
            "automargin": true,
            "type": "pie"
           }
          ],
          "scatter": [
           {
            "marker": {
             "colorbar": {
              "outlinewidth": 0,
              "ticks": ""
             }
            },
            "type": "scatter"
           }
          ],
          "scatter3d": [
           {
            "line": {
             "colorbar": {
              "outlinewidth": 0,
              "ticks": ""
             }
            },
            "marker": {
             "colorbar": {
              "outlinewidth": 0,
              "ticks": ""
             }
            },
            "type": "scatter3d"
           }
          ],
          "scattercarpet": [
           {
            "marker": {
             "colorbar": {
              "outlinewidth": 0,
              "ticks": ""
             }
            },
            "type": "scattercarpet"
           }
          ],
          "scattergeo": [
           {
            "marker": {
             "colorbar": {
              "outlinewidth": 0,
              "ticks": ""
             }
            },
            "type": "scattergeo"
           }
          ],
          "scattergl": [
           {
            "marker": {
             "colorbar": {
              "outlinewidth": 0,
              "ticks": ""
             }
            },
            "type": "scattergl"
           }
          ],
          "scattermapbox": [
           {
            "marker": {
             "colorbar": {
              "outlinewidth": 0,
              "ticks": ""
             }
            },
            "type": "scattermapbox"
           }
          ],
          "scatterpolar": [
           {
            "marker": {
             "colorbar": {
              "outlinewidth": 0,
              "ticks": ""
             }
            },
            "type": "scatterpolar"
           }
          ],
          "scatterpolargl": [
           {
            "marker": {
             "colorbar": {
              "outlinewidth": 0,
              "ticks": ""
             }
            },
            "type": "scatterpolargl"
           }
          ],
          "scatterternary": [
           {
            "marker": {
             "colorbar": {
              "outlinewidth": 0,
              "ticks": ""
             }
            },
            "type": "scatterternary"
           }
          ],
          "surface": [
           {
            "colorbar": {
             "outlinewidth": 0,
             "ticks": ""
            },
            "colorscale": [
             [
              0,
              "#0d0887"
             ],
             [
              0.1111111111111111,
              "#46039f"
             ],
             [
              0.2222222222222222,
              "#7201a8"
             ],
             [
              0.3333333333333333,
              "#9c179e"
             ],
             [
              0.4444444444444444,
              "#bd3786"
             ],
             [
              0.5555555555555556,
              "#d8576b"
             ],
             [
              0.6666666666666666,
              "#ed7953"
             ],
             [
              0.7777777777777778,
              "#fb9f3a"
             ],
             [
              0.8888888888888888,
              "#fdca26"
             ],
             [
              1,
              "#f0f921"
             ]
            ],
            "type": "surface"
           }
          ],
          "table": [
           {
            "cells": {
             "fill": {
              "color": "#EBF0F8"
             },
             "line": {
              "color": "white"
             }
            },
            "header": {
             "fill": {
              "color": "#C8D4E3"
             },
             "line": {
              "color": "white"
             }
            },
            "type": "table"
           }
          ]
         },
         "layout": {
          "annotationdefaults": {
           "arrowcolor": "#2a3f5f",
           "arrowhead": 0,
           "arrowwidth": 1
          },
          "autotypenumbers": "strict",
          "coloraxis": {
           "colorbar": {
            "outlinewidth": 0,
            "ticks": ""
           }
          },
          "colorscale": {
           "diverging": [
            [
             0,
             "#8e0152"
            ],
            [
             0.1,
             "#c51b7d"
            ],
            [
             0.2,
             "#de77ae"
            ],
            [
             0.3,
             "#f1b6da"
            ],
            [
             0.4,
             "#fde0ef"
            ],
            [
             0.5,
             "#f7f7f7"
            ],
            [
             0.6,
             "#e6f5d0"
            ],
            [
             0.7,
             "#b8e186"
            ],
            [
             0.8,
             "#7fbc41"
            ],
            [
             0.9,
             "#4d9221"
            ],
            [
             1,
             "#276419"
            ]
           ],
           "sequential": [
            [
             0,
             "#0d0887"
            ],
            [
             0.1111111111111111,
             "#46039f"
            ],
            [
             0.2222222222222222,
             "#7201a8"
            ],
            [
             0.3333333333333333,
             "#9c179e"
            ],
            [
             0.4444444444444444,
             "#bd3786"
            ],
            [
             0.5555555555555556,
             "#d8576b"
            ],
            [
             0.6666666666666666,
             "#ed7953"
            ],
            [
             0.7777777777777778,
             "#fb9f3a"
            ],
            [
             0.8888888888888888,
             "#fdca26"
            ],
            [
             1,
             "#f0f921"
            ]
           ],
           "sequentialminus": [
            [
             0,
             "#0d0887"
            ],
            [
             0.1111111111111111,
             "#46039f"
            ],
            [
             0.2222222222222222,
             "#7201a8"
            ],
            [
             0.3333333333333333,
             "#9c179e"
            ],
            [
             0.4444444444444444,
             "#bd3786"
            ],
            [
             0.5555555555555556,
             "#d8576b"
            ],
            [
             0.6666666666666666,
             "#ed7953"
            ],
            [
             0.7777777777777778,
             "#fb9f3a"
            ],
            [
             0.8888888888888888,
             "#fdca26"
            ],
            [
             1,
             "#f0f921"
            ]
           ]
          },
          "colorway": [
           "#636efa",
           "#EF553B",
           "#00cc96",
           "#ab63fa",
           "#FFA15A",
           "#19d3f3",
           "#FF6692",
           "#B6E880",
           "#FF97FF",
           "#FECB52"
          ],
          "font": {
           "color": "#2a3f5f"
          },
          "geo": {
           "bgcolor": "white",
           "lakecolor": "white",
           "landcolor": "#E5ECF6",
           "showlakes": true,
           "showland": true,
           "subunitcolor": "white"
          },
          "hoverlabel": {
           "align": "left"
          },
          "hovermode": "closest",
          "mapbox": {
           "style": "light"
          },
          "paper_bgcolor": "white",
          "plot_bgcolor": "#E5ECF6",
          "polar": {
           "angularaxis": {
            "gridcolor": "white",
            "linecolor": "white",
            "ticks": ""
           },
           "bgcolor": "#E5ECF6",
           "radialaxis": {
            "gridcolor": "white",
            "linecolor": "white",
            "ticks": ""
           }
          },
          "scene": {
           "xaxis": {
            "backgroundcolor": "#E5ECF6",
            "gridcolor": "white",
            "gridwidth": 2,
            "linecolor": "white",
            "showbackground": true,
            "ticks": "",
            "zerolinecolor": "white"
           },
           "yaxis": {
            "backgroundcolor": "#E5ECF6",
            "gridcolor": "white",
            "gridwidth": 2,
            "linecolor": "white",
            "showbackground": true,
            "ticks": "",
            "zerolinecolor": "white"
           },
           "zaxis": {
            "backgroundcolor": "#E5ECF6",
            "gridcolor": "white",
            "gridwidth": 2,
            "linecolor": "white",
            "showbackground": true,
            "ticks": "",
            "zerolinecolor": "white"
           }
          },
          "shapedefaults": {
           "line": {
            "color": "#2a3f5f"
           }
          },
          "ternary": {
           "aaxis": {
            "gridcolor": "white",
            "linecolor": "white",
            "ticks": ""
           },
           "baxis": {
            "gridcolor": "white",
            "linecolor": "white",
            "ticks": ""
           },
           "bgcolor": "#E5ECF6",
           "caxis": {
            "gridcolor": "white",
            "linecolor": "white",
            "ticks": ""
           }
          },
          "title": {
           "x": 0.05
          },
          "xaxis": {
           "automargin": true,
           "gridcolor": "white",
           "linecolor": "white",
           "ticks": "",
           "title": {
            "standoff": 15
           },
           "zerolinecolor": "white",
           "zerolinewidth": 2
          },
          "yaxis": {
           "automargin": true,
           "gridcolor": "white",
           "linecolor": "white",
           "ticks": "",
           "title": {
            "standoff": 15
           },
           "zerolinecolor": "white",
           "zerolinewidth": 2
          }
         }
        },
        "title": {
         "text": "Coffee: Processing Method"
        },
        "xaxis": {
         "anchor": "y",
         "domain": [
          0,
          1
         ],
         "title": {
          "text": "Processing Method"
         }
        },
        "yaxis": {
         "anchor": "x",
         "domain": [
          0,
          1
         ],
         "title": {
          "text": "count"
         }
        }
       }
      }
     },
     "metadata": {},
     "output_type": "display_data"
    },
    {
     "data": {
      "application/vnd.plotly.v1+json": {
       "config": {
        "plotlyServerURL": "https://plot.ly"
       },
       "data": [
        {
         "alignmentgroup": "True",
         "bingroup": "x",
         "hovertemplate": "Number of Bags=%{x}<br>count=%{y}<extra></extra>",
         "legendgroup": "",
         "marker": {
          "color": "#636efa",
          "pattern": {
           "shape": ""
          }
         },
         "name": "",
         "offsetgroup": "",
         "orientation": "v",
         "showlegend": false,
         "type": "histogram",
         "x": [
          300,
          300,
          320,
          300,
          50,
          300,
          10,
          10,
          10,
          3,
          250,
          10,
          250,
          14,
          10,
          3,
          100,
          20,
          29,
          250,
          320,
          320,
          10,
          53,
          10,
          12,
          7,
          1,
          1,
          37,
          320,
          150,
          275,
          7,
          275,
          19,
          100,
          320,
          320,
          250,
          320,
          150,
          5,
          3,
          36,
          250,
          250,
          20,
          300,
          275,
          250,
          250,
          100,
          250,
          200,
          36,
          1,
          31,
          252,
          20,
          134,
          50,
          25,
          4,
          10,
          10,
          1,
          150,
          275,
          150,
          2,
          20,
          15,
          120,
          50,
          250,
          20,
          275,
          10,
          235,
          250,
          125,
          80,
          66,
          100,
          250,
          250,
          75,
          250,
          37,
          35,
          275,
          200,
          3,
          250,
          1,
          250,
          56,
          250,
          275,
          200,
          275,
          2,
          69,
          150,
          275,
          250,
          100,
          10,
          20,
          275,
          230,
          275,
          3,
          275,
          248,
          250,
          10,
          65,
          250,
          10,
          20,
          250,
          50,
          150,
          275,
          377,
          130,
          275,
          275,
          305,
          320,
          320,
          10,
          1,
          250,
          275,
          275,
          10,
          200,
          1,
          300,
          320,
          275,
          275,
          250,
          250,
          138,
          320,
          300,
          150,
          320,
          200,
          45,
          320,
          20,
          275,
          10,
          48,
          250,
          20,
          275,
          275,
          100,
          320,
          8,
          320,
          300,
          250,
          250,
          320,
          250,
          20,
          250,
          300,
          200,
          320,
          275,
          10,
          3,
          250,
          320,
          18,
          100,
          10,
          250,
          320,
          200,
          285,
          275,
          320,
          20,
          1,
          100,
          275,
          250,
          250,
          250,
          250,
          250,
          48,
          10,
          250,
          320,
          275,
          3,
          275,
          275,
          250,
          100,
          10,
          275,
          250,
          250,
          33,
          50,
          245,
          250,
          250,
          180,
          5,
          200,
          320,
          250,
          275,
          10,
          10,
          15,
          275,
          175,
          250,
          300,
          50,
          600,
          275,
          20,
          500,
          275,
          275,
          39,
          250,
          250,
          250,
          250,
          275,
          10,
          275,
          275,
          10,
          200,
          250,
          250,
          2,
          250,
          250,
          250,
          50,
          29,
          275,
          304,
          11,
          10,
          10,
          26,
          200,
          54,
          250,
          30,
          175,
          320,
          275,
          320,
          1,
          250,
          275,
          3,
          3,
          275,
          150,
          100,
          1,
          180,
          232,
          84,
          275,
          275,
          200,
          250,
          45,
          10,
          10,
          275,
          15,
          250,
          50,
          100,
          250,
          25,
          275,
          320,
          320,
          20,
          300,
          250,
          50,
          10,
          320,
          320,
          320,
          310,
          325,
          2,
          275,
          200,
          250,
          305,
          10,
          300,
          17,
          26,
          250,
          250,
          120,
          250,
          250,
          275,
          15,
          20,
          250,
          250,
          275,
          121,
          320,
          100,
          10,
          250,
          11,
          250,
          4,
          11,
          275,
          300,
          1,
          1,
          250,
          26,
          250,
          15,
          1,
          100,
          27,
          50,
          320,
          275,
          150,
          3,
          80,
          300,
          100,
          300,
          250,
          40,
          125,
          300,
          250,
          250,
          250,
          250,
          275,
          275,
          50,
          50,
          25,
          2,
          25,
          8,
          275,
          250,
          275,
          320,
          3,
          3,
          250,
          29,
          250,
          250,
          32,
          250,
          21,
          250,
          100,
          300,
          320,
          320,
          60,
          275,
          320,
          93,
          77,
          10,
          11,
          1,
          10,
          300,
          275,
          36,
          23,
          25,
          6,
          150,
          1,
          50,
          10,
          1,
          250,
          250,
          250,
          50,
          70,
          275,
          320,
          2,
          275,
          50,
          1,
          50,
          37,
          2,
          69,
          250,
          250,
          10,
          10,
          28,
          300,
          275,
          1,
          50,
          50,
          20,
          3,
          10,
          320,
          250,
          10,
          39,
          220,
          10,
          49,
          20,
          35,
          10,
          74,
          26,
          10,
          1,
          10,
          250,
          275,
          320,
          320,
          100,
          130,
          3,
          12,
          275,
          10,
          10,
          250,
          250,
          10,
          10,
          250,
          250,
          275,
          10,
          10,
          250,
          16,
          10,
          44,
          250,
          1062,
          275,
          180,
          275,
          275,
          10,
          320,
          35,
          150,
          10,
          275,
          10,
          40,
          250,
          250,
          100,
          320,
          200,
          30,
          320,
          1,
          275,
          10,
          200,
          2,
          60,
          80,
          10,
          250,
          200,
          60,
          2,
          320,
          320,
          275,
          300,
          1,
          150,
          35,
          250,
          15,
          1,
          250,
          275,
          275,
          230,
          2,
          1,
          1,
          16,
          50,
          1,
          250,
          275,
          30,
          1,
          15,
          50,
          75,
          53,
          250,
          25,
          50,
          274,
          305,
          275,
          275,
          114,
          35,
          450,
          10,
          10,
          30,
          62,
          8,
          25,
          15,
          200,
          166,
          130,
          320,
          300,
          1,
          250,
          275,
          275,
          8,
          24,
          320,
          275,
          280,
          50,
          300,
          250,
          302,
          15,
          50,
          1,
          1,
          10,
          100,
          42,
          250,
          28,
          320,
          50,
          80,
          275,
          320,
          20,
          10,
          300,
          275,
          275,
          10,
          10,
          310,
          275,
          100,
          15,
          275,
          250,
          12,
          275,
          25,
          20,
          250,
          100,
          10,
          50,
          300,
          250,
          310,
          28,
          28,
          50,
          550,
          275,
          123,
          1,
          250,
          15,
          250,
          50,
          300,
          300,
          5,
          250,
          250,
          30,
          20,
          50,
          15,
          10,
          300,
          200,
          450,
          300,
          275,
          10,
          12,
          320,
          250,
          280,
          250,
          10,
          20,
          250,
          275,
          300,
          275,
          300,
          2,
          31,
          275,
          250,
          70,
          42,
          20,
          320,
          275,
          275,
          36,
          100,
          10,
          250,
          250,
          275,
          100,
          275,
          275,
          275,
          20,
          2,
          320,
          300,
          250,
          250,
          250,
          17,
          500,
          275,
          1,
          54,
          250,
          18,
          100,
          30,
          40,
          15,
          100,
          120,
          250,
          10,
          275,
          1,
          320,
          10,
          2,
          10,
          200,
          150,
          25,
          150,
          240,
          2,
          250,
          300,
          10,
          320,
          250,
          35,
          5,
          10,
          60,
          20,
          250,
          15,
          30,
          100,
          1,
          275,
          275,
          275,
          100,
          275,
          275,
          250,
          30,
          1,
          200,
          150,
          240,
          100,
          20,
          250,
          10,
          300,
          275,
          275,
          20,
          275,
          15,
          300,
          1,
          275,
          300,
          250,
          18,
          10,
          2,
          1,
          10,
          250,
          250,
          10,
          10,
          250,
          10,
          440,
          275,
          60,
          2,
          1,
          275,
          5,
          250,
          10,
          1,
          275,
          275,
          250,
          20,
          15,
          15,
          250,
          10,
          10,
          10,
          10,
          13,
          10,
          275,
          1,
          280,
          10,
          2,
          20,
          256,
          400,
          10,
          82,
          250,
          100,
          209,
          200,
          50,
          75,
          250,
          25,
          28,
          50,
          1,
          275,
          310,
          275,
          380,
          12,
          250,
          36,
          25,
          275,
          1,
          250,
          310,
          10,
          253,
          50,
          250,
          275,
          10,
          250,
          127,
          250,
          275,
          10,
          2,
          250,
          30,
          50,
          50,
          12,
          50,
          15,
          250,
          275,
          10,
          53,
          50,
          18,
          13,
          10,
          10,
          250,
          275,
          280,
          14,
          16,
          120,
          250,
          14,
          1,
          250,
          20,
          35,
          10,
          1,
          20,
          250,
          50,
          250,
          50,
          280,
          10,
          20,
          10,
          275,
          250,
          100,
          2,
          320,
          8,
          275,
          275,
          16,
          250,
          10,
          250,
          50,
          250,
          100,
          23,
          250,
          320,
          275,
          10,
          1,
          10,
          275,
          10,
          250,
          11,
          15,
          20,
          275,
          1,
          250,
          10,
          100,
          36,
          18,
          43,
          14,
          20,
          275,
          250,
          20,
          100,
          20,
          275,
          280,
          250,
          10,
          25,
          280,
          275,
          275,
          275,
          12,
          1,
          550,
          275
         ],
         "xaxis": "x",
         "yaxis": "y"
        }
       ],
       "layout": {
        "barmode": "relative",
        "legend": {
         "tracegroupgap": 0
        },
        "template": {
         "data": {
          "bar": [
           {
            "error_x": {
             "color": "#2a3f5f"
            },
            "error_y": {
             "color": "#2a3f5f"
            },
            "marker": {
             "line": {
              "color": "#E5ECF6",
              "width": 0.5
             },
             "pattern": {
              "fillmode": "overlay",
              "size": 10,
              "solidity": 0.2
             }
            },
            "type": "bar"
           }
          ],
          "barpolar": [
           {
            "marker": {
             "line": {
              "color": "#E5ECF6",
              "width": 0.5
             },
             "pattern": {
              "fillmode": "overlay",
              "size": 10,
              "solidity": 0.2
             }
            },
            "type": "barpolar"
           }
          ],
          "carpet": [
           {
            "aaxis": {
             "endlinecolor": "#2a3f5f",
             "gridcolor": "white",
             "linecolor": "white",
             "minorgridcolor": "white",
             "startlinecolor": "#2a3f5f"
            },
            "baxis": {
             "endlinecolor": "#2a3f5f",
             "gridcolor": "white",
             "linecolor": "white",
             "minorgridcolor": "white",
             "startlinecolor": "#2a3f5f"
            },
            "type": "carpet"
           }
          ],
          "choropleth": [
           {
            "colorbar": {
             "outlinewidth": 0,
             "ticks": ""
            },
            "type": "choropleth"
           }
          ],
          "contour": [
           {
            "colorbar": {
             "outlinewidth": 0,
             "ticks": ""
            },
            "colorscale": [
             [
              0,
              "#0d0887"
             ],
             [
              0.1111111111111111,
              "#46039f"
             ],
             [
              0.2222222222222222,
              "#7201a8"
             ],
             [
              0.3333333333333333,
              "#9c179e"
             ],
             [
              0.4444444444444444,
              "#bd3786"
             ],
             [
              0.5555555555555556,
              "#d8576b"
             ],
             [
              0.6666666666666666,
              "#ed7953"
             ],
             [
              0.7777777777777778,
              "#fb9f3a"
             ],
             [
              0.8888888888888888,
              "#fdca26"
             ],
             [
              1,
              "#f0f921"
             ]
            ],
            "type": "contour"
           }
          ],
          "contourcarpet": [
           {
            "colorbar": {
             "outlinewidth": 0,
             "ticks": ""
            },
            "type": "contourcarpet"
           }
          ],
          "heatmap": [
           {
            "colorbar": {
             "outlinewidth": 0,
             "ticks": ""
            },
            "colorscale": [
             [
              0,
              "#0d0887"
             ],
             [
              0.1111111111111111,
              "#46039f"
             ],
             [
              0.2222222222222222,
              "#7201a8"
             ],
             [
              0.3333333333333333,
              "#9c179e"
             ],
             [
              0.4444444444444444,
              "#bd3786"
             ],
             [
              0.5555555555555556,
              "#d8576b"
             ],
             [
              0.6666666666666666,
              "#ed7953"
             ],
             [
              0.7777777777777778,
              "#fb9f3a"
             ],
             [
              0.8888888888888888,
              "#fdca26"
             ],
             [
              1,
              "#f0f921"
             ]
            ],
            "type": "heatmap"
           }
          ],
          "heatmapgl": [
           {
            "colorbar": {
             "outlinewidth": 0,
             "ticks": ""
            },
            "colorscale": [
             [
              0,
              "#0d0887"
             ],
             [
              0.1111111111111111,
              "#46039f"
             ],
             [
              0.2222222222222222,
              "#7201a8"
             ],
             [
              0.3333333333333333,
              "#9c179e"
             ],
             [
              0.4444444444444444,
              "#bd3786"
             ],
             [
              0.5555555555555556,
              "#d8576b"
             ],
             [
              0.6666666666666666,
              "#ed7953"
             ],
             [
              0.7777777777777778,
              "#fb9f3a"
             ],
             [
              0.8888888888888888,
              "#fdca26"
             ],
             [
              1,
              "#f0f921"
             ]
            ],
            "type": "heatmapgl"
           }
          ],
          "histogram": [
           {
            "marker": {
             "pattern": {
              "fillmode": "overlay",
              "size": 10,
              "solidity": 0.2
             }
            },
            "type": "histogram"
           }
          ],
          "histogram2d": [
           {
            "colorbar": {
             "outlinewidth": 0,
             "ticks": ""
            },
            "colorscale": [
             [
              0,
              "#0d0887"
             ],
             [
              0.1111111111111111,
              "#46039f"
             ],
             [
              0.2222222222222222,
              "#7201a8"
             ],
             [
              0.3333333333333333,
              "#9c179e"
             ],
             [
              0.4444444444444444,
              "#bd3786"
             ],
             [
              0.5555555555555556,
              "#d8576b"
             ],
             [
              0.6666666666666666,
              "#ed7953"
             ],
             [
              0.7777777777777778,
              "#fb9f3a"
             ],
             [
              0.8888888888888888,
              "#fdca26"
             ],
             [
              1,
              "#f0f921"
             ]
            ],
            "type": "histogram2d"
           }
          ],
          "histogram2dcontour": [
           {
            "colorbar": {
             "outlinewidth": 0,
             "ticks": ""
            },
            "colorscale": [
             [
              0,
              "#0d0887"
             ],
             [
              0.1111111111111111,
              "#46039f"
             ],
             [
              0.2222222222222222,
              "#7201a8"
             ],
             [
              0.3333333333333333,
              "#9c179e"
             ],
             [
              0.4444444444444444,
              "#bd3786"
             ],
             [
              0.5555555555555556,
              "#d8576b"
             ],
             [
              0.6666666666666666,
              "#ed7953"
             ],
             [
              0.7777777777777778,
              "#fb9f3a"
             ],
             [
              0.8888888888888888,
              "#fdca26"
             ],
             [
              1,
              "#f0f921"
             ]
            ],
            "type": "histogram2dcontour"
           }
          ],
          "mesh3d": [
           {
            "colorbar": {
             "outlinewidth": 0,
             "ticks": ""
            },
            "type": "mesh3d"
           }
          ],
          "parcoords": [
           {
            "line": {
             "colorbar": {
              "outlinewidth": 0,
              "ticks": ""
             }
            },
            "type": "parcoords"
           }
          ],
          "pie": [
           {
            "automargin": true,
            "type": "pie"
           }
          ],
          "scatter": [
           {
            "marker": {
             "colorbar": {
              "outlinewidth": 0,
              "ticks": ""
             }
            },
            "type": "scatter"
           }
          ],
          "scatter3d": [
           {
            "line": {
             "colorbar": {
              "outlinewidth": 0,
              "ticks": ""
             }
            },
            "marker": {
             "colorbar": {
              "outlinewidth": 0,
              "ticks": ""
             }
            },
            "type": "scatter3d"
           }
          ],
          "scattercarpet": [
           {
            "marker": {
             "colorbar": {
              "outlinewidth": 0,
              "ticks": ""
             }
            },
            "type": "scattercarpet"
           }
          ],
          "scattergeo": [
           {
            "marker": {
             "colorbar": {
              "outlinewidth": 0,
              "ticks": ""
             }
            },
            "type": "scattergeo"
           }
          ],
          "scattergl": [
           {
            "marker": {
             "colorbar": {
              "outlinewidth": 0,
              "ticks": ""
             }
            },
            "type": "scattergl"
           }
          ],
          "scattermapbox": [
           {
            "marker": {
             "colorbar": {
              "outlinewidth": 0,
              "ticks": ""
             }
            },
            "type": "scattermapbox"
           }
          ],
          "scatterpolar": [
           {
            "marker": {
             "colorbar": {
              "outlinewidth": 0,
              "ticks": ""
             }
            },
            "type": "scatterpolar"
           }
          ],
          "scatterpolargl": [
           {
            "marker": {
             "colorbar": {
              "outlinewidth": 0,
              "ticks": ""
             }
            },
            "type": "scatterpolargl"
           }
          ],
          "scatterternary": [
           {
            "marker": {
             "colorbar": {
              "outlinewidth": 0,
              "ticks": ""
             }
            },
            "type": "scatterternary"
           }
          ],
          "surface": [
           {
            "colorbar": {
             "outlinewidth": 0,
             "ticks": ""
            },
            "colorscale": [
             [
              0,
              "#0d0887"
             ],
             [
              0.1111111111111111,
              "#46039f"
             ],
             [
              0.2222222222222222,
              "#7201a8"
             ],
             [
              0.3333333333333333,
              "#9c179e"
             ],
             [
              0.4444444444444444,
              "#bd3786"
             ],
             [
              0.5555555555555556,
              "#d8576b"
             ],
             [
              0.6666666666666666,
              "#ed7953"
             ],
             [
              0.7777777777777778,
              "#fb9f3a"
             ],
             [
              0.8888888888888888,
              "#fdca26"
             ],
             [
              1,
              "#f0f921"
             ]
            ],
            "type": "surface"
           }
          ],
          "table": [
           {
            "cells": {
             "fill": {
              "color": "#EBF0F8"
             },
             "line": {
              "color": "white"
             }
            },
            "header": {
             "fill": {
              "color": "#C8D4E3"
             },
             "line": {
              "color": "white"
             }
            },
            "type": "table"
           }
          ]
         },
         "layout": {
          "annotationdefaults": {
           "arrowcolor": "#2a3f5f",
           "arrowhead": 0,
           "arrowwidth": 1
          },
          "autotypenumbers": "strict",
          "coloraxis": {
           "colorbar": {
            "outlinewidth": 0,
            "ticks": ""
           }
          },
          "colorscale": {
           "diverging": [
            [
             0,
             "#8e0152"
            ],
            [
             0.1,
             "#c51b7d"
            ],
            [
             0.2,
             "#de77ae"
            ],
            [
             0.3,
             "#f1b6da"
            ],
            [
             0.4,
             "#fde0ef"
            ],
            [
             0.5,
             "#f7f7f7"
            ],
            [
             0.6,
             "#e6f5d0"
            ],
            [
             0.7,
             "#b8e186"
            ],
            [
             0.8,
             "#7fbc41"
            ],
            [
             0.9,
             "#4d9221"
            ],
            [
             1,
             "#276419"
            ]
           ],
           "sequential": [
            [
             0,
             "#0d0887"
            ],
            [
             0.1111111111111111,
             "#46039f"
            ],
            [
             0.2222222222222222,
             "#7201a8"
            ],
            [
             0.3333333333333333,
             "#9c179e"
            ],
            [
             0.4444444444444444,
             "#bd3786"
            ],
            [
             0.5555555555555556,
             "#d8576b"
            ],
            [
             0.6666666666666666,
             "#ed7953"
            ],
            [
             0.7777777777777778,
             "#fb9f3a"
            ],
            [
             0.8888888888888888,
             "#fdca26"
            ],
            [
             1,
             "#f0f921"
            ]
           ],
           "sequentialminus": [
            [
             0,
             "#0d0887"
            ],
            [
             0.1111111111111111,
             "#46039f"
            ],
            [
             0.2222222222222222,
             "#7201a8"
            ],
            [
             0.3333333333333333,
             "#9c179e"
            ],
            [
             0.4444444444444444,
             "#bd3786"
            ],
            [
             0.5555555555555556,
             "#d8576b"
            ],
            [
             0.6666666666666666,
             "#ed7953"
            ],
            [
             0.7777777777777778,
             "#fb9f3a"
            ],
            [
             0.8888888888888888,
             "#fdca26"
            ],
            [
             1,
             "#f0f921"
            ]
           ]
          },
          "colorway": [
           "#636efa",
           "#EF553B",
           "#00cc96",
           "#ab63fa",
           "#FFA15A",
           "#19d3f3",
           "#FF6692",
           "#B6E880",
           "#FF97FF",
           "#FECB52"
          ],
          "font": {
           "color": "#2a3f5f"
          },
          "geo": {
           "bgcolor": "white",
           "lakecolor": "white",
           "landcolor": "#E5ECF6",
           "showlakes": true,
           "showland": true,
           "subunitcolor": "white"
          },
          "hoverlabel": {
           "align": "left"
          },
          "hovermode": "closest",
          "mapbox": {
           "style": "light"
          },
          "paper_bgcolor": "white",
          "plot_bgcolor": "#E5ECF6",
          "polar": {
           "angularaxis": {
            "gridcolor": "white",
            "linecolor": "white",
            "ticks": ""
           },
           "bgcolor": "#E5ECF6",
           "radialaxis": {
            "gridcolor": "white",
            "linecolor": "white",
            "ticks": ""
           }
          },
          "scene": {
           "xaxis": {
            "backgroundcolor": "#E5ECF6",
            "gridcolor": "white",
            "gridwidth": 2,
            "linecolor": "white",
            "showbackground": true,
            "ticks": "",
            "zerolinecolor": "white"
           },
           "yaxis": {
            "backgroundcolor": "#E5ECF6",
            "gridcolor": "white",
            "gridwidth": 2,
            "linecolor": "white",
            "showbackground": true,
            "ticks": "",
            "zerolinecolor": "white"
           },
           "zaxis": {
            "backgroundcolor": "#E5ECF6",
            "gridcolor": "white",
            "gridwidth": 2,
            "linecolor": "white",
            "showbackground": true,
            "ticks": "",
            "zerolinecolor": "white"
           }
          },
          "shapedefaults": {
           "line": {
            "color": "#2a3f5f"
           }
          },
          "ternary": {
           "aaxis": {
            "gridcolor": "white",
            "linecolor": "white",
            "ticks": ""
           },
           "baxis": {
            "gridcolor": "white",
            "linecolor": "white",
            "ticks": ""
           },
           "bgcolor": "#E5ECF6",
           "caxis": {
            "gridcolor": "white",
            "linecolor": "white",
            "ticks": ""
           }
          },
          "title": {
           "x": 0.05
          },
          "xaxis": {
           "automargin": true,
           "gridcolor": "white",
           "linecolor": "white",
           "ticks": "",
           "title": {
            "standoff": 15
           },
           "zerolinecolor": "white",
           "zerolinewidth": 2
          },
          "yaxis": {
           "automargin": true,
           "gridcolor": "white",
           "linecolor": "white",
           "ticks": "",
           "title": {
            "standoff": 15
           },
           "zerolinecolor": "white",
           "zerolinewidth": 2
          }
         }
        },
        "title": {
         "text": "Coffee: Number of Bags"
        },
        "xaxis": {
         "anchor": "y",
         "domain": [
          0,
          1
         ],
         "title": {
          "text": "Number of Bags"
         }
        },
        "yaxis": {
         "anchor": "x",
         "domain": [
          0,
          1
         ],
         "title": {
          "text": "count"
         }
        }
       }
      }
     },
     "metadata": {},
     "output_type": "display_data"
    },
    {
     "data": {
      "application/vnd.plotly.v1+json": {
       "config": {
        "plotlyServerURL": "https://plot.ly"
       },
       "data": [
        {
         "alignmentgroup": "True",
         "bingroup": "x",
         "hovertemplate": "Aroma=%{x}<br>count=%{y}<extra></extra>",
         "legendgroup": "",
         "marker": {
          "color": "#636efa",
          "pattern": {
           "shape": ""
          }
         },
         "name": "",
         "offsetgroup": "",
         "orientation": "v",
         "showlegend": false,
         "type": "histogram",
         "x": [
          8.67,
          8.75,
          8.17,
          8.25,
          8.08,
          8.17,
          8.25,
          8.08,
          8,
          8.42,
          8.17,
          8,
          8.08,
          8.17,
          8.25,
          8.5,
          8.42,
          8,
          8.5,
          8.17,
          8,
          8.08,
          7.67,
          7.83,
          8.08,
          8.08,
          8.33,
          8.25,
          8.17,
          8,
          7.83,
          7.83,
          8,
          8.33,
          7.92,
          7.83,
          8,
          7.83,
          8.33,
          8,
          7.75,
          8.08,
          8,
          8,
          7.83,
          7.92,
          8,
          7.83,
          8,
          8.17,
          8.25,
          8.17,
          8.42,
          7.83,
          8.17,
          7.83,
          7.83,
          8,
          7.92,
          7.67,
          8,
          7.75,
          7.75,
          8,
          8,
          7.92,
          7.75,
          7.92,
          7.83,
          7.83,
          7.92,
          7.75,
          8.08,
          7.75,
          8.17,
          8.08,
          7.67,
          8,
          8,
          7.75,
          8,
          7.67,
          7.83,
          7.92,
          7.83,
          7.75,
          8,
          7.75,
          7.42,
          8,
          8.5,
          7.92,
          7.92,
          7.75,
          7.92,
          7.67,
          8.17,
          8,
          7.92,
          7.58,
          7.67,
          7.92,
          7.83,
          7.75,
          7.33,
          7.58,
          7.75,
          8,
          7.92,
          7.83,
          7.83,
          7.75,
          7.75,
          7.83,
          7.67,
          7.83,
          7.42,
          7.83,
          7.83,
          7.83,
          7.83,
          7.83,
          7.83,
          7.75,
          7.92,
          7.75,
          7.75,
          7.58,
          8,
          7.67,
          7.67,
          7.67,
          7.5,
          7.92,
          7.58,
          7.92,
          8.42,
          7.83,
          7.58,
          7.92,
          7.58,
          7.67,
          7.83,
          7.42,
          7.67,
          7.92,
          7.75,
          7.67,
          7.58,
          7.67,
          7.67,
          7.5,
          7.83,
          7.67,
          7.58,
          7.83,
          7.75,
          8,
          7.67,
          7.5,
          7.75,
          7.92,
          7.67,
          7.75,
          7.25,
          7.67,
          7.75,
          7.67,
          7.83,
          7.58,
          7.92,
          7.5,
          7.67,
          7.67,
          7.83,
          7.75,
          7.67,
          7.83,
          7.67,
          7.83,
          7.75,
          8,
          7.83,
          7.67,
          7.83,
          7.67,
          7.67,
          8.08,
          7.5,
          7.67,
          7.58,
          7.5,
          7.5,
          7.5,
          8,
          7.67,
          7.67,
          7.83,
          8.17,
          7.67,
          7.67,
          8.17,
          7.67,
          7.58,
          7.75,
          7.67,
          7.67,
          7.75,
          7.75,
          7.67,
          7.75,
          7.67,
          7.83,
          7.67,
          7.83,
          7.75,
          7.92,
          7.75,
          7.67,
          7.58,
          7.75,
          7.25,
          7.67,
          7.58,
          7.67,
          7.83,
          7.67,
          7.75,
          7.83,
          7.67,
          7.5,
          7.5,
          7.67,
          7.67,
          7.58,
          7.58,
          7.5,
          7.58,
          7.58,
          7.75,
          7.75,
          7.67,
          7.67,
          7.5,
          7.75,
          7.5,
          7.75,
          7.67,
          7.75,
          7.67,
          7.67,
          7.5,
          7.58,
          7.67,
          7.83,
          7.5,
          7.67,
          7.5,
          7.5,
          7.58,
          7.83,
          7.67,
          7.92,
          7.5,
          7.58,
          7.75,
          7.83,
          7.75,
          7.67,
          7.67,
          7.58,
          7.67,
          7.58,
          7.67,
          7.67,
          7.5,
          7.67,
          7.5,
          7.5,
          7.92,
          7.67,
          7.58,
          7.58,
          8,
          7.5,
          7.67,
          7.33,
          7.67,
          7.75,
          7.75,
          7.58,
          7.67,
          7.75,
          7.5,
          7.75,
          7.92,
          7.75,
          7.75,
          7.58,
          7.58,
          7.33,
          7.83,
          7.58,
          7.83,
          7.75,
          7.75,
          7.58,
          7.5,
          7.5,
          7.67,
          7.67,
          7.75,
          7.67,
          7.75,
          7.83,
          7.67,
          7.92,
          7.83,
          7.67,
          7.67,
          7.67,
          7.75,
          7.75,
          7.33,
          7.58,
          7.5,
          7.67,
          7.67,
          7.5,
          7.75,
          7.5,
          7.67,
          7.67,
          7.5,
          7.17,
          7.58,
          7.5,
          7.58,
          8.08,
          7.83,
          7.75,
          7.08,
          8,
          7.75,
          7.75,
          7.67,
          7.83,
          7.58,
          7.67,
          8,
          7.75,
          7.5,
          7.67,
          7.33,
          7.83,
          7.25,
          7.58,
          7.58,
          7.83,
          7.42,
          7.67,
          7.5,
          7.83,
          7.67,
          7.58,
          7.67,
          7.67,
          7.58,
          7.5,
          7.58,
          7.5,
          7.5,
          7.42,
          7.5,
          7.58,
          7.83,
          7.67,
          7.58,
          7.58,
          7.5,
          7.67,
          7.5,
          7.5,
          7.75,
          7.75,
          7.58,
          7.58,
          7.58,
          8.08,
          7.5,
          7.67,
          7.42,
          7.5,
          7.5,
          7.67,
          7.67,
          7.58,
          7.5,
          7.58,
          8,
          7.67,
          7.67,
          7.67,
          7.42,
          7.67,
          7.58,
          7.5,
          7.5,
          7.67,
          7.83,
          7.75,
          7.42,
          7.75,
          7.83,
          7.67,
          7.75,
          7.75,
          7.5,
          7.67,
          7.33,
          7.5,
          7.83,
          7.58,
          7.5,
          7.5,
          7.33,
          7.67,
          7.42,
          7.42,
          7.83,
          7.83,
          7.5,
          7.67,
          7.92,
          7.67,
          7.67,
          7.42,
          7.58,
          7.67,
          7.58,
          7.67,
          7.67,
          7.17,
          7.5,
          7.42,
          7.58,
          7.25,
          7.5,
          7.5,
          7.42,
          7.42,
          7.75,
          7.5,
          7.58,
          7.58,
          7.67,
          7.83,
          7.67,
          7.5,
          7.33,
          7.5,
          7.75,
          7.75,
          7.5,
          8.25,
          7.5,
          7.33,
          7.75,
          7.58,
          7.42,
          7.5,
          7.5,
          7.5,
          7.67,
          7.67,
          7.58,
          7.67,
          7.5,
          7.58,
          8,
          7.58,
          7.83,
          7.58,
          7.67,
          7.42,
          7.58,
          7.58,
          7.58,
          7.75,
          7.5,
          7.58,
          7.58,
          7.5,
          7.5,
          7.67,
          7.33,
          7.42,
          7.67,
          7.42,
          7.5,
          7.58,
          6.92,
          7.42,
          7.67,
          7.75,
          7.42,
          7.5,
          7.5,
          7.67,
          7.5,
          7.25,
          7.5,
          7,
          7.5,
          7.42,
          7.25,
          7.75,
          7.42,
          7.42,
          7.58,
          7.42,
          7.5,
          7.67,
          7.67,
          7.58,
          7.5,
          7.5,
          7.5,
          7.67,
          7.42,
          7.42,
          7.5,
          7.33,
          7.58,
          7.5,
          7.33,
          7.42,
          7.33,
          7.67,
          7.42,
          7.42,
          7.58,
          7.75,
          7.58,
          7.5,
          7.58,
          7.42,
          7.67,
          7.58,
          7.33,
          7.5,
          7.58,
          7.5,
          7.5,
          7.33,
          7.67,
          7.42,
          7.42,
          7.25,
          7.42,
          7.75,
          7.58,
          7.17,
          7.58,
          7.33,
          7.58,
          7.5,
          7.67,
          7.67,
          7.58,
          7.33,
          7.5,
          7.42,
          7.5,
          7.75,
          7.83,
          7.83,
          7.33,
          7.5,
          7,
          7.42,
          7.5,
          7.42,
          7.42,
          7.33,
          7.5,
          7.42,
          7.42,
          7.42,
          7.58,
          7.25,
          7.42,
          7.33,
          7.25,
          7.5,
          7.5,
          7.5,
          7.58,
          7.5,
          7.5,
          7.25,
          7.67,
          7.5,
          7.58,
          7.75,
          7.5,
          7.42,
          7.42,
          7.58,
          7.42,
          7.42,
          7.33,
          7.42,
          7.42,
          7.67,
          7.33,
          7.67,
          7.67,
          7.5,
          7.5,
          7.5,
          7.25,
          7.83,
          7.67,
          7.5,
          7.42,
          7.58,
          7.42,
          7.5,
          7.33,
          7.58,
          7.42,
          7.33,
          7.42,
          7.5,
          7.75,
          7.5,
          7.58,
          7.42,
          7.33,
          7.5,
          7.83,
          7.58,
          7.25,
          7.42,
          7.67,
          7.42,
          7.42,
          7.42,
          7.5,
          7.5,
          7.25,
          7.58,
          7.17,
          7.08,
          7.75,
          7.33,
          7.58,
          7.33,
          7.5,
          7.83,
          7.17,
          7.08,
          7.42,
          7.33,
          7.33,
          7.5,
          7.5,
          7.42,
          7.33,
          7.67,
          7.75,
          7.5,
          7.42,
          6.83,
          7.25,
          7.58,
          7.58,
          7.33,
          7.42,
          7.42,
          7.42,
          7.58,
          7.33,
          7.42,
          7.42,
          7.42,
          7.67,
          7.25,
          7.33,
          7.33,
          7.42,
          7.42,
          7.42,
          7.5,
          7.25,
          7.42,
          7.33,
          7.33,
          7.5,
          7.33,
          7.08,
          7.58,
          7.33,
          7.67,
          7.17,
          7.5,
          7.17,
          7.33,
          7.25,
          7.92,
          7.17,
          7.58,
          7.42,
          7.25,
          7.42,
          7.58,
          7.42,
          7.67,
          7.17,
          7.33,
          7.5,
          6.92,
          7.5,
          7.25,
          7.5,
          7.25,
          7.42,
          7.25,
          7.33,
          7.58,
          7.42,
          7.58,
          7.67,
          7.83,
          7.5,
          7.25,
          7.67,
          7.25,
          7.42,
          7.5,
          7.17,
          7.17,
          7.33,
          7.58,
          7.25,
          7.17,
          7.5,
          7.42,
          7.5,
          7.25,
          7.58,
          7.33,
          7.25,
          7.25,
          6.92,
          7.42,
          7.25,
          7.25,
          7.33,
          7.25,
          7.17,
          7.25,
          7.25,
          8,
          7.42,
          7.08,
          7.25,
          7,
          7.58,
          7.42,
          7.17,
          7.25,
          7.33,
          7.33,
          7.58,
          7.33,
          7.33,
          7.42,
          7.25,
          7.25,
          7.25,
          7.33,
          7.25,
          7.33,
          7.17,
          7.58,
          7.25,
          7.33,
          7.25,
          7.08,
          7.33,
          7.17,
          7.5,
          7.17,
          7.33,
          7.17,
          7,
          7.33,
          6.83,
          7.17,
          7.5,
          7.75,
          7.08,
          7.25,
          7.58,
          7.58,
          7.58,
          7.25,
          7.25,
          7.33,
          7.25,
          7.42,
          7.25,
          6.92,
          7.5,
          7.42,
          7.33,
          6.92,
          7.08,
          7.25,
          6.92,
          6.92,
          7.25,
          7.25,
          7.08,
          7.25,
          7,
          7.42,
          7.42,
          7,
          7.42,
          7.08,
          7,
          7.33,
          7.58,
          7.08,
          7.25,
          7.25,
          7.17,
          7.58,
          7.42,
          7.33,
          7.25,
          7.17,
          7.33,
          7,
          7.67,
          6.75,
          7.5,
          7.17,
          7.33,
          7.5,
          7.17,
          7.33,
          7.25,
          7.25,
          7.67,
          7,
          6.92,
          7.33,
          6.83,
          7,
          7.92,
          7.25,
          7.08,
          7.25,
          7.58,
          7.17,
          7.17,
          7.25,
          6.92,
          7.08,
          7.5,
          6.83,
          7.42,
          7.33,
          7,
          7.25,
          7.5,
          7.42,
          7,
          7.17,
          7.17,
          7.08,
          7.5,
          7.33,
          7.33,
          6.83,
          7.08,
          7.42,
          7.17,
          7.5,
          7.42,
          7.33,
          7.08,
          6.83,
          6.83,
          7.92,
          7.5,
          7.17,
          7.25,
          7.17,
          7,
          7.08,
          7.33,
          7.08,
          6.5,
          7,
          6.92,
          7.67,
          7,
          7.08,
          6.33,
          6.92,
          6.5,
          6.92,
          6.67,
          7,
          7,
          7.08,
          6.75,
          7.25,
          7.5
         ],
         "xaxis": "x",
         "yaxis": "y"
        }
       ],
       "layout": {
        "barmode": "relative",
        "legend": {
         "tracegroupgap": 0
        },
        "template": {
         "data": {
          "bar": [
           {
            "error_x": {
             "color": "#2a3f5f"
            },
            "error_y": {
             "color": "#2a3f5f"
            },
            "marker": {
             "line": {
              "color": "#E5ECF6",
              "width": 0.5
             },
             "pattern": {
              "fillmode": "overlay",
              "size": 10,
              "solidity": 0.2
             }
            },
            "type": "bar"
           }
          ],
          "barpolar": [
           {
            "marker": {
             "line": {
              "color": "#E5ECF6",
              "width": 0.5
             },
             "pattern": {
              "fillmode": "overlay",
              "size": 10,
              "solidity": 0.2
             }
            },
            "type": "barpolar"
           }
          ],
          "carpet": [
           {
            "aaxis": {
             "endlinecolor": "#2a3f5f",
             "gridcolor": "white",
             "linecolor": "white",
             "minorgridcolor": "white",
             "startlinecolor": "#2a3f5f"
            },
            "baxis": {
             "endlinecolor": "#2a3f5f",
             "gridcolor": "white",
             "linecolor": "white",
             "minorgridcolor": "white",
             "startlinecolor": "#2a3f5f"
            },
            "type": "carpet"
           }
          ],
          "choropleth": [
           {
            "colorbar": {
             "outlinewidth": 0,
             "ticks": ""
            },
            "type": "choropleth"
           }
          ],
          "contour": [
           {
            "colorbar": {
             "outlinewidth": 0,
             "ticks": ""
            },
            "colorscale": [
             [
              0,
              "#0d0887"
             ],
             [
              0.1111111111111111,
              "#46039f"
             ],
             [
              0.2222222222222222,
              "#7201a8"
             ],
             [
              0.3333333333333333,
              "#9c179e"
             ],
             [
              0.4444444444444444,
              "#bd3786"
             ],
             [
              0.5555555555555556,
              "#d8576b"
             ],
             [
              0.6666666666666666,
              "#ed7953"
             ],
             [
              0.7777777777777778,
              "#fb9f3a"
             ],
             [
              0.8888888888888888,
              "#fdca26"
             ],
             [
              1,
              "#f0f921"
             ]
            ],
            "type": "contour"
           }
          ],
          "contourcarpet": [
           {
            "colorbar": {
             "outlinewidth": 0,
             "ticks": ""
            },
            "type": "contourcarpet"
           }
          ],
          "heatmap": [
           {
            "colorbar": {
             "outlinewidth": 0,
             "ticks": ""
            },
            "colorscale": [
             [
              0,
              "#0d0887"
             ],
             [
              0.1111111111111111,
              "#46039f"
             ],
             [
              0.2222222222222222,
              "#7201a8"
             ],
             [
              0.3333333333333333,
              "#9c179e"
             ],
             [
              0.4444444444444444,
              "#bd3786"
             ],
             [
              0.5555555555555556,
              "#d8576b"
             ],
             [
              0.6666666666666666,
              "#ed7953"
             ],
             [
              0.7777777777777778,
              "#fb9f3a"
             ],
             [
              0.8888888888888888,
              "#fdca26"
             ],
             [
              1,
              "#f0f921"
             ]
            ],
            "type": "heatmap"
           }
          ],
          "heatmapgl": [
           {
            "colorbar": {
             "outlinewidth": 0,
             "ticks": ""
            },
            "colorscale": [
             [
              0,
              "#0d0887"
             ],
             [
              0.1111111111111111,
              "#46039f"
             ],
             [
              0.2222222222222222,
              "#7201a8"
             ],
             [
              0.3333333333333333,
              "#9c179e"
             ],
             [
              0.4444444444444444,
              "#bd3786"
             ],
             [
              0.5555555555555556,
              "#d8576b"
             ],
             [
              0.6666666666666666,
              "#ed7953"
             ],
             [
              0.7777777777777778,
              "#fb9f3a"
             ],
             [
              0.8888888888888888,
              "#fdca26"
             ],
             [
              1,
              "#f0f921"
             ]
            ],
            "type": "heatmapgl"
           }
          ],
          "histogram": [
           {
            "marker": {
             "pattern": {
              "fillmode": "overlay",
              "size": 10,
              "solidity": 0.2
             }
            },
            "type": "histogram"
           }
          ],
          "histogram2d": [
           {
            "colorbar": {
             "outlinewidth": 0,
             "ticks": ""
            },
            "colorscale": [
             [
              0,
              "#0d0887"
             ],
             [
              0.1111111111111111,
              "#46039f"
             ],
             [
              0.2222222222222222,
              "#7201a8"
             ],
             [
              0.3333333333333333,
              "#9c179e"
             ],
             [
              0.4444444444444444,
              "#bd3786"
             ],
             [
              0.5555555555555556,
              "#d8576b"
             ],
             [
              0.6666666666666666,
              "#ed7953"
             ],
             [
              0.7777777777777778,
              "#fb9f3a"
             ],
             [
              0.8888888888888888,
              "#fdca26"
             ],
             [
              1,
              "#f0f921"
             ]
            ],
            "type": "histogram2d"
           }
          ],
          "histogram2dcontour": [
           {
            "colorbar": {
             "outlinewidth": 0,
             "ticks": ""
            },
            "colorscale": [
             [
              0,
              "#0d0887"
             ],
             [
              0.1111111111111111,
              "#46039f"
             ],
             [
              0.2222222222222222,
              "#7201a8"
             ],
             [
              0.3333333333333333,
              "#9c179e"
             ],
             [
              0.4444444444444444,
              "#bd3786"
             ],
             [
              0.5555555555555556,
              "#d8576b"
             ],
             [
              0.6666666666666666,
              "#ed7953"
             ],
             [
              0.7777777777777778,
              "#fb9f3a"
             ],
             [
              0.8888888888888888,
              "#fdca26"
             ],
             [
              1,
              "#f0f921"
             ]
            ],
            "type": "histogram2dcontour"
           }
          ],
          "mesh3d": [
           {
            "colorbar": {
             "outlinewidth": 0,
             "ticks": ""
            },
            "type": "mesh3d"
           }
          ],
          "parcoords": [
           {
            "line": {
             "colorbar": {
              "outlinewidth": 0,
              "ticks": ""
             }
            },
            "type": "parcoords"
           }
          ],
          "pie": [
           {
            "automargin": true,
            "type": "pie"
           }
          ],
          "scatter": [
           {
            "marker": {
             "colorbar": {
              "outlinewidth": 0,
              "ticks": ""
             }
            },
            "type": "scatter"
           }
          ],
          "scatter3d": [
           {
            "line": {
             "colorbar": {
              "outlinewidth": 0,
              "ticks": ""
             }
            },
            "marker": {
             "colorbar": {
              "outlinewidth": 0,
              "ticks": ""
             }
            },
            "type": "scatter3d"
           }
          ],
          "scattercarpet": [
           {
            "marker": {
             "colorbar": {
              "outlinewidth": 0,
              "ticks": ""
             }
            },
            "type": "scattercarpet"
           }
          ],
          "scattergeo": [
           {
            "marker": {
             "colorbar": {
              "outlinewidth": 0,
              "ticks": ""
             }
            },
            "type": "scattergeo"
           }
          ],
          "scattergl": [
           {
            "marker": {
             "colorbar": {
              "outlinewidth": 0,
              "ticks": ""
             }
            },
            "type": "scattergl"
           }
          ],
          "scattermapbox": [
           {
            "marker": {
             "colorbar": {
              "outlinewidth": 0,
              "ticks": ""
             }
            },
            "type": "scattermapbox"
           }
          ],
          "scatterpolar": [
           {
            "marker": {
             "colorbar": {
              "outlinewidth": 0,
              "ticks": ""
             }
            },
            "type": "scatterpolar"
           }
          ],
          "scatterpolargl": [
           {
            "marker": {
             "colorbar": {
              "outlinewidth": 0,
              "ticks": ""
             }
            },
            "type": "scatterpolargl"
           }
          ],
          "scatterternary": [
           {
            "marker": {
             "colorbar": {
              "outlinewidth": 0,
              "ticks": ""
             }
            },
            "type": "scatterternary"
           }
          ],
          "surface": [
           {
            "colorbar": {
             "outlinewidth": 0,
             "ticks": ""
            },
            "colorscale": [
             [
              0,
              "#0d0887"
             ],
             [
              0.1111111111111111,
              "#46039f"
             ],
             [
              0.2222222222222222,
              "#7201a8"
             ],
             [
              0.3333333333333333,
              "#9c179e"
             ],
             [
              0.4444444444444444,
              "#bd3786"
             ],
             [
              0.5555555555555556,
              "#d8576b"
             ],
             [
              0.6666666666666666,
              "#ed7953"
             ],
             [
              0.7777777777777778,
              "#fb9f3a"
             ],
             [
              0.8888888888888888,
              "#fdca26"
             ],
             [
              1,
              "#f0f921"
             ]
            ],
            "type": "surface"
           }
          ],
          "table": [
           {
            "cells": {
             "fill": {
              "color": "#EBF0F8"
             },
             "line": {
              "color": "white"
             }
            },
            "header": {
             "fill": {
              "color": "#C8D4E3"
             },
             "line": {
              "color": "white"
             }
            },
            "type": "table"
           }
          ]
         },
         "layout": {
          "annotationdefaults": {
           "arrowcolor": "#2a3f5f",
           "arrowhead": 0,
           "arrowwidth": 1
          },
          "autotypenumbers": "strict",
          "coloraxis": {
           "colorbar": {
            "outlinewidth": 0,
            "ticks": ""
           }
          },
          "colorscale": {
           "diverging": [
            [
             0,
             "#8e0152"
            ],
            [
             0.1,
             "#c51b7d"
            ],
            [
             0.2,
             "#de77ae"
            ],
            [
             0.3,
             "#f1b6da"
            ],
            [
             0.4,
             "#fde0ef"
            ],
            [
             0.5,
             "#f7f7f7"
            ],
            [
             0.6,
             "#e6f5d0"
            ],
            [
             0.7,
             "#b8e186"
            ],
            [
             0.8,
             "#7fbc41"
            ],
            [
             0.9,
             "#4d9221"
            ],
            [
             1,
             "#276419"
            ]
           ],
           "sequential": [
            [
             0,
             "#0d0887"
            ],
            [
             0.1111111111111111,
             "#46039f"
            ],
            [
             0.2222222222222222,
             "#7201a8"
            ],
            [
             0.3333333333333333,
             "#9c179e"
            ],
            [
             0.4444444444444444,
             "#bd3786"
            ],
            [
             0.5555555555555556,
             "#d8576b"
            ],
            [
             0.6666666666666666,
             "#ed7953"
            ],
            [
             0.7777777777777778,
             "#fb9f3a"
            ],
            [
             0.8888888888888888,
             "#fdca26"
            ],
            [
             1,
             "#f0f921"
            ]
           ],
           "sequentialminus": [
            [
             0,
             "#0d0887"
            ],
            [
             0.1111111111111111,
             "#46039f"
            ],
            [
             0.2222222222222222,
             "#7201a8"
            ],
            [
             0.3333333333333333,
             "#9c179e"
            ],
            [
             0.4444444444444444,
             "#bd3786"
            ],
            [
             0.5555555555555556,
             "#d8576b"
            ],
            [
             0.6666666666666666,
             "#ed7953"
            ],
            [
             0.7777777777777778,
             "#fb9f3a"
            ],
            [
             0.8888888888888888,
             "#fdca26"
            ],
            [
             1,
             "#f0f921"
            ]
           ]
          },
          "colorway": [
           "#636efa",
           "#EF553B",
           "#00cc96",
           "#ab63fa",
           "#FFA15A",
           "#19d3f3",
           "#FF6692",
           "#B6E880",
           "#FF97FF",
           "#FECB52"
          ],
          "font": {
           "color": "#2a3f5f"
          },
          "geo": {
           "bgcolor": "white",
           "lakecolor": "white",
           "landcolor": "#E5ECF6",
           "showlakes": true,
           "showland": true,
           "subunitcolor": "white"
          },
          "hoverlabel": {
           "align": "left"
          },
          "hovermode": "closest",
          "mapbox": {
           "style": "light"
          },
          "paper_bgcolor": "white",
          "plot_bgcolor": "#E5ECF6",
          "polar": {
           "angularaxis": {
            "gridcolor": "white",
            "linecolor": "white",
            "ticks": ""
           },
           "bgcolor": "#E5ECF6",
           "radialaxis": {
            "gridcolor": "white",
            "linecolor": "white",
            "ticks": ""
           }
          },
          "scene": {
           "xaxis": {
            "backgroundcolor": "#E5ECF6",
            "gridcolor": "white",
            "gridwidth": 2,
            "linecolor": "white",
            "showbackground": true,
            "ticks": "",
            "zerolinecolor": "white"
           },
           "yaxis": {
            "backgroundcolor": "#E5ECF6",
            "gridcolor": "white",
            "gridwidth": 2,
            "linecolor": "white",
            "showbackground": true,
            "ticks": "",
            "zerolinecolor": "white"
           },
           "zaxis": {
            "backgroundcolor": "#E5ECF6",
            "gridcolor": "white",
            "gridwidth": 2,
            "linecolor": "white",
            "showbackground": true,
            "ticks": "",
            "zerolinecolor": "white"
           }
          },
          "shapedefaults": {
           "line": {
            "color": "#2a3f5f"
           }
          },
          "ternary": {
           "aaxis": {
            "gridcolor": "white",
            "linecolor": "white",
            "ticks": ""
           },
           "baxis": {
            "gridcolor": "white",
            "linecolor": "white",
            "ticks": ""
           },
           "bgcolor": "#E5ECF6",
           "caxis": {
            "gridcolor": "white",
            "linecolor": "white",
            "ticks": ""
           }
          },
          "title": {
           "x": 0.05
          },
          "xaxis": {
           "automargin": true,
           "gridcolor": "white",
           "linecolor": "white",
           "ticks": "",
           "title": {
            "standoff": 15
           },
           "zerolinecolor": "white",
           "zerolinewidth": 2
          },
          "yaxis": {
           "automargin": true,
           "gridcolor": "white",
           "linecolor": "white",
           "ticks": "",
           "title": {
            "standoff": 15
           },
           "zerolinecolor": "white",
           "zerolinewidth": 2
          }
         }
        },
        "title": {
         "text": "Coffee: Aroma"
        },
        "xaxis": {
         "anchor": "y",
         "domain": [
          0,
          1
         ],
         "title": {
          "text": "Aroma"
         }
        },
        "yaxis": {
         "anchor": "x",
         "domain": [
          0,
          1
         ],
         "title": {
          "text": "count"
         }
        }
       }
      }
     },
     "metadata": {},
     "output_type": "display_data"
    },
    {
     "data": {
      "application/vnd.plotly.v1+json": {
       "config": {
        "plotlyServerURL": "https://plot.ly"
       },
       "data": [
        {
         "alignmentgroup": "True",
         "bingroup": "x",
         "hovertemplate": "Flavor=%{x}<br>count=%{y}<extra></extra>",
         "legendgroup": "",
         "marker": {
          "color": "#636efa",
          "pattern": {
           "shape": ""
          }
         },
         "name": "",
         "offsetgroup": "",
         "orientation": "v",
         "showlegend": false,
         "type": "histogram",
         "x": [
          8.83,
          8.67,
          8.58,
          8.5,
          8.58,
          8.67,
          8.42,
          8.67,
          8.5,
          8.25,
          8.17,
          8.25,
          8.25,
          8.25,
          8.33,
          8.5,
          8.17,
          8,
          8.17,
          7.83,
          8.08,
          8,
          8.17,
          8.33,
          8.17,
          8.08,
          8,
          8,
          8.17,
          8,
          8.08,
          8,
          8,
          8.42,
          8.17,
          8,
          7.75,
          8,
          7.92,
          7.83,
          7.83,
          8,
          8,
          8,
          7.75,
          8.08,
          7.58,
          8.08,
          7.92,
          7.92,
          8,
          7.83,
          8,
          8,
          7.92,
          8,
          8,
          8,
          7.83,
          7.83,
          7.83,
          7.92,
          8,
          7.92,
          8,
          7.58,
          7.92,
          7.83,
          7.75,
          7.83,
          7.83,
          7.75,
          7.75,
          7.83,
          8,
          7.83,
          7.58,
          7.58,
          7.92,
          7.92,
          7.83,
          7.83,
          7.58,
          7.75,
          7.83,
          7.83,
          7.92,
          7.75,
          7.67,
          8,
          8,
          7.67,
          7.75,
          7.92,
          7.83,
          8,
          7.83,
          7.92,
          7.83,
          7.83,
          7.67,
          7.75,
          7.83,
          7.92,
          7.58,
          7.92,
          7.67,
          7.75,
          7.75,
          7.75,
          7.58,
          7.75,
          7.92,
          7.83,
          7.67,
          7.67,
          7.67,
          7.67,
          7.75,
          7.83,
          7.92,
          7.83,
          7.92,
          7.83,
          7.75,
          7.75,
          7.92,
          7.83,
          7.5,
          7.83,
          7.75,
          7.75,
          7.92,
          7.75,
          7.83,
          7.75,
          8.08,
          7.5,
          7.67,
          7.75,
          7.75,
          7.75,
          7.75,
          7.83,
          7.83,
          7.67,
          7.83,
          7.67,
          7.83,
          7.83,
          7.75,
          7.75,
          7.83,
          7.75,
          7.67,
          7.75,
          7.58,
          7.92,
          7.75,
          7.67,
          7.92,
          7.58,
          7.67,
          7.75,
          7.58,
          7.75,
          7.75,
          7.67,
          7.42,
          7.83,
          7.5,
          7.83,
          8,
          7.58,
          7.83,
          7.58,
          7.67,
          7.83,
          7.67,
          7.75,
          7.67,
          7.92,
          7.83,
          7.67,
          7.58,
          7.58,
          7.83,
          7.67,
          7.5,
          7.75,
          7.75,
          7.67,
          7.75,
          7.75,
          7.5,
          7.67,
          7.67,
          7.67,
          8.17,
          8.17,
          7.5,
          7.67,
          7.5,
          7.67,
          7.75,
          7.58,
          7.75,
          7.75,
          7.67,
          7.67,
          7.75,
          7.67,
          7.67,
          7.58,
          7.75,
          7.58,
          7.42,
          7.58,
          7.75,
          7.58,
          7.67,
          7.67,
          7.75,
          7.75,
          7.5,
          7.58,
          7.75,
          7.67,
          7.5,
          7.58,
          7.5,
          7.58,
          7.75,
          7.67,
          7.5,
          7.75,
          7.58,
          7.5,
          7.67,
          7.67,
          7.83,
          7.75,
          7.5,
          7.75,
          7.5,
          7.83,
          7.75,
          7.75,
          7.58,
          7.67,
          7.67,
          7.67,
          7.5,
          7.67,
          7.67,
          7.67,
          7.83,
          7.5,
          7.58,
          7.67,
          7.75,
          7.5,
          7.83,
          7.67,
          7.75,
          7.75,
          7.58,
          7.67,
          7.67,
          7.42,
          7.58,
          7.58,
          7.42,
          7.75,
          7.67,
          7.67,
          7.67,
          7.5,
          7.75,
          7.67,
          7.58,
          7.67,
          7.5,
          7.67,
          7.5,
          7.67,
          7.83,
          7.83,
          7.58,
          7.67,
          7.75,
          7.5,
          7.5,
          7.75,
          7.67,
          7.58,
          7.5,
          7.5,
          7.67,
          7.58,
          7.67,
          7.92,
          7.83,
          7.33,
          7.75,
          7.67,
          7.5,
          7.58,
          7.67,
          7.58,
          7.67,
          7.67,
          7.75,
          7.67,
          7.67,
          7.67,
          7.92,
          7.58,
          7.5,
          7.67,
          7.58,
          7.58,
          7.42,
          7.67,
          7.75,
          7.5,
          7.58,
          7.83,
          7.67,
          7.58,
          7.67,
          7.67,
          7.58,
          7.5,
          7.83,
          7.58,
          7.58,
          7.58,
          7.5,
          7.67,
          7.67,
          7.5,
          7.5,
          7.58,
          7.5,
          7.83,
          7.75,
          7.58,
          7.33,
          7.92,
          7.58,
          7.58,
          7.58,
          7.67,
          7.92,
          7.58,
          7.58,
          7.83,
          7.67,
          7.58,
          7.67,
          7.42,
          7.5,
          7.5,
          7.67,
          7.58,
          7.67,
          7.58,
          7.58,
          7.67,
          7.67,
          7.5,
          7.58,
          7.58,
          7.58,
          7.67,
          7.67,
          7.5,
          7.5,
          7.5,
          7.5,
          7.67,
          7.58,
          7.58,
          7.42,
          7.33,
          7.58,
          7.58,
          8.17,
          7.58,
          7.58,
          7.42,
          7.58,
          7.58,
          7.67,
          7.67,
          7.5,
          7.5,
          7.5,
          7.83,
          7.58,
          7.5,
          7.5,
          7.5,
          7.67,
          7.58,
          7.58,
          7.42,
          7.42,
          7.58,
          7.33,
          7.58,
          7.42,
          7.5,
          7.42,
          7.25,
          7.5,
          7.58,
          7.58,
          7.42,
          7.5,
          7.75,
          7.58,
          7.5,
          7.83,
          7.5,
          7.42,
          7.58,
          7.5,
          7.42,
          7.67,
          7.58,
          7.5,
          7.5,
          7.42,
          7.5,
          7.67,
          7.5,
          7.58,
          7.5,
          7.42,
          7.25,
          7.83,
          7.5,
          7.5,
          7.67,
          7.33,
          7.58,
          7.42,
          7.58,
          7.58,
          7.33,
          7.58,
          7.58,
          7.33,
          7.58,
          7.5,
          7.33,
          7.58,
          7.5,
          7.5,
          7.5,
          7.33,
          7.58,
          7.83,
          7.42,
          7.58,
          8.08,
          7.67,
          7.33,
          7.5,
          7.5,
          7.42,
          7.5,
          7.5,
          7.67,
          7.58,
          7.67,
          7.5,
          7.75,
          7.58,
          7.58,
          7.5,
          7.5,
          7.67,
          7.67,
          7.5,
          7.42,
          7.58,
          7.5,
          7.58,
          7.58,
          7.5,
          7.58,
          7.58,
          7.58,
          7.5,
          7.33,
          7.42,
          7.5,
          7.42,
          7.58,
          7.42,
          7.5,
          7.42,
          7.33,
          7.5,
          7.5,
          7.5,
          7.67,
          7.75,
          7.58,
          7.67,
          7.5,
          7.58,
          7.25,
          7.42,
          7.33,
          7.5,
          7.33,
          7.58,
          7.42,
          7.5,
          8,
          7.42,
          7.5,
          7.5,
          7.33,
          7.33,
          7.5,
          7.42,
          7.42,
          7.5,
          7.5,
          7.25,
          7.33,
          7.58,
          7.67,
          7.33,
          7.5,
          7.5,
          7.5,
          7.33,
          7.5,
          7.5,
          7.5,
          7.33,
          7.58,
          7.58,
          7.33,
          7.5,
          7.5,
          7.5,
          7.42,
          7.58,
          7.42,
          7.58,
          7.5,
          7.33,
          7.5,
          7.83,
          7.5,
          7.58,
          7,
          7.58,
          7.5,
          7.5,
          7.5,
          7.33,
          7.42,
          7.58,
          7.5,
          7.42,
          7.5,
          7.75,
          7.67,
          7.33,
          7.33,
          7.5,
          7.08,
          7.42,
          7.5,
          7.5,
          7.5,
          7.42,
          7.42,
          7.5,
          7.42,
          7.33,
          7.5,
          7.75,
          7.33,
          7.33,
          7.42,
          7.33,
          7.17,
          7.5,
          7.42,
          7.42,
          7.67,
          7.67,
          7.25,
          7.42,
          7.42,
          7.58,
          7.42,
          7.42,
          7.42,
          7.42,
          7.42,
          7.42,
          7.17,
          7.42,
          7.33,
          7.5,
          7.5,
          7.58,
          7.58,
          7.42,
          7.5,
          7.42,
          7.42,
          7.33,
          7.42,
          7.42,
          7.33,
          7.5,
          7.33,
          7.42,
          7.33,
          7.42,
          7.25,
          7.5,
          7.42,
          7.5,
          7.17,
          7.42,
          7.33,
          7.33,
          7.5,
          7.33,
          7.75,
          7.17,
          7.5,
          7.5,
          7.33,
          7.33,
          7.33,
          7.42,
          7.42,
          7.5,
          7.33,
          7.42,
          7.33,
          7.33,
          7.33,
          7.33,
          7.42,
          7.25,
          7.58,
          7.75,
          7.42,
          7.5,
          7.17,
          7.42,
          7.17,
          7.5,
          7.33,
          7.42,
          7.5,
          7.17,
          7.58,
          7.5,
          7.33,
          7.42,
          7.25,
          7.17,
          7.25,
          7.08,
          7.25,
          7.25,
          7.33,
          7.42,
          7.33,
          7.17,
          7.33,
          7.25,
          7.75,
          7.42,
          7.25,
          7.33,
          7.33,
          7.08,
          7.25,
          7.25,
          7.17,
          7.25,
          7.33,
          6.92,
          6.92,
          7.42,
          7.33,
          7.67,
          7.17,
          7.67,
          7.58,
          7.33,
          7.42,
          7.17,
          7.33,
          7.67,
          7.42,
          7.42,
          7.25,
          7.17,
          7.25,
          7.33,
          7.33,
          7.25,
          7.08,
          7.25,
          7.17,
          7.5,
          7.33,
          7.25,
          7.33,
          7.33,
          7.17,
          7.33,
          7.33,
          7.33,
          7,
          7.42,
          7.42,
          7.5,
          7.25,
          7.17,
          7.17,
          7.08,
          7.25,
          7.17,
          7.42,
          7.17,
          7.25,
          7.33,
          7.33,
          7.33,
          7.17,
          7.42,
          7.5,
          7.25,
          7.17,
          7.17,
          7.08,
          7.25,
          7.17,
          7.08,
          7.17,
          7.25,
          7.33,
          7.08,
          7.33,
          7.25,
          7.17,
          7.08,
          7,
          6.92,
          7.08,
          7.17,
          7.33,
          7.25,
          7.08,
          7.25,
          7.33,
          7.08,
          7.42,
          7.33,
          7.33,
          7.25,
          7.25,
          7.25,
          7.25,
          7.17,
          7.08,
          7.08,
          7.33,
          7.75,
          7.25,
          6.67,
          7.25,
          7.33,
          7.08,
          7.17,
          7.17,
          7.08,
          7.25,
          7.33,
          7.08,
          7.25,
          7.17,
          7.08,
          7.42,
          7.33,
          7.08,
          7.08,
          7.5,
          7.08,
          7.08,
          7.08,
          7.17,
          7.25,
          6.83,
          7.42,
          7.08,
          7.17,
          7,
          7.25,
          7.17,
          7.17,
          7,
          6.92,
          6.92,
          7,
          7.08,
          7.33,
          7.33,
          7.33,
          6.83,
          7.25,
          7.25,
          7,
          7.17,
          6.83,
          7,
          7.42,
          7,
          7,
          7.17,
          7.08,
          6.92,
          7.67,
          7.08,
          7,
          7.08,
          7.25,
          7.17,
          7,
          7.17,
          7.08,
          7.17,
          6.83,
          7,
          7,
          7,
          7.08,
          6.83,
          7.33,
          7.17,
          6.92,
          6.92,
          7.17,
          6.75,
          7,
          7.58,
          6.75,
          6.83,
          7.17,
          7.17,
          6.5,
          7.17,
          7.25,
          6.83,
          6.83,
          7.08,
          7,
          7.25,
          7.17,
          6.83,
          7.33,
          7.25,
          7.25,
          6.83,
          6.75,
          6.75,
          6.92,
          7.33,
          7,
          7,
          6.83,
          7,
          7.75,
          6.58,
          7,
          7,
          7,
          6.83,
          6.83,
          6.5,
          7.58,
          7.25,
          6.92,
          6.83,
          7.17,
          6.92,
          6.75,
          6.75,
          7,
          6.33,
          6.58,
          6.42,
          7,
          7.17,
          7.08,
          6.5,
          6.92,
          6.67,
          7,
          6.5,
          6.17,
          6.33,
          6.83,
          6.58,
          6.58,
          6.67
         ],
         "xaxis": "x",
         "yaxis": "y"
        }
       ],
       "layout": {
        "barmode": "relative",
        "legend": {
         "tracegroupgap": 0
        },
        "template": {
         "data": {
          "bar": [
           {
            "error_x": {
             "color": "#2a3f5f"
            },
            "error_y": {
             "color": "#2a3f5f"
            },
            "marker": {
             "line": {
              "color": "#E5ECF6",
              "width": 0.5
             },
             "pattern": {
              "fillmode": "overlay",
              "size": 10,
              "solidity": 0.2
             }
            },
            "type": "bar"
           }
          ],
          "barpolar": [
           {
            "marker": {
             "line": {
              "color": "#E5ECF6",
              "width": 0.5
             },
             "pattern": {
              "fillmode": "overlay",
              "size": 10,
              "solidity": 0.2
             }
            },
            "type": "barpolar"
           }
          ],
          "carpet": [
           {
            "aaxis": {
             "endlinecolor": "#2a3f5f",
             "gridcolor": "white",
             "linecolor": "white",
             "minorgridcolor": "white",
             "startlinecolor": "#2a3f5f"
            },
            "baxis": {
             "endlinecolor": "#2a3f5f",
             "gridcolor": "white",
             "linecolor": "white",
             "minorgridcolor": "white",
             "startlinecolor": "#2a3f5f"
            },
            "type": "carpet"
           }
          ],
          "choropleth": [
           {
            "colorbar": {
             "outlinewidth": 0,
             "ticks": ""
            },
            "type": "choropleth"
           }
          ],
          "contour": [
           {
            "colorbar": {
             "outlinewidth": 0,
             "ticks": ""
            },
            "colorscale": [
             [
              0,
              "#0d0887"
             ],
             [
              0.1111111111111111,
              "#46039f"
             ],
             [
              0.2222222222222222,
              "#7201a8"
             ],
             [
              0.3333333333333333,
              "#9c179e"
             ],
             [
              0.4444444444444444,
              "#bd3786"
             ],
             [
              0.5555555555555556,
              "#d8576b"
             ],
             [
              0.6666666666666666,
              "#ed7953"
             ],
             [
              0.7777777777777778,
              "#fb9f3a"
             ],
             [
              0.8888888888888888,
              "#fdca26"
             ],
             [
              1,
              "#f0f921"
             ]
            ],
            "type": "contour"
           }
          ],
          "contourcarpet": [
           {
            "colorbar": {
             "outlinewidth": 0,
             "ticks": ""
            },
            "type": "contourcarpet"
           }
          ],
          "heatmap": [
           {
            "colorbar": {
             "outlinewidth": 0,
             "ticks": ""
            },
            "colorscale": [
             [
              0,
              "#0d0887"
             ],
             [
              0.1111111111111111,
              "#46039f"
             ],
             [
              0.2222222222222222,
              "#7201a8"
             ],
             [
              0.3333333333333333,
              "#9c179e"
             ],
             [
              0.4444444444444444,
              "#bd3786"
             ],
             [
              0.5555555555555556,
              "#d8576b"
             ],
             [
              0.6666666666666666,
              "#ed7953"
             ],
             [
              0.7777777777777778,
              "#fb9f3a"
             ],
             [
              0.8888888888888888,
              "#fdca26"
             ],
             [
              1,
              "#f0f921"
             ]
            ],
            "type": "heatmap"
           }
          ],
          "heatmapgl": [
           {
            "colorbar": {
             "outlinewidth": 0,
             "ticks": ""
            },
            "colorscale": [
             [
              0,
              "#0d0887"
             ],
             [
              0.1111111111111111,
              "#46039f"
             ],
             [
              0.2222222222222222,
              "#7201a8"
             ],
             [
              0.3333333333333333,
              "#9c179e"
             ],
             [
              0.4444444444444444,
              "#bd3786"
             ],
             [
              0.5555555555555556,
              "#d8576b"
             ],
             [
              0.6666666666666666,
              "#ed7953"
             ],
             [
              0.7777777777777778,
              "#fb9f3a"
             ],
             [
              0.8888888888888888,
              "#fdca26"
             ],
             [
              1,
              "#f0f921"
             ]
            ],
            "type": "heatmapgl"
           }
          ],
          "histogram": [
           {
            "marker": {
             "pattern": {
              "fillmode": "overlay",
              "size": 10,
              "solidity": 0.2
             }
            },
            "type": "histogram"
           }
          ],
          "histogram2d": [
           {
            "colorbar": {
             "outlinewidth": 0,
             "ticks": ""
            },
            "colorscale": [
             [
              0,
              "#0d0887"
             ],
             [
              0.1111111111111111,
              "#46039f"
             ],
             [
              0.2222222222222222,
              "#7201a8"
             ],
             [
              0.3333333333333333,
              "#9c179e"
             ],
             [
              0.4444444444444444,
              "#bd3786"
             ],
             [
              0.5555555555555556,
              "#d8576b"
             ],
             [
              0.6666666666666666,
              "#ed7953"
             ],
             [
              0.7777777777777778,
              "#fb9f3a"
             ],
             [
              0.8888888888888888,
              "#fdca26"
             ],
             [
              1,
              "#f0f921"
             ]
            ],
            "type": "histogram2d"
           }
          ],
          "histogram2dcontour": [
           {
            "colorbar": {
             "outlinewidth": 0,
             "ticks": ""
            },
            "colorscale": [
             [
              0,
              "#0d0887"
             ],
             [
              0.1111111111111111,
              "#46039f"
             ],
             [
              0.2222222222222222,
              "#7201a8"
             ],
             [
              0.3333333333333333,
              "#9c179e"
             ],
             [
              0.4444444444444444,
              "#bd3786"
             ],
             [
              0.5555555555555556,
              "#d8576b"
             ],
             [
              0.6666666666666666,
              "#ed7953"
             ],
             [
              0.7777777777777778,
              "#fb9f3a"
             ],
             [
              0.8888888888888888,
              "#fdca26"
             ],
             [
              1,
              "#f0f921"
             ]
            ],
            "type": "histogram2dcontour"
           }
          ],
          "mesh3d": [
           {
            "colorbar": {
             "outlinewidth": 0,
             "ticks": ""
            },
            "type": "mesh3d"
           }
          ],
          "parcoords": [
           {
            "line": {
             "colorbar": {
              "outlinewidth": 0,
              "ticks": ""
             }
            },
            "type": "parcoords"
           }
          ],
          "pie": [
           {
            "automargin": true,
            "type": "pie"
           }
          ],
          "scatter": [
           {
            "marker": {
             "colorbar": {
              "outlinewidth": 0,
              "ticks": ""
             }
            },
            "type": "scatter"
           }
          ],
          "scatter3d": [
           {
            "line": {
             "colorbar": {
              "outlinewidth": 0,
              "ticks": ""
             }
            },
            "marker": {
             "colorbar": {
              "outlinewidth": 0,
              "ticks": ""
             }
            },
            "type": "scatter3d"
           }
          ],
          "scattercarpet": [
           {
            "marker": {
             "colorbar": {
              "outlinewidth": 0,
              "ticks": ""
             }
            },
            "type": "scattercarpet"
           }
          ],
          "scattergeo": [
           {
            "marker": {
             "colorbar": {
              "outlinewidth": 0,
              "ticks": ""
             }
            },
            "type": "scattergeo"
           }
          ],
          "scattergl": [
           {
            "marker": {
             "colorbar": {
              "outlinewidth": 0,
              "ticks": ""
             }
            },
            "type": "scattergl"
           }
          ],
          "scattermapbox": [
           {
            "marker": {
             "colorbar": {
              "outlinewidth": 0,
              "ticks": ""
             }
            },
            "type": "scattermapbox"
           }
          ],
          "scatterpolar": [
           {
            "marker": {
             "colorbar": {
              "outlinewidth": 0,
              "ticks": ""
             }
            },
            "type": "scatterpolar"
           }
          ],
          "scatterpolargl": [
           {
            "marker": {
             "colorbar": {
              "outlinewidth": 0,
              "ticks": ""
             }
            },
            "type": "scatterpolargl"
           }
          ],
          "scatterternary": [
           {
            "marker": {
             "colorbar": {
              "outlinewidth": 0,
              "ticks": ""
             }
            },
            "type": "scatterternary"
           }
          ],
          "surface": [
           {
            "colorbar": {
             "outlinewidth": 0,
             "ticks": ""
            },
            "colorscale": [
             [
              0,
              "#0d0887"
             ],
             [
              0.1111111111111111,
              "#46039f"
             ],
             [
              0.2222222222222222,
              "#7201a8"
             ],
             [
              0.3333333333333333,
              "#9c179e"
             ],
             [
              0.4444444444444444,
              "#bd3786"
             ],
             [
              0.5555555555555556,
              "#d8576b"
             ],
             [
              0.6666666666666666,
              "#ed7953"
             ],
             [
              0.7777777777777778,
              "#fb9f3a"
             ],
             [
              0.8888888888888888,
              "#fdca26"
             ],
             [
              1,
              "#f0f921"
             ]
            ],
            "type": "surface"
           }
          ],
          "table": [
           {
            "cells": {
             "fill": {
              "color": "#EBF0F8"
             },
             "line": {
              "color": "white"
             }
            },
            "header": {
             "fill": {
              "color": "#C8D4E3"
             },
             "line": {
              "color": "white"
             }
            },
            "type": "table"
           }
          ]
         },
         "layout": {
          "annotationdefaults": {
           "arrowcolor": "#2a3f5f",
           "arrowhead": 0,
           "arrowwidth": 1
          },
          "autotypenumbers": "strict",
          "coloraxis": {
           "colorbar": {
            "outlinewidth": 0,
            "ticks": ""
           }
          },
          "colorscale": {
           "diverging": [
            [
             0,
             "#8e0152"
            ],
            [
             0.1,
             "#c51b7d"
            ],
            [
             0.2,
             "#de77ae"
            ],
            [
             0.3,
             "#f1b6da"
            ],
            [
             0.4,
             "#fde0ef"
            ],
            [
             0.5,
             "#f7f7f7"
            ],
            [
             0.6,
             "#e6f5d0"
            ],
            [
             0.7,
             "#b8e186"
            ],
            [
             0.8,
             "#7fbc41"
            ],
            [
             0.9,
             "#4d9221"
            ],
            [
             1,
             "#276419"
            ]
           ],
           "sequential": [
            [
             0,
             "#0d0887"
            ],
            [
             0.1111111111111111,
             "#46039f"
            ],
            [
             0.2222222222222222,
             "#7201a8"
            ],
            [
             0.3333333333333333,
             "#9c179e"
            ],
            [
             0.4444444444444444,
             "#bd3786"
            ],
            [
             0.5555555555555556,
             "#d8576b"
            ],
            [
             0.6666666666666666,
             "#ed7953"
            ],
            [
             0.7777777777777778,
             "#fb9f3a"
            ],
            [
             0.8888888888888888,
             "#fdca26"
            ],
            [
             1,
             "#f0f921"
            ]
           ],
           "sequentialminus": [
            [
             0,
             "#0d0887"
            ],
            [
             0.1111111111111111,
             "#46039f"
            ],
            [
             0.2222222222222222,
             "#7201a8"
            ],
            [
             0.3333333333333333,
             "#9c179e"
            ],
            [
             0.4444444444444444,
             "#bd3786"
            ],
            [
             0.5555555555555556,
             "#d8576b"
            ],
            [
             0.6666666666666666,
             "#ed7953"
            ],
            [
             0.7777777777777778,
             "#fb9f3a"
            ],
            [
             0.8888888888888888,
             "#fdca26"
            ],
            [
             1,
             "#f0f921"
            ]
           ]
          },
          "colorway": [
           "#636efa",
           "#EF553B",
           "#00cc96",
           "#ab63fa",
           "#FFA15A",
           "#19d3f3",
           "#FF6692",
           "#B6E880",
           "#FF97FF",
           "#FECB52"
          ],
          "font": {
           "color": "#2a3f5f"
          },
          "geo": {
           "bgcolor": "white",
           "lakecolor": "white",
           "landcolor": "#E5ECF6",
           "showlakes": true,
           "showland": true,
           "subunitcolor": "white"
          },
          "hoverlabel": {
           "align": "left"
          },
          "hovermode": "closest",
          "mapbox": {
           "style": "light"
          },
          "paper_bgcolor": "white",
          "plot_bgcolor": "#E5ECF6",
          "polar": {
           "angularaxis": {
            "gridcolor": "white",
            "linecolor": "white",
            "ticks": ""
           },
           "bgcolor": "#E5ECF6",
           "radialaxis": {
            "gridcolor": "white",
            "linecolor": "white",
            "ticks": ""
           }
          },
          "scene": {
           "xaxis": {
            "backgroundcolor": "#E5ECF6",
            "gridcolor": "white",
            "gridwidth": 2,
            "linecolor": "white",
            "showbackground": true,
            "ticks": "",
            "zerolinecolor": "white"
           },
           "yaxis": {
            "backgroundcolor": "#E5ECF6",
            "gridcolor": "white",
            "gridwidth": 2,
            "linecolor": "white",
            "showbackground": true,
            "ticks": "",
            "zerolinecolor": "white"
           },
           "zaxis": {
            "backgroundcolor": "#E5ECF6",
            "gridcolor": "white",
            "gridwidth": 2,
            "linecolor": "white",
            "showbackground": true,
            "ticks": "",
            "zerolinecolor": "white"
           }
          },
          "shapedefaults": {
           "line": {
            "color": "#2a3f5f"
           }
          },
          "ternary": {
           "aaxis": {
            "gridcolor": "white",
            "linecolor": "white",
            "ticks": ""
           },
           "baxis": {
            "gridcolor": "white",
            "linecolor": "white",
            "ticks": ""
           },
           "bgcolor": "#E5ECF6",
           "caxis": {
            "gridcolor": "white",
            "linecolor": "white",
            "ticks": ""
           }
          },
          "title": {
           "x": 0.05
          },
          "xaxis": {
           "automargin": true,
           "gridcolor": "white",
           "linecolor": "white",
           "ticks": "",
           "title": {
            "standoff": 15
           },
           "zerolinecolor": "white",
           "zerolinewidth": 2
          },
          "yaxis": {
           "automargin": true,
           "gridcolor": "white",
           "linecolor": "white",
           "ticks": "",
           "title": {
            "standoff": 15
           },
           "zerolinecolor": "white",
           "zerolinewidth": 2
          }
         }
        },
        "title": {
         "text": "Coffee: Flavor"
        },
        "xaxis": {
         "anchor": "y",
         "domain": [
          0,
          1
         ],
         "title": {
          "text": "Flavor"
         }
        },
        "yaxis": {
         "anchor": "x",
         "domain": [
          0,
          1
         ],
         "title": {
          "text": "count"
         }
        }
       }
      }
     },
     "metadata": {},
     "output_type": "display_data"
    },
    {
     "data": {
      "application/vnd.plotly.v1+json": {
       "config": {
        "plotlyServerURL": "https://plot.ly"
       },
       "data": [
        {
         "alignmentgroup": "True",
         "bingroup": "x",
         "hovertemplate": "Aftertaste=%{x}<br>count=%{y}<extra></extra>",
         "legendgroup": "",
         "marker": {
          "color": "#636efa",
          "pattern": {
           "shape": ""
          }
         },
         "name": "",
         "offsetgroup": "",
         "orientation": "v",
         "showlegend": false,
         "type": "histogram",
         "x": [
          8.67,
          8.5,
          8.42,
          8.25,
          8.5,
          8.25,
          8.17,
          8.33,
          8.58,
          8.08,
          8,
          8.08,
          8,
          8.17,
          8.17,
          8,
          8.17,
          8,
          8,
          8,
          7.92,
          8,
          8,
          7.83,
          7.75,
          8,
          8,
          7.83,
          7.92,
          7.92,
          7.92,
          8,
          7.83,
          7.83,
          8,
          8,
          7.83,
          7.83,
          7.67,
          7.67,
          7.83,
          7.83,
          8,
          8,
          7.83,
          8,
          7.58,
          7.75,
          7.92,
          7.83,
          7.67,
          7.58,
          7.42,
          7.75,
          7.75,
          7.58,
          7.83,
          7.83,
          7.75,
          8,
          7.83,
          7.83,
          7.75,
          7.75,
          7.75,
          7.83,
          7.67,
          7.58,
          8,
          7.5,
          7.75,
          7.75,
          7.67,
          7.58,
          7.83,
          7.75,
          7.75,
          7.83,
          7.75,
          7.83,
          7.67,
          7.67,
          7.67,
          7.83,
          7.83,
          7.67,
          7.67,
          7.83,
          7.75,
          7.75,
          7.5,
          7.92,
          7.67,
          7.67,
          7.83,
          7.75,
          7.67,
          7.42,
          7.75,
          7.83,
          7.83,
          7.67,
          7.75,
          7.75,
          7.83,
          7.58,
          8,
          7.75,
          7.75,
          7.75,
          7.75,
          7.58,
          7.5,
          7.58,
          7.75,
          7.75,
          7.83,
          7.75,
          7.75,
          7.5,
          7.67,
          7.75,
          7.67,
          7.58,
          7.67,
          7.58,
          7.58,
          7.58,
          7.5,
          7.83,
          7.75,
          7.67,
          7.58,
          7.75,
          7.75,
          7.67,
          7.5,
          7.42,
          7.67,
          7.67,
          7.67,
          7.67,
          7.67,
          7.75,
          7.58,
          7.42,
          7.5,
          7.5,
          7.67,
          7.5,
          7.67,
          7.58,
          7.58,
          7.5,
          7.67,
          7.83,
          7.67,
          7.92,
          7.58,
          7.58,
          7.83,
          7.5,
          7.75,
          7.5,
          7.42,
          7.67,
          7.67,
          7.58,
          7.5,
          7.33,
          7.33,
          7.5,
          7.67,
          7.5,
          7.58,
          7.5,
          7.58,
          7.58,
          7.58,
          7.67,
          7.5,
          7.58,
          7.83,
          7.67,
          7.58,
          7.58,
          7.5,
          7.67,
          7.67,
          7.67,
          7.58,
          7.33,
          7.58,
          7.5,
          7.33,
          7.67,
          7.42,
          7.33,
          7.83,
          7.5,
          7.5,
          7.58,
          7.33,
          7.58,
          7.5,
          7.58,
          7.58,
          7.58,
          7.58,
          7.42,
          7.75,
          7.58,
          7.58,
          7.58,
          7.5,
          7.58,
          7.5,
          7.58,
          7.5,
          7.58,
          7.58,
          7.58,
          7.5,
          7.5,
          7.67,
          7.25,
          7.67,
          7.67,
          7.5,
          7.58,
          7.75,
          7.58,
          7.5,
          7.5,
          7.42,
          7.33,
          7.75,
          7.75,
          7.58,
          7.58,
          7.33,
          7.5,
          7.75,
          7.58,
          7.75,
          7.33,
          7.5,
          7.42,
          7.67,
          7.58,
          7.42,
          7.67,
          7.67,
          7.5,
          7.17,
          7.67,
          7.42,
          7.83,
          7.42,
          7.67,
          7.5,
          7.5,
          7.75,
          7.58,
          7.5,
          7.42,
          7.08,
          7.5,
          7.5,
          7.5,
          7.33,
          7.42,
          7.08,
          7.42,
          7.5,
          7.33,
          7.5,
          7.33,
          7.5,
          7.42,
          7.58,
          7.67,
          7.5,
          7.5,
          7.5,
          7.5,
          7.17,
          7.33,
          7.58,
          7.58,
          7.42,
          7.5,
          7.42,
          7.58,
          7.58,
          7.5,
          7.67,
          7.58,
          7.33,
          7.58,
          7.67,
          7.5,
          7.67,
          7.5,
          7.5,
          7.42,
          7.5,
          7.58,
          7.58,
          7.42,
          7.5,
          7.58,
          7.33,
          7.33,
          7.25,
          7.67,
          7.83,
          7.5,
          7.67,
          7.42,
          7.5,
          7.42,
          7.33,
          7.75,
          7.42,
          7.42,
          7.42,
          7.5,
          7.5,
          7.5,
          7.5,
          7.58,
          7.5,
          7.75,
          7.25,
          7.5,
          7.67,
          7.67,
          7.67,
          7.25,
          7.42,
          7.5,
          7.5,
          7.58,
          7.42,
          7.42,
          7.25,
          7.33,
          7.17,
          7.67,
          7.42,
          7.33,
          7.58,
          7.67,
          7.75,
          7.5,
          7.33,
          7.33,
          7.5,
          7.25,
          7.75,
          7.58,
          7.5,
          7.33,
          7.5,
          7.42,
          7.33,
          7.5,
          7.42,
          7.5,
          7.17,
          7.42,
          7.42,
          7.42,
          7.33,
          7.33,
          7.17,
          7.42,
          7.42,
          7.58,
          7.33,
          7.42,
          7.58,
          7.42,
          7.25,
          7.17,
          7.5,
          7.33,
          8,
          7.42,
          7.58,
          7.5,
          7.25,
          7.5,
          7.42,
          7.67,
          7.42,
          7.5,
          7.5,
          7.83,
          7.42,
          7.33,
          7.5,
          7.5,
          7.17,
          7.42,
          7.58,
          7.42,
          7.5,
          7.42,
          7.42,
          7.58,
          7.33,
          7.42,
          7.5,
          7.33,
          7.75,
          7.5,
          7.58,
          7.58,
          7.5,
          7.25,
          7.33,
          7.33,
          7.5,
          7.5,
          7.33,
          7.5,
          7.67,
          7.33,
          7.17,
          7.5,
          7.33,
          7.33,
          7.33,
          7.33,
          7.17,
          7.33,
          7.25,
          7.25,
          7.42,
          7.42,
          7.33,
          7.5,
          7.42,
          7.33,
          7.25,
          7.5,
          7.42,
          7.5,
          7.33,
          7.25,
          7.33,
          7.17,
          7.33,
          7.33,
          7.42,
          7.25,
          7.33,
          7.5,
          7.42,
          7.25,
          7.5,
          7.42,
          7.25,
          7.17,
          7.42,
          7.67,
          7.5,
          7.5,
          7.5,
          7.5,
          7.58,
          7.42,
          7.33,
          7.58,
          7.5,
          7.33,
          7.42,
          7.33,
          7.25,
          7.33,
          7.25,
          7.25,
          7.5,
          7.5,
          7.42,
          7.33,
          7.42,
          7.5,
          7.42,
          7.5,
          7.33,
          7.42,
          7.33,
          7.42,
          7.42,
          7.33,
          7.5,
          7.17,
          7.42,
          7.42,
          7.17,
          7.25,
          7.42,
          7.17,
          7.33,
          7.5,
          7.5,
          7,
          7,
          7.25,
          7.5,
          7.42,
          7.42,
          7.58,
          7.42,
          7.42,
          7.5,
          7.33,
          7.5,
          7.42,
          7.25,
          7.17,
          7.25,
          7.17,
          7.25,
          7.42,
          7.33,
          7.25,
          7.33,
          7.33,
          7.17,
          7.42,
          7.33,
          7.33,
          7.33,
          7.42,
          7.25,
          7.33,
          7.25,
          7.17,
          7.33,
          7.25,
          7.25,
          7.25,
          7.33,
          7.33,
          7.17,
          7.33,
          7.42,
          7.25,
          7.25,
          7.25,
          7.17,
          7.33,
          7.25,
          7.25,
          7.5,
          7.42,
          7.58,
          7.33,
          6.83,
          6.92,
          7.5,
          7.33,
          7.33,
          7.5,
          7.17,
          7.33,
          7.25,
          7.33,
          7.25,
          7,
          7.5,
          7.33,
          7.25,
          7.25,
          7.25,
          7.33,
          7.42,
          7.33,
          7.17,
          7.33,
          7.33,
          7.25,
          7.25,
          7.08,
          7.17,
          7.33,
          6.92,
          7.25,
          7.5,
          7.25,
          7.5,
          7.17,
          7.5,
          7.33,
          7.08,
          7.33,
          7.58,
          7.17,
          7.33,
          7.25,
          7.25,
          7.08,
          7.08,
          7.25,
          7.5,
          7.33,
          7.17,
          7.08,
          7.33,
          7.17,
          7.42,
          7.25,
          7.42,
          7.17,
          7.33,
          7.33,
          7.33,
          7.25,
          7.08,
          6.92,
          7.17,
          7.67,
          7.5,
          7.25,
          7.25,
          7.17,
          7.25,
          7.17,
          7.33,
          7.33,
          7.25,
          7.17,
          7.17,
          7.08,
          7.08,
          7.5,
          7.17,
          7.42,
          7.33,
          7.42,
          7.17,
          7.25,
          7.25,
          7.25,
          7.25,
          7.25,
          7,
          7.33,
          7.17,
          7.42,
          7.42,
          7.08,
          7.17,
          7.25,
          7.17,
          7.5,
          7.67,
          7.17,
          7.33,
          7.17,
          7.17,
          7.17,
          7.25,
          7.5,
          7.33,
          7.17,
          7.17,
          7.08,
          7.33,
          7,
          7.42,
          7.25,
          7.17,
          7.33,
          7.33,
          7.08,
          7.33,
          7.25,
          7.5,
          7.33,
          7.33,
          7.33,
          7.17,
          7.67,
          7.33,
          7.33,
          7.25,
          7.25,
          7.08,
          7.17,
          7,
          7.17,
          7.25,
          7.08,
          7.17,
          7.33,
          7.25,
          7.33,
          7.5,
          7.25,
          7.33,
          7.5,
          7.17,
          7,
          7.17,
          7.25,
          7.33,
          7.17,
          6.92,
          7.25,
          7.08,
          7.25,
          7.08,
          7.17,
          7.08,
          7.25,
          7.33,
          7.33,
          7,
          7,
          7.17,
          7,
          7.17,
          7.08,
          7.08,
          7.25,
          7.42,
          7.42,
          7,
          6.83,
          7.67,
          7.17,
          7.17,
          7,
          7.08,
          7.33,
          7,
          6.83,
          7.17,
          7.08,
          7,
          7.17,
          7.17,
          6.83,
          7.08,
          7,
          7.08,
          7.17,
          7.08,
          7.25,
          7.17,
          7.08,
          7.08,
          7,
          7.08,
          6.83,
          7.08,
          7.42,
          7,
          7,
          7,
          7.08,
          7,
          7.25,
          7.33,
          7.17,
          7.25,
          7.08,
          7,
          7,
          6.92,
          7.33,
          7.17,
          7,
          7.25,
          7.25,
          7.25,
          7.25,
          7.25,
          7,
          6.92,
          7,
          7.42,
          7.25,
          7.08,
          7.08,
          7,
          7.08,
          6.92,
          7,
          7.08,
          7,
          7.08,
          7,
          6.92,
          7.17,
          7,
          7.25,
          7.17,
          7.25,
          6.92,
          7.67,
          7,
          6.92,
          7,
          7.17,
          7,
          6.92,
          7.25,
          7,
          6.83,
          6.83,
          6.83,
          7,
          7.17,
          6.92,
          6.92,
          7,
          7.17,
          6.92,
          7,
          7.25,
          6.83,
          6.83,
          6.83,
          6.75,
          6.83,
          7.08,
          6.83,
          6.92,
          7.33,
          6.75,
          6.92,
          6.75,
          6.92,
          6.92,
          7.42,
          6.75,
          6.92,
          6.75,
          7.25,
          6.58,
          7,
          7.08,
          6.67,
          6.92,
          6.83,
          6.75,
          6.92,
          6.92,
          6.33,
          6.83,
          7.17,
          6.83,
          6.83,
          6.67,
          6.92,
          7.17,
          6.75,
          7.58,
          6.92,
          6.83,
          7,
          7,
          6.67,
          6.5,
          7,
          6.92,
          6.67,
          7.33,
          6.67,
          6.83,
          6.92,
          6.83,
          7,
          7.42,
          7,
          6.67,
          6.58,
          6.58,
          6.33,
          7.42,
          6.83,
          6.67,
          6.83,
          7,
          7.42,
          6.58,
          6.83,
          6.83,
          6.5,
          6.83,
          6.67,
          6.5,
          7.17,
          6.92,
          6.67,
          6.67,
          6.83,
          6.75,
          6.58,
          6.67,
          6.83,
          6.5,
          6.67,
          6.17,
          7.17,
          6.83,
          6.92,
          6.33,
          6.92,
          6.42,
          6.83,
          6.17,
          6.17,
          6.17,
          6.25,
          6.42,
          6.33,
          6.67
         ],
         "xaxis": "x",
         "yaxis": "y"
        }
       ],
       "layout": {
        "barmode": "relative",
        "legend": {
         "tracegroupgap": 0
        },
        "template": {
         "data": {
          "bar": [
           {
            "error_x": {
             "color": "#2a3f5f"
            },
            "error_y": {
             "color": "#2a3f5f"
            },
            "marker": {
             "line": {
              "color": "#E5ECF6",
              "width": 0.5
             },
             "pattern": {
              "fillmode": "overlay",
              "size": 10,
              "solidity": 0.2
             }
            },
            "type": "bar"
           }
          ],
          "barpolar": [
           {
            "marker": {
             "line": {
              "color": "#E5ECF6",
              "width": 0.5
             },
             "pattern": {
              "fillmode": "overlay",
              "size": 10,
              "solidity": 0.2
             }
            },
            "type": "barpolar"
           }
          ],
          "carpet": [
           {
            "aaxis": {
             "endlinecolor": "#2a3f5f",
             "gridcolor": "white",
             "linecolor": "white",
             "minorgridcolor": "white",
             "startlinecolor": "#2a3f5f"
            },
            "baxis": {
             "endlinecolor": "#2a3f5f",
             "gridcolor": "white",
             "linecolor": "white",
             "minorgridcolor": "white",
             "startlinecolor": "#2a3f5f"
            },
            "type": "carpet"
           }
          ],
          "choropleth": [
           {
            "colorbar": {
             "outlinewidth": 0,
             "ticks": ""
            },
            "type": "choropleth"
           }
          ],
          "contour": [
           {
            "colorbar": {
             "outlinewidth": 0,
             "ticks": ""
            },
            "colorscale": [
             [
              0,
              "#0d0887"
             ],
             [
              0.1111111111111111,
              "#46039f"
             ],
             [
              0.2222222222222222,
              "#7201a8"
             ],
             [
              0.3333333333333333,
              "#9c179e"
             ],
             [
              0.4444444444444444,
              "#bd3786"
             ],
             [
              0.5555555555555556,
              "#d8576b"
             ],
             [
              0.6666666666666666,
              "#ed7953"
             ],
             [
              0.7777777777777778,
              "#fb9f3a"
             ],
             [
              0.8888888888888888,
              "#fdca26"
             ],
             [
              1,
              "#f0f921"
             ]
            ],
            "type": "contour"
           }
          ],
          "contourcarpet": [
           {
            "colorbar": {
             "outlinewidth": 0,
             "ticks": ""
            },
            "type": "contourcarpet"
           }
          ],
          "heatmap": [
           {
            "colorbar": {
             "outlinewidth": 0,
             "ticks": ""
            },
            "colorscale": [
             [
              0,
              "#0d0887"
             ],
             [
              0.1111111111111111,
              "#46039f"
             ],
             [
              0.2222222222222222,
              "#7201a8"
             ],
             [
              0.3333333333333333,
              "#9c179e"
             ],
             [
              0.4444444444444444,
              "#bd3786"
             ],
             [
              0.5555555555555556,
              "#d8576b"
             ],
             [
              0.6666666666666666,
              "#ed7953"
             ],
             [
              0.7777777777777778,
              "#fb9f3a"
             ],
             [
              0.8888888888888888,
              "#fdca26"
             ],
             [
              1,
              "#f0f921"
             ]
            ],
            "type": "heatmap"
           }
          ],
          "heatmapgl": [
           {
            "colorbar": {
             "outlinewidth": 0,
             "ticks": ""
            },
            "colorscale": [
             [
              0,
              "#0d0887"
             ],
             [
              0.1111111111111111,
              "#46039f"
             ],
             [
              0.2222222222222222,
              "#7201a8"
             ],
             [
              0.3333333333333333,
              "#9c179e"
             ],
             [
              0.4444444444444444,
              "#bd3786"
             ],
             [
              0.5555555555555556,
              "#d8576b"
             ],
             [
              0.6666666666666666,
              "#ed7953"
             ],
             [
              0.7777777777777778,
              "#fb9f3a"
             ],
             [
              0.8888888888888888,
              "#fdca26"
             ],
             [
              1,
              "#f0f921"
             ]
            ],
            "type": "heatmapgl"
           }
          ],
          "histogram": [
           {
            "marker": {
             "pattern": {
              "fillmode": "overlay",
              "size": 10,
              "solidity": 0.2
             }
            },
            "type": "histogram"
           }
          ],
          "histogram2d": [
           {
            "colorbar": {
             "outlinewidth": 0,
             "ticks": ""
            },
            "colorscale": [
             [
              0,
              "#0d0887"
             ],
             [
              0.1111111111111111,
              "#46039f"
             ],
             [
              0.2222222222222222,
              "#7201a8"
             ],
             [
              0.3333333333333333,
              "#9c179e"
             ],
             [
              0.4444444444444444,
              "#bd3786"
             ],
             [
              0.5555555555555556,
              "#d8576b"
             ],
             [
              0.6666666666666666,
              "#ed7953"
             ],
             [
              0.7777777777777778,
              "#fb9f3a"
             ],
             [
              0.8888888888888888,
              "#fdca26"
             ],
             [
              1,
              "#f0f921"
             ]
            ],
            "type": "histogram2d"
           }
          ],
          "histogram2dcontour": [
           {
            "colorbar": {
             "outlinewidth": 0,
             "ticks": ""
            },
            "colorscale": [
             [
              0,
              "#0d0887"
             ],
             [
              0.1111111111111111,
              "#46039f"
             ],
             [
              0.2222222222222222,
              "#7201a8"
             ],
             [
              0.3333333333333333,
              "#9c179e"
             ],
             [
              0.4444444444444444,
              "#bd3786"
             ],
             [
              0.5555555555555556,
              "#d8576b"
             ],
             [
              0.6666666666666666,
              "#ed7953"
             ],
             [
              0.7777777777777778,
              "#fb9f3a"
             ],
             [
              0.8888888888888888,
              "#fdca26"
             ],
             [
              1,
              "#f0f921"
             ]
            ],
            "type": "histogram2dcontour"
           }
          ],
          "mesh3d": [
           {
            "colorbar": {
             "outlinewidth": 0,
             "ticks": ""
            },
            "type": "mesh3d"
           }
          ],
          "parcoords": [
           {
            "line": {
             "colorbar": {
              "outlinewidth": 0,
              "ticks": ""
             }
            },
            "type": "parcoords"
           }
          ],
          "pie": [
           {
            "automargin": true,
            "type": "pie"
           }
          ],
          "scatter": [
           {
            "marker": {
             "colorbar": {
              "outlinewidth": 0,
              "ticks": ""
             }
            },
            "type": "scatter"
           }
          ],
          "scatter3d": [
           {
            "line": {
             "colorbar": {
              "outlinewidth": 0,
              "ticks": ""
             }
            },
            "marker": {
             "colorbar": {
              "outlinewidth": 0,
              "ticks": ""
             }
            },
            "type": "scatter3d"
           }
          ],
          "scattercarpet": [
           {
            "marker": {
             "colorbar": {
              "outlinewidth": 0,
              "ticks": ""
             }
            },
            "type": "scattercarpet"
           }
          ],
          "scattergeo": [
           {
            "marker": {
             "colorbar": {
              "outlinewidth": 0,
              "ticks": ""
             }
            },
            "type": "scattergeo"
           }
          ],
          "scattergl": [
           {
            "marker": {
             "colorbar": {
              "outlinewidth": 0,
              "ticks": ""
             }
            },
            "type": "scattergl"
           }
          ],
          "scattermapbox": [
           {
            "marker": {
             "colorbar": {
              "outlinewidth": 0,
              "ticks": ""
             }
            },
            "type": "scattermapbox"
           }
          ],
          "scatterpolar": [
           {
            "marker": {
             "colorbar": {
              "outlinewidth": 0,
              "ticks": ""
             }
            },
            "type": "scatterpolar"
           }
          ],
          "scatterpolargl": [
           {
            "marker": {
             "colorbar": {
              "outlinewidth": 0,
              "ticks": ""
             }
            },
            "type": "scatterpolargl"
           }
          ],
          "scatterternary": [
           {
            "marker": {
             "colorbar": {
              "outlinewidth": 0,
              "ticks": ""
             }
            },
            "type": "scatterternary"
           }
          ],
          "surface": [
           {
            "colorbar": {
             "outlinewidth": 0,
             "ticks": ""
            },
            "colorscale": [
             [
              0,
              "#0d0887"
             ],
             [
              0.1111111111111111,
              "#46039f"
             ],
             [
              0.2222222222222222,
              "#7201a8"
             ],
             [
              0.3333333333333333,
              "#9c179e"
             ],
             [
              0.4444444444444444,
              "#bd3786"
             ],
             [
              0.5555555555555556,
              "#d8576b"
             ],
             [
              0.6666666666666666,
              "#ed7953"
             ],
             [
              0.7777777777777778,
              "#fb9f3a"
             ],
             [
              0.8888888888888888,
              "#fdca26"
             ],
             [
              1,
              "#f0f921"
             ]
            ],
            "type": "surface"
           }
          ],
          "table": [
           {
            "cells": {
             "fill": {
              "color": "#EBF0F8"
             },
             "line": {
              "color": "white"
             }
            },
            "header": {
             "fill": {
              "color": "#C8D4E3"
             },
             "line": {
              "color": "white"
             }
            },
            "type": "table"
           }
          ]
         },
         "layout": {
          "annotationdefaults": {
           "arrowcolor": "#2a3f5f",
           "arrowhead": 0,
           "arrowwidth": 1
          },
          "autotypenumbers": "strict",
          "coloraxis": {
           "colorbar": {
            "outlinewidth": 0,
            "ticks": ""
           }
          },
          "colorscale": {
           "diverging": [
            [
             0,
             "#8e0152"
            ],
            [
             0.1,
             "#c51b7d"
            ],
            [
             0.2,
             "#de77ae"
            ],
            [
             0.3,
             "#f1b6da"
            ],
            [
             0.4,
             "#fde0ef"
            ],
            [
             0.5,
             "#f7f7f7"
            ],
            [
             0.6,
             "#e6f5d0"
            ],
            [
             0.7,
             "#b8e186"
            ],
            [
             0.8,
             "#7fbc41"
            ],
            [
             0.9,
             "#4d9221"
            ],
            [
             1,
             "#276419"
            ]
           ],
           "sequential": [
            [
             0,
             "#0d0887"
            ],
            [
             0.1111111111111111,
             "#46039f"
            ],
            [
             0.2222222222222222,
             "#7201a8"
            ],
            [
             0.3333333333333333,
             "#9c179e"
            ],
            [
             0.4444444444444444,
             "#bd3786"
            ],
            [
             0.5555555555555556,
             "#d8576b"
            ],
            [
             0.6666666666666666,
             "#ed7953"
            ],
            [
             0.7777777777777778,
             "#fb9f3a"
            ],
            [
             0.8888888888888888,
             "#fdca26"
            ],
            [
             1,
             "#f0f921"
            ]
           ],
           "sequentialminus": [
            [
             0,
             "#0d0887"
            ],
            [
             0.1111111111111111,
             "#46039f"
            ],
            [
             0.2222222222222222,
             "#7201a8"
            ],
            [
             0.3333333333333333,
             "#9c179e"
            ],
            [
             0.4444444444444444,
             "#bd3786"
            ],
            [
             0.5555555555555556,
             "#d8576b"
            ],
            [
             0.6666666666666666,
             "#ed7953"
            ],
            [
             0.7777777777777778,
             "#fb9f3a"
            ],
            [
             0.8888888888888888,
             "#fdca26"
            ],
            [
             1,
             "#f0f921"
            ]
           ]
          },
          "colorway": [
           "#636efa",
           "#EF553B",
           "#00cc96",
           "#ab63fa",
           "#FFA15A",
           "#19d3f3",
           "#FF6692",
           "#B6E880",
           "#FF97FF",
           "#FECB52"
          ],
          "font": {
           "color": "#2a3f5f"
          },
          "geo": {
           "bgcolor": "white",
           "lakecolor": "white",
           "landcolor": "#E5ECF6",
           "showlakes": true,
           "showland": true,
           "subunitcolor": "white"
          },
          "hoverlabel": {
           "align": "left"
          },
          "hovermode": "closest",
          "mapbox": {
           "style": "light"
          },
          "paper_bgcolor": "white",
          "plot_bgcolor": "#E5ECF6",
          "polar": {
           "angularaxis": {
            "gridcolor": "white",
            "linecolor": "white",
            "ticks": ""
           },
           "bgcolor": "#E5ECF6",
           "radialaxis": {
            "gridcolor": "white",
            "linecolor": "white",
            "ticks": ""
           }
          },
          "scene": {
           "xaxis": {
            "backgroundcolor": "#E5ECF6",
            "gridcolor": "white",
            "gridwidth": 2,
            "linecolor": "white",
            "showbackground": true,
            "ticks": "",
            "zerolinecolor": "white"
           },
           "yaxis": {
            "backgroundcolor": "#E5ECF6",
            "gridcolor": "white",
            "gridwidth": 2,
            "linecolor": "white",
            "showbackground": true,
            "ticks": "",
            "zerolinecolor": "white"
           },
           "zaxis": {
            "backgroundcolor": "#E5ECF6",
            "gridcolor": "white",
            "gridwidth": 2,
            "linecolor": "white",
            "showbackground": true,
            "ticks": "",
            "zerolinecolor": "white"
           }
          },
          "shapedefaults": {
           "line": {
            "color": "#2a3f5f"
           }
          },
          "ternary": {
           "aaxis": {
            "gridcolor": "white",
            "linecolor": "white",
            "ticks": ""
           },
           "baxis": {
            "gridcolor": "white",
            "linecolor": "white",
            "ticks": ""
           },
           "bgcolor": "#E5ECF6",
           "caxis": {
            "gridcolor": "white",
            "linecolor": "white",
            "ticks": ""
           }
          },
          "title": {
           "x": 0.05
          },
          "xaxis": {
           "automargin": true,
           "gridcolor": "white",
           "linecolor": "white",
           "ticks": "",
           "title": {
            "standoff": 15
           },
           "zerolinecolor": "white",
           "zerolinewidth": 2
          },
          "yaxis": {
           "automargin": true,
           "gridcolor": "white",
           "linecolor": "white",
           "ticks": "",
           "title": {
            "standoff": 15
           },
           "zerolinecolor": "white",
           "zerolinewidth": 2
          }
         }
        },
        "title": {
         "text": "Coffee: Aftertaste"
        },
        "xaxis": {
         "anchor": "y",
         "domain": [
          0,
          1
         ],
         "title": {
          "text": "Aftertaste"
         }
        },
        "yaxis": {
         "anchor": "x",
         "domain": [
          0,
          1
         ],
         "title": {
          "text": "count"
         }
        }
       }
      }
     },
     "metadata": {},
     "output_type": "display_data"
    },
    {
     "data": {
      "application/vnd.plotly.v1+json": {
       "config": {
        "plotlyServerURL": "https://plot.ly"
       },
       "data": [
        {
         "alignmentgroup": "True",
         "bingroup": "x",
         "hovertemplate": "Acidity=%{x}<br>count=%{y}<extra></extra>",
         "legendgroup": "",
         "marker": {
          "color": "#636efa",
          "pattern": {
           "shape": ""
          }
         },
         "name": "",
         "offsetgroup": "",
         "orientation": "v",
         "showlegend": false,
         "type": "histogram",
         "x": [
          8.75,
          8.58,
          8.42,
          8.5,
          8.5,
          8.5,
          8.33,
          8.42,
          8.17,
          8.17,
          8.17,
          8.5,
          8.17,
          8,
          8.17,
          8,
          8.17,
          8.25,
          7.75,
          8.08,
          8,
          8.25,
          8,
          8.25,
          8.08,
          8,
          8,
          8.08,
          8.08,
          8.08,
          8.08,
          8.17,
          8.33,
          8.33,
          7.92,
          7.75,
          7.83,
          7.92,
          7.92,
          8.33,
          8.17,
          7.67,
          7.67,
          7.83,
          7.67,
          7.92,
          7.67,
          8.08,
          8.08,
          8,
          7.92,
          8.08,
          8,
          7.75,
          7.75,
          7.92,
          7.75,
          7.83,
          7.83,
          7.58,
          7.92,
          7.75,
          7.83,
          7.75,
          8,
          7.83,
          7.67,
          7.92,
          7.67,
          8,
          7.75,
          7.42,
          7.83,
          8,
          7.17,
          7.83,
          7.75,
          7.75,
          7.75,
          8,
          7.83,
          8,
          7.92,
          7.75,
          7.75,
          7.92,
          7.58,
          7.75,
          7.75,
          7.75,
          7.75,
          7.75,
          7.75,
          7.83,
          7.83,
          7.83,
          7.83,
          8.08,
          7.75,
          8,
          7.58,
          7.92,
          8,
          7.67,
          7.75,
          7.75,
          7.67,
          7.83,
          7.67,
          7.42,
          7.58,
          7.92,
          8.08,
          7.75,
          7.75,
          7.58,
          7.75,
          7.83,
          7.75,
          7.92,
          7.83,
          7.67,
          7.75,
          7.83,
          7.67,
          8,
          7.92,
          7.83,
          7.67,
          7.5,
          7.67,
          7.75,
          7.83,
          7.75,
          7.67,
          7.67,
          7.17,
          7.5,
          7.67,
          7.75,
          8,
          7.75,
          7.75,
          7.92,
          7.92,
          7.92,
          7.83,
          7.5,
          7.25,
          7.75,
          7.75,
          7.5,
          7.92,
          7.67,
          7.75,
          7.75,
          7.83,
          7.92,
          7.67,
          7.83,
          7.92,
          7.83,
          7.67,
          7.75,
          8,
          7.75,
          7.67,
          7.5,
          7.83,
          8,
          7.67,
          7.83,
          7.42,
          7.75,
          7.67,
          7.58,
          7.75,
          7.58,
          7.58,
          7.5,
          7.67,
          7.75,
          7.67,
          7.92,
          7.5,
          7.67,
          7.67,
          7.58,
          7.67,
          7.67,
          7.75,
          7.92,
          7.83,
          7.75,
          8,
          7.67,
          7.67,
          7.67,
          7.67,
          7.42,
          7.33,
          7.58,
          8,
          7.58,
          7.83,
          7.58,
          7.67,
          7.58,
          7.67,
          7.75,
          7.75,
          7.67,
          7.58,
          7.58,
          7.75,
          7.75,
          7.67,
          7.5,
          7.83,
          7.58,
          7.67,
          7.92,
          7.58,
          7.83,
          7.5,
          7.5,
          7.75,
          7.75,
          8,
          7.67,
          7.5,
          7.5,
          7.58,
          7.67,
          7.92,
          7.75,
          7.5,
          7.58,
          7.67,
          7.67,
          7.83,
          7.83,
          7.42,
          7.5,
          7.58,
          7.58,
          7.67,
          7.83,
          7.58,
          7.67,
          7.67,
          7.5,
          7.5,
          7.67,
          7.67,
          7.58,
          7.83,
          7.5,
          7.83,
          7.17,
          7.58,
          7.5,
          7.58,
          7.67,
          7.5,
          7.92,
          7.83,
          7.58,
          7.5,
          7.58,
          7.67,
          7.67,
          7.33,
          7.75,
          7.67,
          7.67,
          7.67,
          7.67,
          7.83,
          7.75,
          7.75,
          7.58,
          7.67,
          7.42,
          7.67,
          7.67,
          8.17,
          7.67,
          7.58,
          7.5,
          7.67,
          7.5,
          7.75,
          7.58,
          7.5,
          7.58,
          7.5,
          7.5,
          7.67,
          7.5,
          7.33,
          7.83,
          7.42,
          7.67,
          7.5,
          7.75,
          7.75,
          7.67,
          7.67,
          7.42,
          7.58,
          7.58,
          7.92,
          7.75,
          7.67,
          7.5,
          7.58,
          7.5,
          7.83,
          7.83,
          7.58,
          7.67,
          7.5,
          7.42,
          7.67,
          7.58,
          7.5,
          7.58,
          7.5,
          7.67,
          7.67,
          7.5,
          7.58,
          7.58,
          7.67,
          7.5,
          7.33,
          7.58,
          7.42,
          7.58,
          7.42,
          7.83,
          7.58,
          7.5,
          7.58,
          7.5,
          7.92,
          7.25,
          7.58,
          7.17,
          7.58,
          7.67,
          7.5,
          7.83,
          7.83,
          7.42,
          7.67,
          7.67,
          7.58,
          7.5,
          7.67,
          7.5,
          7.42,
          7.25,
          7.58,
          7.75,
          7.5,
          7.42,
          7.67,
          7.58,
          7.67,
          7.58,
          7.67,
          7.58,
          7.58,
          7.67,
          7.33,
          7.67,
          7.58,
          7.5,
          7.33,
          7.67,
          7.75,
          7.5,
          7.75,
          7.33,
          7.5,
          7.75,
          8,
          7.67,
          7.58,
          7.58,
          7.75,
          7.67,
          7.42,
          7.67,
          7.67,
          7.5,
          7.58,
          7.42,
          7.5,
          7.67,
          7.5,
          7.67,
          7.67,
          7.58,
          7.58,
          7.75,
          7.42,
          7.33,
          7.67,
          7.42,
          7.5,
          7.58,
          7.67,
          7.42,
          7.25,
          7.5,
          7.75,
          7.42,
          7.5,
          7.5,
          7.5,
          7.5,
          7.75,
          7.5,
          7.58,
          7.67,
          7.33,
          7.67,
          7.33,
          7.5,
          7.67,
          7.58,
          7.67,
          7.5,
          7.58,
          7.75,
          7.67,
          7.67,
          7.5,
          7.42,
          7.5,
          7.67,
          7.58,
          7.5,
          7.5,
          7.92,
          7.67,
          7.42,
          7.58,
          7.58,
          7.5,
          7.5,
          7.58,
          7.42,
          7.67,
          7.42,
          7.5,
          7.33,
          7.5,
          7.25,
          7.5,
          7.5,
          8.33,
          7.83,
          7.58,
          8.08,
          7.58,
          7.17,
          7.5,
          7.5,
          7.5,
          7.5,
          7.67,
          7.33,
          7.58,
          7.5,
          7.5,
          7.33,
          7.58,
          7.25,
          7.42,
          7.67,
          7.08,
          7.67,
          7.58,
          7.42,
          7.42,
          7.5,
          7.42,
          7.17,
          7.58,
          7.67,
          7.5,
          7.67,
          7.58,
          7.33,
          7.42,
          7.42,
          7.33,
          7.33,
          7.75,
          7.42,
          7.58,
          7.42,
          7.42,
          7.5,
          7.17,
          7.5,
          7.75,
          7.5,
          7.5,
          7.42,
          7.5,
          7.58,
          7.25,
          7.42,
          7.33,
          7.33,
          7.33,
          7.5,
          7.58,
          7.08,
          7.75,
          7.5,
          7.33,
          7.5,
          7.42,
          7.33,
          7.58,
          7.58,
          7.42,
          7.42,
          7.33,
          7.5,
          7.42,
          7.17,
          7.5,
          7.5,
          7.5,
          7.5,
          7.42,
          7.58,
          7.42,
          7.33,
          7.5,
          7.5,
          7.83,
          7.42,
          7.25,
          7.58,
          7.25,
          7.5,
          7.58,
          7.83,
          7.5,
          7.5,
          7.33,
          7.5,
          7.75,
          7.42,
          7.5,
          6.92,
          7.42,
          7.5,
          7.5,
          7.25,
          7.25,
          7.33,
          7.17,
          7.33,
          7.5,
          7.42,
          7.42,
          7.33,
          7.58,
          7.5,
          7.42,
          7.5,
          7.42,
          7.42,
          7.67,
          7.58,
          7.67,
          7.33,
          7.5,
          7.42,
          7.67,
          7.33,
          7.42,
          7.42,
          7.25,
          7.5,
          7.5,
          7.17,
          7.25,
          7.42,
          7.58,
          7.33,
          7.67,
          7.75,
          7.42,
          7.58,
          7.17,
          7.42,
          7.5,
          7.67,
          7.17,
          7.42,
          7.58,
          7.08,
          7.33,
          7.58,
          7.5,
          7.5,
          7.58,
          7.42,
          7.33,
          7.42,
          7.08,
          7.5,
          7.08,
          7.5,
          7.58,
          7.33,
          7.67,
          7.42,
          7.25,
          7.42,
          7.42,
          7.42,
          7.33,
          7.17,
          7.5,
          7.33,
          7.42,
          7.33,
          7.58,
          7.33,
          7.25,
          7.17,
          7.42,
          7.17,
          7.42,
          7.17,
          7.42,
          7.17,
          7.25,
          7.17,
          7.17,
          7.33,
          7.42,
          7.25,
          7.33,
          7.33,
          7.33,
          7.33,
          7.42,
          7.5,
          7.83,
          7.08,
          7.17,
          7.5,
          7.25,
          7.5,
          7.25,
          7.58,
          7.33,
          7.17,
          7.33,
          7.25,
          7.17,
          7.42,
          7.17,
          7.08,
          7.33,
          7.08,
          7.25,
          7.75,
          7.25,
          7.42,
          7.25,
          7.42,
          7.42,
          7.25,
          7.25,
          7.58,
          7.33,
          7.42,
          7.42,
          7.42,
          7.33,
          7.5,
          7.25,
          7.25,
          7.33,
          7.42,
          7.33,
          7.33,
          7.42,
          7.33,
          7.67,
          7.33,
          7.58,
          7.5,
          7.42,
          7.58,
          7.25,
          7.25,
          7.08,
          7.25,
          7.5,
          7.25,
          7.08,
          7.25,
          7.5,
          7.17,
          7.33,
          7.42,
          7.33,
          7.25,
          7.58,
          7.42,
          7.25,
          7.42,
          7.33,
          7.42,
          7.5,
          7.25,
          7.25,
          7.25,
          7.67,
          7.17,
          7.67,
          7.17,
          7.25,
          7.5,
          7.33,
          7,
          7.42,
          7.5,
          7.42,
          7.17,
          7.17,
          7.5,
          7.42,
          7.5,
          7.33,
          7.67,
          7.33,
          7.17,
          7.08,
          7.17,
          7.25,
          7.5,
          7.33,
          7.25,
          7.25,
          7.5,
          7.33,
          7.08,
          7,
          7.33,
          7.33,
          7,
          7.25,
          7.25,
          7.33,
          7.25,
          7.58,
          7.33,
          7.17,
          7.17,
          7.42,
          7.5,
          7.08,
          7.33,
          7.17,
          7.25,
          7,
          7.08,
          7.08,
          7.17,
          7.08,
          7.42,
          7.5,
          7,
          7.42,
          7.17,
          7.33,
          7.33,
          7.25,
          7.17,
          7.08,
          7.42,
          7.58,
          7.17,
          7.33,
          6.92,
          7.25,
          7.58,
          7.33,
          7,
          7.5,
          7.75,
          7,
          7.58,
          7.17,
          7.08,
          7.08,
          7.08,
          7.58,
          6.83,
          7.42,
          7.08,
          7.58,
          6.75,
          7.17,
          7.33,
          7.33,
          7.42,
          7,
          7.25,
          7.25,
          7.58,
          7,
          7.42,
          7,
          7.25,
          7.33,
          7.17,
          7.25,
          7.17,
          7.42,
          6.92,
          7.42,
          7.25,
          7.08,
          7.08,
          7.42,
          7.33,
          7.25,
          7.33,
          7.17,
          7.42,
          7,
          7.25,
          7.25,
          7.5,
          7.25,
          7.08,
          7.08,
          7,
          7.25,
          7,
          7.25,
          7.33,
          7.17,
          7.25,
          7.58,
          7.25,
          7.33,
          7.92,
          6.92,
          7,
          6.83,
          7.17,
          7,
          7.17,
          7.5,
          6.92,
          7.25,
          7.17,
          7,
          7.33,
          7.08,
          7.17,
          7,
          7,
          7,
          7.17,
          7.33,
          6.75,
          7,
          7.58,
          7.17,
          7,
          6.75,
          7.25,
          7.67,
          7,
          7.5,
          7.08,
          6.08,
          7.17,
          6.83,
          6.92,
          7.58,
          7,
          6.83,
          7.08,
          7.17,
          6.92,
          7,
          7.25,
          7.5,
          7.5,
          6.83,
          7.33,
          7.58,
          7.17,
          7.08,
          6.83,
          6.92,
          7.17,
          6.92,
          6.67,
          6.67,
          6.5,
          7.42,
          6.67,
          6.25,
          7.67
         ],
         "xaxis": "x",
         "yaxis": "y"
        }
       ],
       "layout": {
        "barmode": "relative",
        "legend": {
         "tracegroupgap": 0
        },
        "template": {
         "data": {
          "bar": [
           {
            "error_x": {
             "color": "#2a3f5f"
            },
            "error_y": {
             "color": "#2a3f5f"
            },
            "marker": {
             "line": {
              "color": "#E5ECF6",
              "width": 0.5
             },
             "pattern": {
              "fillmode": "overlay",
              "size": 10,
              "solidity": 0.2
             }
            },
            "type": "bar"
           }
          ],
          "barpolar": [
           {
            "marker": {
             "line": {
              "color": "#E5ECF6",
              "width": 0.5
             },
             "pattern": {
              "fillmode": "overlay",
              "size": 10,
              "solidity": 0.2
             }
            },
            "type": "barpolar"
           }
          ],
          "carpet": [
           {
            "aaxis": {
             "endlinecolor": "#2a3f5f",
             "gridcolor": "white",
             "linecolor": "white",
             "minorgridcolor": "white",
             "startlinecolor": "#2a3f5f"
            },
            "baxis": {
             "endlinecolor": "#2a3f5f",
             "gridcolor": "white",
             "linecolor": "white",
             "minorgridcolor": "white",
             "startlinecolor": "#2a3f5f"
            },
            "type": "carpet"
           }
          ],
          "choropleth": [
           {
            "colorbar": {
             "outlinewidth": 0,
             "ticks": ""
            },
            "type": "choropleth"
           }
          ],
          "contour": [
           {
            "colorbar": {
             "outlinewidth": 0,
             "ticks": ""
            },
            "colorscale": [
             [
              0,
              "#0d0887"
             ],
             [
              0.1111111111111111,
              "#46039f"
             ],
             [
              0.2222222222222222,
              "#7201a8"
             ],
             [
              0.3333333333333333,
              "#9c179e"
             ],
             [
              0.4444444444444444,
              "#bd3786"
             ],
             [
              0.5555555555555556,
              "#d8576b"
             ],
             [
              0.6666666666666666,
              "#ed7953"
             ],
             [
              0.7777777777777778,
              "#fb9f3a"
             ],
             [
              0.8888888888888888,
              "#fdca26"
             ],
             [
              1,
              "#f0f921"
             ]
            ],
            "type": "contour"
           }
          ],
          "contourcarpet": [
           {
            "colorbar": {
             "outlinewidth": 0,
             "ticks": ""
            },
            "type": "contourcarpet"
           }
          ],
          "heatmap": [
           {
            "colorbar": {
             "outlinewidth": 0,
             "ticks": ""
            },
            "colorscale": [
             [
              0,
              "#0d0887"
             ],
             [
              0.1111111111111111,
              "#46039f"
             ],
             [
              0.2222222222222222,
              "#7201a8"
             ],
             [
              0.3333333333333333,
              "#9c179e"
             ],
             [
              0.4444444444444444,
              "#bd3786"
             ],
             [
              0.5555555555555556,
              "#d8576b"
             ],
             [
              0.6666666666666666,
              "#ed7953"
             ],
             [
              0.7777777777777778,
              "#fb9f3a"
             ],
             [
              0.8888888888888888,
              "#fdca26"
             ],
             [
              1,
              "#f0f921"
             ]
            ],
            "type": "heatmap"
           }
          ],
          "heatmapgl": [
           {
            "colorbar": {
             "outlinewidth": 0,
             "ticks": ""
            },
            "colorscale": [
             [
              0,
              "#0d0887"
             ],
             [
              0.1111111111111111,
              "#46039f"
             ],
             [
              0.2222222222222222,
              "#7201a8"
             ],
             [
              0.3333333333333333,
              "#9c179e"
             ],
             [
              0.4444444444444444,
              "#bd3786"
             ],
             [
              0.5555555555555556,
              "#d8576b"
             ],
             [
              0.6666666666666666,
              "#ed7953"
             ],
             [
              0.7777777777777778,
              "#fb9f3a"
             ],
             [
              0.8888888888888888,
              "#fdca26"
             ],
             [
              1,
              "#f0f921"
             ]
            ],
            "type": "heatmapgl"
           }
          ],
          "histogram": [
           {
            "marker": {
             "pattern": {
              "fillmode": "overlay",
              "size": 10,
              "solidity": 0.2
             }
            },
            "type": "histogram"
           }
          ],
          "histogram2d": [
           {
            "colorbar": {
             "outlinewidth": 0,
             "ticks": ""
            },
            "colorscale": [
             [
              0,
              "#0d0887"
             ],
             [
              0.1111111111111111,
              "#46039f"
             ],
             [
              0.2222222222222222,
              "#7201a8"
             ],
             [
              0.3333333333333333,
              "#9c179e"
             ],
             [
              0.4444444444444444,
              "#bd3786"
             ],
             [
              0.5555555555555556,
              "#d8576b"
             ],
             [
              0.6666666666666666,
              "#ed7953"
             ],
             [
              0.7777777777777778,
              "#fb9f3a"
             ],
             [
              0.8888888888888888,
              "#fdca26"
             ],
             [
              1,
              "#f0f921"
             ]
            ],
            "type": "histogram2d"
           }
          ],
          "histogram2dcontour": [
           {
            "colorbar": {
             "outlinewidth": 0,
             "ticks": ""
            },
            "colorscale": [
             [
              0,
              "#0d0887"
             ],
             [
              0.1111111111111111,
              "#46039f"
             ],
             [
              0.2222222222222222,
              "#7201a8"
             ],
             [
              0.3333333333333333,
              "#9c179e"
             ],
             [
              0.4444444444444444,
              "#bd3786"
             ],
             [
              0.5555555555555556,
              "#d8576b"
             ],
             [
              0.6666666666666666,
              "#ed7953"
             ],
             [
              0.7777777777777778,
              "#fb9f3a"
             ],
             [
              0.8888888888888888,
              "#fdca26"
             ],
             [
              1,
              "#f0f921"
             ]
            ],
            "type": "histogram2dcontour"
           }
          ],
          "mesh3d": [
           {
            "colorbar": {
             "outlinewidth": 0,
             "ticks": ""
            },
            "type": "mesh3d"
           }
          ],
          "parcoords": [
           {
            "line": {
             "colorbar": {
              "outlinewidth": 0,
              "ticks": ""
             }
            },
            "type": "parcoords"
           }
          ],
          "pie": [
           {
            "automargin": true,
            "type": "pie"
           }
          ],
          "scatter": [
           {
            "marker": {
             "colorbar": {
              "outlinewidth": 0,
              "ticks": ""
             }
            },
            "type": "scatter"
           }
          ],
          "scatter3d": [
           {
            "line": {
             "colorbar": {
              "outlinewidth": 0,
              "ticks": ""
             }
            },
            "marker": {
             "colorbar": {
              "outlinewidth": 0,
              "ticks": ""
             }
            },
            "type": "scatter3d"
           }
          ],
          "scattercarpet": [
           {
            "marker": {
             "colorbar": {
              "outlinewidth": 0,
              "ticks": ""
             }
            },
            "type": "scattercarpet"
           }
          ],
          "scattergeo": [
           {
            "marker": {
             "colorbar": {
              "outlinewidth": 0,
              "ticks": ""
             }
            },
            "type": "scattergeo"
           }
          ],
          "scattergl": [
           {
            "marker": {
             "colorbar": {
              "outlinewidth": 0,
              "ticks": ""
             }
            },
            "type": "scattergl"
           }
          ],
          "scattermapbox": [
           {
            "marker": {
             "colorbar": {
              "outlinewidth": 0,
              "ticks": ""
             }
            },
            "type": "scattermapbox"
           }
          ],
          "scatterpolar": [
           {
            "marker": {
             "colorbar": {
              "outlinewidth": 0,
              "ticks": ""
             }
            },
            "type": "scatterpolar"
           }
          ],
          "scatterpolargl": [
           {
            "marker": {
             "colorbar": {
              "outlinewidth": 0,
              "ticks": ""
             }
            },
            "type": "scatterpolargl"
           }
          ],
          "scatterternary": [
           {
            "marker": {
             "colorbar": {
              "outlinewidth": 0,
              "ticks": ""
             }
            },
            "type": "scatterternary"
           }
          ],
          "surface": [
           {
            "colorbar": {
             "outlinewidth": 0,
             "ticks": ""
            },
            "colorscale": [
             [
              0,
              "#0d0887"
             ],
             [
              0.1111111111111111,
              "#46039f"
             ],
             [
              0.2222222222222222,
              "#7201a8"
             ],
             [
              0.3333333333333333,
              "#9c179e"
             ],
             [
              0.4444444444444444,
              "#bd3786"
             ],
             [
              0.5555555555555556,
              "#d8576b"
             ],
             [
              0.6666666666666666,
              "#ed7953"
             ],
             [
              0.7777777777777778,
              "#fb9f3a"
             ],
             [
              0.8888888888888888,
              "#fdca26"
             ],
             [
              1,
              "#f0f921"
             ]
            ],
            "type": "surface"
           }
          ],
          "table": [
           {
            "cells": {
             "fill": {
              "color": "#EBF0F8"
             },
             "line": {
              "color": "white"
             }
            },
            "header": {
             "fill": {
              "color": "#C8D4E3"
             },
             "line": {
              "color": "white"
             }
            },
            "type": "table"
           }
          ]
         },
         "layout": {
          "annotationdefaults": {
           "arrowcolor": "#2a3f5f",
           "arrowhead": 0,
           "arrowwidth": 1
          },
          "autotypenumbers": "strict",
          "coloraxis": {
           "colorbar": {
            "outlinewidth": 0,
            "ticks": ""
           }
          },
          "colorscale": {
           "diverging": [
            [
             0,
             "#8e0152"
            ],
            [
             0.1,
             "#c51b7d"
            ],
            [
             0.2,
             "#de77ae"
            ],
            [
             0.3,
             "#f1b6da"
            ],
            [
             0.4,
             "#fde0ef"
            ],
            [
             0.5,
             "#f7f7f7"
            ],
            [
             0.6,
             "#e6f5d0"
            ],
            [
             0.7,
             "#b8e186"
            ],
            [
             0.8,
             "#7fbc41"
            ],
            [
             0.9,
             "#4d9221"
            ],
            [
             1,
             "#276419"
            ]
           ],
           "sequential": [
            [
             0,
             "#0d0887"
            ],
            [
             0.1111111111111111,
             "#46039f"
            ],
            [
             0.2222222222222222,
             "#7201a8"
            ],
            [
             0.3333333333333333,
             "#9c179e"
            ],
            [
             0.4444444444444444,
             "#bd3786"
            ],
            [
             0.5555555555555556,
             "#d8576b"
            ],
            [
             0.6666666666666666,
             "#ed7953"
            ],
            [
             0.7777777777777778,
             "#fb9f3a"
            ],
            [
             0.8888888888888888,
             "#fdca26"
            ],
            [
             1,
             "#f0f921"
            ]
           ],
           "sequentialminus": [
            [
             0,
             "#0d0887"
            ],
            [
             0.1111111111111111,
             "#46039f"
            ],
            [
             0.2222222222222222,
             "#7201a8"
            ],
            [
             0.3333333333333333,
             "#9c179e"
            ],
            [
             0.4444444444444444,
             "#bd3786"
            ],
            [
             0.5555555555555556,
             "#d8576b"
            ],
            [
             0.6666666666666666,
             "#ed7953"
            ],
            [
             0.7777777777777778,
             "#fb9f3a"
            ],
            [
             0.8888888888888888,
             "#fdca26"
            ],
            [
             1,
             "#f0f921"
            ]
           ]
          },
          "colorway": [
           "#636efa",
           "#EF553B",
           "#00cc96",
           "#ab63fa",
           "#FFA15A",
           "#19d3f3",
           "#FF6692",
           "#B6E880",
           "#FF97FF",
           "#FECB52"
          ],
          "font": {
           "color": "#2a3f5f"
          },
          "geo": {
           "bgcolor": "white",
           "lakecolor": "white",
           "landcolor": "#E5ECF6",
           "showlakes": true,
           "showland": true,
           "subunitcolor": "white"
          },
          "hoverlabel": {
           "align": "left"
          },
          "hovermode": "closest",
          "mapbox": {
           "style": "light"
          },
          "paper_bgcolor": "white",
          "plot_bgcolor": "#E5ECF6",
          "polar": {
           "angularaxis": {
            "gridcolor": "white",
            "linecolor": "white",
            "ticks": ""
           },
           "bgcolor": "#E5ECF6",
           "radialaxis": {
            "gridcolor": "white",
            "linecolor": "white",
            "ticks": ""
           }
          },
          "scene": {
           "xaxis": {
            "backgroundcolor": "#E5ECF6",
            "gridcolor": "white",
            "gridwidth": 2,
            "linecolor": "white",
            "showbackground": true,
            "ticks": "",
            "zerolinecolor": "white"
           },
           "yaxis": {
            "backgroundcolor": "#E5ECF6",
            "gridcolor": "white",
            "gridwidth": 2,
            "linecolor": "white",
            "showbackground": true,
            "ticks": "",
            "zerolinecolor": "white"
           },
           "zaxis": {
            "backgroundcolor": "#E5ECF6",
            "gridcolor": "white",
            "gridwidth": 2,
            "linecolor": "white",
            "showbackground": true,
            "ticks": "",
            "zerolinecolor": "white"
           }
          },
          "shapedefaults": {
           "line": {
            "color": "#2a3f5f"
           }
          },
          "ternary": {
           "aaxis": {
            "gridcolor": "white",
            "linecolor": "white",
            "ticks": ""
           },
           "baxis": {
            "gridcolor": "white",
            "linecolor": "white",
            "ticks": ""
           },
           "bgcolor": "#E5ECF6",
           "caxis": {
            "gridcolor": "white",
            "linecolor": "white",
            "ticks": ""
           }
          },
          "title": {
           "x": 0.05
          },
          "xaxis": {
           "automargin": true,
           "gridcolor": "white",
           "linecolor": "white",
           "ticks": "",
           "title": {
            "standoff": 15
           },
           "zerolinecolor": "white",
           "zerolinewidth": 2
          },
          "yaxis": {
           "automargin": true,
           "gridcolor": "white",
           "linecolor": "white",
           "ticks": "",
           "title": {
            "standoff": 15
           },
           "zerolinecolor": "white",
           "zerolinewidth": 2
          }
         }
        },
        "title": {
         "text": "Coffee: Acidity"
        },
        "xaxis": {
         "anchor": "y",
         "domain": [
          0,
          1
         ],
         "title": {
          "text": "Acidity"
         }
        },
        "yaxis": {
         "anchor": "x",
         "domain": [
          0,
          1
         ],
         "title": {
          "text": "count"
         }
        }
       }
      }
     },
     "metadata": {},
     "output_type": "display_data"
    },
    {
     "data": {
      "application/vnd.plotly.v1+json": {
       "config": {
        "plotlyServerURL": "https://plot.ly"
       },
       "data": [
        {
         "alignmentgroup": "True",
         "bingroup": "x",
         "hovertemplate": "Body=%{x}<br>count=%{y}<extra></extra>",
         "legendgroup": "",
         "marker": {
          "color": "#636efa",
          "pattern": {
           "shape": ""
          }
         },
         "name": "",
         "offsetgroup": "",
         "orientation": "v",
         "showlegend": false,
         "type": "histogram",
         "x": [
          8.5,
          8.42,
          8.5,
          8.42,
          7.67,
          7.75,
          8.08,
          8,
          8.17,
          7.92,
          8.08,
          8.25,
          8,
          7.83,
          7.83,
          8,
          7.83,
          8,
          8,
          7.83,
          8.08,
          7.92,
          8.17,
          7.58,
          7.75,
          7.83,
          7.75,
          8,
          7.83,
          7.83,
          8,
          7.83,
          7.83,
          8,
          7.75,
          7.92,
          7.67,
          7.83,
          7.67,
          7.83,
          7.92,
          8,
          7.75,
          7.83,
          7.83,
          8,
          8.08,
          7.92,
          7.83,
          7.58,
          7.75,
          8,
          7.92,
          7.83,
          7.67,
          7.92,
          7.67,
          7.67,
          7.75,
          8,
          7.75,
          7.75,
          7.5,
          8,
          7.5,
          7.83,
          8.25,
          7.75,
          7.67,
          7.83,
          7.75,
          8.08,
          7.5,
          7.92,
          7.83,
          7.58,
          7.67,
          7.75,
          7.75,
          7.58,
          7.67,
          7.67,
          7.92,
          7.58,
          7.58,
          7.75,
          7.58,
          7.58,
          8.08,
          7.58,
          7.5,
          7.67,
          7.83,
          7.75,
          7.58,
          7.75,
          7.67,
          7.5,
          7.75,
          7.67,
          7.83,
          7.67,
          7.5,
          7.83,
          7.75,
          7.92,
          8.08,
          7.5,
          7.67,
          7.83,
          7.67,
          7.75,
          7.58,
          7.75,
          7.67,
          7.92,
          7.92,
          7.67,
          7.67,
          7.58,
          7.5,
          7.83,
          7.5,
          7.67,
          7.5,
          7.67,
          7.67,
          7.83,
          8,
          7.67,
          7.83,
          7.5,
          7.75,
          7.75,
          7.67,
          7.83,
          7.58,
          7.83,
          7.75,
          7.67,
          7.75,
          7.67,
          7.33,
          7.75,
          7.75,
          7.75,
          7.58,
          7.67,
          8,
          7.92,
          7.83,
          7.58,
          7.42,
          7.67,
          7.58,
          7.83,
          7.83,
          7.67,
          7.75,
          7.75,
          7.75,
          7.58,
          7.5,
          7.83,
          7.75,
          7.42,
          7.58,
          7.83,
          7.75,
          7.58,
          8.17,
          7.83,
          7.67,
          7.75,
          7.5,
          7.75,
          7.67,
          7.58,
          7.67,
          7.58,
          7.58,
          7.33,
          8,
          7.5,
          7.75,
          7.75,
          7.67,
          7.25,
          8,
          7.83,
          7.58,
          7.83,
          7.67,
          7.67,
          8,
          7.33,
          8,
          7.67,
          8.08,
          7.58,
          7.83,
          7.42,
          7.67,
          7.67,
          7.58,
          7.67,
          7.75,
          7.5,
          7.5,
          7.75,
          7.5,
          7.75,
          7.67,
          7.67,
          7.5,
          7.75,
          7.5,
          7.75,
          7.58,
          7.75,
          7.67,
          7.83,
          7.75,
          7.42,
          7.67,
          7.5,
          7.58,
          7.33,
          7.67,
          7.67,
          8,
          7.75,
          7.58,
          7.67,
          7.5,
          7.67,
          7.75,
          7.75,
          7.58,
          7.58,
          7.5,
          7.58,
          7.75,
          7.67,
          7.58,
          7.58,
          7.5,
          7.83,
          7.58,
          7.5,
          7.67,
          7.83,
          7.83,
          7.92,
          7.67,
          7.67,
          7.33,
          7.67,
          7.67,
          7.75,
          7.58,
          7.67,
          7.5,
          7.67,
          7.58,
          7.33,
          7.42,
          7.58,
          7.58,
          7.67,
          7.75,
          7.67,
          7.58,
          7.58,
          7.5,
          7.67,
          7.42,
          8,
          7.58,
          7.5,
          7.42,
          7.42,
          7.5,
          7.33,
          7.67,
          7.5,
          7.33,
          7.5,
          7.5,
          7.42,
          7.5,
          7.58,
          7.58,
          7.67,
          7.58,
          7.42,
          7.92,
          7.75,
          7.75,
          7.67,
          7.75,
          7.67,
          7.42,
          7.58,
          7.5,
          7.5,
          7.67,
          7.58,
          7.58,
          7.83,
          7.42,
          7.42,
          7.42,
          7.5,
          7.75,
          7.42,
          7.33,
          7.58,
          7.75,
          7.5,
          7.5,
          7.42,
          7.58,
          7.75,
          7.58,
          7.75,
          7.67,
          7.58,
          7.58,
          7.83,
          7.5,
          7.67,
          7.58,
          7.92,
          7.67,
          7.58,
          7.5,
          7.5,
          7.33,
          7.5,
          7.75,
          7.75,
          7.33,
          7.5,
          7.67,
          7.33,
          7.5,
          7.58,
          8.08,
          7.67,
          7.5,
          7.58,
          7.5,
          7.33,
          7.75,
          7.75,
          7.67,
          7.42,
          7.5,
          7.75,
          7.42,
          7.58,
          7.5,
          7.58,
          7.5,
          7.42,
          7.33,
          7.67,
          7.58,
          7.5,
          7.67,
          7.67,
          7.5,
          7.58,
          7.33,
          7.58,
          7.58,
          7.42,
          7.5,
          7.58,
          7.67,
          7.5,
          7.33,
          7.33,
          7.5,
          7.25,
          7.5,
          7.25,
          7.83,
          7.5,
          7.5,
          7.5,
          7.58,
          7.5,
          7.42,
          7.5,
          7.5,
          7.5,
          7.33,
          7.25,
          7.42,
          7.5,
          7.5,
          7.58,
          7.5,
          7.42,
          7.42,
          7.5,
          7.58,
          7.42,
          7.42,
          7.58,
          7.58,
          7.42,
          7,
          7.5,
          7.33,
          7.42,
          7.67,
          7.67,
          7.58,
          7.42,
          7.5,
          7.67,
          7.33,
          7.67,
          7.5,
          7.25,
          7.42,
          7.42,
          7.5,
          7.42,
          7.5,
          7.25,
          7.5,
          7.25,
          7.58,
          7.33,
          7.42,
          7.5,
          7.42,
          7.67,
          7.75,
          7.42,
          7.42,
          7.5,
          7.42,
          7.42,
          7.42,
          7.58,
          7.5,
          7.58,
          7.5,
          7.5,
          7.5,
          7.58,
          7.17,
          7.5,
          7.42,
          7.5,
          7.42,
          7.42,
          7.33,
          7.42,
          8.17,
          7.5,
          7.33,
          8.08,
          7.75,
          7.08,
          7.5,
          7.5,
          7.5,
          7.42,
          7.5,
          7,
          7.5,
          7.33,
          7.5,
          7.08,
          7.42,
          7.58,
          7.67,
          7.42,
          7.5,
          7.83,
          7.42,
          7.58,
          7.33,
          7.5,
          7.42,
          7.42,
          7.67,
          7.33,
          7.42,
          7.33,
          7.42,
          7.5,
          7.42,
          7.5,
          7.5,
          7.83,
          7.25,
          7.58,
          7.33,
          7.33,
          7.5,
          7.5,
          7.17,
          7.33,
          8.17,
          7.5,
          7.42,
          7.5,
          7.42,
          7.25,
          7.17,
          7.5,
          7.33,
          7.5,
          7.42,
          7.25,
          7.42,
          7.67,
          7.33,
          7.5,
          7.42,
          7.33,
          7.42,
          7.5,
          7.33,
          7.33,
          7.5,
          7.33,
          7.75,
          7.5,
          8,
          7.33,
          7.42,
          7.33,
          7.5,
          7.5,
          7.75,
          7.58,
          7.42,
          7.42,
          7.5,
          7.5,
          7.17,
          7.5,
          7.5,
          7.5,
          7.5,
          7.33,
          7.42,
          7.5,
          7.33,
          7.33,
          7.67,
          7.42,
          7.92,
          7.58,
          7.75,
          7.67,
          7.33,
          7.17,
          7.42,
          7.08,
          7.75,
          7.33,
          7.83,
          7.33,
          7.33,
          7.5,
          7.83,
          7.67,
          7.25,
          7.5,
          7.42,
          7.5,
          7.33,
          7.25,
          7.33,
          7.33,
          7.42,
          7.67,
          7.5,
          7.33,
          7.33,
          7.42,
          7.5,
          7.5,
          7.42,
          7.5,
          7.17,
          7.5,
          7.42,
          7.33,
          7.33,
          7.33,
          7.67,
          7.5,
          7.42,
          7.25,
          7.58,
          7.5,
          7.42,
          7.33,
          7.08,
          7.42,
          7.33,
          8.33,
          7.5,
          7.42,
          6.75,
          7.5,
          7.58,
          7.33,
          7.25,
          7.17,
          7.58,
          7.33,
          7.33,
          7.5,
          7.25,
          7.42,
          7.67,
          7.42,
          7.33,
          7.5,
          7.33,
          7.17,
          7.33,
          7.25,
          7.42,
          7.58,
          7.5,
          7.5,
          7.33,
          6.83,
          7.5,
          7.08,
          7.08,
          7.33,
          7.42,
          7.25,
          7.42,
          7.25,
          7.5,
          7.17,
          7.5,
          7.33,
          7.17,
          7.42,
          7.33,
          7.33,
          7.5,
          7.25,
          7.58,
          7.75,
          7.83,
          6.92,
          7.42,
          7.33,
          7.42,
          7.25,
          7.25,
          7,
          7.5,
          7.58,
          7.5,
          7.08,
          7.08,
          7.33,
          7.5,
          7.58,
          7.33,
          7.33,
          7.33,
          7.42,
          7.25,
          7.5,
          7.75,
          7.33,
          7.25,
          7.25,
          7.25,
          7.58,
          7.17,
          7.25,
          7.25,
          7.17,
          7.25,
          7.25,
          7.5,
          7.5,
          7.25,
          7.17,
          7.42,
          7.33,
          7.25,
          7.42,
          7.58,
          7.33,
          7.67,
          8,
          7.5,
          7.33,
          7.42,
          7.25,
          7.08,
          7.25,
          7.25,
          7.25,
          7.08,
          7.25,
          7.17,
          7.17,
          7.17,
          7.25,
          7.25,
          7.17,
          7.5,
          7.17,
          7.33,
          7.25,
          7.33,
          7.25,
          7.25,
          7.17,
          7.5,
          7.08,
          7.5,
          7.42,
          7.83,
          7.25,
          7.17,
          7,
          7.33,
          7.08,
          7.33,
          7.17,
          7.17,
          7.25,
          7.33,
          7.33,
          7.25,
          7.17,
          7.67,
          7.17,
          7.25,
          7.17,
          7.33,
          7.33,
          7.25,
          7.33,
          7.25,
          7.42,
          7.25,
          7,
          7.33,
          7,
          7.42,
          7.33,
          7.08,
          7.17,
          7.5,
          7.17,
          7,
          6.75,
          7.42,
          7.25,
          7.08,
          7.17,
          7.25,
          7.08,
          7.25,
          7,
          7,
          7.08,
          7.25,
          7.17,
          7.08,
          7.33,
          7.42,
          7.17,
          7.5,
          7.25,
          7.42,
          7.33,
          7.08,
          7.42,
          7.33,
          7.25,
          7.5,
          7.17,
          7.33,
          7.25,
          7.25,
          7.5,
          7.5,
          7.33,
          7.67,
          7.17,
          7.08,
          7.67,
          7.5,
          7.5,
          7.17,
          7.17,
          7.08,
          7.25,
          7.42,
          7.33,
          7.17,
          7.08,
          7.17,
          7.08,
          7.08,
          7.25,
          7.25,
          7.25,
          7.42,
          7.58,
          7.17,
          7.33,
          7,
          7.33,
          7.33,
          7.42,
          7.42,
          7.08,
          7.42,
          7.17,
          7.5,
          7,
          7,
          7,
          7.17,
          7.17,
          7.67,
          7.33,
          7.33,
          7.42,
          7.25,
          7.08,
          7,
          8,
          7.17,
          7.25,
          7.17,
          7.17,
          6.92,
          7,
          7,
          7.17,
          7.08,
          7.58,
          7.17,
          7.17,
          7.25,
          7,
          6.92,
          7.92,
          7.25,
          7,
          7.58,
          7.33,
          7.17,
          7,
          7.33,
          6.92,
          7.25,
          7.5,
          7,
          7,
          7.33,
          6.67,
          7.25,
          7.08,
          7.25,
          6.83,
          7.33,
          6.83,
          6.92,
          7.58,
          7.17,
          6.92,
          6.92,
          7.33,
          7.92,
          7.25,
          7.17,
          6.92,
          7.58,
          7.17,
          7,
          6.75,
          7.33,
          7.17,
          7.25,
          7.17,
          7.42,
          7.17,
          7,
          7.5,
          7.33,
          7.33,
          7.08,
          7.25,
          7.33,
          7,
          6.92,
          6.33,
          7.17,
          7.33,
          7.42,
          6.83,
          6.5,
          6.67,
          7.25,
          7.08,
          6.42,
          7.33
         ],
         "xaxis": "x",
         "yaxis": "y"
        }
       ],
       "layout": {
        "barmode": "relative",
        "legend": {
         "tracegroupgap": 0
        },
        "template": {
         "data": {
          "bar": [
           {
            "error_x": {
             "color": "#2a3f5f"
            },
            "error_y": {
             "color": "#2a3f5f"
            },
            "marker": {
             "line": {
              "color": "#E5ECF6",
              "width": 0.5
             },
             "pattern": {
              "fillmode": "overlay",
              "size": 10,
              "solidity": 0.2
             }
            },
            "type": "bar"
           }
          ],
          "barpolar": [
           {
            "marker": {
             "line": {
              "color": "#E5ECF6",
              "width": 0.5
             },
             "pattern": {
              "fillmode": "overlay",
              "size": 10,
              "solidity": 0.2
             }
            },
            "type": "barpolar"
           }
          ],
          "carpet": [
           {
            "aaxis": {
             "endlinecolor": "#2a3f5f",
             "gridcolor": "white",
             "linecolor": "white",
             "minorgridcolor": "white",
             "startlinecolor": "#2a3f5f"
            },
            "baxis": {
             "endlinecolor": "#2a3f5f",
             "gridcolor": "white",
             "linecolor": "white",
             "minorgridcolor": "white",
             "startlinecolor": "#2a3f5f"
            },
            "type": "carpet"
           }
          ],
          "choropleth": [
           {
            "colorbar": {
             "outlinewidth": 0,
             "ticks": ""
            },
            "type": "choropleth"
           }
          ],
          "contour": [
           {
            "colorbar": {
             "outlinewidth": 0,
             "ticks": ""
            },
            "colorscale": [
             [
              0,
              "#0d0887"
             ],
             [
              0.1111111111111111,
              "#46039f"
             ],
             [
              0.2222222222222222,
              "#7201a8"
             ],
             [
              0.3333333333333333,
              "#9c179e"
             ],
             [
              0.4444444444444444,
              "#bd3786"
             ],
             [
              0.5555555555555556,
              "#d8576b"
             ],
             [
              0.6666666666666666,
              "#ed7953"
             ],
             [
              0.7777777777777778,
              "#fb9f3a"
             ],
             [
              0.8888888888888888,
              "#fdca26"
             ],
             [
              1,
              "#f0f921"
             ]
            ],
            "type": "contour"
           }
          ],
          "contourcarpet": [
           {
            "colorbar": {
             "outlinewidth": 0,
             "ticks": ""
            },
            "type": "contourcarpet"
           }
          ],
          "heatmap": [
           {
            "colorbar": {
             "outlinewidth": 0,
             "ticks": ""
            },
            "colorscale": [
             [
              0,
              "#0d0887"
             ],
             [
              0.1111111111111111,
              "#46039f"
             ],
             [
              0.2222222222222222,
              "#7201a8"
             ],
             [
              0.3333333333333333,
              "#9c179e"
             ],
             [
              0.4444444444444444,
              "#bd3786"
             ],
             [
              0.5555555555555556,
              "#d8576b"
             ],
             [
              0.6666666666666666,
              "#ed7953"
             ],
             [
              0.7777777777777778,
              "#fb9f3a"
             ],
             [
              0.8888888888888888,
              "#fdca26"
             ],
             [
              1,
              "#f0f921"
             ]
            ],
            "type": "heatmap"
           }
          ],
          "heatmapgl": [
           {
            "colorbar": {
             "outlinewidth": 0,
             "ticks": ""
            },
            "colorscale": [
             [
              0,
              "#0d0887"
             ],
             [
              0.1111111111111111,
              "#46039f"
             ],
             [
              0.2222222222222222,
              "#7201a8"
             ],
             [
              0.3333333333333333,
              "#9c179e"
             ],
             [
              0.4444444444444444,
              "#bd3786"
             ],
             [
              0.5555555555555556,
              "#d8576b"
             ],
             [
              0.6666666666666666,
              "#ed7953"
             ],
             [
              0.7777777777777778,
              "#fb9f3a"
             ],
             [
              0.8888888888888888,
              "#fdca26"
             ],
             [
              1,
              "#f0f921"
             ]
            ],
            "type": "heatmapgl"
           }
          ],
          "histogram": [
           {
            "marker": {
             "pattern": {
              "fillmode": "overlay",
              "size": 10,
              "solidity": 0.2
             }
            },
            "type": "histogram"
           }
          ],
          "histogram2d": [
           {
            "colorbar": {
             "outlinewidth": 0,
             "ticks": ""
            },
            "colorscale": [
             [
              0,
              "#0d0887"
             ],
             [
              0.1111111111111111,
              "#46039f"
             ],
             [
              0.2222222222222222,
              "#7201a8"
             ],
             [
              0.3333333333333333,
              "#9c179e"
             ],
             [
              0.4444444444444444,
              "#bd3786"
             ],
             [
              0.5555555555555556,
              "#d8576b"
             ],
             [
              0.6666666666666666,
              "#ed7953"
             ],
             [
              0.7777777777777778,
              "#fb9f3a"
             ],
             [
              0.8888888888888888,
              "#fdca26"
             ],
             [
              1,
              "#f0f921"
             ]
            ],
            "type": "histogram2d"
           }
          ],
          "histogram2dcontour": [
           {
            "colorbar": {
             "outlinewidth": 0,
             "ticks": ""
            },
            "colorscale": [
             [
              0,
              "#0d0887"
             ],
             [
              0.1111111111111111,
              "#46039f"
             ],
             [
              0.2222222222222222,
              "#7201a8"
             ],
             [
              0.3333333333333333,
              "#9c179e"
             ],
             [
              0.4444444444444444,
              "#bd3786"
             ],
             [
              0.5555555555555556,
              "#d8576b"
             ],
             [
              0.6666666666666666,
              "#ed7953"
             ],
             [
              0.7777777777777778,
              "#fb9f3a"
             ],
             [
              0.8888888888888888,
              "#fdca26"
             ],
             [
              1,
              "#f0f921"
             ]
            ],
            "type": "histogram2dcontour"
           }
          ],
          "mesh3d": [
           {
            "colorbar": {
             "outlinewidth": 0,
             "ticks": ""
            },
            "type": "mesh3d"
           }
          ],
          "parcoords": [
           {
            "line": {
             "colorbar": {
              "outlinewidth": 0,
              "ticks": ""
             }
            },
            "type": "parcoords"
           }
          ],
          "pie": [
           {
            "automargin": true,
            "type": "pie"
           }
          ],
          "scatter": [
           {
            "marker": {
             "colorbar": {
              "outlinewidth": 0,
              "ticks": ""
             }
            },
            "type": "scatter"
           }
          ],
          "scatter3d": [
           {
            "line": {
             "colorbar": {
              "outlinewidth": 0,
              "ticks": ""
             }
            },
            "marker": {
             "colorbar": {
              "outlinewidth": 0,
              "ticks": ""
             }
            },
            "type": "scatter3d"
           }
          ],
          "scattercarpet": [
           {
            "marker": {
             "colorbar": {
              "outlinewidth": 0,
              "ticks": ""
             }
            },
            "type": "scattercarpet"
           }
          ],
          "scattergeo": [
           {
            "marker": {
             "colorbar": {
              "outlinewidth": 0,
              "ticks": ""
             }
            },
            "type": "scattergeo"
           }
          ],
          "scattergl": [
           {
            "marker": {
             "colorbar": {
              "outlinewidth": 0,
              "ticks": ""
             }
            },
            "type": "scattergl"
           }
          ],
          "scattermapbox": [
           {
            "marker": {
             "colorbar": {
              "outlinewidth": 0,
              "ticks": ""
             }
            },
            "type": "scattermapbox"
           }
          ],
          "scatterpolar": [
           {
            "marker": {
             "colorbar": {
              "outlinewidth": 0,
              "ticks": ""
             }
            },
            "type": "scatterpolar"
           }
          ],
          "scatterpolargl": [
           {
            "marker": {
             "colorbar": {
              "outlinewidth": 0,
              "ticks": ""
             }
            },
            "type": "scatterpolargl"
           }
          ],
          "scatterternary": [
           {
            "marker": {
             "colorbar": {
              "outlinewidth": 0,
              "ticks": ""
             }
            },
            "type": "scatterternary"
           }
          ],
          "surface": [
           {
            "colorbar": {
             "outlinewidth": 0,
             "ticks": ""
            },
            "colorscale": [
             [
              0,
              "#0d0887"
             ],
             [
              0.1111111111111111,
              "#46039f"
             ],
             [
              0.2222222222222222,
              "#7201a8"
             ],
             [
              0.3333333333333333,
              "#9c179e"
             ],
             [
              0.4444444444444444,
              "#bd3786"
             ],
             [
              0.5555555555555556,
              "#d8576b"
             ],
             [
              0.6666666666666666,
              "#ed7953"
             ],
             [
              0.7777777777777778,
              "#fb9f3a"
             ],
             [
              0.8888888888888888,
              "#fdca26"
             ],
             [
              1,
              "#f0f921"
             ]
            ],
            "type": "surface"
           }
          ],
          "table": [
           {
            "cells": {
             "fill": {
              "color": "#EBF0F8"
             },
             "line": {
              "color": "white"
             }
            },
            "header": {
             "fill": {
              "color": "#C8D4E3"
             },
             "line": {
              "color": "white"
             }
            },
            "type": "table"
           }
          ]
         },
         "layout": {
          "annotationdefaults": {
           "arrowcolor": "#2a3f5f",
           "arrowhead": 0,
           "arrowwidth": 1
          },
          "autotypenumbers": "strict",
          "coloraxis": {
           "colorbar": {
            "outlinewidth": 0,
            "ticks": ""
           }
          },
          "colorscale": {
           "diverging": [
            [
             0,
             "#8e0152"
            ],
            [
             0.1,
             "#c51b7d"
            ],
            [
             0.2,
             "#de77ae"
            ],
            [
             0.3,
             "#f1b6da"
            ],
            [
             0.4,
             "#fde0ef"
            ],
            [
             0.5,
             "#f7f7f7"
            ],
            [
             0.6,
             "#e6f5d0"
            ],
            [
             0.7,
             "#b8e186"
            ],
            [
             0.8,
             "#7fbc41"
            ],
            [
             0.9,
             "#4d9221"
            ],
            [
             1,
             "#276419"
            ]
           ],
           "sequential": [
            [
             0,
             "#0d0887"
            ],
            [
             0.1111111111111111,
             "#46039f"
            ],
            [
             0.2222222222222222,
             "#7201a8"
            ],
            [
             0.3333333333333333,
             "#9c179e"
            ],
            [
             0.4444444444444444,
             "#bd3786"
            ],
            [
             0.5555555555555556,
             "#d8576b"
            ],
            [
             0.6666666666666666,
             "#ed7953"
            ],
            [
             0.7777777777777778,
             "#fb9f3a"
            ],
            [
             0.8888888888888888,
             "#fdca26"
            ],
            [
             1,
             "#f0f921"
            ]
           ],
           "sequentialminus": [
            [
             0,
             "#0d0887"
            ],
            [
             0.1111111111111111,
             "#46039f"
            ],
            [
             0.2222222222222222,
             "#7201a8"
            ],
            [
             0.3333333333333333,
             "#9c179e"
            ],
            [
             0.4444444444444444,
             "#bd3786"
            ],
            [
             0.5555555555555556,
             "#d8576b"
            ],
            [
             0.6666666666666666,
             "#ed7953"
            ],
            [
             0.7777777777777778,
             "#fb9f3a"
            ],
            [
             0.8888888888888888,
             "#fdca26"
            ],
            [
             1,
             "#f0f921"
            ]
           ]
          },
          "colorway": [
           "#636efa",
           "#EF553B",
           "#00cc96",
           "#ab63fa",
           "#FFA15A",
           "#19d3f3",
           "#FF6692",
           "#B6E880",
           "#FF97FF",
           "#FECB52"
          ],
          "font": {
           "color": "#2a3f5f"
          },
          "geo": {
           "bgcolor": "white",
           "lakecolor": "white",
           "landcolor": "#E5ECF6",
           "showlakes": true,
           "showland": true,
           "subunitcolor": "white"
          },
          "hoverlabel": {
           "align": "left"
          },
          "hovermode": "closest",
          "mapbox": {
           "style": "light"
          },
          "paper_bgcolor": "white",
          "plot_bgcolor": "#E5ECF6",
          "polar": {
           "angularaxis": {
            "gridcolor": "white",
            "linecolor": "white",
            "ticks": ""
           },
           "bgcolor": "#E5ECF6",
           "radialaxis": {
            "gridcolor": "white",
            "linecolor": "white",
            "ticks": ""
           }
          },
          "scene": {
           "xaxis": {
            "backgroundcolor": "#E5ECF6",
            "gridcolor": "white",
            "gridwidth": 2,
            "linecolor": "white",
            "showbackground": true,
            "ticks": "",
            "zerolinecolor": "white"
           },
           "yaxis": {
            "backgroundcolor": "#E5ECF6",
            "gridcolor": "white",
            "gridwidth": 2,
            "linecolor": "white",
            "showbackground": true,
            "ticks": "",
            "zerolinecolor": "white"
           },
           "zaxis": {
            "backgroundcolor": "#E5ECF6",
            "gridcolor": "white",
            "gridwidth": 2,
            "linecolor": "white",
            "showbackground": true,
            "ticks": "",
            "zerolinecolor": "white"
           }
          },
          "shapedefaults": {
           "line": {
            "color": "#2a3f5f"
           }
          },
          "ternary": {
           "aaxis": {
            "gridcolor": "white",
            "linecolor": "white",
            "ticks": ""
           },
           "baxis": {
            "gridcolor": "white",
            "linecolor": "white",
            "ticks": ""
           },
           "bgcolor": "#E5ECF6",
           "caxis": {
            "gridcolor": "white",
            "linecolor": "white",
            "ticks": ""
           }
          },
          "title": {
           "x": 0.05
          },
          "xaxis": {
           "automargin": true,
           "gridcolor": "white",
           "linecolor": "white",
           "ticks": "",
           "title": {
            "standoff": 15
           },
           "zerolinecolor": "white",
           "zerolinewidth": 2
          },
          "yaxis": {
           "automargin": true,
           "gridcolor": "white",
           "linecolor": "white",
           "ticks": "",
           "title": {
            "standoff": 15
           },
           "zerolinecolor": "white",
           "zerolinewidth": 2
          }
         }
        },
        "title": {
         "text": "Coffee: Body"
        },
        "xaxis": {
         "anchor": "y",
         "domain": [
          0,
          1
         ],
         "title": {
          "text": "Body"
         }
        },
        "yaxis": {
         "anchor": "x",
         "domain": [
          0,
          1
         ],
         "title": {
          "text": "count"
         }
        }
       }
      }
     },
     "metadata": {},
     "output_type": "display_data"
    },
    {
     "data": {
      "application/vnd.plotly.v1+json": {
       "config": {
        "plotlyServerURL": "https://plot.ly"
       },
       "data": [
        {
         "alignmentgroup": "True",
         "bingroup": "x",
         "hovertemplate": "Balance=%{x}<br>count=%{y}<extra></extra>",
         "legendgroup": "",
         "marker": {
          "color": "#636efa",
          "pattern": {
           "shape": ""
          }
         },
         "name": "",
         "offsetgroup": "",
         "orientation": "v",
         "showlegend": false,
         "type": "histogram",
         "x": [
          8.42,
          8.42,
          8.25,
          8.33,
          8.42,
          8.17,
          8.17,
          8.08,
          8,
          8,
          8.33,
          8,
          8.33,
          8.17,
          8.17,
          8,
          7.92,
          8.17,
          8,
          8,
          8.08,
          7.92,
          8.08,
          7.92,
          7.83,
          8.08,
          8,
          7.92,
          7.75,
          8,
          7.92,
          8,
          7.83,
          8.25,
          7.83,
          8.17,
          8.58,
          8.08,
          7.92,
          8,
          7.83,
          7.83,
          8,
          7.75,
          8.58,
          8.08,
          8.5,
          7.75,
          7.75,
          7.83,
          7.67,
          7.75,
          7.92,
          7.83,
          7.75,
          7.83,
          7.83,
          7.67,
          8,
          7.92,
          7.75,
          8,
          7.92,
          7.75,
          7.75,
          7.83,
          7.75,
          7.83,
          7.67,
          7.67,
          7.75,
          7.83,
          7.92,
          7.75,
          7.75,
          7.67,
          8.58,
          7.75,
          7.75,
          7.75,
          8,
          7.83,
          7.83,
          7.92,
          7.83,
          7.83,
          7.67,
          8,
          7.83,
          7.75,
          7.83,
          7.58,
          7.75,
          7.67,
          7.58,
          7.58,
          7.83,
          7.67,
          7.83,
          7.58,
          7.83,
          7.75,
          7.75,
          7.67,
          7.92,
          7.75,
          7.83,
          7.67,
          7.83,
          7.67,
          8,
          7.75,
          7.67,
          7.75,
          7.92,
          7.75,
          7.83,
          7.67,
          7.75,
          7.75,
          7.75,
          7.58,
          7.75,
          7.75,
          7.67,
          7.83,
          7.67,
          7.67,
          7.83,
          7.83,
          7.75,
          8,
          7.83,
          7.58,
          8,
          7.92,
          8.17,
          8.5,
          7.83,
          7.67,
          7.67,
          7.75,
          7.75,
          7.58,
          7.67,
          7.83,
          7.67,
          7.67,
          7.75,
          7.67,
          7.67,
          7.5,
          7.5,
          7.83,
          7.83,
          7.75,
          7.67,
          7.33,
          7.83,
          7.75,
          7.67,
          7.67,
          7.75,
          7.58,
          7.83,
          7.75,
          7.67,
          8.17,
          7.83,
          7.75,
          7.5,
          7.67,
          7.5,
          7.75,
          7.58,
          7.75,
          7.67,
          7.58,
          7.83,
          7.67,
          7.83,
          7.5,
          8.17,
          7.67,
          7.67,
          7.75,
          7.5,
          7.67,
          8,
          7.58,
          7.58,
          7.67,
          7.58,
          7.67,
          8,
          7.75,
          7.75,
          7.83,
          7.75,
          7.83,
          8.25,
          7.67,
          7.67,
          7.58,
          7.58,
          7.75,
          7.58,
          7.67,
          7.67,
          7.67,
          7.58,
          7.58,
          7.58,
          7.75,
          7.58,
          7.5,
          7.67,
          7.75,
          7.58,
          7.67,
          7.58,
          7.58,
          7.67,
          7.67,
          7.67,
          7.42,
          7.5,
          7.5,
          7.5,
          7.67,
          7.67,
          7.83,
          7.67,
          7.58,
          7.67,
          7.58,
          7.67,
          7.67,
          7.67,
          7.58,
          7.67,
          7.5,
          7.75,
          7.75,
          7.58,
          7.92,
          7.58,
          7.42,
          7.58,
          7.58,
          7.67,
          7.17,
          7.42,
          7.42,
          7.67,
          7.58,
          7.5,
          7.67,
          7.58,
          7.83,
          7.58,
          7.83,
          7.33,
          7.5,
          7.58,
          7.5,
          8.08,
          7.58,
          7.67,
          7.58,
          7.58,
          7.58,
          8.58,
          7.5,
          7.67,
          7.67,
          7.58,
          7.67,
          7.5,
          7.5,
          7.67,
          7.58,
          7.67,
          7.58,
          7.67,
          7.67,
          7.67,
          7.67,
          7.42,
          7.58,
          7.58,
          8.17,
          7.58,
          7.5,
          7.58,
          7.5,
          8,
          7.5,
          7.58,
          7.58,
          7.42,
          7.25,
          7.5,
          7.67,
          7.5,
          7.5,
          7.5,
          7.5,
          7.42,
          7.5,
          7.5,
          7.67,
          7.5,
          7.42,
          7.5,
          7.5,
          7.25,
          7.5,
          7.83,
          7.5,
          7.5,
          7.67,
          7.17,
          7.58,
          7.42,
          7.58,
          7.58,
          7.67,
          7.58,
          7.75,
          7.83,
          7.42,
          7.5,
          7.83,
          7.58,
          7.58,
          7.75,
          7.5,
          7.5,
          7.5,
          7.5,
          7.67,
          7.42,
          7.5,
          7.5,
          7.5,
          7.17,
          7.75,
          7.42,
          7.42,
          7.5,
          7.58,
          7.42,
          7.67,
          7.75,
          7.42,
          7.5,
          7.33,
          7.67,
          7.75,
          7.17,
          7.58,
          7.5,
          7.75,
          7.5,
          7.42,
          7.92,
          7.58,
          7.5,
          7.42,
          7.58,
          7.5,
          7.5,
          7.5,
          7.67,
          7.67,
          7.67,
          7.5,
          7.5,
          7.58,
          7.67,
          7.5,
          7.5,
          7.5,
          7.67,
          8.58,
          7.5,
          7.58,
          7.92,
          7.58,
          7.42,
          7.75,
          7.5,
          7.42,
          7.5,
          7.67,
          7.5,
          7.58,
          7.58,
          7.25,
          7.5,
          7.5,
          7.5,
          7.5,
          7.5,
          7.5,
          7.42,
          7.5,
          7.5,
          7.5,
          7.5,
          7.5,
          7.5,
          7.42,
          7.75,
          7.83,
          7.58,
          7.5,
          6.83,
          7.5,
          7.5,
          7.33,
          7.5,
          7.5,
          7.42,
          7.5,
          7.5,
          7.5,
          7.67,
          7.5,
          7.67,
          7.42,
          7.33,
          7.42,
          7.5,
          7.67,
          7.5,
          7.5,
          7.33,
          7.5,
          7.42,
          7.42,
          7.42,
          7.5,
          7.5,
          7.42,
          7.5,
          7.67,
          7.58,
          7.5,
          7.5,
          7.33,
          7.5,
          7.5,
          7.5,
          7.33,
          7.33,
          7.67,
          7.42,
          7.5,
          7.5,
          7.67,
          7.58,
          7.42,
          8.08,
          7.5,
          7.5,
          8,
          7.5,
          8.33,
          7.5,
          7.5,
          7.58,
          7.42,
          7.33,
          7.58,
          7.5,
          7.5,
          7.42,
          7.67,
          7.5,
          7.42,
          7.33,
          7.42,
          7.42,
          8.42,
          7.42,
          7.5,
          7.33,
          7.5,
          7.42,
          7.42,
          7.33,
          7.42,
          7.42,
          7.5,
          7.5,
          7.5,
          7.5,
          7.5,
          7.42,
          7.5,
          7.67,
          7.42,
          7.42,
          8.17,
          7.42,
          7.5,
          7.58,
          7.5,
          7.75,
          7.33,
          7.5,
          7.42,
          7.25,
          7.92,
          7.42,
          7.58,
          7.5,
          7.67,
          7.42,
          7.5,
          7.33,
          7.08,
          7.42,
          7.42,
          7.5,
          7.42,
          7.42,
          7.5,
          7.42,
          7.5,
          7.33,
          7.42,
          7.5,
          7.83,
          7.5,
          7.42,
          7.42,
          7.5,
          7.42,
          7.42,
          7.67,
          7.5,
          7.42,
          7.5,
          7.33,
          7.67,
          7.33,
          7.58,
          7.5,
          7.25,
          7.5,
          7.33,
          7.33,
          7.5,
          7.5,
          7.42,
          7.42,
          7.25,
          7.83,
          7.25,
          7.25,
          7.5,
          7.33,
          7.33,
          7.25,
          7.42,
          7.33,
          7.42,
          7.33,
          7.33,
          7.42,
          7.58,
          7.75,
          7.83,
          7.33,
          7.5,
          7.33,
          7.33,
          7.33,
          7.25,
          7.42,
          7.33,
          7.25,
          7.25,
          7.25,
          7.42,
          7.42,
          7.25,
          7.58,
          7.42,
          7.33,
          7.42,
          7.17,
          7.08,
          7.25,
          7.33,
          7.33,
          7.33,
          7.58,
          7.25,
          7.42,
          7.17,
          7.33,
          7.33,
          7.33,
          7.25,
          7.58,
          7.33,
          7.33,
          8.25,
          7.25,
          7.5,
          7.42,
          7.17,
          7.42,
          7.42,
          7.33,
          7.25,
          7.25,
          7.33,
          7.5,
          7.17,
          7.42,
          7.5,
          7.83,
          7.33,
          7.33,
          7.5,
          7.33,
          8,
          7.42,
          7.42,
          7.58,
          7.33,
          7.33,
          7.33,
          7.25,
          7.42,
          7.42,
          7.08,
          7.42,
          7.33,
          7.42,
          7.42,
          7.5,
          7.42,
          7.33,
          7.75,
          7.33,
          7.42,
          7.17,
          7.33,
          7.5,
          7.25,
          7.33,
          7.25,
          7.33,
          7.83,
          7.75,
          8.17,
          7.25,
          7.25,
          7.33,
          7.42,
          7.25,
          7.25,
          7.42,
          7.17,
          7.17,
          7.25,
          7.17,
          7.33,
          7.42,
          7.5,
          7.25,
          7.33,
          7.58,
          7.17,
          7.42,
          7.17,
          7.58,
          7.33,
          7.33,
          7.33,
          7.58,
          7.67,
          7.33,
          7.42,
          7.25,
          7.25,
          7.58,
          7.17,
          7.25,
          7.33,
          7.17,
          7.33,
          7.42,
          7.33,
          7.17,
          7.25,
          7.5,
          7.25,
          7.5,
          7.75,
          7.33,
          7,
          7.33,
          7.33,
          7.08,
          7.33,
          7.17,
          7.25,
          8.08,
          7.25,
          7.25,
          7.25,
          7.25,
          7.33,
          7.17,
          7.17,
          7.08,
          7.17,
          7.25,
          7.17,
          7.17,
          7.25,
          7.33,
          7.17,
          7.5,
          7.33,
          7.5,
          7.17,
          7.5,
          7.17,
          7.42,
          7,
          7.25,
          7.25,
          7,
          7.25,
          7.25,
          7.17,
          7.08,
          7.25,
          7.08,
          7.17,
          7.5,
          7,
          7.17,
          7.17,
          7.17,
          7.17,
          7.25,
          7.17,
          7.17,
          7.08,
          7.25,
          7.17,
          7.17,
          7,
          7,
          7,
          6.92,
          7.33,
          7.25,
          7.25,
          7.17,
          7,
          7.33,
          7.08,
          7.08,
          7.17,
          7.08,
          7.17,
          7,
          7,
          7,
          7,
          7.08,
          7.08,
          7.08,
          7.17,
          7.17,
          7,
          7.5,
          7,
          7.08,
          7.33,
          7,
          7.17,
          7.08,
          7.08,
          7.33,
          7.17,
          7.08,
          7.25,
          7.33,
          7.08,
          7,
          7.42,
          7.83,
          7.17,
          6.92,
          7.58,
          6.92,
          6.92,
          7.08,
          7,
          7,
          7.08,
          7.33,
          7.17,
          7.08,
          7.17,
          6.58,
          7,
          7.08,
          7.08,
          7,
          7,
          7,
          7.08,
          7.17,
          7.42,
          7.17,
          7.17,
          7.08,
          7.25,
          6.92,
          7.08,
          7.08,
          7.08,
          7.42,
          6.92,
          6.92,
          6.92,
          7.17,
          7,
          7.67,
          6.92,
          7.08,
          7,
          7.08,
          6.83,
          7,
          7.5,
          7.08,
          7,
          6.92,
          7.25,
          6.75,
          7,
          7,
          7,
          7,
          7.17,
          7.17,
          6.92,
          7.17,
          6.92,
          6.92,
          7.5,
          7.58,
          6.92,
          7.08,
          7,
          7.17,
          6.83,
          7.42,
          6.83,
          6.92,
          7.5,
          6.83,
          6.92,
          7,
          6.83,
          7.08,
          6.83,
          7.08,
          6.83,
          7.17,
          6.75,
          7,
          6.92,
          7.17,
          6.92,
          6.92,
          7.25,
          7.83,
          6.58,
          7.33,
          6.83,
          6.33,
          7.08,
          6.83,
          7,
          7.17,
          6.83,
          7.75,
          6.83,
          6.67,
          6.83,
          6.75,
          7,
          6.83,
          6.83,
          6.83,
          6.75,
          7.33,
          7.17,
          6.92,
          6.5,
          7,
          6.5,
          6.92,
          6.17,
          6.17,
          6.17,
          6.75,
          6.67,
          6.08,
          6.67
         ],
         "xaxis": "x",
         "yaxis": "y"
        }
       ],
       "layout": {
        "barmode": "relative",
        "legend": {
         "tracegroupgap": 0
        },
        "template": {
         "data": {
          "bar": [
           {
            "error_x": {
             "color": "#2a3f5f"
            },
            "error_y": {
             "color": "#2a3f5f"
            },
            "marker": {
             "line": {
              "color": "#E5ECF6",
              "width": 0.5
             },
             "pattern": {
              "fillmode": "overlay",
              "size": 10,
              "solidity": 0.2
             }
            },
            "type": "bar"
           }
          ],
          "barpolar": [
           {
            "marker": {
             "line": {
              "color": "#E5ECF6",
              "width": 0.5
             },
             "pattern": {
              "fillmode": "overlay",
              "size": 10,
              "solidity": 0.2
             }
            },
            "type": "barpolar"
           }
          ],
          "carpet": [
           {
            "aaxis": {
             "endlinecolor": "#2a3f5f",
             "gridcolor": "white",
             "linecolor": "white",
             "minorgridcolor": "white",
             "startlinecolor": "#2a3f5f"
            },
            "baxis": {
             "endlinecolor": "#2a3f5f",
             "gridcolor": "white",
             "linecolor": "white",
             "minorgridcolor": "white",
             "startlinecolor": "#2a3f5f"
            },
            "type": "carpet"
           }
          ],
          "choropleth": [
           {
            "colorbar": {
             "outlinewidth": 0,
             "ticks": ""
            },
            "type": "choropleth"
           }
          ],
          "contour": [
           {
            "colorbar": {
             "outlinewidth": 0,
             "ticks": ""
            },
            "colorscale": [
             [
              0,
              "#0d0887"
             ],
             [
              0.1111111111111111,
              "#46039f"
             ],
             [
              0.2222222222222222,
              "#7201a8"
             ],
             [
              0.3333333333333333,
              "#9c179e"
             ],
             [
              0.4444444444444444,
              "#bd3786"
             ],
             [
              0.5555555555555556,
              "#d8576b"
             ],
             [
              0.6666666666666666,
              "#ed7953"
             ],
             [
              0.7777777777777778,
              "#fb9f3a"
             ],
             [
              0.8888888888888888,
              "#fdca26"
             ],
             [
              1,
              "#f0f921"
             ]
            ],
            "type": "contour"
           }
          ],
          "contourcarpet": [
           {
            "colorbar": {
             "outlinewidth": 0,
             "ticks": ""
            },
            "type": "contourcarpet"
           }
          ],
          "heatmap": [
           {
            "colorbar": {
             "outlinewidth": 0,
             "ticks": ""
            },
            "colorscale": [
             [
              0,
              "#0d0887"
             ],
             [
              0.1111111111111111,
              "#46039f"
             ],
             [
              0.2222222222222222,
              "#7201a8"
             ],
             [
              0.3333333333333333,
              "#9c179e"
             ],
             [
              0.4444444444444444,
              "#bd3786"
             ],
             [
              0.5555555555555556,
              "#d8576b"
             ],
             [
              0.6666666666666666,
              "#ed7953"
             ],
             [
              0.7777777777777778,
              "#fb9f3a"
             ],
             [
              0.8888888888888888,
              "#fdca26"
             ],
             [
              1,
              "#f0f921"
             ]
            ],
            "type": "heatmap"
           }
          ],
          "heatmapgl": [
           {
            "colorbar": {
             "outlinewidth": 0,
             "ticks": ""
            },
            "colorscale": [
             [
              0,
              "#0d0887"
             ],
             [
              0.1111111111111111,
              "#46039f"
             ],
             [
              0.2222222222222222,
              "#7201a8"
             ],
             [
              0.3333333333333333,
              "#9c179e"
             ],
             [
              0.4444444444444444,
              "#bd3786"
             ],
             [
              0.5555555555555556,
              "#d8576b"
             ],
             [
              0.6666666666666666,
              "#ed7953"
             ],
             [
              0.7777777777777778,
              "#fb9f3a"
             ],
             [
              0.8888888888888888,
              "#fdca26"
             ],
             [
              1,
              "#f0f921"
             ]
            ],
            "type": "heatmapgl"
           }
          ],
          "histogram": [
           {
            "marker": {
             "pattern": {
              "fillmode": "overlay",
              "size": 10,
              "solidity": 0.2
             }
            },
            "type": "histogram"
           }
          ],
          "histogram2d": [
           {
            "colorbar": {
             "outlinewidth": 0,
             "ticks": ""
            },
            "colorscale": [
             [
              0,
              "#0d0887"
             ],
             [
              0.1111111111111111,
              "#46039f"
             ],
             [
              0.2222222222222222,
              "#7201a8"
             ],
             [
              0.3333333333333333,
              "#9c179e"
             ],
             [
              0.4444444444444444,
              "#bd3786"
             ],
             [
              0.5555555555555556,
              "#d8576b"
             ],
             [
              0.6666666666666666,
              "#ed7953"
             ],
             [
              0.7777777777777778,
              "#fb9f3a"
             ],
             [
              0.8888888888888888,
              "#fdca26"
             ],
             [
              1,
              "#f0f921"
             ]
            ],
            "type": "histogram2d"
           }
          ],
          "histogram2dcontour": [
           {
            "colorbar": {
             "outlinewidth": 0,
             "ticks": ""
            },
            "colorscale": [
             [
              0,
              "#0d0887"
             ],
             [
              0.1111111111111111,
              "#46039f"
             ],
             [
              0.2222222222222222,
              "#7201a8"
             ],
             [
              0.3333333333333333,
              "#9c179e"
             ],
             [
              0.4444444444444444,
              "#bd3786"
             ],
             [
              0.5555555555555556,
              "#d8576b"
             ],
             [
              0.6666666666666666,
              "#ed7953"
             ],
             [
              0.7777777777777778,
              "#fb9f3a"
             ],
             [
              0.8888888888888888,
              "#fdca26"
             ],
             [
              1,
              "#f0f921"
             ]
            ],
            "type": "histogram2dcontour"
           }
          ],
          "mesh3d": [
           {
            "colorbar": {
             "outlinewidth": 0,
             "ticks": ""
            },
            "type": "mesh3d"
           }
          ],
          "parcoords": [
           {
            "line": {
             "colorbar": {
              "outlinewidth": 0,
              "ticks": ""
             }
            },
            "type": "parcoords"
           }
          ],
          "pie": [
           {
            "automargin": true,
            "type": "pie"
           }
          ],
          "scatter": [
           {
            "marker": {
             "colorbar": {
              "outlinewidth": 0,
              "ticks": ""
             }
            },
            "type": "scatter"
           }
          ],
          "scatter3d": [
           {
            "line": {
             "colorbar": {
              "outlinewidth": 0,
              "ticks": ""
             }
            },
            "marker": {
             "colorbar": {
              "outlinewidth": 0,
              "ticks": ""
             }
            },
            "type": "scatter3d"
           }
          ],
          "scattercarpet": [
           {
            "marker": {
             "colorbar": {
              "outlinewidth": 0,
              "ticks": ""
             }
            },
            "type": "scattercarpet"
           }
          ],
          "scattergeo": [
           {
            "marker": {
             "colorbar": {
              "outlinewidth": 0,
              "ticks": ""
             }
            },
            "type": "scattergeo"
           }
          ],
          "scattergl": [
           {
            "marker": {
             "colorbar": {
              "outlinewidth": 0,
              "ticks": ""
             }
            },
            "type": "scattergl"
           }
          ],
          "scattermapbox": [
           {
            "marker": {
             "colorbar": {
              "outlinewidth": 0,
              "ticks": ""
             }
            },
            "type": "scattermapbox"
           }
          ],
          "scatterpolar": [
           {
            "marker": {
             "colorbar": {
              "outlinewidth": 0,
              "ticks": ""
             }
            },
            "type": "scatterpolar"
           }
          ],
          "scatterpolargl": [
           {
            "marker": {
             "colorbar": {
              "outlinewidth": 0,
              "ticks": ""
             }
            },
            "type": "scatterpolargl"
           }
          ],
          "scatterternary": [
           {
            "marker": {
             "colorbar": {
              "outlinewidth": 0,
              "ticks": ""
             }
            },
            "type": "scatterternary"
           }
          ],
          "surface": [
           {
            "colorbar": {
             "outlinewidth": 0,
             "ticks": ""
            },
            "colorscale": [
             [
              0,
              "#0d0887"
             ],
             [
              0.1111111111111111,
              "#46039f"
             ],
             [
              0.2222222222222222,
              "#7201a8"
             ],
             [
              0.3333333333333333,
              "#9c179e"
             ],
             [
              0.4444444444444444,
              "#bd3786"
             ],
             [
              0.5555555555555556,
              "#d8576b"
             ],
             [
              0.6666666666666666,
              "#ed7953"
             ],
             [
              0.7777777777777778,
              "#fb9f3a"
             ],
             [
              0.8888888888888888,
              "#fdca26"
             ],
             [
              1,
              "#f0f921"
             ]
            ],
            "type": "surface"
           }
          ],
          "table": [
           {
            "cells": {
             "fill": {
              "color": "#EBF0F8"
             },
             "line": {
              "color": "white"
             }
            },
            "header": {
             "fill": {
              "color": "#C8D4E3"
             },
             "line": {
              "color": "white"
             }
            },
            "type": "table"
           }
          ]
         },
         "layout": {
          "annotationdefaults": {
           "arrowcolor": "#2a3f5f",
           "arrowhead": 0,
           "arrowwidth": 1
          },
          "autotypenumbers": "strict",
          "coloraxis": {
           "colorbar": {
            "outlinewidth": 0,
            "ticks": ""
           }
          },
          "colorscale": {
           "diverging": [
            [
             0,
             "#8e0152"
            ],
            [
             0.1,
             "#c51b7d"
            ],
            [
             0.2,
             "#de77ae"
            ],
            [
             0.3,
             "#f1b6da"
            ],
            [
             0.4,
             "#fde0ef"
            ],
            [
             0.5,
             "#f7f7f7"
            ],
            [
             0.6,
             "#e6f5d0"
            ],
            [
             0.7,
             "#b8e186"
            ],
            [
             0.8,
             "#7fbc41"
            ],
            [
             0.9,
             "#4d9221"
            ],
            [
             1,
             "#276419"
            ]
           ],
           "sequential": [
            [
             0,
             "#0d0887"
            ],
            [
             0.1111111111111111,
             "#46039f"
            ],
            [
             0.2222222222222222,
             "#7201a8"
            ],
            [
             0.3333333333333333,
             "#9c179e"
            ],
            [
             0.4444444444444444,
             "#bd3786"
            ],
            [
             0.5555555555555556,
             "#d8576b"
            ],
            [
             0.6666666666666666,
             "#ed7953"
            ],
            [
             0.7777777777777778,
             "#fb9f3a"
            ],
            [
             0.8888888888888888,
             "#fdca26"
            ],
            [
             1,
             "#f0f921"
            ]
           ],
           "sequentialminus": [
            [
             0,
             "#0d0887"
            ],
            [
             0.1111111111111111,
             "#46039f"
            ],
            [
             0.2222222222222222,
             "#7201a8"
            ],
            [
             0.3333333333333333,
             "#9c179e"
            ],
            [
             0.4444444444444444,
             "#bd3786"
            ],
            [
             0.5555555555555556,
             "#d8576b"
            ],
            [
             0.6666666666666666,
             "#ed7953"
            ],
            [
             0.7777777777777778,
             "#fb9f3a"
            ],
            [
             0.8888888888888888,
             "#fdca26"
            ],
            [
             1,
             "#f0f921"
            ]
           ]
          },
          "colorway": [
           "#636efa",
           "#EF553B",
           "#00cc96",
           "#ab63fa",
           "#FFA15A",
           "#19d3f3",
           "#FF6692",
           "#B6E880",
           "#FF97FF",
           "#FECB52"
          ],
          "font": {
           "color": "#2a3f5f"
          },
          "geo": {
           "bgcolor": "white",
           "lakecolor": "white",
           "landcolor": "#E5ECF6",
           "showlakes": true,
           "showland": true,
           "subunitcolor": "white"
          },
          "hoverlabel": {
           "align": "left"
          },
          "hovermode": "closest",
          "mapbox": {
           "style": "light"
          },
          "paper_bgcolor": "white",
          "plot_bgcolor": "#E5ECF6",
          "polar": {
           "angularaxis": {
            "gridcolor": "white",
            "linecolor": "white",
            "ticks": ""
           },
           "bgcolor": "#E5ECF6",
           "radialaxis": {
            "gridcolor": "white",
            "linecolor": "white",
            "ticks": ""
           }
          },
          "scene": {
           "xaxis": {
            "backgroundcolor": "#E5ECF6",
            "gridcolor": "white",
            "gridwidth": 2,
            "linecolor": "white",
            "showbackground": true,
            "ticks": "",
            "zerolinecolor": "white"
           },
           "yaxis": {
            "backgroundcolor": "#E5ECF6",
            "gridcolor": "white",
            "gridwidth": 2,
            "linecolor": "white",
            "showbackground": true,
            "ticks": "",
            "zerolinecolor": "white"
           },
           "zaxis": {
            "backgroundcolor": "#E5ECF6",
            "gridcolor": "white",
            "gridwidth": 2,
            "linecolor": "white",
            "showbackground": true,
            "ticks": "",
            "zerolinecolor": "white"
           }
          },
          "shapedefaults": {
           "line": {
            "color": "#2a3f5f"
           }
          },
          "ternary": {
           "aaxis": {
            "gridcolor": "white",
            "linecolor": "white",
            "ticks": ""
           },
           "baxis": {
            "gridcolor": "white",
            "linecolor": "white",
            "ticks": ""
           },
           "bgcolor": "#E5ECF6",
           "caxis": {
            "gridcolor": "white",
            "linecolor": "white",
            "ticks": ""
           }
          },
          "title": {
           "x": 0.05
          },
          "xaxis": {
           "automargin": true,
           "gridcolor": "white",
           "linecolor": "white",
           "ticks": "",
           "title": {
            "standoff": 15
           },
           "zerolinecolor": "white",
           "zerolinewidth": 2
          },
          "yaxis": {
           "automargin": true,
           "gridcolor": "white",
           "linecolor": "white",
           "ticks": "",
           "title": {
            "standoff": 15
           },
           "zerolinecolor": "white",
           "zerolinewidth": 2
          }
         }
        },
        "title": {
         "text": "Coffee: Balance"
        },
        "xaxis": {
         "anchor": "y",
         "domain": [
          0,
          1
         ],
         "title": {
          "text": "Balance"
         }
        },
        "yaxis": {
         "anchor": "x",
         "domain": [
          0,
          1
         ],
         "title": {
          "text": "count"
         }
        }
       }
      }
     },
     "metadata": {},
     "output_type": "display_data"
    },
    {
     "data": {
      "application/vnd.plotly.v1+json": {
       "config": {
        "plotlyServerURL": "https://plot.ly"
       },
       "data": [
        {
         "alignmentgroup": "True",
         "bingroup": "x",
         "hovertemplate": "Uniformity=%{x}<br>count=%{y}<extra></extra>",
         "legendgroup": "",
         "marker": {
          "color": "#636efa",
          "pattern": {
           "shape": ""
          }
         },
         "name": "",
         "offsetgroup": "",
         "orientation": "v",
         "showlegend": false,
         "type": "histogram",
         "x": [
          10,
          10,
          10,
          10,
          10,
          10,
          10,
          10,
          10,
          10,
          10,
          10,
          10,
          10,
          10,
          10,
          10,
          10,
          10,
          10,
          10,
          10,
          10,
          10,
          10,
          10,
          10,
          10,
          10,
          10,
          10,
          10,
          10,
          9.33,
          10,
          10,
          10,
          10,
          10,
          10,
          10,
          10,
          10,
          10,
          10,
          10,
          10,
          10,
          10,
          10,
          10,
          10,
          9.33,
          10,
          10,
          10,
          10,
          10,
          10,
          10,
          10,
          10,
          10,
          10,
          10,
          10,
          10,
          10,
          10,
          10,
          10,
          10,
          10,
          10,
          10,
          10,
          10,
          10,
          10,
          10,
          10,
          10,
          10,
          10,
          10,
          10,
          10,
          10,
          10,
          10,
          10,
          10,
          10,
          10,
          10,
          10,
          10,
          10,
          10,
          10,
          10,
          10,
          10,
          10,
          10,
          10,
          10,
          10,
          10,
          10,
          10,
          10,
          10,
          10,
          10,
          10,
          10,
          10,
          10,
          10,
          10,
          10,
          10,
          10,
          10,
          10,
          10,
          10,
          10,
          10,
          10,
          10,
          10,
          10,
          10,
          10,
          9.33,
          10,
          10,
          10,
          10,
          10,
          10,
          10,
          10,
          10,
          10,
          10,
          10,
          10,
          10,
          10,
          10,
          10,
          10,
          9.33,
          10,
          10,
          10,
          10,
          9.33,
          10,
          10,
          10,
          10,
          10,
          10,
          10,
          10,
          10,
          10,
          10,
          10,
          10,
          10,
          10,
          10,
          10,
          10,
          10,
          10,
          10,
          9.33,
          10,
          10,
          10,
          10,
          10,
          10,
          10,
          10,
          10,
          10,
          10,
          9.33,
          10,
          10,
          10,
          9.33,
          10,
          10,
          10,
          10,
          10,
          10,
          10,
          10,
          10,
          10,
          10,
          10,
          10,
          10,
          10,
          10,
          10,
          10,
          10,
          10,
          10,
          10,
          10,
          10,
          10,
          10,
          10,
          10,
          10,
          10,
          10,
          10,
          10,
          10,
          10,
          10,
          10,
          10,
          10,
          10,
          10,
          10,
          10,
          10,
          10,
          10,
          10,
          10,
          10,
          10,
          10,
          10,
          10,
          10,
          10,
          10,
          10,
          10,
          10,
          10,
          10,
          10,
          10,
          10,
          10,
          10,
          10,
          10,
          10,
          10,
          10,
          10,
          10,
          10,
          10,
          10,
          10,
          10,
          10,
          10,
          10,
          10,
          10,
          10,
          10,
          10,
          10,
          10,
          10,
          10,
          10,
          10,
          10,
          10,
          10,
          10,
          10,
          10,
          10,
          10,
          10,
          10,
          9.33,
          10,
          10,
          10,
          10,
          10,
          10,
          10,
          10,
          10,
          9.33,
          10,
          10,
          10,
          10,
          10,
          10,
          10,
          10,
          10,
          10,
          10,
          10,
          10,
          10,
          10,
          9.33,
          10,
          9.33,
          10,
          10,
          10,
          10,
          10,
          10,
          10,
          10,
          10,
          10,
          10,
          10,
          10,
          10,
          10,
          10,
          10,
          10,
          10,
          9.33,
          10,
          10,
          10,
          10,
          9.33,
          10,
          10,
          10,
          10,
          10,
          10,
          10,
          10,
          10,
          10,
          10,
          10,
          10,
          10,
          10,
          10,
          10,
          10,
          10,
          10,
          9.33,
          10,
          10,
          10,
          10,
          10,
          10,
          10,
          10,
          10,
          10,
          10,
          10,
          6.67,
          10,
          10,
          10,
          10,
          10,
          10,
          10,
          10,
          10,
          10,
          10,
          10,
          10,
          10,
          10,
          10,
          10,
          10,
          10,
          10,
          10,
          10,
          10,
          10,
          10,
          10,
          10,
          10,
          10,
          10,
          10,
          10,
          10,
          10,
          10,
          9.33,
          10,
          10,
          10,
          10,
          10,
          10,
          10,
          10,
          10,
          10,
          10,
          10,
          10,
          10,
          10,
          10,
          10,
          10,
          10,
          10,
          10,
          10,
          9.33,
          10,
          10,
          10,
          10,
          10,
          10,
          10,
          10,
          10,
          10,
          10,
          10,
          10,
          10,
          10,
          10,
          10,
          10,
          10,
          10,
          9.33,
          10,
          10,
          10,
          10,
          10,
          10,
          10,
          10,
          10,
          10,
          9.33,
          10,
          10,
          10,
          10,
          10,
          9.33,
          10,
          10,
          10,
          10,
          10,
          10,
          10,
          10,
          10,
          10,
          10,
          10,
          10,
          10,
          10,
          10,
          10,
          10,
          10,
          10,
          10,
          10,
          10,
          10,
          10,
          10,
          10,
          10,
          10,
          10,
          10,
          10,
          10,
          10,
          10,
          10,
          10,
          10,
          10,
          10,
          10,
          10,
          10,
          10,
          10,
          10,
          10,
          10,
          10,
          10,
          9.33,
          10,
          10,
          10,
          10,
          10,
          10,
          9.33,
          10,
          10,
          10,
          10,
          10,
          10,
          10,
          10,
          10,
          10,
          10,
          9.33,
          10,
          10,
          10,
          10,
          10,
          10,
          10,
          10,
          10,
          10,
          10,
          10,
          10,
          10,
          10,
          10,
          10,
          10,
          9.33,
          9.33,
          10,
          10,
          10,
          10,
          10,
          10,
          10,
          10,
          10,
          10,
          10,
          10,
          10,
          10,
          10,
          10,
          10,
          10,
          10,
          10,
          10,
          10,
          10,
          10,
          8.67,
          10,
          10,
          10,
          9.33,
          10,
          10,
          10,
          10,
          10,
          10,
          10,
          10,
          10,
          10,
          10,
          10,
          9.33,
          10,
          10,
          10,
          10,
          10,
          10,
          10,
          10,
          9.33,
          10,
          10,
          10,
          10,
          10,
          10,
          10,
          9.33,
          10,
          10,
          10,
          10,
          10,
          10,
          10,
          10,
          10,
          10,
          10,
          10,
          10,
          10,
          10,
          10,
          10,
          10,
          10,
          10,
          10,
          10,
          10,
          10,
          9.33,
          9.33,
          10,
          10,
          10,
          10,
          10,
          10,
          10,
          9.33,
          10,
          10,
          10,
          10,
          10,
          10,
          10,
          10,
          10,
          10,
          10,
          10,
          10,
          9.33,
          10,
          10,
          10,
          10,
          6.67,
          10,
          10,
          10,
          10,
          10,
          10,
          10,
          10,
          10,
          10,
          10,
          10,
          10,
          10,
          8,
          10,
          9.33,
          10,
          9.33,
          10,
          10,
          10,
          10,
          10,
          10,
          10,
          10,
          10,
          10,
          10,
          10,
          10,
          10,
          10,
          10,
          10,
          10,
          10,
          10,
          10,
          10,
          10,
          9.33,
          10,
          9.33,
          10,
          6.67,
          10,
          10,
          10,
          10,
          10,
          10,
          10,
          10,
          10,
          10,
          9.33,
          10,
          10,
          9.33,
          10,
          10,
          10,
          10,
          10,
          10,
          10,
          10,
          10,
          10,
          10,
          10,
          10,
          10,
          10,
          10,
          10,
          10,
          10,
          10,
          10,
          8.67,
          10,
          10,
          10,
          10,
          8.67,
          10,
          10,
          10,
          10,
          10,
          10,
          10,
          10,
          10,
          10,
          8.67,
          10,
          10,
          9.33,
          10,
          9.33,
          10,
          10,
          9.33,
          9.33,
          10,
          10,
          9.33,
          10,
          10,
          9.33,
          9.33,
          10,
          10,
          8,
          10,
          10,
          10,
          10,
          10,
          10,
          9.33,
          10,
          10,
          10,
          10,
          10,
          10,
          10,
          10,
          10,
          10,
          9.33,
          9.33,
          9.33,
          10,
          10,
          9.33,
          9.33,
          10,
          9.33,
          10,
          10,
          8.67,
          10,
          10,
          10,
          9.33,
          10,
          8.67,
          10,
          9.33,
          9.33,
          9.33,
          10,
          10,
          8.67,
          10,
          8.67,
          10,
          9.33,
          10,
          10,
          10,
          10,
          8.67,
          9.33,
          10,
          10,
          8.67,
          10,
          10,
          8,
          9.33,
          10,
          8.67,
          8,
          10,
          10,
          8,
          10,
          10,
          6.67,
          10,
          9.33,
          9.33,
          10,
          10,
          8.67,
          8,
          10,
          9.33,
          10,
          10,
          8,
          9.33,
          9.33,
          9.33,
          8.67,
          8.67,
          9.33,
          8.67,
          7.33,
          9.33,
          10,
          9.33,
          9.33,
          8,
          8,
          10,
          10,
          8.67,
          10,
          8.67,
          10,
          8,
          8.67,
          10,
          10,
          10,
          8,
          8,
          10,
          10,
          8,
          6,
          8,
          8,
          8,
          10,
          9.33,
          6,
          8
         ],
         "xaxis": "x",
         "yaxis": "y"
        }
       ],
       "layout": {
        "barmode": "relative",
        "legend": {
         "tracegroupgap": 0
        },
        "template": {
         "data": {
          "bar": [
           {
            "error_x": {
             "color": "#2a3f5f"
            },
            "error_y": {
             "color": "#2a3f5f"
            },
            "marker": {
             "line": {
              "color": "#E5ECF6",
              "width": 0.5
             },
             "pattern": {
              "fillmode": "overlay",
              "size": 10,
              "solidity": 0.2
             }
            },
            "type": "bar"
           }
          ],
          "barpolar": [
           {
            "marker": {
             "line": {
              "color": "#E5ECF6",
              "width": 0.5
             },
             "pattern": {
              "fillmode": "overlay",
              "size": 10,
              "solidity": 0.2
             }
            },
            "type": "barpolar"
           }
          ],
          "carpet": [
           {
            "aaxis": {
             "endlinecolor": "#2a3f5f",
             "gridcolor": "white",
             "linecolor": "white",
             "minorgridcolor": "white",
             "startlinecolor": "#2a3f5f"
            },
            "baxis": {
             "endlinecolor": "#2a3f5f",
             "gridcolor": "white",
             "linecolor": "white",
             "minorgridcolor": "white",
             "startlinecolor": "#2a3f5f"
            },
            "type": "carpet"
           }
          ],
          "choropleth": [
           {
            "colorbar": {
             "outlinewidth": 0,
             "ticks": ""
            },
            "type": "choropleth"
           }
          ],
          "contour": [
           {
            "colorbar": {
             "outlinewidth": 0,
             "ticks": ""
            },
            "colorscale": [
             [
              0,
              "#0d0887"
             ],
             [
              0.1111111111111111,
              "#46039f"
             ],
             [
              0.2222222222222222,
              "#7201a8"
             ],
             [
              0.3333333333333333,
              "#9c179e"
             ],
             [
              0.4444444444444444,
              "#bd3786"
             ],
             [
              0.5555555555555556,
              "#d8576b"
             ],
             [
              0.6666666666666666,
              "#ed7953"
             ],
             [
              0.7777777777777778,
              "#fb9f3a"
             ],
             [
              0.8888888888888888,
              "#fdca26"
             ],
             [
              1,
              "#f0f921"
             ]
            ],
            "type": "contour"
           }
          ],
          "contourcarpet": [
           {
            "colorbar": {
             "outlinewidth": 0,
             "ticks": ""
            },
            "type": "contourcarpet"
           }
          ],
          "heatmap": [
           {
            "colorbar": {
             "outlinewidth": 0,
             "ticks": ""
            },
            "colorscale": [
             [
              0,
              "#0d0887"
             ],
             [
              0.1111111111111111,
              "#46039f"
             ],
             [
              0.2222222222222222,
              "#7201a8"
             ],
             [
              0.3333333333333333,
              "#9c179e"
             ],
             [
              0.4444444444444444,
              "#bd3786"
             ],
             [
              0.5555555555555556,
              "#d8576b"
             ],
             [
              0.6666666666666666,
              "#ed7953"
             ],
             [
              0.7777777777777778,
              "#fb9f3a"
             ],
             [
              0.8888888888888888,
              "#fdca26"
             ],
             [
              1,
              "#f0f921"
             ]
            ],
            "type": "heatmap"
           }
          ],
          "heatmapgl": [
           {
            "colorbar": {
             "outlinewidth": 0,
             "ticks": ""
            },
            "colorscale": [
             [
              0,
              "#0d0887"
             ],
             [
              0.1111111111111111,
              "#46039f"
             ],
             [
              0.2222222222222222,
              "#7201a8"
             ],
             [
              0.3333333333333333,
              "#9c179e"
             ],
             [
              0.4444444444444444,
              "#bd3786"
             ],
             [
              0.5555555555555556,
              "#d8576b"
             ],
             [
              0.6666666666666666,
              "#ed7953"
             ],
             [
              0.7777777777777778,
              "#fb9f3a"
             ],
             [
              0.8888888888888888,
              "#fdca26"
             ],
             [
              1,
              "#f0f921"
             ]
            ],
            "type": "heatmapgl"
           }
          ],
          "histogram": [
           {
            "marker": {
             "pattern": {
              "fillmode": "overlay",
              "size": 10,
              "solidity": 0.2
             }
            },
            "type": "histogram"
           }
          ],
          "histogram2d": [
           {
            "colorbar": {
             "outlinewidth": 0,
             "ticks": ""
            },
            "colorscale": [
             [
              0,
              "#0d0887"
             ],
             [
              0.1111111111111111,
              "#46039f"
             ],
             [
              0.2222222222222222,
              "#7201a8"
             ],
             [
              0.3333333333333333,
              "#9c179e"
             ],
             [
              0.4444444444444444,
              "#bd3786"
             ],
             [
              0.5555555555555556,
              "#d8576b"
             ],
             [
              0.6666666666666666,
              "#ed7953"
             ],
             [
              0.7777777777777778,
              "#fb9f3a"
             ],
             [
              0.8888888888888888,
              "#fdca26"
             ],
             [
              1,
              "#f0f921"
             ]
            ],
            "type": "histogram2d"
           }
          ],
          "histogram2dcontour": [
           {
            "colorbar": {
             "outlinewidth": 0,
             "ticks": ""
            },
            "colorscale": [
             [
              0,
              "#0d0887"
             ],
             [
              0.1111111111111111,
              "#46039f"
             ],
             [
              0.2222222222222222,
              "#7201a8"
             ],
             [
              0.3333333333333333,
              "#9c179e"
             ],
             [
              0.4444444444444444,
              "#bd3786"
             ],
             [
              0.5555555555555556,
              "#d8576b"
             ],
             [
              0.6666666666666666,
              "#ed7953"
             ],
             [
              0.7777777777777778,
              "#fb9f3a"
             ],
             [
              0.8888888888888888,
              "#fdca26"
             ],
             [
              1,
              "#f0f921"
             ]
            ],
            "type": "histogram2dcontour"
           }
          ],
          "mesh3d": [
           {
            "colorbar": {
             "outlinewidth": 0,
             "ticks": ""
            },
            "type": "mesh3d"
           }
          ],
          "parcoords": [
           {
            "line": {
             "colorbar": {
              "outlinewidth": 0,
              "ticks": ""
             }
            },
            "type": "parcoords"
           }
          ],
          "pie": [
           {
            "automargin": true,
            "type": "pie"
           }
          ],
          "scatter": [
           {
            "marker": {
             "colorbar": {
              "outlinewidth": 0,
              "ticks": ""
             }
            },
            "type": "scatter"
           }
          ],
          "scatter3d": [
           {
            "line": {
             "colorbar": {
              "outlinewidth": 0,
              "ticks": ""
             }
            },
            "marker": {
             "colorbar": {
              "outlinewidth": 0,
              "ticks": ""
             }
            },
            "type": "scatter3d"
           }
          ],
          "scattercarpet": [
           {
            "marker": {
             "colorbar": {
              "outlinewidth": 0,
              "ticks": ""
             }
            },
            "type": "scattercarpet"
           }
          ],
          "scattergeo": [
           {
            "marker": {
             "colorbar": {
              "outlinewidth": 0,
              "ticks": ""
             }
            },
            "type": "scattergeo"
           }
          ],
          "scattergl": [
           {
            "marker": {
             "colorbar": {
              "outlinewidth": 0,
              "ticks": ""
             }
            },
            "type": "scattergl"
           }
          ],
          "scattermapbox": [
           {
            "marker": {
             "colorbar": {
              "outlinewidth": 0,
              "ticks": ""
             }
            },
            "type": "scattermapbox"
           }
          ],
          "scatterpolar": [
           {
            "marker": {
             "colorbar": {
              "outlinewidth": 0,
              "ticks": ""
             }
            },
            "type": "scatterpolar"
           }
          ],
          "scatterpolargl": [
           {
            "marker": {
             "colorbar": {
              "outlinewidth": 0,
              "ticks": ""
             }
            },
            "type": "scatterpolargl"
           }
          ],
          "scatterternary": [
           {
            "marker": {
             "colorbar": {
              "outlinewidth": 0,
              "ticks": ""
             }
            },
            "type": "scatterternary"
           }
          ],
          "surface": [
           {
            "colorbar": {
             "outlinewidth": 0,
             "ticks": ""
            },
            "colorscale": [
             [
              0,
              "#0d0887"
             ],
             [
              0.1111111111111111,
              "#46039f"
             ],
             [
              0.2222222222222222,
              "#7201a8"
             ],
             [
              0.3333333333333333,
              "#9c179e"
             ],
             [
              0.4444444444444444,
              "#bd3786"
             ],
             [
              0.5555555555555556,
              "#d8576b"
             ],
             [
              0.6666666666666666,
              "#ed7953"
             ],
             [
              0.7777777777777778,
              "#fb9f3a"
             ],
             [
              0.8888888888888888,
              "#fdca26"
             ],
             [
              1,
              "#f0f921"
             ]
            ],
            "type": "surface"
           }
          ],
          "table": [
           {
            "cells": {
             "fill": {
              "color": "#EBF0F8"
             },
             "line": {
              "color": "white"
             }
            },
            "header": {
             "fill": {
              "color": "#C8D4E3"
             },
             "line": {
              "color": "white"
             }
            },
            "type": "table"
           }
          ]
         },
         "layout": {
          "annotationdefaults": {
           "arrowcolor": "#2a3f5f",
           "arrowhead": 0,
           "arrowwidth": 1
          },
          "autotypenumbers": "strict",
          "coloraxis": {
           "colorbar": {
            "outlinewidth": 0,
            "ticks": ""
           }
          },
          "colorscale": {
           "diverging": [
            [
             0,
             "#8e0152"
            ],
            [
             0.1,
             "#c51b7d"
            ],
            [
             0.2,
             "#de77ae"
            ],
            [
             0.3,
             "#f1b6da"
            ],
            [
             0.4,
             "#fde0ef"
            ],
            [
             0.5,
             "#f7f7f7"
            ],
            [
             0.6,
             "#e6f5d0"
            ],
            [
             0.7,
             "#b8e186"
            ],
            [
             0.8,
             "#7fbc41"
            ],
            [
             0.9,
             "#4d9221"
            ],
            [
             1,
             "#276419"
            ]
           ],
           "sequential": [
            [
             0,
             "#0d0887"
            ],
            [
             0.1111111111111111,
             "#46039f"
            ],
            [
             0.2222222222222222,
             "#7201a8"
            ],
            [
             0.3333333333333333,
             "#9c179e"
            ],
            [
             0.4444444444444444,
             "#bd3786"
            ],
            [
             0.5555555555555556,
             "#d8576b"
            ],
            [
             0.6666666666666666,
             "#ed7953"
            ],
            [
             0.7777777777777778,
             "#fb9f3a"
            ],
            [
             0.8888888888888888,
             "#fdca26"
            ],
            [
             1,
             "#f0f921"
            ]
           ],
           "sequentialminus": [
            [
             0,
             "#0d0887"
            ],
            [
             0.1111111111111111,
             "#46039f"
            ],
            [
             0.2222222222222222,
             "#7201a8"
            ],
            [
             0.3333333333333333,
             "#9c179e"
            ],
            [
             0.4444444444444444,
             "#bd3786"
            ],
            [
             0.5555555555555556,
             "#d8576b"
            ],
            [
             0.6666666666666666,
             "#ed7953"
            ],
            [
             0.7777777777777778,
             "#fb9f3a"
            ],
            [
             0.8888888888888888,
             "#fdca26"
            ],
            [
             1,
             "#f0f921"
            ]
           ]
          },
          "colorway": [
           "#636efa",
           "#EF553B",
           "#00cc96",
           "#ab63fa",
           "#FFA15A",
           "#19d3f3",
           "#FF6692",
           "#B6E880",
           "#FF97FF",
           "#FECB52"
          ],
          "font": {
           "color": "#2a3f5f"
          },
          "geo": {
           "bgcolor": "white",
           "lakecolor": "white",
           "landcolor": "#E5ECF6",
           "showlakes": true,
           "showland": true,
           "subunitcolor": "white"
          },
          "hoverlabel": {
           "align": "left"
          },
          "hovermode": "closest",
          "mapbox": {
           "style": "light"
          },
          "paper_bgcolor": "white",
          "plot_bgcolor": "#E5ECF6",
          "polar": {
           "angularaxis": {
            "gridcolor": "white",
            "linecolor": "white",
            "ticks": ""
           },
           "bgcolor": "#E5ECF6",
           "radialaxis": {
            "gridcolor": "white",
            "linecolor": "white",
            "ticks": ""
           }
          },
          "scene": {
           "xaxis": {
            "backgroundcolor": "#E5ECF6",
            "gridcolor": "white",
            "gridwidth": 2,
            "linecolor": "white",
            "showbackground": true,
            "ticks": "",
            "zerolinecolor": "white"
           },
           "yaxis": {
            "backgroundcolor": "#E5ECF6",
            "gridcolor": "white",
            "gridwidth": 2,
            "linecolor": "white",
            "showbackground": true,
            "ticks": "",
            "zerolinecolor": "white"
           },
           "zaxis": {
            "backgroundcolor": "#E5ECF6",
            "gridcolor": "white",
            "gridwidth": 2,
            "linecolor": "white",
            "showbackground": true,
            "ticks": "",
            "zerolinecolor": "white"
           }
          },
          "shapedefaults": {
           "line": {
            "color": "#2a3f5f"
           }
          },
          "ternary": {
           "aaxis": {
            "gridcolor": "white",
            "linecolor": "white",
            "ticks": ""
           },
           "baxis": {
            "gridcolor": "white",
            "linecolor": "white",
            "ticks": ""
           },
           "bgcolor": "#E5ECF6",
           "caxis": {
            "gridcolor": "white",
            "linecolor": "white",
            "ticks": ""
           }
          },
          "title": {
           "x": 0.05
          },
          "xaxis": {
           "automargin": true,
           "gridcolor": "white",
           "linecolor": "white",
           "ticks": "",
           "title": {
            "standoff": 15
           },
           "zerolinecolor": "white",
           "zerolinewidth": 2
          },
          "yaxis": {
           "automargin": true,
           "gridcolor": "white",
           "linecolor": "white",
           "ticks": "",
           "title": {
            "standoff": 15
           },
           "zerolinecolor": "white",
           "zerolinewidth": 2
          }
         }
        },
        "title": {
         "text": "Coffee: Uniformity"
        },
        "xaxis": {
         "anchor": "y",
         "domain": [
          0,
          1
         ],
         "title": {
          "text": "Uniformity"
         }
        },
        "yaxis": {
         "anchor": "x",
         "domain": [
          0,
          1
         ],
         "title": {
          "text": "count"
         }
        }
       }
      }
     },
     "metadata": {},
     "output_type": "display_data"
    },
    {
     "data": {
      "application/vnd.plotly.v1+json": {
       "config": {
        "plotlyServerURL": "https://plot.ly"
       },
       "data": [
        {
         "alignmentgroup": "True",
         "bingroup": "x",
         "hovertemplate": "Clean Cup=%{x}<br>count=%{y}<extra></extra>",
         "legendgroup": "",
         "marker": {
          "color": "#636efa",
          "pattern": {
           "shape": ""
          }
         },
         "name": "",
         "offsetgroup": "",
         "orientation": "v",
         "showlegend": false,
         "type": "histogram",
         "x": [
          10,
          10,
          10,
          10,
          10,
          10,
          10,
          10,
          10,
          10,
          10,
          10,
          10,
          10,
          10,
          10,
          10,
          10,
          10,
          10,
          10,
          10,
          10,
          10,
          10,
          10,
          10,
          10,
          10,
          10,
          10,
          10,
          10,
          9.33,
          10,
          10,
          10,
          10,
          10,
          10,
          10,
          10,
          10,
          10,
          10,
          10,
          10,
          10,
          10,
          10,
          10,
          10,
          10,
          10,
          10,
          10,
          10,
          10,
          10,
          10,
          10,
          10,
          10,
          10,
          10,
          10,
          10,
          10,
          10,
          10,
          10,
          10,
          10,
          10,
          10,
          10,
          10,
          10,
          10,
          10,
          10,
          10,
          10,
          10,
          10,
          10,
          10,
          10,
          10,
          10,
          10,
          10,
          10,
          10,
          10,
          10,
          10,
          10,
          10,
          10,
          10,
          10,
          10,
          10,
          10,
          10,
          10,
          10,
          10,
          10,
          10,
          10,
          10,
          10,
          10,
          10,
          10,
          10,
          10,
          10,
          10,
          10,
          10,
          10,
          10,
          10,
          10,
          10,
          10,
          10,
          10,
          10,
          10,
          10,
          10,
          10,
          10,
          10,
          10,
          10,
          10,
          10,
          10,
          10,
          10,
          10,
          10,
          10,
          10,
          10,
          10,
          10,
          10,
          10,
          10,
          10,
          10,
          10,
          10,
          10,
          10,
          10,
          10,
          10,
          10,
          10,
          10,
          10,
          10,
          10,
          10,
          10,
          10,
          10,
          10,
          10,
          10,
          10,
          10,
          10,
          10,
          10,
          9.33,
          10,
          10,
          10,
          10,
          10,
          10,
          10,
          10,
          10,
          10,
          10,
          10,
          10,
          10,
          10,
          9.33,
          10,
          10,
          10,
          10,
          10,
          10,
          10,
          10,
          10,
          10,
          10,
          10,
          10,
          10,
          10,
          10,
          10,
          10,
          10,
          10,
          10,
          10,
          10,
          10,
          10,
          10,
          10,
          10,
          10,
          10,
          10,
          10,
          10,
          10,
          10,
          10,
          10,
          10,
          10,
          10,
          10,
          10,
          10,
          10,
          10,
          10,
          10,
          10,
          10,
          10,
          10,
          10,
          10,
          10,
          10,
          10,
          10,
          10,
          10,
          10,
          10,
          10,
          10,
          10,
          10,
          10,
          10,
          10,
          10,
          10,
          10,
          10,
          10,
          10,
          10,
          10,
          10,
          10,
          10,
          10,
          10,
          10,
          10,
          10,
          10,
          10,
          10,
          10,
          10,
          10,
          10,
          10,
          10,
          10,
          10,
          10,
          10,
          10,
          10,
          10,
          10,
          10,
          10,
          10,
          10,
          10,
          10,
          10,
          10,
          10,
          10,
          10,
          10,
          10,
          10,
          10,
          10,
          10,
          10,
          10,
          10,
          10,
          10,
          10,
          10,
          10,
          10,
          10,
          10,
          10,
          10,
          10,
          10,
          10,
          10,
          10,
          10,
          10,
          10,
          10,
          10,
          10,
          10,
          10,
          10,
          10,
          10,
          10,
          10,
          10,
          10,
          10,
          10,
          10,
          10,
          9.33,
          10,
          10,
          10,
          10,
          10,
          10,
          10,
          10,
          10,
          10,
          10,
          10,
          10,
          10,
          10,
          10,
          10,
          10,
          10,
          10,
          10,
          10,
          10,
          10,
          10,
          10,
          10,
          10,
          10,
          10,
          10,
          10,
          10,
          10,
          10,
          10,
          10,
          10,
          10,
          10,
          10,
          10,
          10,
          10,
          10,
          10,
          10,
          10,
          10,
          10,
          10,
          10,
          10,
          10,
          10,
          10,
          10,
          10,
          10,
          10,
          10,
          10,
          10,
          10,
          10,
          10,
          10,
          10,
          10,
          10,
          10,
          10,
          10,
          10,
          10,
          10,
          10,
          10,
          10,
          10,
          10,
          10,
          10,
          10,
          10,
          10,
          10,
          10,
          10,
          10,
          10,
          10,
          10,
          10,
          10,
          10,
          10,
          10,
          10,
          10,
          10,
          10,
          10,
          10,
          10,
          10,
          10,
          10,
          10,
          6.67,
          10,
          10,
          10,
          10,
          10,
          10,
          10,
          10,
          10,
          10,
          10,
          10,
          10,
          10,
          10,
          10,
          10,
          10,
          10,
          10,
          9.33,
          10,
          10,
          10,
          10,
          10,
          10,
          10,
          10,
          10,
          10,
          10,
          10,
          10,
          10,
          10,
          10,
          10,
          10,
          10,
          10,
          10,
          10,
          10,
          10,
          10,
          10,
          10,
          10,
          10,
          10,
          10,
          10,
          10,
          10,
          10,
          10,
          10,
          10,
          10,
          10,
          10,
          10,
          10,
          10,
          10,
          10,
          10,
          10,
          10,
          10,
          10,
          10,
          10,
          10,
          10,
          10,
          10,
          10,
          10,
          10,
          10,
          10,
          10,
          10,
          10,
          10,
          10,
          10,
          10,
          10,
          10,
          10,
          10,
          10,
          10,
          10,
          10,
          10,
          10,
          10,
          10,
          10,
          10,
          10,
          10,
          10,
          10,
          10,
          9.33,
          10,
          10,
          10,
          10,
          10,
          10,
          10,
          10,
          10,
          10,
          10,
          10,
          10,
          10,
          10,
          10,
          10,
          10,
          10,
          10,
          10,
          10,
          10,
          10,
          10,
          10,
          10,
          10,
          10,
          10,
          10,
          10,
          10,
          10,
          10,
          10,
          10,
          10,
          10,
          10,
          10,
          10,
          10,
          10,
          10,
          10,
          10,
          10,
          10,
          10,
          10,
          9.33,
          10,
          10,
          10,
          10,
          10,
          10,
          10,
          10,
          10,
          10,
          10,
          10,
          10,
          10,
          10,
          10,
          10,
          10,
          10,
          10,
          10,
          10,
          10,
          10,
          10,
          10,
          10,
          10,
          10,
          10,
          10,
          10,
          9.33,
          10,
          10,
          10,
          10,
          10,
          10,
          10,
          10,
          10,
          10,
          10,
          10,
          10,
          10,
          10,
          10,
          10,
          10,
          10,
          10,
          10,
          10,
          10,
          10,
          10,
          10,
          10,
          10,
          10,
          10,
          10,
          10,
          10,
          10,
          10,
          10,
          10,
          10,
          10,
          10,
          10,
          10,
          10,
          10,
          9.33,
          10,
          10,
          10,
          10,
          10,
          10,
          10,
          10,
          10,
          10,
          10,
          10,
          10,
          10,
          10,
          10,
          10,
          10,
          10,
          10,
          10,
          10,
          10,
          10,
          10,
          9.33,
          10,
          9.33,
          10,
          10,
          10,
          10,
          10,
          10,
          10,
          10,
          10,
          10,
          10,
          10,
          10,
          10,
          10,
          9.33,
          10,
          10,
          10,
          10,
          10,
          10,
          10,
          10,
          10,
          10,
          10,
          10,
          10,
          10,
          10,
          10,
          10,
          10,
          10,
          10,
          10,
          10,
          10,
          10,
          10,
          10,
          10,
          10,
          10,
          10,
          10,
          10,
          10,
          10,
          10,
          10,
          10,
          8.67,
          10,
          10,
          10,
          10,
          10,
          10,
          10,
          10,
          10,
          9.33,
          10,
          10,
          10,
          10,
          9.33,
          9.33,
          10,
          10,
          8,
          10,
          9.33,
          10,
          10,
          10,
          10,
          9.33,
          10,
          10,
          10,
          10,
          10,
          10,
          10,
          10,
          10,
          10,
          10,
          10,
          9.33,
          10,
          10,
          10,
          9.33,
          10,
          10,
          10,
          10,
          9.33,
          10,
          10,
          10,
          10,
          10,
          8.67,
          9.33,
          10,
          10,
          9.33,
          10,
          10,
          9.33,
          10,
          10,
          10,
          10,
          10,
          10,
          10,
          10,
          10,
          10,
          10,
          10,
          9.33,
          10,
          10,
          6.67,
          9.33,
          10,
          10,
          10,
          10,
          10,
          9.33,
          10,
          9.33,
          10,
          10,
          9.33,
          9.33,
          10,
          10,
          9.33,
          10,
          10,
          9.33,
          10,
          10,
          8,
          9.33,
          9.33,
          10,
          8.67,
          5.33,
          9.33,
          8.67,
          10,
          10,
          7.33,
          8.67,
          10,
          8,
          8,
          6,
          6.67,
          7.33,
          6.67,
          8.67,
          5.33,
          7.33,
          10,
          6.67,
          6.67,
          2.67,
          8,
          8,
          6.67,
          2.67,
          6,
          6,
          8,
          8,
          8,
          0,
          6,
          6,
          1.33
         ],
         "xaxis": "x",
         "yaxis": "y"
        }
       ],
       "layout": {
        "barmode": "relative",
        "legend": {
         "tracegroupgap": 0
        },
        "template": {
         "data": {
          "bar": [
           {
            "error_x": {
             "color": "#2a3f5f"
            },
            "error_y": {
             "color": "#2a3f5f"
            },
            "marker": {
             "line": {
              "color": "#E5ECF6",
              "width": 0.5
             },
             "pattern": {
              "fillmode": "overlay",
              "size": 10,
              "solidity": 0.2
             }
            },
            "type": "bar"
           }
          ],
          "barpolar": [
           {
            "marker": {
             "line": {
              "color": "#E5ECF6",
              "width": 0.5
             },
             "pattern": {
              "fillmode": "overlay",
              "size": 10,
              "solidity": 0.2
             }
            },
            "type": "barpolar"
           }
          ],
          "carpet": [
           {
            "aaxis": {
             "endlinecolor": "#2a3f5f",
             "gridcolor": "white",
             "linecolor": "white",
             "minorgridcolor": "white",
             "startlinecolor": "#2a3f5f"
            },
            "baxis": {
             "endlinecolor": "#2a3f5f",
             "gridcolor": "white",
             "linecolor": "white",
             "minorgridcolor": "white",
             "startlinecolor": "#2a3f5f"
            },
            "type": "carpet"
           }
          ],
          "choropleth": [
           {
            "colorbar": {
             "outlinewidth": 0,
             "ticks": ""
            },
            "type": "choropleth"
           }
          ],
          "contour": [
           {
            "colorbar": {
             "outlinewidth": 0,
             "ticks": ""
            },
            "colorscale": [
             [
              0,
              "#0d0887"
             ],
             [
              0.1111111111111111,
              "#46039f"
             ],
             [
              0.2222222222222222,
              "#7201a8"
             ],
             [
              0.3333333333333333,
              "#9c179e"
             ],
             [
              0.4444444444444444,
              "#bd3786"
             ],
             [
              0.5555555555555556,
              "#d8576b"
             ],
             [
              0.6666666666666666,
              "#ed7953"
             ],
             [
              0.7777777777777778,
              "#fb9f3a"
             ],
             [
              0.8888888888888888,
              "#fdca26"
             ],
             [
              1,
              "#f0f921"
             ]
            ],
            "type": "contour"
           }
          ],
          "contourcarpet": [
           {
            "colorbar": {
             "outlinewidth": 0,
             "ticks": ""
            },
            "type": "contourcarpet"
           }
          ],
          "heatmap": [
           {
            "colorbar": {
             "outlinewidth": 0,
             "ticks": ""
            },
            "colorscale": [
             [
              0,
              "#0d0887"
             ],
             [
              0.1111111111111111,
              "#46039f"
             ],
             [
              0.2222222222222222,
              "#7201a8"
             ],
             [
              0.3333333333333333,
              "#9c179e"
             ],
             [
              0.4444444444444444,
              "#bd3786"
             ],
             [
              0.5555555555555556,
              "#d8576b"
             ],
             [
              0.6666666666666666,
              "#ed7953"
             ],
             [
              0.7777777777777778,
              "#fb9f3a"
             ],
             [
              0.8888888888888888,
              "#fdca26"
             ],
             [
              1,
              "#f0f921"
             ]
            ],
            "type": "heatmap"
           }
          ],
          "heatmapgl": [
           {
            "colorbar": {
             "outlinewidth": 0,
             "ticks": ""
            },
            "colorscale": [
             [
              0,
              "#0d0887"
             ],
             [
              0.1111111111111111,
              "#46039f"
             ],
             [
              0.2222222222222222,
              "#7201a8"
             ],
             [
              0.3333333333333333,
              "#9c179e"
             ],
             [
              0.4444444444444444,
              "#bd3786"
             ],
             [
              0.5555555555555556,
              "#d8576b"
             ],
             [
              0.6666666666666666,
              "#ed7953"
             ],
             [
              0.7777777777777778,
              "#fb9f3a"
             ],
             [
              0.8888888888888888,
              "#fdca26"
             ],
             [
              1,
              "#f0f921"
             ]
            ],
            "type": "heatmapgl"
           }
          ],
          "histogram": [
           {
            "marker": {
             "pattern": {
              "fillmode": "overlay",
              "size": 10,
              "solidity": 0.2
             }
            },
            "type": "histogram"
           }
          ],
          "histogram2d": [
           {
            "colorbar": {
             "outlinewidth": 0,
             "ticks": ""
            },
            "colorscale": [
             [
              0,
              "#0d0887"
             ],
             [
              0.1111111111111111,
              "#46039f"
             ],
             [
              0.2222222222222222,
              "#7201a8"
             ],
             [
              0.3333333333333333,
              "#9c179e"
             ],
             [
              0.4444444444444444,
              "#bd3786"
             ],
             [
              0.5555555555555556,
              "#d8576b"
             ],
             [
              0.6666666666666666,
              "#ed7953"
             ],
             [
              0.7777777777777778,
              "#fb9f3a"
             ],
             [
              0.8888888888888888,
              "#fdca26"
             ],
             [
              1,
              "#f0f921"
             ]
            ],
            "type": "histogram2d"
           }
          ],
          "histogram2dcontour": [
           {
            "colorbar": {
             "outlinewidth": 0,
             "ticks": ""
            },
            "colorscale": [
             [
              0,
              "#0d0887"
             ],
             [
              0.1111111111111111,
              "#46039f"
             ],
             [
              0.2222222222222222,
              "#7201a8"
             ],
             [
              0.3333333333333333,
              "#9c179e"
             ],
             [
              0.4444444444444444,
              "#bd3786"
             ],
             [
              0.5555555555555556,
              "#d8576b"
             ],
             [
              0.6666666666666666,
              "#ed7953"
             ],
             [
              0.7777777777777778,
              "#fb9f3a"
             ],
             [
              0.8888888888888888,
              "#fdca26"
             ],
             [
              1,
              "#f0f921"
             ]
            ],
            "type": "histogram2dcontour"
           }
          ],
          "mesh3d": [
           {
            "colorbar": {
             "outlinewidth": 0,
             "ticks": ""
            },
            "type": "mesh3d"
           }
          ],
          "parcoords": [
           {
            "line": {
             "colorbar": {
              "outlinewidth": 0,
              "ticks": ""
             }
            },
            "type": "parcoords"
           }
          ],
          "pie": [
           {
            "automargin": true,
            "type": "pie"
           }
          ],
          "scatter": [
           {
            "marker": {
             "colorbar": {
              "outlinewidth": 0,
              "ticks": ""
             }
            },
            "type": "scatter"
           }
          ],
          "scatter3d": [
           {
            "line": {
             "colorbar": {
              "outlinewidth": 0,
              "ticks": ""
             }
            },
            "marker": {
             "colorbar": {
              "outlinewidth": 0,
              "ticks": ""
             }
            },
            "type": "scatter3d"
           }
          ],
          "scattercarpet": [
           {
            "marker": {
             "colorbar": {
              "outlinewidth": 0,
              "ticks": ""
             }
            },
            "type": "scattercarpet"
           }
          ],
          "scattergeo": [
           {
            "marker": {
             "colorbar": {
              "outlinewidth": 0,
              "ticks": ""
             }
            },
            "type": "scattergeo"
           }
          ],
          "scattergl": [
           {
            "marker": {
             "colorbar": {
              "outlinewidth": 0,
              "ticks": ""
             }
            },
            "type": "scattergl"
           }
          ],
          "scattermapbox": [
           {
            "marker": {
             "colorbar": {
              "outlinewidth": 0,
              "ticks": ""
             }
            },
            "type": "scattermapbox"
           }
          ],
          "scatterpolar": [
           {
            "marker": {
             "colorbar": {
              "outlinewidth": 0,
              "ticks": ""
             }
            },
            "type": "scatterpolar"
           }
          ],
          "scatterpolargl": [
           {
            "marker": {
             "colorbar": {
              "outlinewidth": 0,
              "ticks": ""
             }
            },
            "type": "scatterpolargl"
           }
          ],
          "scatterternary": [
           {
            "marker": {
             "colorbar": {
              "outlinewidth": 0,
              "ticks": ""
             }
            },
            "type": "scatterternary"
           }
          ],
          "surface": [
           {
            "colorbar": {
             "outlinewidth": 0,
             "ticks": ""
            },
            "colorscale": [
             [
              0,
              "#0d0887"
             ],
             [
              0.1111111111111111,
              "#46039f"
             ],
             [
              0.2222222222222222,
              "#7201a8"
             ],
             [
              0.3333333333333333,
              "#9c179e"
             ],
             [
              0.4444444444444444,
              "#bd3786"
             ],
             [
              0.5555555555555556,
              "#d8576b"
             ],
             [
              0.6666666666666666,
              "#ed7953"
             ],
             [
              0.7777777777777778,
              "#fb9f3a"
             ],
             [
              0.8888888888888888,
              "#fdca26"
             ],
             [
              1,
              "#f0f921"
             ]
            ],
            "type": "surface"
           }
          ],
          "table": [
           {
            "cells": {
             "fill": {
              "color": "#EBF0F8"
             },
             "line": {
              "color": "white"
             }
            },
            "header": {
             "fill": {
              "color": "#C8D4E3"
             },
             "line": {
              "color": "white"
             }
            },
            "type": "table"
           }
          ]
         },
         "layout": {
          "annotationdefaults": {
           "arrowcolor": "#2a3f5f",
           "arrowhead": 0,
           "arrowwidth": 1
          },
          "autotypenumbers": "strict",
          "coloraxis": {
           "colorbar": {
            "outlinewidth": 0,
            "ticks": ""
           }
          },
          "colorscale": {
           "diverging": [
            [
             0,
             "#8e0152"
            ],
            [
             0.1,
             "#c51b7d"
            ],
            [
             0.2,
             "#de77ae"
            ],
            [
             0.3,
             "#f1b6da"
            ],
            [
             0.4,
             "#fde0ef"
            ],
            [
             0.5,
             "#f7f7f7"
            ],
            [
             0.6,
             "#e6f5d0"
            ],
            [
             0.7,
             "#b8e186"
            ],
            [
             0.8,
             "#7fbc41"
            ],
            [
             0.9,
             "#4d9221"
            ],
            [
             1,
             "#276419"
            ]
           ],
           "sequential": [
            [
             0,
             "#0d0887"
            ],
            [
             0.1111111111111111,
             "#46039f"
            ],
            [
             0.2222222222222222,
             "#7201a8"
            ],
            [
             0.3333333333333333,
             "#9c179e"
            ],
            [
             0.4444444444444444,
             "#bd3786"
            ],
            [
             0.5555555555555556,
             "#d8576b"
            ],
            [
             0.6666666666666666,
             "#ed7953"
            ],
            [
             0.7777777777777778,
             "#fb9f3a"
            ],
            [
             0.8888888888888888,
             "#fdca26"
            ],
            [
             1,
             "#f0f921"
            ]
           ],
           "sequentialminus": [
            [
             0,
             "#0d0887"
            ],
            [
             0.1111111111111111,
             "#46039f"
            ],
            [
             0.2222222222222222,
             "#7201a8"
            ],
            [
             0.3333333333333333,
             "#9c179e"
            ],
            [
             0.4444444444444444,
             "#bd3786"
            ],
            [
             0.5555555555555556,
             "#d8576b"
            ],
            [
             0.6666666666666666,
             "#ed7953"
            ],
            [
             0.7777777777777778,
             "#fb9f3a"
            ],
            [
             0.8888888888888888,
             "#fdca26"
            ],
            [
             1,
             "#f0f921"
            ]
           ]
          },
          "colorway": [
           "#636efa",
           "#EF553B",
           "#00cc96",
           "#ab63fa",
           "#FFA15A",
           "#19d3f3",
           "#FF6692",
           "#B6E880",
           "#FF97FF",
           "#FECB52"
          ],
          "font": {
           "color": "#2a3f5f"
          },
          "geo": {
           "bgcolor": "white",
           "lakecolor": "white",
           "landcolor": "#E5ECF6",
           "showlakes": true,
           "showland": true,
           "subunitcolor": "white"
          },
          "hoverlabel": {
           "align": "left"
          },
          "hovermode": "closest",
          "mapbox": {
           "style": "light"
          },
          "paper_bgcolor": "white",
          "plot_bgcolor": "#E5ECF6",
          "polar": {
           "angularaxis": {
            "gridcolor": "white",
            "linecolor": "white",
            "ticks": ""
           },
           "bgcolor": "#E5ECF6",
           "radialaxis": {
            "gridcolor": "white",
            "linecolor": "white",
            "ticks": ""
           }
          },
          "scene": {
           "xaxis": {
            "backgroundcolor": "#E5ECF6",
            "gridcolor": "white",
            "gridwidth": 2,
            "linecolor": "white",
            "showbackground": true,
            "ticks": "",
            "zerolinecolor": "white"
           },
           "yaxis": {
            "backgroundcolor": "#E5ECF6",
            "gridcolor": "white",
            "gridwidth": 2,
            "linecolor": "white",
            "showbackground": true,
            "ticks": "",
            "zerolinecolor": "white"
           },
           "zaxis": {
            "backgroundcolor": "#E5ECF6",
            "gridcolor": "white",
            "gridwidth": 2,
            "linecolor": "white",
            "showbackground": true,
            "ticks": "",
            "zerolinecolor": "white"
           }
          },
          "shapedefaults": {
           "line": {
            "color": "#2a3f5f"
           }
          },
          "ternary": {
           "aaxis": {
            "gridcolor": "white",
            "linecolor": "white",
            "ticks": ""
           },
           "baxis": {
            "gridcolor": "white",
            "linecolor": "white",
            "ticks": ""
           },
           "bgcolor": "#E5ECF6",
           "caxis": {
            "gridcolor": "white",
            "linecolor": "white",
            "ticks": ""
           }
          },
          "title": {
           "x": 0.05
          },
          "xaxis": {
           "automargin": true,
           "gridcolor": "white",
           "linecolor": "white",
           "ticks": "",
           "title": {
            "standoff": 15
           },
           "zerolinecolor": "white",
           "zerolinewidth": 2
          },
          "yaxis": {
           "automargin": true,
           "gridcolor": "white",
           "linecolor": "white",
           "ticks": "",
           "title": {
            "standoff": 15
           },
           "zerolinecolor": "white",
           "zerolinewidth": 2
          }
         }
        },
        "title": {
         "text": "Coffee: Clean Cup"
        },
        "xaxis": {
         "anchor": "y",
         "domain": [
          0,
          1
         ],
         "title": {
          "text": "Clean Cup"
         }
        },
        "yaxis": {
         "anchor": "x",
         "domain": [
          0,
          1
         ],
         "title": {
          "text": "count"
         }
        }
       }
      }
     },
     "metadata": {},
     "output_type": "display_data"
    },
    {
     "data": {
      "application/vnd.plotly.v1+json": {
       "config": {
        "plotlyServerURL": "https://plot.ly"
       },
       "data": [
        {
         "alignmentgroup": "True",
         "bingroup": "x",
         "hovertemplate": "Sweetness=%{x}<br>count=%{y}<extra></extra>",
         "legendgroup": "",
         "marker": {
          "color": "#636efa",
          "pattern": {
           "shape": ""
          }
         },
         "name": "",
         "offsetgroup": "",
         "orientation": "v",
         "showlegend": false,
         "type": "histogram",
         "x": [
          10,
          10,
          10,
          10,
          10,
          10,
          10,
          10,
          10,
          10,
          10,
          10,
          10,
          10,
          10,
          10,
          10,
          10,
          10,
          10,
          10,
          10,
          10,
          10,
          10,
          10,
          10,
          10,
          10,
          10,
          10,
          10,
          10,
          10,
          10,
          10,
          10,
          10,
          10,
          10,
          10,
          10,
          10,
          10,
          10,
          9.33,
          10,
          10,
          10,
          10,
          10,
          10,
          10,
          10,
          10,
          10,
          10,
          10,
          10,
          10,
          10,
          10,
          10,
          10,
          10,
          10,
          10,
          10,
          10,
          10,
          10,
          10,
          10,
          10,
          10,
          10,
          10,
          10,
          10,
          10,
          10,
          10,
          10,
          10,
          10,
          10,
          10,
          10,
          10,
          10,
          10,
          10,
          10,
          10,
          10,
          10,
          10,
          10,
          10,
          10,
          10,
          10,
          10,
          10,
          10,
          10,
          10,
          10,
          10,
          10,
          10,
          10,
          10,
          10,
          10,
          10,
          10,
          10,
          10,
          10,
          10,
          10,
          10,
          10,
          10,
          10,
          10,
          10,
          10,
          10,
          10,
          10,
          10,
          10,
          10,
          10,
          10,
          10,
          10,
          10,
          10,
          10,
          10,
          10,
          10,
          10,
          10,
          10,
          10,
          10,
          10,
          10,
          10,
          10,
          10,
          10,
          10,
          10,
          10,
          10,
          10,
          10,
          10,
          10,
          10,
          10,
          10,
          9.33,
          10,
          10,
          10,
          10,
          10,
          10,
          10,
          10,
          10,
          10,
          10,
          10,
          10,
          10,
          10,
          10,
          10,
          10,
          10,
          10,
          10,
          10,
          10,
          10,
          10,
          10,
          10,
          10,
          10,
          10,
          9.33,
          10,
          10,
          10,
          10,
          10,
          10,
          10,
          10,
          10,
          10,
          10,
          10,
          10,
          10,
          10,
          10,
          10,
          10,
          10,
          10,
          10,
          10,
          10,
          10,
          10,
          10,
          10,
          10,
          10,
          10,
          10,
          10,
          10,
          10,
          10,
          10,
          10,
          10,
          10,
          10,
          10,
          10,
          10,
          10,
          10,
          10,
          10,
          10,
          10,
          10,
          10,
          10,
          10,
          10,
          10,
          10,
          10,
          10,
          10,
          10,
          10,
          10,
          10,
          10,
          10,
          10,
          10,
          10,
          10,
          10,
          10,
          10,
          10,
          10,
          10,
          10,
          10,
          10,
          10,
          10,
          10,
          10,
          10,
          10,
          10,
          10,
          10,
          10,
          10,
          10,
          10,
          10,
          10,
          10,
          10,
          10,
          10,
          9.33,
          10,
          10,
          10,
          10,
          10,
          10,
          10,
          10,
          10,
          10,
          10,
          10,
          10,
          10,
          10,
          10,
          10,
          10,
          10,
          10,
          10,
          9.33,
          10,
          10,
          10,
          10,
          10,
          10,
          10,
          10,
          10,
          10,
          10,
          10,
          10,
          10,
          9.33,
          10,
          10,
          10,
          10,
          10,
          10,
          10,
          10,
          10,
          10,
          10,
          10,
          10,
          10,
          10,
          10,
          10,
          10,
          10,
          10,
          9.33,
          10,
          10,
          10,
          10,
          10,
          10,
          10,
          10,
          10,
          10,
          10,
          10,
          10,
          10,
          10,
          10,
          10,
          10,
          10,
          10,
          10,
          10,
          10,
          10,
          10,
          10,
          10,
          10,
          10,
          10,
          10,
          10,
          10,
          10,
          10,
          10,
          10,
          10,
          10,
          10,
          9.33,
          10,
          10,
          10,
          10,
          10,
          10,
          10,
          10,
          10,
          10,
          10,
          10,
          10,
          10,
          10,
          10,
          10,
          10,
          10,
          10,
          10,
          10,
          10,
          10,
          10,
          10,
          10,
          10,
          10,
          10,
          10,
          10,
          10,
          10,
          10,
          10,
          10,
          10,
          10,
          10,
          10,
          10,
          10,
          10,
          10,
          10,
          10,
          10,
          10,
          10,
          10,
          10,
          10,
          10,
          10,
          10,
          10,
          10,
          10,
          10,
          10,
          10,
          10,
          10,
          10,
          10,
          10,
          10,
          10,
          10,
          10,
          6.67,
          10,
          10,
          10,
          10,
          10,
          10,
          10,
          10,
          10,
          10,
          10,
          10,
          10,
          10,
          10,
          10,
          10,
          9.33,
          10,
          10,
          10,
          10,
          10,
          10,
          10,
          10,
          10,
          10,
          10,
          10,
          10,
          10,
          10,
          10,
          10,
          10,
          10,
          10,
          10,
          10,
          10,
          10,
          9.33,
          10,
          10,
          10,
          10,
          10,
          10,
          10,
          10,
          10,
          10,
          10,
          10,
          10,
          10,
          10,
          10,
          10,
          10,
          10,
          10,
          10,
          10,
          10,
          10,
          10,
          10,
          10,
          10,
          10,
          10,
          10,
          9.33,
          10,
          10,
          10,
          10,
          9.33,
          10,
          10,
          10,
          10,
          10,
          10,
          10,
          10,
          10,
          10,
          10,
          10,
          10,
          10,
          10,
          10,
          10,
          10,
          10,
          10,
          10,
          10,
          10,
          10,
          10,
          10,
          9.33,
          9.33,
          10,
          10,
          10,
          10,
          10,
          10,
          10,
          10,
          10,
          10,
          10,
          10,
          10,
          10,
          10,
          10,
          10,
          10,
          10,
          10,
          10,
          10,
          10,
          10,
          10,
          10,
          10,
          10,
          10,
          10,
          10,
          10,
          10,
          10,
          10,
          9.33,
          10,
          10,
          10,
          10,
          8.67,
          10,
          10,
          10,
          10,
          10,
          10,
          10,
          10,
          9.33,
          9.33,
          10,
          10,
          10,
          10,
          10,
          10,
          10,
          10,
          10,
          10,
          10,
          10,
          10,
          10,
          10,
          10,
          10,
          10,
          10,
          10,
          10,
          10,
          10,
          10,
          10,
          10,
          10,
          10,
          10,
          10,
          10,
          10,
          9.33,
          10,
          10,
          10,
          10,
          10,
          10,
          10,
          10,
          10,
          10,
          10,
          10,
          10,
          10,
          10,
          10,
          10,
          10,
          10,
          10,
          10,
          10,
          9.33,
          10,
          10,
          10,
          10,
          10,
          10,
          10,
          10,
          10,
          10,
          10,
          10,
          10,
          10,
          10,
          10,
          10,
          10,
          10,
          10,
          10,
          9.33,
          10,
          10,
          10,
          10,
          10,
          10,
          10,
          10,
          10,
          10,
          10,
          10,
          10,
          10,
          10,
          10,
          10,
          10,
          10,
          10,
          10,
          10,
          10,
          10,
          10,
          10,
          10,
          10,
          10,
          10,
          10,
          10,
          10,
          10,
          10,
          10,
          10,
          10,
          10,
          10,
          10,
          10,
          10,
          10,
          10,
          10,
          10,
          10,
          10,
          10,
          10,
          10,
          10,
          10,
          10,
          10,
          10,
          10,
          10,
          10,
          10,
          10,
          10,
          10,
          10,
          10,
          10,
          10,
          10,
          10,
          10,
          10,
          10,
          10,
          10,
          10,
          10,
          10,
          10,
          10,
          10,
          10,
          10,
          10,
          10,
          10,
          10,
          10,
          10,
          10,
          10,
          10,
          10,
          10,
          10,
          10,
          9.33,
          8.67,
          10,
          10,
          10,
          10,
          10,
          10,
          10,
          10,
          10,
          9.33,
          10,
          10,
          10,
          10,
          10,
          10,
          10,
          10,
          10,
          10,
          10,
          10,
          9.33,
          10,
          10,
          10,
          10,
          10,
          10,
          10,
          10,
          9.33,
          10,
          10,
          10,
          10,
          10,
          8.67,
          10,
          10,
          10,
          10,
          10,
          10,
          9.33,
          10,
          10,
          10,
          10,
          10,
          10,
          10,
          10,
          10,
          8.67,
          9.33,
          10,
          10,
          10,
          10,
          10,
          10,
          10,
          10,
          10,
          10,
          10,
          10,
          10,
          10,
          10,
          10,
          9.33,
          9.33,
          10,
          8,
          10,
          10,
          10,
          10,
          10,
          10,
          10,
          9.33,
          10,
          10,
          10,
          9.33,
          10,
          8.67,
          10,
          9.33,
          10,
          10,
          9.33,
          8,
          10,
          10,
          10,
          10,
          10,
          10,
          10,
          10,
          8.67,
          10,
          10,
          10,
          8,
          8,
          10,
          10,
          10,
          10,
          8,
          8,
          8,
          10,
          6,
          6,
          1.33
         ],
         "xaxis": "x",
         "yaxis": "y"
        }
       ],
       "layout": {
        "barmode": "relative",
        "legend": {
         "tracegroupgap": 0
        },
        "template": {
         "data": {
          "bar": [
           {
            "error_x": {
             "color": "#2a3f5f"
            },
            "error_y": {
             "color": "#2a3f5f"
            },
            "marker": {
             "line": {
              "color": "#E5ECF6",
              "width": 0.5
             },
             "pattern": {
              "fillmode": "overlay",
              "size": 10,
              "solidity": 0.2
             }
            },
            "type": "bar"
           }
          ],
          "barpolar": [
           {
            "marker": {
             "line": {
              "color": "#E5ECF6",
              "width": 0.5
             },
             "pattern": {
              "fillmode": "overlay",
              "size": 10,
              "solidity": 0.2
             }
            },
            "type": "barpolar"
           }
          ],
          "carpet": [
           {
            "aaxis": {
             "endlinecolor": "#2a3f5f",
             "gridcolor": "white",
             "linecolor": "white",
             "minorgridcolor": "white",
             "startlinecolor": "#2a3f5f"
            },
            "baxis": {
             "endlinecolor": "#2a3f5f",
             "gridcolor": "white",
             "linecolor": "white",
             "minorgridcolor": "white",
             "startlinecolor": "#2a3f5f"
            },
            "type": "carpet"
           }
          ],
          "choropleth": [
           {
            "colorbar": {
             "outlinewidth": 0,
             "ticks": ""
            },
            "type": "choropleth"
           }
          ],
          "contour": [
           {
            "colorbar": {
             "outlinewidth": 0,
             "ticks": ""
            },
            "colorscale": [
             [
              0,
              "#0d0887"
             ],
             [
              0.1111111111111111,
              "#46039f"
             ],
             [
              0.2222222222222222,
              "#7201a8"
             ],
             [
              0.3333333333333333,
              "#9c179e"
             ],
             [
              0.4444444444444444,
              "#bd3786"
             ],
             [
              0.5555555555555556,
              "#d8576b"
             ],
             [
              0.6666666666666666,
              "#ed7953"
             ],
             [
              0.7777777777777778,
              "#fb9f3a"
             ],
             [
              0.8888888888888888,
              "#fdca26"
             ],
             [
              1,
              "#f0f921"
             ]
            ],
            "type": "contour"
           }
          ],
          "contourcarpet": [
           {
            "colorbar": {
             "outlinewidth": 0,
             "ticks": ""
            },
            "type": "contourcarpet"
           }
          ],
          "heatmap": [
           {
            "colorbar": {
             "outlinewidth": 0,
             "ticks": ""
            },
            "colorscale": [
             [
              0,
              "#0d0887"
             ],
             [
              0.1111111111111111,
              "#46039f"
             ],
             [
              0.2222222222222222,
              "#7201a8"
             ],
             [
              0.3333333333333333,
              "#9c179e"
             ],
             [
              0.4444444444444444,
              "#bd3786"
             ],
             [
              0.5555555555555556,
              "#d8576b"
             ],
             [
              0.6666666666666666,
              "#ed7953"
             ],
             [
              0.7777777777777778,
              "#fb9f3a"
             ],
             [
              0.8888888888888888,
              "#fdca26"
             ],
             [
              1,
              "#f0f921"
             ]
            ],
            "type": "heatmap"
           }
          ],
          "heatmapgl": [
           {
            "colorbar": {
             "outlinewidth": 0,
             "ticks": ""
            },
            "colorscale": [
             [
              0,
              "#0d0887"
             ],
             [
              0.1111111111111111,
              "#46039f"
             ],
             [
              0.2222222222222222,
              "#7201a8"
             ],
             [
              0.3333333333333333,
              "#9c179e"
             ],
             [
              0.4444444444444444,
              "#bd3786"
             ],
             [
              0.5555555555555556,
              "#d8576b"
             ],
             [
              0.6666666666666666,
              "#ed7953"
             ],
             [
              0.7777777777777778,
              "#fb9f3a"
             ],
             [
              0.8888888888888888,
              "#fdca26"
             ],
             [
              1,
              "#f0f921"
             ]
            ],
            "type": "heatmapgl"
           }
          ],
          "histogram": [
           {
            "marker": {
             "pattern": {
              "fillmode": "overlay",
              "size": 10,
              "solidity": 0.2
             }
            },
            "type": "histogram"
           }
          ],
          "histogram2d": [
           {
            "colorbar": {
             "outlinewidth": 0,
             "ticks": ""
            },
            "colorscale": [
             [
              0,
              "#0d0887"
             ],
             [
              0.1111111111111111,
              "#46039f"
             ],
             [
              0.2222222222222222,
              "#7201a8"
             ],
             [
              0.3333333333333333,
              "#9c179e"
             ],
             [
              0.4444444444444444,
              "#bd3786"
             ],
             [
              0.5555555555555556,
              "#d8576b"
             ],
             [
              0.6666666666666666,
              "#ed7953"
             ],
             [
              0.7777777777777778,
              "#fb9f3a"
             ],
             [
              0.8888888888888888,
              "#fdca26"
             ],
             [
              1,
              "#f0f921"
             ]
            ],
            "type": "histogram2d"
           }
          ],
          "histogram2dcontour": [
           {
            "colorbar": {
             "outlinewidth": 0,
             "ticks": ""
            },
            "colorscale": [
             [
              0,
              "#0d0887"
             ],
             [
              0.1111111111111111,
              "#46039f"
             ],
             [
              0.2222222222222222,
              "#7201a8"
             ],
             [
              0.3333333333333333,
              "#9c179e"
             ],
             [
              0.4444444444444444,
              "#bd3786"
             ],
             [
              0.5555555555555556,
              "#d8576b"
             ],
             [
              0.6666666666666666,
              "#ed7953"
             ],
             [
              0.7777777777777778,
              "#fb9f3a"
             ],
             [
              0.8888888888888888,
              "#fdca26"
             ],
             [
              1,
              "#f0f921"
             ]
            ],
            "type": "histogram2dcontour"
           }
          ],
          "mesh3d": [
           {
            "colorbar": {
             "outlinewidth": 0,
             "ticks": ""
            },
            "type": "mesh3d"
           }
          ],
          "parcoords": [
           {
            "line": {
             "colorbar": {
              "outlinewidth": 0,
              "ticks": ""
             }
            },
            "type": "parcoords"
           }
          ],
          "pie": [
           {
            "automargin": true,
            "type": "pie"
           }
          ],
          "scatter": [
           {
            "marker": {
             "colorbar": {
              "outlinewidth": 0,
              "ticks": ""
             }
            },
            "type": "scatter"
           }
          ],
          "scatter3d": [
           {
            "line": {
             "colorbar": {
              "outlinewidth": 0,
              "ticks": ""
             }
            },
            "marker": {
             "colorbar": {
              "outlinewidth": 0,
              "ticks": ""
             }
            },
            "type": "scatter3d"
           }
          ],
          "scattercarpet": [
           {
            "marker": {
             "colorbar": {
              "outlinewidth": 0,
              "ticks": ""
             }
            },
            "type": "scattercarpet"
           }
          ],
          "scattergeo": [
           {
            "marker": {
             "colorbar": {
              "outlinewidth": 0,
              "ticks": ""
             }
            },
            "type": "scattergeo"
           }
          ],
          "scattergl": [
           {
            "marker": {
             "colorbar": {
              "outlinewidth": 0,
              "ticks": ""
             }
            },
            "type": "scattergl"
           }
          ],
          "scattermapbox": [
           {
            "marker": {
             "colorbar": {
              "outlinewidth": 0,
              "ticks": ""
             }
            },
            "type": "scattermapbox"
           }
          ],
          "scatterpolar": [
           {
            "marker": {
             "colorbar": {
              "outlinewidth": 0,
              "ticks": ""
             }
            },
            "type": "scatterpolar"
           }
          ],
          "scatterpolargl": [
           {
            "marker": {
             "colorbar": {
              "outlinewidth": 0,
              "ticks": ""
             }
            },
            "type": "scatterpolargl"
           }
          ],
          "scatterternary": [
           {
            "marker": {
             "colorbar": {
              "outlinewidth": 0,
              "ticks": ""
             }
            },
            "type": "scatterternary"
           }
          ],
          "surface": [
           {
            "colorbar": {
             "outlinewidth": 0,
             "ticks": ""
            },
            "colorscale": [
             [
              0,
              "#0d0887"
             ],
             [
              0.1111111111111111,
              "#46039f"
             ],
             [
              0.2222222222222222,
              "#7201a8"
             ],
             [
              0.3333333333333333,
              "#9c179e"
             ],
             [
              0.4444444444444444,
              "#bd3786"
             ],
             [
              0.5555555555555556,
              "#d8576b"
             ],
             [
              0.6666666666666666,
              "#ed7953"
             ],
             [
              0.7777777777777778,
              "#fb9f3a"
             ],
             [
              0.8888888888888888,
              "#fdca26"
             ],
             [
              1,
              "#f0f921"
             ]
            ],
            "type": "surface"
           }
          ],
          "table": [
           {
            "cells": {
             "fill": {
              "color": "#EBF0F8"
             },
             "line": {
              "color": "white"
             }
            },
            "header": {
             "fill": {
              "color": "#C8D4E3"
             },
             "line": {
              "color": "white"
             }
            },
            "type": "table"
           }
          ]
         },
         "layout": {
          "annotationdefaults": {
           "arrowcolor": "#2a3f5f",
           "arrowhead": 0,
           "arrowwidth": 1
          },
          "autotypenumbers": "strict",
          "coloraxis": {
           "colorbar": {
            "outlinewidth": 0,
            "ticks": ""
           }
          },
          "colorscale": {
           "diverging": [
            [
             0,
             "#8e0152"
            ],
            [
             0.1,
             "#c51b7d"
            ],
            [
             0.2,
             "#de77ae"
            ],
            [
             0.3,
             "#f1b6da"
            ],
            [
             0.4,
             "#fde0ef"
            ],
            [
             0.5,
             "#f7f7f7"
            ],
            [
             0.6,
             "#e6f5d0"
            ],
            [
             0.7,
             "#b8e186"
            ],
            [
             0.8,
             "#7fbc41"
            ],
            [
             0.9,
             "#4d9221"
            ],
            [
             1,
             "#276419"
            ]
           ],
           "sequential": [
            [
             0,
             "#0d0887"
            ],
            [
             0.1111111111111111,
             "#46039f"
            ],
            [
             0.2222222222222222,
             "#7201a8"
            ],
            [
             0.3333333333333333,
             "#9c179e"
            ],
            [
             0.4444444444444444,
             "#bd3786"
            ],
            [
             0.5555555555555556,
             "#d8576b"
            ],
            [
             0.6666666666666666,
             "#ed7953"
            ],
            [
             0.7777777777777778,
             "#fb9f3a"
            ],
            [
             0.8888888888888888,
             "#fdca26"
            ],
            [
             1,
             "#f0f921"
            ]
           ],
           "sequentialminus": [
            [
             0,
             "#0d0887"
            ],
            [
             0.1111111111111111,
             "#46039f"
            ],
            [
             0.2222222222222222,
             "#7201a8"
            ],
            [
             0.3333333333333333,
             "#9c179e"
            ],
            [
             0.4444444444444444,
             "#bd3786"
            ],
            [
             0.5555555555555556,
             "#d8576b"
            ],
            [
             0.6666666666666666,
             "#ed7953"
            ],
            [
             0.7777777777777778,
             "#fb9f3a"
            ],
            [
             0.8888888888888888,
             "#fdca26"
            ],
            [
             1,
             "#f0f921"
            ]
           ]
          },
          "colorway": [
           "#636efa",
           "#EF553B",
           "#00cc96",
           "#ab63fa",
           "#FFA15A",
           "#19d3f3",
           "#FF6692",
           "#B6E880",
           "#FF97FF",
           "#FECB52"
          ],
          "font": {
           "color": "#2a3f5f"
          },
          "geo": {
           "bgcolor": "white",
           "lakecolor": "white",
           "landcolor": "#E5ECF6",
           "showlakes": true,
           "showland": true,
           "subunitcolor": "white"
          },
          "hoverlabel": {
           "align": "left"
          },
          "hovermode": "closest",
          "mapbox": {
           "style": "light"
          },
          "paper_bgcolor": "white",
          "plot_bgcolor": "#E5ECF6",
          "polar": {
           "angularaxis": {
            "gridcolor": "white",
            "linecolor": "white",
            "ticks": ""
           },
           "bgcolor": "#E5ECF6",
           "radialaxis": {
            "gridcolor": "white",
            "linecolor": "white",
            "ticks": ""
           }
          },
          "scene": {
           "xaxis": {
            "backgroundcolor": "#E5ECF6",
            "gridcolor": "white",
            "gridwidth": 2,
            "linecolor": "white",
            "showbackground": true,
            "ticks": "",
            "zerolinecolor": "white"
           },
           "yaxis": {
            "backgroundcolor": "#E5ECF6",
            "gridcolor": "white",
            "gridwidth": 2,
            "linecolor": "white",
            "showbackground": true,
            "ticks": "",
            "zerolinecolor": "white"
           },
           "zaxis": {
            "backgroundcolor": "#E5ECF6",
            "gridcolor": "white",
            "gridwidth": 2,
            "linecolor": "white",
            "showbackground": true,
            "ticks": "",
            "zerolinecolor": "white"
           }
          },
          "shapedefaults": {
           "line": {
            "color": "#2a3f5f"
           }
          },
          "ternary": {
           "aaxis": {
            "gridcolor": "white",
            "linecolor": "white",
            "ticks": ""
           },
           "baxis": {
            "gridcolor": "white",
            "linecolor": "white",
            "ticks": ""
           },
           "bgcolor": "#E5ECF6",
           "caxis": {
            "gridcolor": "white",
            "linecolor": "white",
            "ticks": ""
           }
          },
          "title": {
           "x": 0.05
          },
          "xaxis": {
           "automargin": true,
           "gridcolor": "white",
           "linecolor": "white",
           "ticks": "",
           "title": {
            "standoff": 15
           },
           "zerolinecolor": "white",
           "zerolinewidth": 2
          },
          "yaxis": {
           "automargin": true,
           "gridcolor": "white",
           "linecolor": "white",
           "ticks": "",
           "title": {
            "standoff": 15
           },
           "zerolinecolor": "white",
           "zerolinewidth": 2
          }
         }
        },
        "title": {
         "text": "Coffee: Sweetness"
        },
        "xaxis": {
         "anchor": "y",
         "domain": [
          0,
          1
         ],
         "title": {
          "text": "Sweetness"
         }
        },
        "yaxis": {
         "anchor": "x",
         "domain": [
          0,
          1
         ],
         "title": {
          "text": "count"
         }
        }
       }
      }
     },
     "metadata": {},
     "output_type": "display_data"
    },
    {
     "data": {
      "application/vnd.plotly.v1+json": {
       "config": {
        "plotlyServerURL": "https://plot.ly"
       },
       "data": [
        {
         "alignmentgroup": "True",
         "bingroup": "x",
         "hovertemplate": "Cupper Points=%{x}<br>count=%{y}<extra></extra>",
         "legendgroup": "",
         "marker": {
          "color": "#636efa",
          "pattern": {
           "shape": ""
          }
         },
         "name": "",
         "offsetgroup": "",
         "orientation": "v",
         "showlegend": false,
         "type": "histogram",
         "x": [
          8.75,
          8.58,
          8.67,
          8.58,
          8.5,
          8.58,
          8.5,
          8.33,
          8.17,
          8.42,
          8.33,
          8.17,
          8.33,
          8.58,
          8.17,
          7.92,
          8.17,
          8.17,
          8,
          8.42,
          8.08,
          8.08,
          8.08,
          8.42,
          8.42,
          8,
          8,
          7.92,
          8,
          8,
          8,
          8,
          8,
          7.92,
          8,
          7.92,
          7.83,
          8,
          8.08,
          7.83,
          8.08,
          8,
          8,
          7.92,
          7.83,
          8,
          7.92,
          7.92,
          7.83,
          7.92,
          7.92,
          7.67,
          8.08,
          8.08,
          8,
          7.92,
          8.08,
          8,
          7.83,
          7.92,
          7.83,
          7.92,
          8.17,
          7.75,
          7.92,
          8,
          7.83,
          7.92,
          8.17,
          8,
          7.92,
          8.08,
          7.92,
          7.83,
          7.92,
          7.92,
          7.67,
          8,
          7.75,
          7.83,
          7.67,
          8,
          7.92,
          7.83,
          7.92,
          7.83,
          8.17,
          7.92,
          8.08,
          7.75,
          7.5,
          8,
          7.83,
          7.92,
          7.92,
          7.92,
          7.5,
          7.92,
          7.67,
          7.92,
          8,
          7.75,
          7.75,
          7.83,
          8.17,
          7.83,
          7.33,
          7.83,
          7.67,
          8,
          7.83,
          7.75,
          7.75,
          7.75,
          7.83,
          7.75,
          7.83,
          7.83,
          7.75,
          7.83,
          7.75,
          7.75,
          7.83,
          7.75,
          8,
          7.58,
          7.67,
          7.83,
          7.67,
          7.83,
          7.75,
          7.83,
          7.75,
          7.67,
          7.67,
          7.42,
          7.92,
          7.5,
          7.92,
          7.67,
          7.67,
          7.83,
          7.92,
          7.75,
          7.58,
          7.5,
          7.83,
          8.33,
          7.92,
          7.67,
          7.67,
          8.5,
          7.83,
          7.83,
          7.83,
          7.83,
          7.58,
          7.17,
          7.67,
          7.83,
          7.75,
          7.75,
          7.83,
          7.67,
          8,
          7.83,
          7.75,
          8.08,
          7.67,
          7.75,
          7.75,
          7.67,
          7.92,
          7.83,
          7.83,
          7.83,
          7.75,
          7.75,
          7.75,
          7.75,
          7.75,
          7.67,
          7.75,
          7.67,
          7.83,
          7.75,
          7.83,
          7.75,
          7.33,
          7.5,
          7.83,
          7.75,
          7.75,
          7.83,
          7.5,
          7.92,
          7.5,
          7.67,
          8,
          7.5,
          7.58,
          7.58,
          7.83,
          7.92,
          7.58,
          7.75,
          7.58,
          7.75,
          7.75,
          7.67,
          7.5,
          7.67,
          7.67,
          7.75,
          7.67,
          7.58,
          7.83,
          7.58,
          7.58,
          7.75,
          7.58,
          7.67,
          7.58,
          7.75,
          7.83,
          8.42,
          7.58,
          7.83,
          7.5,
          7.67,
          7.58,
          7.67,
          7.67,
          7.67,
          7.83,
          7.75,
          7.67,
          7.58,
          7.67,
          7.58,
          7.5,
          7.58,
          7.58,
          7.67,
          7.58,
          7.58,
          7.58,
          7.42,
          7.58,
          7.67,
          7.58,
          8,
          7.83,
          7.5,
          7.67,
          7.67,
          7.67,
          7.58,
          7.67,
          7.58,
          7.42,
          7.58,
          7.33,
          7.67,
          7.75,
          7.58,
          7.42,
          7.58,
          7.67,
          7.75,
          7.67,
          7.58,
          7.58,
          7.5,
          7.5,
          7.67,
          7.67,
          7.5,
          7.5,
          7.42,
          7.5,
          7.67,
          7.75,
          7.67,
          7.67,
          7.5,
          7.67,
          7.5,
          7.75,
          7.67,
          7.67,
          7.25,
          7.58,
          7.58,
          7.5,
          7.67,
          7.5,
          7.58,
          7.5,
          7.58,
          7.92,
          7.75,
          7.67,
          7.5,
          7.58,
          7.5,
          7.5,
          7.58,
          7.58,
          7.58,
          7.67,
          8,
          7.42,
          7.58,
          7.33,
          7.58,
          7.17,
          7.5,
          7.42,
          7.42,
          7.67,
          7.5,
          8.25,
          7.5,
          7.58,
          7.67,
          7.58,
          7.83,
          7.67,
          7.58,
          7.33,
          7.5,
          7.5,
          7.5,
          7.75,
          7.58,
          7.58,
          7.5,
          7.42,
          7.58,
          7.42,
          7.58,
          7.58,
          7.5,
          7.5,
          7.67,
          7.5,
          7.83,
          7.67,
          7.75,
          7.5,
          7.58,
          7.58,
          7.33,
          8,
          7.92,
          7.5,
          7.67,
          7.08,
          7.58,
          7.5,
          7.67,
          7.58,
          7.75,
          7.5,
          7.58,
          7.42,
          7.5,
          7.5,
          7.5,
          7.5,
          7.58,
          7.67,
          7.58,
          7.67,
          7.67,
          7.67,
          7.67,
          7.67,
          7.5,
          7.58,
          7.5,
          7.5,
          7.67,
          7.42,
          7.5,
          7.58,
          7.67,
          8.08,
          7.5,
          7.42,
          7.58,
          7.5,
          7.5,
          7.58,
          7.5,
          7.5,
          7.58,
          7.58,
          7.08,
          7.58,
          7.5,
          7.5,
          7.5,
          7.5,
          7.58,
          7.58,
          7.5,
          7.5,
          7.5,
          7.5,
          7.5,
          7.5,
          7.42,
          7.58,
          7.5,
          7.42,
          7.58,
          7.5,
          7.67,
          7.42,
          7.42,
          7.5,
          7.5,
          7.83,
          7.5,
          7.5,
          7.58,
          7.5,
          7.33,
          7.33,
          7.58,
          7.5,
          7.5,
          7.42,
          7.58,
          7.5,
          7.42,
          7.5,
          7.42,
          7.58,
          7.58,
          7.42,
          7.33,
          7.58,
          7.42,
          8.17,
          7.5,
          7.42,
          7.42,
          7.5,
          7.58,
          7.5,
          7.58,
          7.58,
          7.5,
          7.5,
          7.58,
          7.58,
          7.67,
          7.5,
          7.5,
          7.33,
          7.5,
          7.75,
          7.42,
          7.58,
          8,
          7.42,
          7.5,
          7.33,
          7.33,
          7.25,
          7.42,
          7.33,
          7.58,
          7,
          7.5,
          7.42,
          7.83,
          7.42,
          7.33,
          7.5,
          7.33,
          7.67,
          7.58,
          7.33,
          7.42,
          7.42,
          7.25,
          7.42,
          7.58,
          7.33,
          7.33,
          7.33,
          7.42,
          7.42,
          7.58,
          7.5,
          7.58,
          7.5,
          7.58,
          7.5,
          7.33,
          7.25,
          7.33,
          7.5,
          7.17,
          7.58,
          7.67,
          7.17,
          7.5,
          7.58,
          7.33,
          7.5,
          7.25,
          7.67,
          7.42,
          7.5,
          7.33,
          7.42,
          7.5,
          7.33,
          7.42,
          7.33,
          7.42,
          7.5,
          7.5,
          7.42,
          7.5,
          7.5,
          7.33,
          7.75,
          7.33,
          7.33,
          7.17,
          7.42,
          7.67,
          7.42,
          7.42,
          7.42,
          7.33,
          7.42,
          7.58,
          7.42,
          7.33,
          7.5,
          7.33,
          7.25,
          7.42,
          7.25,
          7.25,
          7.42,
          7.58,
          7.5,
          7.33,
          7.33,
          7.42,
          7.33,
          7.33,
          5.17,
          7.17,
          7.75,
          8.25,
          7.33,
          7.42,
          7.33,
          7.42,
          7.33,
          7.42,
          7.33,
          7.5,
          7.5,
          7.33,
          7.83,
          7.5,
          7.25,
          7.42,
          7.33,
          8,
          7.42,
          7.5,
          7.25,
          7.25,
          7.33,
          7.33,
          7.25,
          7.58,
          7.33,
          7.25,
          7.25,
          7.33,
          7.5,
          7.33,
          7.5,
          8.08,
          7.25,
          7.25,
          7.42,
          7.17,
          7.58,
          7.08,
          7.17,
          7.42,
          7.67,
          7.33,
          7.42,
          7.25,
          7.25,
          7.25,
          7.33,
          7,
          7.33,
          7.17,
          7.33,
          7.33,
          7.67,
          7.58,
          7.33,
          7.33,
          7.33,
          7.42,
          7.33,
          7.33,
          7.17,
          7.5,
          7.75,
          7.33,
          7.42,
          7.25,
          7.17,
          7.08,
          7.25,
          7.5,
          7.42,
          7.17,
          7.17,
          7.25,
          7.42,
          7.5,
          7.25,
          7.08,
          7.42,
          7.42,
          7.08,
          7.33,
          7.08,
          7.58,
          7.25,
          7.17,
          7.33,
          7.33,
          7.42,
          7.42,
          7.33,
          7.25,
          7.33,
          7.25,
          7.25,
          7.58,
          5.25,
          7.33,
          7.5,
          7.42,
          7.33,
          7.42,
          7.25,
          7.08,
          7.5,
          7.25,
          7.17,
          7.17,
          7.42,
          7.33,
          7.42,
          7.25,
          7.33,
          7.25,
          7.25,
          7.08,
          7.25,
          7.08,
          7.33,
          7,
          7.17,
          7.17,
          7.17,
          8.5,
          7.25,
          7.08,
          7.25,
          7.25,
          7.25,
          7.25,
          7.25,
          7.33,
          7.33,
          7.33,
          7.42,
          7.25,
          7.17,
          7.25,
          7.5,
          7.25,
          7.5,
          5.42,
          7.33,
          7.42,
          7.25,
          7.25,
          6.75,
          7.33,
          7.08,
          7.25,
          7.17,
          7.25,
          7,
          7.33,
          7.08,
          7.33,
          7.17,
          7.25,
          7.17,
          7.17,
          7.25,
          7.08,
          7.17,
          7.17,
          7,
          7.25,
          7.5,
          7.25,
          7.33,
          7,
          8,
          7.17,
          7.25,
          7.33,
          7.25,
          7.25,
          7.17,
          7.25,
          7.17,
          7.25,
          7,
          7.33,
          7.08,
          7.17,
          7.42,
          6.67,
          7.17,
          7,
          7.25,
          7.17,
          7,
          7.25,
          7.08,
          7.17,
          7,
          7.17,
          7.08,
          7.25,
          7.33,
          7.17,
          6.83,
          7.25,
          7.25,
          7,
          7.25,
          7.17,
          7.25,
          7.17,
          7.33,
          7,
          7.08,
          7.42,
          7,
          7.17,
          7,
          7,
          7,
          7,
          7.08,
          7.08,
          7,
          6.92,
          7.42,
          7,
          7,
          7.25,
          7.17,
          7.17,
          7,
          6.75,
          7.33,
          7.25,
          7,
          7.08,
          7.08,
          7.17,
          6.83,
          7.25,
          7.33,
          7,
          7,
          8,
          6.67,
          6.83,
          7,
          6.92,
          7,
          7.33,
          7.25,
          7,
          7.08,
          7,
          6.83,
          7.33,
          7.08,
          6.92,
          6.92,
          7,
          7,
          7,
          7,
          7.42,
          6.83,
          6.83,
          7.08,
          7.33,
          6.83,
          7,
          6.75,
          6.92,
          7.42,
          7,
          6.83,
          6.83,
          7.17,
          6.92,
          7.67,
          6.92,
          6.83,
          6.92,
          7.25,
          6.58,
          7,
          7,
          7,
          7,
          6.83,
          7,
          6.75,
          6.75,
          6.75,
          6.67,
          7,
          7,
          7.08,
          6.83,
          7.17,
          6.67,
          6.67,
          7.5,
          7.17,
          6.83,
          6.92,
          7.17,
          6.67,
          6.5,
          7.75,
          6.83,
          6.75,
          7.25,
          6.67,
          7.25,
          7.17,
          6.67,
          7.08,
          6.83,
          6.92,
          6.5,
          6.67,
          6.67,
          6.17,
          7,
          6.67,
          6.83,
          6.83,
          6.92,
          7.67,
          6.58,
          7,
          6.75,
          6.67,
          6.58,
          7,
          6.67,
          6.83,
          6.83,
          6.58,
          6.67,
          6.75,
          6.75,
          6.42,
          7,
          6.75,
          6,
          6.67,
          6.5,
          7.08,
          7.08,
          6.92,
          6.25,
          6.58,
          6.42,
          6.75,
          6.33,
          6.5,
          6.33,
          6.75,
          6.42,
          6.17,
          6.67
         ],
         "xaxis": "x",
         "yaxis": "y"
        }
       ],
       "layout": {
        "barmode": "relative",
        "legend": {
         "tracegroupgap": 0
        },
        "template": {
         "data": {
          "bar": [
           {
            "error_x": {
             "color": "#2a3f5f"
            },
            "error_y": {
             "color": "#2a3f5f"
            },
            "marker": {
             "line": {
              "color": "#E5ECF6",
              "width": 0.5
             },
             "pattern": {
              "fillmode": "overlay",
              "size": 10,
              "solidity": 0.2
             }
            },
            "type": "bar"
           }
          ],
          "barpolar": [
           {
            "marker": {
             "line": {
              "color": "#E5ECF6",
              "width": 0.5
             },
             "pattern": {
              "fillmode": "overlay",
              "size": 10,
              "solidity": 0.2
             }
            },
            "type": "barpolar"
           }
          ],
          "carpet": [
           {
            "aaxis": {
             "endlinecolor": "#2a3f5f",
             "gridcolor": "white",
             "linecolor": "white",
             "minorgridcolor": "white",
             "startlinecolor": "#2a3f5f"
            },
            "baxis": {
             "endlinecolor": "#2a3f5f",
             "gridcolor": "white",
             "linecolor": "white",
             "minorgridcolor": "white",
             "startlinecolor": "#2a3f5f"
            },
            "type": "carpet"
           }
          ],
          "choropleth": [
           {
            "colorbar": {
             "outlinewidth": 0,
             "ticks": ""
            },
            "type": "choropleth"
           }
          ],
          "contour": [
           {
            "colorbar": {
             "outlinewidth": 0,
             "ticks": ""
            },
            "colorscale": [
             [
              0,
              "#0d0887"
             ],
             [
              0.1111111111111111,
              "#46039f"
             ],
             [
              0.2222222222222222,
              "#7201a8"
             ],
             [
              0.3333333333333333,
              "#9c179e"
             ],
             [
              0.4444444444444444,
              "#bd3786"
             ],
             [
              0.5555555555555556,
              "#d8576b"
             ],
             [
              0.6666666666666666,
              "#ed7953"
             ],
             [
              0.7777777777777778,
              "#fb9f3a"
             ],
             [
              0.8888888888888888,
              "#fdca26"
             ],
             [
              1,
              "#f0f921"
             ]
            ],
            "type": "contour"
           }
          ],
          "contourcarpet": [
           {
            "colorbar": {
             "outlinewidth": 0,
             "ticks": ""
            },
            "type": "contourcarpet"
           }
          ],
          "heatmap": [
           {
            "colorbar": {
             "outlinewidth": 0,
             "ticks": ""
            },
            "colorscale": [
             [
              0,
              "#0d0887"
             ],
             [
              0.1111111111111111,
              "#46039f"
             ],
             [
              0.2222222222222222,
              "#7201a8"
             ],
             [
              0.3333333333333333,
              "#9c179e"
             ],
             [
              0.4444444444444444,
              "#bd3786"
             ],
             [
              0.5555555555555556,
              "#d8576b"
             ],
             [
              0.6666666666666666,
              "#ed7953"
             ],
             [
              0.7777777777777778,
              "#fb9f3a"
             ],
             [
              0.8888888888888888,
              "#fdca26"
             ],
             [
              1,
              "#f0f921"
             ]
            ],
            "type": "heatmap"
           }
          ],
          "heatmapgl": [
           {
            "colorbar": {
             "outlinewidth": 0,
             "ticks": ""
            },
            "colorscale": [
             [
              0,
              "#0d0887"
             ],
             [
              0.1111111111111111,
              "#46039f"
             ],
             [
              0.2222222222222222,
              "#7201a8"
             ],
             [
              0.3333333333333333,
              "#9c179e"
             ],
             [
              0.4444444444444444,
              "#bd3786"
             ],
             [
              0.5555555555555556,
              "#d8576b"
             ],
             [
              0.6666666666666666,
              "#ed7953"
             ],
             [
              0.7777777777777778,
              "#fb9f3a"
             ],
             [
              0.8888888888888888,
              "#fdca26"
             ],
             [
              1,
              "#f0f921"
             ]
            ],
            "type": "heatmapgl"
           }
          ],
          "histogram": [
           {
            "marker": {
             "pattern": {
              "fillmode": "overlay",
              "size": 10,
              "solidity": 0.2
             }
            },
            "type": "histogram"
           }
          ],
          "histogram2d": [
           {
            "colorbar": {
             "outlinewidth": 0,
             "ticks": ""
            },
            "colorscale": [
             [
              0,
              "#0d0887"
             ],
             [
              0.1111111111111111,
              "#46039f"
             ],
             [
              0.2222222222222222,
              "#7201a8"
             ],
             [
              0.3333333333333333,
              "#9c179e"
             ],
             [
              0.4444444444444444,
              "#bd3786"
             ],
             [
              0.5555555555555556,
              "#d8576b"
             ],
             [
              0.6666666666666666,
              "#ed7953"
             ],
             [
              0.7777777777777778,
              "#fb9f3a"
             ],
             [
              0.8888888888888888,
              "#fdca26"
             ],
             [
              1,
              "#f0f921"
             ]
            ],
            "type": "histogram2d"
           }
          ],
          "histogram2dcontour": [
           {
            "colorbar": {
             "outlinewidth": 0,
             "ticks": ""
            },
            "colorscale": [
             [
              0,
              "#0d0887"
             ],
             [
              0.1111111111111111,
              "#46039f"
             ],
             [
              0.2222222222222222,
              "#7201a8"
             ],
             [
              0.3333333333333333,
              "#9c179e"
             ],
             [
              0.4444444444444444,
              "#bd3786"
             ],
             [
              0.5555555555555556,
              "#d8576b"
             ],
             [
              0.6666666666666666,
              "#ed7953"
             ],
             [
              0.7777777777777778,
              "#fb9f3a"
             ],
             [
              0.8888888888888888,
              "#fdca26"
             ],
             [
              1,
              "#f0f921"
             ]
            ],
            "type": "histogram2dcontour"
           }
          ],
          "mesh3d": [
           {
            "colorbar": {
             "outlinewidth": 0,
             "ticks": ""
            },
            "type": "mesh3d"
           }
          ],
          "parcoords": [
           {
            "line": {
             "colorbar": {
              "outlinewidth": 0,
              "ticks": ""
             }
            },
            "type": "parcoords"
           }
          ],
          "pie": [
           {
            "automargin": true,
            "type": "pie"
           }
          ],
          "scatter": [
           {
            "marker": {
             "colorbar": {
              "outlinewidth": 0,
              "ticks": ""
             }
            },
            "type": "scatter"
           }
          ],
          "scatter3d": [
           {
            "line": {
             "colorbar": {
              "outlinewidth": 0,
              "ticks": ""
             }
            },
            "marker": {
             "colorbar": {
              "outlinewidth": 0,
              "ticks": ""
             }
            },
            "type": "scatter3d"
           }
          ],
          "scattercarpet": [
           {
            "marker": {
             "colorbar": {
              "outlinewidth": 0,
              "ticks": ""
             }
            },
            "type": "scattercarpet"
           }
          ],
          "scattergeo": [
           {
            "marker": {
             "colorbar": {
              "outlinewidth": 0,
              "ticks": ""
             }
            },
            "type": "scattergeo"
           }
          ],
          "scattergl": [
           {
            "marker": {
             "colorbar": {
              "outlinewidth": 0,
              "ticks": ""
             }
            },
            "type": "scattergl"
           }
          ],
          "scattermapbox": [
           {
            "marker": {
             "colorbar": {
              "outlinewidth": 0,
              "ticks": ""
             }
            },
            "type": "scattermapbox"
           }
          ],
          "scatterpolar": [
           {
            "marker": {
             "colorbar": {
              "outlinewidth": 0,
              "ticks": ""
             }
            },
            "type": "scatterpolar"
           }
          ],
          "scatterpolargl": [
           {
            "marker": {
             "colorbar": {
              "outlinewidth": 0,
              "ticks": ""
             }
            },
            "type": "scatterpolargl"
           }
          ],
          "scatterternary": [
           {
            "marker": {
             "colorbar": {
              "outlinewidth": 0,
              "ticks": ""
             }
            },
            "type": "scatterternary"
           }
          ],
          "surface": [
           {
            "colorbar": {
             "outlinewidth": 0,
             "ticks": ""
            },
            "colorscale": [
             [
              0,
              "#0d0887"
             ],
             [
              0.1111111111111111,
              "#46039f"
             ],
             [
              0.2222222222222222,
              "#7201a8"
             ],
             [
              0.3333333333333333,
              "#9c179e"
             ],
             [
              0.4444444444444444,
              "#bd3786"
             ],
             [
              0.5555555555555556,
              "#d8576b"
             ],
             [
              0.6666666666666666,
              "#ed7953"
             ],
             [
              0.7777777777777778,
              "#fb9f3a"
             ],
             [
              0.8888888888888888,
              "#fdca26"
             ],
             [
              1,
              "#f0f921"
             ]
            ],
            "type": "surface"
           }
          ],
          "table": [
           {
            "cells": {
             "fill": {
              "color": "#EBF0F8"
             },
             "line": {
              "color": "white"
             }
            },
            "header": {
             "fill": {
              "color": "#C8D4E3"
             },
             "line": {
              "color": "white"
             }
            },
            "type": "table"
           }
          ]
         },
         "layout": {
          "annotationdefaults": {
           "arrowcolor": "#2a3f5f",
           "arrowhead": 0,
           "arrowwidth": 1
          },
          "autotypenumbers": "strict",
          "coloraxis": {
           "colorbar": {
            "outlinewidth": 0,
            "ticks": ""
           }
          },
          "colorscale": {
           "diverging": [
            [
             0,
             "#8e0152"
            ],
            [
             0.1,
             "#c51b7d"
            ],
            [
             0.2,
             "#de77ae"
            ],
            [
             0.3,
             "#f1b6da"
            ],
            [
             0.4,
             "#fde0ef"
            ],
            [
             0.5,
             "#f7f7f7"
            ],
            [
             0.6,
             "#e6f5d0"
            ],
            [
             0.7,
             "#b8e186"
            ],
            [
             0.8,
             "#7fbc41"
            ],
            [
             0.9,
             "#4d9221"
            ],
            [
             1,
             "#276419"
            ]
           ],
           "sequential": [
            [
             0,
             "#0d0887"
            ],
            [
             0.1111111111111111,
             "#46039f"
            ],
            [
             0.2222222222222222,
             "#7201a8"
            ],
            [
             0.3333333333333333,
             "#9c179e"
            ],
            [
             0.4444444444444444,
             "#bd3786"
            ],
            [
             0.5555555555555556,
             "#d8576b"
            ],
            [
             0.6666666666666666,
             "#ed7953"
            ],
            [
             0.7777777777777778,
             "#fb9f3a"
            ],
            [
             0.8888888888888888,
             "#fdca26"
            ],
            [
             1,
             "#f0f921"
            ]
           ],
           "sequentialminus": [
            [
             0,
             "#0d0887"
            ],
            [
             0.1111111111111111,
             "#46039f"
            ],
            [
             0.2222222222222222,
             "#7201a8"
            ],
            [
             0.3333333333333333,
             "#9c179e"
            ],
            [
             0.4444444444444444,
             "#bd3786"
            ],
            [
             0.5555555555555556,
             "#d8576b"
            ],
            [
             0.6666666666666666,
             "#ed7953"
            ],
            [
             0.7777777777777778,
             "#fb9f3a"
            ],
            [
             0.8888888888888888,
             "#fdca26"
            ],
            [
             1,
             "#f0f921"
            ]
           ]
          },
          "colorway": [
           "#636efa",
           "#EF553B",
           "#00cc96",
           "#ab63fa",
           "#FFA15A",
           "#19d3f3",
           "#FF6692",
           "#B6E880",
           "#FF97FF",
           "#FECB52"
          ],
          "font": {
           "color": "#2a3f5f"
          },
          "geo": {
           "bgcolor": "white",
           "lakecolor": "white",
           "landcolor": "#E5ECF6",
           "showlakes": true,
           "showland": true,
           "subunitcolor": "white"
          },
          "hoverlabel": {
           "align": "left"
          },
          "hovermode": "closest",
          "mapbox": {
           "style": "light"
          },
          "paper_bgcolor": "white",
          "plot_bgcolor": "#E5ECF6",
          "polar": {
           "angularaxis": {
            "gridcolor": "white",
            "linecolor": "white",
            "ticks": ""
           },
           "bgcolor": "#E5ECF6",
           "radialaxis": {
            "gridcolor": "white",
            "linecolor": "white",
            "ticks": ""
           }
          },
          "scene": {
           "xaxis": {
            "backgroundcolor": "#E5ECF6",
            "gridcolor": "white",
            "gridwidth": 2,
            "linecolor": "white",
            "showbackground": true,
            "ticks": "",
            "zerolinecolor": "white"
           },
           "yaxis": {
            "backgroundcolor": "#E5ECF6",
            "gridcolor": "white",
            "gridwidth": 2,
            "linecolor": "white",
            "showbackground": true,
            "ticks": "",
            "zerolinecolor": "white"
           },
           "zaxis": {
            "backgroundcolor": "#E5ECF6",
            "gridcolor": "white",
            "gridwidth": 2,
            "linecolor": "white",
            "showbackground": true,
            "ticks": "",
            "zerolinecolor": "white"
           }
          },
          "shapedefaults": {
           "line": {
            "color": "#2a3f5f"
           }
          },
          "ternary": {
           "aaxis": {
            "gridcolor": "white",
            "linecolor": "white",
            "ticks": ""
           },
           "baxis": {
            "gridcolor": "white",
            "linecolor": "white",
            "ticks": ""
           },
           "bgcolor": "#E5ECF6",
           "caxis": {
            "gridcolor": "white",
            "linecolor": "white",
            "ticks": ""
           }
          },
          "title": {
           "x": 0.05
          },
          "xaxis": {
           "automargin": true,
           "gridcolor": "white",
           "linecolor": "white",
           "ticks": "",
           "title": {
            "standoff": 15
           },
           "zerolinecolor": "white",
           "zerolinewidth": 2
          },
          "yaxis": {
           "automargin": true,
           "gridcolor": "white",
           "linecolor": "white",
           "ticks": "",
           "title": {
            "standoff": 15
           },
           "zerolinecolor": "white",
           "zerolinewidth": 2
          }
         }
        },
        "title": {
         "text": "Coffee: Cupper Points"
        },
        "xaxis": {
         "anchor": "y",
         "domain": [
          0,
          1
         ],
         "title": {
          "text": "Cupper Points"
         }
        },
        "yaxis": {
         "anchor": "x",
         "domain": [
          0,
          1
         ],
         "title": {
          "text": "count"
         }
        }
       }
      }
     },
     "metadata": {},
     "output_type": "display_data"
    },
    {
     "data": {
      "application/vnd.plotly.v1+json": {
       "config": {
        "plotlyServerURL": "https://plot.ly"
       },
       "data": [
        {
         "alignmentgroup": "True",
         "bingroup": "x",
         "hovertemplate": "Total Cup Points=%{x}<br>count=%{y}<extra></extra>",
         "legendgroup": "",
         "marker": {
          "color": "#636efa",
          "pattern": {
           "shape": ""
          }
         },
         "name": "",
         "offsetgroup": "",
         "orientation": "v",
         "showlegend": false,
         "type": "histogram",
         "x": [
          90.58,
          89.92,
          89,
          88.83,
          88.25,
          88.08,
          87.92,
          87.92,
          87.58,
          87.25,
          87.25,
          87.25,
          87.17,
          87.17,
          87.08,
          86.92,
          86.83,
          86.58,
          86.42,
          86.33,
          86.25,
          86.25,
          86.17,
          86.17,
          86.08,
          86.08,
          86.08,
          86,
          85.92,
          85.83,
          85.83,
          85.83,
          85.83,
          85.75,
          85.58,
          85.58,
          85.5,
          85.5,
          85.5,
          85.5,
          85.42,
          85.42,
          85.42,
          85.33,
          85.33,
          85.33,
          85.33,
          85.33,
          85.33,
          85.25,
          85.17,
          85.08,
          85.08,
          85.08,
          85,
          85,
          85,
          85,
          84.92,
          84.92,
          84.92,
          84.92,
          84.92,
          84.92,
          84.92,
          84.83,
          84.83,
          84.75,
          84.75,
          84.67,
          84.67,
          84.67,
          84.67,
          84.67,
          84.67,
          84.67,
          84.67,
          84.67,
          84.67,
          84.67,
          84.67,
          84.67,
          84.67,
          84.58,
          84.58,
          84.58,
          84.58,
          84.58,
          84.58,
          84.58,
          84.58,
          84.5,
          84.5,
          84.5,
          84.5,
          84.5,
          84.5,
          84.5,
          84.5,
          84.42,
          84.42,
          84.42,
          84.42,
          84.42,
          84.33,
          84.33,
          84.33,
          84.33,
          84.25,
          84.25,
          84.25,
          84.25,
          84.25,
          84.25,
          84.25,
          84.25,
          84.25,
          84.25,
          84.25,
          84.25,
          84.25,
          84.25,
          84.25,
          84.17,
          84.17,
          84.17,
          84.17,
          84.17,
          84.17,
          84.17,
          84.17,
          84.17,
          84.17,
          84.17,
          84.17,
          84.17,
          84.17,
          84.08,
          84.08,
          84.08,
          84.08,
          84.08,
          84,
          84,
          84,
          84,
          84,
          84,
          84,
          84,
          84,
          83.92,
          83.92,
          83.92,
          83.92,
          83.92,
          83.92,
          83.92,
          83.92,
          83.92,
          83.92,
          83.83,
          83.83,
          83.83,
          83.83,
          83.83,
          83.83,
          83.83,
          83.83,
          83.83,
          83.83,
          83.83,
          83.83,
          83.83,
          83.83,
          83.75,
          83.75,
          83.75,
          83.75,
          83.75,
          83.75,
          83.75,
          83.75,
          83.75,
          83.75,
          83.75,
          83.67,
          83.67,
          83.67,
          83.67,
          83.67,
          83.67,
          83.67,
          83.67,
          83.67,
          83.67,
          83.67,
          83.67,
          83.67,
          83.67,
          83.67,
          83.67,
          83.67,
          83.58,
          83.58,
          83.58,
          83.58,
          83.58,
          83.58,
          83.58,
          83.58,
          83.58,
          83.58,
          83.58,
          83.58,
          83.5,
          83.5,
          83.5,
          83.5,
          83.5,
          83.5,
          83.5,
          83.5,
          83.5,
          83.5,
          83.5,
          83.5,
          83.5,
          83.5,
          83.5,
          83.5,
          83.42,
          83.42,
          83.42,
          83.42,
          83.42,
          83.42,
          83.42,
          83.42,
          83.42,
          83.42,
          83.42,
          83.42,
          83.42,
          83.33,
          83.33,
          83.33,
          83.33,
          83.33,
          83.33,
          83.33,
          83.33,
          83.33,
          83.33,
          83.33,
          83.33,
          83.25,
          83.25,
          83.25,
          83.25,
          83.25,
          83.25,
          83.25,
          83.25,
          83.25,
          83.25,
          83.25,
          83.25,
          83.25,
          83.17,
          83.17,
          83.17,
          83.17,
          83.17,
          83.17,
          83.17,
          83.17,
          83.17,
          83.17,
          83.17,
          83.17,
          83.17,
          83.17,
          83.17,
          83.17,
          83.17,
          83.17,
          83.17,
          83.17,
          83.17,
          83.17,
          83.17,
          83.17,
          83.17,
          83.17,
          83.17,
          83.17,
          83.17,
          83.08,
          83.08,
          83.08,
          83.08,
          83.08,
          83.08,
          83.08,
          83.08,
          83,
          83,
          83,
          83,
          83,
          83,
          83,
          83,
          83,
          83,
          83,
          83,
          83,
          83,
          83,
          83,
          83,
          83,
          83,
          83,
          83,
          83,
          83,
          83,
          83,
          83,
          82.92,
          82.92,
          82.92,
          82.92,
          82.92,
          82.92,
          82.92,
          82.92,
          82.92,
          82.92,
          82.92,
          82.92,
          82.92,
          82.92,
          82.92,
          82.92,
          82.92,
          82.92,
          82.83,
          82.83,
          82.83,
          82.83,
          82.83,
          82.83,
          82.83,
          82.83,
          82.83,
          82.83,
          82.83,
          82.83,
          82.83,
          82.83,
          82.83,
          82.83,
          82.83,
          82.83,
          82.75,
          82.75,
          82.75,
          82.75,
          82.75,
          82.75,
          82.75,
          82.75,
          82.75,
          82.75,
          82.75,
          82.75,
          82.75,
          82.75,
          82.75,
          82.75,
          82.75,
          82.75,
          82.75,
          82.75,
          82.75,
          82.75,
          82.75,
          82.75,
          82.67,
          82.67,
          82.67,
          82.67,
          82.67,
          82.67,
          82.67,
          82.67,
          82.67,
          82.67,
          82.67,
          82.67,
          82.67,
          82.67,
          82.67,
          82.58,
          82.58,
          82.58,
          82.58,
          82.58,
          82.58,
          82.58,
          82.58,
          82.58,
          82.58,
          82.58,
          82.58,
          82.58,
          82.5,
          82.5,
          82.5,
          82.5,
          82.5,
          82.5,
          82.5,
          82.5,
          82.5,
          82.5,
          82.5,
          82.5,
          82.5,
          82.5,
          82.5,
          82.5,
          82.42,
          82.42,
          82.42,
          82.42,
          82.42,
          82.42,
          82.42,
          82.42,
          82.42,
          82.42,
          82.42,
          82.42,
          82.42,
          82.42,
          82.42,
          82.42,
          82.42,
          82.42,
          82.42,
          82.42,
          82.42,
          82.42,
          82.33,
          82.33,
          82.33,
          82.33,
          82.33,
          82.33,
          82.33,
          82.33,
          82.33,
          82.33,
          82.33,
          82.33,
          82.33,
          82.33,
          82.33,
          82.33,
          82.33,
          82.33,
          82.33,
          82.33,
          82.33,
          82.33,
          82.33,
          82.33,
          82.25,
          82.25,
          82.25,
          82.25,
          82.25,
          82.25,
          82.25,
          82.25,
          82.25,
          82.25,
          82.25,
          82.25,
          82.25,
          82.25,
          82.25,
          82.25,
          82.17,
          82.17,
          82.17,
          82.17,
          82.17,
          82.17,
          82.17,
          82.17,
          82.17,
          82.17,
          82.17,
          82.17,
          82.17,
          82.17,
          82.17,
          82.08,
          82.08,
          82.08,
          82.08,
          82.08,
          82.08,
          82.08,
          82.08,
          82.08,
          82.08,
          82.08,
          82.08,
          82,
          82,
          82,
          82,
          82,
          82,
          82,
          82,
          82,
          82,
          82,
          82,
          82,
          82,
          82,
          82,
          82,
          82,
          81.92,
          81.92,
          81.92,
          81.92,
          81.92,
          81.92,
          81.92,
          81.92,
          81.92,
          81.92,
          81.92,
          81.92,
          81.92,
          81.92,
          81.83,
          81.83,
          81.83,
          81.83,
          81.83,
          81.83,
          81.83,
          81.83,
          81.83,
          81.83,
          81.83,
          81.83,
          81.83,
          81.83,
          81.83,
          81.83,
          81.83,
          81.83,
          81.83,
          81.83,
          81.83,
          81.75,
          81.75,
          81.75,
          81.75,
          81.75,
          81.75,
          81.75,
          81.75,
          81.67,
          81.67,
          81.67,
          81.67,
          81.67,
          81.67,
          81.67,
          81.67,
          81.67,
          81.67,
          81.67,
          81.67,
          81.67,
          81.67,
          81.67,
          81.67,
          81.67,
          81.67,
          81.67,
          81.58,
          81.58,
          81.58,
          81.58,
          81.58,
          81.58,
          81.58,
          81.58,
          81.58,
          81.58,
          81.58,
          81.58,
          81.5,
          81.5,
          81.5,
          81.5,
          81.5,
          81.5,
          81.5,
          81.5,
          81.5,
          81.5,
          81.5,
          81.5,
          81.5,
          81.5,
          81.5,
          81.5,
          81.5,
          81.5,
          81.5,
          81.5,
          81.42,
          81.42,
          81.42,
          81.42,
          81.42,
          81.42,
          81.42,
          81.42,
          81.42,
          81.42,
          81.42,
          81.42,
          81.42,
          81.33,
          81.33,
          81.33,
          81.33,
          81.33,
          81.33,
          81.33,
          81.33,
          81.33,
          81.33,
          81.25,
          81.25,
          81.25,
          81.25,
          81.25,
          81.25,
          81.25,
          81.25,
          81.25,
          81.17,
          81.17,
          81.17,
          81.17,
          81.17,
          81.17,
          81.17,
          81.17,
          81.17,
          81.17,
          81.17,
          81.17,
          81.17,
          81.08,
          81.08,
          81.08,
          81.08,
          81.08,
          81.08,
          81.08,
          81.08,
          81.08,
          81.08,
          81,
          81,
          81,
          81,
          81,
          81,
          81,
          81,
          81,
          81,
          81,
          80.92,
          80.92,
          80.92,
          80.92,
          80.92,
          80.92,
          80.92,
          80.92,
          80.92,
          80.92,
          80.92,
          80.92,
          80.92,
          80.92,
          80.83,
          80.83,
          80.83,
          80.83,
          80.83,
          80.75,
          80.75,
          80.75,
          80.75,
          80.75,
          80.75,
          80.75,
          80.75,
          80.75,
          80.75,
          80.67,
          80.67,
          80.67,
          80.67,
          80.67,
          80.67,
          80.58,
          80.58,
          80.58,
          80.58,
          80.5,
          80.5,
          80.5,
          80.5,
          80.5,
          80.5,
          80.5,
          80.5,
          80.5,
          80.42,
          80.42,
          80.42,
          80.42,
          80.42,
          80.42,
          80.33,
          80.33,
          80.33,
          80.33,
          80.25,
          80.25,
          80.25,
          80.25,
          80.25,
          80.25,
          80.25,
          80.25,
          80.25,
          80.17,
          80.17,
          80.17,
          80.17,
          80.17,
          80.17,
          80.17,
          80.17,
          80.08,
          80.08,
          80.08,
          80.08,
          80.08,
          80.08,
          80,
          80,
          80,
          80,
          80,
          80,
          80,
          79.92,
          79.92,
          79.92,
          79.92,
          79.92,
          79.92,
          79.83,
          79.83,
          79.83,
          79.83,
          79.75,
          79.75,
          79.75,
          79.75,
          79.75,
          79.75,
          79.75,
          79.75,
          79.75,
          79.75,
          79.75,
          79.67,
          79.67,
          79.67,
          79.67,
          79.67,
          79.67,
          79.67,
          79.58,
          79.58,
          79.5,
          79.5,
          79.5,
          79.5,
          79.42,
          79.42,
          79.42,
          79.33,
          79.33,
          79.33,
          79.33,
          79.25,
          79.25,
          79.17,
          79.17,
          79.17,
          79.17,
          79.17,
          79.17,
          79.08,
          79.08,
          79.08,
          79.08,
          79.08,
          79,
          79,
          79,
          79,
          79,
          79,
          78.92,
          78.92,
          78.83,
          78.75,
          78.75,
          78.75,
          78.75,
          78.67,
          78.67,
          78.58,
          78.58,
          78.58,
          78.58,
          78.5,
          78.5,
          78.5,
          78.42,
          78.33,
          78.33,
          78.33,
          78.17,
          78.08,
          78,
          78,
          78,
          78,
          78,
          78,
          77.92,
          77.92,
          77.83,
          77.67,
          77.5,
          77.42,
          77.33,
          77.33,
          77.33,
          77.25,
          77.17,
          77,
          76.42,
          76.33,
          76.17,
          76.17,
          76.08,
          76,
          75.83,
          75.58,
          75.5,
          75.17,
          75.17,
          75.17,
          75,
          74.92,
          74.83,
          74.67,
          74.33,
          74.33,
          74,
          73.83,
          73.42,
          72.92,
          71.75,
          71.08,
          71,
          70.75,
          69.33,
          69.17,
          69.17,
          68.33,
          67.92,
          63.08,
          59.83
         ],
         "xaxis": "x",
         "yaxis": "y"
        }
       ],
       "layout": {
        "barmode": "relative",
        "legend": {
         "tracegroupgap": 0
        },
        "template": {
         "data": {
          "bar": [
           {
            "error_x": {
             "color": "#2a3f5f"
            },
            "error_y": {
             "color": "#2a3f5f"
            },
            "marker": {
             "line": {
              "color": "#E5ECF6",
              "width": 0.5
             },
             "pattern": {
              "fillmode": "overlay",
              "size": 10,
              "solidity": 0.2
             }
            },
            "type": "bar"
           }
          ],
          "barpolar": [
           {
            "marker": {
             "line": {
              "color": "#E5ECF6",
              "width": 0.5
             },
             "pattern": {
              "fillmode": "overlay",
              "size": 10,
              "solidity": 0.2
             }
            },
            "type": "barpolar"
           }
          ],
          "carpet": [
           {
            "aaxis": {
             "endlinecolor": "#2a3f5f",
             "gridcolor": "white",
             "linecolor": "white",
             "minorgridcolor": "white",
             "startlinecolor": "#2a3f5f"
            },
            "baxis": {
             "endlinecolor": "#2a3f5f",
             "gridcolor": "white",
             "linecolor": "white",
             "minorgridcolor": "white",
             "startlinecolor": "#2a3f5f"
            },
            "type": "carpet"
           }
          ],
          "choropleth": [
           {
            "colorbar": {
             "outlinewidth": 0,
             "ticks": ""
            },
            "type": "choropleth"
           }
          ],
          "contour": [
           {
            "colorbar": {
             "outlinewidth": 0,
             "ticks": ""
            },
            "colorscale": [
             [
              0,
              "#0d0887"
             ],
             [
              0.1111111111111111,
              "#46039f"
             ],
             [
              0.2222222222222222,
              "#7201a8"
             ],
             [
              0.3333333333333333,
              "#9c179e"
             ],
             [
              0.4444444444444444,
              "#bd3786"
             ],
             [
              0.5555555555555556,
              "#d8576b"
             ],
             [
              0.6666666666666666,
              "#ed7953"
             ],
             [
              0.7777777777777778,
              "#fb9f3a"
             ],
             [
              0.8888888888888888,
              "#fdca26"
             ],
             [
              1,
              "#f0f921"
             ]
            ],
            "type": "contour"
           }
          ],
          "contourcarpet": [
           {
            "colorbar": {
             "outlinewidth": 0,
             "ticks": ""
            },
            "type": "contourcarpet"
           }
          ],
          "heatmap": [
           {
            "colorbar": {
             "outlinewidth": 0,
             "ticks": ""
            },
            "colorscale": [
             [
              0,
              "#0d0887"
             ],
             [
              0.1111111111111111,
              "#46039f"
             ],
             [
              0.2222222222222222,
              "#7201a8"
             ],
             [
              0.3333333333333333,
              "#9c179e"
             ],
             [
              0.4444444444444444,
              "#bd3786"
             ],
             [
              0.5555555555555556,
              "#d8576b"
             ],
             [
              0.6666666666666666,
              "#ed7953"
             ],
             [
              0.7777777777777778,
              "#fb9f3a"
             ],
             [
              0.8888888888888888,
              "#fdca26"
             ],
             [
              1,
              "#f0f921"
             ]
            ],
            "type": "heatmap"
           }
          ],
          "heatmapgl": [
           {
            "colorbar": {
             "outlinewidth": 0,
             "ticks": ""
            },
            "colorscale": [
             [
              0,
              "#0d0887"
             ],
             [
              0.1111111111111111,
              "#46039f"
             ],
             [
              0.2222222222222222,
              "#7201a8"
             ],
             [
              0.3333333333333333,
              "#9c179e"
             ],
             [
              0.4444444444444444,
              "#bd3786"
             ],
             [
              0.5555555555555556,
              "#d8576b"
             ],
             [
              0.6666666666666666,
              "#ed7953"
             ],
             [
              0.7777777777777778,
              "#fb9f3a"
             ],
             [
              0.8888888888888888,
              "#fdca26"
             ],
             [
              1,
              "#f0f921"
             ]
            ],
            "type": "heatmapgl"
           }
          ],
          "histogram": [
           {
            "marker": {
             "pattern": {
              "fillmode": "overlay",
              "size": 10,
              "solidity": 0.2
             }
            },
            "type": "histogram"
           }
          ],
          "histogram2d": [
           {
            "colorbar": {
             "outlinewidth": 0,
             "ticks": ""
            },
            "colorscale": [
             [
              0,
              "#0d0887"
             ],
             [
              0.1111111111111111,
              "#46039f"
             ],
             [
              0.2222222222222222,
              "#7201a8"
             ],
             [
              0.3333333333333333,
              "#9c179e"
             ],
             [
              0.4444444444444444,
              "#bd3786"
             ],
             [
              0.5555555555555556,
              "#d8576b"
             ],
             [
              0.6666666666666666,
              "#ed7953"
             ],
             [
              0.7777777777777778,
              "#fb9f3a"
             ],
             [
              0.8888888888888888,
              "#fdca26"
             ],
             [
              1,
              "#f0f921"
             ]
            ],
            "type": "histogram2d"
           }
          ],
          "histogram2dcontour": [
           {
            "colorbar": {
             "outlinewidth": 0,
             "ticks": ""
            },
            "colorscale": [
             [
              0,
              "#0d0887"
             ],
             [
              0.1111111111111111,
              "#46039f"
             ],
             [
              0.2222222222222222,
              "#7201a8"
             ],
             [
              0.3333333333333333,
              "#9c179e"
             ],
             [
              0.4444444444444444,
              "#bd3786"
             ],
             [
              0.5555555555555556,
              "#d8576b"
             ],
             [
              0.6666666666666666,
              "#ed7953"
             ],
             [
              0.7777777777777778,
              "#fb9f3a"
             ],
             [
              0.8888888888888888,
              "#fdca26"
             ],
             [
              1,
              "#f0f921"
             ]
            ],
            "type": "histogram2dcontour"
           }
          ],
          "mesh3d": [
           {
            "colorbar": {
             "outlinewidth": 0,
             "ticks": ""
            },
            "type": "mesh3d"
           }
          ],
          "parcoords": [
           {
            "line": {
             "colorbar": {
              "outlinewidth": 0,
              "ticks": ""
             }
            },
            "type": "parcoords"
           }
          ],
          "pie": [
           {
            "automargin": true,
            "type": "pie"
           }
          ],
          "scatter": [
           {
            "marker": {
             "colorbar": {
              "outlinewidth": 0,
              "ticks": ""
             }
            },
            "type": "scatter"
           }
          ],
          "scatter3d": [
           {
            "line": {
             "colorbar": {
              "outlinewidth": 0,
              "ticks": ""
             }
            },
            "marker": {
             "colorbar": {
              "outlinewidth": 0,
              "ticks": ""
             }
            },
            "type": "scatter3d"
           }
          ],
          "scattercarpet": [
           {
            "marker": {
             "colorbar": {
              "outlinewidth": 0,
              "ticks": ""
             }
            },
            "type": "scattercarpet"
           }
          ],
          "scattergeo": [
           {
            "marker": {
             "colorbar": {
              "outlinewidth": 0,
              "ticks": ""
             }
            },
            "type": "scattergeo"
           }
          ],
          "scattergl": [
           {
            "marker": {
             "colorbar": {
              "outlinewidth": 0,
              "ticks": ""
             }
            },
            "type": "scattergl"
           }
          ],
          "scattermapbox": [
           {
            "marker": {
             "colorbar": {
              "outlinewidth": 0,
              "ticks": ""
             }
            },
            "type": "scattermapbox"
           }
          ],
          "scatterpolar": [
           {
            "marker": {
             "colorbar": {
              "outlinewidth": 0,
              "ticks": ""
             }
            },
            "type": "scatterpolar"
           }
          ],
          "scatterpolargl": [
           {
            "marker": {
             "colorbar": {
              "outlinewidth": 0,
              "ticks": ""
             }
            },
            "type": "scatterpolargl"
           }
          ],
          "scatterternary": [
           {
            "marker": {
             "colorbar": {
              "outlinewidth": 0,
              "ticks": ""
             }
            },
            "type": "scatterternary"
           }
          ],
          "surface": [
           {
            "colorbar": {
             "outlinewidth": 0,
             "ticks": ""
            },
            "colorscale": [
             [
              0,
              "#0d0887"
             ],
             [
              0.1111111111111111,
              "#46039f"
             ],
             [
              0.2222222222222222,
              "#7201a8"
             ],
             [
              0.3333333333333333,
              "#9c179e"
             ],
             [
              0.4444444444444444,
              "#bd3786"
             ],
             [
              0.5555555555555556,
              "#d8576b"
             ],
             [
              0.6666666666666666,
              "#ed7953"
             ],
             [
              0.7777777777777778,
              "#fb9f3a"
             ],
             [
              0.8888888888888888,
              "#fdca26"
             ],
             [
              1,
              "#f0f921"
             ]
            ],
            "type": "surface"
           }
          ],
          "table": [
           {
            "cells": {
             "fill": {
              "color": "#EBF0F8"
             },
             "line": {
              "color": "white"
             }
            },
            "header": {
             "fill": {
              "color": "#C8D4E3"
             },
             "line": {
              "color": "white"
             }
            },
            "type": "table"
           }
          ]
         },
         "layout": {
          "annotationdefaults": {
           "arrowcolor": "#2a3f5f",
           "arrowhead": 0,
           "arrowwidth": 1
          },
          "autotypenumbers": "strict",
          "coloraxis": {
           "colorbar": {
            "outlinewidth": 0,
            "ticks": ""
           }
          },
          "colorscale": {
           "diverging": [
            [
             0,
             "#8e0152"
            ],
            [
             0.1,
             "#c51b7d"
            ],
            [
             0.2,
             "#de77ae"
            ],
            [
             0.3,
             "#f1b6da"
            ],
            [
             0.4,
             "#fde0ef"
            ],
            [
             0.5,
             "#f7f7f7"
            ],
            [
             0.6,
             "#e6f5d0"
            ],
            [
             0.7,
             "#b8e186"
            ],
            [
             0.8,
             "#7fbc41"
            ],
            [
             0.9,
             "#4d9221"
            ],
            [
             1,
             "#276419"
            ]
           ],
           "sequential": [
            [
             0,
             "#0d0887"
            ],
            [
             0.1111111111111111,
             "#46039f"
            ],
            [
             0.2222222222222222,
             "#7201a8"
            ],
            [
             0.3333333333333333,
             "#9c179e"
            ],
            [
             0.4444444444444444,
             "#bd3786"
            ],
            [
             0.5555555555555556,
             "#d8576b"
            ],
            [
             0.6666666666666666,
             "#ed7953"
            ],
            [
             0.7777777777777778,
             "#fb9f3a"
            ],
            [
             0.8888888888888888,
             "#fdca26"
            ],
            [
             1,
             "#f0f921"
            ]
           ],
           "sequentialminus": [
            [
             0,
             "#0d0887"
            ],
            [
             0.1111111111111111,
             "#46039f"
            ],
            [
             0.2222222222222222,
             "#7201a8"
            ],
            [
             0.3333333333333333,
             "#9c179e"
            ],
            [
             0.4444444444444444,
             "#bd3786"
            ],
            [
             0.5555555555555556,
             "#d8576b"
            ],
            [
             0.6666666666666666,
             "#ed7953"
            ],
            [
             0.7777777777777778,
             "#fb9f3a"
            ],
            [
             0.8888888888888888,
             "#fdca26"
            ],
            [
             1,
             "#f0f921"
            ]
           ]
          },
          "colorway": [
           "#636efa",
           "#EF553B",
           "#00cc96",
           "#ab63fa",
           "#FFA15A",
           "#19d3f3",
           "#FF6692",
           "#B6E880",
           "#FF97FF",
           "#FECB52"
          ],
          "font": {
           "color": "#2a3f5f"
          },
          "geo": {
           "bgcolor": "white",
           "lakecolor": "white",
           "landcolor": "#E5ECF6",
           "showlakes": true,
           "showland": true,
           "subunitcolor": "white"
          },
          "hoverlabel": {
           "align": "left"
          },
          "hovermode": "closest",
          "mapbox": {
           "style": "light"
          },
          "paper_bgcolor": "white",
          "plot_bgcolor": "#E5ECF6",
          "polar": {
           "angularaxis": {
            "gridcolor": "white",
            "linecolor": "white",
            "ticks": ""
           },
           "bgcolor": "#E5ECF6",
           "radialaxis": {
            "gridcolor": "white",
            "linecolor": "white",
            "ticks": ""
           }
          },
          "scene": {
           "xaxis": {
            "backgroundcolor": "#E5ECF6",
            "gridcolor": "white",
            "gridwidth": 2,
            "linecolor": "white",
            "showbackground": true,
            "ticks": "",
            "zerolinecolor": "white"
           },
           "yaxis": {
            "backgroundcolor": "#E5ECF6",
            "gridcolor": "white",
            "gridwidth": 2,
            "linecolor": "white",
            "showbackground": true,
            "ticks": "",
            "zerolinecolor": "white"
           },
           "zaxis": {
            "backgroundcolor": "#E5ECF6",
            "gridcolor": "white",
            "gridwidth": 2,
            "linecolor": "white",
            "showbackground": true,
            "ticks": "",
            "zerolinecolor": "white"
           }
          },
          "shapedefaults": {
           "line": {
            "color": "#2a3f5f"
           }
          },
          "ternary": {
           "aaxis": {
            "gridcolor": "white",
            "linecolor": "white",
            "ticks": ""
           },
           "baxis": {
            "gridcolor": "white",
            "linecolor": "white",
            "ticks": ""
           },
           "bgcolor": "#E5ECF6",
           "caxis": {
            "gridcolor": "white",
            "linecolor": "white",
            "ticks": ""
           }
          },
          "title": {
           "x": 0.05
          },
          "xaxis": {
           "automargin": true,
           "gridcolor": "white",
           "linecolor": "white",
           "ticks": "",
           "title": {
            "standoff": 15
           },
           "zerolinecolor": "white",
           "zerolinewidth": 2
          },
          "yaxis": {
           "automargin": true,
           "gridcolor": "white",
           "linecolor": "white",
           "ticks": "",
           "title": {
            "standoff": 15
           },
           "zerolinecolor": "white",
           "zerolinewidth": 2
          }
         }
        },
        "title": {
         "text": "Coffee: Total Cup Points"
        },
        "xaxis": {
         "anchor": "y",
         "domain": [
          0,
          1
         ],
         "title": {
          "text": "Total Cup Points"
         }
        },
        "yaxis": {
         "anchor": "x",
         "domain": [
          0,
          1
         ],
         "title": {
          "text": "count"
         }
        }
       }
      }
     },
     "metadata": {},
     "output_type": "display_data"
    },
    {
     "data": {
      "application/vnd.plotly.v1+json": {
       "config": {
        "plotlyServerURL": "https://plot.ly"
       },
       "data": [
        {
         "alignmentgroup": "True",
         "bingroup": "x",
         "hovertemplate": "Moisture=%{x}<br>count=%{y}<extra></extra>",
         "legendgroup": "",
         "marker": {
          "color": "#636efa",
          "pattern": {
           "shape": ""
          }
         },
         "name": "",
         "offsetgroup": "",
         "orientation": "v",
         "showlegend": false,
         "type": "histogram",
         "x": [
          0.12,
          0.12,
          0.11,
          0.12,
          0.1,
          0.1,
          0,
          0,
          0,
          0.1,
          0,
          0,
          0.11,
          0.13,
          0,
          0.12,
          0.12,
          0,
          0.12,
          0,
          0.1,
          0.12,
          0,
          0.1,
          0.12,
          0.11,
          0.11,
          0.1,
          0.12,
          0.08,
          0.1,
          0.12,
          0.1,
          0.12,
          0.1,
          0.11,
          0.09,
          0.12,
          0.12,
          0.11,
          0.1,
          0.12,
          0.11,
          0.1,
          0.11,
          0,
          0.1,
          0,
          0,
          0.11,
          0,
          0,
          0.1,
          0.11,
          0.11,
          0.12,
          0.09,
          0.12,
          0.12,
          0.11,
          0.12,
          0.11,
          0.11,
          0.11,
          0.12,
          0,
          0.12,
          0.13,
          0.11,
          0,
          0.12,
          0.12,
          0.1,
          0.1,
          0.12,
          0.1,
          0.08,
          0.11,
          0.11,
          0.11,
          0.11,
          0.12,
          0.13,
          0.11,
          0.1,
          0.11,
          0.09,
          0,
          0.11,
          0.12,
          0.11,
          0.1,
          0.11,
          0.1,
          0.11,
          0,
          0.11,
          0.12,
          0.11,
          0.1,
          0,
          0,
          0.11,
          0.12,
          0.11,
          0.11,
          0.11,
          0.12,
          0.12,
          0.12,
          0.11,
          0.11,
          0.1,
          0.1,
          0.11,
          0.12,
          0.12,
          0.12,
          0.12,
          0.1,
          0.12,
          0.12,
          0.1,
          0.13,
          0.09,
          0.11,
          0.1,
          0.1,
          0,
          0.12,
          0,
          0,
          0.1,
          0.13,
          0.11,
          0.11,
          0.11,
          0,
          0.1,
          0,
          0.1,
          0.11,
          0.11,
          0.1,
          0.12,
          0.1,
          0.1,
          0.12,
          0.1,
          0,
          0,
          0,
          0.11,
          0.1,
          0.11,
          0.11,
          0,
          0.06,
          0.12,
          0.11,
          0,
          0,
          0,
          0.11,
          0,
          0,
          0.12,
          0,
          0.1,
          0.1,
          0.1,
          0.11,
          0.1,
          0.11,
          0.12,
          0.11,
          0.11,
          0.11,
          0,
          0.1,
          0,
          0.12,
          0.12,
          0,
          0.13,
          0.11,
          0.11,
          0.11,
          0.1,
          0.1,
          0.11,
          0.1,
          0.12,
          0.11,
          0.1,
          0,
          0.12,
          0.11,
          0.11,
          0.11,
          0.12,
          0.12,
          0.1,
          0.11,
          0.11,
          0.1,
          0.12,
          0.12,
          0,
          0.12,
          0.11,
          0.11,
          0.12,
          0.11,
          0.12,
          0,
          0,
          0,
          0.1,
          0.12,
          0.13,
          0.13,
          0.1,
          0.1,
          0.1,
          0.13,
          0.11,
          0.12,
          0.1,
          0.11,
          0,
          0,
          0.1,
          0.11,
          0.09,
          0.11,
          0.13,
          0.11,
          0.12,
          0.13,
          0.1,
          0.1,
          0.11,
          0.11,
          0,
          0.1,
          0.12,
          0.11,
          0.12,
          0.12,
          0.12,
          0.11,
          0.11,
          0.11,
          0.11,
          0,
          0.11,
          0.11,
          0.11,
          0,
          0.12,
          0.1,
          0.1,
          0.1,
          0.12,
          0.12,
          0.11,
          0.11,
          0.11,
          0.11,
          0.1,
          0.12,
          0.07,
          0.11,
          0.11,
          0.11,
          0.1,
          0,
          0.11,
          0.12,
          0.12,
          0.13,
          0,
          0.1,
          0.1,
          0.11,
          0.09,
          0.11,
          0.11,
          0.12,
          0.14,
          0.11,
          0.13,
          0.11,
          0.12,
          0.11,
          0,
          0.12,
          0,
          0.11,
          0,
          0,
          0,
          0.1,
          0.11,
          0.1,
          0,
          0.11,
          0.11,
          0.12,
          0.12,
          0,
          0.11,
          0.11,
          0.11,
          0,
          0.08,
          0.12,
          0,
          0.1,
          0.11,
          0.12,
          0.11,
          0.11,
          0,
          0.11,
          0.11,
          0.11,
          0.11,
          0,
          0.1,
          0.12,
          0,
          0,
          0.09,
          0,
          0,
          0.11,
          0,
          0.13,
          0.12,
          0.11,
          0.12,
          0.12,
          0.1,
          0.1,
          0.11,
          0.1,
          0,
          0.14,
          0.1,
          0.11,
          0.11,
          0,
          0.11,
          0.11,
          0.11,
          0.12,
          0,
          0,
          0.1,
          0,
          0.11,
          0.11,
          0.12,
          0.12,
          0.11,
          0.11,
          0.1,
          0.11,
          0.11,
          0.1,
          0.1,
          0.12,
          0.12,
          0,
          0,
          0.09,
          0.09,
          0.11,
          0.1,
          0.11,
          0,
          0.12,
          0.13,
          0.1,
          0.12,
          0.12,
          0.12,
          0,
          0.11,
          0,
          0,
          0.11,
          0.13,
          0,
          0,
          0.12,
          0.12,
          0.08,
          0.11,
          0.12,
          0.11,
          0.11,
          0.11,
          0.11,
          0.12,
          0.1,
          0.11,
          0.13,
          0.12,
          0.12,
          0.12,
          0.12,
          0.11,
          0.11,
          0.11,
          0.1,
          0.12,
          0.11,
          0.11,
          0.11,
          0.1,
          0.1,
          0.12,
          0.11,
          0.12,
          0,
          0.11,
          0.12,
          0.11,
          0.13,
          0.12,
          0.11,
          0,
          0.11,
          0.12,
          0.1,
          0.12,
          0.12,
          0.1,
          0.13,
          0,
          0.1,
          0.11,
          0.12,
          0,
          0.12,
          0.12,
          0.13,
          0.14,
          0.13,
          0.11,
          0.14,
          0.11,
          0.13,
          0.12,
          0,
          0.1,
          0.11,
          0.11,
          0.1,
          0,
          0.12,
          0.07,
          0.1,
          0.12,
          0.11,
          0.12,
          0.1,
          0.11,
          0.11,
          0.12,
          0.12,
          0.11,
          0.15,
          0.13,
          0.1,
          0.12,
          0.11,
          0.11,
          0,
          0.09,
          0.11,
          0,
          0.12,
          0.11,
          0.13,
          0.11,
          0.11,
          0.12,
          0.16,
          0.11,
          0.13,
          0.12,
          0.11,
          0.1,
          0.11,
          0.11,
          0.11,
          0.13,
          0,
          0.12,
          0.11,
          0.12,
          0.12,
          0.1,
          0.11,
          0,
          0.15,
          0.12,
          0.12,
          0.1,
          0.15,
          0.11,
          0,
          0,
          0.12,
          0.12,
          0.11,
          0.13,
          0.13,
          0.11,
          0.12,
          0.11,
          0.12,
          0.1,
          0.11,
          0.13,
          0.12,
          0.12,
          0.13,
          0.09,
          0.11,
          0.1,
          0.11,
          0.12,
          0.11,
          0.12,
          0.12,
          0.11,
          0.12,
          0,
          0.1,
          0.11,
          0.12,
          0.11,
          0.11,
          0.11,
          0.12,
          0.11,
          0.12,
          0.13,
          0.14,
          0.12,
          0.12,
          0.12,
          0.1,
          0,
          0.11,
          0.11,
          0.1,
          0,
          0,
          0,
          0.11,
          0.12,
          0.09,
          0,
          0.13,
          0.11,
          0.1,
          0.11,
          0,
          0.12,
          0.11,
          0.12,
          0.12,
          0.11,
          0.12,
          0.12,
          0.13,
          0.13,
          0.11,
          0.12,
          0.12,
          0.11,
          0.1,
          0.12,
          0.11,
          0,
          0.12,
          0.12,
          0.1,
          0.1,
          0.11,
          0.11,
          0.11,
          0.12,
          0.11,
          0.13,
          0.11,
          0.11,
          0.11,
          0.11,
          0.11,
          0.12,
          0.1,
          0.12,
          0.12,
          0.13,
          0,
          0.12,
          0.12,
          0.12,
          0.11,
          0.11,
          0.1,
          0.11,
          0.1,
          0.12,
          0,
          0.12,
          0.12,
          0.12,
          0.11,
          0,
          0.11,
          0.11,
          0.13,
          0.12,
          0.12,
          0.11,
          0.13,
          0.11,
          0.12,
          0.12,
          0.12,
          0.1,
          0.11,
          0.12,
          0.12,
          0.12,
          0,
          0.1,
          0,
          0.12,
          0.13,
          0.13,
          0.11,
          0.11,
          0.11,
          0.09,
          0.12,
          0.14,
          0.13,
          0.12,
          0.13,
          0.12,
          0.11,
          0.12,
          0,
          0.1,
          0.12,
          0.09,
          0.13,
          0.11,
          0.11,
          0.12,
          0.09,
          0.12,
          0.12,
          0.11,
          0.13,
          0.12,
          0,
          0.12,
          0.12,
          0.11,
          0.13,
          0.12,
          0.12,
          0.11,
          0.11,
          0,
          0.13,
          0.13,
          0,
          0.13,
          0.12,
          0.11,
          0.1,
          0,
          0.09,
          0.11,
          0.12,
          0.12,
          0.12,
          0.12,
          0.11,
          0,
          0.12,
          0,
          0,
          0.1,
          0.11,
          0.11,
          0,
          0.12,
          0.12,
          0.09,
          0.1,
          0.12,
          0.11,
          0.11,
          0.11,
          0.13,
          0,
          0.11,
          0.13,
          0.11,
          0.13,
          0,
          0.12,
          0.12,
          0.11,
          0.11,
          0.09,
          0.13,
          0.11,
          0.11,
          0.12,
          0.13,
          0.11,
          0.11,
          0.12,
          0.12,
          0.12,
          0.12,
          0,
          0.11,
          0.11,
          0,
          0.1,
          0.11,
          0.11,
          0,
          0.11,
          0.1,
          0.12,
          0.15,
          0.14,
          0,
          0.17,
          0.11,
          0.1,
          0.12,
          0.13,
          0.11,
          0.11,
          0.11,
          0.11,
          0.1,
          0.1,
          0.11,
          0,
          0.11,
          0.11,
          0.11,
          0.11,
          0,
          0.11,
          0.11,
          0.11,
          0.11,
          0.14,
          0.12,
          0.11,
          0.07,
          0.11,
          0.11,
          0.11,
          0.15,
          0.14,
          0.1,
          0,
          0,
          0.11,
          0,
          0.12,
          0.11,
          0.12,
          0.12,
          0,
          0.11,
          0.12,
          0.11,
          0.11,
          0.1,
          0.11,
          0.12,
          0.1,
          0,
          0.1,
          0.12,
          0.1,
          0.12,
          0.13,
          0.12,
          0.14,
          0.1,
          0.12,
          0.1,
          0,
          0.12,
          0.11,
          0.12,
          0.13,
          0,
          0.12,
          0.13,
          0.12,
          0,
          0.12,
          0.12,
          0.1,
          0.1,
          0.13,
          0.13,
          0,
          0.14,
          0.14,
          0.11,
          0.13,
          0.1,
          0.11,
          0.11,
          0.11,
          0.14,
          0.14,
          0.1,
          0.13,
          0.16,
          0.11,
          0.1,
          0.12,
          0.11,
          0,
          0.12,
          0.14,
          0.14,
          0.12,
          0.16,
          0.1,
          0.12,
          0.14,
          0.14,
          0.12,
          0,
          0.13,
          0.12,
          0.1,
          0.13,
          0.1,
          0,
          0.12,
          0.13,
          0.14,
          0.1,
          0.11,
          0.13,
          0.13,
          0.11,
          0,
          0.11,
          0.1,
          0.1,
          0.11,
          0.12,
          0.12,
          0.11,
          0.11,
          0.11,
          0.13,
          0.11,
          0,
          0.1,
          0.15,
          0.1,
          0.12,
          0,
          0.13,
          0.11,
          0.16,
          0.12,
          0.12,
          0.11,
          0.12,
          0.11,
          0.11,
          0.11,
          0.12,
          0.13,
          0.14,
          0.17,
          0.12,
          0.12,
          0.11,
          0.14,
          0.13,
          0.12,
          0.11,
          0,
          0.11,
          0.12,
          0.11,
          0.12,
          0.1,
          0.1,
          0.1,
          0.11,
          0.14,
          0.13,
          0.1
         ],
         "xaxis": "x",
         "yaxis": "y"
        }
       ],
       "layout": {
        "barmode": "relative",
        "legend": {
         "tracegroupgap": 0
        },
        "template": {
         "data": {
          "bar": [
           {
            "error_x": {
             "color": "#2a3f5f"
            },
            "error_y": {
             "color": "#2a3f5f"
            },
            "marker": {
             "line": {
              "color": "#E5ECF6",
              "width": 0.5
             },
             "pattern": {
              "fillmode": "overlay",
              "size": 10,
              "solidity": 0.2
             }
            },
            "type": "bar"
           }
          ],
          "barpolar": [
           {
            "marker": {
             "line": {
              "color": "#E5ECF6",
              "width": 0.5
             },
             "pattern": {
              "fillmode": "overlay",
              "size": 10,
              "solidity": 0.2
             }
            },
            "type": "barpolar"
           }
          ],
          "carpet": [
           {
            "aaxis": {
             "endlinecolor": "#2a3f5f",
             "gridcolor": "white",
             "linecolor": "white",
             "minorgridcolor": "white",
             "startlinecolor": "#2a3f5f"
            },
            "baxis": {
             "endlinecolor": "#2a3f5f",
             "gridcolor": "white",
             "linecolor": "white",
             "minorgridcolor": "white",
             "startlinecolor": "#2a3f5f"
            },
            "type": "carpet"
           }
          ],
          "choropleth": [
           {
            "colorbar": {
             "outlinewidth": 0,
             "ticks": ""
            },
            "type": "choropleth"
           }
          ],
          "contour": [
           {
            "colorbar": {
             "outlinewidth": 0,
             "ticks": ""
            },
            "colorscale": [
             [
              0,
              "#0d0887"
             ],
             [
              0.1111111111111111,
              "#46039f"
             ],
             [
              0.2222222222222222,
              "#7201a8"
             ],
             [
              0.3333333333333333,
              "#9c179e"
             ],
             [
              0.4444444444444444,
              "#bd3786"
             ],
             [
              0.5555555555555556,
              "#d8576b"
             ],
             [
              0.6666666666666666,
              "#ed7953"
             ],
             [
              0.7777777777777778,
              "#fb9f3a"
             ],
             [
              0.8888888888888888,
              "#fdca26"
             ],
             [
              1,
              "#f0f921"
             ]
            ],
            "type": "contour"
           }
          ],
          "contourcarpet": [
           {
            "colorbar": {
             "outlinewidth": 0,
             "ticks": ""
            },
            "type": "contourcarpet"
           }
          ],
          "heatmap": [
           {
            "colorbar": {
             "outlinewidth": 0,
             "ticks": ""
            },
            "colorscale": [
             [
              0,
              "#0d0887"
             ],
             [
              0.1111111111111111,
              "#46039f"
             ],
             [
              0.2222222222222222,
              "#7201a8"
             ],
             [
              0.3333333333333333,
              "#9c179e"
             ],
             [
              0.4444444444444444,
              "#bd3786"
             ],
             [
              0.5555555555555556,
              "#d8576b"
             ],
             [
              0.6666666666666666,
              "#ed7953"
             ],
             [
              0.7777777777777778,
              "#fb9f3a"
             ],
             [
              0.8888888888888888,
              "#fdca26"
             ],
             [
              1,
              "#f0f921"
             ]
            ],
            "type": "heatmap"
           }
          ],
          "heatmapgl": [
           {
            "colorbar": {
             "outlinewidth": 0,
             "ticks": ""
            },
            "colorscale": [
             [
              0,
              "#0d0887"
             ],
             [
              0.1111111111111111,
              "#46039f"
             ],
             [
              0.2222222222222222,
              "#7201a8"
             ],
             [
              0.3333333333333333,
              "#9c179e"
             ],
             [
              0.4444444444444444,
              "#bd3786"
             ],
             [
              0.5555555555555556,
              "#d8576b"
             ],
             [
              0.6666666666666666,
              "#ed7953"
             ],
             [
              0.7777777777777778,
              "#fb9f3a"
             ],
             [
              0.8888888888888888,
              "#fdca26"
             ],
             [
              1,
              "#f0f921"
             ]
            ],
            "type": "heatmapgl"
           }
          ],
          "histogram": [
           {
            "marker": {
             "pattern": {
              "fillmode": "overlay",
              "size": 10,
              "solidity": 0.2
             }
            },
            "type": "histogram"
           }
          ],
          "histogram2d": [
           {
            "colorbar": {
             "outlinewidth": 0,
             "ticks": ""
            },
            "colorscale": [
             [
              0,
              "#0d0887"
             ],
             [
              0.1111111111111111,
              "#46039f"
             ],
             [
              0.2222222222222222,
              "#7201a8"
             ],
             [
              0.3333333333333333,
              "#9c179e"
             ],
             [
              0.4444444444444444,
              "#bd3786"
             ],
             [
              0.5555555555555556,
              "#d8576b"
             ],
             [
              0.6666666666666666,
              "#ed7953"
             ],
             [
              0.7777777777777778,
              "#fb9f3a"
             ],
             [
              0.8888888888888888,
              "#fdca26"
             ],
             [
              1,
              "#f0f921"
             ]
            ],
            "type": "histogram2d"
           }
          ],
          "histogram2dcontour": [
           {
            "colorbar": {
             "outlinewidth": 0,
             "ticks": ""
            },
            "colorscale": [
             [
              0,
              "#0d0887"
             ],
             [
              0.1111111111111111,
              "#46039f"
             ],
             [
              0.2222222222222222,
              "#7201a8"
             ],
             [
              0.3333333333333333,
              "#9c179e"
             ],
             [
              0.4444444444444444,
              "#bd3786"
             ],
             [
              0.5555555555555556,
              "#d8576b"
             ],
             [
              0.6666666666666666,
              "#ed7953"
             ],
             [
              0.7777777777777778,
              "#fb9f3a"
             ],
             [
              0.8888888888888888,
              "#fdca26"
             ],
             [
              1,
              "#f0f921"
             ]
            ],
            "type": "histogram2dcontour"
           }
          ],
          "mesh3d": [
           {
            "colorbar": {
             "outlinewidth": 0,
             "ticks": ""
            },
            "type": "mesh3d"
           }
          ],
          "parcoords": [
           {
            "line": {
             "colorbar": {
              "outlinewidth": 0,
              "ticks": ""
             }
            },
            "type": "parcoords"
           }
          ],
          "pie": [
           {
            "automargin": true,
            "type": "pie"
           }
          ],
          "scatter": [
           {
            "marker": {
             "colorbar": {
              "outlinewidth": 0,
              "ticks": ""
             }
            },
            "type": "scatter"
           }
          ],
          "scatter3d": [
           {
            "line": {
             "colorbar": {
              "outlinewidth": 0,
              "ticks": ""
             }
            },
            "marker": {
             "colorbar": {
              "outlinewidth": 0,
              "ticks": ""
             }
            },
            "type": "scatter3d"
           }
          ],
          "scattercarpet": [
           {
            "marker": {
             "colorbar": {
              "outlinewidth": 0,
              "ticks": ""
             }
            },
            "type": "scattercarpet"
           }
          ],
          "scattergeo": [
           {
            "marker": {
             "colorbar": {
              "outlinewidth": 0,
              "ticks": ""
             }
            },
            "type": "scattergeo"
           }
          ],
          "scattergl": [
           {
            "marker": {
             "colorbar": {
              "outlinewidth": 0,
              "ticks": ""
             }
            },
            "type": "scattergl"
           }
          ],
          "scattermapbox": [
           {
            "marker": {
             "colorbar": {
              "outlinewidth": 0,
              "ticks": ""
             }
            },
            "type": "scattermapbox"
           }
          ],
          "scatterpolar": [
           {
            "marker": {
             "colorbar": {
              "outlinewidth": 0,
              "ticks": ""
             }
            },
            "type": "scatterpolar"
           }
          ],
          "scatterpolargl": [
           {
            "marker": {
             "colorbar": {
              "outlinewidth": 0,
              "ticks": ""
             }
            },
            "type": "scatterpolargl"
           }
          ],
          "scatterternary": [
           {
            "marker": {
             "colorbar": {
              "outlinewidth": 0,
              "ticks": ""
             }
            },
            "type": "scatterternary"
           }
          ],
          "surface": [
           {
            "colorbar": {
             "outlinewidth": 0,
             "ticks": ""
            },
            "colorscale": [
             [
              0,
              "#0d0887"
             ],
             [
              0.1111111111111111,
              "#46039f"
             ],
             [
              0.2222222222222222,
              "#7201a8"
             ],
             [
              0.3333333333333333,
              "#9c179e"
             ],
             [
              0.4444444444444444,
              "#bd3786"
             ],
             [
              0.5555555555555556,
              "#d8576b"
             ],
             [
              0.6666666666666666,
              "#ed7953"
             ],
             [
              0.7777777777777778,
              "#fb9f3a"
             ],
             [
              0.8888888888888888,
              "#fdca26"
             ],
             [
              1,
              "#f0f921"
             ]
            ],
            "type": "surface"
           }
          ],
          "table": [
           {
            "cells": {
             "fill": {
              "color": "#EBF0F8"
             },
             "line": {
              "color": "white"
             }
            },
            "header": {
             "fill": {
              "color": "#C8D4E3"
             },
             "line": {
              "color": "white"
             }
            },
            "type": "table"
           }
          ]
         },
         "layout": {
          "annotationdefaults": {
           "arrowcolor": "#2a3f5f",
           "arrowhead": 0,
           "arrowwidth": 1
          },
          "autotypenumbers": "strict",
          "coloraxis": {
           "colorbar": {
            "outlinewidth": 0,
            "ticks": ""
           }
          },
          "colorscale": {
           "diverging": [
            [
             0,
             "#8e0152"
            ],
            [
             0.1,
             "#c51b7d"
            ],
            [
             0.2,
             "#de77ae"
            ],
            [
             0.3,
             "#f1b6da"
            ],
            [
             0.4,
             "#fde0ef"
            ],
            [
             0.5,
             "#f7f7f7"
            ],
            [
             0.6,
             "#e6f5d0"
            ],
            [
             0.7,
             "#b8e186"
            ],
            [
             0.8,
             "#7fbc41"
            ],
            [
             0.9,
             "#4d9221"
            ],
            [
             1,
             "#276419"
            ]
           ],
           "sequential": [
            [
             0,
             "#0d0887"
            ],
            [
             0.1111111111111111,
             "#46039f"
            ],
            [
             0.2222222222222222,
             "#7201a8"
            ],
            [
             0.3333333333333333,
             "#9c179e"
            ],
            [
             0.4444444444444444,
             "#bd3786"
            ],
            [
             0.5555555555555556,
             "#d8576b"
            ],
            [
             0.6666666666666666,
             "#ed7953"
            ],
            [
             0.7777777777777778,
             "#fb9f3a"
            ],
            [
             0.8888888888888888,
             "#fdca26"
            ],
            [
             1,
             "#f0f921"
            ]
           ],
           "sequentialminus": [
            [
             0,
             "#0d0887"
            ],
            [
             0.1111111111111111,
             "#46039f"
            ],
            [
             0.2222222222222222,
             "#7201a8"
            ],
            [
             0.3333333333333333,
             "#9c179e"
            ],
            [
             0.4444444444444444,
             "#bd3786"
            ],
            [
             0.5555555555555556,
             "#d8576b"
            ],
            [
             0.6666666666666666,
             "#ed7953"
            ],
            [
             0.7777777777777778,
             "#fb9f3a"
            ],
            [
             0.8888888888888888,
             "#fdca26"
            ],
            [
             1,
             "#f0f921"
            ]
           ]
          },
          "colorway": [
           "#636efa",
           "#EF553B",
           "#00cc96",
           "#ab63fa",
           "#FFA15A",
           "#19d3f3",
           "#FF6692",
           "#B6E880",
           "#FF97FF",
           "#FECB52"
          ],
          "font": {
           "color": "#2a3f5f"
          },
          "geo": {
           "bgcolor": "white",
           "lakecolor": "white",
           "landcolor": "#E5ECF6",
           "showlakes": true,
           "showland": true,
           "subunitcolor": "white"
          },
          "hoverlabel": {
           "align": "left"
          },
          "hovermode": "closest",
          "mapbox": {
           "style": "light"
          },
          "paper_bgcolor": "white",
          "plot_bgcolor": "#E5ECF6",
          "polar": {
           "angularaxis": {
            "gridcolor": "white",
            "linecolor": "white",
            "ticks": ""
           },
           "bgcolor": "#E5ECF6",
           "radialaxis": {
            "gridcolor": "white",
            "linecolor": "white",
            "ticks": ""
           }
          },
          "scene": {
           "xaxis": {
            "backgroundcolor": "#E5ECF6",
            "gridcolor": "white",
            "gridwidth": 2,
            "linecolor": "white",
            "showbackground": true,
            "ticks": "",
            "zerolinecolor": "white"
           },
           "yaxis": {
            "backgroundcolor": "#E5ECF6",
            "gridcolor": "white",
            "gridwidth": 2,
            "linecolor": "white",
            "showbackground": true,
            "ticks": "",
            "zerolinecolor": "white"
           },
           "zaxis": {
            "backgroundcolor": "#E5ECF6",
            "gridcolor": "white",
            "gridwidth": 2,
            "linecolor": "white",
            "showbackground": true,
            "ticks": "",
            "zerolinecolor": "white"
           }
          },
          "shapedefaults": {
           "line": {
            "color": "#2a3f5f"
           }
          },
          "ternary": {
           "aaxis": {
            "gridcolor": "white",
            "linecolor": "white",
            "ticks": ""
           },
           "baxis": {
            "gridcolor": "white",
            "linecolor": "white",
            "ticks": ""
           },
           "bgcolor": "#E5ECF6",
           "caxis": {
            "gridcolor": "white",
            "linecolor": "white",
            "ticks": ""
           }
          },
          "title": {
           "x": 0.05
          },
          "xaxis": {
           "automargin": true,
           "gridcolor": "white",
           "linecolor": "white",
           "ticks": "",
           "title": {
            "standoff": 15
           },
           "zerolinecolor": "white",
           "zerolinewidth": 2
          },
          "yaxis": {
           "automargin": true,
           "gridcolor": "white",
           "linecolor": "white",
           "ticks": "",
           "title": {
            "standoff": 15
           },
           "zerolinecolor": "white",
           "zerolinewidth": 2
          }
         }
        },
        "title": {
         "text": "Coffee: Moisture"
        },
        "xaxis": {
         "anchor": "y",
         "domain": [
          0,
          1
         ],
         "title": {
          "text": "Moisture"
         }
        },
        "yaxis": {
         "anchor": "x",
         "domain": [
          0,
          1
         ],
         "title": {
          "text": "count"
         }
        }
       }
      }
     },
     "metadata": {},
     "output_type": "display_data"
    },
    {
     "data": {
      "application/vnd.plotly.v1+json": {
       "config": {
        "plotlyServerURL": "https://plot.ly"
       },
       "data": [
        {
         "alignmentgroup": "True",
         "bingroup": "x",
         "hovertemplate": "Category One Defects=%{x}<br>count=%{y}<extra></extra>",
         "legendgroup": "",
         "marker": {
          "color": "#636efa",
          "pattern": {
           "shape": ""
          }
         },
         "name": "",
         "offsetgroup": "",
         "orientation": "v",
         "showlegend": false,
         "type": "histogram",
         "x": [
          0,
          0,
          0,
          0,
          0,
          0,
          0,
          0,
          0,
          0,
          0,
          0,
          0,
          0,
          0,
          0,
          0,
          0,
          0,
          0,
          0,
          0,
          0,
          1,
          0,
          0,
          0,
          0,
          0,
          0,
          0,
          0,
          0,
          0,
          0,
          0,
          2,
          0,
          0,
          0,
          0,
          0,
          0,
          0,
          0,
          0,
          0,
          0,
          0,
          0,
          0,
          0,
          2,
          0,
          0,
          1,
          0,
          0,
          0,
          0,
          0,
          0,
          0,
          0,
          0,
          0,
          0,
          0,
          0,
          0,
          0,
          0,
          0,
          0,
          0,
          0,
          0,
          0,
          0,
          0,
          0,
          0,
          0,
          0,
          0,
          0,
          0,
          0,
          0,
          0,
          0,
          0,
          0,
          0,
          0,
          0,
          0,
          0,
          0,
          0,
          0,
          0,
          0,
          2,
          0,
          0,
          6,
          0,
          0,
          0,
          0,
          0,
          0,
          0,
          0,
          4,
          3,
          0,
          0,
          0,
          0,
          0,
          0,
          0,
          0,
          0,
          0,
          0,
          0,
          0,
          0,
          0,
          0,
          0,
          0,
          0,
          0,
          1,
          0,
          0,
          0,
          1,
          3,
          0,
          0,
          0,
          0,
          0,
          0,
          0,
          0,
          0,
          0,
          0,
          0,
          0,
          0,
          0,
          10,
          0,
          0,
          1,
          0,
          0,
          0,
          0,
          0,
          0,
          0,
          0,
          0,
          0,
          0,
          0,
          0,
          0,
          0,
          0,
          0,
          0,
          0,
          0,
          0,
          0,
          5,
          0,
          0,
          0,
          0,
          0,
          0,
          0,
          0,
          0,
          0,
          0,
          1,
          0,
          0,
          0,
          4,
          0,
          0,
          0,
          0,
          0,
          0,
          1,
          0,
          0,
          0,
          0,
          0,
          0,
          0,
          0,
          0,
          0,
          0,
          0,
          0,
          0,
          1,
          0,
          0,
          0,
          0,
          0,
          0,
          0,
          3,
          0,
          0,
          0,
          0,
          0,
          0,
          0,
          4,
          0,
          0,
          0,
          0,
          0,
          0,
          1,
          0,
          0,
          0,
          0,
          0,
          0,
          0,
          0,
          0,
          0,
          0,
          0,
          0,
          0,
          0,
          0,
          0,
          0,
          0,
          0,
          0,
          0,
          0,
          0,
          0,
          0,
          0,
          2,
          0,
          0,
          0,
          0,
          0,
          0,
          0,
          0,
          0,
          0,
          0,
          0,
          0,
          0,
          0,
          3,
          0,
          1,
          0,
          0,
          0,
          0,
          0,
          0,
          0,
          0,
          0,
          0,
          0,
          0,
          0,
          0,
          0,
          0,
          0,
          0,
          0,
          0,
          0,
          0,
          0,
          0,
          0,
          0,
          0,
          1,
          0,
          0,
          1,
          0,
          0,
          1,
          0,
          0,
          5,
          0,
          0,
          0,
          0,
          0,
          31,
          1,
          0,
          0,
          0,
          0,
          2,
          0,
          0,
          0,
          0,
          0,
          0,
          0,
          0,
          1,
          0,
          1,
          0,
          0,
          0,
          11,
          0,
          2,
          0,
          0,
          0,
          4,
          0,
          0,
          2,
          0,
          0,
          0,
          0,
          0,
          0,
          0,
          0,
          0,
          0,
          0,
          0,
          0,
          0,
          0,
          0,
          0,
          0,
          0,
          0,
          0,
          0,
          0,
          1,
          0,
          0,
          0,
          0,
          0,
          0,
          0,
          0,
          0,
          0,
          0,
          0,
          0,
          0,
          0,
          0,
          0,
          0,
          0,
          0,
          0,
          0,
          0,
          0,
          0,
          0,
          0,
          0,
          0,
          0,
          2,
          0,
          0,
          0,
          0,
          0,
          0,
          0,
          0,
          0,
          0,
          0,
          0,
          0,
          0,
          0,
          1,
          0,
          0,
          0,
          0,
          0,
          0,
          0,
          0,
          0,
          0,
          0,
          0,
          0,
          0,
          0,
          0,
          0,
          0,
          0,
          0,
          0,
          0,
          0,
          0,
          0,
          6,
          0,
          0,
          0,
          0,
          0,
          0,
          0,
          0,
          0,
          0,
          2,
          0,
          0,
          1,
          0,
          2,
          0,
          0,
          0,
          0,
          2,
          0,
          0,
          0,
          0,
          0,
          0,
          0,
          0,
          3,
          0,
          0,
          0,
          0,
          0,
          0,
          0,
          0,
          1,
          0,
          0,
          0,
          0,
          0,
          1,
          0,
          0,
          1,
          0,
          0,
          0,
          0,
          0,
          0,
          0,
          0,
          0,
          0,
          0,
          3,
          0,
          0,
          0,
          0,
          0,
          0,
          0,
          0,
          0,
          0,
          0,
          0,
          0,
          0,
          0,
          0,
          0,
          0,
          0,
          0,
          0,
          0,
          0,
          0,
          0,
          0,
          0,
          0,
          0,
          0,
          2,
          2,
          0,
          0,
          0,
          1,
          1,
          0,
          0,
          2,
          0,
          0,
          0,
          0,
          0,
          0,
          0,
          0,
          0,
          0,
          0,
          2,
          0,
          0,
          0,
          0,
          0,
          0,
          0,
          2,
          0,
          0,
          10,
          0,
          0,
          0,
          0,
          0,
          0,
          0,
          0,
          0,
          0,
          0,
          0,
          0,
          0,
          0,
          1,
          0,
          0,
          0,
          0,
          0,
          0,
          0,
          0,
          0,
          0,
          0,
          0,
          0,
          0,
          0,
          0,
          0,
          0,
          0,
          0,
          0,
          1,
          0,
          0,
          0,
          1,
          0,
          0,
          0,
          0,
          0,
          0,
          0,
          0,
          0,
          0,
          1,
          0,
          0,
          0,
          0,
          0,
          0,
          0,
          1,
          0,
          1,
          0,
          0,
          0,
          0,
          0,
          0,
          0,
          0,
          0,
          4,
          0,
          0,
          0,
          0,
          0,
          0,
          0,
          0,
          0,
          0,
          0,
          0,
          0,
          0,
          0,
          0,
          0,
          0,
          0,
          0,
          0,
          3,
          0,
          0,
          5,
          0,
          0,
          0,
          0,
          0,
          5,
          0,
          0,
          0,
          0,
          0,
          0,
          0,
          0,
          0,
          0,
          0,
          0,
          0,
          0,
          0,
          0,
          0,
          0,
          0,
          0,
          0,
          0,
          0,
          2,
          0,
          0,
          0,
          0,
          0,
          0,
          0,
          0,
          0,
          0,
          0,
          0,
          0,
          1,
          0,
          0,
          0,
          0,
          0,
          0,
          0,
          0,
          0,
          0,
          0,
          0,
          0,
          0,
          0,
          0,
          0,
          0,
          0,
          0,
          0,
          0,
          1,
          0,
          0,
          0,
          0,
          0,
          2,
          4,
          0,
          0,
          1,
          0,
          0,
          0,
          0,
          1,
          0,
          0,
          0,
          1,
          2,
          0,
          0,
          0,
          0,
          0,
          1,
          0,
          0,
          0,
          0,
          0,
          0,
          0,
          1,
          0,
          0,
          0,
          0,
          0,
          0,
          0,
          0,
          1,
          0,
          0,
          0,
          0,
          0,
          0,
          0,
          0,
          0,
          0,
          0,
          0,
          0,
          0,
          0,
          0,
          0,
          1,
          0,
          0,
          0,
          0,
          0,
          0,
          5,
          0,
          0,
          0,
          0,
          0,
          1,
          0,
          0,
          1,
          0,
          1,
          0,
          0,
          0,
          0,
          0,
          0,
          0,
          0,
          0,
          0,
          0,
          0,
          0,
          0,
          0,
          0,
          0,
          0,
          0,
          0,
          3,
          7,
          0,
          0,
          0,
          1,
          0,
          0,
          0,
          0,
          0,
          0,
          0,
          0,
          0,
          0,
          0,
          1,
          0,
          0,
          1,
          31,
          0,
          0,
          3,
          2,
          1,
          0,
          3,
          2,
          2,
          0,
          0,
          0,
          0,
          2,
          0,
          1,
          4,
          0,
          1,
          7,
          0,
          0,
          2,
          4,
          0,
          0,
          0,
          0,
          4,
          0,
          0,
          23,
          15,
          0,
          0,
          0,
          1,
          3,
          0,
          0,
          1,
          1,
          0,
          4,
          0,
          0,
          0,
          0,
          0,
          0,
          8,
          1,
          0
         ],
         "xaxis": "x",
         "yaxis": "y"
        }
       ],
       "layout": {
        "barmode": "relative",
        "legend": {
         "tracegroupgap": 0
        },
        "template": {
         "data": {
          "bar": [
           {
            "error_x": {
             "color": "#2a3f5f"
            },
            "error_y": {
             "color": "#2a3f5f"
            },
            "marker": {
             "line": {
              "color": "#E5ECF6",
              "width": 0.5
             },
             "pattern": {
              "fillmode": "overlay",
              "size": 10,
              "solidity": 0.2
             }
            },
            "type": "bar"
           }
          ],
          "barpolar": [
           {
            "marker": {
             "line": {
              "color": "#E5ECF6",
              "width": 0.5
             },
             "pattern": {
              "fillmode": "overlay",
              "size": 10,
              "solidity": 0.2
             }
            },
            "type": "barpolar"
           }
          ],
          "carpet": [
           {
            "aaxis": {
             "endlinecolor": "#2a3f5f",
             "gridcolor": "white",
             "linecolor": "white",
             "minorgridcolor": "white",
             "startlinecolor": "#2a3f5f"
            },
            "baxis": {
             "endlinecolor": "#2a3f5f",
             "gridcolor": "white",
             "linecolor": "white",
             "minorgridcolor": "white",
             "startlinecolor": "#2a3f5f"
            },
            "type": "carpet"
           }
          ],
          "choropleth": [
           {
            "colorbar": {
             "outlinewidth": 0,
             "ticks": ""
            },
            "type": "choropleth"
           }
          ],
          "contour": [
           {
            "colorbar": {
             "outlinewidth": 0,
             "ticks": ""
            },
            "colorscale": [
             [
              0,
              "#0d0887"
             ],
             [
              0.1111111111111111,
              "#46039f"
             ],
             [
              0.2222222222222222,
              "#7201a8"
             ],
             [
              0.3333333333333333,
              "#9c179e"
             ],
             [
              0.4444444444444444,
              "#bd3786"
             ],
             [
              0.5555555555555556,
              "#d8576b"
             ],
             [
              0.6666666666666666,
              "#ed7953"
             ],
             [
              0.7777777777777778,
              "#fb9f3a"
             ],
             [
              0.8888888888888888,
              "#fdca26"
             ],
             [
              1,
              "#f0f921"
             ]
            ],
            "type": "contour"
           }
          ],
          "contourcarpet": [
           {
            "colorbar": {
             "outlinewidth": 0,
             "ticks": ""
            },
            "type": "contourcarpet"
           }
          ],
          "heatmap": [
           {
            "colorbar": {
             "outlinewidth": 0,
             "ticks": ""
            },
            "colorscale": [
             [
              0,
              "#0d0887"
             ],
             [
              0.1111111111111111,
              "#46039f"
             ],
             [
              0.2222222222222222,
              "#7201a8"
             ],
             [
              0.3333333333333333,
              "#9c179e"
             ],
             [
              0.4444444444444444,
              "#bd3786"
             ],
             [
              0.5555555555555556,
              "#d8576b"
             ],
             [
              0.6666666666666666,
              "#ed7953"
             ],
             [
              0.7777777777777778,
              "#fb9f3a"
             ],
             [
              0.8888888888888888,
              "#fdca26"
             ],
             [
              1,
              "#f0f921"
             ]
            ],
            "type": "heatmap"
           }
          ],
          "heatmapgl": [
           {
            "colorbar": {
             "outlinewidth": 0,
             "ticks": ""
            },
            "colorscale": [
             [
              0,
              "#0d0887"
             ],
             [
              0.1111111111111111,
              "#46039f"
             ],
             [
              0.2222222222222222,
              "#7201a8"
             ],
             [
              0.3333333333333333,
              "#9c179e"
             ],
             [
              0.4444444444444444,
              "#bd3786"
             ],
             [
              0.5555555555555556,
              "#d8576b"
             ],
             [
              0.6666666666666666,
              "#ed7953"
             ],
             [
              0.7777777777777778,
              "#fb9f3a"
             ],
             [
              0.8888888888888888,
              "#fdca26"
             ],
             [
              1,
              "#f0f921"
             ]
            ],
            "type": "heatmapgl"
           }
          ],
          "histogram": [
           {
            "marker": {
             "pattern": {
              "fillmode": "overlay",
              "size": 10,
              "solidity": 0.2
             }
            },
            "type": "histogram"
           }
          ],
          "histogram2d": [
           {
            "colorbar": {
             "outlinewidth": 0,
             "ticks": ""
            },
            "colorscale": [
             [
              0,
              "#0d0887"
             ],
             [
              0.1111111111111111,
              "#46039f"
             ],
             [
              0.2222222222222222,
              "#7201a8"
             ],
             [
              0.3333333333333333,
              "#9c179e"
             ],
             [
              0.4444444444444444,
              "#bd3786"
             ],
             [
              0.5555555555555556,
              "#d8576b"
             ],
             [
              0.6666666666666666,
              "#ed7953"
             ],
             [
              0.7777777777777778,
              "#fb9f3a"
             ],
             [
              0.8888888888888888,
              "#fdca26"
             ],
             [
              1,
              "#f0f921"
             ]
            ],
            "type": "histogram2d"
           }
          ],
          "histogram2dcontour": [
           {
            "colorbar": {
             "outlinewidth": 0,
             "ticks": ""
            },
            "colorscale": [
             [
              0,
              "#0d0887"
             ],
             [
              0.1111111111111111,
              "#46039f"
             ],
             [
              0.2222222222222222,
              "#7201a8"
             ],
             [
              0.3333333333333333,
              "#9c179e"
             ],
             [
              0.4444444444444444,
              "#bd3786"
             ],
             [
              0.5555555555555556,
              "#d8576b"
             ],
             [
              0.6666666666666666,
              "#ed7953"
             ],
             [
              0.7777777777777778,
              "#fb9f3a"
             ],
             [
              0.8888888888888888,
              "#fdca26"
             ],
             [
              1,
              "#f0f921"
             ]
            ],
            "type": "histogram2dcontour"
           }
          ],
          "mesh3d": [
           {
            "colorbar": {
             "outlinewidth": 0,
             "ticks": ""
            },
            "type": "mesh3d"
           }
          ],
          "parcoords": [
           {
            "line": {
             "colorbar": {
              "outlinewidth": 0,
              "ticks": ""
             }
            },
            "type": "parcoords"
           }
          ],
          "pie": [
           {
            "automargin": true,
            "type": "pie"
           }
          ],
          "scatter": [
           {
            "marker": {
             "colorbar": {
              "outlinewidth": 0,
              "ticks": ""
             }
            },
            "type": "scatter"
           }
          ],
          "scatter3d": [
           {
            "line": {
             "colorbar": {
              "outlinewidth": 0,
              "ticks": ""
             }
            },
            "marker": {
             "colorbar": {
              "outlinewidth": 0,
              "ticks": ""
             }
            },
            "type": "scatter3d"
           }
          ],
          "scattercarpet": [
           {
            "marker": {
             "colorbar": {
              "outlinewidth": 0,
              "ticks": ""
             }
            },
            "type": "scattercarpet"
           }
          ],
          "scattergeo": [
           {
            "marker": {
             "colorbar": {
              "outlinewidth": 0,
              "ticks": ""
             }
            },
            "type": "scattergeo"
           }
          ],
          "scattergl": [
           {
            "marker": {
             "colorbar": {
              "outlinewidth": 0,
              "ticks": ""
             }
            },
            "type": "scattergl"
           }
          ],
          "scattermapbox": [
           {
            "marker": {
             "colorbar": {
              "outlinewidth": 0,
              "ticks": ""
             }
            },
            "type": "scattermapbox"
           }
          ],
          "scatterpolar": [
           {
            "marker": {
             "colorbar": {
              "outlinewidth": 0,
              "ticks": ""
             }
            },
            "type": "scatterpolar"
           }
          ],
          "scatterpolargl": [
           {
            "marker": {
             "colorbar": {
              "outlinewidth": 0,
              "ticks": ""
             }
            },
            "type": "scatterpolargl"
           }
          ],
          "scatterternary": [
           {
            "marker": {
             "colorbar": {
              "outlinewidth": 0,
              "ticks": ""
             }
            },
            "type": "scatterternary"
           }
          ],
          "surface": [
           {
            "colorbar": {
             "outlinewidth": 0,
             "ticks": ""
            },
            "colorscale": [
             [
              0,
              "#0d0887"
             ],
             [
              0.1111111111111111,
              "#46039f"
             ],
             [
              0.2222222222222222,
              "#7201a8"
             ],
             [
              0.3333333333333333,
              "#9c179e"
             ],
             [
              0.4444444444444444,
              "#bd3786"
             ],
             [
              0.5555555555555556,
              "#d8576b"
             ],
             [
              0.6666666666666666,
              "#ed7953"
             ],
             [
              0.7777777777777778,
              "#fb9f3a"
             ],
             [
              0.8888888888888888,
              "#fdca26"
             ],
             [
              1,
              "#f0f921"
             ]
            ],
            "type": "surface"
           }
          ],
          "table": [
           {
            "cells": {
             "fill": {
              "color": "#EBF0F8"
             },
             "line": {
              "color": "white"
             }
            },
            "header": {
             "fill": {
              "color": "#C8D4E3"
             },
             "line": {
              "color": "white"
             }
            },
            "type": "table"
           }
          ]
         },
         "layout": {
          "annotationdefaults": {
           "arrowcolor": "#2a3f5f",
           "arrowhead": 0,
           "arrowwidth": 1
          },
          "autotypenumbers": "strict",
          "coloraxis": {
           "colorbar": {
            "outlinewidth": 0,
            "ticks": ""
           }
          },
          "colorscale": {
           "diverging": [
            [
             0,
             "#8e0152"
            ],
            [
             0.1,
             "#c51b7d"
            ],
            [
             0.2,
             "#de77ae"
            ],
            [
             0.3,
             "#f1b6da"
            ],
            [
             0.4,
             "#fde0ef"
            ],
            [
             0.5,
             "#f7f7f7"
            ],
            [
             0.6,
             "#e6f5d0"
            ],
            [
             0.7,
             "#b8e186"
            ],
            [
             0.8,
             "#7fbc41"
            ],
            [
             0.9,
             "#4d9221"
            ],
            [
             1,
             "#276419"
            ]
           ],
           "sequential": [
            [
             0,
             "#0d0887"
            ],
            [
             0.1111111111111111,
             "#46039f"
            ],
            [
             0.2222222222222222,
             "#7201a8"
            ],
            [
             0.3333333333333333,
             "#9c179e"
            ],
            [
             0.4444444444444444,
             "#bd3786"
            ],
            [
             0.5555555555555556,
             "#d8576b"
            ],
            [
             0.6666666666666666,
             "#ed7953"
            ],
            [
             0.7777777777777778,
             "#fb9f3a"
            ],
            [
             0.8888888888888888,
             "#fdca26"
            ],
            [
             1,
             "#f0f921"
            ]
           ],
           "sequentialminus": [
            [
             0,
             "#0d0887"
            ],
            [
             0.1111111111111111,
             "#46039f"
            ],
            [
             0.2222222222222222,
             "#7201a8"
            ],
            [
             0.3333333333333333,
             "#9c179e"
            ],
            [
             0.4444444444444444,
             "#bd3786"
            ],
            [
             0.5555555555555556,
             "#d8576b"
            ],
            [
             0.6666666666666666,
             "#ed7953"
            ],
            [
             0.7777777777777778,
             "#fb9f3a"
            ],
            [
             0.8888888888888888,
             "#fdca26"
            ],
            [
             1,
             "#f0f921"
            ]
           ]
          },
          "colorway": [
           "#636efa",
           "#EF553B",
           "#00cc96",
           "#ab63fa",
           "#FFA15A",
           "#19d3f3",
           "#FF6692",
           "#B6E880",
           "#FF97FF",
           "#FECB52"
          ],
          "font": {
           "color": "#2a3f5f"
          },
          "geo": {
           "bgcolor": "white",
           "lakecolor": "white",
           "landcolor": "#E5ECF6",
           "showlakes": true,
           "showland": true,
           "subunitcolor": "white"
          },
          "hoverlabel": {
           "align": "left"
          },
          "hovermode": "closest",
          "mapbox": {
           "style": "light"
          },
          "paper_bgcolor": "white",
          "plot_bgcolor": "#E5ECF6",
          "polar": {
           "angularaxis": {
            "gridcolor": "white",
            "linecolor": "white",
            "ticks": ""
           },
           "bgcolor": "#E5ECF6",
           "radialaxis": {
            "gridcolor": "white",
            "linecolor": "white",
            "ticks": ""
           }
          },
          "scene": {
           "xaxis": {
            "backgroundcolor": "#E5ECF6",
            "gridcolor": "white",
            "gridwidth": 2,
            "linecolor": "white",
            "showbackground": true,
            "ticks": "",
            "zerolinecolor": "white"
           },
           "yaxis": {
            "backgroundcolor": "#E5ECF6",
            "gridcolor": "white",
            "gridwidth": 2,
            "linecolor": "white",
            "showbackground": true,
            "ticks": "",
            "zerolinecolor": "white"
           },
           "zaxis": {
            "backgroundcolor": "#E5ECF6",
            "gridcolor": "white",
            "gridwidth": 2,
            "linecolor": "white",
            "showbackground": true,
            "ticks": "",
            "zerolinecolor": "white"
           }
          },
          "shapedefaults": {
           "line": {
            "color": "#2a3f5f"
           }
          },
          "ternary": {
           "aaxis": {
            "gridcolor": "white",
            "linecolor": "white",
            "ticks": ""
           },
           "baxis": {
            "gridcolor": "white",
            "linecolor": "white",
            "ticks": ""
           },
           "bgcolor": "#E5ECF6",
           "caxis": {
            "gridcolor": "white",
            "linecolor": "white",
            "ticks": ""
           }
          },
          "title": {
           "x": 0.05
          },
          "xaxis": {
           "automargin": true,
           "gridcolor": "white",
           "linecolor": "white",
           "ticks": "",
           "title": {
            "standoff": 15
           },
           "zerolinecolor": "white",
           "zerolinewidth": 2
          },
          "yaxis": {
           "automargin": true,
           "gridcolor": "white",
           "linecolor": "white",
           "ticks": "",
           "title": {
            "standoff": 15
           },
           "zerolinecolor": "white",
           "zerolinewidth": 2
          }
         }
        },
        "title": {
         "text": "Coffee: Category One Defects"
        },
        "xaxis": {
         "anchor": "y",
         "domain": [
          0,
          1
         ],
         "title": {
          "text": "Category One Defects"
         }
        },
        "yaxis": {
         "anchor": "x",
         "domain": [
          0,
          1
         ],
         "title": {
          "text": "count"
         }
        }
       }
      }
     },
     "metadata": {},
     "output_type": "display_data"
    },
    {
     "data": {
      "application/vnd.plotly.v1+json": {
       "config": {
        "plotlyServerURL": "https://plot.ly"
       },
       "data": [
        {
         "alignmentgroup": "True",
         "bingroup": "x",
         "hovertemplate": "Quakers=%{x}<br>count=%{y}<extra></extra>",
         "legendgroup": "",
         "marker": {
          "color": "#636efa",
          "pattern": {
           "shape": ""
          }
         },
         "name": "",
         "offsetgroup": "",
         "orientation": "v",
         "showlegend": false,
         "type": "histogram",
         "x": [
          0,
          0,
          0,
          0,
          0,
          0,
          0,
          0,
          0,
          0,
          0,
          0,
          0,
          0,
          0,
          0,
          0,
          0,
          0,
          0,
          0,
          0,
          0,
          0,
          0,
          0,
          0,
          0,
          0,
          1,
          0,
          0,
          0,
          0,
          0,
          0,
          0,
          0,
          0,
          0,
          0,
          0,
          0,
          0,
          0,
          0,
          0,
          0,
          0,
          0,
          0,
          0,
          0,
          0,
          0,
          1,
          0,
          0,
          0,
          0,
          0,
          0,
          0,
          0,
          0,
          0,
          0,
          0,
          0,
          0,
          0,
          0,
          0,
          0,
          0,
          0,
          0,
          0,
          0,
          0,
          0,
          0,
          0,
          0,
          0,
          0,
          0,
          0,
          0,
          0,
          0,
          0,
          0,
          0,
          0,
          0,
          0,
          0,
          0,
          0,
          0,
          0,
          0,
          0,
          0,
          1,
          0,
          0,
          0,
          0,
          0,
          4,
          0,
          0,
          0,
          0,
          0,
          0,
          0,
          0,
          0,
          0,
          0,
          0,
          0,
          0,
          1,
          0,
          0,
          0,
          0,
          0,
          0,
          0,
          0,
          0,
          0,
          3,
          0,
          0,
          0,
          0,
          11,
          0,
          0,
          0,
          0,
          0,
          0,
          0,
          0,
          0,
          0,
          0,
          2,
          0,
          0,
          0,
          0,
          0,
          0,
          0,
          0,
          7,
          0,
          0,
          0,
          0,
          0,
          0,
          0,
          0,
          0,
          0,
          0,
          0,
          0,
          0,
          0,
          1,
          0,
          0,
          0,
          0,
          0,
          0,
          0,
          0,
          0,
          0,
          2,
          0,
          0,
          0,
          0,
          0,
          0,
          0,
          0,
          0,
          0,
          0,
          0,
          0,
          1,
          1,
          0,
          0,
          0,
          0,
          0,
          0,
          0,
          0,
          0,
          0,
          0,
          0,
          2,
          0,
          0,
          0,
          0,
          0,
          0,
          0,
          0,
          0,
          0,
          0,
          0,
          2,
          0,
          0,
          0,
          0,
          0,
          0,
          0,
          0,
          0,
          0,
          0,
          0,
          1,
          0,
          0,
          0,
          0,
          0,
          0,
          0,
          0,
          0,
          0,
          0,
          0,
          0,
          2,
          0,
          0,
          0,
          0,
          0,
          0,
          0,
          0,
          0,
          0,
          0,
          0,
          0,
          0,
          2,
          1,
          0,
          0,
          0,
          0,
          0,
          0,
          0,
          0,
          0,
          0,
          0,
          0,
          0,
          0,
          0,
          0,
          0,
          0,
          0,
          0,
          0,
          0,
          0,
          1,
          2,
          0,
          0,
          0,
          0,
          0,
          0,
          0,
          3,
          2,
          0,
          5,
          0,
          0,
          0,
          0,
          0,
          0,
          0,
          0,
          0,
          0,
          0,
          0,
          0,
          0,
          0,
          0,
          0,
          0,
          0,
          0,
          0,
          0,
          0,
          0,
          0,
          0,
          0,
          0,
          0,
          0,
          0,
          0,
          0,
          0,
          0,
          0,
          0,
          0,
          0,
          0,
          1,
          2,
          0,
          0,
          0,
          0,
          0,
          0,
          0,
          0,
          0,
          0,
          0,
          0,
          0,
          0,
          0,
          1,
          0,
          0,
          0,
          0,
          0,
          0,
          0,
          0,
          0,
          1,
          2,
          0,
          0,
          0,
          0,
          0,
          0,
          0,
          0,
          0,
          0,
          0,
          0,
          0,
          2,
          0,
          0,
          0,
          0,
          0,
          0,
          0,
          0,
          0,
          0,
          0,
          0,
          0,
          1,
          5,
          0,
          0,
          0,
          0,
          0,
          0,
          0,
          0,
          0,
          0,
          0,
          0,
          0,
          0,
          2,
          0,
          0,
          0,
          0,
          0,
          0,
          0,
          0,
          0,
          0,
          0,
          0,
          1,
          1,
          0,
          0,
          0,
          0,
          0,
          0,
          0,
          0,
          0,
          0,
          0,
          0,
          0,
          0,
          0,
          0,
          0,
          0,
          0,
          0,
          1,
          3,
          2,
          1,
          2,
          6,
          0,
          0,
          0,
          0,
          0,
          0,
          0,
          0,
          0,
          0,
          0,
          0,
          0,
          0,
          0,
          0,
          0,
          0,
          6,
          2,
          0,
          0,
          0,
          0,
          0,
          0,
          0,
          0,
          0,
          0,
          0,
          0,
          0,
          0,
          1,
          1,
          0,
          0,
          0,
          0,
          0,
          0,
          0,
          0,
          0,
          0,
          0,
          0,
          0,
          0,
          1,
          0,
          0,
          0,
          0,
          0,
          0,
          0,
          0,
          0,
          0,
          0,
          1,
          2,
          0,
          0,
          0,
          0,
          0,
          0,
          0,
          0,
          0,
          0,
          0,
          0,
          0,
          0,
          0,
          0,
          2,
          0,
          0,
          0,
          0,
          0,
          0,
          0,
          0,
          0,
          0,
          0,
          0,
          0,
          0,
          1,
          1,
          0,
          0,
          0,
          0,
          0,
          0,
          0,
          0,
          0,
          0,
          0,
          0,
          0,
          0,
          0,
          0,
          0,
          1,
          0,
          0,
          0,
          0,
          0,
          0,
          0,
          0,
          0,
          1,
          0,
          0,
          0,
          0,
          0,
          0,
          0,
          0,
          0,
          0,
          0,
          0,
          0,
          0,
          0,
          0,
          1,
          0,
          0,
          0,
          0,
          0,
          0,
          0,
          0,
          0,
          0,
          0,
          0,
          0,
          0,
          0,
          0,
          0,
          0,
          0,
          0,
          0,
          0,
          0,
          0,
          0,
          0,
          0,
          0,
          0,
          0,
          0,
          5,
          0,
          0,
          0,
          0,
          0,
          0,
          0,
          0,
          0,
          0,
          0,
          0,
          2,
          0,
          0,
          0,
          0,
          0,
          0,
          0,
          0,
          0,
          0,
          0,
          0,
          0,
          0,
          0,
          0,
          0,
          0,
          0,
          0,
          0,
          0,
          0,
          0,
          0,
          0,
          0,
          0,
          0,
          0,
          0,
          0,
          0,
          0,
          0,
          0,
          0,
          0,
          0,
          0,
          0,
          2,
          0,
          0,
          0,
          0,
          0,
          0,
          0,
          0,
          0,
          0,
          0,
          0,
          0,
          0,
          0,
          0,
          0,
          0,
          0,
          0,
          0,
          0,
          0,
          0,
          0,
          0,
          0,
          0,
          0,
          0,
          0,
          0,
          0,
          0,
          0,
          0,
          0,
          0,
          0,
          0,
          0,
          0,
          0,
          0,
          0,
          0,
          0,
          0,
          0,
          0,
          0,
          0,
          0,
          0,
          0,
          0,
          0,
          0,
          0,
          0,
          0,
          0,
          0,
          0,
          0,
          0,
          0,
          0,
          1,
          0,
          0,
          0,
          0,
          0,
          0,
          0,
          0,
          0,
          0,
          0,
          0,
          0,
          0,
          0,
          0,
          0,
          0,
          0,
          0,
          0,
          0,
          0,
          0,
          0,
          0,
          0,
          0,
          0,
          0,
          0,
          0,
          0,
          0,
          0,
          1,
          0,
          0,
          0,
          4,
          0,
          0,
          0,
          0,
          0,
          0,
          0,
          0,
          0,
          0,
          2,
          0,
          0,
          0,
          0,
          0,
          0,
          0,
          0,
          0,
          0,
          0,
          0,
          0,
          0,
          0,
          0,
          0,
          0,
          0,
          0,
          0,
          0,
          0,
          8,
          0,
          0,
          0,
          0,
          0,
          0,
          0,
          0,
          0,
          0,
          0,
          0,
          0,
          0,
          0,
          0,
          2,
          0,
          0,
          0,
          0,
          0,
          0,
          0,
          0,
          0,
          0,
          0,
          0,
          0,
          0,
          0,
          0,
          0,
          0,
          0,
          0,
          0,
          0,
          0,
          0,
          0,
          0,
          0,
          0,
          0,
          0,
          0,
          0,
          0,
          0,
          0,
          0,
          0,
          0,
          0,
          0,
          0,
          0,
          0,
          0,
          0,
          0,
          0,
          0,
          0,
          0,
          0,
          0,
          0,
          0,
          0,
          0,
          0,
          0,
          0,
          0,
          0,
          0,
          0,
          0,
          0,
          0,
          0,
          0,
          0,
          0
         ],
         "xaxis": "x",
         "yaxis": "y"
        }
       ],
       "layout": {
        "barmode": "relative",
        "legend": {
         "tracegroupgap": 0
        },
        "template": {
         "data": {
          "bar": [
           {
            "error_x": {
             "color": "#2a3f5f"
            },
            "error_y": {
             "color": "#2a3f5f"
            },
            "marker": {
             "line": {
              "color": "#E5ECF6",
              "width": 0.5
             },
             "pattern": {
              "fillmode": "overlay",
              "size": 10,
              "solidity": 0.2
             }
            },
            "type": "bar"
           }
          ],
          "barpolar": [
           {
            "marker": {
             "line": {
              "color": "#E5ECF6",
              "width": 0.5
             },
             "pattern": {
              "fillmode": "overlay",
              "size": 10,
              "solidity": 0.2
             }
            },
            "type": "barpolar"
           }
          ],
          "carpet": [
           {
            "aaxis": {
             "endlinecolor": "#2a3f5f",
             "gridcolor": "white",
             "linecolor": "white",
             "minorgridcolor": "white",
             "startlinecolor": "#2a3f5f"
            },
            "baxis": {
             "endlinecolor": "#2a3f5f",
             "gridcolor": "white",
             "linecolor": "white",
             "minorgridcolor": "white",
             "startlinecolor": "#2a3f5f"
            },
            "type": "carpet"
           }
          ],
          "choropleth": [
           {
            "colorbar": {
             "outlinewidth": 0,
             "ticks": ""
            },
            "type": "choropleth"
           }
          ],
          "contour": [
           {
            "colorbar": {
             "outlinewidth": 0,
             "ticks": ""
            },
            "colorscale": [
             [
              0,
              "#0d0887"
             ],
             [
              0.1111111111111111,
              "#46039f"
             ],
             [
              0.2222222222222222,
              "#7201a8"
             ],
             [
              0.3333333333333333,
              "#9c179e"
             ],
             [
              0.4444444444444444,
              "#bd3786"
             ],
             [
              0.5555555555555556,
              "#d8576b"
             ],
             [
              0.6666666666666666,
              "#ed7953"
             ],
             [
              0.7777777777777778,
              "#fb9f3a"
             ],
             [
              0.8888888888888888,
              "#fdca26"
             ],
             [
              1,
              "#f0f921"
             ]
            ],
            "type": "contour"
           }
          ],
          "contourcarpet": [
           {
            "colorbar": {
             "outlinewidth": 0,
             "ticks": ""
            },
            "type": "contourcarpet"
           }
          ],
          "heatmap": [
           {
            "colorbar": {
             "outlinewidth": 0,
             "ticks": ""
            },
            "colorscale": [
             [
              0,
              "#0d0887"
             ],
             [
              0.1111111111111111,
              "#46039f"
             ],
             [
              0.2222222222222222,
              "#7201a8"
             ],
             [
              0.3333333333333333,
              "#9c179e"
             ],
             [
              0.4444444444444444,
              "#bd3786"
             ],
             [
              0.5555555555555556,
              "#d8576b"
             ],
             [
              0.6666666666666666,
              "#ed7953"
             ],
             [
              0.7777777777777778,
              "#fb9f3a"
             ],
             [
              0.8888888888888888,
              "#fdca26"
             ],
             [
              1,
              "#f0f921"
             ]
            ],
            "type": "heatmap"
           }
          ],
          "heatmapgl": [
           {
            "colorbar": {
             "outlinewidth": 0,
             "ticks": ""
            },
            "colorscale": [
             [
              0,
              "#0d0887"
             ],
             [
              0.1111111111111111,
              "#46039f"
             ],
             [
              0.2222222222222222,
              "#7201a8"
             ],
             [
              0.3333333333333333,
              "#9c179e"
             ],
             [
              0.4444444444444444,
              "#bd3786"
             ],
             [
              0.5555555555555556,
              "#d8576b"
             ],
             [
              0.6666666666666666,
              "#ed7953"
             ],
             [
              0.7777777777777778,
              "#fb9f3a"
             ],
             [
              0.8888888888888888,
              "#fdca26"
             ],
             [
              1,
              "#f0f921"
             ]
            ],
            "type": "heatmapgl"
           }
          ],
          "histogram": [
           {
            "marker": {
             "pattern": {
              "fillmode": "overlay",
              "size": 10,
              "solidity": 0.2
             }
            },
            "type": "histogram"
           }
          ],
          "histogram2d": [
           {
            "colorbar": {
             "outlinewidth": 0,
             "ticks": ""
            },
            "colorscale": [
             [
              0,
              "#0d0887"
             ],
             [
              0.1111111111111111,
              "#46039f"
             ],
             [
              0.2222222222222222,
              "#7201a8"
             ],
             [
              0.3333333333333333,
              "#9c179e"
             ],
             [
              0.4444444444444444,
              "#bd3786"
             ],
             [
              0.5555555555555556,
              "#d8576b"
             ],
             [
              0.6666666666666666,
              "#ed7953"
             ],
             [
              0.7777777777777778,
              "#fb9f3a"
             ],
             [
              0.8888888888888888,
              "#fdca26"
             ],
             [
              1,
              "#f0f921"
             ]
            ],
            "type": "histogram2d"
           }
          ],
          "histogram2dcontour": [
           {
            "colorbar": {
             "outlinewidth": 0,
             "ticks": ""
            },
            "colorscale": [
             [
              0,
              "#0d0887"
             ],
             [
              0.1111111111111111,
              "#46039f"
             ],
             [
              0.2222222222222222,
              "#7201a8"
             ],
             [
              0.3333333333333333,
              "#9c179e"
             ],
             [
              0.4444444444444444,
              "#bd3786"
             ],
             [
              0.5555555555555556,
              "#d8576b"
             ],
             [
              0.6666666666666666,
              "#ed7953"
             ],
             [
              0.7777777777777778,
              "#fb9f3a"
             ],
             [
              0.8888888888888888,
              "#fdca26"
             ],
             [
              1,
              "#f0f921"
             ]
            ],
            "type": "histogram2dcontour"
           }
          ],
          "mesh3d": [
           {
            "colorbar": {
             "outlinewidth": 0,
             "ticks": ""
            },
            "type": "mesh3d"
           }
          ],
          "parcoords": [
           {
            "line": {
             "colorbar": {
              "outlinewidth": 0,
              "ticks": ""
             }
            },
            "type": "parcoords"
           }
          ],
          "pie": [
           {
            "automargin": true,
            "type": "pie"
           }
          ],
          "scatter": [
           {
            "marker": {
             "colorbar": {
              "outlinewidth": 0,
              "ticks": ""
             }
            },
            "type": "scatter"
           }
          ],
          "scatter3d": [
           {
            "line": {
             "colorbar": {
              "outlinewidth": 0,
              "ticks": ""
             }
            },
            "marker": {
             "colorbar": {
              "outlinewidth": 0,
              "ticks": ""
             }
            },
            "type": "scatter3d"
           }
          ],
          "scattercarpet": [
           {
            "marker": {
             "colorbar": {
              "outlinewidth": 0,
              "ticks": ""
             }
            },
            "type": "scattercarpet"
           }
          ],
          "scattergeo": [
           {
            "marker": {
             "colorbar": {
              "outlinewidth": 0,
              "ticks": ""
             }
            },
            "type": "scattergeo"
           }
          ],
          "scattergl": [
           {
            "marker": {
             "colorbar": {
              "outlinewidth": 0,
              "ticks": ""
             }
            },
            "type": "scattergl"
           }
          ],
          "scattermapbox": [
           {
            "marker": {
             "colorbar": {
              "outlinewidth": 0,
              "ticks": ""
             }
            },
            "type": "scattermapbox"
           }
          ],
          "scatterpolar": [
           {
            "marker": {
             "colorbar": {
              "outlinewidth": 0,
              "ticks": ""
             }
            },
            "type": "scatterpolar"
           }
          ],
          "scatterpolargl": [
           {
            "marker": {
             "colorbar": {
              "outlinewidth": 0,
              "ticks": ""
             }
            },
            "type": "scatterpolargl"
           }
          ],
          "scatterternary": [
           {
            "marker": {
             "colorbar": {
              "outlinewidth": 0,
              "ticks": ""
             }
            },
            "type": "scatterternary"
           }
          ],
          "surface": [
           {
            "colorbar": {
             "outlinewidth": 0,
             "ticks": ""
            },
            "colorscale": [
             [
              0,
              "#0d0887"
             ],
             [
              0.1111111111111111,
              "#46039f"
             ],
             [
              0.2222222222222222,
              "#7201a8"
             ],
             [
              0.3333333333333333,
              "#9c179e"
             ],
             [
              0.4444444444444444,
              "#bd3786"
             ],
             [
              0.5555555555555556,
              "#d8576b"
             ],
             [
              0.6666666666666666,
              "#ed7953"
             ],
             [
              0.7777777777777778,
              "#fb9f3a"
             ],
             [
              0.8888888888888888,
              "#fdca26"
             ],
             [
              1,
              "#f0f921"
             ]
            ],
            "type": "surface"
           }
          ],
          "table": [
           {
            "cells": {
             "fill": {
              "color": "#EBF0F8"
             },
             "line": {
              "color": "white"
             }
            },
            "header": {
             "fill": {
              "color": "#C8D4E3"
             },
             "line": {
              "color": "white"
             }
            },
            "type": "table"
           }
          ]
         },
         "layout": {
          "annotationdefaults": {
           "arrowcolor": "#2a3f5f",
           "arrowhead": 0,
           "arrowwidth": 1
          },
          "autotypenumbers": "strict",
          "coloraxis": {
           "colorbar": {
            "outlinewidth": 0,
            "ticks": ""
           }
          },
          "colorscale": {
           "diverging": [
            [
             0,
             "#8e0152"
            ],
            [
             0.1,
             "#c51b7d"
            ],
            [
             0.2,
             "#de77ae"
            ],
            [
             0.3,
             "#f1b6da"
            ],
            [
             0.4,
             "#fde0ef"
            ],
            [
             0.5,
             "#f7f7f7"
            ],
            [
             0.6,
             "#e6f5d0"
            ],
            [
             0.7,
             "#b8e186"
            ],
            [
             0.8,
             "#7fbc41"
            ],
            [
             0.9,
             "#4d9221"
            ],
            [
             1,
             "#276419"
            ]
           ],
           "sequential": [
            [
             0,
             "#0d0887"
            ],
            [
             0.1111111111111111,
             "#46039f"
            ],
            [
             0.2222222222222222,
             "#7201a8"
            ],
            [
             0.3333333333333333,
             "#9c179e"
            ],
            [
             0.4444444444444444,
             "#bd3786"
            ],
            [
             0.5555555555555556,
             "#d8576b"
            ],
            [
             0.6666666666666666,
             "#ed7953"
            ],
            [
             0.7777777777777778,
             "#fb9f3a"
            ],
            [
             0.8888888888888888,
             "#fdca26"
            ],
            [
             1,
             "#f0f921"
            ]
           ],
           "sequentialminus": [
            [
             0,
             "#0d0887"
            ],
            [
             0.1111111111111111,
             "#46039f"
            ],
            [
             0.2222222222222222,
             "#7201a8"
            ],
            [
             0.3333333333333333,
             "#9c179e"
            ],
            [
             0.4444444444444444,
             "#bd3786"
            ],
            [
             0.5555555555555556,
             "#d8576b"
            ],
            [
             0.6666666666666666,
             "#ed7953"
            ],
            [
             0.7777777777777778,
             "#fb9f3a"
            ],
            [
             0.8888888888888888,
             "#fdca26"
            ],
            [
             1,
             "#f0f921"
            ]
           ]
          },
          "colorway": [
           "#636efa",
           "#EF553B",
           "#00cc96",
           "#ab63fa",
           "#FFA15A",
           "#19d3f3",
           "#FF6692",
           "#B6E880",
           "#FF97FF",
           "#FECB52"
          ],
          "font": {
           "color": "#2a3f5f"
          },
          "geo": {
           "bgcolor": "white",
           "lakecolor": "white",
           "landcolor": "#E5ECF6",
           "showlakes": true,
           "showland": true,
           "subunitcolor": "white"
          },
          "hoverlabel": {
           "align": "left"
          },
          "hovermode": "closest",
          "mapbox": {
           "style": "light"
          },
          "paper_bgcolor": "white",
          "plot_bgcolor": "#E5ECF6",
          "polar": {
           "angularaxis": {
            "gridcolor": "white",
            "linecolor": "white",
            "ticks": ""
           },
           "bgcolor": "#E5ECF6",
           "radialaxis": {
            "gridcolor": "white",
            "linecolor": "white",
            "ticks": ""
           }
          },
          "scene": {
           "xaxis": {
            "backgroundcolor": "#E5ECF6",
            "gridcolor": "white",
            "gridwidth": 2,
            "linecolor": "white",
            "showbackground": true,
            "ticks": "",
            "zerolinecolor": "white"
           },
           "yaxis": {
            "backgroundcolor": "#E5ECF6",
            "gridcolor": "white",
            "gridwidth": 2,
            "linecolor": "white",
            "showbackground": true,
            "ticks": "",
            "zerolinecolor": "white"
           },
           "zaxis": {
            "backgroundcolor": "#E5ECF6",
            "gridcolor": "white",
            "gridwidth": 2,
            "linecolor": "white",
            "showbackground": true,
            "ticks": "",
            "zerolinecolor": "white"
           }
          },
          "shapedefaults": {
           "line": {
            "color": "#2a3f5f"
           }
          },
          "ternary": {
           "aaxis": {
            "gridcolor": "white",
            "linecolor": "white",
            "ticks": ""
           },
           "baxis": {
            "gridcolor": "white",
            "linecolor": "white",
            "ticks": ""
           },
           "bgcolor": "#E5ECF6",
           "caxis": {
            "gridcolor": "white",
            "linecolor": "white",
            "ticks": ""
           }
          },
          "title": {
           "x": 0.05
          },
          "xaxis": {
           "automargin": true,
           "gridcolor": "white",
           "linecolor": "white",
           "ticks": "",
           "title": {
            "standoff": 15
           },
           "zerolinecolor": "white",
           "zerolinewidth": 2
          },
          "yaxis": {
           "automargin": true,
           "gridcolor": "white",
           "linecolor": "white",
           "ticks": "",
           "title": {
            "standoff": 15
           },
           "zerolinecolor": "white",
           "zerolinewidth": 2
          }
         }
        },
        "title": {
         "text": "Coffee: Quakers"
        },
        "xaxis": {
         "anchor": "y",
         "domain": [
          0,
          1
         ],
         "title": {
          "text": "Quakers"
         }
        },
        "yaxis": {
         "anchor": "x",
         "domain": [
          0,
          1
         ],
         "title": {
          "text": "count"
         }
        }
       }
      }
     },
     "metadata": {},
     "output_type": "display_data"
    },
    {
     "data": {
      "application/vnd.plotly.v1+json": {
       "config": {
        "plotlyServerURL": "https://plot.ly"
       },
       "data": [
        {
         "alignmentgroup": "True",
         "bingroup": "x",
         "hovertemplate": "Category Two Defects=%{x}<br>count=%{y}<extra></extra>",
         "legendgroup": "",
         "marker": {
          "color": "#636efa",
          "pattern": {
           "shape": ""
          }
         },
         "name": "",
         "offsetgroup": "",
         "orientation": "v",
         "showlegend": false,
         "type": "histogram",
         "x": [
          0,
          1,
          2,
          2,
          4,
          1,
          0,
          0,
          0,
          0,
          8,
          0,
          2,
          0,
          0,
          2,
          1,
          0,
          2,
          0,
          3,
          1,
          0,
          9,
          0,
          2,
          2,
          0,
          0,
          0,
          4,
          3,
          1,
          1,
          3,
          0,
          2,
          7,
          1,
          1,
          18,
          5,
          1,
          0,
          1,
          0,
          2,
          2,
          6,
          0,
          7,
          0,
          7,
          8,
          1,
          1,
          3,
          3,
          1,
          0,
          2,
          3,
          0,
          2,
          2,
          0,
          1,
          0,
          4,
          2,
          7,
          0,
          2,
          1,
          0,
          3,
          1,
          4,
          0,
          0,
          4,
          4,
          3,
          5,
          2,
          1,
          0,
          5,
          6,
          2,
          1,
          2,
          1,
          1,
          0,
          2,
          2,
          0,
          4,
          3,
          3,
          3,
          0,
          4,
          4,
          2,
          0,
          1,
          0,
          0,
          2,
          4,
          1,
          1,
          3,
          2,
          0,
          7,
          2,
          1,
          1,
          0,
          4,
          1,
          2,
          6,
          10,
          2,
          0,
          0,
          16,
          0,
          5,
          0,
          3,
          4,
          2,
          3,
          4,
          2,
          10,
          10,
          1,
          5,
          7,
          1,
          0,
          3,
          0,
          2,
          0,
          3,
          5,
          1,
          7,
          3,
          1,
          0,
          32,
          2,
          2,
          6,
          0,
          6,
          0,
          1,
          4,
          1,
          3,
          1,
          0,
          3,
          2,
          4,
          3,
          2,
          5,
          1,
          0,
          2,
          0,
          0,
          1,
          5,
          5,
          1,
          2,
          0,
          2,
          3,
          3,
          0,
          0,
          4,
          0,
          1,
          3,
          2,
          1,
          13,
          11,
          0,
          0,
          5,
          0,
          4,
          3,
          13,
          7,
          5,
          0,
          3,
          2,
          4,
          2,
          5,
          0,
          0,
          5,
          4,
          21,
          8,
          18,
          0,
          3,
          14,
          12,
          0,
          5,
          0,
          12,
          1,
          3,
          2,
          4,
          1,
          0,
          0,
          0,
          4,
          1,
          2,
          0,
          2,
          0,
          5,
          2,
          1,
          6,
          0,
          3,
          3,
          4,
          1,
          3,
          1,
          0,
          0,
          7,
          2,
          2,
          0,
          0,
          1,
          6,
          0,
          9,
          1,
          0,
          4,
          1,
          3,
          0,
          3,
          1,
          0,
          3,
          0,
          1,
          3,
          0,
          6,
          4,
          0,
          5,
          3,
          1,
          2,
          2,
          8,
          10,
          2,
          5,
          5,
          1,
          4,
          10,
          3,
          4,
          2,
          3,
          0,
          1,
          3,
          0,
          1,
          4,
          5,
          3,
          6,
          8,
          0,
          3,
          2,
          2,
          0,
          0,
          0,
          0,
          0,
          3,
          4,
          1,
          1,
          2,
          2,
          20,
          7,
          8,
          4,
          2,
          0,
          0,
          1,
          0,
          20,
          9,
          1,
          0,
          3,
          8,
          16,
          0,
          4,
          1,
          2,
          2,
          4,
          17,
          4,
          3,
          2,
          2,
          4,
          0,
          0,
          2,
          6,
          1,
          9,
          4,
          4,
          3,
          5,
          10,
          7,
          10,
          2,
          3,
          8,
          4,
          1,
          1,
          15,
          0,
          0,
          4,
          1,
          6,
          1,
          0,
          2,
          2,
          0,
          2,
          2,
          6,
          0,
          4,
          0,
          3,
          4,
          4,
          3,
          0,
          7,
          0,
          0,
          4,
          0,
          0,
          0,
          0,
          0,
          0,
          2,
          0,
          2,
          0,
          6,
          0,
          1,
          1,
          0,
          3,
          3,
          3,
          6,
          0,
          2,
          4,
          5,
          4,
          2,
          0,
          0,
          1,
          1,
          0,
          4,
          0,
          10,
          5,
          2,
          4,
          3,
          6,
          2,
          0,
          0,
          0,
          7,
          0,
          0,
          0,
          1,
          0,
          0,
          5,
          2,
          9,
          1,
          0,
          6,
          0,
          4,
          0,
          2,
          8,
          11,
          3,
          3,
          0,
          2,
          0,
          6,
          0,
          0,
          3,
          2,
          0,
          0,
          1,
          3,
          3,
          8,
          9,
          5,
          2,
          0,
          2,
          0,
          10,
          2,
          9,
          0,
          2,
          0,
          0,
          0,
          4,
          8,
          2,
          3,
          13,
          0,
          3,
          0,
          5,
          2,
          6,
          1,
          0,
          2,
          1,
          0,
          1,
          0,
          0,
          9,
          2,
          4,
          1,
          3,
          3,
          1,
          0,
          5,
          3,
          2,
          7,
          13,
          11,
          2,
          1,
          1,
          7,
          3,
          20,
          0,
          3,
          1,
          0,
          0,
          4,
          5,
          0,
          0,
          1,
          1,
          1,
          2,
          10,
          1,
          0,
          1,
          4,
          2,
          7,
          4,
          0,
          6,
          7,
          8,
          4,
          0,
          3,
          1,
          4,
          3,
          0,
          6,
          1,
          0,
          2,
          7,
          1,
          0,
          0,
          0,
          0,
          4,
          0,
          0,
          0,
          1,
          2,
          10,
          1,
          0,
          4,
          9,
          23,
          1,
          14,
          1,
          5,
          1,
          3,
          2,
          0,
          0,
          7,
          2,
          5,
          3,
          0,
          0,
          6,
          4,
          13,
          4,
          2,
          2,
          4,
          3,
          0,
          0,
          1,
          5,
          0,
          0,
          3,
          1,
          9,
          0,
          2,
          0,
          3,
          5,
          2,
          4,
          2,
          0,
          0,
          0,
          1,
          0,
          0,
          2,
          5,
          10,
          6,
          5,
          3,
          0,
          2,
          17,
          0,
          2,
          1,
          0,
          0,
          0,
          6,
          1,
          4,
          8,
          1,
          0,
          3,
          14,
          4,
          6,
          3,
          1,
          3,
          13,
          4,
          0,
          0,
          1,
          4,
          1,
          2,
          5,
          0,
          4,
          1,
          7,
          2,
          10,
          0,
          1,
          0,
          4,
          2,
          12,
          3,
          7,
          4,
          1,
          8,
          1,
          0,
          2,
          0,
          0,
          16,
          2,
          5,
          1,
          6,
          8,
          1,
          0,
          1,
          5,
          3,
          0,
          3,
          12,
          8,
          0,
          2,
          3,
          11,
          5,
          0,
          8,
          0,
          0,
          5,
          0,
          0,
          0,
          12,
          0,
          1,
          7,
          3,
          1,
          2,
          1,
          5,
          2,
          4,
          2,
          1,
          0,
          2,
          0,
          1,
          0,
          4,
          1,
          4,
          5,
          1,
          3,
          5,
          5,
          0,
          4,
          5,
          3,
          2,
          3,
          10,
          1,
          1,
          0,
          1,
          14,
          0,
          4,
          16,
          5,
          0,
          4,
          21,
          1,
          4,
          2,
          26,
          1,
          2,
          0,
          12,
          8,
          2,
          2,
          0,
          2,
          2,
          2,
          12,
          5,
          0,
          0,
          0,
          0,
          0,
          17,
          5,
          4,
          2,
          0,
          0,
          9,
          12,
          4,
          7,
          0,
          3,
          6,
          0,
          5,
          2,
          0,
          3,
          1,
          0,
          0,
          0,
          4,
          4,
          4,
          5,
          0,
          22,
          7,
          1,
          12,
          0,
          6,
          6,
          6,
          9,
          11,
          5,
          6,
          1,
          20,
          5,
          2,
          4,
          30,
          2,
          3,
          23,
          19,
          0,
          10,
          0,
          5,
          6,
          6,
          8,
          34,
          1,
          0,
          2,
          45,
          0,
          3,
          12,
          4,
          12,
          17,
          38,
          8,
          0,
          4,
          8,
          0,
          0,
          0,
          5,
          2,
          3,
          0,
          1,
          1,
          0,
          14,
          3,
          0,
          2,
          4,
          47,
          1,
          3,
          4,
          6,
          2,
          28,
          9,
          7,
          4,
          3,
          2,
          0,
          3,
          15,
          3,
          2,
          5,
          1,
          11,
          9,
          14,
          8,
          4,
          26,
          12,
          7,
          2,
          15,
          20,
          20,
          8,
          29,
          7,
          6,
          30,
          7,
          1,
          11,
          27,
          19,
          16,
          1,
          7,
          24,
          0,
          1,
          4,
          3,
          4,
          20,
          16,
          5,
          4
         ],
         "xaxis": "x",
         "yaxis": "y"
        }
       ],
       "layout": {
        "barmode": "relative",
        "legend": {
         "tracegroupgap": 0
        },
        "template": {
         "data": {
          "bar": [
           {
            "error_x": {
             "color": "#2a3f5f"
            },
            "error_y": {
             "color": "#2a3f5f"
            },
            "marker": {
             "line": {
              "color": "#E5ECF6",
              "width": 0.5
             },
             "pattern": {
              "fillmode": "overlay",
              "size": 10,
              "solidity": 0.2
             }
            },
            "type": "bar"
           }
          ],
          "barpolar": [
           {
            "marker": {
             "line": {
              "color": "#E5ECF6",
              "width": 0.5
             },
             "pattern": {
              "fillmode": "overlay",
              "size": 10,
              "solidity": 0.2
             }
            },
            "type": "barpolar"
           }
          ],
          "carpet": [
           {
            "aaxis": {
             "endlinecolor": "#2a3f5f",
             "gridcolor": "white",
             "linecolor": "white",
             "minorgridcolor": "white",
             "startlinecolor": "#2a3f5f"
            },
            "baxis": {
             "endlinecolor": "#2a3f5f",
             "gridcolor": "white",
             "linecolor": "white",
             "minorgridcolor": "white",
             "startlinecolor": "#2a3f5f"
            },
            "type": "carpet"
           }
          ],
          "choropleth": [
           {
            "colorbar": {
             "outlinewidth": 0,
             "ticks": ""
            },
            "type": "choropleth"
           }
          ],
          "contour": [
           {
            "colorbar": {
             "outlinewidth": 0,
             "ticks": ""
            },
            "colorscale": [
             [
              0,
              "#0d0887"
             ],
             [
              0.1111111111111111,
              "#46039f"
             ],
             [
              0.2222222222222222,
              "#7201a8"
             ],
             [
              0.3333333333333333,
              "#9c179e"
             ],
             [
              0.4444444444444444,
              "#bd3786"
             ],
             [
              0.5555555555555556,
              "#d8576b"
             ],
             [
              0.6666666666666666,
              "#ed7953"
             ],
             [
              0.7777777777777778,
              "#fb9f3a"
             ],
             [
              0.8888888888888888,
              "#fdca26"
             ],
             [
              1,
              "#f0f921"
             ]
            ],
            "type": "contour"
           }
          ],
          "contourcarpet": [
           {
            "colorbar": {
             "outlinewidth": 0,
             "ticks": ""
            },
            "type": "contourcarpet"
           }
          ],
          "heatmap": [
           {
            "colorbar": {
             "outlinewidth": 0,
             "ticks": ""
            },
            "colorscale": [
             [
              0,
              "#0d0887"
             ],
             [
              0.1111111111111111,
              "#46039f"
             ],
             [
              0.2222222222222222,
              "#7201a8"
             ],
             [
              0.3333333333333333,
              "#9c179e"
             ],
             [
              0.4444444444444444,
              "#bd3786"
             ],
             [
              0.5555555555555556,
              "#d8576b"
             ],
             [
              0.6666666666666666,
              "#ed7953"
             ],
             [
              0.7777777777777778,
              "#fb9f3a"
             ],
             [
              0.8888888888888888,
              "#fdca26"
             ],
             [
              1,
              "#f0f921"
             ]
            ],
            "type": "heatmap"
           }
          ],
          "heatmapgl": [
           {
            "colorbar": {
             "outlinewidth": 0,
             "ticks": ""
            },
            "colorscale": [
             [
              0,
              "#0d0887"
             ],
             [
              0.1111111111111111,
              "#46039f"
             ],
             [
              0.2222222222222222,
              "#7201a8"
             ],
             [
              0.3333333333333333,
              "#9c179e"
             ],
             [
              0.4444444444444444,
              "#bd3786"
             ],
             [
              0.5555555555555556,
              "#d8576b"
             ],
             [
              0.6666666666666666,
              "#ed7953"
             ],
             [
              0.7777777777777778,
              "#fb9f3a"
             ],
             [
              0.8888888888888888,
              "#fdca26"
             ],
             [
              1,
              "#f0f921"
             ]
            ],
            "type": "heatmapgl"
           }
          ],
          "histogram": [
           {
            "marker": {
             "pattern": {
              "fillmode": "overlay",
              "size": 10,
              "solidity": 0.2
             }
            },
            "type": "histogram"
           }
          ],
          "histogram2d": [
           {
            "colorbar": {
             "outlinewidth": 0,
             "ticks": ""
            },
            "colorscale": [
             [
              0,
              "#0d0887"
             ],
             [
              0.1111111111111111,
              "#46039f"
             ],
             [
              0.2222222222222222,
              "#7201a8"
             ],
             [
              0.3333333333333333,
              "#9c179e"
             ],
             [
              0.4444444444444444,
              "#bd3786"
             ],
             [
              0.5555555555555556,
              "#d8576b"
             ],
             [
              0.6666666666666666,
              "#ed7953"
             ],
             [
              0.7777777777777778,
              "#fb9f3a"
             ],
             [
              0.8888888888888888,
              "#fdca26"
             ],
             [
              1,
              "#f0f921"
             ]
            ],
            "type": "histogram2d"
           }
          ],
          "histogram2dcontour": [
           {
            "colorbar": {
             "outlinewidth": 0,
             "ticks": ""
            },
            "colorscale": [
             [
              0,
              "#0d0887"
             ],
             [
              0.1111111111111111,
              "#46039f"
             ],
             [
              0.2222222222222222,
              "#7201a8"
             ],
             [
              0.3333333333333333,
              "#9c179e"
             ],
             [
              0.4444444444444444,
              "#bd3786"
             ],
             [
              0.5555555555555556,
              "#d8576b"
             ],
             [
              0.6666666666666666,
              "#ed7953"
             ],
             [
              0.7777777777777778,
              "#fb9f3a"
             ],
             [
              0.8888888888888888,
              "#fdca26"
             ],
             [
              1,
              "#f0f921"
             ]
            ],
            "type": "histogram2dcontour"
           }
          ],
          "mesh3d": [
           {
            "colorbar": {
             "outlinewidth": 0,
             "ticks": ""
            },
            "type": "mesh3d"
           }
          ],
          "parcoords": [
           {
            "line": {
             "colorbar": {
              "outlinewidth": 0,
              "ticks": ""
             }
            },
            "type": "parcoords"
           }
          ],
          "pie": [
           {
            "automargin": true,
            "type": "pie"
           }
          ],
          "scatter": [
           {
            "marker": {
             "colorbar": {
              "outlinewidth": 0,
              "ticks": ""
             }
            },
            "type": "scatter"
           }
          ],
          "scatter3d": [
           {
            "line": {
             "colorbar": {
              "outlinewidth": 0,
              "ticks": ""
             }
            },
            "marker": {
             "colorbar": {
              "outlinewidth": 0,
              "ticks": ""
             }
            },
            "type": "scatter3d"
           }
          ],
          "scattercarpet": [
           {
            "marker": {
             "colorbar": {
              "outlinewidth": 0,
              "ticks": ""
             }
            },
            "type": "scattercarpet"
           }
          ],
          "scattergeo": [
           {
            "marker": {
             "colorbar": {
              "outlinewidth": 0,
              "ticks": ""
             }
            },
            "type": "scattergeo"
           }
          ],
          "scattergl": [
           {
            "marker": {
             "colorbar": {
              "outlinewidth": 0,
              "ticks": ""
             }
            },
            "type": "scattergl"
           }
          ],
          "scattermapbox": [
           {
            "marker": {
             "colorbar": {
              "outlinewidth": 0,
              "ticks": ""
             }
            },
            "type": "scattermapbox"
           }
          ],
          "scatterpolar": [
           {
            "marker": {
             "colorbar": {
              "outlinewidth": 0,
              "ticks": ""
             }
            },
            "type": "scatterpolar"
           }
          ],
          "scatterpolargl": [
           {
            "marker": {
             "colorbar": {
              "outlinewidth": 0,
              "ticks": ""
             }
            },
            "type": "scatterpolargl"
           }
          ],
          "scatterternary": [
           {
            "marker": {
             "colorbar": {
              "outlinewidth": 0,
              "ticks": ""
             }
            },
            "type": "scatterternary"
           }
          ],
          "surface": [
           {
            "colorbar": {
             "outlinewidth": 0,
             "ticks": ""
            },
            "colorscale": [
             [
              0,
              "#0d0887"
             ],
             [
              0.1111111111111111,
              "#46039f"
             ],
             [
              0.2222222222222222,
              "#7201a8"
             ],
             [
              0.3333333333333333,
              "#9c179e"
             ],
             [
              0.4444444444444444,
              "#bd3786"
             ],
             [
              0.5555555555555556,
              "#d8576b"
             ],
             [
              0.6666666666666666,
              "#ed7953"
             ],
             [
              0.7777777777777778,
              "#fb9f3a"
             ],
             [
              0.8888888888888888,
              "#fdca26"
             ],
             [
              1,
              "#f0f921"
             ]
            ],
            "type": "surface"
           }
          ],
          "table": [
           {
            "cells": {
             "fill": {
              "color": "#EBF0F8"
             },
             "line": {
              "color": "white"
             }
            },
            "header": {
             "fill": {
              "color": "#C8D4E3"
             },
             "line": {
              "color": "white"
             }
            },
            "type": "table"
           }
          ]
         },
         "layout": {
          "annotationdefaults": {
           "arrowcolor": "#2a3f5f",
           "arrowhead": 0,
           "arrowwidth": 1
          },
          "autotypenumbers": "strict",
          "coloraxis": {
           "colorbar": {
            "outlinewidth": 0,
            "ticks": ""
           }
          },
          "colorscale": {
           "diverging": [
            [
             0,
             "#8e0152"
            ],
            [
             0.1,
             "#c51b7d"
            ],
            [
             0.2,
             "#de77ae"
            ],
            [
             0.3,
             "#f1b6da"
            ],
            [
             0.4,
             "#fde0ef"
            ],
            [
             0.5,
             "#f7f7f7"
            ],
            [
             0.6,
             "#e6f5d0"
            ],
            [
             0.7,
             "#b8e186"
            ],
            [
             0.8,
             "#7fbc41"
            ],
            [
             0.9,
             "#4d9221"
            ],
            [
             1,
             "#276419"
            ]
           ],
           "sequential": [
            [
             0,
             "#0d0887"
            ],
            [
             0.1111111111111111,
             "#46039f"
            ],
            [
             0.2222222222222222,
             "#7201a8"
            ],
            [
             0.3333333333333333,
             "#9c179e"
            ],
            [
             0.4444444444444444,
             "#bd3786"
            ],
            [
             0.5555555555555556,
             "#d8576b"
            ],
            [
             0.6666666666666666,
             "#ed7953"
            ],
            [
             0.7777777777777778,
             "#fb9f3a"
            ],
            [
             0.8888888888888888,
             "#fdca26"
            ],
            [
             1,
             "#f0f921"
            ]
           ],
           "sequentialminus": [
            [
             0,
             "#0d0887"
            ],
            [
             0.1111111111111111,
             "#46039f"
            ],
            [
             0.2222222222222222,
             "#7201a8"
            ],
            [
             0.3333333333333333,
             "#9c179e"
            ],
            [
             0.4444444444444444,
             "#bd3786"
            ],
            [
             0.5555555555555556,
             "#d8576b"
            ],
            [
             0.6666666666666666,
             "#ed7953"
            ],
            [
             0.7777777777777778,
             "#fb9f3a"
            ],
            [
             0.8888888888888888,
             "#fdca26"
            ],
            [
             1,
             "#f0f921"
            ]
           ]
          },
          "colorway": [
           "#636efa",
           "#EF553B",
           "#00cc96",
           "#ab63fa",
           "#FFA15A",
           "#19d3f3",
           "#FF6692",
           "#B6E880",
           "#FF97FF",
           "#FECB52"
          ],
          "font": {
           "color": "#2a3f5f"
          },
          "geo": {
           "bgcolor": "white",
           "lakecolor": "white",
           "landcolor": "#E5ECF6",
           "showlakes": true,
           "showland": true,
           "subunitcolor": "white"
          },
          "hoverlabel": {
           "align": "left"
          },
          "hovermode": "closest",
          "mapbox": {
           "style": "light"
          },
          "paper_bgcolor": "white",
          "plot_bgcolor": "#E5ECF6",
          "polar": {
           "angularaxis": {
            "gridcolor": "white",
            "linecolor": "white",
            "ticks": ""
           },
           "bgcolor": "#E5ECF6",
           "radialaxis": {
            "gridcolor": "white",
            "linecolor": "white",
            "ticks": ""
           }
          },
          "scene": {
           "xaxis": {
            "backgroundcolor": "#E5ECF6",
            "gridcolor": "white",
            "gridwidth": 2,
            "linecolor": "white",
            "showbackground": true,
            "ticks": "",
            "zerolinecolor": "white"
           },
           "yaxis": {
            "backgroundcolor": "#E5ECF6",
            "gridcolor": "white",
            "gridwidth": 2,
            "linecolor": "white",
            "showbackground": true,
            "ticks": "",
            "zerolinecolor": "white"
           },
           "zaxis": {
            "backgroundcolor": "#E5ECF6",
            "gridcolor": "white",
            "gridwidth": 2,
            "linecolor": "white",
            "showbackground": true,
            "ticks": "",
            "zerolinecolor": "white"
           }
          },
          "shapedefaults": {
           "line": {
            "color": "#2a3f5f"
           }
          },
          "ternary": {
           "aaxis": {
            "gridcolor": "white",
            "linecolor": "white",
            "ticks": ""
           },
           "baxis": {
            "gridcolor": "white",
            "linecolor": "white",
            "ticks": ""
           },
           "bgcolor": "#E5ECF6",
           "caxis": {
            "gridcolor": "white",
            "linecolor": "white",
            "ticks": ""
           }
          },
          "title": {
           "x": 0.05
          },
          "xaxis": {
           "automargin": true,
           "gridcolor": "white",
           "linecolor": "white",
           "ticks": "",
           "title": {
            "standoff": 15
           },
           "zerolinecolor": "white",
           "zerolinewidth": 2
          },
          "yaxis": {
           "automargin": true,
           "gridcolor": "white",
           "linecolor": "white",
           "ticks": "",
           "title": {
            "standoff": 15
           },
           "zerolinecolor": "white",
           "zerolinewidth": 2
          }
         }
        },
        "title": {
         "text": "Coffee: Category Two Defects"
        },
        "xaxis": {
         "anchor": "y",
         "domain": [
          0,
          1
         ],
         "title": {
          "text": "Category Two Defects"
         }
        },
        "yaxis": {
         "anchor": "x",
         "domain": [
          0,
          1
         ],
         "title": {
          "text": "count"
         }
        }
       }
      }
     },
     "metadata": {},
     "output_type": "display_data"
    },
    {
     "data": {
      "application/vnd.plotly.v1+json": {
       "config": {
        "plotlyServerURL": "https://plot.ly"
       },
       "data": [
        {
         "alignmentgroup": "True",
         "bingroup": "x",
         "hovertemplate": "altitude low meters=%{x}<br>count=%{y}<extra></extra>",
         "legendgroup": "",
         "marker": {
          "color": "#636efa",
          "pattern": {
           "shape": ""
          }
         },
         "name": "",
         "offsetgroup": "",
         "orientation": "v",
         "showlegend": false,
         "type": "histogram",
         "x": [
          1950,
          1950,
          1800,
          1950,
          1795,
          1855,
          1872,
          1943,
          2080,
          1450,
          1700,
          2019,
          1300,
          1320,
          2112,
          1250,
          1950,
          1200,
          1300,
          1300,
          1750,
          1800,
          1941,
          1300,
          1000,
          1754,
          1250,
          1400,
          1400,
          1600,
          1800,
          1524,
          1417.32,
          1700,
          1500,
          1300,
          1680,
          1800,
          1600,
          1706.88,
          1800,
          1950,
          1250,
          1700,
          1770,
          1300,
          1300,
          1600,
          1200,
          1550,
          1400,
          2560,
          1700,
          2136,
          1800,
          1900,
          1300,
          1100,
          1600,
          800,
          1620,
          1600,
          1200,
          1200,
          1000,
          350,
          1400,
          1800,
          1450,
          1350,
          1200,
          170,
          1150,
          1600,
          1750,
          1900,
          1750,
          1200,
          1000,
          2000,
          1310.64,
          1524,
          1200,
          1754,
          1800,
          1524,
          1219.2,
          1600,
          1800,
          1300,
          1100,
          1200,
          1750,
          1680,
          1700,
          1100,
          1310.64,
          1350,
          1500,
          1300,
          1400,
          1600,
          1200,
          900,
          1800,
          1500,
          442,
          1700,
          1000,
          1200,
          2560,
          1500,
          1099.4136,
          1400,
          1600,
          1600,
          442,
          1620,
          1600,
          1219.2,
          1450,
          1170,
          1400,
          1700,
          1700,
          1116.7872,
          1565,
          3280,
          1600,
          900,
          1150,
          1850,
          1545,
          1400,
          894,
          1310.64,
          1500,
          442,
          968,
          1600,
          1550,
          1480,
          1800,
          1500,
          1658.112,
          1219.2,
          1219.2,
          1600,
          1260,
          1200,
          1650,
          890,
          1300,
          1350,
          934,
          1200,
          1600,
          950,
          900,
          1500,
          1400,
          2527,
          1850,
          1500,
          1,
          480,
          1650,
          1200,
          1200,
          1219.2,
          1260,
          1310.64,
          1218,
          1300,
          1250,
          1800,
          890,
          442,
          750,
          1650,
          442,
          1400,
          853.44,
          1600,
          700,
          1300,
          890,
          1700,
          1400,
          1250,
          934,
          1200,
          800,
          1550,
          1356.6648,
          1800,
          1310.64,
          1310.64,
          1450,
          1310.64,
          1100,
          1200,
          1524,
          890,
          1128.3696,
          1100,
          1600,
          1200,
          1700,
          1800,
          1000,
          1600,
          1000,
          2136,
          1100,
          1799,
          1850,
          1000,
          1219.2,
          1600,
          1400,
          1500,
          1600,
          1400,
          1350,
          1170,
          940,
          1400,
          1524,
          1600,
          1402.08,
          439,
          1700,
          442,
          1850,
          1800,
          1200,
          1330,
          442,
          1600,
          1219.2,
          1500,
          1310.64,
          1450,
          1650,
          1227,
          1200,
          1650,
          1700,
          1100,
          1300,
          1100,
          1280.16,
          1000,
          1310.64,
          1750,
          1600,
          1900,
          2100,
          442,
          1261,
          1000,
          800,
          1500,
          1300,
          1000,
          1310.64,
          1200,
          1600,
          890,
          1901,
          168,
          1550,
          1500,
          1450,
          1200,
          1600,
          1350,
          1500,
          1400,
          800,
          1653,
          1600,
          1800,
          1450,
          1350,
          1524,
          1310.64,
          1500,
          532,
          1089,
          1600,
          700,
          1380,
          1000,
          950,
          1402.08,
          1000,
          1799,
          905,
          1,
          700,
          1200,
          1200,
          1300,
          1400,
          890,
          894,
          872,
          1473,
          1645,
          1550,
          1300,
          1371.6,
          1500,
          900,
          1200,
          1800,
          853.44,
          1500,
          1100,
          1250,
          1600,
          1000,
          1000,
          1600,
          750,
          1200,
          1200,
          1500,
          1371.6,
          1600,
          890,
          1350,
          350,
          2000,
          775,
          1200,
          1600,
          1059,
          1300,
          11000,
          1400,
          1400,
          1500,
          1500,
          1658.112,
          1248,
          1040,
          1400,
          1754,
          1700,
          905,
          1250,
          1900,
          1040,
          1219.2,
          900,
          1200,
          1200,
          1500,
          1800,
          1600,
          1400,
          1550,
          1250,
          1310.64,
          1380,
          1100,
          1800,
          1700,
          1219.2,
          1219.2,
          1500,
          157.8864,
          650,
          1250,
          1850,
          1400,
          905,
          1100,
          1500,
          1600,
          1442,
          1524,
          1300,
          1550,
          1200,
          1200,
          1400,
          1600,
          1100,
          890,
          934,
          1300,
          1200,
          1,
          1700,
          1550,
          1200,
          1296,
          1400,
          1240,
          1500,
          1500,
          1100,
          950,
          1219.2,
          1050,
          1200,
          800,
          1400,
          1317,
          1400,
          1200,
          1750,
          1750,
          1250,
          1150,
          1600,
          890,
          1250,
          1400,
          1219.2,
          800,
          1400,
          1600,
          1500,
          1260,
          1310.64,
          1310.64,
          1679,
          1100,
          1650,
          1250,
          1600,
          1500,
          1700,
          1700,
          157.8864,
          1600,
          2285,
          1,
          1400,
          1296,
          1000,
          1260,
          1170,
          1560,
          1400,
          1300,
          1170,
          1300,
          1350,
          1150,
          1250,
          1450,
          442,
          1396,
          982,
          934,
          1850,
          1550,
          1580,
          1268,
          1676.4,
          1450,
          1100,
          1524,
          1300,
          200,
          600,
          1310.64,
          1300,
          1676.4,
          441,
          1170,
          1310.64,
          1100,
          1200,
          950,
          442,
          1100,
          1450,
          1,
          1500,
          1350,
          1180,
          1100,
          650,
          1338,
          533,
          1390.8024,
          1170,
          1250,
          1100,
          900,
          1600,
          934,
          1500,
          1500,
          1,
          800,
          1350,
          1700,
          1100,
          1200,
          1200,
          800,
          1144,
          1350,
          1000,
          1200,
          1300,
          894,
          1,
          1200,
          1500,
          1500,
          13,
          1300,
          1800,
          1250,
          1040,
          1250,
          1600,
          1600,
          944,
          1500,
          1250,
          1300,
          2500,
          600,
          800,
          1200,
          1400,
          600,
          894,
          940,
          1000,
          1050,
          950,
          1402.08,
          1901,
          1219.2,
          1400,
          1020,
          1250,
          1300,
          1877,
          1000,
          1300,
          981,
          690,
          1650,
          1000,
          1100,
          157.8864,
          1900,
          973,
          1250,
          3280,
          1,
          1,
          4001,
          1350,
          1400,
          1200,
          700,
          1556,
          1100,
          1350,
          1550,
          1600,
          1250,
          1310.64,
          1500,
          1250,
          1700,
          1040,
          1500,
          774,
          1250,
          1100,
          1550,
          1650,
          890,
          1700,
          1219.2,
          1450,
          1,
          1200,
          1700,
          1260,
          1400,
          1850,
          150,
          750,
          1400,
          1676.4,
          1650,
          1400,
          1200,
          1400,
          940,
          1200,
          190164,
          800,
          13,
          1800,
          1100,
          850,
          1260,
          1310.64,
          1400,
          1600,
          1650,
          1219.2,
          1100,
          1400,
          160,
          1219.2,
          1200,
          1599,
          1219.2,
          900,
          1200,
          400,
          600,
          1150,
          1600,
          1100,
          1000,
          1250,
          1100,
          1200,
          125,
          1100,
          1371.6,
          1100,
          1400,
          110,
          1422,
          1100,
          1550,
          1550,
          1310.64,
          763,
          1100,
          1750,
          1500,
          1100,
          1350,
          1200,
          1400,
          1200,
          1450,
          1800,
          1000,
          1100,
          680,
          1,
          1100,
          1400,
          1700,
          1700,
          650,
          1524,
          1500,
          1200,
          100,
          1200,
          1200,
          1450,
          1400,
          1200,
          1550,
          990,
          1200,
          1800,
          1450,
          1000,
          695,
          1100,
          1706.88,
          1456,
          1500,
          853.44,
          1650,
          1300,
          1642,
          1200,
          1450,
          3280,
          1219.2,
          758,
          1350,
          1525,
          1700,
          1100,
          800,
          950,
          1100,
          200,
          1901,
          1600,
          1100,
          1066.8,
          1700,
          1200,
          550,
          1100,
          1524,
          900,
          688,
          300,
          1186,
          1300,
          1200,
          1210,
          1100,
          100,
          3825,
          1658.112,
          110000,
          1450,
          1680,
          1350,
          1450,
          1300,
          1200,
          1000,
          1200,
          1500,
          185,
          990,
          1200,
          1550,
          1400,
          1200,
          1400,
          1383.792,
          50,
          1500,
          1650,
          1250,
          3800,
          1219.2,
          1250,
          1859.28,
          1450,
          600,
          1450,
          1700,
          600,
          1050,
          1550,
          1700,
          600,
          1310.64,
          940,
          995,
          1400,
          1600,
          914.4,
          4287,
          900,
          700,
          1400,
          808,
          1550,
          1100,
          1400,
          1310.64,
          1250,
          1550,
          1000,
          1310.64,
          850,
          200,
          150,
          250,
          1300,
          1300,
          1250,
          3845,
          1300,
          250,
          800,
          1250,
          1100,
          1300,
          1100,
          1100,
          1100,
          1250,
          1250,
          1500,
          1700,
          1250,
          1300,
          190164,
          800,
          500,
          800,
          1100,
          1400,
          1022,
          1300,
          1450,
          1050,
          1100,
          1219.2,
          1250,
          800,
          1310.64,
          1400,
          975,
          1264,
          1250,
          1550,
          1050,
          700,
          1550,
          1100,
          1219.2,
          1219.2,
          800,
          200,
          1200,
          950,
          750,
          850,
          1000,
          1219.2,
          1650,
          1320,
          1300,
          1550,
          1450,
          1700,
          853.44,
          1500,
          1100,
          1200,
          1219.2,
          1350,
          1400,
          1300,
          1550,
          12,
          1300,
          1400,
          1100,
          1310.64,
          1320,
          1250,
          1350,
          1850,
          1150,
          1219.2,
          800,
          1400,
          1300,
          1600,
          1400,
          1200,
          1500,
          1219.2,
          1310.64,
          1300,
          1300,
          1050,
          650,
          1350,
          1219.2,
          1200,
          1310.64,
          850,
          1200,
          1248,
          1310.64,
          750,
          1300,
          1310.64,
          890,
          1219.2,
          1500,
          400,
          1200,
          900,
          1100,
          1310.64,
          1400,
          3500,
          1250,
          1350,
          1000,
          1310.64,
          1100,
          1200,
          1100,
          1280,
          850,
          1500,
          1250,
          1700,
          1310.64,
          1140,
          1200,
          1250,
          1350,
          1200,
          1200,
          800,
          1800,
          1000,
          1450,
          1450,
          1450,
          900,
          350,
          1100,
          1417.32
         ],
         "xaxis": "x",
         "yaxis": "y"
        }
       ],
       "layout": {
        "barmode": "relative",
        "legend": {
         "tracegroupgap": 0
        },
        "template": {
         "data": {
          "bar": [
           {
            "error_x": {
             "color": "#2a3f5f"
            },
            "error_y": {
             "color": "#2a3f5f"
            },
            "marker": {
             "line": {
              "color": "#E5ECF6",
              "width": 0.5
             },
             "pattern": {
              "fillmode": "overlay",
              "size": 10,
              "solidity": 0.2
             }
            },
            "type": "bar"
           }
          ],
          "barpolar": [
           {
            "marker": {
             "line": {
              "color": "#E5ECF6",
              "width": 0.5
             },
             "pattern": {
              "fillmode": "overlay",
              "size": 10,
              "solidity": 0.2
             }
            },
            "type": "barpolar"
           }
          ],
          "carpet": [
           {
            "aaxis": {
             "endlinecolor": "#2a3f5f",
             "gridcolor": "white",
             "linecolor": "white",
             "minorgridcolor": "white",
             "startlinecolor": "#2a3f5f"
            },
            "baxis": {
             "endlinecolor": "#2a3f5f",
             "gridcolor": "white",
             "linecolor": "white",
             "minorgridcolor": "white",
             "startlinecolor": "#2a3f5f"
            },
            "type": "carpet"
           }
          ],
          "choropleth": [
           {
            "colorbar": {
             "outlinewidth": 0,
             "ticks": ""
            },
            "type": "choropleth"
           }
          ],
          "contour": [
           {
            "colorbar": {
             "outlinewidth": 0,
             "ticks": ""
            },
            "colorscale": [
             [
              0,
              "#0d0887"
             ],
             [
              0.1111111111111111,
              "#46039f"
             ],
             [
              0.2222222222222222,
              "#7201a8"
             ],
             [
              0.3333333333333333,
              "#9c179e"
             ],
             [
              0.4444444444444444,
              "#bd3786"
             ],
             [
              0.5555555555555556,
              "#d8576b"
             ],
             [
              0.6666666666666666,
              "#ed7953"
             ],
             [
              0.7777777777777778,
              "#fb9f3a"
             ],
             [
              0.8888888888888888,
              "#fdca26"
             ],
             [
              1,
              "#f0f921"
             ]
            ],
            "type": "contour"
           }
          ],
          "contourcarpet": [
           {
            "colorbar": {
             "outlinewidth": 0,
             "ticks": ""
            },
            "type": "contourcarpet"
           }
          ],
          "heatmap": [
           {
            "colorbar": {
             "outlinewidth": 0,
             "ticks": ""
            },
            "colorscale": [
             [
              0,
              "#0d0887"
             ],
             [
              0.1111111111111111,
              "#46039f"
             ],
             [
              0.2222222222222222,
              "#7201a8"
             ],
             [
              0.3333333333333333,
              "#9c179e"
             ],
             [
              0.4444444444444444,
              "#bd3786"
             ],
             [
              0.5555555555555556,
              "#d8576b"
             ],
             [
              0.6666666666666666,
              "#ed7953"
             ],
             [
              0.7777777777777778,
              "#fb9f3a"
             ],
             [
              0.8888888888888888,
              "#fdca26"
             ],
             [
              1,
              "#f0f921"
             ]
            ],
            "type": "heatmap"
           }
          ],
          "heatmapgl": [
           {
            "colorbar": {
             "outlinewidth": 0,
             "ticks": ""
            },
            "colorscale": [
             [
              0,
              "#0d0887"
             ],
             [
              0.1111111111111111,
              "#46039f"
             ],
             [
              0.2222222222222222,
              "#7201a8"
             ],
             [
              0.3333333333333333,
              "#9c179e"
             ],
             [
              0.4444444444444444,
              "#bd3786"
             ],
             [
              0.5555555555555556,
              "#d8576b"
             ],
             [
              0.6666666666666666,
              "#ed7953"
             ],
             [
              0.7777777777777778,
              "#fb9f3a"
             ],
             [
              0.8888888888888888,
              "#fdca26"
             ],
             [
              1,
              "#f0f921"
             ]
            ],
            "type": "heatmapgl"
           }
          ],
          "histogram": [
           {
            "marker": {
             "pattern": {
              "fillmode": "overlay",
              "size": 10,
              "solidity": 0.2
             }
            },
            "type": "histogram"
           }
          ],
          "histogram2d": [
           {
            "colorbar": {
             "outlinewidth": 0,
             "ticks": ""
            },
            "colorscale": [
             [
              0,
              "#0d0887"
             ],
             [
              0.1111111111111111,
              "#46039f"
             ],
             [
              0.2222222222222222,
              "#7201a8"
             ],
             [
              0.3333333333333333,
              "#9c179e"
             ],
             [
              0.4444444444444444,
              "#bd3786"
             ],
             [
              0.5555555555555556,
              "#d8576b"
             ],
             [
              0.6666666666666666,
              "#ed7953"
             ],
             [
              0.7777777777777778,
              "#fb9f3a"
             ],
             [
              0.8888888888888888,
              "#fdca26"
             ],
             [
              1,
              "#f0f921"
             ]
            ],
            "type": "histogram2d"
           }
          ],
          "histogram2dcontour": [
           {
            "colorbar": {
             "outlinewidth": 0,
             "ticks": ""
            },
            "colorscale": [
             [
              0,
              "#0d0887"
             ],
             [
              0.1111111111111111,
              "#46039f"
             ],
             [
              0.2222222222222222,
              "#7201a8"
             ],
             [
              0.3333333333333333,
              "#9c179e"
             ],
             [
              0.4444444444444444,
              "#bd3786"
             ],
             [
              0.5555555555555556,
              "#d8576b"
             ],
             [
              0.6666666666666666,
              "#ed7953"
             ],
             [
              0.7777777777777778,
              "#fb9f3a"
             ],
             [
              0.8888888888888888,
              "#fdca26"
             ],
             [
              1,
              "#f0f921"
             ]
            ],
            "type": "histogram2dcontour"
           }
          ],
          "mesh3d": [
           {
            "colorbar": {
             "outlinewidth": 0,
             "ticks": ""
            },
            "type": "mesh3d"
           }
          ],
          "parcoords": [
           {
            "line": {
             "colorbar": {
              "outlinewidth": 0,
              "ticks": ""
             }
            },
            "type": "parcoords"
           }
          ],
          "pie": [
           {
            "automargin": true,
            "type": "pie"
           }
          ],
          "scatter": [
           {
            "marker": {
             "colorbar": {
              "outlinewidth": 0,
              "ticks": ""
             }
            },
            "type": "scatter"
           }
          ],
          "scatter3d": [
           {
            "line": {
             "colorbar": {
              "outlinewidth": 0,
              "ticks": ""
             }
            },
            "marker": {
             "colorbar": {
              "outlinewidth": 0,
              "ticks": ""
             }
            },
            "type": "scatter3d"
           }
          ],
          "scattercarpet": [
           {
            "marker": {
             "colorbar": {
              "outlinewidth": 0,
              "ticks": ""
             }
            },
            "type": "scattercarpet"
           }
          ],
          "scattergeo": [
           {
            "marker": {
             "colorbar": {
              "outlinewidth": 0,
              "ticks": ""
             }
            },
            "type": "scattergeo"
           }
          ],
          "scattergl": [
           {
            "marker": {
             "colorbar": {
              "outlinewidth": 0,
              "ticks": ""
             }
            },
            "type": "scattergl"
           }
          ],
          "scattermapbox": [
           {
            "marker": {
             "colorbar": {
              "outlinewidth": 0,
              "ticks": ""
             }
            },
            "type": "scattermapbox"
           }
          ],
          "scatterpolar": [
           {
            "marker": {
             "colorbar": {
              "outlinewidth": 0,
              "ticks": ""
             }
            },
            "type": "scatterpolar"
           }
          ],
          "scatterpolargl": [
           {
            "marker": {
             "colorbar": {
              "outlinewidth": 0,
              "ticks": ""
             }
            },
            "type": "scatterpolargl"
           }
          ],
          "scatterternary": [
           {
            "marker": {
             "colorbar": {
              "outlinewidth": 0,
              "ticks": ""
             }
            },
            "type": "scatterternary"
           }
          ],
          "surface": [
           {
            "colorbar": {
             "outlinewidth": 0,
             "ticks": ""
            },
            "colorscale": [
             [
              0,
              "#0d0887"
             ],
             [
              0.1111111111111111,
              "#46039f"
             ],
             [
              0.2222222222222222,
              "#7201a8"
             ],
             [
              0.3333333333333333,
              "#9c179e"
             ],
             [
              0.4444444444444444,
              "#bd3786"
             ],
             [
              0.5555555555555556,
              "#d8576b"
             ],
             [
              0.6666666666666666,
              "#ed7953"
             ],
             [
              0.7777777777777778,
              "#fb9f3a"
             ],
             [
              0.8888888888888888,
              "#fdca26"
             ],
             [
              1,
              "#f0f921"
             ]
            ],
            "type": "surface"
           }
          ],
          "table": [
           {
            "cells": {
             "fill": {
              "color": "#EBF0F8"
             },
             "line": {
              "color": "white"
             }
            },
            "header": {
             "fill": {
              "color": "#C8D4E3"
             },
             "line": {
              "color": "white"
             }
            },
            "type": "table"
           }
          ]
         },
         "layout": {
          "annotationdefaults": {
           "arrowcolor": "#2a3f5f",
           "arrowhead": 0,
           "arrowwidth": 1
          },
          "autotypenumbers": "strict",
          "coloraxis": {
           "colorbar": {
            "outlinewidth": 0,
            "ticks": ""
           }
          },
          "colorscale": {
           "diverging": [
            [
             0,
             "#8e0152"
            ],
            [
             0.1,
             "#c51b7d"
            ],
            [
             0.2,
             "#de77ae"
            ],
            [
             0.3,
             "#f1b6da"
            ],
            [
             0.4,
             "#fde0ef"
            ],
            [
             0.5,
             "#f7f7f7"
            ],
            [
             0.6,
             "#e6f5d0"
            ],
            [
             0.7,
             "#b8e186"
            ],
            [
             0.8,
             "#7fbc41"
            ],
            [
             0.9,
             "#4d9221"
            ],
            [
             1,
             "#276419"
            ]
           ],
           "sequential": [
            [
             0,
             "#0d0887"
            ],
            [
             0.1111111111111111,
             "#46039f"
            ],
            [
             0.2222222222222222,
             "#7201a8"
            ],
            [
             0.3333333333333333,
             "#9c179e"
            ],
            [
             0.4444444444444444,
             "#bd3786"
            ],
            [
             0.5555555555555556,
             "#d8576b"
            ],
            [
             0.6666666666666666,
             "#ed7953"
            ],
            [
             0.7777777777777778,
             "#fb9f3a"
            ],
            [
             0.8888888888888888,
             "#fdca26"
            ],
            [
             1,
             "#f0f921"
            ]
           ],
           "sequentialminus": [
            [
             0,
             "#0d0887"
            ],
            [
             0.1111111111111111,
             "#46039f"
            ],
            [
             0.2222222222222222,
             "#7201a8"
            ],
            [
             0.3333333333333333,
             "#9c179e"
            ],
            [
             0.4444444444444444,
             "#bd3786"
            ],
            [
             0.5555555555555556,
             "#d8576b"
            ],
            [
             0.6666666666666666,
             "#ed7953"
            ],
            [
             0.7777777777777778,
             "#fb9f3a"
            ],
            [
             0.8888888888888888,
             "#fdca26"
            ],
            [
             1,
             "#f0f921"
            ]
           ]
          },
          "colorway": [
           "#636efa",
           "#EF553B",
           "#00cc96",
           "#ab63fa",
           "#FFA15A",
           "#19d3f3",
           "#FF6692",
           "#B6E880",
           "#FF97FF",
           "#FECB52"
          ],
          "font": {
           "color": "#2a3f5f"
          },
          "geo": {
           "bgcolor": "white",
           "lakecolor": "white",
           "landcolor": "#E5ECF6",
           "showlakes": true,
           "showland": true,
           "subunitcolor": "white"
          },
          "hoverlabel": {
           "align": "left"
          },
          "hovermode": "closest",
          "mapbox": {
           "style": "light"
          },
          "paper_bgcolor": "white",
          "plot_bgcolor": "#E5ECF6",
          "polar": {
           "angularaxis": {
            "gridcolor": "white",
            "linecolor": "white",
            "ticks": ""
           },
           "bgcolor": "#E5ECF6",
           "radialaxis": {
            "gridcolor": "white",
            "linecolor": "white",
            "ticks": ""
           }
          },
          "scene": {
           "xaxis": {
            "backgroundcolor": "#E5ECF6",
            "gridcolor": "white",
            "gridwidth": 2,
            "linecolor": "white",
            "showbackground": true,
            "ticks": "",
            "zerolinecolor": "white"
           },
           "yaxis": {
            "backgroundcolor": "#E5ECF6",
            "gridcolor": "white",
            "gridwidth": 2,
            "linecolor": "white",
            "showbackground": true,
            "ticks": "",
            "zerolinecolor": "white"
           },
           "zaxis": {
            "backgroundcolor": "#E5ECF6",
            "gridcolor": "white",
            "gridwidth": 2,
            "linecolor": "white",
            "showbackground": true,
            "ticks": "",
            "zerolinecolor": "white"
           }
          },
          "shapedefaults": {
           "line": {
            "color": "#2a3f5f"
           }
          },
          "ternary": {
           "aaxis": {
            "gridcolor": "white",
            "linecolor": "white",
            "ticks": ""
           },
           "baxis": {
            "gridcolor": "white",
            "linecolor": "white",
            "ticks": ""
           },
           "bgcolor": "#E5ECF6",
           "caxis": {
            "gridcolor": "white",
            "linecolor": "white",
            "ticks": ""
           }
          },
          "title": {
           "x": 0.05
          },
          "xaxis": {
           "automargin": true,
           "gridcolor": "white",
           "linecolor": "white",
           "ticks": "",
           "title": {
            "standoff": 15
           },
           "zerolinecolor": "white",
           "zerolinewidth": 2
          },
          "yaxis": {
           "automargin": true,
           "gridcolor": "white",
           "linecolor": "white",
           "ticks": "",
           "title": {
            "standoff": 15
           },
           "zerolinecolor": "white",
           "zerolinewidth": 2
          }
         }
        },
        "title": {
         "text": "Coffee: altitude low meters"
        },
        "xaxis": {
         "anchor": "y",
         "domain": [
          0,
          1
         ],
         "title": {
          "text": "altitude low meters"
         }
        },
        "yaxis": {
         "anchor": "x",
         "domain": [
          0,
          1
         ],
         "title": {
          "text": "count"
         }
        }
       }
      }
     },
     "metadata": {},
     "output_type": "display_data"
    },
    {
     "data": {
      "application/vnd.plotly.v1+json": {
       "config": {
        "plotlyServerURL": "https://plot.ly"
       },
       "data": [
        {
         "alignmentgroup": "True",
         "bingroup": "x",
         "hovertemplate": "altitude high meters=%{x}<br>count=%{y}<extra></extra>",
         "legendgroup": "",
         "marker": {
          "color": "#636efa",
          "pattern": {
           "shape": ""
          }
         },
         "name": "",
         "offsetgroup": "",
         "orientation": "v",
         "showlegend": false,
         "type": "histogram",
         "x": [
          2200,
          2200,
          2200,
          2200,
          1850,
          1955,
          1872,
          1943,
          2080,
          1450,
          2000,
          2019,
          1300,
          1320,
          2112,
          1250,
          1950,
          1200,
          1300,
          1300,
          1800,
          1800,
          1941,
          1300,
          1000,
          1754,
          1250,
          1900,
          1900,
          1600,
          2000,
          1524,
          1417.32,
          1700,
          1500,
          1400,
          1680,
          2000,
          1600,
          1755.648,
          2000,
          1950,
          1250,
          1700,
          1770,
          1300,
          1300,
          1600,
          1200,
          1550,
          1400,
          2560,
          1700,
          2136,
          1800,
          1900,
          1300,
          1100,
          1950,
          800,
          1620,
          1950,
          1200,
          1200,
          1000,
          350,
          1900,
          1800,
          1450,
          1350,
          1200,
          170,
          1150,
          1600,
          1750,
          1900,
          1750,
          1200,
          1000,
          2000,
          1310.64,
          1524,
          1200,
          1754,
          1800,
          1524,
          1219.2,
          1900,
          1800,
          1300,
          1100,
          1200,
          1750,
          1680,
          1700,
          1100,
          1310.64,
          1350,
          1500,
          1300,
          1400,
          1950,
          1200,
          900,
          1800,
          1500,
          442,
          1700,
          1000,
          1200,
          2560,
          1500,
          1099.4136,
          1400,
          1950,
          1950,
          442,
          1620,
          1600,
          1219.2,
          1450,
          1170,
          1400,
          1700,
          1700,
          1116.7872,
          1565,
          3280,
          1950,
          1100,
          1150,
          1850,
          1668,
          1400,
          1183,
          1310.64,
          1500,
          442,
          968,
          1950,
          1550,
          1480,
          1800,
          1500,
          1755.648,
          1219.2,
          1219.2,
          1950,
          1260,
          1200,
          1650,
          890,
          1300,
          1350,
          934,
          1200,
          1950,
          950,
          900,
          1500,
          1400,
          2527,
          1850,
          1500,
          1,
          570,
          1703,
          1200,
          1400,
          1219.2,
          1260,
          1310.64,
          1218,
          1300,
          1250,
          1800,
          890,
          442,
          750,
          1650,
          442,
          1400,
          853.44,
          1950,
          700,
          1300,
          890,
          1700,
          1400,
          1250,
          934,
          1200,
          800,
          1700,
          1356.6648,
          2000,
          1310.64,
          1310.64,
          1450,
          1310.64,
          1100,
          1600,
          1524,
          890,
          1128.3696,
          1100,
          1950,
          1200,
          2000,
          1800,
          1000,
          1950,
          1000,
          2136,
          1100,
          1799,
          1850,
          1000,
          1219.2,
          1950,
          1400,
          1500,
          1600,
          1400,
          1350,
          1170,
          940,
          1400,
          1524,
          1950,
          1402.08,
          439,
          1700,
          442,
          1850,
          1800,
          1200,
          1330,
          442,
          1600,
          1219.2,
          1500,
          1310.64,
          1450,
          1650,
          1227,
          1200,
          1650,
          1700,
          1100,
          1300,
          1300,
          1280.16,
          1000,
          1310.64,
          1750,
          1600,
          1900,
          2100,
          442,
          1261,
          1000,
          800,
          1500,
          1300,
          1000,
          1310.64,
          1200,
          1950,
          890,
          1901,
          168,
          1550,
          1500,
          1450,
          1200,
          1600,
          1350,
          1500,
          1900,
          800,
          1653,
          1950,
          1800,
          1450,
          1350,
          1524,
          1310.64,
          1500,
          532,
          1089,
          1950,
          700,
          1380,
          1000,
          950,
          1402.08,
          1000,
          1799,
          905,
          1,
          800,
          1200,
          1400,
          1300,
          1400,
          890,
          894,
          872,
          1473,
          1645,
          1550,
          1800,
          1371.6,
          1500,
          1100,
          1200,
          1800,
          853.44,
          1500,
          1300,
          1250,
          1950,
          1000,
          1000,
          1950,
          750,
          1200,
          1200,
          1750,
          1371.6,
          1950,
          890,
          1350,
          350,
          2000,
          775,
          1200,
          1600,
          1059,
          1300,
          11000,
          1900,
          1400,
          1500,
          1500,
          1755.648,
          1248,
          1040,
          1400,
          1754,
          1700,
          905,
          1250,
          1900,
          1040,
          1219.2,
          900,
          2000,
          1200,
          1500,
          1800,
          1950,
          1400,
          1550,
          1250,
          1310.64,
          1380,
          1100,
          1800,
          1700,
          1219.2,
          1219.2,
          1500,
          157.8864,
          650,
          1250,
          1850,
          1400,
          905,
          1100,
          1500,
          1950,
          1442,
          1524,
          1300,
          1550,
          1200,
          1200,
          1850,
          1950,
          1100,
          890,
          934,
          1300,
          1200,
          1,
          1700,
          1550,
          1200,
          1296,
          1900,
          1240,
          1500,
          1500,
          1100,
          950,
          1219.2,
          1050,
          1300,
          800,
          1500,
          1317,
          1900,
          1400,
          1750,
          1750,
          1250,
          1150,
          1950,
          890,
          1250,
          1400,
          1219.2,
          800,
          1500,
          1600,
          1700,
          1260,
          1310.64,
          1310.64,
          1679,
          1100,
          1650,
          1250,
          1950,
          1500,
          1700,
          1700,
          157.8864,
          1600,
          2285,
          1,
          1400,
          1296,
          1000,
          1260,
          1170,
          1560,
          1400,
          1300,
          1170,
          1300,
          1350,
          1150,
          1250,
          1450,
          442,
          1396,
          982,
          934,
          1850,
          1550,
          1580,
          1268,
          1676.4,
          1450,
          1100,
          1524,
          1300,
          200,
          600,
          1310.64,
          1300,
          1828.8,
          441,
          1170,
          1310.64,
          1100,
          1400,
          950,
          442,
          1100,
          1450,
          1,
          1500,
          1350,
          1180,
          1100,
          650,
          1338,
          533,
          1390.8024,
          1170,
          1250,
          1100,
          900,
          1950,
          934,
          1500,
          1800,
          1,
          800,
          1350,
          1700,
          1100,
          1600,
          1200,
          800,
          1144,
          1350,
          1000,
          1200,
          1300,
          894,
          1,
          1400,
          1500,
          1700,
          13,
          1300,
          1800,
          1250,
          1040,
          1250,
          1600,
          1600,
          944,
          1800,
          1250,
          1400,
          2500,
          600,
          800,
          1400,
          1400,
          700,
          1183,
          940,
          1000,
          1050,
          950,
          1402.08,
          1901,
          1219.2,
          1400,
          1020,
          1250,
          1800,
          1877,
          1000,
          1300,
          981,
          690,
          1650,
          1000,
          1100,
          157.8864,
          1900,
          973,
          1250,
          3280,
          1,
          1,
          4001,
          1500,
          1400,
          1400,
          700,
          1556,
          1100,
          1350,
          1550,
          1950,
          1250,
          1310.64,
          1500,
          1250,
          1700,
          1040,
          1700,
          774,
          1250,
          1100,
          1550,
          1650,
          890,
          1700,
          1219.2,
          1450,
          1,
          1800,
          1700,
          1260,
          1400,
          1850,
          150,
          750,
          1400,
          1828.8,
          1650,
          1400,
          1200,
          1400,
          940,
          1200,
          190164,
          800,
          13,
          1800,
          1100,
          850,
          1260,
          1310.64,
          1400,
          1600,
          1650,
          1219.2,
          1100,
          1400,
          200,
          1219.2,
          1200,
          1599,
          1219.2,
          900,
          1200,
          1250,
          600,
          1150,
          1600,
          1100,
          1000,
          1250,
          1100,
          1600,
          125,
          1100,
          1371.6,
          1100,
          1400,
          110,
          1422,
          1100,
          1550,
          1550,
          1310.64,
          763,
          1100,
          1750,
          1500,
          1100,
          1350,
          1200,
          1400,
          1200,
          1450,
          1800,
          1000,
          1100,
          680,
          1,
          1100,
          1400,
          1700,
          1700,
          650,
          1524,
          1500,
          1200,
          2000,
          1200,
          1400,
          1450,
          1500,
          1200,
          1550,
          1000,
          1400,
          1800,
          1450,
          1000,
          695,
          1100,
          1706.88,
          1456,
          1500,
          853.44,
          1650,
          1300,
          1642,
          1200,
          1450,
          3280,
          1219.2,
          758,
          1350,
          1525,
          1700,
          1100,
          800,
          950,
          1100,
          200,
          1901,
          1600,
          1100,
          1066.8,
          1700,
          1200,
          550,
          1100,
          1524,
          900,
          688,
          300,
          1186,
          1300,
          1200,
          1210,
          1100,
          100,
          3825,
          1755.648,
          110000,
          1450,
          1680,
          1350,
          1450,
          1300,
          1200,
          1000,
          1500,
          1500,
          185,
          1000,
          1200,
          1550,
          1400,
          1200,
          1400,
          1383.792,
          50,
          1500,
          1650,
          1250,
          3800,
          1219.2,
          1250,
          1859.28,
          1450,
          600,
          1450,
          1700,
          600,
          1050,
          1550,
          1700,
          600,
          1310.64,
          940,
          995,
          1400,
          1600,
          914.4,
          4287,
          900,
          700,
          1400,
          808,
          1550,
          1275,
          1400,
          1310.64,
          1250,
          1550,
          1000,
          1310.64,
          850,
          200,
          150,
          250,
          1300,
          1300,
          1250,
          3845,
          1500,
          250,
          800,
          1250,
          1100,
          1300,
          1100,
          1100,
          1100,
          1250,
          1250,
          1500,
          1700,
          1250,
          1300,
          190164,
          1200,
          700,
          800,
          1100,
          1400,
          1022,
          1300,
          1450,
          1050,
          1100,
          1219.2,
          1250,
          800,
          1310.64,
          1400,
          975,
          1264,
          1250,
          1550,
          1050,
          700,
          1550,
          1100,
          1219.2,
          1219.2,
          800,
          200,
          1200,
          950,
          750,
          850,
          1000,
          1219.2,
          1650,
          1320,
          1800,
          1550,
          1450,
          1700,
          853.44,
          1500,
          1100,
          1200,
          1219.2,
          1350,
          1400,
          1300,
          1550,
          12,
          1300,
          1400,
          1100,
          1310.64,
          1320,
          1250,
          1350,
          1850,
          1150,
          1219.2,
          800,
          1400,
          1300,
          1600,
          1400,
          1200,
          1500,
          1219.2,
          1310.64,
          1300,
          1300,
          1050,
          650,
          1350,
          1219.2,
          1200,
          1310.64,
          850,
          1200,
          1248,
          1310.64,
          800,
          1300,
          1310.64,
          890,
          1219.2,
          1500,
          1250,
          1200,
          1500,
          1100,
          1310.64,
          1400,
          3500,
          1250,
          1350,
          1000,
          1310.64,
          1100,
          1200,
          1100,
          1280,
          850,
          1500,
          1250,
          1700,
          1310.64,
          1140,
          1200,
          1250,
          1350,
          1200,
          1200,
          800,
          1800,
          1000,
          1450,
          1450,
          1450,
          900,
          350,
          1100,
          1417.32
         ],
         "xaxis": "x",
         "yaxis": "y"
        }
       ],
       "layout": {
        "barmode": "relative",
        "legend": {
         "tracegroupgap": 0
        },
        "template": {
         "data": {
          "bar": [
           {
            "error_x": {
             "color": "#2a3f5f"
            },
            "error_y": {
             "color": "#2a3f5f"
            },
            "marker": {
             "line": {
              "color": "#E5ECF6",
              "width": 0.5
             },
             "pattern": {
              "fillmode": "overlay",
              "size": 10,
              "solidity": 0.2
             }
            },
            "type": "bar"
           }
          ],
          "barpolar": [
           {
            "marker": {
             "line": {
              "color": "#E5ECF6",
              "width": 0.5
             },
             "pattern": {
              "fillmode": "overlay",
              "size": 10,
              "solidity": 0.2
             }
            },
            "type": "barpolar"
           }
          ],
          "carpet": [
           {
            "aaxis": {
             "endlinecolor": "#2a3f5f",
             "gridcolor": "white",
             "linecolor": "white",
             "minorgridcolor": "white",
             "startlinecolor": "#2a3f5f"
            },
            "baxis": {
             "endlinecolor": "#2a3f5f",
             "gridcolor": "white",
             "linecolor": "white",
             "minorgridcolor": "white",
             "startlinecolor": "#2a3f5f"
            },
            "type": "carpet"
           }
          ],
          "choropleth": [
           {
            "colorbar": {
             "outlinewidth": 0,
             "ticks": ""
            },
            "type": "choropleth"
           }
          ],
          "contour": [
           {
            "colorbar": {
             "outlinewidth": 0,
             "ticks": ""
            },
            "colorscale": [
             [
              0,
              "#0d0887"
             ],
             [
              0.1111111111111111,
              "#46039f"
             ],
             [
              0.2222222222222222,
              "#7201a8"
             ],
             [
              0.3333333333333333,
              "#9c179e"
             ],
             [
              0.4444444444444444,
              "#bd3786"
             ],
             [
              0.5555555555555556,
              "#d8576b"
             ],
             [
              0.6666666666666666,
              "#ed7953"
             ],
             [
              0.7777777777777778,
              "#fb9f3a"
             ],
             [
              0.8888888888888888,
              "#fdca26"
             ],
             [
              1,
              "#f0f921"
             ]
            ],
            "type": "contour"
           }
          ],
          "contourcarpet": [
           {
            "colorbar": {
             "outlinewidth": 0,
             "ticks": ""
            },
            "type": "contourcarpet"
           }
          ],
          "heatmap": [
           {
            "colorbar": {
             "outlinewidth": 0,
             "ticks": ""
            },
            "colorscale": [
             [
              0,
              "#0d0887"
             ],
             [
              0.1111111111111111,
              "#46039f"
             ],
             [
              0.2222222222222222,
              "#7201a8"
             ],
             [
              0.3333333333333333,
              "#9c179e"
             ],
             [
              0.4444444444444444,
              "#bd3786"
             ],
             [
              0.5555555555555556,
              "#d8576b"
             ],
             [
              0.6666666666666666,
              "#ed7953"
             ],
             [
              0.7777777777777778,
              "#fb9f3a"
             ],
             [
              0.8888888888888888,
              "#fdca26"
             ],
             [
              1,
              "#f0f921"
             ]
            ],
            "type": "heatmap"
           }
          ],
          "heatmapgl": [
           {
            "colorbar": {
             "outlinewidth": 0,
             "ticks": ""
            },
            "colorscale": [
             [
              0,
              "#0d0887"
             ],
             [
              0.1111111111111111,
              "#46039f"
             ],
             [
              0.2222222222222222,
              "#7201a8"
             ],
             [
              0.3333333333333333,
              "#9c179e"
             ],
             [
              0.4444444444444444,
              "#bd3786"
             ],
             [
              0.5555555555555556,
              "#d8576b"
             ],
             [
              0.6666666666666666,
              "#ed7953"
             ],
             [
              0.7777777777777778,
              "#fb9f3a"
             ],
             [
              0.8888888888888888,
              "#fdca26"
             ],
             [
              1,
              "#f0f921"
             ]
            ],
            "type": "heatmapgl"
           }
          ],
          "histogram": [
           {
            "marker": {
             "pattern": {
              "fillmode": "overlay",
              "size": 10,
              "solidity": 0.2
             }
            },
            "type": "histogram"
           }
          ],
          "histogram2d": [
           {
            "colorbar": {
             "outlinewidth": 0,
             "ticks": ""
            },
            "colorscale": [
             [
              0,
              "#0d0887"
             ],
             [
              0.1111111111111111,
              "#46039f"
             ],
             [
              0.2222222222222222,
              "#7201a8"
             ],
             [
              0.3333333333333333,
              "#9c179e"
             ],
             [
              0.4444444444444444,
              "#bd3786"
             ],
             [
              0.5555555555555556,
              "#d8576b"
             ],
             [
              0.6666666666666666,
              "#ed7953"
             ],
             [
              0.7777777777777778,
              "#fb9f3a"
             ],
             [
              0.8888888888888888,
              "#fdca26"
             ],
             [
              1,
              "#f0f921"
             ]
            ],
            "type": "histogram2d"
           }
          ],
          "histogram2dcontour": [
           {
            "colorbar": {
             "outlinewidth": 0,
             "ticks": ""
            },
            "colorscale": [
             [
              0,
              "#0d0887"
             ],
             [
              0.1111111111111111,
              "#46039f"
             ],
             [
              0.2222222222222222,
              "#7201a8"
             ],
             [
              0.3333333333333333,
              "#9c179e"
             ],
             [
              0.4444444444444444,
              "#bd3786"
             ],
             [
              0.5555555555555556,
              "#d8576b"
             ],
             [
              0.6666666666666666,
              "#ed7953"
             ],
             [
              0.7777777777777778,
              "#fb9f3a"
             ],
             [
              0.8888888888888888,
              "#fdca26"
             ],
             [
              1,
              "#f0f921"
             ]
            ],
            "type": "histogram2dcontour"
           }
          ],
          "mesh3d": [
           {
            "colorbar": {
             "outlinewidth": 0,
             "ticks": ""
            },
            "type": "mesh3d"
           }
          ],
          "parcoords": [
           {
            "line": {
             "colorbar": {
              "outlinewidth": 0,
              "ticks": ""
             }
            },
            "type": "parcoords"
           }
          ],
          "pie": [
           {
            "automargin": true,
            "type": "pie"
           }
          ],
          "scatter": [
           {
            "marker": {
             "colorbar": {
              "outlinewidth": 0,
              "ticks": ""
             }
            },
            "type": "scatter"
           }
          ],
          "scatter3d": [
           {
            "line": {
             "colorbar": {
              "outlinewidth": 0,
              "ticks": ""
             }
            },
            "marker": {
             "colorbar": {
              "outlinewidth": 0,
              "ticks": ""
             }
            },
            "type": "scatter3d"
           }
          ],
          "scattercarpet": [
           {
            "marker": {
             "colorbar": {
              "outlinewidth": 0,
              "ticks": ""
             }
            },
            "type": "scattercarpet"
           }
          ],
          "scattergeo": [
           {
            "marker": {
             "colorbar": {
              "outlinewidth": 0,
              "ticks": ""
             }
            },
            "type": "scattergeo"
           }
          ],
          "scattergl": [
           {
            "marker": {
             "colorbar": {
              "outlinewidth": 0,
              "ticks": ""
             }
            },
            "type": "scattergl"
           }
          ],
          "scattermapbox": [
           {
            "marker": {
             "colorbar": {
              "outlinewidth": 0,
              "ticks": ""
             }
            },
            "type": "scattermapbox"
           }
          ],
          "scatterpolar": [
           {
            "marker": {
             "colorbar": {
              "outlinewidth": 0,
              "ticks": ""
             }
            },
            "type": "scatterpolar"
           }
          ],
          "scatterpolargl": [
           {
            "marker": {
             "colorbar": {
              "outlinewidth": 0,
              "ticks": ""
             }
            },
            "type": "scatterpolargl"
           }
          ],
          "scatterternary": [
           {
            "marker": {
             "colorbar": {
              "outlinewidth": 0,
              "ticks": ""
             }
            },
            "type": "scatterternary"
           }
          ],
          "surface": [
           {
            "colorbar": {
             "outlinewidth": 0,
             "ticks": ""
            },
            "colorscale": [
             [
              0,
              "#0d0887"
             ],
             [
              0.1111111111111111,
              "#46039f"
             ],
             [
              0.2222222222222222,
              "#7201a8"
             ],
             [
              0.3333333333333333,
              "#9c179e"
             ],
             [
              0.4444444444444444,
              "#bd3786"
             ],
             [
              0.5555555555555556,
              "#d8576b"
             ],
             [
              0.6666666666666666,
              "#ed7953"
             ],
             [
              0.7777777777777778,
              "#fb9f3a"
             ],
             [
              0.8888888888888888,
              "#fdca26"
             ],
             [
              1,
              "#f0f921"
             ]
            ],
            "type": "surface"
           }
          ],
          "table": [
           {
            "cells": {
             "fill": {
              "color": "#EBF0F8"
             },
             "line": {
              "color": "white"
             }
            },
            "header": {
             "fill": {
              "color": "#C8D4E3"
             },
             "line": {
              "color": "white"
             }
            },
            "type": "table"
           }
          ]
         },
         "layout": {
          "annotationdefaults": {
           "arrowcolor": "#2a3f5f",
           "arrowhead": 0,
           "arrowwidth": 1
          },
          "autotypenumbers": "strict",
          "coloraxis": {
           "colorbar": {
            "outlinewidth": 0,
            "ticks": ""
           }
          },
          "colorscale": {
           "diverging": [
            [
             0,
             "#8e0152"
            ],
            [
             0.1,
             "#c51b7d"
            ],
            [
             0.2,
             "#de77ae"
            ],
            [
             0.3,
             "#f1b6da"
            ],
            [
             0.4,
             "#fde0ef"
            ],
            [
             0.5,
             "#f7f7f7"
            ],
            [
             0.6,
             "#e6f5d0"
            ],
            [
             0.7,
             "#b8e186"
            ],
            [
             0.8,
             "#7fbc41"
            ],
            [
             0.9,
             "#4d9221"
            ],
            [
             1,
             "#276419"
            ]
           ],
           "sequential": [
            [
             0,
             "#0d0887"
            ],
            [
             0.1111111111111111,
             "#46039f"
            ],
            [
             0.2222222222222222,
             "#7201a8"
            ],
            [
             0.3333333333333333,
             "#9c179e"
            ],
            [
             0.4444444444444444,
             "#bd3786"
            ],
            [
             0.5555555555555556,
             "#d8576b"
            ],
            [
             0.6666666666666666,
             "#ed7953"
            ],
            [
             0.7777777777777778,
             "#fb9f3a"
            ],
            [
             0.8888888888888888,
             "#fdca26"
            ],
            [
             1,
             "#f0f921"
            ]
           ],
           "sequentialminus": [
            [
             0,
             "#0d0887"
            ],
            [
             0.1111111111111111,
             "#46039f"
            ],
            [
             0.2222222222222222,
             "#7201a8"
            ],
            [
             0.3333333333333333,
             "#9c179e"
            ],
            [
             0.4444444444444444,
             "#bd3786"
            ],
            [
             0.5555555555555556,
             "#d8576b"
            ],
            [
             0.6666666666666666,
             "#ed7953"
            ],
            [
             0.7777777777777778,
             "#fb9f3a"
            ],
            [
             0.8888888888888888,
             "#fdca26"
            ],
            [
             1,
             "#f0f921"
            ]
           ]
          },
          "colorway": [
           "#636efa",
           "#EF553B",
           "#00cc96",
           "#ab63fa",
           "#FFA15A",
           "#19d3f3",
           "#FF6692",
           "#B6E880",
           "#FF97FF",
           "#FECB52"
          ],
          "font": {
           "color": "#2a3f5f"
          },
          "geo": {
           "bgcolor": "white",
           "lakecolor": "white",
           "landcolor": "#E5ECF6",
           "showlakes": true,
           "showland": true,
           "subunitcolor": "white"
          },
          "hoverlabel": {
           "align": "left"
          },
          "hovermode": "closest",
          "mapbox": {
           "style": "light"
          },
          "paper_bgcolor": "white",
          "plot_bgcolor": "#E5ECF6",
          "polar": {
           "angularaxis": {
            "gridcolor": "white",
            "linecolor": "white",
            "ticks": ""
           },
           "bgcolor": "#E5ECF6",
           "radialaxis": {
            "gridcolor": "white",
            "linecolor": "white",
            "ticks": ""
           }
          },
          "scene": {
           "xaxis": {
            "backgroundcolor": "#E5ECF6",
            "gridcolor": "white",
            "gridwidth": 2,
            "linecolor": "white",
            "showbackground": true,
            "ticks": "",
            "zerolinecolor": "white"
           },
           "yaxis": {
            "backgroundcolor": "#E5ECF6",
            "gridcolor": "white",
            "gridwidth": 2,
            "linecolor": "white",
            "showbackground": true,
            "ticks": "",
            "zerolinecolor": "white"
           },
           "zaxis": {
            "backgroundcolor": "#E5ECF6",
            "gridcolor": "white",
            "gridwidth": 2,
            "linecolor": "white",
            "showbackground": true,
            "ticks": "",
            "zerolinecolor": "white"
           }
          },
          "shapedefaults": {
           "line": {
            "color": "#2a3f5f"
           }
          },
          "ternary": {
           "aaxis": {
            "gridcolor": "white",
            "linecolor": "white",
            "ticks": ""
           },
           "baxis": {
            "gridcolor": "white",
            "linecolor": "white",
            "ticks": ""
           },
           "bgcolor": "#E5ECF6",
           "caxis": {
            "gridcolor": "white",
            "linecolor": "white",
            "ticks": ""
           }
          },
          "title": {
           "x": 0.05
          },
          "xaxis": {
           "automargin": true,
           "gridcolor": "white",
           "linecolor": "white",
           "ticks": "",
           "title": {
            "standoff": 15
           },
           "zerolinecolor": "white",
           "zerolinewidth": 2
          },
          "yaxis": {
           "automargin": true,
           "gridcolor": "white",
           "linecolor": "white",
           "ticks": "",
           "title": {
            "standoff": 15
           },
           "zerolinecolor": "white",
           "zerolinewidth": 2
          }
         }
        },
        "title": {
         "text": "Coffee: altitude high meters"
        },
        "xaxis": {
         "anchor": "y",
         "domain": [
          0,
          1
         ],
         "title": {
          "text": "altitude high meters"
         }
        },
        "yaxis": {
         "anchor": "x",
         "domain": [
          0,
          1
         ],
         "title": {
          "text": "count"
         }
        }
       }
      }
     },
     "metadata": {},
     "output_type": "display_data"
    },
    {
     "data": {
      "application/vnd.plotly.v1+json": {
       "config": {
        "plotlyServerURL": "https://plot.ly"
       },
       "data": [
        {
         "alignmentgroup": "True",
         "bingroup": "x",
         "hovertemplate": "altitude mean meters=%{x}<br>count=%{y}<extra></extra>",
         "legendgroup": "",
         "marker": {
          "color": "#636efa",
          "pattern": {
           "shape": ""
          }
         },
         "name": "",
         "offsetgroup": "",
         "orientation": "v",
         "showlegend": false,
         "type": "histogram",
         "x": [
          2075,
          2075,
          2000,
          2075,
          1822.5,
          1905,
          1872,
          1943,
          2080,
          1450,
          1850,
          2019,
          1300,
          1320,
          2112,
          1250,
          1950,
          1200,
          1300,
          1300,
          1775,
          1800,
          1941,
          1300,
          1000,
          1754,
          1250,
          1650,
          1650,
          1600,
          1900,
          1524,
          1417.32,
          1700,
          1500,
          1350,
          1680,
          1900,
          1600,
          1731.264,
          1900,
          1950,
          1250,
          1700,
          1770,
          1300,
          1300,
          1600,
          1200,
          1550,
          1400,
          2560,
          1700,
          2136,
          1800,
          1900,
          1300,
          1100,
          1775,
          800,
          1620,
          1775,
          1200,
          1200,
          1000,
          350,
          1650,
          1800,
          1450,
          1350,
          1200,
          170,
          1150,
          1600,
          1750,
          1900,
          1750,
          1200,
          1000,
          2000,
          1310.64,
          1524,
          1200,
          1754,
          1800,
          1524,
          1219.2,
          1750,
          1800,
          1300,
          1100,
          1200,
          1750,
          1680,
          1700,
          1100,
          1310.64,
          1350,
          1500,
          1300,
          1400,
          1775,
          1200,
          900,
          1800,
          1500,
          442,
          1700,
          1000,
          1200,
          2560,
          1500,
          1099.4136,
          1400,
          1775,
          1775,
          442,
          1620,
          1600,
          1219.2,
          1450,
          1170,
          1400,
          1700,
          1700,
          1116.7872,
          1565,
          3280,
          1775,
          1000,
          1150,
          1850,
          1606.5,
          1400,
          1038.5,
          1310.64,
          1500,
          442,
          968,
          1775,
          1550,
          1480,
          1800,
          1500,
          1706.88,
          1219.2,
          1219.2,
          1775,
          1260,
          1200,
          1650,
          890,
          1300,
          1350,
          934,
          1200,
          1775,
          950,
          900,
          1500,
          1400,
          2527,
          1850,
          1500,
          1,
          525,
          1676.5,
          1200,
          1300,
          1219.2,
          1260,
          1310.64,
          1218,
          1300,
          1250,
          1800,
          890,
          442,
          750,
          1650,
          442,
          1400,
          853.44,
          1775,
          700,
          1300,
          890,
          1700,
          1400,
          1250,
          934,
          1200,
          800,
          1625,
          1356.6648,
          1900,
          1310.64,
          1310.64,
          1450,
          1310.64,
          1100,
          1400,
          1524,
          890,
          1128.3696,
          1100,
          1775,
          1200,
          1850,
          1800,
          1000,
          1775,
          1000,
          2136,
          1100,
          1799,
          1850,
          1000,
          1219.2,
          1775,
          1400,
          1500,
          1600,
          1400,
          1350,
          1170,
          940,
          1400,
          1524,
          1775,
          1402.08,
          439,
          1700,
          442,
          1850,
          1800,
          1200,
          1330,
          442,
          1600,
          1219.2,
          1500,
          1310.64,
          1450,
          1650,
          1227,
          1200,
          1650,
          1700,
          1100,
          1300,
          1200,
          1280.16,
          1000,
          1310.64,
          1750,
          1600,
          1900,
          2100,
          442,
          1261,
          1000,
          800,
          1500,
          1300,
          1000,
          1310.64,
          1200,
          1775,
          890,
          1901,
          168,
          1550,
          1500,
          1450,
          1200,
          1600,
          1350,
          1500,
          1650,
          800,
          1653,
          1775,
          1800,
          1450,
          1350,
          1524,
          1310.64,
          1500,
          532,
          1089,
          1775,
          700,
          1380,
          1000,
          950,
          1402.08,
          1000,
          1799,
          905,
          1,
          750,
          1200,
          1300,
          1300,
          1400,
          890,
          894,
          872,
          1473,
          1645,
          1550,
          1550,
          1371.6,
          1500,
          1000,
          1200,
          1800,
          853.44,
          1500,
          1200,
          1250,
          1775,
          1000,
          1000,
          1775,
          750,
          1200,
          1200,
          1625,
          1371.6,
          1775,
          890,
          1350,
          350,
          2000,
          775,
          1200,
          1600,
          1059,
          1300,
          11000,
          1650,
          1400,
          1500,
          1500,
          1706.88,
          1248,
          1040,
          1400,
          1754,
          1700,
          905,
          1250,
          1900,
          1040,
          1219.2,
          900,
          1600,
          1200,
          1500,
          1800,
          1775,
          1400,
          1550,
          1250,
          1310.64,
          1380,
          1100,
          1800,
          1700,
          1219.2,
          1219.2,
          1500,
          157.8864,
          650,
          1250,
          1850,
          1400,
          905,
          1100,
          1500,
          1775,
          1442,
          1524,
          1300,
          1550,
          1200,
          1200,
          1625,
          1775,
          1100,
          890,
          934,
          1300,
          1200,
          1,
          1700,
          1550,
          1200,
          1296,
          1650,
          1240,
          1500,
          1500,
          1100,
          950,
          1219.2,
          1050,
          1250,
          800,
          1450,
          1317,
          1650,
          1300,
          1750,
          1750,
          1250,
          1150,
          1775,
          890,
          1250,
          1400,
          1219.2,
          800,
          1450,
          1600,
          1600,
          1260,
          1310.64,
          1310.64,
          1679,
          1100,
          1650,
          1250,
          1775,
          1500,
          1700,
          1700,
          157.8864,
          1600,
          2285,
          1,
          1400,
          1296,
          1000,
          1260,
          1170,
          1560,
          1400,
          1300,
          1170,
          1300,
          1350,
          1150,
          1250,
          1450,
          442,
          1396,
          982,
          934,
          1850,
          1550,
          1580,
          1268,
          1676.4,
          1450,
          1100,
          1524,
          1300,
          200,
          600,
          1310.64,
          1300,
          1752.6,
          441,
          1170,
          1310.64,
          1100,
          1300,
          950,
          442,
          1100,
          1450,
          1,
          1500,
          1350,
          1180,
          1100,
          650,
          1338,
          533,
          1390.8024,
          1170,
          1250,
          1100,
          900,
          1775,
          934,
          1500,
          1650,
          1,
          800,
          1350,
          1700,
          1100,
          1400,
          1200,
          800,
          1144,
          1350,
          1000,
          1200,
          1300,
          894,
          1,
          1300,
          1500,
          1600,
          13,
          1300,
          1800,
          1250,
          1040,
          1250,
          1600,
          1600,
          944,
          1650,
          1250,
          1350,
          2500,
          600,
          800,
          1300,
          1400,
          650,
          1038.5,
          940,
          1000,
          1050,
          950,
          1402.08,
          1901,
          1219.2,
          1400,
          1020,
          1250,
          1550,
          1877,
          1000,
          1300,
          981,
          690,
          1650,
          1000,
          1100,
          157.8864,
          1900,
          973,
          1250,
          3280,
          1,
          1,
          4001,
          1425,
          1400,
          1300,
          700,
          1556,
          1100,
          1350,
          1550,
          1775,
          1250,
          1310.64,
          1500,
          1250,
          1700,
          1040,
          1600,
          774,
          1250,
          1100,
          1550,
          1650,
          890,
          1700,
          1219.2,
          1450,
          1,
          1500,
          1700,
          1260,
          1400,
          1850,
          150,
          750,
          1400,
          1752.6,
          1650,
          1400,
          1200,
          1400,
          940,
          1200,
          190164,
          800,
          13,
          1800,
          1100,
          850,
          1260,
          1310.64,
          1400,
          1600,
          1650,
          1219.2,
          1100,
          1400,
          180,
          1219.2,
          1200,
          1599,
          1219.2,
          900,
          1200,
          825,
          600,
          1150,
          1600,
          1100,
          1000,
          1250,
          1100,
          1400,
          125,
          1100,
          1371.6,
          1100,
          1400,
          110,
          1422,
          1100,
          1550,
          1550,
          1310.64,
          763,
          1100,
          1750,
          1500,
          1100,
          1350,
          1200,
          1400,
          1200,
          1450,
          1800,
          1000,
          1100,
          680,
          1,
          1100,
          1400,
          1700,
          1700,
          650,
          1524,
          1500,
          1200,
          1050,
          1200,
          1300,
          1450,
          1450,
          1200,
          1550,
          995,
          1300,
          1800,
          1450,
          1000,
          695,
          1100,
          1706.88,
          1456,
          1500,
          853.44,
          1650,
          1300,
          1642,
          1200,
          1450,
          3280,
          1219.2,
          758,
          1350,
          1525,
          1700,
          1100,
          800,
          950,
          1100,
          200,
          1901,
          1600,
          1100,
          1066.8,
          1700,
          1200,
          550,
          1100,
          1524,
          900,
          688,
          300,
          1186,
          1300,
          1200,
          1210,
          1100,
          100,
          3825,
          1706.88,
          110000,
          1450,
          1680,
          1350,
          1450,
          1300,
          1200,
          1000,
          1350,
          1500,
          185,
          995,
          1200,
          1550,
          1400,
          1200,
          1400,
          1383.792,
          50,
          1500,
          1650,
          1250,
          3800,
          1219.2,
          1250,
          1859.28,
          1450,
          600,
          1450,
          1700,
          600,
          1050,
          1550,
          1700,
          600,
          1310.64,
          940,
          995,
          1400,
          1600,
          914.4,
          4287,
          900,
          700,
          1400,
          808,
          1550,
          1187.5,
          1400,
          1310.64,
          1250,
          1550,
          1000,
          1310.64,
          850,
          200,
          150,
          250,
          1300,
          1300,
          1250,
          3845,
          1400,
          250,
          800,
          1250,
          1100,
          1300,
          1100,
          1100,
          1100,
          1250,
          1250,
          1500,
          1700,
          1250,
          1300,
          190164,
          1000,
          600,
          800,
          1100,
          1400,
          1022,
          1300,
          1450,
          1050,
          1100,
          1219.2,
          1250,
          800,
          1310.64,
          1400,
          975,
          1264,
          1250,
          1550,
          1050,
          700,
          1550,
          1100,
          1219.2,
          1219.2,
          800,
          200,
          1200,
          950,
          750,
          850,
          1000,
          1219.2,
          1650,
          1320,
          1550,
          1550,
          1450,
          1700,
          853.44,
          1500,
          1100,
          1200,
          1219.2,
          1350,
          1400,
          1300,
          1550,
          12,
          1300,
          1400,
          1100,
          1310.64,
          1320,
          1250,
          1350,
          1850,
          1150,
          1219.2,
          800,
          1400,
          1300,
          1600,
          1400,
          1200,
          1500,
          1219.2,
          1310.64,
          1300,
          1300,
          1050,
          650,
          1350,
          1219.2,
          1200,
          1310.64,
          850,
          1200,
          1248,
          1310.64,
          775,
          1300,
          1310.64,
          890,
          1219.2,
          1500,
          825,
          1200,
          1200,
          1100,
          1310.64,
          1400,
          3500,
          1250,
          1350,
          1000,
          1310.64,
          1100,
          1200,
          1100,
          1280,
          850,
          1500,
          1250,
          1700,
          1310.64,
          1140,
          1200,
          1250,
          1350,
          1200,
          1200,
          800,
          1800,
          1000,
          1450,
          1450,
          1450,
          900,
          350,
          1100,
          1417.32
         ],
         "xaxis": "x",
         "yaxis": "y"
        }
       ],
       "layout": {
        "barmode": "relative",
        "legend": {
         "tracegroupgap": 0
        },
        "template": {
         "data": {
          "bar": [
           {
            "error_x": {
             "color": "#2a3f5f"
            },
            "error_y": {
             "color": "#2a3f5f"
            },
            "marker": {
             "line": {
              "color": "#E5ECF6",
              "width": 0.5
             },
             "pattern": {
              "fillmode": "overlay",
              "size": 10,
              "solidity": 0.2
             }
            },
            "type": "bar"
           }
          ],
          "barpolar": [
           {
            "marker": {
             "line": {
              "color": "#E5ECF6",
              "width": 0.5
             },
             "pattern": {
              "fillmode": "overlay",
              "size": 10,
              "solidity": 0.2
             }
            },
            "type": "barpolar"
           }
          ],
          "carpet": [
           {
            "aaxis": {
             "endlinecolor": "#2a3f5f",
             "gridcolor": "white",
             "linecolor": "white",
             "minorgridcolor": "white",
             "startlinecolor": "#2a3f5f"
            },
            "baxis": {
             "endlinecolor": "#2a3f5f",
             "gridcolor": "white",
             "linecolor": "white",
             "minorgridcolor": "white",
             "startlinecolor": "#2a3f5f"
            },
            "type": "carpet"
           }
          ],
          "choropleth": [
           {
            "colorbar": {
             "outlinewidth": 0,
             "ticks": ""
            },
            "type": "choropleth"
           }
          ],
          "contour": [
           {
            "colorbar": {
             "outlinewidth": 0,
             "ticks": ""
            },
            "colorscale": [
             [
              0,
              "#0d0887"
             ],
             [
              0.1111111111111111,
              "#46039f"
             ],
             [
              0.2222222222222222,
              "#7201a8"
             ],
             [
              0.3333333333333333,
              "#9c179e"
             ],
             [
              0.4444444444444444,
              "#bd3786"
             ],
             [
              0.5555555555555556,
              "#d8576b"
             ],
             [
              0.6666666666666666,
              "#ed7953"
             ],
             [
              0.7777777777777778,
              "#fb9f3a"
             ],
             [
              0.8888888888888888,
              "#fdca26"
             ],
             [
              1,
              "#f0f921"
             ]
            ],
            "type": "contour"
           }
          ],
          "contourcarpet": [
           {
            "colorbar": {
             "outlinewidth": 0,
             "ticks": ""
            },
            "type": "contourcarpet"
           }
          ],
          "heatmap": [
           {
            "colorbar": {
             "outlinewidth": 0,
             "ticks": ""
            },
            "colorscale": [
             [
              0,
              "#0d0887"
             ],
             [
              0.1111111111111111,
              "#46039f"
             ],
             [
              0.2222222222222222,
              "#7201a8"
             ],
             [
              0.3333333333333333,
              "#9c179e"
             ],
             [
              0.4444444444444444,
              "#bd3786"
             ],
             [
              0.5555555555555556,
              "#d8576b"
             ],
             [
              0.6666666666666666,
              "#ed7953"
             ],
             [
              0.7777777777777778,
              "#fb9f3a"
             ],
             [
              0.8888888888888888,
              "#fdca26"
             ],
             [
              1,
              "#f0f921"
             ]
            ],
            "type": "heatmap"
           }
          ],
          "heatmapgl": [
           {
            "colorbar": {
             "outlinewidth": 0,
             "ticks": ""
            },
            "colorscale": [
             [
              0,
              "#0d0887"
             ],
             [
              0.1111111111111111,
              "#46039f"
             ],
             [
              0.2222222222222222,
              "#7201a8"
             ],
             [
              0.3333333333333333,
              "#9c179e"
             ],
             [
              0.4444444444444444,
              "#bd3786"
             ],
             [
              0.5555555555555556,
              "#d8576b"
             ],
             [
              0.6666666666666666,
              "#ed7953"
             ],
             [
              0.7777777777777778,
              "#fb9f3a"
             ],
             [
              0.8888888888888888,
              "#fdca26"
             ],
             [
              1,
              "#f0f921"
             ]
            ],
            "type": "heatmapgl"
           }
          ],
          "histogram": [
           {
            "marker": {
             "pattern": {
              "fillmode": "overlay",
              "size": 10,
              "solidity": 0.2
             }
            },
            "type": "histogram"
           }
          ],
          "histogram2d": [
           {
            "colorbar": {
             "outlinewidth": 0,
             "ticks": ""
            },
            "colorscale": [
             [
              0,
              "#0d0887"
             ],
             [
              0.1111111111111111,
              "#46039f"
             ],
             [
              0.2222222222222222,
              "#7201a8"
             ],
             [
              0.3333333333333333,
              "#9c179e"
             ],
             [
              0.4444444444444444,
              "#bd3786"
             ],
             [
              0.5555555555555556,
              "#d8576b"
             ],
             [
              0.6666666666666666,
              "#ed7953"
             ],
             [
              0.7777777777777778,
              "#fb9f3a"
             ],
             [
              0.8888888888888888,
              "#fdca26"
             ],
             [
              1,
              "#f0f921"
             ]
            ],
            "type": "histogram2d"
           }
          ],
          "histogram2dcontour": [
           {
            "colorbar": {
             "outlinewidth": 0,
             "ticks": ""
            },
            "colorscale": [
             [
              0,
              "#0d0887"
             ],
             [
              0.1111111111111111,
              "#46039f"
             ],
             [
              0.2222222222222222,
              "#7201a8"
             ],
             [
              0.3333333333333333,
              "#9c179e"
             ],
             [
              0.4444444444444444,
              "#bd3786"
             ],
             [
              0.5555555555555556,
              "#d8576b"
             ],
             [
              0.6666666666666666,
              "#ed7953"
             ],
             [
              0.7777777777777778,
              "#fb9f3a"
             ],
             [
              0.8888888888888888,
              "#fdca26"
             ],
             [
              1,
              "#f0f921"
             ]
            ],
            "type": "histogram2dcontour"
           }
          ],
          "mesh3d": [
           {
            "colorbar": {
             "outlinewidth": 0,
             "ticks": ""
            },
            "type": "mesh3d"
           }
          ],
          "parcoords": [
           {
            "line": {
             "colorbar": {
              "outlinewidth": 0,
              "ticks": ""
             }
            },
            "type": "parcoords"
           }
          ],
          "pie": [
           {
            "automargin": true,
            "type": "pie"
           }
          ],
          "scatter": [
           {
            "marker": {
             "colorbar": {
              "outlinewidth": 0,
              "ticks": ""
             }
            },
            "type": "scatter"
           }
          ],
          "scatter3d": [
           {
            "line": {
             "colorbar": {
              "outlinewidth": 0,
              "ticks": ""
             }
            },
            "marker": {
             "colorbar": {
              "outlinewidth": 0,
              "ticks": ""
             }
            },
            "type": "scatter3d"
           }
          ],
          "scattercarpet": [
           {
            "marker": {
             "colorbar": {
              "outlinewidth": 0,
              "ticks": ""
             }
            },
            "type": "scattercarpet"
           }
          ],
          "scattergeo": [
           {
            "marker": {
             "colorbar": {
              "outlinewidth": 0,
              "ticks": ""
             }
            },
            "type": "scattergeo"
           }
          ],
          "scattergl": [
           {
            "marker": {
             "colorbar": {
              "outlinewidth": 0,
              "ticks": ""
             }
            },
            "type": "scattergl"
           }
          ],
          "scattermapbox": [
           {
            "marker": {
             "colorbar": {
              "outlinewidth": 0,
              "ticks": ""
             }
            },
            "type": "scattermapbox"
           }
          ],
          "scatterpolar": [
           {
            "marker": {
             "colorbar": {
              "outlinewidth": 0,
              "ticks": ""
             }
            },
            "type": "scatterpolar"
           }
          ],
          "scatterpolargl": [
           {
            "marker": {
             "colorbar": {
              "outlinewidth": 0,
              "ticks": ""
             }
            },
            "type": "scatterpolargl"
           }
          ],
          "scatterternary": [
           {
            "marker": {
             "colorbar": {
              "outlinewidth": 0,
              "ticks": ""
             }
            },
            "type": "scatterternary"
           }
          ],
          "surface": [
           {
            "colorbar": {
             "outlinewidth": 0,
             "ticks": ""
            },
            "colorscale": [
             [
              0,
              "#0d0887"
             ],
             [
              0.1111111111111111,
              "#46039f"
             ],
             [
              0.2222222222222222,
              "#7201a8"
             ],
             [
              0.3333333333333333,
              "#9c179e"
             ],
             [
              0.4444444444444444,
              "#bd3786"
             ],
             [
              0.5555555555555556,
              "#d8576b"
             ],
             [
              0.6666666666666666,
              "#ed7953"
             ],
             [
              0.7777777777777778,
              "#fb9f3a"
             ],
             [
              0.8888888888888888,
              "#fdca26"
             ],
             [
              1,
              "#f0f921"
             ]
            ],
            "type": "surface"
           }
          ],
          "table": [
           {
            "cells": {
             "fill": {
              "color": "#EBF0F8"
             },
             "line": {
              "color": "white"
             }
            },
            "header": {
             "fill": {
              "color": "#C8D4E3"
             },
             "line": {
              "color": "white"
             }
            },
            "type": "table"
           }
          ]
         },
         "layout": {
          "annotationdefaults": {
           "arrowcolor": "#2a3f5f",
           "arrowhead": 0,
           "arrowwidth": 1
          },
          "autotypenumbers": "strict",
          "coloraxis": {
           "colorbar": {
            "outlinewidth": 0,
            "ticks": ""
           }
          },
          "colorscale": {
           "diverging": [
            [
             0,
             "#8e0152"
            ],
            [
             0.1,
             "#c51b7d"
            ],
            [
             0.2,
             "#de77ae"
            ],
            [
             0.3,
             "#f1b6da"
            ],
            [
             0.4,
             "#fde0ef"
            ],
            [
             0.5,
             "#f7f7f7"
            ],
            [
             0.6,
             "#e6f5d0"
            ],
            [
             0.7,
             "#b8e186"
            ],
            [
             0.8,
             "#7fbc41"
            ],
            [
             0.9,
             "#4d9221"
            ],
            [
             1,
             "#276419"
            ]
           ],
           "sequential": [
            [
             0,
             "#0d0887"
            ],
            [
             0.1111111111111111,
             "#46039f"
            ],
            [
             0.2222222222222222,
             "#7201a8"
            ],
            [
             0.3333333333333333,
             "#9c179e"
            ],
            [
             0.4444444444444444,
             "#bd3786"
            ],
            [
             0.5555555555555556,
             "#d8576b"
            ],
            [
             0.6666666666666666,
             "#ed7953"
            ],
            [
             0.7777777777777778,
             "#fb9f3a"
            ],
            [
             0.8888888888888888,
             "#fdca26"
            ],
            [
             1,
             "#f0f921"
            ]
           ],
           "sequentialminus": [
            [
             0,
             "#0d0887"
            ],
            [
             0.1111111111111111,
             "#46039f"
            ],
            [
             0.2222222222222222,
             "#7201a8"
            ],
            [
             0.3333333333333333,
             "#9c179e"
            ],
            [
             0.4444444444444444,
             "#bd3786"
            ],
            [
             0.5555555555555556,
             "#d8576b"
            ],
            [
             0.6666666666666666,
             "#ed7953"
            ],
            [
             0.7777777777777778,
             "#fb9f3a"
            ],
            [
             0.8888888888888888,
             "#fdca26"
            ],
            [
             1,
             "#f0f921"
            ]
           ]
          },
          "colorway": [
           "#636efa",
           "#EF553B",
           "#00cc96",
           "#ab63fa",
           "#FFA15A",
           "#19d3f3",
           "#FF6692",
           "#B6E880",
           "#FF97FF",
           "#FECB52"
          ],
          "font": {
           "color": "#2a3f5f"
          },
          "geo": {
           "bgcolor": "white",
           "lakecolor": "white",
           "landcolor": "#E5ECF6",
           "showlakes": true,
           "showland": true,
           "subunitcolor": "white"
          },
          "hoverlabel": {
           "align": "left"
          },
          "hovermode": "closest",
          "mapbox": {
           "style": "light"
          },
          "paper_bgcolor": "white",
          "plot_bgcolor": "#E5ECF6",
          "polar": {
           "angularaxis": {
            "gridcolor": "white",
            "linecolor": "white",
            "ticks": ""
           },
           "bgcolor": "#E5ECF6",
           "radialaxis": {
            "gridcolor": "white",
            "linecolor": "white",
            "ticks": ""
           }
          },
          "scene": {
           "xaxis": {
            "backgroundcolor": "#E5ECF6",
            "gridcolor": "white",
            "gridwidth": 2,
            "linecolor": "white",
            "showbackground": true,
            "ticks": "",
            "zerolinecolor": "white"
           },
           "yaxis": {
            "backgroundcolor": "#E5ECF6",
            "gridcolor": "white",
            "gridwidth": 2,
            "linecolor": "white",
            "showbackground": true,
            "ticks": "",
            "zerolinecolor": "white"
           },
           "zaxis": {
            "backgroundcolor": "#E5ECF6",
            "gridcolor": "white",
            "gridwidth": 2,
            "linecolor": "white",
            "showbackground": true,
            "ticks": "",
            "zerolinecolor": "white"
           }
          },
          "shapedefaults": {
           "line": {
            "color": "#2a3f5f"
           }
          },
          "ternary": {
           "aaxis": {
            "gridcolor": "white",
            "linecolor": "white",
            "ticks": ""
           },
           "baxis": {
            "gridcolor": "white",
            "linecolor": "white",
            "ticks": ""
           },
           "bgcolor": "#E5ECF6",
           "caxis": {
            "gridcolor": "white",
            "linecolor": "white",
            "ticks": ""
           }
          },
          "title": {
           "x": 0.05
          },
          "xaxis": {
           "automargin": true,
           "gridcolor": "white",
           "linecolor": "white",
           "ticks": "",
           "title": {
            "standoff": 15
           },
           "zerolinecolor": "white",
           "zerolinewidth": 2
          },
          "yaxis": {
           "automargin": true,
           "gridcolor": "white",
           "linecolor": "white",
           "ticks": "",
           "title": {
            "standoff": 15
           },
           "zerolinecolor": "white",
           "zerolinewidth": 2
          }
         }
        },
        "title": {
         "text": "Coffee: altitude mean meters"
        },
        "xaxis": {
         "anchor": "y",
         "domain": [
          0,
          1
         ],
         "title": {
          "text": "altitude mean meters"
         }
        },
        "yaxis": {
         "anchor": "x",
         "domain": [
          0,
          1
         ],
         "title": {
          "text": "count"
         }
        }
       }
      }
     },
     "metadata": {},
     "output_type": "display_data"
    }
   ],
   "source": [
    "for column in coffee_df_reduced.columns:\n",
    "    fig = px.histogram(\n",
    "        coffee_df_reduced, \n",
    "        x = column, \n",
    "        title = \"Coffee: \" + str(column)\n",
    "    )\n",
    "    fig.show()"
   ]
  },
  {
   "cell_type": "code",
   "execution_count": 127,
   "id": "5fcf6721",
   "metadata": {},
   "outputs": [
    {
     "data": {
      "text/plain": [
       "array([[<AxesSubplot:title={'center':'Number of Bags'}>,\n",
       "        <AxesSubplot:title={'center':'Aroma'}>,\n",
       "        <AxesSubplot:title={'center':'Flavor'}>,\n",
       "        <AxesSubplot:title={'center':'Aftertaste'}>],\n",
       "       [<AxesSubplot:title={'center':'Acidity'}>,\n",
       "        <AxesSubplot:title={'center':'Body'}>,\n",
       "        <AxesSubplot:title={'center':'Balance'}>,\n",
       "        <AxesSubplot:title={'center':'Uniformity'}>],\n",
       "       [<AxesSubplot:title={'center':'Clean Cup'}>,\n",
       "        <AxesSubplot:title={'center':'Sweetness'}>,\n",
       "        <AxesSubplot:title={'center':'Cupper Points'}>,\n",
       "        <AxesSubplot:title={'center':'Total Cup Points'}>],\n",
       "       [<AxesSubplot:title={'center':'Moisture'}>,\n",
       "        <AxesSubplot:title={'center':'Category One Defects'}>,\n",
       "        <AxesSubplot:title={'center':'Quakers'}>,\n",
       "        <AxesSubplot:title={'center':'Category Two Defects'}>],\n",
       "       [<AxesSubplot:title={'center':'altitude low meters'}>,\n",
       "        <AxesSubplot:title={'center':'altitude high meters'}>,\n",
       "        <AxesSubplot:title={'center':'altitude mean meters'}>,\n",
       "        <AxesSubplot:>]], dtype=object)"
      ]
     },
     "execution_count": 127,
     "metadata": {},
     "output_type": "execute_result"
    },
    {
     "data": {
      "image/png": "[encoded data removed]",
      "text/plain": [
       "<Figure size 3600x1800 with 20 Axes>"
      ]
     },
     "metadata": {
      "needs_background": "light"
     },
     "output_type": "display_data"
    }
   ],
   "source": [
    "coffee_df_reduced.hist(bins=100, figsize = (50,25))"
   ]
  },
  {
   "cell_type": "markdown",
   "id": "becoming-journalism",
   "metadata": {},
   "source": [
    "## cleaning outliers\n",
    "* define heuristics that classify outliers for each column\n",
    "* set outliers to median  "
   ]
  },
  {
   "cell_type": "code",
   "execution_count": 140,
   "id": "a3133773",
   "metadata": {},
   "outputs": [
    {
     "name": "stderr",
     "output_type": "stream",
     "text": [
      "/Users/anafink/OneDrive - bwedu/Bachelor MoBi/5. Fachsemester/Python Praktikum/advanced_python_2021-22_HD/venv/lib/python3.8/site-packages/pandas/core/frame.py:5039: SettingWithCopyWarning:\n",
      "\n",
      "\n",
      "A value is trying to be set on a copy of a slice from a DataFrame\n",
      "\n",
      "See the caveats in the documentation: https://pandas.pydata.org/pandas-docs/stable/user_guide/indexing.html#returning-a-view-versus-a-copy\n",
      "\n",
      "/var/folders/vt/szjx9jz17v3fmxv01s8bfkg40000gn/T/ipykernel_25417/1995201262.py:8: SettingWithCopyWarning:\n",
      "\n",
      "\n",
      "A value is trying to be set on a copy of a slice from a DataFrame.\n",
      "Try using .loc[row_indexer,col_indexer] = value instead\n",
      "\n",
      "See the caveats in the documentation: https://pandas.pydata.org/pandas-docs/stable/user_guide/indexing.html#returning-a-view-versus-a-copy\n",
      "\n",
      "/Users/anafink/OneDrive - bwedu/Bachelor MoBi/5. Fachsemester/Python Praktikum/advanced_python_2021-22_HD/venv/lib/python3.8/site-packages/pandas/core/indexing.py:1732: SettingWithCopyWarning:\n",
      "\n",
      "\n",
      "A value is trying to be set on a copy of a slice from a DataFrame\n",
      "\n",
      "See the caveats in the documentation: https://pandas.pydata.org/pandas-docs/stable/user_guide/indexing.html#returning-a-view-versus-a-copy\n",
      "\n",
      "/Users/anafink/OneDrive - bwedu/Bachelor MoBi/5. Fachsemester/Python Praktikum/advanced_python_2021-22_HD/venv/lib/python3.8/site-packages/pandas/core/indexing.py:723: SettingWithCopyWarning:\n",
      "\n",
      "\n",
      "A value is trying to be set on a copy of a slice from a DataFrame\n",
      "\n",
      "See the caveats in the documentation: https://pandas.pydata.org/pandas-docs/stable/user_guide/indexing.html#returning-a-view-versus-a-copy\n",
      "\n",
      "/Users/anafink/OneDrive - bwedu/Bachelor MoBi/5. Fachsemester/Python Praktikum/advanced_python_2021-22_HD/venv/lib/python3.8/site-packages/pandas/core/generic.py:6392: SettingWithCopyWarning:\n",
      "\n",
      "\n",
      "A value is trying to be set on a copy of a slice from a DataFrame\n",
      "\n",
      "See the caveats in the documentation: https://pandas.pydata.org/pandas-docs/stable/user_guide/indexing.html#returning-a-view-versus-a-copy\n",
      "\n",
      "/var/folders/vt/szjx9jz17v3fmxv01s8bfkg40000gn/T/ipykernel_25417/1995201262.py:8: SettingWithCopyWarning:\n",
      "\n",
      "\n",
      "A value is trying to be set on a copy of a slice from a DataFrame.\n",
      "Try using .loc[row_indexer,col_indexer] = value instead\n",
      "\n",
      "See the caveats in the documentation: https://pandas.pydata.org/pandas-docs/stable/user_guide/indexing.html#returning-a-view-versus-a-copy\n",
      "\n",
      "/Users/anafink/OneDrive - bwedu/Bachelor MoBi/5. Fachsemester/Python Praktikum/advanced_python_2021-22_HD/venv/lib/python3.8/site-packages/pandas/core/indexing.py:1732: SettingWithCopyWarning:\n",
      "\n",
      "\n",
      "A value is trying to be set on a copy of a slice from a DataFrame\n",
      "\n",
      "See the caveats in the documentation: https://pandas.pydata.org/pandas-docs/stable/user_guide/indexing.html#returning-a-view-versus-a-copy\n",
      "\n",
      "/Users/anafink/OneDrive - bwedu/Bachelor MoBi/5. Fachsemester/Python Praktikum/advanced_python_2021-22_HD/venv/lib/python3.8/site-packages/pandas/core/indexing.py:723: SettingWithCopyWarning:\n",
      "\n",
      "\n",
      "A value is trying to be set on a copy of a slice from a DataFrame\n",
      "\n",
      "See the caveats in the documentation: https://pandas.pydata.org/pandas-docs/stable/user_guide/indexing.html#returning-a-view-versus-a-copy\n",
      "\n",
      "/Users/anafink/OneDrive - bwedu/Bachelor MoBi/5. Fachsemester/Python Praktikum/advanced_python_2021-22_HD/venv/lib/python3.8/site-packages/pandas/core/generic.py:6392: SettingWithCopyWarning:\n",
      "\n",
      "\n",
      "A value is trying to be set on a copy of a slice from a DataFrame\n",
      "\n",
      "See the caveats in the documentation: https://pandas.pydata.org/pandas-docs/stable/user_guide/indexing.html#returning-a-view-versus-a-copy\n",
      "\n",
      "/var/folders/vt/szjx9jz17v3fmxv01s8bfkg40000gn/T/ipykernel_25417/1995201262.py:8: SettingWithCopyWarning:\n",
      "\n",
      "\n",
      "A value is trying to be set on a copy of a slice from a DataFrame.\n",
      "Try using .loc[row_indexer,col_indexer] = value instead\n",
      "\n",
      "See the caveats in the documentation: https://pandas.pydata.org/pandas-docs/stable/user_guide/indexing.html#returning-a-view-versus-a-copy\n",
      "\n",
      "/Users/anafink/OneDrive - bwedu/Bachelor MoBi/5. Fachsemester/Python Praktikum/advanced_python_2021-22_HD/venv/lib/python3.8/site-packages/pandas/core/indexing.py:1732: SettingWithCopyWarning:\n",
      "\n",
      "\n",
      "A value is trying to be set on a copy of a slice from a DataFrame\n",
      "\n",
      "See the caveats in the documentation: https://pandas.pydata.org/pandas-docs/stable/user_guide/indexing.html#returning-a-view-versus-a-copy\n",
      "\n",
      "/Users/anafink/OneDrive - bwedu/Bachelor MoBi/5. Fachsemester/Python Praktikum/advanced_python_2021-22_HD/venv/lib/python3.8/site-packages/pandas/core/indexing.py:723: SettingWithCopyWarning:\n",
      "\n",
      "\n",
      "A value is trying to be set on a copy of a slice from a DataFrame\n",
      "\n",
      "See the caveats in the documentation: https://pandas.pydata.org/pandas-docs/stable/user_guide/indexing.html#returning-a-view-versus-a-copy\n",
      "\n",
      "/Users/anafink/OneDrive - bwedu/Bachelor MoBi/5. Fachsemester/Python Praktikum/advanced_python_2021-22_HD/venv/lib/python3.8/site-packages/pandas/core/generic.py:6392: SettingWithCopyWarning:\n",
      "\n",
      "\n",
      "A value is trying to be set on a copy of a slice from a DataFrame\n",
      "\n",
      "See the caveats in the documentation: https://pandas.pydata.org/pandas-docs/stable/user_guide/indexing.html#returning-a-view-versus-a-copy\n",
      "\n",
      "/var/folders/vt/szjx9jz17v3fmxv01s8bfkg40000gn/T/ipykernel_25417/1995201262.py:8: SettingWithCopyWarning:\n",
      "\n",
      "\n",
      "A value is trying to be set on a copy of a slice from a DataFrame.\n",
      "Try using .loc[row_indexer,col_indexer] = value instead\n",
      "\n",
      "See the caveats in the documentation: https://pandas.pydata.org/pandas-docs/stable/user_guide/indexing.html#returning-a-view-versus-a-copy\n",
      "\n",
      "/Users/anafink/OneDrive - bwedu/Bachelor MoBi/5. Fachsemester/Python Praktikum/advanced_python_2021-22_HD/venv/lib/python3.8/site-packages/pandas/core/indexing.py:1732: SettingWithCopyWarning:\n",
      "\n",
      "\n",
      "A value is trying to be set on a copy of a slice from a DataFrame\n",
      "\n",
      "See the caveats in the documentation: https://pandas.pydata.org/pandas-docs/stable/user_guide/indexing.html#returning-a-view-versus-a-copy\n",
      "\n",
      "/Users/anafink/OneDrive - bwedu/Bachelor MoBi/5. Fachsemester/Python Praktikum/advanced_python_2021-22_HD/venv/lib/python3.8/site-packages/pandas/core/indexing.py:723: SettingWithCopyWarning:\n",
      "\n",
      "\n",
      "A value is trying to be set on a copy of a slice from a DataFrame\n",
      "\n",
      "See the caveats in the documentation: https://pandas.pydata.org/pandas-docs/stable/user_guide/indexing.html#returning-a-view-versus-a-copy\n",
      "\n",
      "/Users/anafink/OneDrive - bwedu/Bachelor MoBi/5. Fachsemester/Python Praktikum/advanced_python_2021-22_HD/venv/lib/python3.8/site-packages/pandas/core/generic.py:6392: SettingWithCopyWarning:\n",
      "\n",
      "\n",
      "A value is trying to be set on a copy of a slice from a DataFrame\n",
      "\n",
      "See the caveats in the documentation: https://pandas.pydata.org/pandas-docs/stable/user_guide/indexing.html#returning-a-view-versus-a-copy\n",
      "\n",
      "/var/folders/vt/szjx9jz17v3fmxv01s8bfkg40000gn/T/ipykernel_25417/1995201262.py:8: SettingWithCopyWarning:\n",
      "\n",
      "\n",
      "A value is trying to be set on a copy of a slice from a DataFrame.\n",
      "Try using .loc[row_indexer,col_indexer] = value instead\n",
      "\n",
      "See the caveats in the documentation: https://pandas.pydata.org/pandas-docs/stable/user_guide/indexing.html#returning-a-view-versus-a-copy\n",
      "\n",
      "/Users/anafink/OneDrive - bwedu/Bachelor MoBi/5. Fachsemester/Python Praktikum/advanced_python_2021-22_HD/venv/lib/python3.8/site-packages/pandas/core/indexing.py:1732: SettingWithCopyWarning:\n",
      "\n",
      "\n",
      "A value is trying to be set on a copy of a slice from a DataFrame\n",
      "\n",
      "See the caveats in the documentation: https://pandas.pydata.org/pandas-docs/stable/user_guide/indexing.html#returning-a-view-versus-a-copy\n",
      "\n",
      "/Users/anafink/OneDrive - bwedu/Bachelor MoBi/5. Fachsemester/Python Praktikum/advanced_python_2021-22_HD/venv/lib/python3.8/site-packages/pandas/core/indexing.py:723: SettingWithCopyWarning:\n",
      "\n",
      "\n",
      "A value is trying to be set on a copy of a slice from a DataFrame\n",
      "\n",
      "See the caveats in the documentation: https://pandas.pydata.org/pandas-docs/stable/user_guide/indexing.html#returning-a-view-versus-a-copy\n",
      "\n",
      "/Users/anafink/OneDrive - bwedu/Bachelor MoBi/5. Fachsemester/Python Praktikum/advanced_python_2021-22_HD/venv/lib/python3.8/site-packages/pandas/core/generic.py:6392: SettingWithCopyWarning:\n",
      "\n",
      "\n",
      "A value is trying to be set on a copy of a slice from a DataFrame\n",
      "\n",
      "See the caveats in the documentation: https://pandas.pydata.org/pandas-docs/stable/user_guide/indexing.html#returning-a-view-versus-a-copy\n",
      "\n",
      "/var/folders/vt/szjx9jz17v3fmxv01s8bfkg40000gn/T/ipykernel_25417/1995201262.py:8: SettingWithCopyWarning:\n",
      "\n",
      "\n",
      "A value is trying to be set on a copy of a slice from a DataFrame.\n",
      "Try using .loc[row_indexer,col_indexer] = value instead\n",
      "\n",
      "See the caveats in the documentation: https://pandas.pydata.org/pandas-docs/stable/user_guide/indexing.html#returning-a-view-versus-a-copy\n",
      "\n",
      "/Users/anafink/OneDrive - bwedu/Bachelor MoBi/5. Fachsemester/Python Praktikum/advanced_python_2021-22_HD/venv/lib/python3.8/site-packages/pandas/core/indexing.py:1732: SettingWithCopyWarning:\n",
      "\n",
      "\n",
      "A value is trying to be set on a copy of a slice from a DataFrame\n",
      "\n",
      "See the caveats in the documentation: https://pandas.pydata.org/pandas-docs/stable/user_guide/indexing.html#returning-a-view-versus-a-copy\n",
      "\n",
      "/Users/anafink/OneDrive - bwedu/Bachelor MoBi/5. Fachsemester/Python Praktikum/advanced_python_2021-22_HD/venv/lib/python3.8/site-packages/pandas/core/indexing.py:723: SettingWithCopyWarning:\n",
      "\n",
      "\n",
      "A value is trying to be set on a copy of a slice from a DataFrame\n",
      "\n",
      "See the caveats in the documentation: https://pandas.pydata.org/pandas-docs/stable/user_guide/indexing.html#returning-a-view-versus-a-copy\n",
      "\n",
      "/Users/anafink/OneDrive - bwedu/Bachelor MoBi/5. Fachsemester/Python Praktikum/advanced_python_2021-22_HD/venv/lib/python3.8/site-packages/pandas/core/generic.py:6392: SettingWithCopyWarning:\n",
      "\n",
      "\n",
      "A value is trying to be set on a copy of a slice from a DataFrame\n",
      "\n",
      "See the caveats in the documentation: https://pandas.pydata.org/pandas-docs/stable/user_guide/indexing.html#returning-a-view-versus-a-copy\n",
      "\n",
      "/var/folders/vt/szjx9jz17v3fmxv01s8bfkg40000gn/T/ipykernel_25417/1995201262.py:8: SettingWithCopyWarning:\n",
      "\n",
      "\n",
      "A value is trying to be set on a copy of a slice from a DataFrame.\n",
      "Try using .loc[row_indexer,col_indexer] = value instead\n",
      "\n",
      "See the caveats in the documentation: https://pandas.pydata.org/pandas-docs/stable/user_guide/indexing.html#returning-a-view-versus-a-copy\n",
      "\n",
      "/Users/anafink/OneDrive - bwedu/Bachelor MoBi/5. Fachsemester/Python Praktikum/advanced_python_2021-22_HD/venv/lib/python3.8/site-packages/pandas/core/indexing.py:1732: SettingWithCopyWarning:\n",
      "\n",
      "\n",
      "A value is trying to be set on a copy of a slice from a DataFrame\n",
      "\n",
      "See the caveats in the documentation: https://pandas.pydata.org/pandas-docs/stable/user_guide/indexing.html#returning-a-view-versus-a-copy\n",
      "\n",
      "/Users/anafink/OneDrive - bwedu/Bachelor MoBi/5. Fachsemester/Python Praktikum/advanced_python_2021-22_HD/venv/lib/python3.8/site-packages/pandas/core/indexing.py:723: SettingWithCopyWarning:\n",
      "\n",
      "\n",
      "A value is trying to be set on a copy of a slice from a DataFrame\n",
      "\n",
      "See the caveats in the documentation: https://pandas.pydata.org/pandas-docs/stable/user_guide/indexing.html#returning-a-view-versus-a-copy\n",
      "\n",
      "/Users/anafink/OneDrive - bwedu/Bachelor MoBi/5. Fachsemester/Python Praktikum/advanced_python_2021-22_HD/venv/lib/python3.8/site-packages/pandas/core/generic.py:6392: SettingWithCopyWarning:\n",
      "\n",
      "\n",
      "A value is trying to be set on a copy of a slice from a DataFrame\n",
      "\n",
      "See the caveats in the documentation: https://pandas.pydata.org/pandas-docs/stable/user_guide/indexing.html#returning-a-view-versus-a-copy\n",
      "\n",
      "/var/folders/vt/szjx9jz17v3fmxv01s8bfkg40000gn/T/ipykernel_25417/1995201262.py:8: SettingWithCopyWarning:\n",
      "\n",
      "\n",
      "A value is trying to be set on a copy of a slice from a DataFrame.\n",
      "Try using .loc[row_indexer,col_indexer] = value instead\n",
      "\n",
      "See the caveats in the documentation: https://pandas.pydata.org/pandas-docs/stable/user_guide/indexing.html#returning-a-view-versus-a-copy\n",
      "\n",
      "/Users/anafink/OneDrive - bwedu/Bachelor MoBi/5. Fachsemester/Python Praktikum/advanced_python_2021-22_HD/venv/lib/python3.8/site-packages/pandas/core/indexing.py:1732: SettingWithCopyWarning:\n",
      "\n",
      "\n",
      "A value is trying to be set on a copy of a slice from a DataFrame\n",
      "\n",
      "See the caveats in the documentation: https://pandas.pydata.org/pandas-docs/stable/user_guide/indexing.html#returning-a-view-versus-a-copy\n",
      "\n",
      "/Users/anafink/OneDrive - bwedu/Bachelor MoBi/5. Fachsemester/Python Praktikum/advanced_python_2021-22_HD/venv/lib/python3.8/site-packages/pandas/core/indexing.py:723: SettingWithCopyWarning:\n",
      "\n",
      "\n",
      "A value is trying to be set on a copy of a slice from a DataFrame\n",
      "\n",
      "See the caveats in the documentation: https://pandas.pydata.org/pandas-docs/stable/user_guide/indexing.html#returning-a-view-versus-a-copy\n",
      "\n",
      "/Users/anafink/OneDrive - bwedu/Bachelor MoBi/5. Fachsemester/Python Praktikum/advanced_python_2021-22_HD/venv/lib/python3.8/site-packages/pandas/core/generic.py:6392: SettingWithCopyWarning:\n",
      "\n",
      "\n",
      "A value is trying to be set on a copy of a slice from a DataFrame\n",
      "\n",
      "See the caveats in the documentation: https://pandas.pydata.org/pandas-docs/stable/user_guide/indexing.html#returning-a-view-versus-a-copy\n",
      "\n",
      "/var/folders/vt/szjx9jz17v3fmxv01s8bfkg40000gn/T/ipykernel_25417/1995201262.py:8: SettingWithCopyWarning:\n",
      "\n",
      "\n",
      "A value is trying to be set on a copy of a slice from a DataFrame.\n",
      "Try using .loc[row_indexer,col_indexer] = value instead\n",
      "\n",
      "See the caveats in the documentation: https://pandas.pydata.org/pandas-docs/stable/user_guide/indexing.html#returning-a-view-versus-a-copy\n",
      "\n",
      "/Users/anafink/OneDrive - bwedu/Bachelor MoBi/5. Fachsemester/Python Praktikum/advanced_python_2021-22_HD/venv/lib/python3.8/site-packages/pandas/core/indexing.py:1732: SettingWithCopyWarning:\n",
      "\n",
      "\n",
      "A value is trying to be set on a copy of a slice from a DataFrame\n",
      "\n",
      "See the caveats in the documentation: https://pandas.pydata.org/pandas-docs/stable/user_guide/indexing.html#returning-a-view-versus-a-copy\n",
      "\n",
      "/Users/anafink/OneDrive - bwedu/Bachelor MoBi/5. Fachsemester/Python Praktikum/advanced_python_2021-22_HD/venv/lib/python3.8/site-packages/pandas/core/indexing.py:723: SettingWithCopyWarning:\n",
      "\n",
      "\n",
      "A value is trying to be set on a copy of a slice from a DataFrame\n",
      "\n",
      "See the caveats in the documentation: https://pandas.pydata.org/pandas-docs/stable/user_guide/indexing.html#returning-a-view-versus-a-copy\n",
      "\n",
      "/Users/anafink/OneDrive - bwedu/Bachelor MoBi/5. Fachsemester/Python Praktikum/advanced_python_2021-22_HD/venv/lib/python3.8/site-packages/pandas/core/generic.py:6392: SettingWithCopyWarning:\n",
      "\n",
      "\n",
      "A value is trying to be set on a copy of a slice from a DataFrame\n",
      "\n",
      "See the caveats in the documentation: https://pandas.pydata.org/pandas-docs/stable/user_guide/indexing.html#returning-a-view-versus-a-copy\n",
      "\n",
      "/var/folders/vt/szjx9jz17v3fmxv01s8bfkg40000gn/T/ipykernel_25417/1995201262.py:8: SettingWithCopyWarning:\n",
      "\n",
      "\n",
      "A value is trying to be set on a copy of a slice from a DataFrame.\n",
      "Try using .loc[row_indexer,col_indexer] = value instead\n",
      "\n",
      "See the caveats in the documentation: https://pandas.pydata.org/pandas-docs/stable/user_guide/indexing.html#returning-a-view-versus-a-copy\n",
      "\n",
      "/Users/anafink/OneDrive - bwedu/Bachelor MoBi/5. Fachsemester/Python Praktikum/advanced_python_2021-22_HD/venv/lib/python3.8/site-packages/pandas/core/indexing.py:1732: SettingWithCopyWarning:\n",
      "\n",
      "\n",
      "A value is trying to be set on a copy of a slice from a DataFrame\n",
      "\n",
      "See the caveats in the documentation: https://pandas.pydata.org/pandas-docs/stable/user_guide/indexing.html#returning-a-view-versus-a-copy\n",
      "\n",
      "/Users/anafink/OneDrive - bwedu/Bachelor MoBi/5. Fachsemester/Python Praktikum/advanced_python_2021-22_HD/venv/lib/python3.8/site-packages/pandas/core/indexing.py:723: SettingWithCopyWarning:\n",
      "\n",
      "\n",
      "A value is trying to be set on a copy of a slice from a DataFrame\n",
      "\n",
      "See the caveats in the documentation: https://pandas.pydata.org/pandas-docs/stable/user_guide/indexing.html#returning-a-view-versus-a-copy\n",
      "\n",
      "/Users/anafink/OneDrive - bwedu/Bachelor MoBi/5. Fachsemester/Python Praktikum/advanced_python_2021-22_HD/venv/lib/python3.8/site-packages/pandas/core/generic.py:6392: SettingWithCopyWarning:\n",
      "\n",
      "\n",
      "A value is trying to be set on a copy of a slice from a DataFrame\n",
      "\n",
      "See the caveats in the documentation: https://pandas.pydata.org/pandas-docs/stable/user_guide/indexing.html#returning-a-view-versus-a-copy\n",
      "\n",
      "/var/folders/vt/szjx9jz17v3fmxv01s8bfkg40000gn/T/ipykernel_25417/1995201262.py:8: SettingWithCopyWarning:\n",
      "\n",
      "\n",
      "A value is trying to be set on a copy of a slice from a DataFrame.\n",
      "Try using .loc[row_indexer,col_indexer] = value instead\n",
      "\n",
      "See the caveats in the documentation: https://pandas.pydata.org/pandas-docs/stable/user_guide/indexing.html#returning-a-view-versus-a-copy\n",
      "\n",
      "/Users/anafink/OneDrive - bwedu/Bachelor MoBi/5. Fachsemester/Python Praktikum/advanced_python_2021-22_HD/venv/lib/python3.8/site-packages/pandas/core/indexing.py:1732: SettingWithCopyWarning:\n",
      "\n",
      "\n",
      "A value is trying to be set on a copy of a slice from a DataFrame\n",
      "\n",
      "See the caveats in the documentation: https://pandas.pydata.org/pandas-docs/stable/user_guide/indexing.html#returning-a-view-versus-a-copy\n",
      "\n",
      "/Users/anafink/OneDrive - bwedu/Bachelor MoBi/5. Fachsemester/Python Praktikum/advanced_python_2021-22_HD/venv/lib/python3.8/site-packages/pandas/core/indexing.py:723: SettingWithCopyWarning:\n",
      "\n",
      "\n",
      "A value is trying to be set on a copy of a slice from a DataFrame\n",
      "\n",
      "See the caveats in the documentation: https://pandas.pydata.org/pandas-docs/stable/user_guide/indexing.html#returning-a-view-versus-a-copy\n",
      "\n",
      "/Users/anafink/OneDrive - bwedu/Bachelor MoBi/5. Fachsemester/Python Praktikum/advanced_python_2021-22_HD/venv/lib/python3.8/site-packages/pandas/core/generic.py:6392: SettingWithCopyWarning:\n",
      "\n",
      "\n",
      "A value is trying to be set on a copy of a slice from a DataFrame\n",
      "\n",
      "See the caveats in the documentation: https://pandas.pydata.org/pandas-docs/stable/user_guide/indexing.html#returning-a-view-versus-a-copy\n",
      "\n",
      "/var/folders/vt/szjx9jz17v3fmxv01s8bfkg40000gn/T/ipykernel_25417/1995201262.py:8: SettingWithCopyWarning:\n",
      "\n",
      "\n",
      "A value is trying to be set on a copy of a slice from a DataFrame.\n",
      "Try using .loc[row_indexer,col_indexer] = value instead\n",
      "\n",
      "See the caveats in the documentation: https://pandas.pydata.org/pandas-docs/stable/user_guide/indexing.html#returning-a-view-versus-a-copy\n",
      "\n",
      "/Users/anafink/OneDrive - bwedu/Bachelor MoBi/5. Fachsemester/Python Praktikum/advanced_python_2021-22_HD/venv/lib/python3.8/site-packages/pandas/core/indexing.py:1732: SettingWithCopyWarning:\n",
      "\n",
      "\n",
      "A value is trying to be set on a copy of a slice from a DataFrame\n",
      "\n",
      "See the caveats in the documentation: https://pandas.pydata.org/pandas-docs/stable/user_guide/indexing.html#returning-a-view-versus-a-copy\n",
      "\n",
      "/Users/anafink/OneDrive - bwedu/Bachelor MoBi/5. Fachsemester/Python Praktikum/advanced_python_2021-22_HD/venv/lib/python3.8/site-packages/pandas/core/indexing.py:723: SettingWithCopyWarning:\n",
      "\n",
      "\n",
      "A value is trying to be set on a copy of a slice from a DataFrame\n",
      "\n",
      "See the caveats in the documentation: https://pandas.pydata.org/pandas-docs/stable/user_guide/indexing.html#returning-a-view-versus-a-copy\n",
      "\n",
      "/Users/anafink/OneDrive - bwedu/Bachelor MoBi/5. Fachsemester/Python Praktikum/advanced_python_2021-22_HD/venv/lib/python3.8/site-packages/pandas/core/generic.py:6392: SettingWithCopyWarning:\n",
      "\n",
      "\n",
      "A value is trying to be set on a copy of a slice from a DataFrame\n",
      "\n",
      "See the caveats in the documentation: https://pandas.pydata.org/pandas-docs/stable/user_guide/indexing.html#returning-a-view-versus-a-copy\n",
      "\n",
      "/var/folders/vt/szjx9jz17v3fmxv01s8bfkg40000gn/T/ipykernel_25417/1995201262.py:8: SettingWithCopyWarning:\n",
      "\n",
      "\n",
      "A value is trying to be set on a copy of a slice from a DataFrame.\n",
      "Try using .loc[row_indexer,col_indexer] = value instead\n",
      "\n",
      "See the caveats in the documentation: https://pandas.pydata.org/pandas-docs/stable/user_guide/indexing.html#returning-a-view-versus-a-copy\n",
      "\n",
      "/Users/anafink/OneDrive - bwedu/Bachelor MoBi/5. Fachsemester/Python Praktikum/advanced_python_2021-22_HD/venv/lib/python3.8/site-packages/pandas/core/indexing.py:1732: SettingWithCopyWarning:\n",
      "\n",
      "\n",
      "A value is trying to be set on a copy of a slice from a DataFrame\n",
      "\n",
      "See the caveats in the documentation: https://pandas.pydata.org/pandas-docs/stable/user_guide/indexing.html#returning-a-view-versus-a-copy\n",
      "\n",
      "/Users/anafink/OneDrive - bwedu/Bachelor MoBi/5. Fachsemester/Python Praktikum/advanced_python_2021-22_HD/venv/lib/python3.8/site-packages/pandas/core/indexing.py:723: SettingWithCopyWarning:\n",
      "\n",
      "\n",
      "A value is trying to be set on a copy of a slice from a DataFrame\n",
      "\n",
      "See the caveats in the documentation: https://pandas.pydata.org/pandas-docs/stable/user_guide/indexing.html#returning-a-view-versus-a-copy\n",
      "\n",
      "/Users/anafink/OneDrive - bwedu/Bachelor MoBi/5. Fachsemester/Python Praktikum/advanced_python_2021-22_HD/venv/lib/python3.8/site-packages/pandas/core/generic.py:6392: SettingWithCopyWarning:\n",
      "\n",
      "\n",
      "A value is trying to be set on a copy of a slice from a DataFrame\n",
      "\n",
      "See the caveats in the documentation: https://pandas.pydata.org/pandas-docs/stable/user_guide/indexing.html#returning-a-view-versus-a-copy\n",
      "\n",
      "/var/folders/vt/szjx9jz17v3fmxv01s8bfkg40000gn/T/ipykernel_25417/1995201262.py:8: SettingWithCopyWarning:\n",
      "\n",
      "\n",
      "A value is trying to be set on a copy of a slice from a DataFrame.\n",
      "Try using .loc[row_indexer,col_indexer] = value instead\n",
      "\n",
      "See the caveats in the documentation: https://pandas.pydata.org/pandas-docs/stable/user_guide/indexing.html#returning-a-view-versus-a-copy\n",
      "\n",
      "/Users/anafink/OneDrive - bwedu/Bachelor MoBi/5. Fachsemester/Python Praktikum/advanced_python_2021-22_HD/venv/lib/python3.8/site-packages/pandas/core/indexing.py:1732: SettingWithCopyWarning:\n",
      "\n",
      "\n",
      "A value is trying to be set on a copy of a slice from a DataFrame\n",
      "\n",
      "See the caveats in the documentation: https://pandas.pydata.org/pandas-docs/stable/user_guide/indexing.html#returning-a-view-versus-a-copy\n",
      "\n",
      "/Users/anafink/OneDrive - bwedu/Bachelor MoBi/5. Fachsemester/Python Praktikum/advanced_python_2021-22_HD/venv/lib/python3.8/site-packages/pandas/core/indexing.py:723: SettingWithCopyWarning:\n",
      "\n",
      "\n",
      "A value is trying to be set on a copy of a slice from a DataFrame\n",
      "\n",
      "See the caveats in the documentation: https://pandas.pydata.org/pandas-docs/stable/user_guide/indexing.html#returning-a-view-versus-a-copy\n",
      "\n",
      "/Users/anafink/OneDrive - bwedu/Bachelor MoBi/5. Fachsemester/Python Praktikum/advanced_python_2021-22_HD/venv/lib/python3.8/site-packages/pandas/core/generic.py:6392: SettingWithCopyWarning:\n",
      "\n",
      "\n",
      "A value is trying to be set on a copy of a slice from a DataFrame\n",
      "\n",
      "See the caveats in the documentation: https://pandas.pydata.org/pandas-docs/stable/user_guide/indexing.html#returning-a-view-versus-a-copy\n",
      "\n",
      "/var/folders/vt/szjx9jz17v3fmxv01s8bfkg40000gn/T/ipykernel_25417/1995201262.py:8: SettingWithCopyWarning:\n",
      "\n",
      "\n",
      "A value is trying to be set on a copy of a slice from a DataFrame.\n",
      "Try using .loc[row_indexer,col_indexer] = value instead\n",
      "\n",
      "See the caveats in the documentation: https://pandas.pydata.org/pandas-docs/stable/user_guide/indexing.html#returning-a-view-versus-a-copy\n",
      "\n",
      "/Users/anafink/OneDrive - bwedu/Bachelor MoBi/5. Fachsemester/Python Praktikum/advanced_python_2021-22_HD/venv/lib/python3.8/site-packages/pandas/core/indexing.py:1732: SettingWithCopyWarning:\n",
      "\n",
      "\n",
      "A value is trying to be set on a copy of a slice from a DataFrame\n",
      "\n",
      "See the caveats in the documentation: https://pandas.pydata.org/pandas-docs/stable/user_guide/indexing.html#returning-a-view-versus-a-copy\n",
      "\n",
      "/Users/anafink/OneDrive - bwedu/Bachelor MoBi/5. Fachsemester/Python Praktikum/advanced_python_2021-22_HD/venv/lib/python3.8/site-packages/pandas/core/indexing.py:723: SettingWithCopyWarning:\n",
      "\n",
      "\n",
      "A value is trying to be set on a copy of a slice from a DataFrame\n",
      "\n",
      "See the caveats in the documentation: https://pandas.pydata.org/pandas-docs/stable/user_guide/indexing.html#returning-a-view-versus-a-copy\n",
      "\n",
      "/Users/anafink/OneDrive - bwedu/Bachelor MoBi/5. Fachsemester/Python Praktikum/advanced_python_2021-22_HD/venv/lib/python3.8/site-packages/pandas/core/generic.py:6392: SettingWithCopyWarning:\n",
      "\n",
      "\n",
      "A value is trying to be set on a copy of a slice from a DataFrame\n",
      "\n",
      "See the caveats in the documentation: https://pandas.pydata.org/pandas-docs/stable/user_guide/indexing.html#returning-a-view-versus-a-copy\n",
      "\n",
      "/var/folders/vt/szjx9jz17v3fmxv01s8bfkg40000gn/T/ipykernel_25417/1995201262.py:8: SettingWithCopyWarning:\n",
      "\n",
      "\n",
      "A value is trying to be set on a copy of a slice from a DataFrame.\n",
      "Try using .loc[row_indexer,col_indexer] = value instead\n",
      "\n",
      "See the caveats in the documentation: https://pandas.pydata.org/pandas-docs/stable/user_guide/indexing.html#returning-a-view-versus-a-copy\n",
      "\n",
      "/Users/anafink/OneDrive - bwedu/Bachelor MoBi/5. Fachsemester/Python Praktikum/advanced_python_2021-22_HD/venv/lib/python3.8/site-packages/pandas/core/indexing.py:1732: SettingWithCopyWarning:\n",
      "\n",
      "\n",
      "A value is trying to be set on a copy of a slice from a DataFrame\n",
      "\n",
      "See the caveats in the documentation: https://pandas.pydata.org/pandas-docs/stable/user_guide/indexing.html#returning-a-view-versus-a-copy\n",
      "\n",
      "/Users/anafink/OneDrive - bwedu/Bachelor MoBi/5. Fachsemester/Python Praktikum/advanced_python_2021-22_HD/venv/lib/python3.8/site-packages/pandas/core/indexing.py:723: SettingWithCopyWarning:\n",
      "\n",
      "\n",
      "A value is trying to be set on a copy of a slice from a DataFrame\n",
      "\n",
      "See the caveats in the documentation: https://pandas.pydata.org/pandas-docs/stable/user_guide/indexing.html#returning-a-view-versus-a-copy\n",
      "\n",
      "/Users/anafink/OneDrive - bwedu/Bachelor MoBi/5. Fachsemester/Python Praktikum/advanced_python_2021-22_HD/venv/lib/python3.8/site-packages/pandas/core/generic.py:6392: SettingWithCopyWarning:\n",
      "\n",
      "\n",
      "A value is trying to be set on a copy of a slice from a DataFrame\n",
      "\n",
      "See the caveats in the documentation: https://pandas.pydata.org/pandas-docs/stable/user_guide/indexing.html#returning-a-view-versus-a-copy\n",
      "\n",
      "/var/folders/vt/szjx9jz17v3fmxv01s8bfkg40000gn/T/ipykernel_25417/1995201262.py:8: SettingWithCopyWarning:\n",
      "\n",
      "\n",
      "A value is trying to be set on a copy of a slice from a DataFrame.\n",
      "Try using .loc[row_indexer,col_indexer] = value instead\n",
      "\n",
      "See the caveats in the documentation: https://pandas.pydata.org/pandas-docs/stable/user_guide/indexing.html#returning-a-view-versus-a-copy\n",
      "\n",
      "/Users/anafink/OneDrive - bwedu/Bachelor MoBi/5. Fachsemester/Python Praktikum/advanced_python_2021-22_HD/venv/lib/python3.8/site-packages/pandas/core/indexing.py:1732: SettingWithCopyWarning:\n",
      "\n",
      "\n",
      "A value is trying to be set on a copy of a slice from a DataFrame\n",
      "\n",
      "See the caveats in the documentation: https://pandas.pydata.org/pandas-docs/stable/user_guide/indexing.html#returning-a-view-versus-a-copy\n",
      "\n",
      "/Users/anafink/OneDrive - bwedu/Bachelor MoBi/5. Fachsemester/Python Praktikum/advanced_python_2021-22_HD/venv/lib/python3.8/site-packages/pandas/core/indexing.py:723: SettingWithCopyWarning:\n",
      "\n",
      "\n",
      "A value is trying to be set on a copy of a slice from a DataFrame\n",
      "\n",
      "See the caveats in the documentation: https://pandas.pydata.org/pandas-docs/stable/user_guide/indexing.html#returning-a-view-versus-a-copy\n",
      "\n",
      "/Users/anafink/OneDrive - bwedu/Bachelor MoBi/5. Fachsemester/Python Praktikum/advanced_python_2021-22_HD/venv/lib/python3.8/site-packages/pandas/core/generic.py:6392: SettingWithCopyWarning:\n",
      "\n",
      "\n",
      "A value is trying to be set on a copy of a slice from a DataFrame\n",
      "\n",
      "See the caveats in the documentation: https://pandas.pydata.org/pandas-docs/stable/user_guide/indexing.html#returning-a-view-versus-a-copy\n",
      "\n",
      "/var/folders/vt/szjx9jz17v3fmxv01s8bfkg40000gn/T/ipykernel_25417/1995201262.py:8: SettingWithCopyWarning:\n",
      "\n",
      "\n",
      "A value is trying to be set on a copy of a slice from a DataFrame.\n",
      "Try using .loc[row_indexer,col_indexer] = value instead\n",
      "\n",
      "See the caveats in the documentation: https://pandas.pydata.org/pandas-docs/stable/user_guide/indexing.html#returning-a-view-versus-a-copy\n",
      "\n",
      "/Users/anafink/OneDrive - bwedu/Bachelor MoBi/5. Fachsemester/Python Praktikum/advanced_python_2021-22_HD/venv/lib/python3.8/site-packages/pandas/core/indexing.py:1732: SettingWithCopyWarning:\n",
      "\n",
      "\n",
      "A value is trying to be set on a copy of a slice from a DataFrame\n",
      "\n",
      "See the caveats in the documentation: https://pandas.pydata.org/pandas-docs/stable/user_guide/indexing.html#returning-a-view-versus-a-copy\n",
      "\n",
      "/Users/anafink/OneDrive - bwedu/Bachelor MoBi/5. Fachsemester/Python Praktikum/advanced_python_2021-22_HD/venv/lib/python3.8/site-packages/pandas/core/indexing.py:723: SettingWithCopyWarning:\n",
      "\n",
      "\n",
      "A value is trying to be set on a copy of a slice from a DataFrame\n",
      "\n",
      "See the caveats in the documentation: https://pandas.pydata.org/pandas-docs/stable/user_guide/indexing.html#returning-a-view-versus-a-copy\n",
      "\n",
      "/Users/anafink/OneDrive - bwedu/Bachelor MoBi/5. Fachsemester/Python Praktikum/advanced_python_2021-22_HD/venv/lib/python3.8/site-packages/pandas/core/generic.py:6392: SettingWithCopyWarning:\n",
      "\n",
      "\n",
      "A value is trying to be set on a copy of a slice from a DataFrame\n",
      "\n",
      "See the caveats in the documentation: https://pandas.pydata.org/pandas-docs/stable/user_guide/indexing.html#returning-a-view-versus-a-copy\n",
      "\n",
      "/var/folders/vt/szjx9jz17v3fmxv01s8bfkg40000gn/T/ipykernel_25417/1995201262.py:8: SettingWithCopyWarning:\n",
      "\n",
      "\n",
      "A value is trying to be set on a copy of a slice from a DataFrame.\n",
      "Try using .loc[row_indexer,col_indexer] = value instead\n",
      "\n",
      "See the caveats in the documentation: https://pandas.pydata.org/pandas-docs/stable/user_guide/indexing.html#returning-a-view-versus-a-copy\n",
      "\n",
      "/Users/anafink/OneDrive - bwedu/Bachelor MoBi/5. Fachsemester/Python Praktikum/advanced_python_2021-22_HD/venv/lib/python3.8/site-packages/pandas/core/indexing.py:1732: SettingWithCopyWarning:\n",
      "\n",
      "\n",
      "A value is trying to be set on a copy of a slice from a DataFrame\n",
      "\n",
      "See the caveats in the documentation: https://pandas.pydata.org/pandas-docs/stable/user_guide/indexing.html#returning-a-view-versus-a-copy\n",
      "\n",
      "/Users/anafink/OneDrive - bwedu/Bachelor MoBi/5. Fachsemester/Python Praktikum/advanced_python_2021-22_HD/venv/lib/python3.8/site-packages/pandas/core/indexing.py:723: SettingWithCopyWarning:\n",
      "\n",
      "\n",
      "A value is trying to be set on a copy of a slice from a DataFrame\n",
      "\n",
      "See the caveats in the documentation: https://pandas.pydata.org/pandas-docs/stable/user_guide/indexing.html#returning-a-view-versus-a-copy\n",
      "\n",
      "/Users/anafink/OneDrive - bwedu/Bachelor MoBi/5. Fachsemester/Python Praktikum/advanced_python_2021-22_HD/venv/lib/python3.8/site-packages/pandas/core/generic.py:6392: SettingWithCopyWarning:\n",
      "\n",
      "\n",
      "A value is trying to be set on a copy of a slice from a DataFrame\n",
      "\n",
      "See the caveats in the documentation: https://pandas.pydata.org/pandas-docs/stable/user_guide/indexing.html#returning-a-view-versus-a-copy\n",
      "\n"
     ]
    },
    {
     "data": {
      "text/html": [
       "<div>\n",
       "<style scoped>\n",
       "    .dataframe tbody tr th:only-of-type {\n",
       "        vertical-align: middle;\n",
       "    }\n",
       "\n",
       "    .dataframe tbody tr th {\n",
       "        vertical-align: top;\n",
       "    }\n",
       "\n",
       "    .dataframe thead th {\n",
       "        text-align: right;\n",
       "    }\n",
       "</style>\n",
       "<table border=\"1\" class=\"dataframe\">\n",
       "  <thead>\n",
       "    <tr style=\"text-align: right;\">\n",
       "      <th></th>\n",
       "      <th>Number of Bags</th>\n",
       "      <th>Aroma</th>\n",
       "      <th>Flavor</th>\n",
       "      <th>Aftertaste</th>\n",
       "      <th>Acidity</th>\n",
       "      <th>Body</th>\n",
       "      <th>Balance</th>\n",
       "      <th>Uniformity</th>\n",
       "      <th>Clean Cup</th>\n",
       "      <th>Sweetness</th>\n",
       "      <th>Cupper Points</th>\n",
       "      <th>Total Cup Points</th>\n",
       "      <th>Moisture</th>\n",
       "      <th>Category One Defects</th>\n",
       "      <th>Quakers</th>\n",
       "      <th>Category Two Defects</th>\n",
       "      <th>altitude low meters</th>\n",
       "      <th>altitude high meters</th>\n",
       "      <th>altitude mean meters</th>\n",
       "    </tr>\n",
       "  </thead>\n",
       "  <tbody>\n",
       "    <tr>\n",
       "      <th>count</th>\n",
       "      <td>1311.0</td>\n",
       "      <td>1.311000e+03</td>\n",
       "      <td>1.311000e+03</td>\n",
       "      <td>1311.0</td>\n",
       "      <td>1.311000e+03</td>\n",
       "      <td>1.311000e+03</td>\n",
       "      <td>1.311000e+03</td>\n",
       "      <td>1311.0</td>\n",
       "      <td>1311.0</td>\n",
       "      <td>1311.0</td>\n",
       "      <td>1.311000e+03</td>\n",
       "      <td>1311.0</td>\n",
       "      <td>1311.00</td>\n",
       "      <td>1311.0</td>\n",
       "      <td>1311.0</td>\n",
       "      <td>1311.0</td>\n",
       "      <td>1311.0</td>\n",
       "      <td>1.311000e+03</td>\n",
       "      <td>1311.0</td>\n",
       "    </tr>\n",
       "    <tr>\n",
       "      <th>mean</th>\n",
       "      <td>175.0</td>\n",
       "      <td>7.580000e+00</td>\n",
       "      <td>7.580000e+00</td>\n",
       "      <td>7.5</td>\n",
       "      <td>7.580000e+00</td>\n",
       "      <td>7.580000e+00</td>\n",
       "      <td>7.580000e+00</td>\n",
       "      <td>10.0</td>\n",
       "      <td>10.0</td>\n",
       "      <td>10.0</td>\n",
       "      <td>7.580000e+00</td>\n",
       "      <td>83.0</td>\n",
       "      <td>0.11</td>\n",
       "      <td>0.0</td>\n",
       "      <td>0.0</td>\n",
       "      <td>2.0</td>\n",
       "      <td>1400.0</td>\n",
       "      <td>1.375800e+03</td>\n",
       "      <td>1300.0</td>\n",
       "    </tr>\n",
       "    <tr>\n",
       "      <th>std</th>\n",
       "      <td>0.0</td>\n",
       "      <td>8.885174e-16</td>\n",
       "      <td>8.885174e-16</td>\n",
       "      <td>0.0</td>\n",
       "      <td>8.885174e-16</td>\n",
       "      <td>8.885174e-16</td>\n",
       "      <td>8.885174e-16</td>\n",
       "      <td>0.0</td>\n",
       "      <td>0.0</td>\n",
       "      <td>0.0</td>\n",
       "      <td>8.885174e-16</td>\n",
       "      <td>0.0</td>\n",
       "      <td>0.00</td>\n",
       "      <td>0.0</td>\n",
       "      <td>0.0</td>\n",
       "      <td>0.0</td>\n",
       "      <td>0.0</td>\n",
       "      <td>2.274604e-13</td>\n",
       "      <td>0.0</td>\n",
       "    </tr>\n",
       "    <tr>\n",
       "      <th>min</th>\n",
       "      <td>175.0</td>\n",
       "      <td>7.580000e+00</td>\n",
       "      <td>7.580000e+00</td>\n",
       "      <td>7.5</td>\n",
       "      <td>7.580000e+00</td>\n",
       "      <td>7.580000e+00</td>\n",
       "      <td>7.580000e+00</td>\n",
       "      <td>10.0</td>\n",
       "      <td>10.0</td>\n",
       "      <td>10.0</td>\n",
       "      <td>7.580000e+00</td>\n",
       "      <td>83.0</td>\n",
       "      <td>0.11</td>\n",
       "      <td>0.0</td>\n",
       "      <td>0.0</td>\n",
       "      <td>2.0</td>\n",
       "      <td>1400.0</td>\n",
       "      <td>1.375800e+03</td>\n",
       "      <td>1300.0</td>\n",
       "    </tr>\n",
       "    <tr>\n",
       "      <th>25%</th>\n",
       "      <td>175.0</td>\n",
       "      <td>7.580000e+00</td>\n",
       "      <td>7.580000e+00</td>\n",
       "      <td>7.5</td>\n",
       "      <td>7.580000e+00</td>\n",
       "      <td>7.580000e+00</td>\n",
       "      <td>7.580000e+00</td>\n",
       "      <td>10.0</td>\n",
       "      <td>10.0</td>\n",
       "      <td>10.0</td>\n",
       "      <td>7.580000e+00</td>\n",
       "      <td>83.0</td>\n",
       "      <td>0.11</td>\n",
       "      <td>0.0</td>\n",
       "      <td>0.0</td>\n",
       "      <td>2.0</td>\n",
       "      <td>1400.0</td>\n",
       "      <td>1.375800e+03</td>\n",
       "      <td>1300.0</td>\n",
       "    </tr>\n",
       "    <tr>\n",
       "      <th>50%</th>\n",
       "      <td>175.0</td>\n",
       "      <td>7.580000e+00</td>\n",
       "      <td>7.580000e+00</td>\n",
       "      <td>7.5</td>\n",
       "      <td>7.580000e+00</td>\n",
       "      <td>7.580000e+00</td>\n",
       "      <td>7.580000e+00</td>\n",
       "      <td>10.0</td>\n",
       "      <td>10.0</td>\n",
       "      <td>10.0</td>\n",
       "      <td>7.580000e+00</td>\n",
       "      <td>83.0</td>\n",
       "      <td>0.11</td>\n",
       "      <td>0.0</td>\n",
       "      <td>0.0</td>\n",
       "      <td>2.0</td>\n",
       "      <td>1400.0</td>\n",
       "      <td>1.375800e+03</td>\n",
       "      <td>1300.0</td>\n",
       "    </tr>\n",
       "    <tr>\n",
       "      <th>75%</th>\n",
       "      <td>175.0</td>\n",
       "      <td>7.580000e+00</td>\n",
       "      <td>7.580000e+00</td>\n",
       "      <td>7.5</td>\n",
       "      <td>7.580000e+00</td>\n",
       "      <td>7.580000e+00</td>\n",
       "      <td>7.580000e+00</td>\n",
       "      <td>10.0</td>\n",
       "      <td>10.0</td>\n",
       "      <td>10.0</td>\n",
       "      <td>7.580000e+00</td>\n",
       "      <td>83.0</td>\n",
       "      <td>0.11</td>\n",
       "      <td>0.0</td>\n",
       "      <td>0.0</td>\n",
       "      <td>2.0</td>\n",
       "      <td>1400.0</td>\n",
       "      <td>1.375800e+03</td>\n",
       "      <td>1300.0</td>\n",
       "    </tr>\n",
       "    <tr>\n",
       "      <th>max</th>\n",
       "      <td>175.0</td>\n",
       "      <td>7.580000e+00</td>\n",
       "      <td>7.580000e+00</td>\n",
       "      <td>7.5</td>\n",
       "      <td>7.580000e+00</td>\n",
       "      <td>7.580000e+00</td>\n",
       "      <td>7.580000e+00</td>\n",
       "      <td>10.0</td>\n",
       "      <td>10.0</td>\n",
       "      <td>10.0</td>\n",
       "      <td>7.580000e+00</td>\n",
       "      <td>83.0</td>\n",
       "      <td>0.11</td>\n",
       "      <td>0.0</td>\n",
       "      <td>0.0</td>\n",
       "      <td>2.0</td>\n",
       "      <td>1400.0</td>\n",
       "      <td>1.375800e+03</td>\n",
       "      <td>1300.0</td>\n",
       "    </tr>\n",
       "  </tbody>\n",
       "</table>\n",
       "</div>"
      ],
      "text/plain": [
       "       Number of Bags         Aroma        Flavor  Aftertaste       Acidity  \\\n",
       "count          1311.0  1.311000e+03  1.311000e+03      1311.0  1.311000e+03   \n",
       "mean            175.0  7.580000e+00  7.580000e+00         7.5  7.580000e+00   \n",
       "std               0.0  8.885174e-16  8.885174e-16         0.0  8.885174e-16   \n",
       "min             175.0  7.580000e+00  7.580000e+00         7.5  7.580000e+00   \n",
       "25%             175.0  7.580000e+00  7.580000e+00         7.5  7.580000e+00   \n",
       "50%             175.0  7.580000e+00  7.580000e+00         7.5  7.580000e+00   \n",
       "75%             175.0  7.580000e+00  7.580000e+00         7.5  7.580000e+00   \n",
       "max             175.0  7.580000e+00  7.580000e+00         7.5  7.580000e+00   \n",
       "\n",
       "               Body       Balance  Uniformity  Clean Cup  Sweetness  \\\n",
       "count  1.311000e+03  1.311000e+03      1311.0     1311.0     1311.0   \n",
       "mean   7.580000e+00  7.580000e+00        10.0       10.0       10.0   \n",
       "std    8.885174e-16  8.885174e-16         0.0        0.0        0.0   \n",
       "min    7.580000e+00  7.580000e+00        10.0       10.0       10.0   \n",
       "25%    7.580000e+00  7.580000e+00        10.0       10.0       10.0   \n",
       "50%    7.580000e+00  7.580000e+00        10.0       10.0       10.0   \n",
       "75%    7.580000e+00  7.580000e+00        10.0       10.0       10.0   \n",
       "max    7.580000e+00  7.580000e+00        10.0       10.0       10.0   \n",
       "\n",
       "       Cupper Points  Total Cup Points  Moisture  Category One Defects  \\\n",
       "count   1.311000e+03            1311.0   1311.00                1311.0   \n",
       "mean    7.580000e+00              83.0      0.11                   0.0   \n",
       "std     8.885174e-16               0.0      0.00                   0.0   \n",
       "min     7.580000e+00              83.0      0.11                   0.0   \n",
       "25%     7.580000e+00              83.0      0.11                   0.0   \n",
       "50%     7.580000e+00              83.0      0.11                   0.0   \n",
       "75%     7.580000e+00              83.0      0.11                   0.0   \n",
       "max     7.580000e+00              83.0      0.11                   0.0   \n",
       "\n",
       "       Quakers  Category Two Defects  altitude low meters  \\\n",
       "count   1311.0                1311.0               1311.0   \n",
       "mean       0.0                   2.0               1400.0   \n",
       "std        0.0                   0.0                  0.0   \n",
       "min        0.0                   2.0               1400.0   \n",
       "25%        0.0                   2.0               1400.0   \n",
       "50%        0.0                   2.0               1400.0   \n",
       "75%        0.0                   2.0               1400.0   \n",
       "max        0.0                   2.0               1400.0   \n",
       "\n",
       "       altitude high meters  altitude mean meters  \n",
       "count          1.311000e+03                1311.0  \n",
       "mean           1.375800e+03                1300.0  \n",
       "std            2.274604e-13                   0.0  \n",
       "min            1.375800e+03                1300.0  \n",
       "25%            1.375800e+03                1300.0  \n",
       "50%            1.375800e+03                1300.0  \n",
       "75%            1.375800e+03                1300.0  \n",
       "max            1.375800e+03                1300.0  "
      ]
     },
     "execution_count": 140,
     "metadata": {},
     "output_type": "execute_result"
    }
   ],
   "source": [
    "coffee_clean = coffee_num\n",
    "coffee_clean.rename(columns = {col:col.replace('_', ' ') for col in coffee_clean.columns}, inplace=True)\n",
    "coffee_clean.rename(columns = {col:col.replace('.', ' ') for col in coffee_clean.columns}, inplace=True)\n",
    "for col in coffee_clean.columns:\n",
    "    median = coffee_clean[col].median()\n",
    "    std = coffee_clean[col].std()\n",
    "    outliers = (coffee_clean[col] - median).abs() > std\n",
    "    coffee_clean[outliers] = np.nan\n",
    "    coffee_clean[col].fillna(median, inplace=True)\n",
    "\n",
    "coffee_clean.describe()"
   ]
  },
  {
   "cell_type": "markdown",
   "id": "foreign-beginning",
   "metadata": {},
   "source": [
    "## Identify \n",
    " * Which countries have more than 10 and less than 30 entries?\n",
    " * Which is the producer with most entries?\n",
    " * What is the mosts common and least common \"Processing Method\""
   ]
  },
  {
   "cell_type": "code",
   "execution_count": 163,
   "id": "c9e8781c",
   "metadata": {},
   "outputs": [
    {
     "data": {
      "text/plain": [
       "['Uganda',\n",
       " 'Ethiopia',\n",
       " 'Thailand',\n",
       " 'Kenya',\n",
       " 'China',\n",
       " 'El Salvador',\n",
       " 'Nicaragua',\n",
       " 'Indonesia',\n",
       " 'Malawi']"
      ]
     },
     "execution_count": 163,
     "metadata": {},
     "output_type": "execute_result"
    }
   ],
   "source": [
    "over10 = coffee_df_reduced['Country of Origin'].value_counts() > 10 \n",
    "under30 = coffee_df_reduced['Country of Origin'].value_counts() < 30\n",
    "over10_and_under30 = over10 * under30\n",
    "over10_and_under30.index[over10_and_under30].to_list()\n"
   ]
  },
  {
   "cell_type": "code",
   "execution_count": 166,
   "id": "sudden-crawford",
   "metadata": {},
   "outputs": [
    {
     "data": {
      "text/plain": [
       "'Ipanema Agrícola SA'"
      ]
     },
     "execution_count": 166,
     "metadata": {},
     "output_type": "execute_result"
    }
   ],
   "source": [
    "coffee_df_reduced[\"Producer\"].value_counts().idxmax()"
   ]
  },
  {
   "cell_type": "code",
   "execution_count": 167,
   "id": "4cde77d0",
   "metadata": {},
   "outputs": [
    {
     "data": {
      "text/plain": [
       "Washed / Wet                 673\n",
       "Natural / Dry                167\n",
       "Semi-washed / Semi-pulped     51\n",
       "Other                         24\n",
       "Pulped natural / honey         9\n",
       "Name: Processing Method, dtype: int64"
      ]
     },
     "execution_count": 167,
     "metadata": {},
     "output_type": "execute_result"
    }
   ],
   "source": [
    "coffee_df_reduced['Processing Method'].value_counts()"
   ]
  }
 ],
 "metadata": {
  "kernelspec": {
   "display_name": "Python 3",
   "language": "python",
   "name": "python3"
  },
  "language_info": {
   "codemirror_mode": {
    "name": "ipython",
    "version": 3
   },
   "file_extension": ".py",
   "mimetype": "text/x-python",
   "name": "python",
   "nbconvert_exporter": "python",
   "pygments_lexer": "ipython3",
   "version": "3.8.9"
  }
 },
 "nbformat": 4,
 "nbformat_minor": 5
}
