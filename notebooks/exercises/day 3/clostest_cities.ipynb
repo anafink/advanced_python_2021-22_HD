{
 "cells": [
  {
   "cell_type": "code",
   "execution_count": 1,
   "metadata": {},
   "outputs": [],
   "source": [
    "path = \"/Users/anafink/OneDrive - bwedu/Bachelor MoBi/5. Fachsemester/Python Praktikum/advanced_python_2021-22_HD/data/cities.csv\"\n",
    "import csv\n",
    "import re\n",
    "import pandas as pd\n",
    "import matplotlib.pyplot as plt\n",
    "import math"
   ]
  },
  {
   "cell_type": "code",
   "execution_count": 2,
   "metadata": {},
   "outputs": [],
   "source": [
    "def create_data_stucture(map_data_file):\n",
    "    cities_dic = pd.read_csv(map_data_file)\n",
    "    return cities_dic"
   ]
  },
  {
   "cell_type": "code",
   "execution_count": 3,
   "metadata": {},
   "outputs": [],
   "source": [
    "\n",
    "def find_closest_cities(point, data_structure):\n",
    "    distances = []\n",
    "    for lat, lng in zip(data_structure['lat'].tolist(), data_structure['lng'].tolist()) :\n",
    "        distances.append(math.dist(point,(lat,lng)))\n",
    "    data_structure[\"Distance\"] = distances\n",
    "    data_structure = data_structure.sort_values(by = \"Distance\")\n",
    "    closest_cities = data_structure.head(10)\n",
    "    return closest_cities\n"
   ]
  },
  {
   "cell_type": "code",
   "execution_count": 4,
   "metadata": {},
   "outputs": [
    {
     "name": "stdout",
     "output_type": "stream",
     "text": [
      "                       city      lat     lng  country iso3         local_name  \\\n",
      "7863              Eppelheim  49.4011  8.6297  Germany  DEU  Baden-Württemberg   \n",
      "3326             Heidelberg  49.4122  8.7100  Germany  DEU  Baden-Württemberg   \n",
      "24877            Dossenheim  49.4492  8.6722  Germany  DEU  Baden-Württemberg   \n",
      "16748                Leimen  49.3481  8.6911  Germany  DEU  Baden-Württemberg   \n",
      "22591            Sandhausen  49.3439  8.6581  Germany  DEU  Baden-Württemberg   \n",
      "23015           Schriesheim  49.4736  8.6592  Germany  DEU  Baden-Württemberg   \n",
      "30103            Edingerhof  49.4483  8.6121  Germany  DEU  Baden-Württemberg   \n",
      "26956            Plankstadt  49.3933  8.5942  Germany  DEU  Baden-Württemberg   \n",
      "23129  Edingen-Neckarhausen  49.4469  8.6094  Germany  DEU  Baden-Württemberg   \n",
      "26185               Nußloch  49.3236  8.6939  Germany  DEU  Baden-Württemberg   \n",
      "\n",
      "       population continent  Distance  \n",
      "7863      15177.0    Europe  0.040315  \n",
      "3326     160355.0    Europe  0.041819  \n",
      "24877     12515.0    Europe  0.049249  \n",
      "16748     26968.0    Europe  0.056025  \n",
      "22591     15105.0    Europe  0.057348  \n",
      "23015     15081.0    Europe  0.074388  \n",
      "30103      8128.0    Europe  0.075401  \n",
      "26956     10321.0    Europe  0.076096  \n",
      "23129     14238.0    Europe  0.076629  \n",
      "26185     11325.0    Europe  0.080051  \n"
     ]
    }
   ],
   "source": [
    "hd = (49.4, 8.67) #Heidelberg\n",
    "data_structure = create_data_stucture(path)\n",
    "print(find_closest_cities(hd, data_structure))"
   ]
  },
  {
   "cell_type": "markdown",
   "metadata": {},
   "source": []
  }
 ],
 "metadata": {
  "interpreter": {
   "hash": "7d5b6227254c834591d20ed2ddda9f5d8284f3539732c1601401324a351076a7"
  },
  "kernelspec": {
   "display_name": "Python 3.8.9 64-bit ('venv': venv)",
   "language": "python",
   "name": "python3"
  },
  "language_info": {
   "codemirror_mode": {
    "name": "ipython",
    "version": 3
   },
   "file_extension": ".py",
   "mimetype": "text/x-python",
   "name": "python",
   "nbconvert_exporter": "python",
   "pygments_lexer": "ipython3",
   "version": "3.8.9"
  },
  "orig_nbformat": 4
 },
 "nbformat": 4,
 "nbformat_minor": 2
}
