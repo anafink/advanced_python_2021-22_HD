{
 "cells": [
  {
   "cell_type": "code",
   "execution_count": 1,
   "metadata": {},
   "outputs": [],
   "source": [
    "import numpy as np\n",
    "import plotly\n",
    "import plotly.graph_objs as go\n",
    "from collections import deque\n",
    "import pandas as pd\n",
    "import plotly.express as px\n",
    "\n",
    "aa_df = pd.read_csv(\"/Users/anafink/OneDrive - bwedu/Bachelor MoBi/5. Fachsemester/Python Praktikum/advanced_python_2021-22_HD/data/amino_acid_properties.csv\")\n",
    "\n",
    "metrics = {}\n",
    "hydropathy_aa = {}\n",
    "pI_aa = {}\n",
    "hp_type_aa = {}\n",
    "hydropathy_aa = aa_df.groupby('1-letter code')['hydropathy index (Kyte-Doolittle method)'].apply(float).to_dict()\n",
    "pI_aa = aa_df.groupby('1-letter code')['pI'].apply(float).to_dict()\n",
    "metrics = {\n",
    "    \"hydropathy\" : hydropathy_aa,\n",
    "    \"pI\" : pI_aa,\n",
    "}\n",
    "\n",
    "\n",
    "\n",
    "class Protein:\n",
    "\n",
    "    def __init__(self, name, id, sequence):\n",
    "        self.name = name\n",
    "        self.id = id\n",
    "        self.sequence = sequence\n",
    "        \n",
    "\n",
    "    def define_metrics(self, metric_aa = \"hydropathy\"):\n",
    "        metric_values = []\n",
    "        for pos, aa in enumerate(self.sequence):\n",
    "            metric_values.append(metrics[metric_aa][aa])\n",
    "        return metric_values\n",
    "\n",
    "    def get_aa_pos(self):\n",
    "        aa_pos = []\n",
    "        aa_pos = list(range(1,len(self.sequence)+1))\n",
    "        return aa_pos\n",
    "\n",
    "    def get_y_values(self, metric_aa = \"hydropathy\", window_size = 5 ):\n",
    "\n",
    "        metric_values = self.define_metrics(metric_aa)\n",
    "        window = deque([], maxlen = window_size)\n",
    "\n",
    "        mean_values = []\n",
    "\n",
    "        for value in metric_values:\n",
    "            window.append(value)\n",
    "            mean_values.append(np.mean(window))\n",
    "\n",
    "        return mean_values\n",
    "        \n",
    "    def plot(self, metric=\"hydropathy\", window_size = 5):\n",
    "        \n",
    "        x_values = self.get_aa_pos()\n",
    "        y_values = self.get_y_values(metric, window_size)    \n",
    "        \n",
    "        data = [\n",
    "            go.Bar(\n",
    "                x = x_values, \n",
    "                y = y_values, \n",
    "            )\n",
    "        ]\n",
    "        \n",
    "        fig = go.Figure(data=data)\n",
    "        fig.update_layout(template=\"plotly_white\", title=\"Protein: \" + self.name)\n",
    "        return fig\n"
   ]
  },
  {
   "cell_type": "code",
   "execution_count": 2,
   "metadata": {},
   "outputs": [],
   "source": [
    "path = \"/Users/anafink/OneDrive - bwedu/Bachelor MoBi/5. Fachsemester/Python Praktikum/uniref-P32249-filtered-identity_1.0.fasta\"\n",
    "GPCR183_fasta = []\n",
    "with open(path) as f:\n",
    "    for line in f:\n",
    "        GPCR183_fasta.append(line)\n",
    "\n",
    "GPCR183_seq = GPCR183_fasta\n",
    "\n",
    "for pos, seq in enumerate(GPCR183_seq):\n",
    "    if seq[0] == \">\":\n",
    "        GPCR183_seq.pop(pos)\n",
    "    \n",
    "GPCR183_seq = [x[:-1] for x in GPCR183_seq]\n",
    "\n",
    "GPCR183_seq = ''.join(GPCR183_seq)\n",
    "\n",
    "def split(string):\n",
    "    return [char for char in string]\n",
    "\n",
    "GPCR183_seq = split(GPCR183_seq)\n",
    "\n",
    "GPCR183 = Protein(\"G-protein coupled receptor 183 (P32249)\", \"9606\", GPCR183_seq)\n"
   ]
  },
  {
   "cell_type": "code",
   "execution_count": 3,
   "metadata": {},
   "outputs": [
    {
     "data": {
      "application/vnd.plotly.v1+json": {
       "config": {
        "plotlyServerURL": "https://plot.ly"
       },
       "data": [
        {
         "type": "bar",
         "x": [
          1,
          2,
          3,
          4,
          5,
          6,
          7,
          8,
          9,
          10,
          11,
          12,
          13,
          14,
          15,
          16,
          17,
          18,
          19,
          20,
          21,
          22,
          23,
          24,
          25,
          26,
          27,
          28,
          29,
          30,
          31,
          32,
          33,
          34,
          35,
          36,
          37,
          38,
          39,
          40,
          41,
          42,
          43,
          44,
          45,
          46,
          47,
          48,
          49,
          50,
          51,
          52,
          53,
          54,
          55,
          56,
          57,
          58,
          59,
          60,
          61,
          62,
          63,
          64,
          65,
          66,
          67,
          68,
          69,
          70,
          71,
          72,
          73,
          74,
          75,
          76,
          77,
          78,
          79,
          80,
          81,
          82,
          83,
          84,
          85,
          86,
          87,
          88,
          89,
          90,
          91,
          92,
          93,
          94,
          95,
          96,
          97,
          98,
          99,
          100,
          101,
          102,
          103,
          104,
          105,
          106,
          107,
          108,
          109,
          110,
          111,
          112,
          113,
          114,
          115,
          116,
          117,
          118,
          119,
          120,
          121,
          122,
          123,
          124,
          125,
          126,
          127,
          128,
          129,
          130,
          131,
          132,
          133,
          134,
          135,
          136,
          137,
          138,
          139,
          140,
          141,
          142,
          143,
          144,
          145,
          146,
          147,
          148,
          149,
          150,
          151,
          152,
          153,
          154,
          155,
          156,
          157,
          158,
          159,
          160,
          161,
          162,
          163,
          164,
          165,
          166,
          167,
          168,
          169,
          170,
          171,
          172,
          173,
          174,
          175,
          176,
          177,
          178,
          179,
          180,
          181,
          182,
          183,
          184,
          185,
          186,
          187,
          188,
          189,
          190,
          191,
          192,
          193,
          194,
          195,
          196,
          197,
          198,
          199,
          200,
          201,
          202,
          203,
          204,
          205,
          206,
          207,
          208,
          209,
          210,
          211,
          212,
          213,
          214,
          215,
          216,
          217,
          218,
          219,
          220,
          221,
          222,
          223,
          224,
          225,
          226,
          227,
          228,
          229,
          230,
          231,
          232,
          233,
          234,
          235,
          236,
          237,
          238,
          239,
          240,
          241,
          242,
          243,
          244,
          245,
          246,
          247,
          248,
          249,
          250,
          251,
          252,
          253,
          254,
          255,
          256,
          257,
          258,
          259,
          260,
          261,
          262,
          263,
          264,
          265,
          266,
          267,
          268,
          269,
          270,
          271,
          272,
          273,
          274,
          275,
          276,
          277,
          278,
          279,
          280,
          281,
          282,
          283,
          284,
          285,
          286,
          287,
          288,
          289,
          290,
          291,
          292,
          293,
          294,
          295,
          296,
          297,
          298,
          299,
          300,
          301,
          302,
          303,
          304,
          305,
          306,
          307,
          308,
          309,
          310,
          311,
          312,
          313,
          314,
          315,
          316,
          317,
          318,
          319,
          320,
          321,
          322,
          323,
          324,
          325,
          326,
          327,
          328,
          329,
          330,
          331,
          332,
          333,
          334,
          335,
          336,
          337,
          338,
          339,
          340,
          341,
          342,
          343,
          344,
          345,
          346,
          347,
          348,
          349,
          350,
          351,
          352,
          353,
          354,
          355,
          356,
          357,
          358,
          359,
          360,
          361
         ],
         "y": [
          1.9,
          -0.8,
          0.9666666666666667,
          -0.15000000000000002,
          0.25999999999999995,
          0.5166666666666666,
          -0.0571428571428572,
          -0.4875,
          -0.12222222222222223,
          -0.18,
          -0.53,
          -0.34,
          -0.8700000000000001,
          -0.34,
          -0.6000000000000001,
          -0.9400000000000001,
          -0.9400000000000001,
          -0.6300000000000001,
          -1.26,
          -1.5399999999999998,
          -1.1300000000000001,
          -1.3199999999999998,
          -0.8600000000000001,
          -1.17,
          -0.9199999999999999,
          -1.08,
          -1.05,
          -1.0900000000000003,
          -0.8099999999999999,
          -0.2800000000000001,
          -0.9800000000000001,
          -0.18,
          -0.14000000000000012,
          0.17999999999999994,
          -0.16000000000000014,
          0.5399999999999999,
          0.5399999999999999,
          0.4899999999999999,
          0.47999999999999987,
          0.6799999999999999,
          1.55,
          1.3800000000000001,
          1.41,
          1.67,
          1.7900000000000003,
          1.7899999999999998,
          2.53,
          2.62,
          2.35,
          2.35,
          2.3099999999999996,
          2.21,
          2.1399999999999997,
          2.11,
          2.5699999999999994,
          2.6399999999999997,
          2.6399999999999997,
          2.3299999999999996,
          2.33,
          1.5,
          0.7299999999999999,
          0.15999999999999984,
          0.23000000000000012,
          -0.5400000000000003,
          -1.0400000000000003,
          -1.56,
          -2.05,
          -1.3199999999999998,
          -1.1,
          -0.73,
          -0.41,
          -0.37,
          -0.43999999999999995,
          0.3299999999999999,
          0.86,
          0.8499999999999999,
          0.57,
          0.6399999999999999,
          1.15,
          1.5100000000000002,
          1.5100000000000002,
          1.7899999999999998,
          1.5900000000000003,
          1.55,
          0.9400000000000001,
          0.95,
          0.85,
          0.85,
          0.6499999999999999,
          0.23999999999999994,
          0.17999999999999997,
          0.43,
          0.43999999999999984,
          0.020000000000000007,
          0.45999999999999996,
          0.18,
          0.5399999999999998,
          -0.36,
          -0.09000000000000004,
          -5.551115123125783e-17,
          -0.22000000000000006,
          -0.2200000000000001,
          -0.030000000000000072,
          0.2599999999999999,
          -0.4700000000000001,
          0.3299999999999999,
          0.3499999999999999,
          0.9799999999999999,
          0.9099999999999999,
          1.3699999999999999,
          2,
          1.69,
          1.7599999999999998,
          1.16,
          1.5399999999999998,
          0.96,
          1.21,
          0.99,
          1.0299999999999998,
          0.25999999999999995,
          0.26000000000000006,
          0.58,
          0.059999999999999984,
          0.6599999999999999,
          1.11,
          1.1599999999999997,
          1.43,
          1.1199999999999999,
          0.25,
          0.8800000000000001,
          1.05,
          1.04,
          1.53,
          1.7,
          1,
          0.9200000000000002,
          0.85,
          0.75,
          1.0699999999999998,
          0.43999999999999995,
          -0.4,
          -0.13000000000000006,
          -0.9400000000000001,
          -1.81,
          -1.04,
          -1.23,
          -1.9300000000000002,
          -1.3,
          -1.56,
          -1.2500000000000002,
          -0.4400000000000001,
          -0.6400000000000002,
          0.2,
          0.93,
          0.9,
          1.16,
          1.9300000000000002,
          2.13,
          2.94,
          3.2600000000000002,
          3.0200000000000005,
          2.42,
          1.9,
          2.0000000000000004,
          1.4200000000000002,
          1.89,
          1.8199999999999998,
          1.89,
          1.1199999999999999,
          0.68,
          0.6900000000000001,
          0.96,
          0.6399999999999997,
          -0.09,
          -0.2800000000000001,
          -0.48,
          -1.2099999999999997,
          -2.1100000000000003,
          -1.31,
          -1.22,
          -1.1599999999999997,
          -0.89,
          -0.85,
          -0.63,
          -0.44000000000000006,
          -0.97,
          -0.34,
          -0.23999999999999994,
          -1.04,
          -1.0399999999999998,
          -1.6799999999999997,
          -1.95,
          -1.22,
          -1.2499999999999998,
          -1.1800000000000002,
          -0.38000000000000006,
          -0.27999999999999997,
          0.4499999999999999,
          0.76,
          1.01,
          1.65,
          2.0100000000000002,
          2.08,
          2.2,
          2.16,
          2.13,
          2.13,
          1.59,
          2.01,
          2.28,
          2.4799999999999995,
          2.65,
          2.58,
          3.07,
          3.45,
          2.9,
          2.44,
          2.25,
          2.3200000000000003,
          2.12,
          1.9200000000000004,
          1.0799999999999998,
          1.08,
          0.9099999999999999,
          0.20999999999999996,
          0.2699999999999999,
          0.5299999999999999,
          0.4899999999999999,
          -0.30999999999999994,
          -0.9100000000000001,
          -1.32,
          -0.55,
          -1,
          -1.6300000000000001,
          -1.57,
          -1.58,
          -1.8,
          -0.9900000000000002,
          -0.9900000000000002,
          -1.03,
          -1.2600000000000002,
          -1.4599999999999997,
          -1.0100000000000002,
          -1.0100000000000002,
          -0.6900000000000001,
          -0.16000000000000006,
          0.32999999999999996,
          0.2899999999999999,
          1.0899999999999999,
          1.9300000000000002,
          2.7399999999999998,
          2.9799999999999995,
          2.88,
          3.65,
          4.1,
          3.9,
          3.7299999999999995,
          3.28,
          2.67,
          2.0899999999999994,
          1.35,
          1.35,
          1.2500000000000002,
          1.2799999999999998,
          1.35,
          0.75,
          0.1499999999999999,
          0.41,
          1.02,
          0.76,
          0.6899999999999998,
          0.65,
          0.020000000000000018,
          -0.15000000000000008,
          -0.68,
          -0.68,
          -0.07999999999999999,
          0.10999999999999996,
          -0.6900000000000001,
          -0.050000000000000044,
          0.25999999999999995,
          -0.47000000000000003,
          -0.4700000000000001,
          -1.0699999999999998,
          -1.07,
          -0.44000000000000006,
          -1.0699999999999998,
          -1,
          -0.73,
          -0.6000000000000001,
          -0.8400000000000001,
          -0.21000000000000005,
          0.16999999999999996,
          0.9099999999999999,
          1.2399999999999998,
          1.3399999999999999,
          1.8800000000000001,
          1.08,
          1.44,
          0.7099999999999997,
          1.28,
          1.25,
          1.51,
          0.74,
          0.32999999999999985,
          0.22999999999999993,
          0.49000000000000005,
          0.7099999999999999,
          0.7100000000000001,
          1.3400000000000003,
          1.27,
          1.27,
          0.6900000000000001,
          0.9999999999999998,
          1.0299999999999998,
          0.3600000000000001,
          -0.54,
          -0.8000000000000002,
          -0.6600000000000003,
          -0.7500000000000002,
          -1.38,
          -1.44,
          -0.6700000000000002,
          -1.02,
          -1.34,
          -1.3,
          -0.43,
          -0.11999999999999995,
          -0.1200000000000001,
          -0.38999999999999996,
          0.51,
          0.24000000000000013,
          -0.21999999999999997,
          0.3500000000000001,
          1.2200000000000002,
          1.18,
          0.6799999999999999,
          0.9400000000000001,
          0.36,
          0.09000000000000004,
          -0.71,
          -0.9799999999999999,
          -0.9800000000000001,
          -1.61,
          -2.38,
          -1.8,
          -1.7900000000000003,
          -2.32,
          -2.23,
          -2.23,
          -1.6900000000000002,
          -1.15,
          -0.6200000000000001,
          -0.4900000000000001,
          -0.21999999999999992,
          -0.8,
          -0.8100000000000002,
          -0.54,
          -0.82,
          -0.5100000000000001,
          -1.09
         ]
        }
       ],
       "layout": {
        "template": {
         "data": {
          "bar": [
           {
            "error_x": {
             "color": "#2a3f5f"
            },
            "error_y": {
             "color": "#2a3f5f"
            },
            "marker": {
             "line": {
              "color": "white",
              "width": 0.5
             },
             "pattern": {
              "fillmode": "overlay",
              "size": 10,
              "solidity": 0.2
             }
            },
            "type": "bar"
           }
          ],
          "barpolar": [
           {
            "marker": {
             "line": {
              "color": "white",
              "width": 0.5
             },
             "pattern": {
              "fillmode": "overlay",
              "size": 10,
              "solidity": 0.2
             }
            },
            "type": "barpolar"
           }
          ],
          "carpet": [
           {
            "aaxis": {
             "endlinecolor": "#2a3f5f",
             "gridcolor": "#C8D4E3",
             "linecolor": "#C8D4E3",
             "minorgridcolor": "#C8D4E3",
             "startlinecolor": "#2a3f5f"
            },
            "baxis": {
             "endlinecolor": "#2a3f5f",
             "gridcolor": "#C8D4E3",
             "linecolor": "#C8D4E3",
             "minorgridcolor": "#C8D4E3",
             "startlinecolor": "#2a3f5f"
            },
            "type": "carpet"
           }
          ],
          "choropleth": [
           {
            "colorbar": {
             "outlinewidth": 0,
             "ticks": ""
            },
            "type": "choropleth"
           }
          ],
          "contour": [
           {
            "colorbar": {
             "outlinewidth": 0,
             "ticks": ""
            },
            "colorscale": [
             [
              0,
              "#0d0887"
             ],
             [
              0.1111111111111111,
              "#46039f"
             ],
             [
              0.2222222222222222,
              "#7201a8"
             ],
             [
              0.3333333333333333,
              "#9c179e"
             ],
             [
              0.4444444444444444,
              "#bd3786"
             ],
             [
              0.5555555555555556,
              "#d8576b"
             ],
             [
              0.6666666666666666,
              "#ed7953"
             ],
             [
              0.7777777777777778,
              "#fb9f3a"
             ],
             [
              0.8888888888888888,
              "#fdca26"
             ],
             [
              1,
              "#f0f921"
             ]
            ],
            "type": "contour"
           }
          ],
          "contourcarpet": [
           {
            "colorbar": {
             "outlinewidth": 0,
             "ticks": ""
            },
            "type": "contourcarpet"
           }
          ],
          "heatmap": [
           {
            "colorbar": {
             "outlinewidth": 0,
             "ticks": ""
            },
            "colorscale": [
             [
              0,
              "#0d0887"
             ],
             [
              0.1111111111111111,
              "#46039f"
             ],
             [
              0.2222222222222222,
              "#7201a8"
             ],
             [
              0.3333333333333333,
              "#9c179e"
             ],
             [
              0.4444444444444444,
              "#bd3786"
             ],
             [
              0.5555555555555556,
              "#d8576b"
             ],
             [
              0.6666666666666666,
              "#ed7953"
             ],
             [
              0.7777777777777778,
              "#fb9f3a"
             ],
             [
              0.8888888888888888,
              "#fdca26"
             ],
             [
              1,
              "#f0f921"
             ]
            ],
            "type": "heatmap"
           }
          ],
          "heatmapgl": [
           {
            "colorbar": {
             "outlinewidth": 0,
             "ticks": ""
            },
            "colorscale": [
             [
              0,
              "#0d0887"
             ],
             [
              0.1111111111111111,
              "#46039f"
             ],
             [
              0.2222222222222222,
              "#7201a8"
             ],
             [
              0.3333333333333333,
              "#9c179e"
             ],
             [
              0.4444444444444444,
              "#bd3786"
             ],
             [
              0.5555555555555556,
              "#d8576b"
             ],
             [
              0.6666666666666666,
              "#ed7953"
             ],
             [
              0.7777777777777778,
              "#fb9f3a"
             ],
             [
              0.8888888888888888,
              "#fdca26"
             ],
             [
              1,
              "#f0f921"
             ]
            ],
            "type": "heatmapgl"
           }
          ],
          "histogram": [
           {
            "marker": {
             "pattern": {
              "fillmode": "overlay",
              "size": 10,
              "solidity": 0.2
             }
            },
            "type": "histogram"
           }
          ],
          "histogram2d": [
           {
            "colorbar": {
             "outlinewidth": 0,
             "ticks": ""
            },
            "colorscale": [
             [
              0,
              "#0d0887"
             ],
             [
              0.1111111111111111,
              "#46039f"
             ],
             [
              0.2222222222222222,
              "#7201a8"
             ],
             [
              0.3333333333333333,
              "#9c179e"
             ],
             [
              0.4444444444444444,
              "#bd3786"
             ],
             [
              0.5555555555555556,
              "#d8576b"
             ],
             [
              0.6666666666666666,
              "#ed7953"
             ],
             [
              0.7777777777777778,
              "#fb9f3a"
             ],
             [
              0.8888888888888888,
              "#fdca26"
             ],
             [
              1,
              "#f0f921"
             ]
            ],
            "type": "histogram2d"
           }
          ],
          "histogram2dcontour": [
           {
            "colorbar": {
             "outlinewidth": 0,
             "ticks": ""
            },
            "colorscale": [
             [
              0,
              "#0d0887"
             ],
             [
              0.1111111111111111,
              "#46039f"
             ],
             [
              0.2222222222222222,
              "#7201a8"
             ],
             [
              0.3333333333333333,
              "#9c179e"
             ],
             [
              0.4444444444444444,
              "#bd3786"
             ],
             [
              0.5555555555555556,
              "#d8576b"
             ],
             [
              0.6666666666666666,
              "#ed7953"
             ],
             [
              0.7777777777777778,
              "#fb9f3a"
             ],
             [
              0.8888888888888888,
              "#fdca26"
             ],
             [
              1,
              "#f0f921"
             ]
            ],
            "type": "histogram2dcontour"
           }
          ],
          "mesh3d": [
           {
            "colorbar": {
             "outlinewidth": 0,
             "ticks": ""
            },
            "type": "mesh3d"
           }
          ],
          "parcoords": [
           {
            "line": {
             "colorbar": {
              "outlinewidth": 0,
              "ticks": ""
             }
            },
            "type": "parcoords"
           }
          ],
          "pie": [
           {
            "automargin": true,
            "type": "pie"
           }
          ],
          "scatter": [
           {
            "marker": {
             "colorbar": {
              "outlinewidth": 0,
              "ticks": ""
             }
            },
            "type": "scatter"
           }
          ],
          "scatter3d": [
           {
            "line": {
             "colorbar": {
              "outlinewidth": 0,
              "ticks": ""
             }
            },
            "marker": {
             "colorbar": {
              "outlinewidth": 0,
              "ticks": ""
             }
            },
            "type": "scatter3d"
           }
          ],
          "scattercarpet": [
           {
            "marker": {
             "colorbar": {
              "outlinewidth": 0,
              "ticks": ""
             }
            },
            "type": "scattercarpet"
           }
          ],
          "scattergeo": [
           {
            "marker": {
             "colorbar": {
              "outlinewidth": 0,
              "ticks": ""
             }
            },
            "type": "scattergeo"
           }
          ],
          "scattergl": [
           {
            "marker": {
             "colorbar": {
              "outlinewidth": 0,
              "ticks": ""
             }
            },
            "type": "scattergl"
           }
          ],
          "scattermapbox": [
           {
            "marker": {
             "colorbar": {
              "outlinewidth": 0,
              "ticks": ""
             }
            },
            "type": "scattermapbox"
           }
          ],
          "scatterpolar": [
           {
            "marker": {
             "colorbar": {
              "outlinewidth": 0,
              "ticks": ""
             }
            },
            "type": "scatterpolar"
           }
          ],
          "scatterpolargl": [
           {
            "marker": {
             "colorbar": {
              "outlinewidth": 0,
              "ticks": ""
             }
            },
            "type": "scatterpolargl"
           }
          ],
          "scatterternary": [
           {
            "marker": {
             "colorbar": {
              "outlinewidth": 0,
              "ticks": ""
             }
            },
            "type": "scatterternary"
           }
          ],
          "surface": [
           {
            "colorbar": {
             "outlinewidth": 0,
             "ticks": ""
            },
            "colorscale": [
             [
              0,
              "#0d0887"
             ],
             [
              0.1111111111111111,
              "#46039f"
             ],
             [
              0.2222222222222222,
              "#7201a8"
             ],
             [
              0.3333333333333333,
              "#9c179e"
             ],
             [
              0.4444444444444444,
              "#bd3786"
             ],
             [
              0.5555555555555556,
              "#d8576b"
             ],
             [
              0.6666666666666666,
              "#ed7953"
             ],
             [
              0.7777777777777778,
              "#fb9f3a"
             ],
             [
              0.8888888888888888,
              "#fdca26"
             ],
             [
              1,
              "#f0f921"
             ]
            ],
            "type": "surface"
           }
          ],
          "table": [
           {
            "cells": {
             "fill": {
              "color": "#EBF0F8"
             },
             "line": {
              "color": "white"
             }
            },
            "header": {
             "fill": {
              "color": "#C8D4E3"
             },
             "line": {
              "color": "white"
             }
            },
            "type": "table"
           }
          ]
         },
         "layout": {
          "annotationdefaults": {
           "arrowcolor": "#2a3f5f",
           "arrowhead": 0,
           "arrowwidth": 1
          },
          "autotypenumbers": "strict",
          "coloraxis": {
           "colorbar": {
            "outlinewidth": 0,
            "ticks": ""
           }
          },
          "colorscale": {
           "diverging": [
            [
             0,
             "#8e0152"
            ],
            [
             0.1,
             "#c51b7d"
            ],
            [
             0.2,
             "#de77ae"
            ],
            [
             0.3,
             "#f1b6da"
            ],
            [
             0.4,
             "#fde0ef"
            ],
            [
             0.5,
             "#f7f7f7"
            ],
            [
             0.6,
             "#e6f5d0"
            ],
            [
             0.7,
             "#b8e186"
            ],
            [
             0.8,
             "#7fbc41"
            ],
            [
             0.9,
             "#4d9221"
            ],
            [
             1,
             "#276419"
            ]
           ],
           "sequential": [
            [
             0,
             "#0d0887"
            ],
            [
             0.1111111111111111,
             "#46039f"
            ],
            [
             0.2222222222222222,
             "#7201a8"
            ],
            [
             0.3333333333333333,
             "#9c179e"
            ],
            [
             0.4444444444444444,
             "#bd3786"
            ],
            [
             0.5555555555555556,
             "#d8576b"
            ],
            [
             0.6666666666666666,
             "#ed7953"
            ],
            [
             0.7777777777777778,
             "#fb9f3a"
            ],
            [
             0.8888888888888888,
             "#fdca26"
            ],
            [
             1,
             "#f0f921"
            ]
           ],
           "sequentialminus": [
            [
             0,
             "#0d0887"
            ],
            [
             0.1111111111111111,
             "#46039f"
            ],
            [
             0.2222222222222222,
             "#7201a8"
            ],
            [
             0.3333333333333333,
             "#9c179e"
            ],
            [
             0.4444444444444444,
             "#bd3786"
            ],
            [
             0.5555555555555556,
             "#d8576b"
            ],
            [
             0.6666666666666666,
             "#ed7953"
            ],
            [
             0.7777777777777778,
             "#fb9f3a"
            ],
            [
             0.8888888888888888,
             "#fdca26"
            ],
            [
             1,
             "#f0f921"
            ]
           ]
          },
          "colorway": [
           "#636efa",
           "#EF553B",
           "#00cc96",
           "#ab63fa",
           "#FFA15A",
           "#19d3f3",
           "#FF6692",
           "#B6E880",
           "#FF97FF",
           "#FECB52"
          ],
          "font": {
           "color": "#2a3f5f"
          },
          "geo": {
           "bgcolor": "white",
           "lakecolor": "white",
           "landcolor": "white",
           "showlakes": true,
           "showland": true,
           "subunitcolor": "#C8D4E3"
          },
          "hoverlabel": {
           "align": "left"
          },
          "hovermode": "closest",
          "mapbox": {
           "style": "light"
          },
          "paper_bgcolor": "white",
          "plot_bgcolor": "white",
          "polar": {
           "angularaxis": {
            "gridcolor": "#EBF0F8",
            "linecolor": "#EBF0F8",
            "ticks": ""
           },
           "bgcolor": "white",
           "radialaxis": {
            "gridcolor": "#EBF0F8",
            "linecolor": "#EBF0F8",
            "ticks": ""
           }
          },
          "scene": {
           "xaxis": {
            "backgroundcolor": "white",
            "gridcolor": "#DFE8F3",
            "gridwidth": 2,
            "linecolor": "#EBF0F8",
            "showbackground": true,
            "ticks": "",
            "zerolinecolor": "#EBF0F8"
           },
           "yaxis": {
            "backgroundcolor": "white",
            "gridcolor": "#DFE8F3",
            "gridwidth": 2,
            "linecolor": "#EBF0F8",
            "showbackground": true,
            "ticks": "",
            "zerolinecolor": "#EBF0F8"
           },
           "zaxis": {
            "backgroundcolor": "white",
            "gridcolor": "#DFE8F3",
            "gridwidth": 2,
            "linecolor": "#EBF0F8",
            "showbackground": true,
            "ticks": "",
            "zerolinecolor": "#EBF0F8"
           }
          },
          "shapedefaults": {
           "line": {
            "color": "#2a3f5f"
           }
          },
          "ternary": {
           "aaxis": {
            "gridcolor": "#DFE8F3",
            "linecolor": "#A2B1C6",
            "ticks": ""
           },
           "baxis": {
            "gridcolor": "#DFE8F3",
            "linecolor": "#A2B1C6",
            "ticks": ""
           },
           "bgcolor": "white",
           "caxis": {
            "gridcolor": "#DFE8F3",
            "linecolor": "#A2B1C6",
            "ticks": ""
           }
          },
          "title": {
           "x": 0.05
          },
          "xaxis": {
           "automargin": true,
           "gridcolor": "#EBF0F8",
           "linecolor": "#EBF0F8",
           "ticks": "",
           "title": {
            "standoff": 15
           },
           "zerolinecolor": "#EBF0F8",
           "zerolinewidth": 2
          },
          "yaxis": {
           "automargin": true,
           "gridcolor": "#EBF0F8",
           "linecolor": "#EBF0F8",
           "ticks": "",
           "title": {
            "standoff": 15
           },
           "zerolinecolor": "#EBF0F8",
           "zerolinewidth": 2
          }
         }
        },
        "title": {
         "text": "Protein: G-protein coupled receptor 183 (P32249)"
        }
       }
      }
     },
     "metadata": {},
     "output_type": "display_data"
    }
   ],
   "source": [
    "figure = GPCR183.plot(window_size = 10)\n",
    "figure.show()"
   ]
  },
  {
   "cell_type": "code",
   "execution_count": null,
   "metadata": {},
   "outputs": [],
   "source": [
    "\n"
   ]
  },
  {
   "cell_type": "markdown",
   "metadata": {},
   "source": []
  }
 ],
 "metadata": {
  "interpreter": {
   "hash": "7d5b6227254c834591d20ed2ddda9f5d8284f3539732c1601401324a351076a7"
  },
  "kernelspec": {
   "display_name": "Python 3.8.9 64-bit ('venv': venv)",
   "language": "python",
   "name": "python3"
  },
  "language_info": {
   "codemirror_mode": {
    "name": "ipython",
    "version": 3
   },
   "file_extension": ".py",
   "mimetype": "text/x-python",
   "name": "python",
   "nbconvert_exporter": "python",
   "pygments_lexer": "ipython3",
   "version": "3.8.9"
  },
  "orig_nbformat": 4
 },
 "nbformat": 4,
 "nbformat_minor": 2
}
