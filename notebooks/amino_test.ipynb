{
 "cells": [
  {
   "cell_type": "markdown",
   "metadata": {},
   "source": [
    "# Exercise\n",
    "\n",
    "* Write tests to you Protein class \n",
    "* Add actions to your github account that tests the Protein class \n",
    "* Try to auto generate sphinx documentation using github actions "
   ]
  },
  {
   "cell_type": "code",
   "execution_count": null,
   "metadata": {},
   "outputs": [],
   "source": [
    "import pytest"
   ]
  },
  {
   "cell_type": "code",
   "execution_count": 1,
   "metadata": {},
   "outputs": [],
   "source": [
    "!mkdir ../protein_class\n",
    "!mkdir ../tests\n",
    "!mkdir ../docs"
   ]
  },
  {
   "cell_type": "code",
   "execution_count": 2,
   "metadata": {},
   "outputs": [
    {
     "name": "stdout",
     "output_type": "stream",
     "text": [
      "Writing ../protein_class/__init__.py\n"
     ]
    }
   ],
   "source": [
    "%%writefile ../protein_class/__init__.py\n",
    "from . import basic"
   ]
  },
  {
   "cell_type": "code",
   "execution_count": 3,
   "metadata": {},
   "outputs": [
    {
     "name": "stdout",
     "output_type": "stream",
     "text": [
      "Writing ../protein_class/protein_class.py\n"
     ]
    }
   ],
   "source": [
    "%%writefile ../protein_class/protein_class.py\n",
    "\n",
    "import numpy as np\n",
    "import plotly\n",
    "import plotly.graph_objs as go\n",
    "from collections import deque\n",
    "import pandas as pd\n",
    "import plotly.express as px\n",
    "\n",
    "aa_df = pd.read_csv(\"/Users/anafink/OneDrive - bwedu/Bachelor MoBi/5. Fachsemester/Python Praktikum/advanced_python_2021-22_HD/data/amino_acid_properties.csv\")\n",
    "\n",
    "metrics = {}\n",
    "hydropathy_aa = {}\n",
    "pI_aa = {}\n",
    "hp_type_aa = {}\n",
    "hydropathy_aa = aa_df.groupby('1-letter code')['hydropathy index (Kyte-Doolittle method)'].apply(float).to_dict()\n",
    "pI_aa = aa_df.groupby('1-letter code')['pI'].apply(float).to_dict()\n",
    "metrics = {\n",
    "    \"hydropathy\" : hydropathy_aa,\n",
    "    \"pI\" : pI_aa,\n",
    "}\n",
    "\n",
    "\n",
    "class protein:\n",
    "\n",
    "    def __init__(self, name, id, sequence):\n",
    "        self.name = name\n",
    "        self.id = id\n",
    "        self.sequence = sequence\n",
    "        \n",
    "\n",
    "    def define_metrics(self, metric_aa = \"hydropathy\"):\n",
    "        metric_values = []\n",
    "        for pos, aa in enumerate(self.sequence):\n",
    "            metric_values.append(metrics[metric_aa][aa])\n",
    "        return metric_values\n",
    "\n",
    "    def get_aa_pos(self):\n",
    "        aa_pos = []\n",
    "        aa_pos = list(range(1,len(self.sequence)+1))\n",
    "        return aa_pos\n",
    "\n",
    "    def get_y_values(self, metric_aa = \"hydropathy\", window_size = 5 ):\n",
    "\n",
    "        metric_values = self.define_metrics(metric_aa)\n",
    "        window = deque([], maxlen = window_size)\n",
    "\n",
    "        mean_values = []\n",
    "\n",
    "        for value in metric_values:\n",
    "            window.append(value)\n",
    "            mean_values.append(np.mean(window))\n",
    "\n",
    "        return mean_values\n",
    "        \n",
    "    def plot(self, metric=\"hydropathy\", window_size = 5):\n",
    "        \n",
    "        x_values = self.get_aa_pos()\n",
    "        y_values = self.get_y_values(metric, window_size)    \n",
    "        \n",
    "        data = [\n",
    "            go.Bar(\n",
    "                x = x_values, \n",
    "                y = y_values, \n",
    "            )\n",
    "        ]\n",
    "        \n",
    "        fig = go.Figure(data=data)\n",
    "        fig.update_layout(template=\"plotly_white\", title=\"Protein: \" + self.name)\n",
    "        return fig"
   ]
  },
  {
   "cell_type": "code",
   "execution_count": 5,
   "metadata": {},
   "outputs": [
    {
     "name": "stdout",
     "output_type": "stream",
     "text": [
      "Overwriting ../tests/test_proetin_class.py\n"
     ]
    }
   ],
   "source": [
    "%%writefile ../tests/test_proetin_class.py \n",
    "import sys\n",
    "from pathlib import Path\n",
    "\n",
    "import protein_class\n",
    "\n",
    "def test_protein_class():\n",
    "    ex_protein = (\"Some Protein\", 1234, [A,C,D,E,F,G,H,I,K,L,M,N,P,Q,R,S,T,V,W,Y])"
   ]
  }
 ],
 "metadata": {
  "interpreter": {
   "hash": "7d5b6227254c834591d20ed2ddda9f5d8284f3539732c1601401324a351076a7"
  },
  "kernelspec": {
   "display_name": "Python 3.8.9 64-bit ('venv': venv)",
   "language": "python",
   "name": "python3"
  },
  "language_info": {
   "codemirror_mode": {
    "name": "ipython",
    "version": 3
   },
   "file_extension": ".py",
   "mimetype": "text/x-python",
   "name": "python",
   "nbconvert_exporter": "python",
   "pygments_lexer": "ipython3",
   "version": "3.8.9"
  },
  "orig_nbformat": 4
 },
 "nbformat": 4,
 "nbformat_minor": 2
}
