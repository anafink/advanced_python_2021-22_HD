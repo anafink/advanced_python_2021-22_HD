{
 "cells": [
  {
   "cell_type": "code",
   "execution_count": 74,
   "id": "million-advancement",
   "metadata": {},
   "outputs": [
    {
     "data": {
      "text/markdown": [
       "# Advanced Python Course \n",
       "## Mobi Heidelberg WS 2021/22\n",
       "### by Christian Fufezan \n",
       "\n",
       "christian@fufezan.net\n",
       "\n",
       "https://fufezan.net\n",
       "\n",
       "<img src=\"./images/cc.png\" alt=\"drawing\" width=\"200\" style=\"float: left;\"/>\n"
      ],
      "text/plain": [
       "<IPython.core.display.Markdown object>"
      ]
     },
     "metadata": {},
     "output_type": "display_data"
    }
   ],
   "source": [
    "import course;course.header()"
   ]
  },
  {
   "cell_type": "markdown",
   "id": "quick-microwave",
   "metadata": {},
   "source": [
    "## A) get data\n",
    "go to uniprot and download the fasta protein sequence for \"G-protein coupled receptor 183\" - aka \"P32249\""
   ]
  },
  {
   "cell_type": "markdown",
   "id": "coated-instrumentation",
   "metadata": {},
   "source": [
    "## B) Create a protein class\n",
    "\n",
    "that can be initialized by a name (or ID), sequence and a metrics dictionary, like:"
   ]
  },
  {
   "cell_type": "code",
   "execution_count": 75,
   "metadata": {},
   "outputs": [
    {
     "data": {
      "text/plain": [
       "['>UniRef100_P32249 G-protein coupled receptor 183 n=2 Tax=Homo sapiens TaxID=9606 RepID=GP183_HUMAN\\n',\n",
       " 'MDIQMANNFTPPSATPQGNDCDLYAHHSTARIVMPLHYSLVFIIGLVGNLLALVVIVQNR\\n',\n",
       " 'KKINSTTLYSTNLVISDILFTTALPTRIAYYAMGFDWRIGDALCRITALVFYINTYAGVN\\n',\n",
       " 'FMTCLSIDRFIAVVHPLRYNKIKRIEHAKGVCIFVWILVFAQTLPLLINPMSKQEAERIT\\n',\n",
       " 'CMEYPNFEETKSLPWILLGACFIGYVLPLIIILICYSQICCKLFRTAKQNPLTEKSGVNK\\n',\n",
       " 'KALNTIILIIVVFVLCFTPYHVAIIQHMIKKLRFSNFLECSQRHSFQISLHFTVCLMNFN\\n',\n",
       " 'CCMDPFIYFFACKGYKRKVMRMLKRQVSVSISSAVKSAPEENSREMTETQMMIHSKSSNG\\n',\n",
       " 'K\\n']"
      ]
     },
     "execution_count": 75,
     "metadata": {},
     "output_type": "execute_result"
    }
   ],
   "source": [
    "path = \"/Users/anafink/OneDrive - bwedu/Bachelor MoBi/5. Fachsemester/Python Praktikum/uniref-P32249-filtered-identity_1.0.fasta\"\n",
    "GPCR183_fasta = []\n",
    "with open(path) as f:\n",
    "    for line in f:\n",
    "        GPCR183_fasta.append(line)\n",
    "\n",
    "GPCR183_fasta\n"
   ]
  },
  {
   "cell_type": "code",
   "execution_count": 76,
   "id": "99759eb4",
   "metadata": {},
   "outputs": [],
   "source": [
    "GPCR183_seq = GPCR183_fasta\n",
    "\n",
    "for pos, seq in enumerate(GPCR183_seq):\n",
    "    if seq[0] == \">\":\n",
    "        GPCR183_seq.pop(pos)\n",
    "    \n",
    "GPCR183_seq = [x[:-1] for x in GPCR183_seq]\n",
    "\n",
    "GPCR183_seq = ''.join(GPCR183_seq)\n",
    "\n",
    "def split(string):\n",
    "    return [char for char in string]\n",
    "\n",
    "GPCR183_seq_sep = split(GPCR183_seq)\n"
   ]
  },
  {
   "cell_type": "code",
   "execution_count": 153,
   "id": "53be0fd8",
   "metadata": {},
   "outputs": [],
   "source": [
    "class protein:\n",
    "    def __init__(self, name, id, sequence):\n",
    "        self.name = name\n",
    "        self.id = id\n",
    "        self.sequence = sequence\n",
    "\n",
    "GPCR183 = protein(\"G-protein coupled receptor 183 (P32249)\", \"9606\", GPCR183_seq)\n",
    "\n",
    "\n"
   ]
  },
  {
   "cell_type": "code",
   "execution_count": 127,
   "id": "d7fbd2d1",
   "metadata": {},
   "outputs": [],
   "source": [
    "\n",
    "# metrics = {\n",
    "#    \"hydropathy\": {\"A\" : 1.8 , \"C\" : 2.5, \"D\" : -3.5, \"E\" : 3.5, \"F\" : 2.8, \n",
    "#    \"G\" : -0.4, \"H\" : -3.2, \"I\" : 4.5, \"K\" : -3.9, \"L\" : 3.8, \"M\" : 1.9, \n",
    "#    \"N\" : -3.5, \"P\" : -1.6, \"Q\" : -3.5, \"R\" : -4.5, \"S\" : -0.8, \"T\" : -0.7,\n",
    "#    \"V\" : 4.2, \"W\" : -0.9, \"Y\" : -1.3},\n",
    "#    \"pI\": {\"A\" : \"6.11\", \"C\" : \"5.02\", \"D\" : \"2.87\", \"E\" : \"3.08\", \"F\" : \"5.91\", \n",
    "#    \"G\" : \"6.06\", \"H\" : \"7.64\", \"I\" : \"6.04\", \"K\" : \"9.47\", \"L\" : \"6.04\", \"M\" : \"5.74\", \n",
    "#    \"N\" : \"5.41\", \"P\" : \"6.3\", \"Q\" : \"5.65\", \"R\" : \"10.76\", \"S\" : \"5.68\", \"T\" : \"5.6\",\n",
    "#    \"V\" : \"6.02\", \"W\" : \"5.88\", \"Y\" : \"5.63\"},\n",
    "#}\n",
    "\n",
    "#ugly solution\n"
   ]
  },
  {
   "cell_type": "code",
   "execution_count": 243,
   "id": "f0d423dd",
   "metadata": {},
   "outputs": [
    {
     "data": {
      "text/plain": [
       "{'hydropathy': {'A': 1.8,\n",
       "  'C': 2.5,\n",
       "  'D': -3.5,\n",
       "  'E': -3.5,\n",
       "  'F': 2.8,\n",
       "  'G': -0.4,\n",
       "  'H': -3.2,\n",
       "  'I': 4.5,\n",
       "  'K': -3.9,\n",
       "  'L': 3.8,\n",
       "  'M': 1.9,\n",
       "  'N': -3.5,\n",
       "  'P': -1.6,\n",
       "  'Q': -3.5,\n",
       "  'R': -4.5,\n",
       "  'S': -0.8,\n",
       "  'T': -0.7,\n",
       "  'V': 4.2,\n",
       "  'W': -0.9,\n",
       "  'Y': -1.3},\n",
       " 'pI': {'A': 6.0,\n",
       "  'C': 5.07,\n",
       "  'D': 2.77,\n",
       "  'E': 3.22,\n",
       "  'F': 5.48,\n",
       "  'G': 5.97,\n",
       "  'H': 7.59,\n",
       "  'I': 6.02,\n",
       "  'K': 9.74,\n",
       "  'L': 5.98,\n",
       "  'M': 5.74,\n",
       "  'N': 5.41,\n",
       "  'P': 6.3,\n",
       "  'Q': 5.65,\n",
       "  'R': 10.76,\n",
       "  'S': 5.68,\n",
       "  'T': 5.6,\n",
       "  'V': 5.96,\n",
       "  'W': 5.89,\n",
       "  'Y': 5.66}}"
      ]
     },
     "execution_count": 243,
     "metadata": {},
     "output_type": "execute_result"
    }
   ],
   "source": [
    "aa_df = pd.read_csv(\"../data/amino_acid_properties.csv\")\n",
    "\n",
    "metrics = {}\n",
    "hydropathy_aa = {}\n",
    "pI_aa = {}\n",
    "hp_type_aa = {}\n",
    "hydropathy_aa = aa_df.groupby('1-letter code')['hydropathy index (Kyte-Doolittle method)'].apply(float).to_dict()\n",
    "pI_aa = aa_df.groupby('1-letter code')['pI'].apply(float).to_dict()\n",
    "#hp_type_aa = aa_df.groupby('1-letter code')['hp_type'].apply(list).to_dict()\n",
    "\n",
    "\n",
    "\n",
    "\n",
    "metrics = {\n",
    "    \"hydropathy\" : hydropathy_aa,\n",
    "    \"pI\" : pI_aa,\n",
    "    #\"hp_type\" : hp_type_aa\n",
    "}\n",
    "\n",
    "metrics\n",
    "#pretty solution"
   ]
  },
  {
   "cell_type": "markdown",
   "id": "committed-publication",
   "metadata": {},
   "source": [
    "## C) Plot\n",
    "\n",
    "Create a method that has the following signature:"
   ]
  },
  {
   "cell_type": "code",
   "execution_count": 131,
   "metadata": {},
   "outputs": [
    {
     "name": "stdout",
     "output_type": "stream",
     "text": [
      "Requirement already satisfied: plotly in /Users/anafink/OneDrive - bwedu/Bachelor MoBi/5. Fachsemester/Python Praktikum/advanced_python_2021-22_HD/venv/lib/python3.8/site-packages (5.3.1)\n",
      "Requirement already satisfied: six in /Users/anafink/OneDrive - bwedu/Bachelor MoBi/5. Fachsemester/Python Praktikum/advanced_python_2021-22_HD/venv/lib/python3.8/site-packages (from plotly) (1.16.0)\n",
      "Requirement already satisfied: tenacity>=6.2.0 in /Users/anafink/OneDrive - bwedu/Bachelor MoBi/5. Fachsemester/Python Praktikum/advanced_python_2021-22_HD/venv/lib/python3.8/site-packages (from plotly) (8.0.1)\n"
     ]
    }
   ],
   "source": [
    "!pip install plotly"
   ]
  },
  {
   "cell_type": "code",
   "execution_count": 89,
   "id": "9e0dcca1",
   "metadata": {},
   "outputs": [],
   "source": [
    "import plotly\n",
    "import plotly.graph_objs as go\n",
    "import pandas as pd\n",
    "import plotly.express as px"
   ]
  },
  {
   "cell_type": "code",
   "execution_count": 244,
   "id": "df6e4a34",
   "metadata": {},
   "outputs": [],
   "source": [
    "GPCR183_seq_hydropathy = []\n",
    "for pos, aa in enumerate(GPCR183_seq_sep):\n",
    "    GPCR183_seq_hydropathy.append(metrics[\"hydropathy\"][aa])\n",
    "\n",
    "\n",
    "\n",
    "\n",
    "GPCR183_pos = list(range(1,len(GPCR183_seq_sep)+1))\n"
   ]
  },
  {
   "cell_type": "code",
   "execution_count": 245,
   "id": "c0c36e77",
   "metadata": {},
   "outputs": [
    {
     "data": {
      "text/html": [
       "<div>\n",
       "<style scoped>\n",
       "    .dataframe tbody tr th:only-of-type {\n",
       "        vertical-align: middle;\n",
       "    }\n",
       "\n",
       "    .dataframe tbody tr th {\n",
       "        vertical-align: top;\n",
       "    }\n",
       "\n",
       "    .dataframe thead th {\n",
       "        text-align: right;\n",
       "    }\n",
       "</style>\n",
       "<table border=\"1\" class=\"dataframe\">\n",
       "  <thead>\n",
       "    <tr style=\"text-align: right;\">\n",
       "      <th></th>\n",
       "      <th>aminoacid position</th>\n",
       "      <th>aminoacid sequence</th>\n",
       "      <th>hydropathy</th>\n",
       "    </tr>\n",
       "  </thead>\n",
       "  <tbody>\n",
       "    <tr>\n",
       "      <th>1</th>\n",
       "      <td>1</td>\n",
       "      <td>M</td>\n",
       "      <td>1.9</td>\n",
       "    </tr>\n",
       "    <tr>\n",
       "      <th>2</th>\n",
       "      <td>2</td>\n",
       "      <td>D</td>\n",
       "      <td>-3.5</td>\n",
       "    </tr>\n",
       "    <tr>\n",
       "      <th>3</th>\n",
       "      <td>3</td>\n",
       "      <td>I</td>\n",
       "      <td>4.5</td>\n",
       "    </tr>\n",
       "    <tr>\n",
       "      <th>4</th>\n",
       "      <td>4</td>\n",
       "      <td>Q</td>\n",
       "      <td>-3.5</td>\n",
       "    </tr>\n",
       "    <tr>\n",
       "      <th>5</th>\n",
       "      <td>5</td>\n",
       "      <td>M</td>\n",
       "      <td>1.9</td>\n",
       "    </tr>\n",
       "  </tbody>\n",
       "</table>\n",
       "</div>"
      ],
      "text/plain": [
       "   aminoacid position aminoacid sequence  hydropathy\n",
       "1                   1                  M         1.9\n",
       "2                   2                  D        -3.5\n",
       "3                   3                  I         4.5\n",
       "4                   4                  Q        -3.5\n",
       "5                   5                  M         1.9"
      ]
     },
     "execution_count": 245,
     "metadata": {},
     "output_type": "execute_result"
    }
   ],
   "source": [
    "GPCR183_data = {\"aminoacid position\" : GPCR183_pos, \"aminoacid sequence\" : GPCR183_seq_sep, \"hydropathy\" : GPCR183_seq_hydropathy}\n",
    "df_GPCR183 = pd.DataFrame(data = GPCR183_data, index = GPCR183_pos)\n",
    "df_GPCR183.head()"
   ]
  },
  {
   "cell_type": "code",
   "execution_count": 246,
   "id": "1d48bddf",
   "metadata": {},
   "outputs": [],
   "source": [
    "def plot(self, metric=\"hydropathy\", window_size=1):\n",
    "    \"\"\"Create plotly fig object.\n",
    "\n",
    "    The title of the fig contains protein name, \n",
    "    the x axis is the amino acid position (int) and\n",
    "    y axis shows the metric at each given position. \n",
    "    A windows size can be specified to average the metrics using a sliding window \n",
    "    \n",
    "    Args:\n",
    "        metric (str, optional): Is equal to the key of the metrics dictionary the class was initialized with. \n",
    "            Defaults to \"hydropathy\".\n",
    "        window_size (int, optional): Size of the sliding window. Defaults to 5.\n",
    "    \"\"\"\n",
    "    fig = px.strip(\n",
    "        data_frame = self, \n",
    "        x = \"aminoacid position\", \n",
    "        y = metric, \n",
    "        title = \"Protein: \" + GPCR183.name,\n",
    "    )\n",
    "    \n",
    "    return fig"
   ]
  },
  {
   "cell_type": "code",
   "execution_count": 247,
   "id": "ee38c75b",
   "metadata": {},
   "outputs": [
    {
     "data": {
      "application/vnd.plotly.v1+json": {
       "config": {
        "plotlyServerURL": "https://plot.ly"
       },
       "data": [
        {
         "alignmentgroup": "True",
         "boxpoints": "all",
         "fillcolor": "rgba(255,255,255,0)",
         "hoveron": "points",
         "hovertemplate": "aminoacid position=%{x}<br>hydropathy=%{y}<extra></extra>",
         "legendgroup": "",
         "line": {
          "color": "rgba(255,255,255,0)"
         },
         "marker": {
          "color": "#636efa"
         },
         "name": "",
         "offsetgroup": "",
         "orientation": "v",
         "pointpos": 0,
         "showlegend": false,
         "type": "box",
         "x": [
          1,
          2,
          3,
          4,
          5,
          6,
          7,
          8,
          9,
          10,
          11,
          12,
          13,
          14,
          15,
          16,
          17,
          18,
          19,
          20,
          21,
          22,
          23,
          24,
          25,
          26,
          27,
          28,
          29,
          30,
          31,
          32,
          33,
          34,
          35,
          36,
          37,
          38,
          39,
          40,
          41,
          42,
          43,
          44,
          45,
          46,
          47,
          48,
          49,
          50,
          51,
          52,
          53,
          54,
          55,
          56,
          57,
          58,
          59,
          60,
          61,
          62,
          63,
          64,
          65,
          66,
          67,
          68,
          69,
          70,
          71,
          72,
          73,
          74,
          75,
          76,
          77,
          78,
          79,
          80,
          81,
          82,
          83,
          84,
          85,
          86,
          87,
          88,
          89,
          90,
          91,
          92,
          93,
          94,
          95,
          96,
          97,
          98,
          99,
          100,
          101,
          102,
          103,
          104,
          105,
          106,
          107,
          108,
          109,
          110,
          111,
          112,
          113,
          114,
          115,
          116,
          117,
          118,
          119,
          120,
          121,
          122,
          123,
          124,
          125,
          126,
          127,
          128,
          129,
          130,
          131,
          132,
          133,
          134,
          135,
          136,
          137,
          138,
          139,
          140,
          141,
          142,
          143,
          144,
          145,
          146,
          147,
          148,
          149,
          150,
          151,
          152,
          153,
          154,
          155,
          156,
          157,
          158,
          159,
          160,
          161,
          162,
          163,
          164,
          165,
          166,
          167,
          168,
          169,
          170,
          171,
          172,
          173,
          174,
          175,
          176,
          177,
          178,
          179,
          180,
          181,
          182,
          183,
          184,
          185,
          186,
          187,
          188,
          189,
          190,
          191,
          192,
          193,
          194,
          195,
          196,
          197,
          198,
          199,
          200,
          201,
          202,
          203,
          204,
          205,
          206,
          207,
          208,
          209,
          210,
          211,
          212,
          213,
          214,
          215,
          216,
          217,
          218,
          219,
          220,
          221,
          222,
          223,
          224,
          225,
          226,
          227,
          228,
          229,
          230,
          231,
          232,
          233,
          234,
          235,
          236,
          237,
          238,
          239,
          240,
          241,
          242,
          243,
          244,
          245,
          246,
          247,
          248,
          249,
          250,
          251,
          252,
          253,
          254,
          255,
          256,
          257,
          258,
          259,
          260,
          261,
          262,
          263,
          264,
          265,
          266,
          267,
          268,
          269,
          270,
          271,
          272,
          273,
          274,
          275,
          276,
          277,
          278,
          279,
          280,
          281,
          282,
          283,
          284,
          285,
          286,
          287,
          288,
          289,
          290,
          291,
          292,
          293,
          294,
          295,
          296,
          297,
          298,
          299,
          300,
          301,
          302,
          303,
          304,
          305,
          306,
          307,
          308,
          309,
          310,
          311,
          312,
          313,
          314,
          315,
          316,
          317,
          318,
          319,
          320,
          321,
          322,
          323,
          324,
          325,
          326,
          327,
          328,
          329,
          330,
          331,
          332,
          333,
          334,
          335,
          336,
          337,
          338,
          339,
          340,
          341,
          342,
          343,
          344,
          345,
          346,
          347,
          348,
          349,
          350,
          351,
          352,
          353,
          354,
          355,
          356,
          357,
          358,
          359,
          360,
          361
         ],
         "x0": " ",
         "xaxis": "x",
         "y": [
          1.9,
          -3.5,
          4.5,
          -3.5,
          1.9,
          1.8,
          -3.5,
          -3.5,
          2.8,
          -0.7,
          -1.6,
          -1.6,
          -0.8,
          1.8,
          -0.7,
          -1.6,
          -3.5,
          -0.4,
          -3.5,
          -3.5,
          2.5,
          -3.5,
          3.8,
          -1.3,
          1.8,
          -3.2,
          -3.2,
          -0.8,
          -0.7,
          1.8,
          -4.5,
          4.5,
          4.2,
          1.9,
          -1.6,
          3.8,
          -3.2,
          -1.3,
          -0.8,
          3.8,
          4.2,
          2.8,
          4.5,
          4.5,
          -0.4,
          3.8,
          4.2,
          -0.4,
          -3.5,
          3.8,
          3.8,
          1.8,
          3.8,
          4.2,
          4.2,
          4.5,
          4.2,
          -3.5,
          -3.5,
          -4.5,
          -3.9,
          -3.9,
          4.5,
          -3.5,
          -0.8,
          -0.7,
          -0.7,
          3.8,
          -1.3,
          -0.8,
          -0.7,
          -3.5,
          3.8,
          4.2,
          4.5,
          -0.8,
          -3.5,
          4.5,
          3.8,
          2.8,
          -0.7,
          -0.7,
          1.8,
          3.8,
          -1.6,
          -0.7,
          -4.5,
          4.5,
          1.8,
          -1.3,
          -1.3,
          1.8,
          1.9,
          -0.4,
          2.8,
          -3.5,
          -0.9,
          -4.5,
          4.5,
          -0.4,
          -3.5,
          1.8,
          3.8,
          2.5,
          -4.5,
          4.5,
          -0.7,
          1.8,
          3.8,
          4.2,
          2.8,
          -1.3,
          4.5,
          -3.5,
          -0.7,
          -1.3,
          1.8,
          -0.4,
          4.2,
          -3.5,
          2.8,
          1.9,
          -0.7,
          2.5,
          3.8,
          -0.8,
          4.5,
          -3.5,
          -4.5,
          2.8,
          4.5,
          1.8,
          4.2,
          4.2,
          -3.2,
          -1.6,
          3.8,
          -4.5,
          -1.3,
          -3.5,
          -3.9,
          4.5,
          -3.9,
          -4.5,
          4.5,
          -3.5,
          -3.2,
          1.8,
          -3.9,
          -0.4,
          4.2,
          2.5,
          4.5,
          2.8,
          4.2,
          -0.9,
          4.5,
          3.8,
          4.2,
          2.8,
          1.8,
          -3.5,
          -0.7,
          3.8,
          -1.6,
          3.8,
          3.8,
          4.5,
          -3.5,
          -1.6,
          1.9,
          -0.8,
          -3.9,
          -3.5,
          -3.5,
          1.8,
          -3.5,
          -4.5,
          4.5,
          -0.7,
          2.5,
          1.9,
          -3.5,
          -1.3,
          -1.6,
          -3.5,
          2.8,
          -3.5,
          -3.5,
          -0.7,
          -3.9,
          -0.8,
          3.8,
          -1.6,
          -0.9,
          4.5,
          3.8,
          3.8,
          -0.4,
          1.8,
          2.5,
          2.8,
          4.5,
          -0.4,
          -1.3,
          4.2,
          3.8,
          -1.6,
          3.8,
          4.5,
          4.5,
          4.5,
          3.8,
          4.5,
          2.5,
          -1.3,
          -0.8,
          -3.5,
          4.5,
          2.5,
          2.5,
          -3.9,
          3.8,
          2.8,
          -4.5,
          -0.7,
          1.8,
          -3.9,
          -3.5,
          -3.5,
          -1.6,
          3.8,
          -0.7,
          -3.5,
          -3.9,
          -0.8,
          -0.4,
          4.2,
          -3.5,
          -3.9,
          -3.9,
          1.8,
          3.8,
          -3.5,
          -0.7,
          4.5,
          4.5,
          3.8,
          4.5,
          4.5,
          4.2,
          4.2,
          2.8,
          4.2,
          3.8,
          2.5,
          2.8,
          -0.7,
          -1.6,
          -1.3,
          -3.2,
          4.2,
          1.8,
          4.5,
          4.5,
          -3.5,
          -3.2,
          1.9,
          4.5,
          -3.9,
          -3.9,
          3.8,
          -4.5,
          2.8,
          -0.8,
          -3.5,
          2.8,
          3.8,
          -3.5,
          2.5,
          -0.8,
          -3.5,
          -4.5,
          -3.2,
          -0.8,
          2.8,
          -3.5,
          4.5,
          -0.8,
          3.8,
          -3.2,
          2.8,
          -0.7,
          4.2,
          2.5,
          3.8,
          1.9,
          -3.5,
          2.8,
          -3.5,
          2.5,
          2.5,
          1.9,
          -3.5,
          -1.6,
          2.8,
          4.5,
          -1.3,
          2.8,
          2.8,
          1.8,
          2.5,
          -3.9,
          -0.4,
          -1.3,
          -3.9,
          -4.5,
          -3.9,
          4.2,
          1.9,
          -4.5,
          1.9,
          3.8,
          -3.9,
          -4.5,
          -3.5,
          4.2,
          -0.8,
          4.2,
          -0.8,
          4.5,
          -0.8,
          -0.8,
          1.8,
          4.2,
          -3.9,
          -0.8,
          1.8,
          -1.6,
          -3.5,
          -3.5,
          -3.5,
          -0.8,
          -4.5,
          -3.5,
          1.9,
          -0.7,
          -3.5,
          -0.7,
          -3.5,
          1.9,
          1.9,
          4.5,
          -3.2,
          -0.8,
          -3.9,
          -0.8,
          -0.8,
          -3.5,
          -0.4,
          -3.9
         ],
         "y0": " ",
         "yaxis": "y"
        }
       ],
       "layout": {
        "boxmode": "group",
        "legend": {
         "tracegroupgap": 0
        },
        "template": {
         "data": {
          "bar": [
           {
            "error_x": {
             "color": "#2a3f5f"
            },
            "error_y": {
             "color": "#2a3f5f"
            },
            "marker": {
             "line": {
              "color": "#E5ECF6",
              "width": 0.5
             },
             "pattern": {
              "fillmode": "overlay",
              "size": 10,
              "solidity": 0.2
             }
            },
            "type": "bar"
           }
          ],
          "barpolar": [
           {
            "marker": {
             "line": {
              "color": "#E5ECF6",
              "width": 0.5
             },
             "pattern": {
              "fillmode": "overlay",
              "size": 10,
              "solidity": 0.2
             }
            },
            "type": "barpolar"
           }
          ],
          "carpet": [
           {
            "aaxis": {
             "endlinecolor": "#2a3f5f",
             "gridcolor": "white",
             "linecolor": "white",
             "minorgridcolor": "white",
             "startlinecolor": "#2a3f5f"
            },
            "baxis": {
             "endlinecolor": "#2a3f5f",
             "gridcolor": "white",
             "linecolor": "white",
             "minorgridcolor": "white",
             "startlinecolor": "#2a3f5f"
            },
            "type": "carpet"
           }
          ],
          "choropleth": [
           {
            "colorbar": {
             "outlinewidth": 0,
             "ticks": ""
            },
            "type": "choropleth"
           }
          ],
          "contour": [
           {
            "colorbar": {
             "outlinewidth": 0,
             "ticks": ""
            },
            "colorscale": [
             [
              0,
              "#0d0887"
             ],
             [
              0.1111111111111111,
              "#46039f"
             ],
             [
              0.2222222222222222,
              "#7201a8"
             ],
             [
              0.3333333333333333,
              "#9c179e"
             ],
             [
              0.4444444444444444,
              "#bd3786"
             ],
             [
              0.5555555555555556,
              "#d8576b"
             ],
             [
              0.6666666666666666,
              "#ed7953"
             ],
             [
              0.7777777777777778,
              "#fb9f3a"
             ],
             [
              0.8888888888888888,
              "#fdca26"
             ],
             [
              1,
              "#f0f921"
             ]
            ],
            "type": "contour"
           }
          ],
          "contourcarpet": [
           {
            "colorbar": {
             "outlinewidth": 0,
             "ticks": ""
            },
            "type": "contourcarpet"
           }
          ],
          "heatmap": [
           {
            "colorbar": {
             "outlinewidth": 0,
             "ticks": ""
            },
            "colorscale": [
             [
              0,
              "#0d0887"
             ],
             [
              0.1111111111111111,
              "#46039f"
             ],
             [
              0.2222222222222222,
              "#7201a8"
             ],
             [
              0.3333333333333333,
              "#9c179e"
             ],
             [
              0.4444444444444444,
              "#bd3786"
             ],
             [
              0.5555555555555556,
              "#d8576b"
             ],
             [
              0.6666666666666666,
              "#ed7953"
             ],
             [
              0.7777777777777778,
              "#fb9f3a"
             ],
             [
              0.8888888888888888,
              "#fdca26"
             ],
             [
              1,
              "#f0f921"
             ]
            ],
            "type": "heatmap"
           }
          ],
          "heatmapgl": [
           {
            "colorbar": {
             "outlinewidth": 0,
             "ticks": ""
            },
            "colorscale": [
             [
              0,
              "#0d0887"
             ],
             [
              0.1111111111111111,
              "#46039f"
             ],
             [
              0.2222222222222222,
              "#7201a8"
             ],
             [
              0.3333333333333333,
              "#9c179e"
             ],
             [
              0.4444444444444444,
              "#bd3786"
             ],
             [
              0.5555555555555556,
              "#d8576b"
             ],
             [
              0.6666666666666666,
              "#ed7953"
             ],
             [
              0.7777777777777778,
              "#fb9f3a"
             ],
             [
              0.8888888888888888,
              "#fdca26"
             ],
             [
              1,
              "#f0f921"
             ]
            ],
            "type": "heatmapgl"
           }
          ],
          "histogram": [
           {
            "marker": {
             "pattern": {
              "fillmode": "overlay",
              "size": 10,
              "solidity": 0.2
             }
            },
            "type": "histogram"
           }
          ],
          "histogram2d": [
           {
            "colorbar": {
             "outlinewidth": 0,
             "ticks": ""
            },
            "colorscale": [
             [
              0,
              "#0d0887"
             ],
             [
              0.1111111111111111,
              "#46039f"
             ],
             [
              0.2222222222222222,
              "#7201a8"
             ],
             [
              0.3333333333333333,
              "#9c179e"
             ],
             [
              0.4444444444444444,
              "#bd3786"
             ],
             [
              0.5555555555555556,
              "#d8576b"
             ],
             [
              0.6666666666666666,
              "#ed7953"
             ],
             [
              0.7777777777777778,
              "#fb9f3a"
             ],
             [
              0.8888888888888888,
              "#fdca26"
             ],
             [
              1,
              "#f0f921"
             ]
            ],
            "type": "histogram2d"
           }
          ],
          "histogram2dcontour": [
           {
            "colorbar": {
             "outlinewidth": 0,
             "ticks": ""
            },
            "colorscale": [
             [
              0,
              "#0d0887"
             ],
             [
              0.1111111111111111,
              "#46039f"
             ],
             [
              0.2222222222222222,
              "#7201a8"
             ],
             [
              0.3333333333333333,
              "#9c179e"
             ],
             [
              0.4444444444444444,
              "#bd3786"
             ],
             [
              0.5555555555555556,
              "#d8576b"
             ],
             [
              0.6666666666666666,
              "#ed7953"
             ],
             [
              0.7777777777777778,
              "#fb9f3a"
             ],
             [
              0.8888888888888888,
              "#fdca26"
             ],
             [
              1,
              "#f0f921"
             ]
            ],
            "type": "histogram2dcontour"
           }
          ],
          "mesh3d": [
           {
            "colorbar": {
             "outlinewidth": 0,
             "ticks": ""
            },
            "type": "mesh3d"
           }
          ],
          "parcoords": [
           {
            "line": {
             "colorbar": {
              "outlinewidth": 0,
              "ticks": ""
             }
            },
            "type": "parcoords"
           }
          ],
          "pie": [
           {
            "automargin": true,
            "type": "pie"
           }
          ],
          "scatter": [
           {
            "marker": {
             "colorbar": {
              "outlinewidth": 0,
              "ticks": ""
             }
            },
            "type": "scatter"
           }
          ],
          "scatter3d": [
           {
            "line": {
             "colorbar": {
              "outlinewidth": 0,
              "ticks": ""
             }
            },
            "marker": {
             "colorbar": {
              "outlinewidth": 0,
              "ticks": ""
             }
            },
            "type": "scatter3d"
           }
          ],
          "scattercarpet": [
           {
            "marker": {
             "colorbar": {
              "outlinewidth": 0,
              "ticks": ""
             }
            },
            "type": "scattercarpet"
           }
          ],
          "scattergeo": [
           {
            "marker": {
             "colorbar": {
              "outlinewidth": 0,
              "ticks": ""
             }
            },
            "type": "scattergeo"
           }
          ],
          "scattergl": [
           {
            "marker": {
             "colorbar": {
              "outlinewidth": 0,
              "ticks": ""
             }
            },
            "type": "scattergl"
           }
          ],
          "scattermapbox": [
           {
            "marker": {
             "colorbar": {
              "outlinewidth": 0,
              "ticks": ""
             }
            },
            "type": "scattermapbox"
           }
          ],
          "scatterpolar": [
           {
            "marker": {
             "colorbar": {
              "outlinewidth": 0,
              "ticks": ""
             }
            },
            "type": "scatterpolar"
           }
          ],
          "scatterpolargl": [
           {
            "marker": {
             "colorbar": {
              "outlinewidth": 0,
              "ticks": ""
             }
            },
            "type": "scatterpolargl"
           }
          ],
          "scatterternary": [
           {
            "marker": {
             "colorbar": {
              "outlinewidth": 0,
              "ticks": ""
             }
            },
            "type": "scatterternary"
           }
          ],
          "surface": [
           {
            "colorbar": {
             "outlinewidth": 0,
             "ticks": ""
            },
            "colorscale": [
             [
              0,
              "#0d0887"
             ],
             [
              0.1111111111111111,
              "#46039f"
             ],
             [
              0.2222222222222222,
              "#7201a8"
             ],
             [
              0.3333333333333333,
              "#9c179e"
             ],
             [
              0.4444444444444444,
              "#bd3786"
             ],
             [
              0.5555555555555556,
              "#d8576b"
             ],
             [
              0.6666666666666666,
              "#ed7953"
             ],
             [
              0.7777777777777778,
              "#fb9f3a"
             ],
             [
              0.8888888888888888,
              "#fdca26"
             ],
             [
              1,
              "#f0f921"
             ]
            ],
            "type": "surface"
           }
          ],
          "table": [
           {
            "cells": {
             "fill": {
              "color": "#EBF0F8"
             },
             "line": {
              "color": "white"
             }
            },
            "header": {
             "fill": {
              "color": "#C8D4E3"
             },
             "line": {
              "color": "white"
             }
            },
            "type": "table"
           }
          ]
         },
         "layout": {
          "annotationdefaults": {
           "arrowcolor": "#2a3f5f",
           "arrowhead": 0,
           "arrowwidth": 1
          },
          "autotypenumbers": "strict",
          "coloraxis": {
           "colorbar": {
            "outlinewidth": 0,
            "ticks": ""
           }
          },
          "colorscale": {
           "diverging": [
            [
             0,
             "#8e0152"
            ],
            [
             0.1,
             "#c51b7d"
            ],
            [
             0.2,
             "#de77ae"
            ],
            [
             0.3,
             "#f1b6da"
            ],
            [
             0.4,
             "#fde0ef"
            ],
            [
             0.5,
             "#f7f7f7"
            ],
            [
             0.6,
             "#e6f5d0"
            ],
            [
             0.7,
             "#b8e186"
            ],
            [
             0.8,
             "#7fbc41"
            ],
            [
             0.9,
             "#4d9221"
            ],
            [
             1,
             "#276419"
            ]
           ],
           "sequential": [
            [
             0,
             "#0d0887"
            ],
            [
             0.1111111111111111,
             "#46039f"
            ],
            [
             0.2222222222222222,
             "#7201a8"
            ],
            [
             0.3333333333333333,
             "#9c179e"
            ],
            [
             0.4444444444444444,
             "#bd3786"
            ],
            [
             0.5555555555555556,
             "#d8576b"
            ],
            [
             0.6666666666666666,
             "#ed7953"
            ],
            [
             0.7777777777777778,
             "#fb9f3a"
            ],
            [
             0.8888888888888888,
             "#fdca26"
            ],
            [
             1,
             "#f0f921"
            ]
           ],
           "sequentialminus": [
            [
             0,
             "#0d0887"
            ],
            [
             0.1111111111111111,
             "#46039f"
            ],
            [
             0.2222222222222222,
             "#7201a8"
            ],
            [
             0.3333333333333333,
             "#9c179e"
            ],
            [
             0.4444444444444444,
             "#bd3786"
            ],
            [
             0.5555555555555556,
             "#d8576b"
            ],
            [
             0.6666666666666666,
             "#ed7953"
            ],
            [
             0.7777777777777778,
             "#fb9f3a"
            ],
            [
             0.8888888888888888,
             "#fdca26"
            ],
            [
             1,
             "#f0f921"
            ]
           ]
          },
          "colorway": [
           "#636efa",
           "#EF553B",
           "#00cc96",
           "#ab63fa",
           "#FFA15A",
           "#19d3f3",
           "#FF6692",
           "#B6E880",
           "#FF97FF",
           "#FECB52"
          ],
          "font": {
           "color": "#2a3f5f"
          },
          "geo": {
           "bgcolor": "white",
           "lakecolor": "white",
           "landcolor": "#E5ECF6",
           "showlakes": true,
           "showland": true,
           "subunitcolor": "white"
          },
          "hoverlabel": {
           "align": "left"
          },
          "hovermode": "closest",
          "mapbox": {
           "style": "light"
          },
          "paper_bgcolor": "white",
          "plot_bgcolor": "#E5ECF6",
          "polar": {
           "angularaxis": {
            "gridcolor": "white",
            "linecolor": "white",
            "ticks": ""
           },
           "bgcolor": "#E5ECF6",
           "radialaxis": {
            "gridcolor": "white",
            "linecolor": "white",
            "ticks": ""
           }
          },
          "scene": {
           "xaxis": {
            "backgroundcolor": "#E5ECF6",
            "gridcolor": "white",
            "gridwidth": 2,
            "linecolor": "white",
            "showbackground": true,
            "ticks": "",
            "zerolinecolor": "white"
           },
           "yaxis": {
            "backgroundcolor": "#E5ECF6",
            "gridcolor": "white",
            "gridwidth": 2,
            "linecolor": "white",
            "showbackground": true,
            "ticks": "",
            "zerolinecolor": "white"
           },
           "zaxis": {
            "backgroundcolor": "#E5ECF6",
            "gridcolor": "white",
            "gridwidth": 2,
            "linecolor": "white",
            "showbackground": true,
            "ticks": "",
            "zerolinecolor": "white"
           }
          },
          "shapedefaults": {
           "line": {
            "color": "#2a3f5f"
           }
          },
          "ternary": {
           "aaxis": {
            "gridcolor": "white",
            "linecolor": "white",
            "ticks": ""
           },
           "baxis": {
            "gridcolor": "white",
            "linecolor": "white",
            "ticks": ""
           },
           "bgcolor": "#E5ECF6",
           "caxis": {
            "gridcolor": "white",
            "linecolor": "white",
            "ticks": ""
           }
          },
          "title": {
           "x": 0.05
          },
          "xaxis": {
           "automargin": true,
           "gridcolor": "white",
           "linecolor": "white",
           "ticks": "",
           "title": {
            "standoff": 15
           },
           "zerolinecolor": "white",
           "zerolinewidth": 2
          },
          "yaxis": {
           "automargin": true,
           "gridcolor": "white",
           "linecolor": "white",
           "ticks": "",
           "title": {
            "standoff": 15
           },
           "zerolinecolor": "white",
           "zerolinewidth": 2
          }
         }
        },
        "title": {
         "text": "Protein: G-protein coupled receptor 183 (P32249)"
        },
        "xaxis": {
         "anchor": "y",
         "domain": [
          0,
          1
         ],
         "title": {
          "text": "aminoacid position"
         }
        },
        "yaxis": {
         "anchor": "x",
         "domain": [
          0,
          1
         ],
         "title": {
          "text": "hydropathy"
         }
        }
       }
      }
     },
     "metadata": {},
     "output_type": "display_data"
    }
   ],
   "source": [
    "plot(df_GPCR183, metric = \"hydropathy\")"
   ]
  },
  {
   "cell_type": "markdown",
   "id": "hollow-banks",
   "metadata": {},
   "source": [
    "## E) What do you observe?\n",
    "Describe the pattern you see. What could be the reason for the pattern?"
   ]
  },
  {
   "cell_type": "markdown",
   "id": "17c4633b",
   "metadata": {},
   "source": [
    "Answer: There are about as many hydrophobic as hydrophilic aminoacids "
   ]
  },
  {
   "cell_type": "markdown",
   "id": "amazing-sweden",
   "metadata": {},
   "source": [
    "# Optional"
   ]
  },
  {
   "cell_type": "markdown",
   "id": "beautiful-sucking",
   "metadata": {},
   "source": [
    "### Retrieve sequence programmatically\n",
    "* Write a function that takes the uniprot identifier as kwarg and returns the sequence using\n",
    "    * the buffered sequence from e2\n",
    "    * using urllib\n",
    "    * using an alternative?\n",
    "\n",
    "### Plot annotations into the hydropathy plot\n",
    "* Plot protein topology features into the same plot \n"
   ]
  },
  {
   "cell_type": "markdown",
   "id": "9b9257d5",
   "metadata": {},
   "source": []
  },
  {
   "cell_type": "code",
   "execution_count": null,
   "id": "distinguished-better",
   "metadata": {},
   "outputs": [],
   "source": []
  }
 ],
 "metadata": {
  "interpreter": {
   "hash": "1db61796eef522af4c3bfa7a1992d331ca5efcfc6f3218f7d019c02f1fab5e13"
  },
  "kernelspec": {
   "display_name": "Python 3.7.9 64-bit ('.venv': venv)",
   "name": "python3"
  },
  "language_info": {
   "codemirror_mode": {
    "name": "ipython",
    "version": 3
   },
   "file_extension": ".py",
   "mimetype": "text/x-python",
   "name": "python",
   "nbconvert_exporter": "python",
   "pygments_lexer": "ipython3",
   "version": "3.8.9"
  }
 },
 "nbformat": 4,
 "nbformat_minor": 5
}
