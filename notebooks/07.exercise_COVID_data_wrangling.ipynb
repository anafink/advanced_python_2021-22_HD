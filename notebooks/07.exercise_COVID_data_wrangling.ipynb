{
 "cells": [
  {
   "cell_type": "code",
   "execution_count": 1,
   "id": "fatty-phone",
   "metadata": {},
   "outputs": [
    {
     "data": {
      "text/markdown": [
       "# Advanced Python Course \n",
       "## Mobi Heidelberg WS 2021/22\n",
       "### by Christian Fufezan \n",
       "\n",
       "christian@fufezan.net\n",
       "\n",
       "https://fufezan.net\n",
       "\n",
       "<img src=\"./images/cc.png\" alt=\"drawing\" width=\"200\" style=\"float: left;\"/>\n"
      ],
      "text/plain": [
       "<IPython.core.display.Markdown object>"
      ]
     },
     "metadata": {},
     "output_type": "display_data"
    }
   ],
   "source": [
    "import course;course.header()\n",
    "import pandas as pd\n"
   ]
  },
  {
   "cell_type": "markdown",
   "id": "smoking-rebecca",
   "metadata": {},
   "source": [
    "# Retrieve COVID data from ECDC "
   ]
  },
  {
   "cell_type": "code",
   "execution_count": 2,
   "id": "oriented-shadow",
   "metadata": {},
   "outputs": [],
   "source": [
    "covid_url = \"https://opendata.ecdc.europa.eu/covid19/casedistribution/json/\"\n",
    "import ssl\n",
    "ssl._create_default_https_context = ssl._create_unverified_context\n",
    "import json\n",
    "import urllib"
   ]
  },
  {
   "cell_type": "code",
   "execution_count": 3,
   "id": "informative-average",
   "metadata": {},
   "outputs": [],
   "source": [
    "covid_json_unformated = urllib.request.urlopen(covid_url).read().decode(\"utf-8\")\n",
    "covid_json = json.loads(covid_json_unformated)\n",
    "cdf = pd.DataFrame(covid_json['records'])"
   ]
  },
  {
   "cell_type": "code",
   "execution_count": 4,
   "id": "known-martial",
   "metadata": {},
   "outputs": [
    {
     "data": {
      "text/html": [
       "<div>\n",
       "<style scoped>\n",
       "    .dataframe tbody tr th:only-of-type {\n",
       "        vertical-align: middle;\n",
       "    }\n",
       "\n",
       "    .dataframe tbody tr th {\n",
       "        vertical-align: top;\n",
       "    }\n",
       "\n",
       "    .dataframe thead th {\n",
       "        text-align: right;\n",
       "    }\n",
       "</style>\n",
       "<table border=\"1\" class=\"dataframe\">\n",
       "  <thead>\n",
       "    <tr style=\"text-align: right;\">\n",
       "      <th></th>\n",
       "      <th>dateRep</th>\n",
       "      <th>day</th>\n",
       "      <th>month</th>\n",
       "      <th>year</th>\n",
       "      <th>cases</th>\n",
       "      <th>deaths</th>\n",
       "      <th>countriesAndTerritories</th>\n",
       "      <th>geoId</th>\n",
       "      <th>countryterritoryCode</th>\n",
       "      <th>popData2019</th>\n",
       "      <th>continentExp</th>\n",
       "      <th>Cumulative_number_for_14_days_of_COVID-19_cases_per_100000</th>\n",
       "    </tr>\n",
       "  </thead>\n",
       "  <tbody>\n",
       "    <tr>\n",
       "      <th>60396</th>\n",
       "      <td>30/05/2020</td>\n",
       "      <td>30</td>\n",
       "      <td>05</td>\n",
       "      <td>2020</td>\n",
       "      <td>42</td>\n",
       "      <td>3</td>\n",
       "      <td>Venezuela</td>\n",
       "      <td>VE</td>\n",
       "      <td>VEN</td>\n",
       "      <td>28515829.0</td>\n",
       "      <td>America</td>\n",
       "      <td>3.19121005</td>\n",
       "    </tr>\n",
       "    <tr>\n",
       "      <th>32439</th>\n",
       "      <td>30/08/2020</td>\n",
       "      <td>30</td>\n",
       "      <td>08</td>\n",
       "      <td>2020</td>\n",
       "      <td>0</td>\n",
       "      <td>0</td>\n",
       "      <td>Latvia</td>\n",
       "      <td>LV</td>\n",
       "      <td>LVA</td>\n",
       "      <td>1919968.0</td>\n",
       "      <td>Europe</td>\n",
       "      <td>3.12505208</td>\n",
       "    </tr>\n",
       "    <tr>\n",
       "      <th>49266</th>\n",
       "      <td>10/11/2020</td>\n",
       "      <td>10</td>\n",
       "      <td>11</td>\n",
       "      <td>2020</td>\n",
       "      <td>3</td>\n",
       "      <td>0</td>\n",
       "      <td>Senegal</td>\n",
       "      <td>SN</td>\n",
       "      <td>SEN</td>\n",
       "      <td>16296362.0</td>\n",
       "      <td>Africa</td>\n",
       "      <td>0.89590548</td>\n",
       "    </tr>\n",
       "    <tr>\n",
       "      <th>41593</th>\n",
       "      <td>13/06/2020</td>\n",
       "      <td>13</td>\n",
       "      <td>06</td>\n",
       "      <td>2020</td>\n",
       "      <td>4</td>\n",
       "      <td>0</td>\n",
       "      <td>Niger</td>\n",
       "      <td>NE</td>\n",
       "      <td>NER</td>\n",
       "      <td>23310719.0</td>\n",
       "      <td>Africa</td>\n",
       "      <td>0.09866706</td>\n",
       "    </tr>\n",
       "    <tr>\n",
       "      <th>56051</th>\n",
       "      <td>24/05/2020</td>\n",
       "      <td>24</td>\n",
       "      <td>05</td>\n",
       "      <td>2020</td>\n",
       "      <td>0</td>\n",
       "      <td>0</td>\n",
       "      <td>Timor_Leste</td>\n",
       "      <td>TL</td>\n",
       "      <td>TLS</td>\n",
       "      <td>1293120.0</td>\n",
       "      <td>Asia</td>\n",
       "      <td>0</td>\n",
       "    </tr>\n",
       "    <tr>\n",
       "      <th>27181</th>\n",
       "      <td>18/09/2020</td>\n",
       "      <td>18</td>\n",
       "      <td>09</td>\n",
       "      <td>2020</td>\n",
       "      <td>3635</td>\n",
       "      <td>122</td>\n",
       "      <td>Indonesia</td>\n",
       "      <td>ID</td>\n",
       "      <td>IDN</td>\n",
       "      <td>270625567.0</td>\n",
       "      <td>Asia</td>\n",
       "      <td>17.86970852</td>\n",
       "    </tr>\n",
       "    <tr>\n",
       "      <th>20649</th>\n",
       "      <td>04/03/2020</td>\n",
       "      <td>04</td>\n",
       "      <td>03</td>\n",
       "      <td>2020</td>\n",
       "      <td>34</td>\n",
       "      <td>1</td>\n",
       "      <td>France</td>\n",
       "      <td>FR</td>\n",
       "      <td>FRA</td>\n",
       "      <td>67012883.0</td>\n",
       "      <td>Europe</td>\n",
       "      <td>0.29845008</td>\n",
       "    </tr>\n",
       "    <tr>\n",
       "      <th>59411</th>\n",
       "      <td>15/10/2020</td>\n",
       "      <td>15</td>\n",
       "      <td>10</td>\n",
       "      <td>2020</td>\n",
       "      <td>0</td>\n",
       "      <td>0</td>\n",
       "      <td>United_States_Virgin_Islands</td>\n",
       "      <td>VI</td>\n",
       "      <td>VIR</td>\n",
       "      <td>104579.0</td>\n",
       "      <td>America</td>\n",
       "      <td>9.56214919</td>\n",
       "    </tr>\n",
       "    <tr>\n",
       "      <th>18294</th>\n",
       "      <td>09/04/2020</td>\n",
       "      <td>09</td>\n",
       "      <td>04</td>\n",
       "      <td>2020</td>\n",
       "      <td>2</td>\n",
       "      <td>0</td>\n",
       "      <td>Eritrea</td>\n",
       "      <td>ER</td>\n",
       "      <td>ERI</td>\n",
       "      <td>3497117.0</td>\n",
       "      <td>Africa</td>\n",
       "      <td>0.8292545</td>\n",
       "    </tr>\n",
       "    <tr>\n",
       "      <th>14825</th>\n",
       "      <td>16/07/2020</td>\n",
       "      <td>16</td>\n",
       "      <td>07</td>\n",
       "      <td>2020</td>\n",
       "      <td>1</td>\n",
       "      <td>0</td>\n",
       "      <td>Cyprus</td>\n",
       "      <td>CY</td>\n",
       "      <td>CYP</td>\n",
       "      <td>875899.0</td>\n",
       "      <td>Europe</td>\n",
       "      <td>2.74004195</td>\n",
       "    </tr>\n",
       "  </tbody>\n",
       "</table>\n",
       "</div>"
      ],
      "text/plain": [
       "          dateRep day month  year  cases  deaths  \\\n",
       "60396  30/05/2020  30    05  2020     42       3   \n",
       "32439  30/08/2020  30    08  2020      0       0   \n",
       "49266  10/11/2020  10    11  2020      3       0   \n",
       "41593  13/06/2020  13    06  2020      4       0   \n",
       "56051  24/05/2020  24    05  2020      0       0   \n",
       "27181  18/09/2020  18    09  2020   3635     122   \n",
       "20649  04/03/2020  04    03  2020     34       1   \n",
       "59411  15/10/2020  15    10  2020      0       0   \n",
       "18294  09/04/2020  09    04  2020      2       0   \n",
       "14825  16/07/2020  16    07  2020      1       0   \n",
       "\n",
       "            countriesAndTerritories geoId countryterritoryCode  popData2019  \\\n",
       "60396                     Venezuela    VE                  VEN   28515829.0   \n",
       "32439                        Latvia    LV                  LVA    1919968.0   \n",
       "49266                       Senegal    SN                  SEN   16296362.0   \n",
       "41593                         Niger    NE                  NER   23310719.0   \n",
       "56051                   Timor_Leste    TL                  TLS    1293120.0   \n",
       "27181                     Indonesia    ID                  IDN  270625567.0   \n",
       "20649                        France    FR                  FRA   67012883.0   \n",
       "59411  United_States_Virgin_Islands    VI                  VIR     104579.0   \n",
       "18294                       Eritrea    ER                  ERI    3497117.0   \n",
       "14825                        Cyprus    CY                  CYP     875899.0   \n",
       "\n",
       "      continentExp Cumulative_number_for_14_days_of_COVID-19_cases_per_100000  \n",
       "60396      America                                         3.19121005          \n",
       "32439       Europe                                         3.12505208          \n",
       "49266       Africa                                         0.89590548          \n",
       "41593       Africa                                         0.09866706          \n",
       "56051         Asia                                                  0          \n",
       "27181         Asia                                        17.86970852          \n",
       "20649       Europe                                         0.29845008          \n",
       "59411      America                                         9.56214919          \n",
       "18294       Africa                                          0.8292545          \n",
       "14825       Europe                                         2.74004195          "
      ]
     },
     "execution_count": 4,
     "metadata": {},
     "output_type": "execute_result"
    }
   ],
   "source": [
    "cdf.sample(10)"
   ]
  },
  {
   "cell_type": "code",
   "execution_count": 5,
   "id": "33e7db05",
   "metadata": {},
   "outputs": [
    {
     "data": {
      "text/plain": [
       "(61900, 12)"
      ]
     },
     "execution_count": 5,
     "metadata": {},
     "output_type": "execute_result"
    }
   ],
   "source": [
    "cdf.shape"
   ]
  },
  {
   "cell_type": "markdown",
   "id": "angry-labor",
   "metadata": {},
   "source": [
    "Rename columns to something more Pythonian. If you think they look already great, then at least rename `notification_rate_per_100000_population_14-days` to `14d-incidence`"
   ]
  },
  {
   "cell_type": "markdown",
   "id": "intense-prince",
   "metadata": {},
   "source": [
    "Identify which columns have not been casted to an appropriate type during loading!"
   ]
  },
  {
   "cell_type": "markdown",
   "id": "listed-underground",
   "metadata": {},
   "source": [
    "We did not cover datetime objects in pandas, however they are quite powerful!\n",
    "\n",
    "Try:"
   ]
  },
  {
   "cell_type": "code",
   "execution_count": null,
   "id": "corresponding-spread",
   "metadata": {},
   "outputs": [],
   "source": [
    "cdf['date_reported'] = pd.to_datetime(cdf['dateRep'])"
   ]
  },
  {
   "cell_type": "markdown",
   "id": "powerful-filter",
   "metadata": {},
   "source": [
    "Now you can treat the column as a datetime objects using `df[col].dt` , e.g. https://docs.python.org/3/library/datetime.html#datetime.date.year"
   ]
  },
  {
   "cell_type": "code",
   "execution_count": null,
   "id": "scheduled-majority",
   "metadata": {},
   "outputs": [],
   "source": [
    "cdf['date_reported'].dt.day.head()"
   ]
  },
  {
   "cell_type": "markdown",
   "id": "southeast-collection",
   "metadata": {},
   "source": [
    "Create a new column `deltaTime_since_start_of_recording`"
   ]
  },
  {
   "cell_type": "markdown",
   "id": "proprietary-silver",
   "metadata": {},
   "source": [
    "Create histograms for different columns or describe the df. Can you spot the inconsistency in the data? Fix it! :)"
   ]
  },
  {
   "cell_type": "markdown",
   "id": "regulated-harmony",
   "metadata": {},
   "source": [
    "Identify those countries (grouped by continent) which showed the most drastic increase most drastic and decrease of the `14d-incidence` within the different years since recording. Visualize intuitively!"
   ]
  },
  {
   "cell_type": "markdown",
   "id": "injured-asset",
   "metadata": {},
   "source": [
    "Which country showed the highest/lowest fluctuation in `14d-incidence` within a year?"
   ]
  },
  {
   "cell_type": "markdown",
   "id": "nervous-seeker",
   "metadata": {},
   "source": [
    "Create a line plot showing the `14-incidence` for all European countries. Use `groupby` operation to generate the data list for the plotly plot. "
   ]
  },
  {
   "cell_type": "markdown",
   "id": "changing-gasoline",
   "metadata": {},
   "source": [
    "Create a smoothed version of the `14d-incidence` by averaging 3 months."
   ]
  },
  {
   "cell_type": "markdown",
   "id": "neural-olive",
   "metadata": {},
   "source": [
    "Create a radial plot of death rate / 100000 people (see popData2019), where one year completes a circle, i.e. 360˚. Visualize the recored years for Italy, Germany, Sweden and Greece. Hint you might need to turn the dateTime into `day within the year` (%j) and adjust 365 to 360 degrees. "
   ]
  },
  {
   "cell_type": "markdown",
   "id": "technical-vaccine",
   "metadata": {},
   "source": [
    "Optional: Find \"regular\" mortality rates for those countries and visualize it in the plot as well."
   ]
  },
  {
   "cell_type": "code",
   "execution_count": null,
   "id": "significant-marks",
   "metadata": {},
   "outputs": [],
   "source": []
  }
 ],
 "metadata": {
  "kernelspec": {
   "display_name": "Python 3",
   "language": "python",
   "name": "python3"
  },
  "language_info": {
   "codemirror_mode": {
    "name": "ipython",
    "version": 3
   },
   "file_extension": ".py",
   "mimetype": "text/x-python",
   "name": "python",
   "nbconvert_exporter": "python",
   "pygments_lexer": "ipython3",
   "version": "3.8.9"
  }
 },
 "nbformat": 4,
 "nbformat_minor": 5
}
