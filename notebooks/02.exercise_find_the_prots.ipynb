{
 "cells": [
  {
   "cell_type": "code",
   "execution_count": 74,
   "id": "assured-consolidation",
   "metadata": {},
   "outputs": [
    {
     "ename": "ModuleNotFoundError",
     "evalue": "No module named 'pandas'",
     "output_type": "error",
     "traceback": [
      "\u001b[0;31m---------------------------------------------------------------------------\u001b[0m",
      "\u001b[0;31mModuleNotFoundError\u001b[0m                       Traceback (most recent call last)",
      "\u001b[0;32m/var/folders/vt/szjx9jz17v3fmxv01s8bfkg40000gn/T/ipykernel_36171/1577301295.py\u001b[0m in \u001b[0;36m<module>\u001b[0;34m\u001b[0m\n\u001b[0;32m----> 1\u001b[0;31m \u001b[0;32mimport\u001b[0m \u001b[0mcourse\u001b[0m\u001b[0;34m;\u001b[0m\u001b[0mcourse\u001b[0m\u001b[0;34m.\u001b[0m\u001b[0mheader\u001b[0m\u001b[0;34m(\u001b[0m\u001b[0;34m)\u001b[0m\u001b[0;34m\u001b[0m\u001b[0;34m\u001b[0m\u001b[0m\n\u001b[0m",
      "\u001b[0;32m~/OneDrive - bwedu/Bachelor MoBi/5. Fachsemester/Python Praktikum/advanced_python_2021-22_HD/notebooks/course.py\u001b[0m in \u001b[0;36m<module>\u001b[0;34m\u001b[0m\n\u001b[0;32m----> 1\u001b[0;31m \u001b[0;32mimport\u001b[0m \u001b[0mpandas\u001b[0m \u001b[0;32mas\u001b[0m \u001b[0mpd\u001b[0m\u001b[0;34m\u001b[0m\u001b[0;34m\u001b[0m\u001b[0m\n\u001b[0m\u001b[1;32m      2\u001b[0m \u001b[0;32mimport\u001b[0m \u001b[0mos\u001b[0m\u001b[0;34m\u001b[0m\u001b[0;34m\u001b[0m\u001b[0m\n\u001b[1;32m      3\u001b[0m \u001b[0;32mfrom\u001b[0m \u001b[0mIPython\u001b[0m\u001b[0;34m.\u001b[0m\u001b[0mcore\u001b[0m\u001b[0;34m.\u001b[0m\u001b[0mmagic\u001b[0m \u001b[0;32mimport\u001b[0m \u001b[0mregister_cell_magic\u001b[0m\u001b[0;34m\u001b[0m\u001b[0;34m\u001b[0m\u001b[0m\n\u001b[1;32m      4\u001b[0m \u001b[0;32mfrom\u001b[0m \u001b[0mIPython\u001b[0m\u001b[0;34m.\u001b[0m\u001b[0mdisplay\u001b[0m \u001b[0;32mimport\u001b[0m \u001b[0mHTML\u001b[0m\u001b[0;34m,\u001b[0m \u001b[0mdisplay\u001b[0m\u001b[0;34m\u001b[0m\u001b[0;34m\u001b[0m\u001b[0m\n\u001b[1;32m      5\u001b[0m \u001b[0;34m\u001b[0m\u001b[0m\n",
      "\u001b[0;31mModuleNotFoundError\u001b[0m: No module named 'pandas'"
     ]
    }
   ],
   "source": [
    "import course;course.header()"
   ]
  },
  {
   "cell_type": "markdown",
   "id": "chronic-criticism",
   "metadata": {
    "slideshow": {
     "slide_type": "slide"
    }
   },
   "source": [
    "# Excersise No. 1\n",
    "\n",
    "## Count Amino acid propensity in human proteome\n",
    "\n",
    "Got to Uniprot and download the latests [here](https://www.uniprot.org/uniprot/?query=*&fil=organism%3A%22Homo+sapiens+%28Human%29+%5B9606%5D%22+AND+reviewed%3Ayes#)\n",
    "\n",
    "The file containes protein sequences in FASTA format, i.e.\n",
    "```txt\n",
    "> (( Identifier line ))\n",
    "(( Amino acid Sequence, can stretch over multiple lines ))\n",
    "> (( next identifier line ))\n",
    "```\n",
    "\n",
    "Write a function that takes two arguments, \n",
    " * a path to the a fasta database and  \n",
    " * an output file name.\n",
    "\n",
    "The function should do the following:\n",
    " * parses the input fasta file \n",
    " * counts the amino acid frequency and \n",
    " * write a csv output file that looks like \n",
    "\n",
    "```\n",
    "aa, count\n",
    "A, 123123123\n",
    "C, 3213\n",
    "D, ...\n",
    "```"
   ]
  },
  {
   "cell_type": "markdown",
   "id": "municipal-general",
   "metadata": {},
   "source": [
    "## Plot a histogram for human\n",
    "Use the dictionary created in a) to plot a histogram using your favorit lib\n",
    "\n",
    "Create a standalone script that will plot the histogram\n",
    "```bash\n",
    "$ ./plot_aa_histogram.py \"uniprot-filtered-proteome%3AUP000005640+AND+reviewed%3Ayes+AND+organism%3A%22Hom--.fasta\"\n",
    "```"
   ]
  },
  {
   "cell_type": "markdown",
   "id": "plastic-salem",
   "metadata": {},
   "source": []
  },
  {
   "cell_type": "markdown",
   "id": "4096c429",
   "metadata": {},
   "source": [
    "## Rinse and repeat \n",
    "Repeat counting and plotting for at leat one organism of the following kingdoms of life:\n",
    "* Bacteria\n",
    "* Archea \n",
    "* Plantae\n",
    "* Animalia"
   ]
  },
  {
   "cell_type": "markdown",
   "id": "greek-strength",
   "metadata": {},
   "source": [
    "Are there difference? "
   ]
  },
  {
   "cell_type": "markdown",
   "id": "analyzed-partner",
   "metadata": {},
   "source": [
    "# Find special proteins"
   ]
  },
  {
   "cell_type": "markdown",
   "id": "comprehensive-coaching",
   "metadata": {},
   "source": [
    "Find the most extreme proteins\n",
    "* lowest / highest pI\n",
    "* longest / shortest proteins\n",
    "* highest density [mass / amino acid counts]\n",
    "* most hydrophobic, hydrophic \n"
   ]
  },
  {
   "cell_type": "code",
   "execution_count": 3,
   "id": "prepared-finland",
   "metadata": {},
   "outputs": [],
   "source": [
    "path = \"/Users/anafink/OneDrive - bwedu/Bachelor MoBi/5. Fachsemester/Python Praktikum/uniprot-filtered-organism__Homo+sapiens+(Human)+[9606]_+AND+review--.fasta\"\n",
    "fasta = []\n",
    "newfasta = []\n",
    "with open(path) as f:\n",
    "    for line in f:\n",
    "        fasta.append(line)\n",
    "\n",
    "for pos, seq in enumerate(fasta):\n",
    "    if seq[0] == \">\":\n",
    "        fasta.pop(pos)\n",
    "    \n",
    "newfasta = [x[:-1] for x in fasta]\n",
    "\n"
   ]
  },
  {
   "cell_type": "code",
   "execution_count": 4,
   "id": "e8087aa0",
   "metadata": {},
   "outputs": [],
   "source": [
    "from collections import Counter\n",
    "fastastr = \"\"\n",
    "fastastr = ''.join(newfasta)\n"
   ]
  },
  {
   "cell_type": "code",
   "execution_count": 7,
   "id": "290df093",
   "metadata": {},
   "outputs": [
    {
     "name": "stdout",
     "output_type": "stream",
     "text": [
      "Counter({'L': 1132151, 'S': 946345, 'E': 807016, 'A': 796830, 'G': 746947, 'P': 717583, 'V': 677832, 'K': 651322, 'R': 640498, 'T': 608033, 'Q': 541826, 'D': 538303, 'I': 492950, 'F': 414755, 'N': 407911, 'Y': 302756, 'H': 297933, 'C': 261479, 'M': 242299, 'W': 138162, 'U': 36})\n"
     ]
    }
   ],
   "source": [
    "fastac = {}\n",
    "fastac = Counter(fastastr)\n",
    "print(fastac)\n",
    "\n"
   ]
  },
  {
   "cell_type": "code",
   "execution_count": 8,
   "id": "819ae048",
   "metadata": {},
   "outputs": [],
   "source": [
    "with open(\"fastacount.csv\", \"w\") as output:\n",
    "    output.write(str(\"aa, count \\n\"))\n",
    "    for  aa, num in Counter(fastastr).items():\n",
    "        output.write(str(str(aa) + \", \" + str(num) + \"\\n\"))"
   ]
  },
  {
   "cell_type": "code",
   "execution_count": 9,
   "id": "943ce08a",
   "metadata": {},
   "outputs": [],
   "source": [
    "import matplotlib.pyplot as plt"
   ]
  },
  {
   "cell_type": "code",
   "execution_count": 14,
   "id": "658a0cf6",
   "metadata": {},
   "outputs": [
    {
     "data": {
      "text/plain": [
       "<BarContainer object of 21 artists>"
      ]
     },
     "execution_count": 14,
     "metadata": {},
     "output_type": "execute_result"
    },
    {
     "data": {
      "image/png": "[encoded data removed]",
      "text/plain": [
       "<Figure size 1080x360 with 1 Axes>"
      ]
     },
     "metadata": {
      "needs_background": "light"
     },
     "output_type": "display_data"
    }
   ],
   "source": [
    "plt.figure(figsize=(15,5))\n",
    "plt.bar(fastac.keys(), fastac.values(), width=.5, color='g', align=\"center\")"
   ]
  }
 ],
 "metadata": {
  "interpreter": {
   "hash": "2ade816e66443935280e5e219ac7556cd7d6953df572d910affd836bc1933d6b"
  },
  "kernelspec": {
   "display_name": "Python 3.9.1 64-bit ('.venv': venv)",
   "name": "python3"
  },
  "language_info": {
   "codemirror_mode": {
    "name": "ipython",
    "version": 3
   },
   "file_extension": ".py",
   "mimetype": "text/x-python",
   "name": "python",
   "nbconvert_exporter": "python",
   "pygments_lexer": "ipython3",
   "version": "3.8.9"
  }
 },
 "nbformat": 4,
 "nbformat_minor": 5
}
